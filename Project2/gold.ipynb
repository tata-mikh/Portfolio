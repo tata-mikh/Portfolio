{
 "cells": [
  {
   "cell_type": "markdown",
   "metadata": {
    "toc": true
   },
   "source": [
    "<h1>Содержание<span class=\"tocSkip\"></span></h1>\n",
    "<div class=\"toc\"><ul class=\"toc-item\"><li><span><a href=\"#Подготовка-данных\" data-toc-modified-id=\"Подготовка-данных-1\"><span class=\"toc-item-num\">1&nbsp;&nbsp;</span>Подготовка данных</a></span></li><li><span><a href=\"#Анализ-данных\" data-toc-modified-id=\"Анализ-данных-2\"><span class=\"toc-item-num\">2&nbsp;&nbsp;</span>Анализ данных</a></span></li><li><span><a href=\"#Модель\" data-toc-modified-id=\"Модель-3\"><span class=\"toc-item-num\">3&nbsp;&nbsp;</span>Модель</a></span></li></ul></div>"
   ]
  },
  {
   "cell_type": "markdown",
   "metadata": {},
   "source": [
    "# Восстановление золота из руды"
   ]
  },
  {
   "cell_type": "markdown",
   "metadata": {},
   "source": [
    "Подготовим прототип модели машинного обучения для «Цифры». Компания разрабатывает решения для эффективной работы промышленных предприятий.\n",
    "\n",
    "Модель должна предсказать коэффициент восстановления золота из золотосодержащей руды. Используем данные с параметрами добычи и очистки. \n",
    "\n",
    "Модель поможет оптимизировать производство, чтобы не запускать предприятие с убыточными характеристиками.\n",
    "\n",
    "Нам нужно:\n",
    "\n",
    "1. Подготовить данные;\n",
    "2. Провести исследовательский анализ данных;\n",
    "3. Построить и обучить модель."
   ]
  },
  {
   "cell_type": "markdown",
   "metadata": {},
   "source": [
    "## Подготовка данных"
   ]
  },
  {
   "cell_type": "code",
   "execution_count": 1,
   "metadata": {},
   "outputs": [],
   "source": [
    "import pandas as pd\n",
    "import matplotlib.pyplot as plt\n",
    "import numpy as np\n",
    "import seaborn as sns\n",
    "from sklearn.metrics import mean_absolute_error\n",
    "from sklearn.preprocessing import StandardScaler\n",
    "from sklearn.ensemble import RandomForestRegressor\n",
    "from sklearn.linear_model import LinearRegression\n",
    "from sklearn.model_selection import cross_val_score\n",
    "from sklearn.metrics import make_scorer\n",
    "from sklearn.model_selection import GridSearchCV\n",
    "from sklearn.dummy import DummyRegressor\n",
    "\n",
    "pd.options.mode.chained_assignment = None\n",
    "\n",
    "import warnings\n",
    "\n",
    "warnings.filterwarnings('ignore')"
   ]
  },
  {
   "cell_type": "code",
   "execution_count": 2,
   "metadata": {},
   "outputs": [],
   "source": [
    "df_full = pd.read_csv('/datasets/gold_recovery_full_new.csv')\n",
    "df_train = pd.read_csv('/datasets/gold_recovery_train_new.csv')\n",
    "df_test = pd.read_csv('/datasets/gold_recovery_test_new.csv')"
   ]
  },
  {
   "cell_type": "code",
   "execution_count": 3,
   "metadata": {
    "scrolled": true
   },
   "outputs": [
    {
     "data": {
      "text/html": [
       "<div>\n",
       "<style scoped>\n",
       "    .dataframe tbody tr th:only-of-type {\n",
       "        vertical-align: middle;\n",
       "    }\n",
       "\n",
       "    .dataframe tbody tr th {\n",
       "        vertical-align: top;\n",
       "    }\n",
       "\n",
       "    .dataframe thead th {\n",
       "        text-align: right;\n",
       "    }\n",
       "</style>\n",
       "<table border=\"1\" class=\"dataframe\">\n",
       "  <thead>\n",
       "    <tr style=\"text-align: right;\">\n",
       "      <th></th>\n",
       "      <th>date</th>\n",
       "      <th>final.output.concentrate_ag</th>\n",
       "      <th>final.output.concentrate_pb</th>\n",
       "      <th>final.output.concentrate_sol</th>\n",
       "      <th>final.output.concentrate_au</th>\n",
       "      <th>final.output.recovery</th>\n",
       "      <th>final.output.tail_ag</th>\n",
       "      <th>final.output.tail_pb</th>\n",
       "      <th>final.output.tail_sol</th>\n",
       "      <th>final.output.tail_au</th>\n",
       "      <th>...</th>\n",
       "      <th>secondary_cleaner.state.floatbank4_a_air</th>\n",
       "      <th>secondary_cleaner.state.floatbank4_a_level</th>\n",
       "      <th>secondary_cleaner.state.floatbank4_b_air</th>\n",
       "      <th>secondary_cleaner.state.floatbank4_b_level</th>\n",
       "      <th>secondary_cleaner.state.floatbank5_a_air</th>\n",
       "      <th>secondary_cleaner.state.floatbank5_a_level</th>\n",
       "      <th>secondary_cleaner.state.floatbank5_b_air</th>\n",
       "      <th>secondary_cleaner.state.floatbank5_b_level</th>\n",
       "      <th>secondary_cleaner.state.floatbank6_a_air</th>\n",
       "      <th>secondary_cleaner.state.floatbank6_a_level</th>\n",
       "    </tr>\n",
       "  </thead>\n",
       "  <tbody>\n",
       "    <tr>\n",
       "      <th>0</th>\n",
       "      <td>2016-01-15 00:00:00</td>\n",
       "      <td>6.055403</td>\n",
       "      <td>9.889648</td>\n",
       "      <td>5.507324</td>\n",
       "      <td>42.192020</td>\n",
       "      <td>70.541216</td>\n",
       "      <td>10.411962</td>\n",
       "      <td>0.895447</td>\n",
       "      <td>16.904297</td>\n",
       "      <td>2.143149</td>\n",
       "      <td>...</td>\n",
       "      <td>14.016835</td>\n",
       "      <td>-502.488007</td>\n",
       "      <td>12.099931</td>\n",
       "      <td>-504.715942</td>\n",
       "      <td>9.925633</td>\n",
       "      <td>-498.310211</td>\n",
       "      <td>8.079666</td>\n",
       "      <td>-500.470978</td>\n",
       "      <td>14.151341</td>\n",
       "      <td>-605.841980</td>\n",
       "    </tr>\n",
       "    <tr>\n",
       "      <th>1</th>\n",
       "      <td>2016-01-15 01:00:00</td>\n",
       "      <td>6.029369</td>\n",
       "      <td>9.968944</td>\n",
       "      <td>5.257781</td>\n",
       "      <td>42.701629</td>\n",
       "      <td>69.266198</td>\n",
       "      <td>10.462676</td>\n",
       "      <td>0.927452</td>\n",
       "      <td>16.634514</td>\n",
       "      <td>2.224930</td>\n",
       "      <td>...</td>\n",
       "      <td>13.992281</td>\n",
       "      <td>-505.503262</td>\n",
       "      <td>11.950531</td>\n",
       "      <td>-501.331529</td>\n",
       "      <td>10.039245</td>\n",
       "      <td>-500.169983</td>\n",
       "      <td>7.984757</td>\n",
       "      <td>-500.582168</td>\n",
       "      <td>13.998353</td>\n",
       "      <td>-599.787184</td>\n",
       "    </tr>\n",
       "    <tr>\n",
       "      <th>2</th>\n",
       "      <td>2016-01-15 02:00:00</td>\n",
       "      <td>6.055926</td>\n",
       "      <td>10.213995</td>\n",
       "      <td>5.383759</td>\n",
       "      <td>42.657501</td>\n",
       "      <td>68.116445</td>\n",
       "      <td>10.507046</td>\n",
       "      <td>0.953716</td>\n",
       "      <td>16.208849</td>\n",
       "      <td>2.257889</td>\n",
       "      <td>...</td>\n",
       "      <td>14.015015</td>\n",
       "      <td>-502.520901</td>\n",
       "      <td>11.912783</td>\n",
       "      <td>-501.133383</td>\n",
       "      <td>10.070913</td>\n",
       "      <td>-500.129135</td>\n",
       "      <td>8.013877</td>\n",
       "      <td>-500.517572</td>\n",
       "      <td>14.028663</td>\n",
       "      <td>-601.427363</td>\n",
       "    </tr>\n",
       "    <tr>\n",
       "      <th>3</th>\n",
       "      <td>2016-01-15 03:00:00</td>\n",
       "      <td>6.047977</td>\n",
       "      <td>9.977019</td>\n",
       "      <td>4.858634</td>\n",
       "      <td>42.689819</td>\n",
       "      <td>68.347543</td>\n",
       "      <td>10.422762</td>\n",
       "      <td>0.883763</td>\n",
       "      <td>16.532835</td>\n",
       "      <td>2.146849</td>\n",
       "      <td>...</td>\n",
       "      <td>14.036510</td>\n",
       "      <td>-500.857308</td>\n",
       "      <td>11.999550</td>\n",
       "      <td>-501.193686</td>\n",
       "      <td>9.970366</td>\n",
       "      <td>-499.201640</td>\n",
       "      <td>7.977324</td>\n",
       "      <td>-500.255908</td>\n",
       "      <td>14.005551</td>\n",
       "      <td>-599.996129</td>\n",
       "    </tr>\n",
       "    <tr>\n",
       "      <th>4</th>\n",
       "      <td>2016-01-15 04:00:00</td>\n",
       "      <td>6.148599</td>\n",
       "      <td>10.142511</td>\n",
       "      <td>4.939416</td>\n",
       "      <td>42.774141</td>\n",
       "      <td>66.927016</td>\n",
       "      <td>10.360302</td>\n",
       "      <td>0.792826</td>\n",
       "      <td>16.525686</td>\n",
       "      <td>2.055292</td>\n",
       "      <td>...</td>\n",
       "      <td>14.027298</td>\n",
       "      <td>-499.838632</td>\n",
       "      <td>11.953070</td>\n",
       "      <td>-501.053894</td>\n",
       "      <td>9.925709</td>\n",
       "      <td>-501.686727</td>\n",
       "      <td>7.894242</td>\n",
       "      <td>-500.356035</td>\n",
       "      <td>13.996647</td>\n",
       "      <td>-601.496691</td>\n",
       "    </tr>\n",
       "  </tbody>\n",
       "</table>\n",
       "<p>5 rows × 87 columns</p>\n",
       "</div>"
      ],
      "text/plain": [
       "                  date  final.output.concentrate_ag  \\\n",
       "0  2016-01-15 00:00:00                     6.055403   \n",
       "1  2016-01-15 01:00:00                     6.029369   \n",
       "2  2016-01-15 02:00:00                     6.055926   \n",
       "3  2016-01-15 03:00:00                     6.047977   \n",
       "4  2016-01-15 04:00:00                     6.148599   \n",
       "\n",
       "   final.output.concentrate_pb  final.output.concentrate_sol  \\\n",
       "0                     9.889648                      5.507324   \n",
       "1                     9.968944                      5.257781   \n",
       "2                    10.213995                      5.383759   \n",
       "3                     9.977019                      4.858634   \n",
       "4                    10.142511                      4.939416   \n",
       "\n",
       "   final.output.concentrate_au  final.output.recovery  final.output.tail_ag  \\\n",
       "0                    42.192020              70.541216             10.411962   \n",
       "1                    42.701629              69.266198             10.462676   \n",
       "2                    42.657501              68.116445             10.507046   \n",
       "3                    42.689819              68.347543             10.422762   \n",
       "4                    42.774141              66.927016             10.360302   \n",
       "\n",
       "   final.output.tail_pb  final.output.tail_sol  final.output.tail_au  ...  \\\n",
       "0              0.895447              16.904297              2.143149  ...   \n",
       "1              0.927452              16.634514              2.224930  ...   \n",
       "2              0.953716              16.208849              2.257889  ...   \n",
       "3              0.883763              16.532835              2.146849  ...   \n",
       "4              0.792826              16.525686              2.055292  ...   \n",
       "\n",
       "   secondary_cleaner.state.floatbank4_a_air  \\\n",
       "0                                 14.016835   \n",
       "1                                 13.992281   \n",
       "2                                 14.015015   \n",
       "3                                 14.036510   \n",
       "4                                 14.027298   \n",
       "\n",
       "   secondary_cleaner.state.floatbank4_a_level  \\\n",
       "0                                 -502.488007   \n",
       "1                                 -505.503262   \n",
       "2                                 -502.520901   \n",
       "3                                 -500.857308   \n",
       "4                                 -499.838632   \n",
       "\n",
       "   secondary_cleaner.state.floatbank4_b_air  \\\n",
       "0                                 12.099931   \n",
       "1                                 11.950531   \n",
       "2                                 11.912783   \n",
       "3                                 11.999550   \n",
       "4                                 11.953070   \n",
       "\n",
       "   secondary_cleaner.state.floatbank4_b_level  \\\n",
       "0                                 -504.715942   \n",
       "1                                 -501.331529   \n",
       "2                                 -501.133383   \n",
       "3                                 -501.193686   \n",
       "4                                 -501.053894   \n",
       "\n",
       "   secondary_cleaner.state.floatbank5_a_air  \\\n",
       "0                                  9.925633   \n",
       "1                                 10.039245   \n",
       "2                                 10.070913   \n",
       "3                                  9.970366   \n",
       "4                                  9.925709   \n",
       "\n",
       "   secondary_cleaner.state.floatbank5_a_level  \\\n",
       "0                                 -498.310211   \n",
       "1                                 -500.169983   \n",
       "2                                 -500.129135   \n",
       "3                                 -499.201640   \n",
       "4                                 -501.686727   \n",
       "\n",
       "   secondary_cleaner.state.floatbank5_b_air  \\\n",
       "0                                  8.079666   \n",
       "1                                  7.984757   \n",
       "2                                  8.013877   \n",
       "3                                  7.977324   \n",
       "4                                  7.894242   \n",
       "\n",
       "   secondary_cleaner.state.floatbank5_b_level  \\\n",
       "0                                 -500.470978   \n",
       "1                                 -500.582168   \n",
       "2                                 -500.517572   \n",
       "3                                 -500.255908   \n",
       "4                                 -500.356035   \n",
       "\n",
       "   secondary_cleaner.state.floatbank6_a_air  \\\n",
       "0                                 14.151341   \n",
       "1                                 13.998353   \n",
       "2                                 14.028663   \n",
       "3                                 14.005551   \n",
       "4                                 13.996647   \n",
       "\n",
       "   secondary_cleaner.state.floatbank6_a_level  \n",
       "0                                 -605.841980  \n",
       "1                                 -599.787184  \n",
       "2                                 -601.427363  \n",
       "3                                 -599.996129  \n",
       "4                                 -601.496691  \n",
       "\n",
       "[5 rows x 87 columns]"
      ]
     },
     "metadata": {},
     "output_type": "display_data"
    },
    {
     "data": {
      "text/html": [
       "<div>\n",
       "<style scoped>\n",
       "    .dataframe tbody tr th:only-of-type {\n",
       "        vertical-align: middle;\n",
       "    }\n",
       "\n",
       "    .dataframe tbody tr th {\n",
       "        vertical-align: top;\n",
       "    }\n",
       "\n",
       "    .dataframe thead th {\n",
       "        text-align: right;\n",
       "    }\n",
       "</style>\n",
       "<table border=\"1\" class=\"dataframe\">\n",
       "  <thead>\n",
       "    <tr style=\"text-align: right;\">\n",
       "      <th></th>\n",
       "      <th>date</th>\n",
       "      <th>final.output.concentrate_ag</th>\n",
       "      <th>final.output.concentrate_pb</th>\n",
       "      <th>final.output.concentrate_sol</th>\n",
       "      <th>final.output.concentrate_au</th>\n",
       "      <th>final.output.recovery</th>\n",
       "      <th>final.output.tail_ag</th>\n",
       "      <th>final.output.tail_pb</th>\n",
       "      <th>final.output.tail_sol</th>\n",
       "      <th>final.output.tail_au</th>\n",
       "      <th>...</th>\n",
       "      <th>secondary_cleaner.state.floatbank4_a_air</th>\n",
       "      <th>secondary_cleaner.state.floatbank4_a_level</th>\n",
       "      <th>secondary_cleaner.state.floatbank4_b_air</th>\n",
       "      <th>secondary_cleaner.state.floatbank4_b_level</th>\n",
       "      <th>secondary_cleaner.state.floatbank5_a_air</th>\n",
       "      <th>secondary_cleaner.state.floatbank5_a_level</th>\n",
       "      <th>secondary_cleaner.state.floatbank5_b_air</th>\n",
       "      <th>secondary_cleaner.state.floatbank5_b_level</th>\n",
       "      <th>secondary_cleaner.state.floatbank6_a_air</th>\n",
       "      <th>secondary_cleaner.state.floatbank6_a_level</th>\n",
       "    </tr>\n",
       "  </thead>\n",
       "  <tbody>\n",
       "    <tr>\n",
       "      <th>0</th>\n",
       "      <td>2016-01-15 00:00:00</td>\n",
       "      <td>6.055403</td>\n",
       "      <td>9.889648</td>\n",
       "      <td>5.507324</td>\n",
       "      <td>42.192020</td>\n",
       "      <td>70.541216</td>\n",
       "      <td>10.411962</td>\n",
       "      <td>0.895447</td>\n",
       "      <td>16.904297</td>\n",
       "      <td>2.143149</td>\n",
       "      <td>...</td>\n",
       "      <td>14.016835</td>\n",
       "      <td>-502.488007</td>\n",
       "      <td>12.099931</td>\n",
       "      <td>-504.715942</td>\n",
       "      <td>9.925633</td>\n",
       "      <td>-498.310211</td>\n",
       "      <td>8.079666</td>\n",
       "      <td>-500.470978</td>\n",
       "      <td>14.151341</td>\n",
       "      <td>-605.841980</td>\n",
       "    </tr>\n",
       "    <tr>\n",
       "      <th>1</th>\n",
       "      <td>2016-01-15 01:00:00</td>\n",
       "      <td>6.029369</td>\n",
       "      <td>9.968944</td>\n",
       "      <td>5.257781</td>\n",
       "      <td>42.701629</td>\n",
       "      <td>69.266198</td>\n",
       "      <td>10.462676</td>\n",
       "      <td>0.927452</td>\n",
       "      <td>16.634514</td>\n",
       "      <td>2.224930</td>\n",
       "      <td>...</td>\n",
       "      <td>13.992281</td>\n",
       "      <td>-505.503262</td>\n",
       "      <td>11.950531</td>\n",
       "      <td>-501.331529</td>\n",
       "      <td>10.039245</td>\n",
       "      <td>-500.169983</td>\n",
       "      <td>7.984757</td>\n",
       "      <td>-500.582168</td>\n",
       "      <td>13.998353</td>\n",
       "      <td>-599.787184</td>\n",
       "    </tr>\n",
       "    <tr>\n",
       "      <th>2</th>\n",
       "      <td>2016-01-15 02:00:00</td>\n",
       "      <td>6.055926</td>\n",
       "      <td>10.213995</td>\n",
       "      <td>5.383759</td>\n",
       "      <td>42.657501</td>\n",
       "      <td>68.116445</td>\n",
       "      <td>10.507046</td>\n",
       "      <td>0.953716</td>\n",
       "      <td>16.208849</td>\n",
       "      <td>2.257889</td>\n",
       "      <td>...</td>\n",
       "      <td>14.015015</td>\n",
       "      <td>-502.520901</td>\n",
       "      <td>11.912783</td>\n",
       "      <td>-501.133383</td>\n",
       "      <td>10.070913</td>\n",
       "      <td>-500.129135</td>\n",
       "      <td>8.013877</td>\n",
       "      <td>-500.517572</td>\n",
       "      <td>14.028663</td>\n",
       "      <td>-601.427363</td>\n",
       "    </tr>\n",
       "    <tr>\n",
       "      <th>3</th>\n",
       "      <td>2016-01-15 03:00:00</td>\n",
       "      <td>6.047977</td>\n",
       "      <td>9.977019</td>\n",
       "      <td>4.858634</td>\n",
       "      <td>42.689819</td>\n",
       "      <td>68.347543</td>\n",
       "      <td>10.422762</td>\n",
       "      <td>0.883763</td>\n",
       "      <td>16.532835</td>\n",
       "      <td>2.146849</td>\n",
       "      <td>...</td>\n",
       "      <td>14.036510</td>\n",
       "      <td>-500.857308</td>\n",
       "      <td>11.999550</td>\n",
       "      <td>-501.193686</td>\n",
       "      <td>9.970366</td>\n",
       "      <td>-499.201640</td>\n",
       "      <td>7.977324</td>\n",
       "      <td>-500.255908</td>\n",
       "      <td>14.005551</td>\n",
       "      <td>-599.996129</td>\n",
       "    </tr>\n",
       "    <tr>\n",
       "      <th>4</th>\n",
       "      <td>2016-01-15 04:00:00</td>\n",
       "      <td>6.148599</td>\n",
       "      <td>10.142511</td>\n",
       "      <td>4.939416</td>\n",
       "      <td>42.774141</td>\n",
       "      <td>66.927016</td>\n",
       "      <td>10.360302</td>\n",
       "      <td>0.792826</td>\n",
       "      <td>16.525686</td>\n",
       "      <td>2.055292</td>\n",
       "      <td>...</td>\n",
       "      <td>14.027298</td>\n",
       "      <td>-499.838632</td>\n",
       "      <td>11.953070</td>\n",
       "      <td>-501.053894</td>\n",
       "      <td>9.925709</td>\n",
       "      <td>-501.686727</td>\n",
       "      <td>7.894242</td>\n",
       "      <td>-500.356035</td>\n",
       "      <td>13.996647</td>\n",
       "      <td>-601.496691</td>\n",
       "    </tr>\n",
       "  </tbody>\n",
       "</table>\n",
       "<p>5 rows × 87 columns</p>\n",
       "</div>"
      ],
      "text/plain": [
       "                  date  final.output.concentrate_ag  \\\n",
       "0  2016-01-15 00:00:00                     6.055403   \n",
       "1  2016-01-15 01:00:00                     6.029369   \n",
       "2  2016-01-15 02:00:00                     6.055926   \n",
       "3  2016-01-15 03:00:00                     6.047977   \n",
       "4  2016-01-15 04:00:00                     6.148599   \n",
       "\n",
       "   final.output.concentrate_pb  final.output.concentrate_sol  \\\n",
       "0                     9.889648                      5.507324   \n",
       "1                     9.968944                      5.257781   \n",
       "2                    10.213995                      5.383759   \n",
       "3                     9.977019                      4.858634   \n",
       "4                    10.142511                      4.939416   \n",
       "\n",
       "   final.output.concentrate_au  final.output.recovery  final.output.tail_ag  \\\n",
       "0                    42.192020              70.541216             10.411962   \n",
       "1                    42.701629              69.266198             10.462676   \n",
       "2                    42.657501              68.116445             10.507046   \n",
       "3                    42.689819              68.347543             10.422762   \n",
       "4                    42.774141              66.927016             10.360302   \n",
       "\n",
       "   final.output.tail_pb  final.output.tail_sol  final.output.tail_au  ...  \\\n",
       "0              0.895447              16.904297              2.143149  ...   \n",
       "1              0.927452              16.634514              2.224930  ...   \n",
       "2              0.953716              16.208849              2.257889  ...   \n",
       "3              0.883763              16.532835              2.146849  ...   \n",
       "4              0.792826              16.525686              2.055292  ...   \n",
       "\n",
       "   secondary_cleaner.state.floatbank4_a_air  \\\n",
       "0                                 14.016835   \n",
       "1                                 13.992281   \n",
       "2                                 14.015015   \n",
       "3                                 14.036510   \n",
       "4                                 14.027298   \n",
       "\n",
       "   secondary_cleaner.state.floatbank4_a_level  \\\n",
       "0                                 -502.488007   \n",
       "1                                 -505.503262   \n",
       "2                                 -502.520901   \n",
       "3                                 -500.857308   \n",
       "4                                 -499.838632   \n",
       "\n",
       "   secondary_cleaner.state.floatbank4_b_air  \\\n",
       "0                                 12.099931   \n",
       "1                                 11.950531   \n",
       "2                                 11.912783   \n",
       "3                                 11.999550   \n",
       "4                                 11.953070   \n",
       "\n",
       "   secondary_cleaner.state.floatbank4_b_level  \\\n",
       "0                                 -504.715942   \n",
       "1                                 -501.331529   \n",
       "2                                 -501.133383   \n",
       "3                                 -501.193686   \n",
       "4                                 -501.053894   \n",
       "\n",
       "   secondary_cleaner.state.floatbank5_a_air  \\\n",
       "0                                  9.925633   \n",
       "1                                 10.039245   \n",
       "2                                 10.070913   \n",
       "3                                  9.970366   \n",
       "4                                  9.925709   \n",
       "\n",
       "   secondary_cleaner.state.floatbank5_a_level  \\\n",
       "0                                 -498.310211   \n",
       "1                                 -500.169983   \n",
       "2                                 -500.129135   \n",
       "3                                 -499.201640   \n",
       "4                                 -501.686727   \n",
       "\n",
       "   secondary_cleaner.state.floatbank5_b_air  \\\n",
       "0                                  8.079666   \n",
       "1                                  7.984757   \n",
       "2                                  8.013877   \n",
       "3                                  7.977324   \n",
       "4                                  7.894242   \n",
       "\n",
       "   secondary_cleaner.state.floatbank5_b_level  \\\n",
       "0                                 -500.470978   \n",
       "1                                 -500.582168   \n",
       "2                                 -500.517572   \n",
       "3                                 -500.255908   \n",
       "4                                 -500.356035   \n",
       "\n",
       "   secondary_cleaner.state.floatbank6_a_air  \\\n",
       "0                                 14.151341   \n",
       "1                                 13.998353   \n",
       "2                                 14.028663   \n",
       "3                                 14.005551   \n",
       "4                                 13.996647   \n",
       "\n",
       "   secondary_cleaner.state.floatbank6_a_level  \n",
       "0                                 -605.841980  \n",
       "1                                 -599.787184  \n",
       "2                                 -601.427363  \n",
       "3                                 -599.996129  \n",
       "4                                 -601.496691  \n",
       "\n",
       "[5 rows x 87 columns]"
      ]
     },
     "metadata": {},
     "output_type": "display_data"
    },
    {
     "data": {
      "text/html": [
       "<div>\n",
       "<style scoped>\n",
       "    .dataframe tbody tr th:only-of-type {\n",
       "        vertical-align: middle;\n",
       "    }\n",
       "\n",
       "    .dataframe tbody tr th {\n",
       "        vertical-align: top;\n",
       "    }\n",
       "\n",
       "    .dataframe thead th {\n",
       "        text-align: right;\n",
       "    }\n",
       "</style>\n",
       "<table border=\"1\" class=\"dataframe\">\n",
       "  <thead>\n",
       "    <tr style=\"text-align: right;\">\n",
       "      <th></th>\n",
       "      <th>date</th>\n",
       "      <th>primary_cleaner.input.sulfate</th>\n",
       "      <th>primary_cleaner.input.depressant</th>\n",
       "      <th>primary_cleaner.input.feed_size</th>\n",
       "      <th>primary_cleaner.input.xanthate</th>\n",
       "      <th>primary_cleaner.state.floatbank8_a_air</th>\n",
       "      <th>primary_cleaner.state.floatbank8_a_level</th>\n",
       "      <th>primary_cleaner.state.floatbank8_b_air</th>\n",
       "      <th>primary_cleaner.state.floatbank8_b_level</th>\n",
       "      <th>primary_cleaner.state.floatbank8_c_air</th>\n",
       "      <th>...</th>\n",
       "      <th>secondary_cleaner.state.floatbank4_a_air</th>\n",
       "      <th>secondary_cleaner.state.floatbank4_a_level</th>\n",
       "      <th>secondary_cleaner.state.floatbank4_b_air</th>\n",
       "      <th>secondary_cleaner.state.floatbank4_b_level</th>\n",
       "      <th>secondary_cleaner.state.floatbank5_a_air</th>\n",
       "      <th>secondary_cleaner.state.floatbank5_a_level</th>\n",
       "      <th>secondary_cleaner.state.floatbank5_b_air</th>\n",
       "      <th>secondary_cleaner.state.floatbank5_b_level</th>\n",
       "      <th>secondary_cleaner.state.floatbank6_a_air</th>\n",
       "      <th>secondary_cleaner.state.floatbank6_a_level</th>\n",
       "    </tr>\n",
       "  </thead>\n",
       "  <tbody>\n",
       "    <tr>\n",
       "      <th>0</th>\n",
       "      <td>2016-09-01 00:59:59</td>\n",
       "      <td>210.800909</td>\n",
       "      <td>14.993118</td>\n",
       "      <td>8.080000</td>\n",
       "      <td>1.005021</td>\n",
       "      <td>1398.981301</td>\n",
       "      <td>-500.225577</td>\n",
       "      <td>1399.144926</td>\n",
       "      <td>-499.919735</td>\n",
       "      <td>1400.102998</td>\n",
       "      <td>...</td>\n",
       "      <td>12.023554</td>\n",
       "      <td>-497.795834</td>\n",
       "      <td>8.016656</td>\n",
       "      <td>-501.289139</td>\n",
       "      <td>7.946562</td>\n",
       "      <td>-432.317850</td>\n",
       "      <td>4.872511</td>\n",
       "      <td>-500.037437</td>\n",
       "      <td>26.705889</td>\n",
       "      <td>-499.709414</td>\n",
       "    </tr>\n",
       "    <tr>\n",
       "      <th>1</th>\n",
       "      <td>2016-09-01 01:59:59</td>\n",
       "      <td>215.392455</td>\n",
       "      <td>14.987471</td>\n",
       "      <td>8.080000</td>\n",
       "      <td>0.990469</td>\n",
       "      <td>1398.777912</td>\n",
       "      <td>-500.057435</td>\n",
       "      <td>1398.055362</td>\n",
       "      <td>-499.778182</td>\n",
       "      <td>1396.151033</td>\n",
       "      <td>...</td>\n",
       "      <td>12.058140</td>\n",
       "      <td>-498.695773</td>\n",
       "      <td>8.130979</td>\n",
       "      <td>-499.634209</td>\n",
       "      <td>7.958270</td>\n",
       "      <td>-525.839648</td>\n",
       "      <td>4.878850</td>\n",
       "      <td>-500.162375</td>\n",
       "      <td>25.019940</td>\n",
       "      <td>-499.819438</td>\n",
       "    </tr>\n",
       "    <tr>\n",
       "      <th>2</th>\n",
       "      <td>2016-09-01 02:59:59</td>\n",
       "      <td>215.259946</td>\n",
       "      <td>12.884934</td>\n",
       "      <td>7.786667</td>\n",
       "      <td>0.996043</td>\n",
       "      <td>1398.493666</td>\n",
       "      <td>-500.868360</td>\n",
       "      <td>1398.860436</td>\n",
       "      <td>-499.764529</td>\n",
       "      <td>1398.075709</td>\n",
       "      <td>...</td>\n",
       "      <td>11.962366</td>\n",
       "      <td>-498.767484</td>\n",
       "      <td>8.096893</td>\n",
       "      <td>-500.827423</td>\n",
       "      <td>8.071056</td>\n",
       "      <td>-500.801673</td>\n",
       "      <td>4.905125</td>\n",
       "      <td>-499.828510</td>\n",
       "      <td>24.994862</td>\n",
       "      <td>-500.622559</td>\n",
       "    </tr>\n",
       "    <tr>\n",
       "      <th>3</th>\n",
       "      <td>2016-09-01 03:59:59</td>\n",
       "      <td>215.336236</td>\n",
       "      <td>12.006805</td>\n",
       "      <td>7.640000</td>\n",
       "      <td>0.863514</td>\n",
       "      <td>1399.618111</td>\n",
       "      <td>-498.863574</td>\n",
       "      <td>1397.440120</td>\n",
       "      <td>-499.211024</td>\n",
       "      <td>1400.129303</td>\n",
       "      <td>...</td>\n",
       "      <td>12.033091</td>\n",
       "      <td>-498.350935</td>\n",
       "      <td>8.074946</td>\n",
       "      <td>-499.474407</td>\n",
       "      <td>7.897085</td>\n",
       "      <td>-500.868509</td>\n",
       "      <td>4.931400</td>\n",
       "      <td>-499.963623</td>\n",
       "      <td>24.948919</td>\n",
       "      <td>-498.709987</td>\n",
       "    </tr>\n",
       "    <tr>\n",
       "      <th>4</th>\n",
       "      <td>2016-09-01 04:59:59</td>\n",
       "      <td>199.099327</td>\n",
       "      <td>10.682530</td>\n",
       "      <td>7.530000</td>\n",
       "      <td>0.805575</td>\n",
       "      <td>1401.268123</td>\n",
       "      <td>-500.808305</td>\n",
       "      <td>1398.128818</td>\n",
       "      <td>-499.504543</td>\n",
       "      <td>1402.172226</td>\n",
       "      <td>...</td>\n",
       "      <td>12.025367</td>\n",
       "      <td>-500.786497</td>\n",
       "      <td>8.054678</td>\n",
       "      <td>-500.397500</td>\n",
       "      <td>8.107890</td>\n",
       "      <td>-509.526725</td>\n",
       "      <td>4.957674</td>\n",
       "      <td>-500.360026</td>\n",
       "      <td>25.003331</td>\n",
       "      <td>-500.856333</td>\n",
       "    </tr>\n",
       "  </tbody>\n",
       "</table>\n",
       "<p>5 rows × 53 columns</p>\n",
       "</div>"
      ],
      "text/plain": [
       "                  date  primary_cleaner.input.sulfate  \\\n",
       "0  2016-09-01 00:59:59                     210.800909   \n",
       "1  2016-09-01 01:59:59                     215.392455   \n",
       "2  2016-09-01 02:59:59                     215.259946   \n",
       "3  2016-09-01 03:59:59                     215.336236   \n",
       "4  2016-09-01 04:59:59                     199.099327   \n",
       "\n",
       "   primary_cleaner.input.depressant  primary_cleaner.input.feed_size  \\\n",
       "0                         14.993118                         8.080000   \n",
       "1                         14.987471                         8.080000   \n",
       "2                         12.884934                         7.786667   \n",
       "3                         12.006805                         7.640000   \n",
       "4                         10.682530                         7.530000   \n",
       "\n",
       "   primary_cleaner.input.xanthate  primary_cleaner.state.floatbank8_a_air  \\\n",
       "0                        1.005021                             1398.981301   \n",
       "1                        0.990469                             1398.777912   \n",
       "2                        0.996043                             1398.493666   \n",
       "3                        0.863514                             1399.618111   \n",
       "4                        0.805575                             1401.268123   \n",
       "\n",
       "   primary_cleaner.state.floatbank8_a_level  \\\n",
       "0                               -500.225577   \n",
       "1                               -500.057435   \n",
       "2                               -500.868360   \n",
       "3                               -498.863574   \n",
       "4                               -500.808305   \n",
       "\n",
       "   primary_cleaner.state.floatbank8_b_air  \\\n",
       "0                             1399.144926   \n",
       "1                             1398.055362   \n",
       "2                             1398.860436   \n",
       "3                             1397.440120   \n",
       "4                             1398.128818   \n",
       "\n",
       "   primary_cleaner.state.floatbank8_b_level  \\\n",
       "0                               -499.919735   \n",
       "1                               -499.778182   \n",
       "2                               -499.764529   \n",
       "3                               -499.211024   \n",
       "4                               -499.504543   \n",
       "\n",
       "   primary_cleaner.state.floatbank8_c_air  ...  \\\n",
       "0                             1400.102998  ...   \n",
       "1                             1396.151033  ...   \n",
       "2                             1398.075709  ...   \n",
       "3                             1400.129303  ...   \n",
       "4                             1402.172226  ...   \n",
       "\n",
       "   secondary_cleaner.state.floatbank4_a_air  \\\n",
       "0                                 12.023554   \n",
       "1                                 12.058140   \n",
       "2                                 11.962366   \n",
       "3                                 12.033091   \n",
       "4                                 12.025367   \n",
       "\n",
       "   secondary_cleaner.state.floatbank4_a_level  \\\n",
       "0                                 -497.795834   \n",
       "1                                 -498.695773   \n",
       "2                                 -498.767484   \n",
       "3                                 -498.350935   \n",
       "4                                 -500.786497   \n",
       "\n",
       "   secondary_cleaner.state.floatbank4_b_air  \\\n",
       "0                                  8.016656   \n",
       "1                                  8.130979   \n",
       "2                                  8.096893   \n",
       "3                                  8.074946   \n",
       "4                                  8.054678   \n",
       "\n",
       "   secondary_cleaner.state.floatbank4_b_level  \\\n",
       "0                                 -501.289139   \n",
       "1                                 -499.634209   \n",
       "2                                 -500.827423   \n",
       "3                                 -499.474407   \n",
       "4                                 -500.397500   \n",
       "\n",
       "   secondary_cleaner.state.floatbank5_a_air  \\\n",
       "0                                  7.946562   \n",
       "1                                  7.958270   \n",
       "2                                  8.071056   \n",
       "3                                  7.897085   \n",
       "4                                  8.107890   \n",
       "\n",
       "   secondary_cleaner.state.floatbank5_a_level  \\\n",
       "0                                 -432.317850   \n",
       "1                                 -525.839648   \n",
       "2                                 -500.801673   \n",
       "3                                 -500.868509   \n",
       "4                                 -509.526725   \n",
       "\n",
       "   secondary_cleaner.state.floatbank5_b_air  \\\n",
       "0                                  4.872511   \n",
       "1                                  4.878850   \n",
       "2                                  4.905125   \n",
       "3                                  4.931400   \n",
       "4                                  4.957674   \n",
       "\n",
       "   secondary_cleaner.state.floatbank5_b_level  \\\n",
       "0                                 -500.037437   \n",
       "1                                 -500.162375   \n",
       "2                                 -499.828510   \n",
       "3                                 -499.963623   \n",
       "4                                 -500.360026   \n",
       "\n",
       "   secondary_cleaner.state.floatbank6_a_air  \\\n",
       "0                                 26.705889   \n",
       "1                                 25.019940   \n",
       "2                                 24.994862   \n",
       "3                                 24.948919   \n",
       "4                                 25.003331   \n",
       "\n",
       "   secondary_cleaner.state.floatbank6_a_level  \n",
       "0                                 -499.709414  \n",
       "1                                 -499.819438  \n",
       "2                                 -500.622559  \n",
       "3                                 -498.709987  \n",
       "4                                 -500.856333  \n",
       "\n",
       "[5 rows x 53 columns]"
      ]
     },
     "metadata": {},
     "output_type": "display_data"
    }
   ],
   "source": [
    "display(df_full.head())\n",
    "display(df_train.head())\n",
    "display(df_test.head())"
   ]
  },
  {
   "cell_type": "code",
   "execution_count": 4,
   "metadata": {},
   "outputs": [
    {
     "name": "stdout",
     "output_type": "stream",
     "text": [
      "<class 'pandas.core.frame.DataFrame'>\n",
      "RangeIndex: 19439 entries, 0 to 19438\n",
      "Data columns (total 87 columns):\n",
      " #   Column                                              Non-Null Count  Dtype  \n",
      "---  ------                                              --------------  -----  \n",
      " 0   date                                                19439 non-null  object \n",
      " 1   final.output.concentrate_ag                         19438 non-null  float64\n",
      " 2   final.output.concentrate_pb                         19438 non-null  float64\n",
      " 3   final.output.concentrate_sol                        19228 non-null  float64\n",
      " 4   final.output.concentrate_au                         19439 non-null  float64\n",
      " 5   final.output.recovery                               19439 non-null  float64\n",
      " 6   final.output.tail_ag                                19438 non-null  float64\n",
      " 7   final.output.tail_pb                                19338 non-null  float64\n",
      " 8   final.output.tail_sol                               19433 non-null  float64\n",
      " 9   final.output.tail_au                                19439 non-null  float64\n",
      " 10  primary_cleaner.input.sulfate                       19415 non-null  float64\n",
      " 11  primary_cleaner.input.depressant                    19402 non-null  float64\n",
      " 12  primary_cleaner.input.feed_size                     19439 non-null  float64\n",
      " 13  primary_cleaner.input.xanthate                      19335 non-null  float64\n",
      " 14  primary_cleaner.output.concentrate_ag               19439 non-null  float64\n",
      " 15  primary_cleaner.output.concentrate_pb               19323 non-null  float64\n",
      " 16  primary_cleaner.output.concentrate_sol              19069 non-null  float64\n",
      " 17  primary_cleaner.output.concentrate_au               19439 non-null  float64\n",
      " 18  primary_cleaner.output.tail_ag                      19435 non-null  float64\n",
      " 19  primary_cleaner.output.tail_pb                      19418 non-null  float64\n",
      " 20  primary_cleaner.output.tail_sol                     19377 non-null  float64\n",
      " 21  primary_cleaner.output.tail_au                      19439 non-null  float64\n",
      " 22  primary_cleaner.state.floatbank8_a_air              19435 non-null  float64\n",
      " 23  primary_cleaner.state.floatbank8_a_level            19438 non-null  float64\n",
      " 24  primary_cleaner.state.floatbank8_b_air              19435 non-null  float64\n",
      " 25  primary_cleaner.state.floatbank8_b_level            19438 non-null  float64\n",
      " 26  primary_cleaner.state.floatbank8_c_air              19437 non-null  float64\n",
      " 27  primary_cleaner.state.floatbank8_c_level            19438 non-null  float64\n",
      " 28  primary_cleaner.state.floatbank8_d_air              19436 non-null  float64\n",
      " 29  primary_cleaner.state.floatbank8_d_level            19438 non-null  float64\n",
      " 30  rougher.calculation.sulfate_to_au_concentrate       19437 non-null  float64\n",
      " 31  rougher.calculation.floatbank10_sulfate_to_au_feed  19437 non-null  float64\n",
      " 32  rougher.calculation.floatbank11_sulfate_to_au_feed  19437 non-null  float64\n",
      " 33  rougher.calculation.au_pb_ratio                     19439 non-null  float64\n",
      " 34  rougher.input.feed_ag                               19439 non-null  float64\n",
      " 35  rougher.input.feed_pb                               19339 non-null  float64\n",
      " 36  rougher.input.feed_rate                             19428 non-null  float64\n",
      " 37  rougher.input.feed_size                             19294 non-null  float64\n",
      " 38  rougher.input.feed_sol                              19340 non-null  float64\n",
      " 39  rougher.input.feed_au                               19439 non-null  float64\n",
      " 40  rougher.input.floatbank10_sulfate                   19405 non-null  float64\n",
      " 41  rougher.input.floatbank10_xanthate                  19431 non-null  float64\n",
      " 42  rougher.input.floatbank11_sulfate                   19395 non-null  float64\n",
      " 43  rougher.input.floatbank11_xanthate                  18986 non-null  float64\n",
      " 44  rougher.output.concentrate_ag                       19439 non-null  float64\n",
      " 45  rougher.output.concentrate_pb                       19439 non-null  float64\n",
      " 46  rougher.output.concentrate_sol                      19416 non-null  float64\n",
      " 47  rougher.output.concentrate_au                       19439 non-null  float64\n",
      " 48  rougher.output.recovery                             19439 non-null  float64\n",
      " 49  rougher.output.tail_ag                              19438 non-null  float64\n",
      " 50  rougher.output.tail_pb                              19439 non-null  float64\n",
      " 51  rougher.output.tail_sol                             19439 non-null  float64\n",
      " 52  rougher.output.tail_au                              19439 non-null  float64\n",
      " 53  rougher.state.floatbank10_a_air                     19438 non-null  float64\n",
      " 54  rougher.state.floatbank10_a_level                   19438 non-null  float64\n",
      " 55  rougher.state.floatbank10_b_air                     19438 non-null  float64\n",
      " 56  rougher.state.floatbank10_b_level                   19438 non-null  float64\n",
      " 57  rougher.state.floatbank10_c_air                     19438 non-null  float64\n",
      " 58  rougher.state.floatbank10_c_level                   19438 non-null  float64\n",
      " 59  rougher.state.floatbank10_d_air                     19439 non-null  float64\n",
      " 60  rougher.state.floatbank10_d_level                   19439 non-null  float64\n",
      " 61  rougher.state.floatbank10_e_air                     19003 non-null  float64\n",
      " 62  rougher.state.floatbank10_e_level                   19439 non-null  float64\n",
      " 63  rougher.state.floatbank10_f_air                     19439 non-null  float64\n",
      " 64  rougher.state.floatbank10_f_level                   19439 non-null  float64\n",
      " 65  secondary_cleaner.output.tail_ag                    19437 non-null  float64\n",
      " 66  secondary_cleaner.output.tail_pb                    19427 non-null  float64\n",
      " 67  secondary_cleaner.output.tail_sol                   17691 non-null  float64\n",
      " 68  secondary_cleaner.output.tail_au                    19439 non-null  float64\n",
      " 69  secondary_cleaner.state.floatbank2_a_air            19219 non-null  float64\n",
      " 70  secondary_cleaner.state.floatbank2_a_level          19438 non-null  float64\n",
      " 71  secondary_cleaner.state.floatbank2_b_air            19416 non-null  float64\n",
      " 72  secondary_cleaner.state.floatbank2_b_level          19438 non-null  float64\n",
      " 73  secondary_cleaner.state.floatbank3_a_air            19426 non-null  float64\n",
      " 74  secondary_cleaner.state.floatbank3_a_level          19438 non-null  float64\n",
      " 75  secondary_cleaner.state.floatbank3_b_air            19438 non-null  float64\n",
      " 76  secondary_cleaner.state.floatbank3_b_level          19438 non-null  float64\n",
      " 77  secondary_cleaner.state.floatbank4_a_air            19433 non-null  float64\n",
      " 78  secondary_cleaner.state.floatbank4_a_level          19438 non-null  float64\n",
      " 79  secondary_cleaner.state.floatbank4_b_air            19438 non-null  float64\n",
      " 80  secondary_cleaner.state.floatbank4_b_level          19438 non-null  float64\n",
      " 81  secondary_cleaner.state.floatbank5_a_air            19438 non-null  float64\n",
      " 82  secondary_cleaner.state.floatbank5_a_level          19438 non-null  float64\n",
      " 83  secondary_cleaner.state.floatbank5_b_air            19438 non-null  float64\n",
      " 84  secondary_cleaner.state.floatbank5_b_level          19438 non-null  float64\n",
      " 85  secondary_cleaner.state.floatbank6_a_air            19437 non-null  float64\n",
      " 86  secondary_cleaner.state.floatbank6_a_level          19438 non-null  float64\n",
      "dtypes: float64(86), object(1)\n",
      "memory usage: 12.9+ MB\n",
      "None\n",
      "\n",
      "<class 'pandas.core.frame.DataFrame'>\n",
      "RangeIndex: 14149 entries, 0 to 14148\n",
      "Data columns (total 87 columns):\n",
      " #   Column                                              Non-Null Count  Dtype  \n",
      "---  ------                                              --------------  -----  \n",
      " 0   date                                                14149 non-null  object \n",
      " 1   final.output.concentrate_ag                         14148 non-null  float64\n",
      " 2   final.output.concentrate_pb                         14148 non-null  float64\n",
      " 3   final.output.concentrate_sol                        13938 non-null  float64\n",
      " 4   final.output.concentrate_au                         14149 non-null  float64\n",
      " 5   final.output.recovery                               14149 non-null  float64\n",
      " 6   final.output.tail_ag                                14149 non-null  float64\n",
      " 7   final.output.tail_pb                                14049 non-null  float64\n",
      " 8   final.output.tail_sol                               14144 non-null  float64\n",
      " 9   final.output.tail_au                                14149 non-null  float64\n",
      " 10  primary_cleaner.input.sulfate                       14129 non-null  float64\n",
      " 11  primary_cleaner.input.depressant                    14117 non-null  float64\n",
      " 12  primary_cleaner.input.feed_size                     14149 non-null  float64\n",
      " 13  primary_cleaner.input.xanthate                      14049 non-null  float64\n",
      " 14  primary_cleaner.output.concentrate_ag               14149 non-null  float64\n",
      " 15  primary_cleaner.output.concentrate_pb               14063 non-null  float64\n",
      " 16  primary_cleaner.output.concentrate_sol              13863 non-null  float64\n",
      " 17  primary_cleaner.output.concentrate_au               14149 non-null  float64\n",
      " 18  primary_cleaner.output.tail_ag                      14148 non-null  float64\n",
      " 19  primary_cleaner.output.tail_pb                      14134 non-null  float64\n",
      " 20  primary_cleaner.output.tail_sol                     14103 non-null  float64\n",
      " 21  primary_cleaner.output.tail_au                      14149 non-null  float64\n",
      " 22  primary_cleaner.state.floatbank8_a_air              14145 non-null  float64\n",
      " 23  primary_cleaner.state.floatbank8_a_level            14148 non-null  float64\n",
      " 24  primary_cleaner.state.floatbank8_b_air              14145 non-null  float64\n",
      " 25  primary_cleaner.state.floatbank8_b_level            14148 non-null  float64\n",
      " 26  primary_cleaner.state.floatbank8_c_air              14147 non-null  float64\n",
      " 27  primary_cleaner.state.floatbank8_c_level            14148 non-null  float64\n",
      " 28  primary_cleaner.state.floatbank8_d_air              14146 non-null  float64\n",
      " 29  primary_cleaner.state.floatbank8_d_level            14148 non-null  float64\n",
      " 30  rougher.calculation.sulfate_to_au_concentrate       14148 non-null  float64\n",
      " 31  rougher.calculation.floatbank10_sulfate_to_au_feed  14148 non-null  float64\n",
      " 32  rougher.calculation.floatbank11_sulfate_to_au_feed  14148 non-null  float64\n",
      " 33  rougher.calculation.au_pb_ratio                     14149 non-null  float64\n",
      " 34  rougher.input.feed_ag                               14149 non-null  float64\n",
      " 35  rougher.input.feed_pb                               14049 non-null  float64\n",
      " 36  rougher.input.feed_rate                             14141 non-null  float64\n",
      " 37  rougher.input.feed_size                             14005 non-null  float64\n",
      " 38  rougher.input.feed_sol                              14071 non-null  float64\n",
      " 39  rougher.input.feed_au                               14149 non-null  float64\n",
      " 40  rougher.input.floatbank10_sulfate                   14120 non-null  float64\n",
      " 41  rougher.input.floatbank10_xanthate                  14141 non-null  float64\n",
      " 42  rougher.input.floatbank11_sulfate                   14113 non-null  float64\n",
      " 43  rougher.input.floatbank11_xanthate                  13721 non-null  float64\n",
      " 44  rougher.output.concentrate_ag                       14149 non-null  float64\n",
      " 45  rougher.output.concentrate_pb                       14149 non-null  float64\n",
      " 46  rougher.output.concentrate_sol                      14127 non-null  float64\n",
      " 47  rougher.output.concentrate_au                       14149 non-null  float64\n",
      " 48  rougher.output.recovery                             14149 non-null  float64\n",
      " 49  rougher.output.tail_ag                              14148 non-null  float64\n",
      " 50  rougher.output.tail_pb                              14149 non-null  float64\n",
      " 51  rougher.output.tail_sol                             14149 non-null  float64\n",
      " 52  rougher.output.tail_au                              14149 non-null  float64\n",
      " 53  rougher.state.floatbank10_a_air                     14148 non-null  float64\n",
      " 54  rougher.state.floatbank10_a_level                   14148 non-null  float64\n",
      " 55  rougher.state.floatbank10_b_air                     14148 non-null  float64\n",
      " 56  rougher.state.floatbank10_b_level                   14148 non-null  float64\n",
      " 57  rougher.state.floatbank10_c_air                     14148 non-null  float64\n",
      " 58  rougher.state.floatbank10_c_level                   14148 non-null  float64\n",
      " 59  rougher.state.floatbank10_d_air                     14149 non-null  float64\n",
      " 60  rougher.state.floatbank10_d_level                   14149 non-null  float64\n",
      " 61  rougher.state.floatbank10_e_air                     13713 non-null  float64\n",
      " 62  rougher.state.floatbank10_e_level                   14149 non-null  float64\n",
      " 63  rougher.state.floatbank10_f_air                     14149 non-null  float64\n",
      " 64  rougher.state.floatbank10_f_level                   14149 non-null  float64\n",
      " 65  secondary_cleaner.output.tail_ag                    14147 non-null  float64\n",
      " 66  secondary_cleaner.output.tail_pb                    14139 non-null  float64\n",
      " 67  secondary_cleaner.output.tail_sol                   12544 non-null  float64\n",
      " 68  secondary_cleaner.output.tail_au                    14149 non-null  float64\n",
      " 69  secondary_cleaner.state.floatbank2_a_air            13932 non-null  float64\n",
      " 70  secondary_cleaner.state.floatbank2_a_level          14148 non-null  float64\n",
      " 71  secondary_cleaner.state.floatbank2_b_air            14128 non-null  float64\n",
      " 72  secondary_cleaner.state.floatbank2_b_level          14148 non-null  float64\n",
      " 73  secondary_cleaner.state.floatbank3_a_air            14145 non-null  float64\n",
      " 74  secondary_cleaner.state.floatbank3_a_level          14148 non-null  float64\n",
      " 75  secondary_cleaner.state.floatbank3_b_air            14148 non-null  float64\n",
      " 76  secondary_cleaner.state.floatbank3_b_level          14148 non-null  float64\n",
      " 77  secondary_cleaner.state.floatbank4_a_air            14143 non-null  float64\n",
      " 78  secondary_cleaner.state.floatbank4_a_level          14148 non-null  float64\n",
      " 79  secondary_cleaner.state.floatbank4_b_air            14148 non-null  float64\n",
      " 80  secondary_cleaner.state.floatbank4_b_level          14148 non-null  float64\n",
      " 81  secondary_cleaner.state.floatbank5_a_air            14148 non-null  float64\n",
      " 82  secondary_cleaner.state.floatbank5_a_level          14148 non-null  float64\n",
      " 83  secondary_cleaner.state.floatbank5_b_air            14148 non-null  float64\n",
      " 84  secondary_cleaner.state.floatbank5_b_level          14148 non-null  float64\n",
      " 85  secondary_cleaner.state.floatbank6_a_air            14147 non-null  float64\n",
      " 86  secondary_cleaner.state.floatbank6_a_level          14148 non-null  float64\n",
      "dtypes: float64(86), object(1)\n",
      "memory usage: 9.4+ MB\n",
      "None\n",
      "\n",
      "<class 'pandas.core.frame.DataFrame'>\n",
      "RangeIndex: 5290 entries, 0 to 5289\n",
      "Data columns (total 53 columns):\n",
      " #   Column                                      Non-Null Count  Dtype  \n",
      "---  ------                                      --------------  -----  \n",
      " 0   date                                        5290 non-null   object \n",
      " 1   primary_cleaner.input.sulfate               5286 non-null   float64\n",
      " 2   primary_cleaner.input.depressant            5285 non-null   float64\n",
      " 3   primary_cleaner.input.feed_size             5290 non-null   float64\n",
      " 4   primary_cleaner.input.xanthate              5286 non-null   float64\n",
      " 5   primary_cleaner.state.floatbank8_a_air      5290 non-null   float64\n",
      " 6   primary_cleaner.state.floatbank8_a_level    5290 non-null   float64\n",
      " 7   primary_cleaner.state.floatbank8_b_air      5290 non-null   float64\n",
      " 8   primary_cleaner.state.floatbank8_b_level    5290 non-null   float64\n",
      " 9   primary_cleaner.state.floatbank8_c_air      5290 non-null   float64\n",
      " 10  primary_cleaner.state.floatbank8_c_level    5290 non-null   float64\n",
      " 11  primary_cleaner.state.floatbank8_d_air      5290 non-null   float64\n",
      " 12  primary_cleaner.state.floatbank8_d_level    5290 non-null   float64\n",
      " 13  rougher.input.feed_ag                       5290 non-null   float64\n",
      " 14  rougher.input.feed_pb                       5290 non-null   float64\n",
      " 15  rougher.input.feed_rate                     5287 non-null   float64\n",
      " 16  rougher.input.feed_size                     5289 non-null   float64\n",
      " 17  rougher.input.feed_sol                      5269 non-null   float64\n",
      " 18  rougher.input.feed_au                       5290 non-null   float64\n",
      " 19  rougher.input.floatbank10_sulfate           5285 non-null   float64\n",
      " 20  rougher.input.floatbank10_xanthate          5290 non-null   float64\n",
      " 21  rougher.input.floatbank11_sulfate           5282 non-null   float64\n",
      " 22  rougher.input.floatbank11_xanthate          5265 non-null   float64\n",
      " 23  rougher.state.floatbank10_a_air             5290 non-null   float64\n",
      " 24  rougher.state.floatbank10_a_level           5290 non-null   float64\n",
      " 25  rougher.state.floatbank10_b_air             5290 non-null   float64\n",
      " 26  rougher.state.floatbank10_b_level           5290 non-null   float64\n",
      " 27  rougher.state.floatbank10_c_air             5290 non-null   float64\n",
      " 28  rougher.state.floatbank10_c_level           5290 non-null   float64\n",
      " 29  rougher.state.floatbank10_d_air             5290 non-null   float64\n",
      " 30  rougher.state.floatbank10_d_level           5290 non-null   float64\n",
      " 31  rougher.state.floatbank10_e_air             5290 non-null   float64\n",
      " 32  rougher.state.floatbank10_e_level           5290 non-null   float64\n",
      " 33  rougher.state.floatbank10_f_air             5290 non-null   float64\n",
      " 34  rougher.state.floatbank10_f_level           5290 non-null   float64\n",
      " 35  secondary_cleaner.state.floatbank2_a_air    5287 non-null   float64\n",
      " 36  secondary_cleaner.state.floatbank2_a_level  5290 non-null   float64\n",
      " 37  secondary_cleaner.state.floatbank2_b_air    5288 non-null   float64\n",
      " 38  secondary_cleaner.state.floatbank2_b_level  5290 non-null   float64\n",
      " 39  secondary_cleaner.state.floatbank3_a_air    5281 non-null   float64\n",
      " 40  secondary_cleaner.state.floatbank3_a_level  5290 non-null   float64\n",
      " 41  secondary_cleaner.state.floatbank3_b_air    5290 non-null   float64\n",
      " 42  secondary_cleaner.state.floatbank3_b_level  5290 non-null   float64\n",
      " 43  secondary_cleaner.state.floatbank4_a_air    5290 non-null   float64\n",
      " 44  secondary_cleaner.state.floatbank4_a_level  5290 non-null   float64\n",
      " 45  secondary_cleaner.state.floatbank4_b_air    5290 non-null   float64\n",
      " 46  secondary_cleaner.state.floatbank4_b_level  5290 non-null   float64\n",
      " 47  secondary_cleaner.state.floatbank5_a_air    5290 non-null   float64\n",
      " 48  secondary_cleaner.state.floatbank5_a_level  5290 non-null   float64\n",
      " 49  secondary_cleaner.state.floatbank5_b_air    5290 non-null   float64\n",
      " 50  secondary_cleaner.state.floatbank5_b_level  5290 non-null   float64\n",
      " 51  secondary_cleaner.state.floatbank6_a_air    5290 non-null   float64\n",
      " 52  secondary_cleaner.state.floatbank6_a_level  5290 non-null   float64\n",
      "dtypes: float64(52), object(1)\n",
      "memory usage: 2.1+ MB\n",
      "None\n"
     ]
    }
   ],
   "source": [
    "print(df_full.info())\n",
    "print()\n",
    "print(df_train.info())\n",
    "print()\n",
    "print(df_test.info())"
   ]
  },
  {
   "cell_type": "markdown",
   "metadata": {},
   "source": [
    "Общее количество строк в исходной выборке - 19439. Колонок - 87. Типы данных соответствуют.\n",
    "\n",
    "В обучающей выборке 14149 строк, колонок также 87. Типы данных соответствуют.\n",
    "\n",
    "В тестовой выборке 5290 строк и 53 колонки. Типы данных соответствуют."
   ]
  },
  {
   "cell_type": "markdown",
   "metadata": {},
   "source": [
    "Проверим, что эффективность обогащения рассчитана правильно. Вычислим её на обучающей выборке для признака rougher.output.recovery."
   ]
  },
  {
   "cell_type": "code",
   "execution_count": 5,
   "metadata": {},
   "outputs": [],
   "source": [
    "rougher_output_recovery = []\n",
    "\n",
    "for i in range(len(df_train)):\n",
    "    ror = ((df_train['rougher.output.concentrate_au'][i] * (df_train['rougher.input.feed_au'][i] - \n",
    "                                                         df_train['rougher.output.tail_au'][i])) / \n",
    "           (df_train['rougher.input.feed_au'][i] * (df_train['rougher.output.concentrate_au'][i] - \n",
    "                                             df_train['rougher.output.tail_au'][i]))) * 100\n",
    "    \n",
    "    rougher_output_recovery.append(ror)\n",
    "\n",
    "my_ror = pd.Series(rougher_output_recovery)\n",
    "ror = df_train['rougher.output.recovery']"
   ]
  },
  {
   "cell_type": "code",
   "execution_count": 6,
   "metadata": {},
   "outputs": [
    {
     "name": "stdout",
     "output_type": "stream",
     "text": [
      "Среднее абсолютное отклонение между нашими расчётами и значением признака: 9.73512347450521e-15\n"
     ]
    }
   ],
   "source": [
    "# найдем MAE между нашими расчётами и значением признака\n",
    "print('Среднее абсолютное отклонение между нашими расчётами и значением признака:', \n",
    "      mean_absolute_error(ror, my_ror))"
   ]
  },
  {
   "cell_type": "markdown",
   "metadata": {},
   "source": [
    "Отклонения между нашим рассчетом и данными в датафрейме почти нет. Значит в предоставленных данных всё рассчитано верно."
   ]
  },
  {
   "cell_type": "markdown",
   "metadata": {},
   "source": [
    "Проанализируем признаки, недоступные в тестовой выборке. Их должно быть 34. "
   ]
  },
  {
   "cell_type": "code",
   "execution_count": 7,
   "metadata": {
    "scrolled": true
   },
   "outputs": [
    {
     "name": "stdout",
     "output_type": "stream",
     "text": [
      "34\n",
      "\n",
      "6                           final.output.concentrate_ag\n",
      "32                          final.output.concentrate_au\n",
      "7                           final.output.concentrate_pb\n",
      "27                         final.output.concentrate_sol\n",
      "22                                final.output.recovery\n",
      "3                                  final.output.tail_ag\n",
      "4                                  final.output.tail_au\n",
      "13                                 final.output.tail_pb\n",
      "2                                 final.output.tail_sol\n",
      "0                 primary_cleaner.output.concentrate_ag\n",
      "23                primary_cleaner.output.concentrate_au\n",
      "14                primary_cleaner.output.concentrate_pb\n",
      "10               primary_cleaner.output.concentrate_sol\n",
      "28                       primary_cleaner.output.tail_ag\n",
      "20                       primary_cleaner.output.tail_au\n",
      "15                       primary_cleaner.output.tail_pb\n",
      "25                      primary_cleaner.output.tail_sol\n",
      "33                      rougher.calculation.au_pb_ratio\n",
      "18    rougher.calculation.floatbank10_sulfate_to_au_...\n",
      "17    rougher.calculation.floatbank11_sulfate_to_au_...\n",
      "19        rougher.calculation.sulfate_to_au_concentrate\n",
      "26                        rougher.output.concentrate_ag\n",
      "8                         rougher.output.concentrate_au\n",
      "29                        rougher.output.concentrate_pb\n",
      "24                       rougher.output.concentrate_sol\n",
      "30                              rougher.output.recovery\n",
      "5                                rougher.output.tail_ag\n",
      "16                               rougher.output.tail_au\n",
      "31                               rougher.output.tail_pb\n",
      "21                              rougher.output.tail_sol\n",
      "12                     secondary_cleaner.output.tail_ag\n",
      "9                      secondary_cleaner.output.tail_au\n",
      "1                      secondary_cleaner.output.tail_pb\n",
      "11                    secondary_cleaner.output.tail_sol\n",
      "dtype: object\n"
     ]
    }
   ],
   "source": [
    "full_columns = df_full.columns.values.tolist()\n",
    "test_columns = df_test.columns.values.tolist()\n",
    "not_in_test = list(set(full_columns) ^ set(test_columns))\n",
    "print(len(not_in_test))\n",
    "print()\n",
    "print(pd.Series(not_in_test).sort_values())"
   ]
  },
  {
   "cell_type": "markdown",
   "metadata": {},
   "source": [
    "В тестовой выборке нет целевых признаков и колонок - эффективности обогащения чернового и финального концентрата, также нет колонок, необходимых для их рассчета - final.output и rougher.output. Также нет данных по концентратам и хвостам после первой очистки, нет данных по хвостам после второй чистки. То есть нет **параметров продукта** для каждой стадии процесса. \n",
    "\n",
    "Еще здесь нет **расчетных характеристик** для флотационной установки с реагентом сульфид натрия.\n",
    "\n",
    "Добавим столбцы с целевыми признаками в тестовую выборку из исходных данных."
   ]
  },
  {
   "cell_type": "code",
   "execution_count": 8,
   "metadata": {},
   "outputs": [
    {
     "data": {
      "text/html": [
       "<div>\n",
       "<style scoped>\n",
       "    .dataframe tbody tr th:only-of-type {\n",
       "        vertical-align: middle;\n",
       "    }\n",
       "\n",
       "    .dataframe tbody tr th {\n",
       "        vertical-align: top;\n",
       "    }\n",
       "\n",
       "    .dataframe thead th {\n",
       "        text-align: right;\n",
       "    }\n",
       "</style>\n",
       "<table border=\"1\" class=\"dataframe\">\n",
       "  <thead>\n",
       "    <tr style=\"text-align: right;\">\n",
       "      <th></th>\n",
       "      <th>date</th>\n",
       "      <th>primary_cleaner.input.sulfate</th>\n",
       "      <th>primary_cleaner.input.depressant</th>\n",
       "      <th>primary_cleaner.input.feed_size</th>\n",
       "      <th>primary_cleaner.input.xanthate</th>\n",
       "      <th>primary_cleaner.state.floatbank8_a_air</th>\n",
       "      <th>primary_cleaner.state.floatbank8_a_level</th>\n",
       "      <th>primary_cleaner.state.floatbank8_b_air</th>\n",
       "      <th>primary_cleaner.state.floatbank8_b_level</th>\n",
       "      <th>primary_cleaner.state.floatbank8_c_air</th>\n",
       "      <th>...</th>\n",
       "      <th>secondary_cleaner.state.floatbank4_b_air</th>\n",
       "      <th>secondary_cleaner.state.floatbank4_b_level</th>\n",
       "      <th>secondary_cleaner.state.floatbank5_a_air</th>\n",
       "      <th>secondary_cleaner.state.floatbank5_a_level</th>\n",
       "      <th>secondary_cleaner.state.floatbank5_b_air</th>\n",
       "      <th>secondary_cleaner.state.floatbank5_b_level</th>\n",
       "      <th>secondary_cleaner.state.floatbank6_a_air</th>\n",
       "      <th>secondary_cleaner.state.floatbank6_a_level</th>\n",
       "      <th>rougher.output.recovery</th>\n",
       "      <th>final.output.recovery</th>\n",
       "    </tr>\n",
       "  </thead>\n",
       "  <tbody>\n",
       "    <tr>\n",
       "      <th>0</th>\n",
       "      <td>2016-09-01 00:59:59</td>\n",
       "      <td>210.800909</td>\n",
       "      <td>14.993118</td>\n",
       "      <td>8.080000</td>\n",
       "      <td>1.005021</td>\n",
       "      <td>1398.981301</td>\n",
       "      <td>-500.225577</td>\n",
       "      <td>1399.144926</td>\n",
       "      <td>-499.919735</td>\n",
       "      <td>1400.102998</td>\n",
       "      <td>...</td>\n",
       "      <td>8.016656</td>\n",
       "      <td>-501.289139</td>\n",
       "      <td>7.946562</td>\n",
       "      <td>-432.317850</td>\n",
       "      <td>4.872511</td>\n",
       "      <td>-500.037437</td>\n",
       "      <td>26.705889</td>\n",
       "      <td>-499.709414</td>\n",
       "      <td>89.993421</td>\n",
       "      <td>70.273583</td>\n",
       "    </tr>\n",
       "    <tr>\n",
       "      <th>1</th>\n",
       "      <td>2016-09-01 01:59:59</td>\n",
       "      <td>215.392455</td>\n",
       "      <td>14.987471</td>\n",
       "      <td>8.080000</td>\n",
       "      <td>0.990469</td>\n",
       "      <td>1398.777912</td>\n",
       "      <td>-500.057435</td>\n",
       "      <td>1398.055362</td>\n",
       "      <td>-499.778182</td>\n",
       "      <td>1396.151033</td>\n",
       "      <td>...</td>\n",
       "      <td>8.130979</td>\n",
       "      <td>-499.634209</td>\n",
       "      <td>7.958270</td>\n",
       "      <td>-525.839648</td>\n",
       "      <td>4.878850</td>\n",
       "      <td>-500.162375</td>\n",
       "      <td>25.019940</td>\n",
       "      <td>-499.819438</td>\n",
       "      <td>88.089657</td>\n",
       "      <td>68.910432</td>\n",
       "    </tr>\n",
       "    <tr>\n",
       "      <th>2</th>\n",
       "      <td>2016-09-01 02:59:59</td>\n",
       "      <td>215.259946</td>\n",
       "      <td>12.884934</td>\n",
       "      <td>7.786667</td>\n",
       "      <td>0.996043</td>\n",
       "      <td>1398.493666</td>\n",
       "      <td>-500.868360</td>\n",
       "      <td>1398.860436</td>\n",
       "      <td>-499.764529</td>\n",
       "      <td>1398.075709</td>\n",
       "      <td>...</td>\n",
       "      <td>8.096893</td>\n",
       "      <td>-500.827423</td>\n",
       "      <td>8.071056</td>\n",
       "      <td>-500.801673</td>\n",
       "      <td>4.905125</td>\n",
       "      <td>-499.828510</td>\n",
       "      <td>24.994862</td>\n",
       "      <td>-500.622559</td>\n",
       "      <td>88.412756</td>\n",
       "      <td>68.143213</td>\n",
       "    </tr>\n",
       "    <tr>\n",
       "      <th>3</th>\n",
       "      <td>2016-09-01 03:59:59</td>\n",
       "      <td>215.336236</td>\n",
       "      <td>12.006805</td>\n",
       "      <td>7.640000</td>\n",
       "      <td>0.863514</td>\n",
       "      <td>1399.618111</td>\n",
       "      <td>-498.863574</td>\n",
       "      <td>1397.440120</td>\n",
       "      <td>-499.211024</td>\n",
       "      <td>1400.129303</td>\n",
       "      <td>...</td>\n",
       "      <td>8.074946</td>\n",
       "      <td>-499.474407</td>\n",
       "      <td>7.897085</td>\n",
       "      <td>-500.868509</td>\n",
       "      <td>4.931400</td>\n",
       "      <td>-499.963623</td>\n",
       "      <td>24.948919</td>\n",
       "      <td>-498.709987</td>\n",
       "      <td>87.360133</td>\n",
       "      <td>67.776393</td>\n",
       "    </tr>\n",
       "    <tr>\n",
       "      <th>4</th>\n",
       "      <td>2016-09-01 04:59:59</td>\n",
       "      <td>199.099327</td>\n",
       "      <td>10.682530</td>\n",
       "      <td>7.530000</td>\n",
       "      <td>0.805575</td>\n",
       "      <td>1401.268123</td>\n",
       "      <td>-500.808305</td>\n",
       "      <td>1398.128818</td>\n",
       "      <td>-499.504543</td>\n",
       "      <td>1402.172226</td>\n",
       "      <td>...</td>\n",
       "      <td>8.054678</td>\n",
       "      <td>-500.397500</td>\n",
       "      <td>8.107890</td>\n",
       "      <td>-509.526725</td>\n",
       "      <td>4.957674</td>\n",
       "      <td>-500.360026</td>\n",
       "      <td>25.003331</td>\n",
       "      <td>-500.856333</td>\n",
       "      <td>83.236367</td>\n",
       "      <td>61.467078</td>\n",
       "    </tr>\n",
       "  </tbody>\n",
       "</table>\n",
       "<p>5 rows × 55 columns</p>\n",
       "</div>"
      ],
      "text/plain": [
       "                  date  primary_cleaner.input.sulfate  \\\n",
       "0  2016-09-01 00:59:59                     210.800909   \n",
       "1  2016-09-01 01:59:59                     215.392455   \n",
       "2  2016-09-01 02:59:59                     215.259946   \n",
       "3  2016-09-01 03:59:59                     215.336236   \n",
       "4  2016-09-01 04:59:59                     199.099327   \n",
       "\n",
       "   primary_cleaner.input.depressant  primary_cleaner.input.feed_size  \\\n",
       "0                         14.993118                         8.080000   \n",
       "1                         14.987471                         8.080000   \n",
       "2                         12.884934                         7.786667   \n",
       "3                         12.006805                         7.640000   \n",
       "4                         10.682530                         7.530000   \n",
       "\n",
       "   primary_cleaner.input.xanthate  primary_cleaner.state.floatbank8_a_air  \\\n",
       "0                        1.005021                             1398.981301   \n",
       "1                        0.990469                             1398.777912   \n",
       "2                        0.996043                             1398.493666   \n",
       "3                        0.863514                             1399.618111   \n",
       "4                        0.805575                             1401.268123   \n",
       "\n",
       "   primary_cleaner.state.floatbank8_a_level  \\\n",
       "0                               -500.225577   \n",
       "1                               -500.057435   \n",
       "2                               -500.868360   \n",
       "3                               -498.863574   \n",
       "4                               -500.808305   \n",
       "\n",
       "   primary_cleaner.state.floatbank8_b_air  \\\n",
       "0                             1399.144926   \n",
       "1                             1398.055362   \n",
       "2                             1398.860436   \n",
       "3                             1397.440120   \n",
       "4                             1398.128818   \n",
       "\n",
       "   primary_cleaner.state.floatbank8_b_level  \\\n",
       "0                               -499.919735   \n",
       "1                               -499.778182   \n",
       "2                               -499.764529   \n",
       "3                               -499.211024   \n",
       "4                               -499.504543   \n",
       "\n",
       "   primary_cleaner.state.floatbank8_c_air  ...  \\\n",
       "0                             1400.102998  ...   \n",
       "1                             1396.151033  ...   \n",
       "2                             1398.075709  ...   \n",
       "3                             1400.129303  ...   \n",
       "4                             1402.172226  ...   \n",
       "\n",
       "   secondary_cleaner.state.floatbank4_b_air  \\\n",
       "0                                  8.016656   \n",
       "1                                  8.130979   \n",
       "2                                  8.096893   \n",
       "3                                  8.074946   \n",
       "4                                  8.054678   \n",
       "\n",
       "   secondary_cleaner.state.floatbank4_b_level  \\\n",
       "0                                 -501.289139   \n",
       "1                                 -499.634209   \n",
       "2                                 -500.827423   \n",
       "3                                 -499.474407   \n",
       "4                                 -500.397500   \n",
       "\n",
       "   secondary_cleaner.state.floatbank5_a_air  \\\n",
       "0                                  7.946562   \n",
       "1                                  7.958270   \n",
       "2                                  8.071056   \n",
       "3                                  7.897085   \n",
       "4                                  8.107890   \n",
       "\n",
       "   secondary_cleaner.state.floatbank5_a_level  \\\n",
       "0                                 -432.317850   \n",
       "1                                 -525.839648   \n",
       "2                                 -500.801673   \n",
       "3                                 -500.868509   \n",
       "4                                 -509.526725   \n",
       "\n",
       "   secondary_cleaner.state.floatbank5_b_air  \\\n",
       "0                                  4.872511   \n",
       "1                                  4.878850   \n",
       "2                                  4.905125   \n",
       "3                                  4.931400   \n",
       "4                                  4.957674   \n",
       "\n",
       "   secondary_cleaner.state.floatbank5_b_level  \\\n",
       "0                                 -500.037437   \n",
       "1                                 -500.162375   \n",
       "2                                 -499.828510   \n",
       "3                                 -499.963623   \n",
       "4                                 -500.360026   \n",
       "\n",
       "   secondary_cleaner.state.floatbank6_a_air  \\\n",
       "0                                 26.705889   \n",
       "1                                 25.019940   \n",
       "2                                 24.994862   \n",
       "3                                 24.948919   \n",
       "4                                 25.003331   \n",
       "\n",
       "   secondary_cleaner.state.floatbank6_a_level  rougher.output.recovery  \\\n",
       "0                                 -499.709414                89.993421   \n",
       "1                                 -499.819438                88.089657   \n",
       "2                                 -500.622559                88.412756   \n",
       "3                                 -498.709987                87.360133   \n",
       "4                                 -500.856333                83.236367   \n",
       "\n",
       "   final.output.recovery  \n",
       "0              70.273583  \n",
       "1              68.910432  \n",
       "2              68.143213  \n",
       "3              67.776393  \n",
       "4              61.467078  \n",
       "\n",
       "[5 rows x 55 columns]"
      ]
     },
     "execution_count": 8,
     "metadata": {},
     "output_type": "execute_result"
    }
   ],
   "source": [
    "df_full.set_index('date')\n",
    "df_train.set_index('date')\n",
    "df_test.set_index('date')\n",
    "df_test = df_test.merge(df_full[['rougher.output.recovery', 'final.output.recovery', 'date']],\n",
    "                         how = 'inner', on= 'date')\n",
    "df_test.head()"
   ]
  },
  {
   "cell_type": "markdown",
   "metadata": {},
   "source": [
    "Далее проведем стандартную предобработку - проверим на дубликаты, проработаем пропуски. Проверять будем сначала исходные данные."
   ]
  },
  {
   "cell_type": "code",
   "execution_count": 9,
   "metadata": {
    "scrolled": true
   },
   "outputs": [
    {
     "name": "stdout",
     "output_type": "stream",
     "text": [
      "Количество явных дубликатов: 0\n",
      "Дубликаты столбца date: 2017-09-07 23:59:59    1\n",
      "2018-04-05 20:59:59    1\n",
      "2018-04-12 16:59:59    1\n",
      "2016-11-12 20:59:59    1\n",
      "2016-10-21 18:59:59    1\n",
      "Name: date, dtype: int64\n"
     ]
    }
   ],
   "source": [
    "print('Количество явных дубликатов:', df_full.duplicated().sum())\n",
    "print('Дубликаты столбца date:', df_full['date'].value_counts().head())"
   ]
  },
  {
   "cell_type": "markdown",
   "metadata": {},
   "source": [
    "Дубликатов в исходных данных нет, значит и в выборках их тоже нет."
   ]
  },
  {
   "cell_type": "code",
   "execution_count": 10,
   "metadata": {},
   "outputs": [
    {
     "data": {
      "text/html": [
       "<style  type=\"text/css\" >\n",
       "#T_a475b_row0_col0,#T_a475b_row1_col0,#T_a475b_row2_col0,#T_a475b_row4_col0,#T_a475b_row5_col0,#T_a475b_row6_col0,#T_a475b_row8_col0,#T_a475b_row9_col0,#T_a475b_row12_col0,#T_a475b_row14_col0,#T_a475b_row17_col0,#T_a475b_row18_col0,#T_a475b_row21_col0,#T_a475b_row22_col0,#T_a475b_row23_col0,#T_a475b_row24_col0,#T_a475b_row25_col0,#T_a475b_row26_col0,#T_a475b_row27_col0,#T_a475b_row28_col0,#T_a475b_row29_col0,#T_a475b_row30_col0,#T_a475b_row31_col0,#T_a475b_row32_col0,#T_a475b_row33_col0,#T_a475b_row34_col0,#T_a475b_row39_col0,#T_a475b_row41_col0,#T_a475b_row44_col0,#T_a475b_row45_col0,#T_a475b_row47_col0,#T_a475b_row48_col0,#T_a475b_row49_col0,#T_a475b_row50_col0,#T_a475b_row51_col0,#T_a475b_row52_col0,#T_a475b_row53_col0,#T_a475b_row54_col0,#T_a475b_row55_col0,#T_a475b_row56_col0,#T_a475b_row57_col0,#T_a475b_row58_col0,#T_a475b_row59_col0,#T_a475b_row60_col0,#T_a475b_row62_col0,#T_a475b_row63_col0,#T_a475b_row64_col0,#T_a475b_row65_col0,#T_a475b_row68_col0,#T_a475b_row70_col0,#T_a475b_row72_col0,#T_a475b_row74_col0,#T_a475b_row75_col0,#T_a475b_row76_col0,#T_a475b_row77_col0,#T_a475b_row78_col0,#T_a475b_row79_col0,#T_a475b_row80_col0,#T_a475b_row81_col0,#T_a475b_row82_col0,#T_a475b_row83_col0,#T_a475b_row84_col0,#T_a475b_row85_col0,#T_a475b_row86_col0{\n",
       "            background-color:  #3b4cc0;\n",
       "            color:  #f1f1f1;\n",
       "        }#T_a475b_row3_col0,#T_a475b_row69_col0{\n",
       "            background-color:  #6180e9;\n",
       "            color:  #000000;\n",
       "        }#T_a475b_row7_col0,#T_a475b_row13_col0,#T_a475b_row35_col0,#T_a475b_row38_col0{\n",
       "            background-color:  #4b64d5;\n",
       "            color:  #f1f1f1;\n",
       "        }#T_a475b_row10_col0,#T_a475b_row19_col0,#T_a475b_row36_col0,#T_a475b_row46_col0,#T_a475b_row66_col0,#T_a475b_row71_col0,#T_a475b_row73_col0{\n",
       "            background-color:  #3d50c3;\n",
       "            color:  #f1f1f1;\n",
       "        }#T_a475b_row11_col0,#T_a475b_row40_col0,#T_a475b_row42_col0{\n",
       "            background-color:  #4055c8;\n",
       "            color:  #f1f1f1;\n",
       "        }#T_a475b_row15_col0{\n",
       "            background-color:  #4f69d9;\n",
       "            color:  #000000;\n",
       "        }#T_a475b_row16_col0{\n",
       "            background-color:  #80a3fa;\n",
       "            color:  #000000;\n",
       "        }#T_a475b_row20_col0{\n",
       "            background-color:  #445acc;\n",
       "            color:  #f1f1f1;\n",
       "        }#T_a475b_row37_col0{\n",
       "            background-color:  #516ddb;\n",
       "            color:  #000000;\n",
       "        }#T_a475b_row43_col0{\n",
       "            background-color:  #8fb1fe;\n",
       "            color:  #000000;\n",
       "        }#T_a475b_row61_col0{\n",
       "            background-color:  #8badfd;\n",
       "            color:  #000000;\n",
       "        }#T_a475b_row67_col0{\n",
       "            background-color:  #b40426;\n",
       "            color:  #f1f1f1;\n",
       "        }</style><table id=\"T_a475b_\" ><thead>    <tr>        <th class=\"blank level0\" ></th>        <th class=\"col_heading level0 col0\" >0</th>    </tr></thead><tbody>\n",
       "                <tr>\n",
       "                        <th id=\"T_a475b_level0_row0\" class=\"row_heading level0 row0\" >date</th>\n",
       "                        <td id=\"T_a475b_row0_col0\" class=\"data row0 col0\" >0.000000</td>\n",
       "            </tr>\n",
       "            <tr>\n",
       "                        <th id=\"T_a475b_level0_row1\" class=\"row_heading level0 row1\" >final.output.concentrate_ag</th>\n",
       "                        <td id=\"T_a475b_row1_col0\" class=\"data row1 col0\" >0.000000</td>\n",
       "            </tr>\n",
       "            <tr>\n",
       "                        <th id=\"T_a475b_level0_row2\" class=\"row_heading level0 row2\" >final.output.concentrate_pb</th>\n",
       "                        <td id=\"T_a475b_row2_col0\" class=\"data row2 col0\" >0.000000</td>\n",
       "            </tr>\n",
       "            <tr>\n",
       "                        <th id=\"T_a475b_level0_row3\" class=\"row_heading level0 row3\" >final.output.concentrate_sol</th>\n",
       "                        <td id=\"T_a475b_row3_col0\" class=\"data row3 col0\" >1.100000</td>\n",
       "            </tr>\n",
       "            <tr>\n",
       "                        <th id=\"T_a475b_level0_row4\" class=\"row_heading level0 row4\" >final.output.concentrate_au</th>\n",
       "                        <td id=\"T_a475b_row4_col0\" class=\"data row4 col0\" >0.000000</td>\n",
       "            </tr>\n",
       "            <tr>\n",
       "                        <th id=\"T_a475b_level0_row5\" class=\"row_heading level0 row5\" >final.output.recovery</th>\n",
       "                        <td id=\"T_a475b_row5_col0\" class=\"data row5 col0\" >0.000000</td>\n",
       "            </tr>\n",
       "            <tr>\n",
       "                        <th id=\"T_a475b_level0_row6\" class=\"row_heading level0 row6\" >final.output.tail_ag</th>\n",
       "                        <td id=\"T_a475b_row6_col0\" class=\"data row6 col0\" >0.000000</td>\n",
       "            </tr>\n",
       "            <tr>\n",
       "                        <th id=\"T_a475b_level0_row7\" class=\"row_heading level0 row7\" >final.output.tail_pb</th>\n",
       "                        <td id=\"T_a475b_row7_col0\" class=\"data row7 col0\" >0.500000</td>\n",
       "            </tr>\n",
       "            <tr>\n",
       "                        <th id=\"T_a475b_level0_row8\" class=\"row_heading level0 row8\" >final.output.tail_sol</th>\n",
       "                        <td id=\"T_a475b_row8_col0\" class=\"data row8 col0\" >0.000000</td>\n",
       "            </tr>\n",
       "            <tr>\n",
       "                        <th id=\"T_a475b_level0_row9\" class=\"row_heading level0 row9\" >final.output.tail_au</th>\n",
       "                        <td id=\"T_a475b_row9_col0\" class=\"data row9 col0\" >0.000000</td>\n",
       "            </tr>\n",
       "            <tr>\n",
       "                        <th id=\"T_a475b_level0_row10\" class=\"row_heading level0 row10\" >primary_cleaner.input.sulfate</th>\n",
       "                        <td id=\"T_a475b_row10_col0\" class=\"data row10 col0\" >0.100000</td>\n",
       "            </tr>\n",
       "            <tr>\n",
       "                        <th id=\"T_a475b_level0_row11\" class=\"row_heading level0 row11\" >primary_cleaner.input.depressant</th>\n",
       "                        <td id=\"T_a475b_row11_col0\" class=\"data row11 col0\" >0.200000</td>\n",
       "            </tr>\n",
       "            <tr>\n",
       "                        <th id=\"T_a475b_level0_row12\" class=\"row_heading level0 row12\" >primary_cleaner.input.feed_size</th>\n",
       "                        <td id=\"T_a475b_row12_col0\" class=\"data row12 col0\" >0.000000</td>\n",
       "            </tr>\n",
       "            <tr>\n",
       "                        <th id=\"T_a475b_level0_row13\" class=\"row_heading level0 row13\" >primary_cleaner.input.xanthate</th>\n",
       "                        <td id=\"T_a475b_row13_col0\" class=\"data row13 col0\" >0.500000</td>\n",
       "            </tr>\n",
       "            <tr>\n",
       "                        <th id=\"T_a475b_level0_row14\" class=\"row_heading level0 row14\" >primary_cleaner.output.concentrate_ag</th>\n",
       "                        <td id=\"T_a475b_row14_col0\" class=\"data row14 col0\" >0.000000</td>\n",
       "            </tr>\n",
       "            <tr>\n",
       "                        <th id=\"T_a475b_level0_row15\" class=\"row_heading level0 row15\" >primary_cleaner.output.concentrate_pb</th>\n",
       "                        <td id=\"T_a475b_row15_col0\" class=\"data row15 col0\" >0.600000</td>\n",
       "            </tr>\n",
       "            <tr>\n",
       "                        <th id=\"T_a475b_level0_row16\" class=\"row_heading level0 row16\" >primary_cleaner.output.concentrate_sol</th>\n",
       "                        <td id=\"T_a475b_row16_col0\" class=\"data row16 col0\" >1.900000</td>\n",
       "            </tr>\n",
       "            <tr>\n",
       "                        <th id=\"T_a475b_level0_row17\" class=\"row_heading level0 row17\" >primary_cleaner.output.concentrate_au</th>\n",
       "                        <td id=\"T_a475b_row17_col0\" class=\"data row17 col0\" >0.000000</td>\n",
       "            </tr>\n",
       "            <tr>\n",
       "                        <th id=\"T_a475b_level0_row18\" class=\"row_heading level0 row18\" >primary_cleaner.output.tail_ag</th>\n",
       "                        <td id=\"T_a475b_row18_col0\" class=\"data row18 col0\" >0.000000</td>\n",
       "            </tr>\n",
       "            <tr>\n",
       "                        <th id=\"T_a475b_level0_row19\" class=\"row_heading level0 row19\" >primary_cleaner.output.tail_pb</th>\n",
       "                        <td id=\"T_a475b_row19_col0\" class=\"data row19 col0\" >0.100000</td>\n",
       "            </tr>\n",
       "            <tr>\n",
       "                        <th id=\"T_a475b_level0_row20\" class=\"row_heading level0 row20\" >primary_cleaner.output.tail_sol</th>\n",
       "                        <td id=\"T_a475b_row20_col0\" class=\"data row20 col0\" >0.300000</td>\n",
       "            </tr>\n",
       "            <tr>\n",
       "                        <th id=\"T_a475b_level0_row21\" class=\"row_heading level0 row21\" >primary_cleaner.output.tail_au</th>\n",
       "                        <td id=\"T_a475b_row21_col0\" class=\"data row21 col0\" >0.000000</td>\n",
       "            </tr>\n",
       "            <tr>\n",
       "                        <th id=\"T_a475b_level0_row22\" class=\"row_heading level0 row22\" >primary_cleaner.state.floatbank8_a_air</th>\n",
       "                        <td id=\"T_a475b_row22_col0\" class=\"data row22 col0\" >0.000000</td>\n",
       "            </tr>\n",
       "            <tr>\n",
       "                        <th id=\"T_a475b_level0_row23\" class=\"row_heading level0 row23\" >primary_cleaner.state.floatbank8_a_level</th>\n",
       "                        <td id=\"T_a475b_row23_col0\" class=\"data row23 col0\" >0.000000</td>\n",
       "            </tr>\n",
       "            <tr>\n",
       "                        <th id=\"T_a475b_level0_row24\" class=\"row_heading level0 row24\" >primary_cleaner.state.floatbank8_b_air</th>\n",
       "                        <td id=\"T_a475b_row24_col0\" class=\"data row24 col0\" >0.000000</td>\n",
       "            </tr>\n",
       "            <tr>\n",
       "                        <th id=\"T_a475b_level0_row25\" class=\"row_heading level0 row25\" >primary_cleaner.state.floatbank8_b_level</th>\n",
       "                        <td id=\"T_a475b_row25_col0\" class=\"data row25 col0\" >0.000000</td>\n",
       "            </tr>\n",
       "            <tr>\n",
       "                        <th id=\"T_a475b_level0_row26\" class=\"row_heading level0 row26\" >primary_cleaner.state.floatbank8_c_air</th>\n",
       "                        <td id=\"T_a475b_row26_col0\" class=\"data row26 col0\" >0.000000</td>\n",
       "            </tr>\n",
       "            <tr>\n",
       "                        <th id=\"T_a475b_level0_row27\" class=\"row_heading level0 row27\" >primary_cleaner.state.floatbank8_c_level</th>\n",
       "                        <td id=\"T_a475b_row27_col0\" class=\"data row27 col0\" >0.000000</td>\n",
       "            </tr>\n",
       "            <tr>\n",
       "                        <th id=\"T_a475b_level0_row28\" class=\"row_heading level0 row28\" >primary_cleaner.state.floatbank8_d_air</th>\n",
       "                        <td id=\"T_a475b_row28_col0\" class=\"data row28 col0\" >0.000000</td>\n",
       "            </tr>\n",
       "            <tr>\n",
       "                        <th id=\"T_a475b_level0_row29\" class=\"row_heading level0 row29\" >primary_cleaner.state.floatbank8_d_level</th>\n",
       "                        <td id=\"T_a475b_row29_col0\" class=\"data row29 col0\" >0.000000</td>\n",
       "            </tr>\n",
       "            <tr>\n",
       "                        <th id=\"T_a475b_level0_row30\" class=\"row_heading level0 row30\" >rougher.calculation.sulfate_to_au_concentrate</th>\n",
       "                        <td id=\"T_a475b_row30_col0\" class=\"data row30 col0\" >0.000000</td>\n",
       "            </tr>\n",
       "            <tr>\n",
       "                        <th id=\"T_a475b_level0_row31\" class=\"row_heading level0 row31\" >rougher.calculation.floatbank10_sulfate_to_au_feed</th>\n",
       "                        <td id=\"T_a475b_row31_col0\" class=\"data row31 col0\" >0.000000</td>\n",
       "            </tr>\n",
       "            <tr>\n",
       "                        <th id=\"T_a475b_level0_row32\" class=\"row_heading level0 row32\" >rougher.calculation.floatbank11_sulfate_to_au_feed</th>\n",
       "                        <td id=\"T_a475b_row32_col0\" class=\"data row32 col0\" >0.000000</td>\n",
       "            </tr>\n",
       "            <tr>\n",
       "                        <th id=\"T_a475b_level0_row33\" class=\"row_heading level0 row33\" >rougher.calculation.au_pb_ratio</th>\n",
       "                        <td id=\"T_a475b_row33_col0\" class=\"data row33 col0\" >0.000000</td>\n",
       "            </tr>\n",
       "            <tr>\n",
       "                        <th id=\"T_a475b_level0_row34\" class=\"row_heading level0 row34\" >rougher.input.feed_ag</th>\n",
       "                        <td id=\"T_a475b_row34_col0\" class=\"data row34 col0\" >0.000000</td>\n",
       "            </tr>\n",
       "            <tr>\n",
       "                        <th id=\"T_a475b_level0_row35\" class=\"row_heading level0 row35\" >rougher.input.feed_pb</th>\n",
       "                        <td id=\"T_a475b_row35_col0\" class=\"data row35 col0\" >0.500000</td>\n",
       "            </tr>\n",
       "            <tr>\n",
       "                        <th id=\"T_a475b_level0_row36\" class=\"row_heading level0 row36\" >rougher.input.feed_rate</th>\n",
       "                        <td id=\"T_a475b_row36_col0\" class=\"data row36 col0\" >0.100000</td>\n",
       "            </tr>\n",
       "            <tr>\n",
       "                        <th id=\"T_a475b_level0_row37\" class=\"row_heading level0 row37\" >rougher.input.feed_size</th>\n",
       "                        <td id=\"T_a475b_row37_col0\" class=\"data row37 col0\" >0.700000</td>\n",
       "            </tr>\n",
       "            <tr>\n",
       "                        <th id=\"T_a475b_level0_row38\" class=\"row_heading level0 row38\" >rougher.input.feed_sol</th>\n",
       "                        <td id=\"T_a475b_row38_col0\" class=\"data row38 col0\" >0.500000</td>\n",
       "            </tr>\n",
       "            <tr>\n",
       "                        <th id=\"T_a475b_level0_row39\" class=\"row_heading level0 row39\" >rougher.input.feed_au</th>\n",
       "                        <td id=\"T_a475b_row39_col0\" class=\"data row39 col0\" >0.000000</td>\n",
       "            </tr>\n",
       "            <tr>\n",
       "                        <th id=\"T_a475b_level0_row40\" class=\"row_heading level0 row40\" >rougher.input.floatbank10_sulfate</th>\n",
       "                        <td id=\"T_a475b_row40_col0\" class=\"data row40 col0\" >0.200000</td>\n",
       "            </tr>\n",
       "            <tr>\n",
       "                        <th id=\"T_a475b_level0_row41\" class=\"row_heading level0 row41\" >rougher.input.floatbank10_xanthate</th>\n",
       "                        <td id=\"T_a475b_row41_col0\" class=\"data row41 col0\" >0.000000</td>\n",
       "            </tr>\n",
       "            <tr>\n",
       "                        <th id=\"T_a475b_level0_row42\" class=\"row_heading level0 row42\" >rougher.input.floatbank11_sulfate</th>\n",
       "                        <td id=\"T_a475b_row42_col0\" class=\"data row42 col0\" >0.200000</td>\n",
       "            </tr>\n",
       "            <tr>\n",
       "                        <th id=\"T_a475b_level0_row43\" class=\"row_heading level0 row43\" >rougher.input.floatbank11_xanthate</th>\n",
       "                        <td id=\"T_a475b_row43_col0\" class=\"data row43 col0\" >2.300000</td>\n",
       "            </tr>\n",
       "            <tr>\n",
       "                        <th id=\"T_a475b_level0_row44\" class=\"row_heading level0 row44\" >rougher.output.concentrate_ag</th>\n",
       "                        <td id=\"T_a475b_row44_col0\" class=\"data row44 col0\" >0.000000</td>\n",
       "            </tr>\n",
       "            <tr>\n",
       "                        <th id=\"T_a475b_level0_row45\" class=\"row_heading level0 row45\" >rougher.output.concentrate_pb</th>\n",
       "                        <td id=\"T_a475b_row45_col0\" class=\"data row45 col0\" >0.000000</td>\n",
       "            </tr>\n",
       "            <tr>\n",
       "                        <th id=\"T_a475b_level0_row46\" class=\"row_heading level0 row46\" >rougher.output.concentrate_sol</th>\n",
       "                        <td id=\"T_a475b_row46_col0\" class=\"data row46 col0\" >0.100000</td>\n",
       "            </tr>\n",
       "            <tr>\n",
       "                        <th id=\"T_a475b_level0_row47\" class=\"row_heading level0 row47\" >rougher.output.concentrate_au</th>\n",
       "                        <td id=\"T_a475b_row47_col0\" class=\"data row47 col0\" >0.000000</td>\n",
       "            </tr>\n",
       "            <tr>\n",
       "                        <th id=\"T_a475b_level0_row48\" class=\"row_heading level0 row48\" >rougher.output.recovery</th>\n",
       "                        <td id=\"T_a475b_row48_col0\" class=\"data row48 col0\" >0.000000</td>\n",
       "            </tr>\n",
       "            <tr>\n",
       "                        <th id=\"T_a475b_level0_row49\" class=\"row_heading level0 row49\" >rougher.output.tail_ag</th>\n",
       "                        <td id=\"T_a475b_row49_col0\" class=\"data row49 col0\" >0.000000</td>\n",
       "            </tr>\n",
       "            <tr>\n",
       "                        <th id=\"T_a475b_level0_row50\" class=\"row_heading level0 row50\" >rougher.output.tail_pb</th>\n",
       "                        <td id=\"T_a475b_row50_col0\" class=\"data row50 col0\" >0.000000</td>\n",
       "            </tr>\n",
       "            <tr>\n",
       "                        <th id=\"T_a475b_level0_row51\" class=\"row_heading level0 row51\" >rougher.output.tail_sol</th>\n",
       "                        <td id=\"T_a475b_row51_col0\" class=\"data row51 col0\" >0.000000</td>\n",
       "            </tr>\n",
       "            <tr>\n",
       "                        <th id=\"T_a475b_level0_row52\" class=\"row_heading level0 row52\" >rougher.output.tail_au</th>\n",
       "                        <td id=\"T_a475b_row52_col0\" class=\"data row52 col0\" >0.000000</td>\n",
       "            </tr>\n",
       "            <tr>\n",
       "                        <th id=\"T_a475b_level0_row53\" class=\"row_heading level0 row53\" >rougher.state.floatbank10_a_air</th>\n",
       "                        <td id=\"T_a475b_row53_col0\" class=\"data row53 col0\" >0.000000</td>\n",
       "            </tr>\n",
       "            <tr>\n",
       "                        <th id=\"T_a475b_level0_row54\" class=\"row_heading level0 row54\" >rougher.state.floatbank10_a_level</th>\n",
       "                        <td id=\"T_a475b_row54_col0\" class=\"data row54 col0\" >0.000000</td>\n",
       "            </tr>\n",
       "            <tr>\n",
       "                        <th id=\"T_a475b_level0_row55\" class=\"row_heading level0 row55\" >rougher.state.floatbank10_b_air</th>\n",
       "                        <td id=\"T_a475b_row55_col0\" class=\"data row55 col0\" >0.000000</td>\n",
       "            </tr>\n",
       "            <tr>\n",
       "                        <th id=\"T_a475b_level0_row56\" class=\"row_heading level0 row56\" >rougher.state.floatbank10_b_level</th>\n",
       "                        <td id=\"T_a475b_row56_col0\" class=\"data row56 col0\" >0.000000</td>\n",
       "            </tr>\n",
       "            <tr>\n",
       "                        <th id=\"T_a475b_level0_row57\" class=\"row_heading level0 row57\" >rougher.state.floatbank10_c_air</th>\n",
       "                        <td id=\"T_a475b_row57_col0\" class=\"data row57 col0\" >0.000000</td>\n",
       "            </tr>\n",
       "            <tr>\n",
       "                        <th id=\"T_a475b_level0_row58\" class=\"row_heading level0 row58\" >rougher.state.floatbank10_c_level</th>\n",
       "                        <td id=\"T_a475b_row58_col0\" class=\"data row58 col0\" >0.000000</td>\n",
       "            </tr>\n",
       "            <tr>\n",
       "                        <th id=\"T_a475b_level0_row59\" class=\"row_heading level0 row59\" >rougher.state.floatbank10_d_air</th>\n",
       "                        <td id=\"T_a475b_row59_col0\" class=\"data row59 col0\" >0.000000</td>\n",
       "            </tr>\n",
       "            <tr>\n",
       "                        <th id=\"T_a475b_level0_row60\" class=\"row_heading level0 row60\" >rougher.state.floatbank10_d_level</th>\n",
       "                        <td id=\"T_a475b_row60_col0\" class=\"data row60 col0\" >0.000000</td>\n",
       "            </tr>\n",
       "            <tr>\n",
       "                        <th id=\"T_a475b_level0_row61\" class=\"row_heading level0 row61\" >rougher.state.floatbank10_e_air</th>\n",
       "                        <td id=\"T_a475b_row61_col0\" class=\"data row61 col0\" >2.200000</td>\n",
       "            </tr>\n",
       "            <tr>\n",
       "                        <th id=\"T_a475b_level0_row62\" class=\"row_heading level0 row62\" >rougher.state.floatbank10_e_level</th>\n",
       "                        <td id=\"T_a475b_row62_col0\" class=\"data row62 col0\" >0.000000</td>\n",
       "            </tr>\n",
       "            <tr>\n",
       "                        <th id=\"T_a475b_level0_row63\" class=\"row_heading level0 row63\" >rougher.state.floatbank10_f_air</th>\n",
       "                        <td id=\"T_a475b_row63_col0\" class=\"data row63 col0\" >0.000000</td>\n",
       "            </tr>\n",
       "            <tr>\n",
       "                        <th id=\"T_a475b_level0_row64\" class=\"row_heading level0 row64\" >rougher.state.floatbank10_f_level</th>\n",
       "                        <td id=\"T_a475b_row64_col0\" class=\"data row64 col0\" >0.000000</td>\n",
       "            </tr>\n",
       "            <tr>\n",
       "                        <th id=\"T_a475b_level0_row65\" class=\"row_heading level0 row65\" >secondary_cleaner.output.tail_ag</th>\n",
       "                        <td id=\"T_a475b_row65_col0\" class=\"data row65 col0\" >0.000000</td>\n",
       "            </tr>\n",
       "            <tr>\n",
       "                        <th id=\"T_a475b_level0_row66\" class=\"row_heading level0 row66\" >secondary_cleaner.output.tail_pb</th>\n",
       "                        <td id=\"T_a475b_row66_col0\" class=\"data row66 col0\" >0.100000</td>\n",
       "            </tr>\n",
       "            <tr>\n",
       "                        <th id=\"T_a475b_level0_row67\" class=\"row_heading level0 row67\" >secondary_cleaner.output.tail_sol</th>\n",
       "                        <td id=\"T_a475b_row67_col0\" class=\"data row67 col0\" >9.000000</td>\n",
       "            </tr>\n",
       "            <tr>\n",
       "                        <th id=\"T_a475b_level0_row68\" class=\"row_heading level0 row68\" >secondary_cleaner.output.tail_au</th>\n",
       "                        <td id=\"T_a475b_row68_col0\" class=\"data row68 col0\" >0.000000</td>\n",
       "            </tr>\n",
       "            <tr>\n",
       "                        <th id=\"T_a475b_level0_row69\" class=\"row_heading level0 row69\" >secondary_cleaner.state.floatbank2_a_air</th>\n",
       "                        <td id=\"T_a475b_row69_col0\" class=\"data row69 col0\" >1.100000</td>\n",
       "            </tr>\n",
       "            <tr>\n",
       "                        <th id=\"T_a475b_level0_row70\" class=\"row_heading level0 row70\" >secondary_cleaner.state.floatbank2_a_level</th>\n",
       "                        <td id=\"T_a475b_row70_col0\" class=\"data row70 col0\" >0.000000</td>\n",
       "            </tr>\n",
       "            <tr>\n",
       "                        <th id=\"T_a475b_level0_row71\" class=\"row_heading level0 row71\" >secondary_cleaner.state.floatbank2_b_air</th>\n",
       "                        <td id=\"T_a475b_row71_col0\" class=\"data row71 col0\" >0.100000</td>\n",
       "            </tr>\n",
       "            <tr>\n",
       "                        <th id=\"T_a475b_level0_row72\" class=\"row_heading level0 row72\" >secondary_cleaner.state.floatbank2_b_level</th>\n",
       "                        <td id=\"T_a475b_row72_col0\" class=\"data row72 col0\" >0.000000</td>\n",
       "            </tr>\n",
       "            <tr>\n",
       "                        <th id=\"T_a475b_level0_row73\" class=\"row_heading level0 row73\" >secondary_cleaner.state.floatbank3_a_air</th>\n",
       "                        <td id=\"T_a475b_row73_col0\" class=\"data row73 col0\" >0.100000</td>\n",
       "            </tr>\n",
       "            <tr>\n",
       "                        <th id=\"T_a475b_level0_row74\" class=\"row_heading level0 row74\" >secondary_cleaner.state.floatbank3_a_level</th>\n",
       "                        <td id=\"T_a475b_row74_col0\" class=\"data row74 col0\" >0.000000</td>\n",
       "            </tr>\n",
       "            <tr>\n",
       "                        <th id=\"T_a475b_level0_row75\" class=\"row_heading level0 row75\" >secondary_cleaner.state.floatbank3_b_air</th>\n",
       "                        <td id=\"T_a475b_row75_col0\" class=\"data row75 col0\" >0.000000</td>\n",
       "            </tr>\n",
       "            <tr>\n",
       "                        <th id=\"T_a475b_level0_row76\" class=\"row_heading level0 row76\" >secondary_cleaner.state.floatbank3_b_level</th>\n",
       "                        <td id=\"T_a475b_row76_col0\" class=\"data row76 col0\" >0.000000</td>\n",
       "            </tr>\n",
       "            <tr>\n",
       "                        <th id=\"T_a475b_level0_row77\" class=\"row_heading level0 row77\" >secondary_cleaner.state.floatbank4_a_air</th>\n",
       "                        <td id=\"T_a475b_row77_col0\" class=\"data row77 col0\" >0.000000</td>\n",
       "            </tr>\n",
       "            <tr>\n",
       "                        <th id=\"T_a475b_level0_row78\" class=\"row_heading level0 row78\" >secondary_cleaner.state.floatbank4_a_level</th>\n",
       "                        <td id=\"T_a475b_row78_col0\" class=\"data row78 col0\" >0.000000</td>\n",
       "            </tr>\n",
       "            <tr>\n",
       "                        <th id=\"T_a475b_level0_row79\" class=\"row_heading level0 row79\" >secondary_cleaner.state.floatbank4_b_air</th>\n",
       "                        <td id=\"T_a475b_row79_col0\" class=\"data row79 col0\" >0.000000</td>\n",
       "            </tr>\n",
       "            <tr>\n",
       "                        <th id=\"T_a475b_level0_row80\" class=\"row_heading level0 row80\" >secondary_cleaner.state.floatbank4_b_level</th>\n",
       "                        <td id=\"T_a475b_row80_col0\" class=\"data row80 col0\" >0.000000</td>\n",
       "            </tr>\n",
       "            <tr>\n",
       "                        <th id=\"T_a475b_level0_row81\" class=\"row_heading level0 row81\" >secondary_cleaner.state.floatbank5_a_air</th>\n",
       "                        <td id=\"T_a475b_row81_col0\" class=\"data row81 col0\" >0.000000</td>\n",
       "            </tr>\n",
       "            <tr>\n",
       "                        <th id=\"T_a475b_level0_row82\" class=\"row_heading level0 row82\" >secondary_cleaner.state.floatbank5_a_level</th>\n",
       "                        <td id=\"T_a475b_row82_col0\" class=\"data row82 col0\" >0.000000</td>\n",
       "            </tr>\n",
       "            <tr>\n",
       "                        <th id=\"T_a475b_level0_row83\" class=\"row_heading level0 row83\" >secondary_cleaner.state.floatbank5_b_air</th>\n",
       "                        <td id=\"T_a475b_row83_col0\" class=\"data row83 col0\" >0.000000</td>\n",
       "            </tr>\n",
       "            <tr>\n",
       "                        <th id=\"T_a475b_level0_row84\" class=\"row_heading level0 row84\" >secondary_cleaner.state.floatbank5_b_level</th>\n",
       "                        <td id=\"T_a475b_row84_col0\" class=\"data row84 col0\" >0.000000</td>\n",
       "            </tr>\n",
       "            <tr>\n",
       "                        <th id=\"T_a475b_level0_row85\" class=\"row_heading level0 row85\" >secondary_cleaner.state.floatbank6_a_air</th>\n",
       "                        <td id=\"T_a475b_row85_col0\" class=\"data row85 col0\" >0.000000</td>\n",
       "            </tr>\n",
       "            <tr>\n",
       "                        <th id=\"T_a475b_level0_row86\" class=\"row_heading level0 row86\" >secondary_cleaner.state.floatbank6_a_level</th>\n",
       "                        <td id=\"T_a475b_row86_col0\" class=\"data row86 col0\" >0.000000</td>\n",
       "            </tr>\n",
       "    </tbody></table>"
      ],
      "text/plain": [
       "<pandas.io.formats.style.Styler at 0x7f094d14a460>"
      ]
     },
     "execution_count": 10,
     "metadata": {},
     "output_type": "execute_result"
    }
   ],
   "source": [
    "# посмотрим пропуски в исходных данных и выборках\n",
    "pd.DataFrame(round(df_full.isna().mean()*100,1)).style.background_gradient('coolwarm')"
   ]
  },
  {
   "cell_type": "code",
   "execution_count": 11,
   "metadata": {},
   "outputs": [
    {
     "data": {
      "text/html": [
       "<style  type=\"text/css\" >\n",
       "#T_aa094_row0_col0,#T_aa094_row1_col0,#T_aa094_row2_col0,#T_aa094_row4_col0,#T_aa094_row5_col0,#T_aa094_row6_col0,#T_aa094_row8_col0,#T_aa094_row9_col0,#T_aa094_row12_col0,#T_aa094_row14_col0,#T_aa094_row17_col0,#T_aa094_row18_col0,#T_aa094_row21_col0,#T_aa094_row22_col0,#T_aa094_row23_col0,#T_aa094_row24_col0,#T_aa094_row25_col0,#T_aa094_row26_col0,#T_aa094_row27_col0,#T_aa094_row28_col0,#T_aa094_row29_col0,#T_aa094_row30_col0,#T_aa094_row31_col0,#T_aa094_row32_col0,#T_aa094_row33_col0,#T_aa094_row34_col0,#T_aa094_row39_col0,#T_aa094_row44_col0,#T_aa094_row45_col0,#T_aa094_row47_col0,#T_aa094_row48_col0,#T_aa094_row49_col0,#T_aa094_row50_col0,#T_aa094_row51_col0,#T_aa094_row52_col0,#T_aa094_row53_col0,#T_aa094_row54_col0,#T_aa094_row55_col0,#T_aa094_row56_col0,#T_aa094_row57_col0,#T_aa094_row58_col0,#T_aa094_row59_col0,#T_aa094_row60_col0,#T_aa094_row62_col0,#T_aa094_row63_col0,#T_aa094_row64_col0,#T_aa094_row65_col0,#T_aa094_row68_col0,#T_aa094_row70_col0,#T_aa094_row72_col0,#T_aa094_row73_col0,#T_aa094_row74_col0,#T_aa094_row75_col0,#T_aa094_row76_col0,#T_aa094_row77_col0,#T_aa094_row78_col0,#T_aa094_row79_col0,#T_aa094_row80_col0,#T_aa094_row81_col0,#T_aa094_row82_col0,#T_aa094_row83_col0,#T_aa094_row84_col0,#T_aa094_row85_col0,#T_aa094_row86_col0{\n",
       "            background-color:  #3b4cc0;\n",
       "            color:  #f1f1f1;\n",
       "        }#T_aa094_row3_col0,#T_aa094_row69_col0{\n",
       "            background-color:  #6384eb;\n",
       "            color:  #000000;\n",
       "        }#T_aa094_row7_col0,#T_aa094_row13_col0,#T_aa094_row35_col0{\n",
       "            background-color:  #4c66d6;\n",
       "            color:  #000000;\n",
       "        }#T_aa094_row10_col0,#T_aa094_row19_col0,#T_aa094_row36_col0,#T_aa094_row41_col0,#T_aa094_row66_col0,#T_aa094_row71_col0{\n",
       "            background-color:  #3d50c3;\n",
       "            color:  #f1f1f1;\n",
       "        }#T_aa094_row11_col0,#T_aa094_row40_col0,#T_aa094_row46_col0{\n",
       "            background-color:  #3f53c6;\n",
       "            color:  #f1f1f1;\n",
       "        }#T_aa094_row15_col0,#T_aa094_row38_col0{\n",
       "            background-color:  #4a63d3;\n",
       "            color:  #f1f1f1;\n",
       "        }#T_aa094_row16_col0{\n",
       "            background-color:  #7396f5;\n",
       "            color:  #000000;\n",
       "        }#T_aa094_row20_col0,#T_aa094_row42_col0{\n",
       "            background-color:  #4257c9;\n",
       "            color:  #f1f1f1;\n",
       "        }#T_aa094_row37_col0{\n",
       "            background-color:  #5572df;\n",
       "            color:  #000000;\n",
       "        }#T_aa094_row43_col0{\n",
       "            background-color:  #92b4fe;\n",
       "            color:  #000000;\n",
       "        }#T_aa094_row61_col0{\n",
       "            background-color:  #96b7ff;\n",
       "            color:  #000000;\n",
       "        }#T_aa094_row67_col0{\n",
       "            background-color:  #b40426;\n",
       "            color:  #f1f1f1;\n",
       "        }</style><table id=\"T_aa094_\" ><thead>    <tr>        <th class=\"blank level0\" ></th>        <th class=\"col_heading level0 col0\" >0</th>    </tr></thead><tbody>\n",
       "                <tr>\n",
       "                        <th id=\"T_aa094_level0_row0\" class=\"row_heading level0 row0\" >date</th>\n",
       "                        <td id=\"T_aa094_row0_col0\" class=\"data row0 col0\" >0.000000</td>\n",
       "            </tr>\n",
       "            <tr>\n",
       "                        <th id=\"T_aa094_level0_row1\" class=\"row_heading level0 row1\" >final.output.concentrate_ag</th>\n",
       "                        <td id=\"T_aa094_row1_col0\" class=\"data row1 col0\" >0.000000</td>\n",
       "            </tr>\n",
       "            <tr>\n",
       "                        <th id=\"T_aa094_level0_row2\" class=\"row_heading level0 row2\" >final.output.concentrate_pb</th>\n",
       "                        <td id=\"T_aa094_row2_col0\" class=\"data row2 col0\" >0.000000</td>\n",
       "            </tr>\n",
       "            <tr>\n",
       "                        <th id=\"T_aa094_level0_row3\" class=\"row_heading level0 row3\" >final.output.concentrate_sol</th>\n",
       "                        <td id=\"T_aa094_row3_col0\" class=\"data row3 col0\" >1.500000</td>\n",
       "            </tr>\n",
       "            <tr>\n",
       "                        <th id=\"T_aa094_level0_row4\" class=\"row_heading level0 row4\" >final.output.concentrate_au</th>\n",
       "                        <td id=\"T_aa094_row4_col0\" class=\"data row4 col0\" >0.000000</td>\n",
       "            </tr>\n",
       "            <tr>\n",
       "                        <th id=\"T_aa094_level0_row5\" class=\"row_heading level0 row5\" >final.output.recovery</th>\n",
       "                        <td id=\"T_aa094_row5_col0\" class=\"data row5 col0\" >0.000000</td>\n",
       "            </tr>\n",
       "            <tr>\n",
       "                        <th id=\"T_aa094_level0_row6\" class=\"row_heading level0 row6\" >final.output.tail_ag</th>\n",
       "                        <td id=\"T_aa094_row6_col0\" class=\"data row6 col0\" >0.000000</td>\n",
       "            </tr>\n",
       "            <tr>\n",
       "                        <th id=\"T_aa094_level0_row7\" class=\"row_heading level0 row7\" >final.output.tail_pb</th>\n",
       "                        <td id=\"T_aa094_row7_col0\" class=\"data row7 col0\" >0.700000</td>\n",
       "            </tr>\n",
       "            <tr>\n",
       "                        <th id=\"T_aa094_level0_row8\" class=\"row_heading level0 row8\" >final.output.tail_sol</th>\n",
       "                        <td id=\"T_aa094_row8_col0\" class=\"data row8 col0\" >0.000000</td>\n",
       "            </tr>\n",
       "            <tr>\n",
       "                        <th id=\"T_aa094_level0_row9\" class=\"row_heading level0 row9\" >final.output.tail_au</th>\n",
       "                        <td id=\"T_aa094_row9_col0\" class=\"data row9 col0\" >0.000000</td>\n",
       "            </tr>\n",
       "            <tr>\n",
       "                        <th id=\"T_aa094_level0_row10\" class=\"row_heading level0 row10\" >primary_cleaner.input.sulfate</th>\n",
       "                        <td id=\"T_aa094_row10_col0\" class=\"data row10 col0\" >0.100000</td>\n",
       "            </tr>\n",
       "            <tr>\n",
       "                        <th id=\"T_aa094_level0_row11\" class=\"row_heading level0 row11\" >primary_cleaner.input.depressant</th>\n",
       "                        <td id=\"T_aa094_row11_col0\" class=\"data row11 col0\" >0.200000</td>\n",
       "            </tr>\n",
       "            <tr>\n",
       "                        <th id=\"T_aa094_level0_row12\" class=\"row_heading level0 row12\" >primary_cleaner.input.feed_size</th>\n",
       "                        <td id=\"T_aa094_row12_col0\" class=\"data row12 col0\" >0.000000</td>\n",
       "            </tr>\n",
       "            <tr>\n",
       "                        <th id=\"T_aa094_level0_row13\" class=\"row_heading level0 row13\" >primary_cleaner.input.xanthate</th>\n",
       "                        <td id=\"T_aa094_row13_col0\" class=\"data row13 col0\" >0.700000</td>\n",
       "            </tr>\n",
       "            <tr>\n",
       "                        <th id=\"T_aa094_level0_row14\" class=\"row_heading level0 row14\" >primary_cleaner.output.concentrate_ag</th>\n",
       "                        <td id=\"T_aa094_row14_col0\" class=\"data row14 col0\" >0.000000</td>\n",
       "            </tr>\n",
       "            <tr>\n",
       "                        <th id=\"T_aa094_level0_row15\" class=\"row_heading level0 row15\" >primary_cleaner.output.concentrate_pb</th>\n",
       "                        <td id=\"T_aa094_row15_col0\" class=\"data row15 col0\" >0.600000</td>\n",
       "            </tr>\n",
       "            <tr>\n",
       "                        <th id=\"T_aa094_level0_row16\" class=\"row_heading level0 row16\" >primary_cleaner.output.concentrate_sol</th>\n",
       "                        <td id=\"T_aa094_row16_col0\" class=\"data row16 col0\" >2.000000</td>\n",
       "            </tr>\n",
       "            <tr>\n",
       "                        <th id=\"T_aa094_level0_row17\" class=\"row_heading level0 row17\" >primary_cleaner.output.concentrate_au</th>\n",
       "                        <td id=\"T_aa094_row17_col0\" class=\"data row17 col0\" >0.000000</td>\n",
       "            </tr>\n",
       "            <tr>\n",
       "                        <th id=\"T_aa094_level0_row18\" class=\"row_heading level0 row18\" >primary_cleaner.output.tail_ag</th>\n",
       "                        <td id=\"T_aa094_row18_col0\" class=\"data row18 col0\" >0.000000</td>\n",
       "            </tr>\n",
       "            <tr>\n",
       "                        <th id=\"T_aa094_level0_row19\" class=\"row_heading level0 row19\" >primary_cleaner.output.tail_pb</th>\n",
       "                        <td id=\"T_aa094_row19_col0\" class=\"data row19 col0\" >0.100000</td>\n",
       "            </tr>\n",
       "            <tr>\n",
       "                        <th id=\"T_aa094_level0_row20\" class=\"row_heading level0 row20\" >primary_cleaner.output.tail_sol</th>\n",
       "                        <td id=\"T_aa094_row20_col0\" class=\"data row20 col0\" >0.300000</td>\n",
       "            </tr>\n",
       "            <tr>\n",
       "                        <th id=\"T_aa094_level0_row21\" class=\"row_heading level0 row21\" >primary_cleaner.output.tail_au</th>\n",
       "                        <td id=\"T_aa094_row21_col0\" class=\"data row21 col0\" >0.000000</td>\n",
       "            </tr>\n",
       "            <tr>\n",
       "                        <th id=\"T_aa094_level0_row22\" class=\"row_heading level0 row22\" >primary_cleaner.state.floatbank8_a_air</th>\n",
       "                        <td id=\"T_aa094_row22_col0\" class=\"data row22 col0\" >0.000000</td>\n",
       "            </tr>\n",
       "            <tr>\n",
       "                        <th id=\"T_aa094_level0_row23\" class=\"row_heading level0 row23\" >primary_cleaner.state.floatbank8_a_level</th>\n",
       "                        <td id=\"T_aa094_row23_col0\" class=\"data row23 col0\" >0.000000</td>\n",
       "            </tr>\n",
       "            <tr>\n",
       "                        <th id=\"T_aa094_level0_row24\" class=\"row_heading level0 row24\" >primary_cleaner.state.floatbank8_b_air</th>\n",
       "                        <td id=\"T_aa094_row24_col0\" class=\"data row24 col0\" >0.000000</td>\n",
       "            </tr>\n",
       "            <tr>\n",
       "                        <th id=\"T_aa094_level0_row25\" class=\"row_heading level0 row25\" >primary_cleaner.state.floatbank8_b_level</th>\n",
       "                        <td id=\"T_aa094_row25_col0\" class=\"data row25 col0\" >0.000000</td>\n",
       "            </tr>\n",
       "            <tr>\n",
       "                        <th id=\"T_aa094_level0_row26\" class=\"row_heading level0 row26\" >primary_cleaner.state.floatbank8_c_air</th>\n",
       "                        <td id=\"T_aa094_row26_col0\" class=\"data row26 col0\" >0.000000</td>\n",
       "            </tr>\n",
       "            <tr>\n",
       "                        <th id=\"T_aa094_level0_row27\" class=\"row_heading level0 row27\" >primary_cleaner.state.floatbank8_c_level</th>\n",
       "                        <td id=\"T_aa094_row27_col0\" class=\"data row27 col0\" >0.000000</td>\n",
       "            </tr>\n",
       "            <tr>\n",
       "                        <th id=\"T_aa094_level0_row28\" class=\"row_heading level0 row28\" >primary_cleaner.state.floatbank8_d_air</th>\n",
       "                        <td id=\"T_aa094_row28_col0\" class=\"data row28 col0\" >0.000000</td>\n",
       "            </tr>\n",
       "            <tr>\n",
       "                        <th id=\"T_aa094_level0_row29\" class=\"row_heading level0 row29\" >primary_cleaner.state.floatbank8_d_level</th>\n",
       "                        <td id=\"T_aa094_row29_col0\" class=\"data row29 col0\" >0.000000</td>\n",
       "            </tr>\n",
       "            <tr>\n",
       "                        <th id=\"T_aa094_level0_row30\" class=\"row_heading level0 row30\" >rougher.calculation.sulfate_to_au_concentrate</th>\n",
       "                        <td id=\"T_aa094_row30_col0\" class=\"data row30 col0\" >0.000000</td>\n",
       "            </tr>\n",
       "            <tr>\n",
       "                        <th id=\"T_aa094_level0_row31\" class=\"row_heading level0 row31\" >rougher.calculation.floatbank10_sulfate_to_au_feed</th>\n",
       "                        <td id=\"T_aa094_row31_col0\" class=\"data row31 col0\" >0.000000</td>\n",
       "            </tr>\n",
       "            <tr>\n",
       "                        <th id=\"T_aa094_level0_row32\" class=\"row_heading level0 row32\" >rougher.calculation.floatbank11_sulfate_to_au_feed</th>\n",
       "                        <td id=\"T_aa094_row32_col0\" class=\"data row32 col0\" >0.000000</td>\n",
       "            </tr>\n",
       "            <tr>\n",
       "                        <th id=\"T_aa094_level0_row33\" class=\"row_heading level0 row33\" >rougher.calculation.au_pb_ratio</th>\n",
       "                        <td id=\"T_aa094_row33_col0\" class=\"data row33 col0\" >0.000000</td>\n",
       "            </tr>\n",
       "            <tr>\n",
       "                        <th id=\"T_aa094_level0_row34\" class=\"row_heading level0 row34\" >rougher.input.feed_ag</th>\n",
       "                        <td id=\"T_aa094_row34_col0\" class=\"data row34 col0\" >0.000000</td>\n",
       "            </tr>\n",
       "            <tr>\n",
       "                        <th id=\"T_aa094_level0_row35\" class=\"row_heading level0 row35\" >rougher.input.feed_pb</th>\n",
       "                        <td id=\"T_aa094_row35_col0\" class=\"data row35 col0\" >0.700000</td>\n",
       "            </tr>\n",
       "            <tr>\n",
       "                        <th id=\"T_aa094_level0_row36\" class=\"row_heading level0 row36\" >rougher.input.feed_rate</th>\n",
       "                        <td id=\"T_aa094_row36_col0\" class=\"data row36 col0\" >0.100000</td>\n",
       "            </tr>\n",
       "            <tr>\n",
       "                        <th id=\"T_aa094_level0_row37\" class=\"row_heading level0 row37\" >rougher.input.feed_size</th>\n",
       "                        <td id=\"T_aa094_row37_col0\" class=\"data row37 col0\" >1.000000</td>\n",
       "            </tr>\n",
       "            <tr>\n",
       "                        <th id=\"T_aa094_level0_row38\" class=\"row_heading level0 row38\" >rougher.input.feed_sol</th>\n",
       "                        <td id=\"T_aa094_row38_col0\" class=\"data row38 col0\" >0.600000</td>\n",
       "            </tr>\n",
       "            <tr>\n",
       "                        <th id=\"T_aa094_level0_row39\" class=\"row_heading level0 row39\" >rougher.input.feed_au</th>\n",
       "                        <td id=\"T_aa094_row39_col0\" class=\"data row39 col0\" >0.000000</td>\n",
       "            </tr>\n",
       "            <tr>\n",
       "                        <th id=\"T_aa094_level0_row40\" class=\"row_heading level0 row40\" >rougher.input.floatbank10_sulfate</th>\n",
       "                        <td id=\"T_aa094_row40_col0\" class=\"data row40 col0\" >0.200000</td>\n",
       "            </tr>\n",
       "            <tr>\n",
       "                        <th id=\"T_aa094_level0_row41\" class=\"row_heading level0 row41\" >rougher.input.floatbank10_xanthate</th>\n",
       "                        <td id=\"T_aa094_row41_col0\" class=\"data row41 col0\" >0.100000</td>\n",
       "            </tr>\n",
       "            <tr>\n",
       "                        <th id=\"T_aa094_level0_row42\" class=\"row_heading level0 row42\" >rougher.input.floatbank11_sulfate</th>\n",
       "                        <td id=\"T_aa094_row42_col0\" class=\"data row42 col0\" >0.300000</td>\n",
       "            </tr>\n",
       "            <tr>\n",
       "                        <th id=\"T_aa094_level0_row43\" class=\"row_heading level0 row43\" >rougher.input.floatbank11_xanthate</th>\n",
       "                        <td id=\"T_aa094_row43_col0\" class=\"data row43 col0\" >3.000000</td>\n",
       "            </tr>\n",
       "            <tr>\n",
       "                        <th id=\"T_aa094_level0_row44\" class=\"row_heading level0 row44\" >rougher.output.concentrate_ag</th>\n",
       "                        <td id=\"T_aa094_row44_col0\" class=\"data row44 col0\" >0.000000</td>\n",
       "            </tr>\n",
       "            <tr>\n",
       "                        <th id=\"T_aa094_level0_row45\" class=\"row_heading level0 row45\" >rougher.output.concentrate_pb</th>\n",
       "                        <td id=\"T_aa094_row45_col0\" class=\"data row45 col0\" >0.000000</td>\n",
       "            </tr>\n",
       "            <tr>\n",
       "                        <th id=\"T_aa094_level0_row46\" class=\"row_heading level0 row46\" >rougher.output.concentrate_sol</th>\n",
       "                        <td id=\"T_aa094_row46_col0\" class=\"data row46 col0\" >0.200000</td>\n",
       "            </tr>\n",
       "            <tr>\n",
       "                        <th id=\"T_aa094_level0_row47\" class=\"row_heading level0 row47\" >rougher.output.concentrate_au</th>\n",
       "                        <td id=\"T_aa094_row47_col0\" class=\"data row47 col0\" >0.000000</td>\n",
       "            </tr>\n",
       "            <tr>\n",
       "                        <th id=\"T_aa094_level0_row48\" class=\"row_heading level0 row48\" >rougher.output.recovery</th>\n",
       "                        <td id=\"T_aa094_row48_col0\" class=\"data row48 col0\" >0.000000</td>\n",
       "            </tr>\n",
       "            <tr>\n",
       "                        <th id=\"T_aa094_level0_row49\" class=\"row_heading level0 row49\" >rougher.output.tail_ag</th>\n",
       "                        <td id=\"T_aa094_row49_col0\" class=\"data row49 col0\" >0.000000</td>\n",
       "            </tr>\n",
       "            <tr>\n",
       "                        <th id=\"T_aa094_level0_row50\" class=\"row_heading level0 row50\" >rougher.output.tail_pb</th>\n",
       "                        <td id=\"T_aa094_row50_col0\" class=\"data row50 col0\" >0.000000</td>\n",
       "            </tr>\n",
       "            <tr>\n",
       "                        <th id=\"T_aa094_level0_row51\" class=\"row_heading level0 row51\" >rougher.output.tail_sol</th>\n",
       "                        <td id=\"T_aa094_row51_col0\" class=\"data row51 col0\" >0.000000</td>\n",
       "            </tr>\n",
       "            <tr>\n",
       "                        <th id=\"T_aa094_level0_row52\" class=\"row_heading level0 row52\" >rougher.output.tail_au</th>\n",
       "                        <td id=\"T_aa094_row52_col0\" class=\"data row52 col0\" >0.000000</td>\n",
       "            </tr>\n",
       "            <tr>\n",
       "                        <th id=\"T_aa094_level0_row53\" class=\"row_heading level0 row53\" >rougher.state.floatbank10_a_air</th>\n",
       "                        <td id=\"T_aa094_row53_col0\" class=\"data row53 col0\" >0.000000</td>\n",
       "            </tr>\n",
       "            <tr>\n",
       "                        <th id=\"T_aa094_level0_row54\" class=\"row_heading level0 row54\" >rougher.state.floatbank10_a_level</th>\n",
       "                        <td id=\"T_aa094_row54_col0\" class=\"data row54 col0\" >0.000000</td>\n",
       "            </tr>\n",
       "            <tr>\n",
       "                        <th id=\"T_aa094_level0_row55\" class=\"row_heading level0 row55\" >rougher.state.floatbank10_b_air</th>\n",
       "                        <td id=\"T_aa094_row55_col0\" class=\"data row55 col0\" >0.000000</td>\n",
       "            </tr>\n",
       "            <tr>\n",
       "                        <th id=\"T_aa094_level0_row56\" class=\"row_heading level0 row56\" >rougher.state.floatbank10_b_level</th>\n",
       "                        <td id=\"T_aa094_row56_col0\" class=\"data row56 col0\" >0.000000</td>\n",
       "            </tr>\n",
       "            <tr>\n",
       "                        <th id=\"T_aa094_level0_row57\" class=\"row_heading level0 row57\" >rougher.state.floatbank10_c_air</th>\n",
       "                        <td id=\"T_aa094_row57_col0\" class=\"data row57 col0\" >0.000000</td>\n",
       "            </tr>\n",
       "            <tr>\n",
       "                        <th id=\"T_aa094_level0_row58\" class=\"row_heading level0 row58\" >rougher.state.floatbank10_c_level</th>\n",
       "                        <td id=\"T_aa094_row58_col0\" class=\"data row58 col0\" >0.000000</td>\n",
       "            </tr>\n",
       "            <tr>\n",
       "                        <th id=\"T_aa094_level0_row59\" class=\"row_heading level0 row59\" >rougher.state.floatbank10_d_air</th>\n",
       "                        <td id=\"T_aa094_row59_col0\" class=\"data row59 col0\" >0.000000</td>\n",
       "            </tr>\n",
       "            <tr>\n",
       "                        <th id=\"T_aa094_level0_row60\" class=\"row_heading level0 row60\" >rougher.state.floatbank10_d_level</th>\n",
       "                        <td id=\"T_aa094_row60_col0\" class=\"data row60 col0\" >0.000000</td>\n",
       "            </tr>\n",
       "            <tr>\n",
       "                        <th id=\"T_aa094_level0_row61\" class=\"row_heading level0 row61\" >rougher.state.floatbank10_e_air</th>\n",
       "                        <td id=\"T_aa094_row61_col0\" class=\"data row61 col0\" >3.100000</td>\n",
       "            </tr>\n",
       "            <tr>\n",
       "                        <th id=\"T_aa094_level0_row62\" class=\"row_heading level0 row62\" >rougher.state.floatbank10_e_level</th>\n",
       "                        <td id=\"T_aa094_row62_col0\" class=\"data row62 col0\" >0.000000</td>\n",
       "            </tr>\n",
       "            <tr>\n",
       "                        <th id=\"T_aa094_level0_row63\" class=\"row_heading level0 row63\" >rougher.state.floatbank10_f_air</th>\n",
       "                        <td id=\"T_aa094_row63_col0\" class=\"data row63 col0\" >0.000000</td>\n",
       "            </tr>\n",
       "            <tr>\n",
       "                        <th id=\"T_aa094_level0_row64\" class=\"row_heading level0 row64\" >rougher.state.floatbank10_f_level</th>\n",
       "                        <td id=\"T_aa094_row64_col0\" class=\"data row64 col0\" >0.000000</td>\n",
       "            </tr>\n",
       "            <tr>\n",
       "                        <th id=\"T_aa094_level0_row65\" class=\"row_heading level0 row65\" >secondary_cleaner.output.tail_ag</th>\n",
       "                        <td id=\"T_aa094_row65_col0\" class=\"data row65 col0\" >0.000000</td>\n",
       "            </tr>\n",
       "            <tr>\n",
       "                        <th id=\"T_aa094_level0_row66\" class=\"row_heading level0 row66\" >secondary_cleaner.output.tail_pb</th>\n",
       "                        <td id=\"T_aa094_row66_col0\" class=\"data row66 col0\" >0.100000</td>\n",
       "            </tr>\n",
       "            <tr>\n",
       "                        <th id=\"T_aa094_level0_row67\" class=\"row_heading level0 row67\" >secondary_cleaner.output.tail_sol</th>\n",
       "                        <td id=\"T_aa094_row67_col0\" class=\"data row67 col0\" >11.300000</td>\n",
       "            </tr>\n",
       "            <tr>\n",
       "                        <th id=\"T_aa094_level0_row68\" class=\"row_heading level0 row68\" >secondary_cleaner.output.tail_au</th>\n",
       "                        <td id=\"T_aa094_row68_col0\" class=\"data row68 col0\" >0.000000</td>\n",
       "            </tr>\n",
       "            <tr>\n",
       "                        <th id=\"T_aa094_level0_row69\" class=\"row_heading level0 row69\" >secondary_cleaner.state.floatbank2_a_air</th>\n",
       "                        <td id=\"T_aa094_row69_col0\" class=\"data row69 col0\" >1.500000</td>\n",
       "            </tr>\n",
       "            <tr>\n",
       "                        <th id=\"T_aa094_level0_row70\" class=\"row_heading level0 row70\" >secondary_cleaner.state.floatbank2_a_level</th>\n",
       "                        <td id=\"T_aa094_row70_col0\" class=\"data row70 col0\" >0.000000</td>\n",
       "            </tr>\n",
       "            <tr>\n",
       "                        <th id=\"T_aa094_level0_row71\" class=\"row_heading level0 row71\" >secondary_cleaner.state.floatbank2_b_air</th>\n",
       "                        <td id=\"T_aa094_row71_col0\" class=\"data row71 col0\" >0.100000</td>\n",
       "            </tr>\n",
       "            <tr>\n",
       "                        <th id=\"T_aa094_level0_row72\" class=\"row_heading level0 row72\" >secondary_cleaner.state.floatbank2_b_level</th>\n",
       "                        <td id=\"T_aa094_row72_col0\" class=\"data row72 col0\" >0.000000</td>\n",
       "            </tr>\n",
       "            <tr>\n",
       "                        <th id=\"T_aa094_level0_row73\" class=\"row_heading level0 row73\" >secondary_cleaner.state.floatbank3_a_air</th>\n",
       "                        <td id=\"T_aa094_row73_col0\" class=\"data row73 col0\" >0.000000</td>\n",
       "            </tr>\n",
       "            <tr>\n",
       "                        <th id=\"T_aa094_level0_row74\" class=\"row_heading level0 row74\" >secondary_cleaner.state.floatbank3_a_level</th>\n",
       "                        <td id=\"T_aa094_row74_col0\" class=\"data row74 col0\" >0.000000</td>\n",
       "            </tr>\n",
       "            <tr>\n",
       "                        <th id=\"T_aa094_level0_row75\" class=\"row_heading level0 row75\" >secondary_cleaner.state.floatbank3_b_air</th>\n",
       "                        <td id=\"T_aa094_row75_col0\" class=\"data row75 col0\" >0.000000</td>\n",
       "            </tr>\n",
       "            <tr>\n",
       "                        <th id=\"T_aa094_level0_row76\" class=\"row_heading level0 row76\" >secondary_cleaner.state.floatbank3_b_level</th>\n",
       "                        <td id=\"T_aa094_row76_col0\" class=\"data row76 col0\" >0.000000</td>\n",
       "            </tr>\n",
       "            <tr>\n",
       "                        <th id=\"T_aa094_level0_row77\" class=\"row_heading level0 row77\" >secondary_cleaner.state.floatbank4_a_air</th>\n",
       "                        <td id=\"T_aa094_row77_col0\" class=\"data row77 col0\" >0.000000</td>\n",
       "            </tr>\n",
       "            <tr>\n",
       "                        <th id=\"T_aa094_level0_row78\" class=\"row_heading level0 row78\" >secondary_cleaner.state.floatbank4_a_level</th>\n",
       "                        <td id=\"T_aa094_row78_col0\" class=\"data row78 col0\" >0.000000</td>\n",
       "            </tr>\n",
       "            <tr>\n",
       "                        <th id=\"T_aa094_level0_row79\" class=\"row_heading level0 row79\" >secondary_cleaner.state.floatbank4_b_air</th>\n",
       "                        <td id=\"T_aa094_row79_col0\" class=\"data row79 col0\" >0.000000</td>\n",
       "            </tr>\n",
       "            <tr>\n",
       "                        <th id=\"T_aa094_level0_row80\" class=\"row_heading level0 row80\" >secondary_cleaner.state.floatbank4_b_level</th>\n",
       "                        <td id=\"T_aa094_row80_col0\" class=\"data row80 col0\" >0.000000</td>\n",
       "            </tr>\n",
       "            <tr>\n",
       "                        <th id=\"T_aa094_level0_row81\" class=\"row_heading level0 row81\" >secondary_cleaner.state.floatbank5_a_air</th>\n",
       "                        <td id=\"T_aa094_row81_col0\" class=\"data row81 col0\" >0.000000</td>\n",
       "            </tr>\n",
       "            <tr>\n",
       "                        <th id=\"T_aa094_level0_row82\" class=\"row_heading level0 row82\" >secondary_cleaner.state.floatbank5_a_level</th>\n",
       "                        <td id=\"T_aa094_row82_col0\" class=\"data row82 col0\" >0.000000</td>\n",
       "            </tr>\n",
       "            <tr>\n",
       "                        <th id=\"T_aa094_level0_row83\" class=\"row_heading level0 row83\" >secondary_cleaner.state.floatbank5_b_air</th>\n",
       "                        <td id=\"T_aa094_row83_col0\" class=\"data row83 col0\" >0.000000</td>\n",
       "            </tr>\n",
       "            <tr>\n",
       "                        <th id=\"T_aa094_level0_row84\" class=\"row_heading level0 row84\" >secondary_cleaner.state.floatbank5_b_level</th>\n",
       "                        <td id=\"T_aa094_row84_col0\" class=\"data row84 col0\" >0.000000</td>\n",
       "            </tr>\n",
       "            <tr>\n",
       "                        <th id=\"T_aa094_level0_row85\" class=\"row_heading level0 row85\" >secondary_cleaner.state.floatbank6_a_air</th>\n",
       "                        <td id=\"T_aa094_row85_col0\" class=\"data row85 col0\" >0.000000</td>\n",
       "            </tr>\n",
       "            <tr>\n",
       "                        <th id=\"T_aa094_level0_row86\" class=\"row_heading level0 row86\" >secondary_cleaner.state.floatbank6_a_level</th>\n",
       "                        <td id=\"T_aa094_row86_col0\" class=\"data row86 col0\" >0.000000</td>\n",
       "            </tr>\n",
       "    </tbody></table>"
      ],
      "text/plain": [
       "<pandas.io.formats.style.Styler at 0x7f094d146190>"
      ]
     },
     "execution_count": 11,
     "metadata": {},
     "output_type": "execute_result"
    }
   ],
   "source": [
    "pd.DataFrame(round(df_train.isna().mean()*100,1)).style.background_gradient('coolwarm')"
   ]
  },
  {
   "cell_type": "code",
   "execution_count": 12,
   "metadata": {
    "scrolled": true
   },
   "outputs": [
    {
     "data": {
      "text/html": [
       "<style  type=\"text/css\" >\n",
       "#T_76f5d_row0_col0,#T_76f5d_row3_col0,#T_76f5d_row5_col0,#T_76f5d_row6_col0,#T_76f5d_row7_col0,#T_76f5d_row8_col0,#T_76f5d_row9_col0,#T_76f5d_row10_col0,#T_76f5d_row11_col0,#T_76f5d_row12_col0,#T_76f5d_row13_col0,#T_76f5d_row14_col0,#T_76f5d_row16_col0,#T_76f5d_row18_col0,#T_76f5d_row20_col0,#T_76f5d_row23_col0,#T_76f5d_row24_col0,#T_76f5d_row25_col0,#T_76f5d_row26_col0,#T_76f5d_row27_col0,#T_76f5d_row28_col0,#T_76f5d_row29_col0,#T_76f5d_row30_col0,#T_76f5d_row31_col0,#T_76f5d_row32_col0,#T_76f5d_row33_col0,#T_76f5d_row34_col0,#T_76f5d_row36_col0,#T_76f5d_row37_col0,#T_76f5d_row38_col0,#T_76f5d_row40_col0,#T_76f5d_row41_col0,#T_76f5d_row42_col0,#T_76f5d_row43_col0,#T_76f5d_row44_col0,#T_76f5d_row45_col0,#T_76f5d_row46_col0,#T_76f5d_row47_col0,#T_76f5d_row48_col0,#T_76f5d_row49_col0,#T_76f5d_row50_col0,#T_76f5d_row51_col0,#T_76f5d_row52_col0,#T_76f5d_row53_col0,#T_76f5d_row54_col0{\n",
       "            background-color:  #3b4cc0;\n",
       "            color:  #f1f1f1;\n",
       "        }#T_76f5d_row1_col0,#T_76f5d_row2_col0,#T_76f5d_row4_col0,#T_76f5d_row15_col0,#T_76f5d_row19_col0,#T_76f5d_row35_col0{\n",
       "            background-color:  #7b9ff9;\n",
       "            color:  #000000;\n",
       "        }#T_76f5d_row17_col0{\n",
       "            background-color:  #ee8468;\n",
       "            color:  #000000;\n",
       "        }#T_76f5d_row21_col0,#T_76f5d_row39_col0{\n",
       "            background-color:  #c0d4f5;\n",
       "            color:  #000000;\n",
       "        }#T_76f5d_row22_col0{\n",
       "            background-color:  #b40426;\n",
       "            color:  #f1f1f1;\n",
       "        }</style><table id=\"T_76f5d_\" ><thead>    <tr>        <th class=\"blank level0\" ></th>        <th class=\"col_heading level0 col0\" >0</th>    </tr></thead><tbody>\n",
       "                <tr>\n",
       "                        <th id=\"T_76f5d_level0_row0\" class=\"row_heading level0 row0\" >date</th>\n",
       "                        <td id=\"T_76f5d_row0_col0\" class=\"data row0 col0\" >0.000000</td>\n",
       "            </tr>\n",
       "            <tr>\n",
       "                        <th id=\"T_76f5d_level0_row1\" class=\"row_heading level0 row1\" >primary_cleaner.input.sulfate</th>\n",
       "                        <td id=\"T_76f5d_row1_col0\" class=\"data row1 col0\" >0.100000</td>\n",
       "            </tr>\n",
       "            <tr>\n",
       "                        <th id=\"T_76f5d_level0_row2\" class=\"row_heading level0 row2\" >primary_cleaner.input.depressant</th>\n",
       "                        <td id=\"T_76f5d_row2_col0\" class=\"data row2 col0\" >0.100000</td>\n",
       "            </tr>\n",
       "            <tr>\n",
       "                        <th id=\"T_76f5d_level0_row3\" class=\"row_heading level0 row3\" >primary_cleaner.input.feed_size</th>\n",
       "                        <td id=\"T_76f5d_row3_col0\" class=\"data row3 col0\" >0.000000</td>\n",
       "            </tr>\n",
       "            <tr>\n",
       "                        <th id=\"T_76f5d_level0_row4\" class=\"row_heading level0 row4\" >primary_cleaner.input.xanthate</th>\n",
       "                        <td id=\"T_76f5d_row4_col0\" class=\"data row4 col0\" >0.100000</td>\n",
       "            </tr>\n",
       "            <tr>\n",
       "                        <th id=\"T_76f5d_level0_row5\" class=\"row_heading level0 row5\" >primary_cleaner.state.floatbank8_a_air</th>\n",
       "                        <td id=\"T_76f5d_row5_col0\" class=\"data row5 col0\" >0.000000</td>\n",
       "            </tr>\n",
       "            <tr>\n",
       "                        <th id=\"T_76f5d_level0_row6\" class=\"row_heading level0 row6\" >primary_cleaner.state.floatbank8_a_level</th>\n",
       "                        <td id=\"T_76f5d_row6_col0\" class=\"data row6 col0\" >0.000000</td>\n",
       "            </tr>\n",
       "            <tr>\n",
       "                        <th id=\"T_76f5d_level0_row7\" class=\"row_heading level0 row7\" >primary_cleaner.state.floatbank8_b_air</th>\n",
       "                        <td id=\"T_76f5d_row7_col0\" class=\"data row7 col0\" >0.000000</td>\n",
       "            </tr>\n",
       "            <tr>\n",
       "                        <th id=\"T_76f5d_level0_row8\" class=\"row_heading level0 row8\" >primary_cleaner.state.floatbank8_b_level</th>\n",
       "                        <td id=\"T_76f5d_row8_col0\" class=\"data row8 col0\" >0.000000</td>\n",
       "            </tr>\n",
       "            <tr>\n",
       "                        <th id=\"T_76f5d_level0_row9\" class=\"row_heading level0 row9\" >primary_cleaner.state.floatbank8_c_air</th>\n",
       "                        <td id=\"T_76f5d_row9_col0\" class=\"data row9 col0\" >0.000000</td>\n",
       "            </tr>\n",
       "            <tr>\n",
       "                        <th id=\"T_76f5d_level0_row10\" class=\"row_heading level0 row10\" >primary_cleaner.state.floatbank8_c_level</th>\n",
       "                        <td id=\"T_76f5d_row10_col0\" class=\"data row10 col0\" >0.000000</td>\n",
       "            </tr>\n",
       "            <tr>\n",
       "                        <th id=\"T_76f5d_level0_row11\" class=\"row_heading level0 row11\" >primary_cleaner.state.floatbank8_d_air</th>\n",
       "                        <td id=\"T_76f5d_row11_col0\" class=\"data row11 col0\" >0.000000</td>\n",
       "            </tr>\n",
       "            <tr>\n",
       "                        <th id=\"T_76f5d_level0_row12\" class=\"row_heading level0 row12\" >primary_cleaner.state.floatbank8_d_level</th>\n",
       "                        <td id=\"T_76f5d_row12_col0\" class=\"data row12 col0\" >0.000000</td>\n",
       "            </tr>\n",
       "            <tr>\n",
       "                        <th id=\"T_76f5d_level0_row13\" class=\"row_heading level0 row13\" >rougher.input.feed_ag</th>\n",
       "                        <td id=\"T_76f5d_row13_col0\" class=\"data row13 col0\" >0.000000</td>\n",
       "            </tr>\n",
       "            <tr>\n",
       "                        <th id=\"T_76f5d_level0_row14\" class=\"row_heading level0 row14\" >rougher.input.feed_pb</th>\n",
       "                        <td id=\"T_76f5d_row14_col0\" class=\"data row14 col0\" >0.000000</td>\n",
       "            </tr>\n",
       "            <tr>\n",
       "                        <th id=\"T_76f5d_level0_row15\" class=\"row_heading level0 row15\" >rougher.input.feed_rate</th>\n",
       "                        <td id=\"T_76f5d_row15_col0\" class=\"data row15 col0\" >0.100000</td>\n",
       "            </tr>\n",
       "            <tr>\n",
       "                        <th id=\"T_76f5d_level0_row16\" class=\"row_heading level0 row16\" >rougher.input.feed_size</th>\n",
       "                        <td id=\"T_76f5d_row16_col0\" class=\"data row16 col0\" >0.000000</td>\n",
       "            </tr>\n",
       "            <tr>\n",
       "                        <th id=\"T_76f5d_level0_row17\" class=\"row_heading level0 row17\" >rougher.input.feed_sol</th>\n",
       "                        <td id=\"T_76f5d_row17_col0\" class=\"data row17 col0\" >0.400000</td>\n",
       "            </tr>\n",
       "            <tr>\n",
       "                        <th id=\"T_76f5d_level0_row18\" class=\"row_heading level0 row18\" >rougher.input.feed_au</th>\n",
       "                        <td id=\"T_76f5d_row18_col0\" class=\"data row18 col0\" >0.000000</td>\n",
       "            </tr>\n",
       "            <tr>\n",
       "                        <th id=\"T_76f5d_level0_row19\" class=\"row_heading level0 row19\" >rougher.input.floatbank10_sulfate</th>\n",
       "                        <td id=\"T_76f5d_row19_col0\" class=\"data row19 col0\" >0.100000</td>\n",
       "            </tr>\n",
       "            <tr>\n",
       "                        <th id=\"T_76f5d_level0_row20\" class=\"row_heading level0 row20\" >rougher.input.floatbank10_xanthate</th>\n",
       "                        <td id=\"T_76f5d_row20_col0\" class=\"data row20 col0\" >0.000000</td>\n",
       "            </tr>\n",
       "            <tr>\n",
       "                        <th id=\"T_76f5d_level0_row21\" class=\"row_heading level0 row21\" >rougher.input.floatbank11_sulfate</th>\n",
       "                        <td id=\"T_76f5d_row21_col0\" class=\"data row21 col0\" >0.200000</td>\n",
       "            </tr>\n",
       "            <tr>\n",
       "                        <th id=\"T_76f5d_level0_row22\" class=\"row_heading level0 row22\" >rougher.input.floatbank11_xanthate</th>\n",
       "                        <td id=\"T_76f5d_row22_col0\" class=\"data row22 col0\" >0.500000</td>\n",
       "            </tr>\n",
       "            <tr>\n",
       "                        <th id=\"T_76f5d_level0_row23\" class=\"row_heading level0 row23\" >rougher.state.floatbank10_a_air</th>\n",
       "                        <td id=\"T_76f5d_row23_col0\" class=\"data row23 col0\" >0.000000</td>\n",
       "            </tr>\n",
       "            <tr>\n",
       "                        <th id=\"T_76f5d_level0_row24\" class=\"row_heading level0 row24\" >rougher.state.floatbank10_a_level</th>\n",
       "                        <td id=\"T_76f5d_row24_col0\" class=\"data row24 col0\" >0.000000</td>\n",
       "            </tr>\n",
       "            <tr>\n",
       "                        <th id=\"T_76f5d_level0_row25\" class=\"row_heading level0 row25\" >rougher.state.floatbank10_b_air</th>\n",
       "                        <td id=\"T_76f5d_row25_col0\" class=\"data row25 col0\" >0.000000</td>\n",
       "            </tr>\n",
       "            <tr>\n",
       "                        <th id=\"T_76f5d_level0_row26\" class=\"row_heading level0 row26\" >rougher.state.floatbank10_b_level</th>\n",
       "                        <td id=\"T_76f5d_row26_col0\" class=\"data row26 col0\" >0.000000</td>\n",
       "            </tr>\n",
       "            <tr>\n",
       "                        <th id=\"T_76f5d_level0_row27\" class=\"row_heading level0 row27\" >rougher.state.floatbank10_c_air</th>\n",
       "                        <td id=\"T_76f5d_row27_col0\" class=\"data row27 col0\" >0.000000</td>\n",
       "            </tr>\n",
       "            <tr>\n",
       "                        <th id=\"T_76f5d_level0_row28\" class=\"row_heading level0 row28\" >rougher.state.floatbank10_c_level</th>\n",
       "                        <td id=\"T_76f5d_row28_col0\" class=\"data row28 col0\" >0.000000</td>\n",
       "            </tr>\n",
       "            <tr>\n",
       "                        <th id=\"T_76f5d_level0_row29\" class=\"row_heading level0 row29\" >rougher.state.floatbank10_d_air</th>\n",
       "                        <td id=\"T_76f5d_row29_col0\" class=\"data row29 col0\" >0.000000</td>\n",
       "            </tr>\n",
       "            <tr>\n",
       "                        <th id=\"T_76f5d_level0_row30\" class=\"row_heading level0 row30\" >rougher.state.floatbank10_d_level</th>\n",
       "                        <td id=\"T_76f5d_row30_col0\" class=\"data row30 col0\" >0.000000</td>\n",
       "            </tr>\n",
       "            <tr>\n",
       "                        <th id=\"T_76f5d_level0_row31\" class=\"row_heading level0 row31\" >rougher.state.floatbank10_e_air</th>\n",
       "                        <td id=\"T_76f5d_row31_col0\" class=\"data row31 col0\" >0.000000</td>\n",
       "            </tr>\n",
       "            <tr>\n",
       "                        <th id=\"T_76f5d_level0_row32\" class=\"row_heading level0 row32\" >rougher.state.floatbank10_e_level</th>\n",
       "                        <td id=\"T_76f5d_row32_col0\" class=\"data row32 col0\" >0.000000</td>\n",
       "            </tr>\n",
       "            <tr>\n",
       "                        <th id=\"T_76f5d_level0_row33\" class=\"row_heading level0 row33\" >rougher.state.floatbank10_f_air</th>\n",
       "                        <td id=\"T_76f5d_row33_col0\" class=\"data row33 col0\" >0.000000</td>\n",
       "            </tr>\n",
       "            <tr>\n",
       "                        <th id=\"T_76f5d_level0_row34\" class=\"row_heading level0 row34\" >rougher.state.floatbank10_f_level</th>\n",
       "                        <td id=\"T_76f5d_row34_col0\" class=\"data row34 col0\" >0.000000</td>\n",
       "            </tr>\n",
       "            <tr>\n",
       "                        <th id=\"T_76f5d_level0_row35\" class=\"row_heading level0 row35\" >secondary_cleaner.state.floatbank2_a_air</th>\n",
       "                        <td id=\"T_76f5d_row35_col0\" class=\"data row35 col0\" >0.100000</td>\n",
       "            </tr>\n",
       "            <tr>\n",
       "                        <th id=\"T_76f5d_level0_row36\" class=\"row_heading level0 row36\" >secondary_cleaner.state.floatbank2_a_level</th>\n",
       "                        <td id=\"T_76f5d_row36_col0\" class=\"data row36 col0\" >0.000000</td>\n",
       "            </tr>\n",
       "            <tr>\n",
       "                        <th id=\"T_76f5d_level0_row37\" class=\"row_heading level0 row37\" >secondary_cleaner.state.floatbank2_b_air</th>\n",
       "                        <td id=\"T_76f5d_row37_col0\" class=\"data row37 col0\" >0.000000</td>\n",
       "            </tr>\n",
       "            <tr>\n",
       "                        <th id=\"T_76f5d_level0_row38\" class=\"row_heading level0 row38\" >secondary_cleaner.state.floatbank2_b_level</th>\n",
       "                        <td id=\"T_76f5d_row38_col0\" class=\"data row38 col0\" >0.000000</td>\n",
       "            </tr>\n",
       "            <tr>\n",
       "                        <th id=\"T_76f5d_level0_row39\" class=\"row_heading level0 row39\" >secondary_cleaner.state.floatbank3_a_air</th>\n",
       "                        <td id=\"T_76f5d_row39_col0\" class=\"data row39 col0\" >0.200000</td>\n",
       "            </tr>\n",
       "            <tr>\n",
       "                        <th id=\"T_76f5d_level0_row40\" class=\"row_heading level0 row40\" >secondary_cleaner.state.floatbank3_a_level</th>\n",
       "                        <td id=\"T_76f5d_row40_col0\" class=\"data row40 col0\" >0.000000</td>\n",
       "            </tr>\n",
       "            <tr>\n",
       "                        <th id=\"T_76f5d_level0_row41\" class=\"row_heading level0 row41\" >secondary_cleaner.state.floatbank3_b_air</th>\n",
       "                        <td id=\"T_76f5d_row41_col0\" class=\"data row41 col0\" >0.000000</td>\n",
       "            </tr>\n",
       "            <tr>\n",
       "                        <th id=\"T_76f5d_level0_row42\" class=\"row_heading level0 row42\" >secondary_cleaner.state.floatbank3_b_level</th>\n",
       "                        <td id=\"T_76f5d_row42_col0\" class=\"data row42 col0\" >0.000000</td>\n",
       "            </tr>\n",
       "            <tr>\n",
       "                        <th id=\"T_76f5d_level0_row43\" class=\"row_heading level0 row43\" >secondary_cleaner.state.floatbank4_a_air</th>\n",
       "                        <td id=\"T_76f5d_row43_col0\" class=\"data row43 col0\" >0.000000</td>\n",
       "            </tr>\n",
       "            <tr>\n",
       "                        <th id=\"T_76f5d_level0_row44\" class=\"row_heading level0 row44\" >secondary_cleaner.state.floatbank4_a_level</th>\n",
       "                        <td id=\"T_76f5d_row44_col0\" class=\"data row44 col0\" >0.000000</td>\n",
       "            </tr>\n",
       "            <tr>\n",
       "                        <th id=\"T_76f5d_level0_row45\" class=\"row_heading level0 row45\" >secondary_cleaner.state.floatbank4_b_air</th>\n",
       "                        <td id=\"T_76f5d_row45_col0\" class=\"data row45 col0\" >0.000000</td>\n",
       "            </tr>\n",
       "            <tr>\n",
       "                        <th id=\"T_76f5d_level0_row46\" class=\"row_heading level0 row46\" >secondary_cleaner.state.floatbank4_b_level</th>\n",
       "                        <td id=\"T_76f5d_row46_col0\" class=\"data row46 col0\" >0.000000</td>\n",
       "            </tr>\n",
       "            <tr>\n",
       "                        <th id=\"T_76f5d_level0_row47\" class=\"row_heading level0 row47\" >secondary_cleaner.state.floatbank5_a_air</th>\n",
       "                        <td id=\"T_76f5d_row47_col0\" class=\"data row47 col0\" >0.000000</td>\n",
       "            </tr>\n",
       "            <tr>\n",
       "                        <th id=\"T_76f5d_level0_row48\" class=\"row_heading level0 row48\" >secondary_cleaner.state.floatbank5_a_level</th>\n",
       "                        <td id=\"T_76f5d_row48_col0\" class=\"data row48 col0\" >0.000000</td>\n",
       "            </tr>\n",
       "            <tr>\n",
       "                        <th id=\"T_76f5d_level0_row49\" class=\"row_heading level0 row49\" >secondary_cleaner.state.floatbank5_b_air</th>\n",
       "                        <td id=\"T_76f5d_row49_col0\" class=\"data row49 col0\" >0.000000</td>\n",
       "            </tr>\n",
       "            <tr>\n",
       "                        <th id=\"T_76f5d_level0_row50\" class=\"row_heading level0 row50\" >secondary_cleaner.state.floatbank5_b_level</th>\n",
       "                        <td id=\"T_76f5d_row50_col0\" class=\"data row50 col0\" >0.000000</td>\n",
       "            </tr>\n",
       "            <tr>\n",
       "                        <th id=\"T_76f5d_level0_row51\" class=\"row_heading level0 row51\" >secondary_cleaner.state.floatbank6_a_air</th>\n",
       "                        <td id=\"T_76f5d_row51_col0\" class=\"data row51 col0\" >0.000000</td>\n",
       "            </tr>\n",
       "            <tr>\n",
       "                        <th id=\"T_76f5d_level0_row52\" class=\"row_heading level0 row52\" >secondary_cleaner.state.floatbank6_a_level</th>\n",
       "                        <td id=\"T_76f5d_row52_col0\" class=\"data row52 col0\" >0.000000</td>\n",
       "            </tr>\n",
       "            <tr>\n",
       "                        <th id=\"T_76f5d_level0_row53\" class=\"row_heading level0 row53\" >rougher.output.recovery</th>\n",
       "                        <td id=\"T_76f5d_row53_col0\" class=\"data row53 col0\" >0.000000</td>\n",
       "            </tr>\n",
       "            <tr>\n",
       "                        <th id=\"T_76f5d_level0_row54\" class=\"row_heading level0 row54\" >final.output.recovery</th>\n",
       "                        <td id=\"T_76f5d_row54_col0\" class=\"data row54 col0\" >0.000000</td>\n",
       "            </tr>\n",
       "    </tbody></table>"
      ],
      "text/plain": [
       "<pandas.io.formats.style.Styler at 0x7f094d14a700>"
      ]
     },
     "execution_count": 12,
     "metadata": {},
     "output_type": "execute_result"
    }
   ],
   "source": [
    "pd.DataFrame(round(df_test.isna().mean()*100,1)).style.background_gradient('coolwarm')"
   ]
  },
  {
   "cell_type": "markdown",
   "metadata": {},
   "source": [
    "Самое большое кол-во пропусков в столбце secondary_cleaner.output.tail_sol - 9% и 11% в исходных данных и тренировочной выборке. Это параметр продукта отвальные хвосты - содержание коллоидного раствора после второй чистки. Остальные пропуски незначительны. В тестовой выборке этого столбца нет. И значительных пропусков тоже нет - все меньше процента.\n",
    "\n",
    "Так как в условии обозначили, что соседние по времени параметры похожи, то все пропуски заполним значениями из предыдущих строк."
   ]
  },
  {
   "cell_type": "code",
   "execution_count": 13,
   "metadata": {},
   "outputs": [
    {
     "name": "stdout",
     "output_type": "stream",
     "text": [
      "<class 'pandas.core.frame.DataFrame'>\n",
      "RangeIndex: 19439 entries, 0 to 19438\n",
      "Data columns (total 87 columns):\n",
      " #   Column                                              Non-Null Count  Dtype  \n",
      "---  ------                                              --------------  -----  \n",
      " 0   date                                                19439 non-null  object \n",
      " 1   final.output.concentrate_ag                         19439 non-null  float64\n",
      " 2   final.output.concentrate_pb                         19439 non-null  float64\n",
      " 3   final.output.concentrate_sol                        19439 non-null  float64\n",
      " 4   final.output.concentrate_au                         19439 non-null  float64\n",
      " 5   final.output.recovery                               19439 non-null  float64\n",
      " 6   final.output.tail_ag                                19439 non-null  float64\n",
      " 7   final.output.tail_pb                                19439 non-null  float64\n",
      " 8   final.output.tail_sol                               19439 non-null  float64\n",
      " 9   final.output.tail_au                                19439 non-null  float64\n",
      " 10  primary_cleaner.input.sulfate                       19439 non-null  float64\n",
      " 11  primary_cleaner.input.depressant                    19439 non-null  float64\n",
      " 12  primary_cleaner.input.feed_size                     19439 non-null  float64\n",
      " 13  primary_cleaner.input.xanthate                      19439 non-null  float64\n",
      " 14  primary_cleaner.output.concentrate_ag               19439 non-null  float64\n",
      " 15  primary_cleaner.output.concentrate_pb               19439 non-null  float64\n",
      " 16  primary_cleaner.output.concentrate_sol              19439 non-null  float64\n",
      " 17  primary_cleaner.output.concentrate_au               19439 non-null  float64\n",
      " 18  primary_cleaner.output.tail_ag                      19439 non-null  float64\n",
      " 19  primary_cleaner.output.tail_pb                      19439 non-null  float64\n",
      " 20  primary_cleaner.output.tail_sol                     19439 non-null  float64\n",
      " 21  primary_cleaner.output.tail_au                      19439 non-null  float64\n",
      " 22  primary_cleaner.state.floatbank8_a_air              19439 non-null  float64\n",
      " 23  primary_cleaner.state.floatbank8_a_level            19439 non-null  float64\n",
      " 24  primary_cleaner.state.floatbank8_b_air              19439 non-null  float64\n",
      " 25  primary_cleaner.state.floatbank8_b_level            19439 non-null  float64\n",
      " 26  primary_cleaner.state.floatbank8_c_air              19439 non-null  float64\n",
      " 27  primary_cleaner.state.floatbank8_c_level            19439 non-null  float64\n",
      " 28  primary_cleaner.state.floatbank8_d_air              19439 non-null  float64\n",
      " 29  primary_cleaner.state.floatbank8_d_level            19439 non-null  float64\n",
      " 30  rougher.calculation.sulfate_to_au_concentrate       19439 non-null  float64\n",
      " 31  rougher.calculation.floatbank10_sulfate_to_au_feed  19439 non-null  float64\n",
      " 32  rougher.calculation.floatbank11_sulfate_to_au_feed  19439 non-null  float64\n",
      " 33  rougher.calculation.au_pb_ratio                     19439 non-null  float64\n",
      " 34  rougher.input.feed_ag                               19439 non-null  float64\n",
      " 35  rougher.input.feed_pb                               19439 non-null  float64\n",
      " 36  rougher.input.feed_rate                             19439 non-null  float64\n",
      " 37  rougher.input.feed_size                             19439 non-null  float64\n",
      " 38  rougher.input.feed_sol                              19439 non-null  float64\n",
      " 39  rougher.input.feed_au                               19439 non-null  float64\n",
      " 40  rougher.input.floatbank10_sulfate                   19439 non-null  float64\n",
      " 41  rougher.input.floatbank10_xanthate                  19439 non-null  float64\n",
      " 42  rougher.input.floatbank11_sulfate                   19439 non-null  float64\n",
      " 43  rougher.input.floatbank11_xanthate                  19439 non-null  float64\n",
      " 44  rougher.output.concentrate_ag                       19439 non-null  float64\n",
      " 45  rougher.output.concentrate_pb                       19439 non-null  float64\n",
      " 46  rougher.output.concentrate_sol                      19439 non-null  float64\n",
      " 47  rougher.output.concentrate_au                       19439 non-null  float64\n",
      " 48  rougher.output.recovery                             19439 non-null  float64\n",
      " 49  rougher.output.tail_ag                              19439 non-null  float64\n",
      " 50  rougher.output.tail_pb                              19439 non-null  float64\n",
      " 51  rougher.output.tail_sol                             19439 non-null  float64\n",
      " 52  rougher.output.tail_au                              19439 non-null  float64\n",
      " 53  rougher.state.floatbank10_a_air                     19439 non-null  float64\n",
      " 54  rougher.state.floatbank10_a_level                   19439 non-null  float64\n",
      " 55  rougher.state.floatbank10_b_air                     19439 non-null  float64\n",
      " 56  rougher.state.floatbank10_b_level                   19439 non-null  float64\n",
      " 57  rougher.state.floatbank10_c_air                     19439 non-null  float64\n",
      " 58  rougher.state.floatbank10_c_level                   19439 non-null  float64\n",
      " 59  rougher.state.floatbank10_d_air                     19439 non-null  float64\n",
      " 60  rougher.state.floatbank10_d_level                   19439 non-null  float64\n",
      " 61  rougher.state.floatbank10_e_air                     19439 non-null  float64\n",
      " 62  rougher.state.floatbank10_e_level                   19439 non-null  float64\n",
      " 63  rougher.state.floatbank10_f_air                     19439 non-null  float64\n",
      " 64  rougher.state.floatbank10_f_level                   19439 non-null  float64\n",
      " 65  secondary_cleaner.output.tail_ag                    19439 non-null  float64\n",
      " 66  secondary_cleaner.output.tail_pb                    19439 non-null  float64\n",
      " 67  secondary_cleaner.output.tail_sol                   19439 non-null  float64\n",
      " 68  secondary_cleaner.output.tail_au                    19439 non-null  float64\n",
      " 69  secondary_cleaner.state.floatbank2_a_air            19439 non-null  float64\n",
      " 70  secondary_cleaner.state.floatbank2_a_level          19439 non-null  float64\n",
      " 71  secondary_cleaner.state.floatbank2_b_air            19439 non-null  float64\n",
      " 72  secondary_cleaner.state.floatbank2_b_level          19439 non-null  float64\n",
      " 73  secondary_cleaner.state.floatbank3_a_air            19439 non-null  float64\n",
      " 74  secondary_cleaner.state.floatbank3_a_level          19439 non-null  float64\n",
      " 75  secondary_cleaner.state.floatbank3_b_air            19439 non-null  float64\n",
      " 76  secondary_cleaner.state.floatbank3_b_level          19439 non-null  float64\n",
      " 77  secondary_cleaner.state.floatbank4_a_air            19439 non-null  float64\n",
      " 78  secondary_cleaner.state.floatbank4_a_level          19439 non-null  float64\n",
      " 79  secondary_cleaner.state.floatbank4_b_air            19439 non-null  float64\n",
      " 80  secondary_cleaner.state.floatbank4_b_level          19439 non-null  float64\n",
      " 81  secondary_cleaner.state.floatbank5_a_air            19439 non-null  float64\n",
      " 82  secondary_cleaner.state.floatbank5_a_level          19439 non-null  float64\n",
      " 83  secondary_cleaner.state.floatbank5_b_air            19439 non-null  float64\n",
      " 84  secondary_cleaner.state.floatbank5_b_level          19439 non-null  float64\n",
      " 85  secondary_cleaner.state.floatbank6_a_air            19439 non-null  float64\n",
      " 86  secondary_cleaner.state.floatbank6_a_level          19439 non-null  float64\n",
      "dtypes: float64(86), object(1)\n",
      "memory usage: 12.9+ MB\n",
      "None\n",
      "\n",
      "<class 'pandas.core.frame.DataFrame'>\n",
      "RangeIndex: 14149 entries, 0 to 14148\n",
      "Data columns (total 87 columns):\n",
      " #   Column                                              Non-Null Count  Dtype  \n",
      "---  ------                                              --------------  -----  \n",
      " 0   date                                                14149 non-null  object \n",
      " 1   final.output.concentrate_ag                         14149 non-null  float64\n",
      " 2   final.output.concentrate_pb                         14149 non-null  float64\n",
      " 3   final.output.concentrate_sol                        14149 non-null  float64\n",
      " 4   final.output.concentrate_au                         14149 non-null  float64\n",
      " 5   final.output.recovery                               14149 non-null  float64\n",
      " 6   final.output.tail_ag                                14149 non-null  float64\n",
      " 7   final.output.tail_pb                                14149 non-null  float64\n",
      " 8   final.output.tail_sol                               14149 non-null  float64\n",
      " 9   final.output.tail_au                                14149 non-null  float64\n",
      " 10  primary_cleaner.input.sulfate                       14149 non-null  float64\n",
      " 11  primary_cleaner.input.depressant                    14149 non-null  float64\n",
      " 12  primary_cleaner.input.feed_size                     14149 non-null  float64\n",
      " 13  primary_cleaner.input.xanthate                      14149 non-null  float64\n",
      " 14  primary_cleaner.output.concentrate_ag               14149 non-null  float64\n",
      " 15  primary_cleaner.output.concentrate_pb               14149 non-null  float64\n",
      " 16  primary_cleaner.output.concentrate_sol              14149 non-null  float64\n",
      " 17  primary_cleaner.output.concentrate_au               14149 non-null  float64\n",
      " 18  primary_cleaner.output.tail_ag                      14149 non-null  float64\n",
      " 19  primary_cleaner.output.tail_pb                      14149 non-null  float64\n",
      " 20  primary_cleaner.output.tail_sol                     14149 non-null  float64\n",
      " 21  primary_cleaner.output.tail_au                      14149 non-null  float64\n",
      " 22  primary_cleaner.state.floatbank8_a_air              14149 non-null  float64\n",
      " 23  primary_cleaner.state.floatbank8_a_level            14149 non-null  float64\n",
      " 24  primary_cleaner.state.floatbank8_b_air              14149 non-null  float64\n",
      " 25  primary_cleaner.state.floatbank8_b_level            14149 non-null  float64\n",
      " 26  primary_cleaner.state.floatbank8_c_air              14149 non-null  float64\n",
      " 27  primary_cleaner.state.floatbank8_c_level            14149 non-null  float64\n",
      " 28  primary_cleaner.state.floatbank8_d_air              14149 non-null  float64\n",
      " 29  primary_cleaner.state.floatbank8_d_level            14149 non-null  float64\n",
      " 30  rougher.calculation.sulfate_to_au_concentrate       14149 non-null  float64\n",
      " 31  rougher.calculation.floatbank10_sulfate_to_au_feed  14149 non-null  float64\n",
      " 32  rougher.calculation.floatbank11_sulfate_to_au_feed  14149 non-null  float64\n",
      " 33  rougher.calculation.au_pb_ratio                     14149 non-null  float64\n",
      " 34  rougher.input.feed_ag                               14149 non-null  float64\n",
      " 35  rougher.input.feed_pb                               14149 non-null  float64\n",
      " 36  rougher.input.feed_rate                             14149 non-null  float64\n",
      " 37  rougher.input.feed_size                             14149 non-null  float64\n",
      " 38  rougher.input.feed_sol                              14149 non-null  float64\n",
      " 39  rougher.input.feed_au                               14149 non-null  float64\n",
      " 40  rougher.input.floatbank10_sulfate                   14149 non-null  float64\n",
      " 41  rougher.input.floatbank10_xanthate                  14149 non-null  float64\n",
      " 42  rougher.input.floatbank11_sulfate                   14149 non-null  float64\n",
      " 43  rougher.input.floatbank11_xanthate                  14149 non-null  float64\n",
      " 44  rougher.output.concentrate_ag                       14149 non-null  float64\n",
      " 45  rougher.output.concentrate_pb                       14149 non-null  float64\n",
      " 46  rougher.output.concentrate_sol                      14149 non-null  float64\n",
      " 47  rougher.output.concentrate_au                       14149 non-null  float64\n",
      " 48  rougher.output.recovery                             14149 non-null  float64\n",
      " 49  rougher.output.tail_ag                              14149 non-null  float64\n",
      " 50  rougher.output.tail_pb                              14149 non-null  float64\n",
      " 51  rougher.output.tail_sol                             14149 non-null  float64\n",
      " 52  rougher.output.tail_au                              14149 non-null  float64\n",
      " 53  rougher.state.floatbank10_a_air                     14149 non-null  float64\n",
      " 54  rougher.state.floatbank10_a_level                   14149 non-null  float64\n",
      " 55  rougher.state.floatbank10_b_air                     14149 non-null  float64\n",
      " 56  rougher.state.floatbank10_b_level                   14149 non-null  float64\n",
      " 57  rougher.state.floatbank10_c_air                     14149 non-null  float64\n",
      " 58  rougher.state.floatbank10_c_level                   14149 non-null  float64\n",
      " 59  rougher.state.floatbank10_d_air                     14149 non-null  float64\n",
      " 60  rougher.state.floatbank10_d_level                   14149 non-null  float64\n",
      " 61  rougher.state.floatbank10_e_air                     14149 non-null  float64\n",
      " 62  rougher.state.floatbank10_e_level                   14149 non-null  float64\n",
      " 63  rougher.state.floatbank10_f_air                     14149 non-null  float64\n",
      " 64  rougher.state.floatbank10_f_level                   14149 non-null  float64\n",
      " 65  secondary_cleaner.output.tail_ag                    14149 non-null  float64\n",
      " 66  secondary_cleaner.output.tail_pb                    14149 non-null  float64\n",
      " 67  secondary_cleaner.output.tail_sol                   14149 non-null  float64\n",
      " 68  secondary_cleaner.output.tail_au                    14149 non-null  float64\n",
      " 69  secondary_cleaner.state.floatbank2_a_air            14149 non-null  float64\n",
      " 70  secondary_cleaner.state.floatbank2_a_level          14149 non-null  float64\n",
      " 71  secondary_cleaner.state.floatbank2_b_air            14149 non-null  float64\n",
      " 72  secondary_cleaner.state.floatbank2_b_level          14149 non-null  float64\n",
      " 73  secondary_cleaner.state.floatbank3_a_air            14149 non-null  float64\n",
      " 74  secondary_cleaner.state.floatbank3_a_level          14149 non-null  float64\n",
      " 75  secondary_cleaner.state.floatbank3_b_air            14149 non-null  float64\n",
      " 76  secondary_cleaner.state.floatbank3_b_level          14149 non-null  float64\n",
      " 77  secondary_cleaner.state.floatbank4_a_air            14149 non-null  float64\n",
      " 78  secondary_cleaner.state.floatbank4_a_level          14149 non-null  float64\n",
      " 79  secondary_cleaner.state.floatbank4_b_air            14149 non-null  float64\n",
      " 80  secondary_cleaner.state.floatbank4_b_level          14149 non-null  float64\n",
      " 81  secondary_cleaner.state.floatbank5_a_air            14149 non-null  float64\n",
      " 82  secondary_cleaner.state.floatbank5_a_level          14149 non-null  float64\n",
      " 83  secondary_cleaner.state.floatbank5_b_air            14149 non-null  float64\n",
      " 84  secondary_cleaner.state.floatbank5_b_level          14149 non-null  float64\n",
      " 85  secondary_cleaner.state.floatbank6_a_air            14149 non-null  float64\n",
      " 86  secondary_cleaner.state.floatbank6_a_level          14149 non-null  float64\n",
      "dtypes: float64(86), object(1)\n",
      "memory usage: 9.4+ MB\n",
      "None\n",
      "\n",
      "<class 'pandas.core.frame.DataFrame'>\n",
      "Int64Index: 5290 entries, 0 to 5289\n",
      "Data columns (total 55 columns):\n",
      " #   Column                                      Non-Null Count  Dtype  \n",
      "---  ------                                      --------------  -----  \n",
      " 0   date                                        5290 non-null   object \n",
      " 1   primary_cleaner.input.sulfate               5290 non-null   float64\n",
      " 2   primary_cleaner.input.depressant            5290 non-null   float64\n",
      " 3   primary_cleaner.input.feed_size             5290 non-null   float64\n",
      " 4   primary_cleaner.input.xanthate              5290 non-null   float64\n",
      " 5   primary_cleaner.state.floatbank8_a_air      5290 non-null   float64\n",
      " 6   primary_cleaner.state.floatbank8_a_level    5290 non-null   float64\n",
      " 7   primary_cleaner.state.floatbank8_b_air      5290 non-null   float64\n",
      " 8   primary_cleaner.state.floatbank8_b_level    5290 non-null   float64\n",
      " 9   primary_cleaner.state.floatbank8_c_air      5290 non-null   float64\n",
      " 10  primary_cleaner.state.floatbank8_c_level    5290 non-null   float64\n",
      " 11  primary_cleaner.state.floatbank8_d_air      5290 non-null   float64\n",
      " 12  primary_cleaner.state.floatbank8_d_level    5290 non-null   float64\n",
      " 13  rougher.input.feed_ag                       5290 non-null   float64\n",
      " 14  rougher.input.feed_pb                       5290 non-null   float64\n",
      " 15  rougher.input.feed_rate                     5290 non-null   float64\n",
      " 16  rougher.input.feed_size                     5290 non-null   float64\n",
      " 17  rougher.input.feed_sol                      5290 non-null   float64\n",
      " 18  rougher.input.feed_au                       5290 non-null   float64\n",
      " 19  rougher.input.floatbank10_sulfate           5290 non-null   float64\n",
      " 20  rougher.input.floatbank10_xanthate          5290 non-null   float64\n",
      " 21  rougher.input.floatbank11_sulfate           5290 non-null   float64\n",
      " 22  rougher.input.floatbank11_xanthate          5290 non-null   float64\n",
      " 23  rougher.state.floatbank10_a_air             5290 non-null   float64\n",
      " 24  rougher.state.floatbank10_a_level           5290 non-null   float64\n",
      " 25  rougher.state.floatbank10_b_air             5290 non-null   float64\n",
      " 26  rougher.state.floatbank10_b_level           5290 non-null   float64\n",
      " 27  rougher.state.floatbank10_c_air             5290 non-null   float64\n",
      " 28  rougher.state.floatbank10_c_level           5290 non-null   float64\n",
      " 29  rougher.state.floatbank10_d_air             5290 non-null   float64\n",
      " 30  rougher.state.floatbank10_d_level           5290 non-null   float64\n",
      " 31  rougher.state.floatbank10_e_air             5290 non-null   float64\n",
      " 32  rougher.state.floatbank10_e_level           5290 non-null   float64\n",
      " 33  rougher.state.floatbank10_f_air             5290 non-null   float64\n",
      " 34  rougher.state.floatbank10_f_level           5290 non-null   float64\n",
      " 35  secondary_cleaner.state.floatbank2_a_air    5290 non-null   float64\n",
      " 36  secondary_cleaner.state.floatbank2_a_level  5290 non-null   float64\n",
      " 37  secondary_cleaner.state.floatbank2_b_air    5290 non-null   float64\n",
      " 38  secondary_cleaner.state.floatbank2_b_level  5290 non-null   float64\n",
      " 39  secondary_cleaner.state.floatbank3_a_air    5290 non-null   float64\n",
      " 40  secondary_cleaner.state.floatbank3_a_level  5290 non-null   float64\n",
      " 41  secondary_cleaner.state.floatbank3_b_air    5290 non-null   float64\n",
      " 42  secondary_cleaner.state.floatbank3_b_level  5290 non-null   float64\n",
      " 43  secondary_cleaner.state.floatbank4_a_air    5290 non-null   float64\n",
      " 44  secondary_cleaner.state.floatbank4_a_level  5290 non-null   float64\n",
      " 45  secondary_cleaner.state.floatbank4_b_air    5290 non-null   float64\n",
      " 46  secondary_cleaner.state.floatbank4_b_level  5290 non-null   float64\n",
      " 47  secondary_cleaner.state.floatbank5_a_air    5290 non-null   float64\n",
      " 48  secondary_cleaner.state.floatbank5_a_level  5290 non-null   float64\n",
      " 49  secondary_cleaner.state.floatbank5_b_air    5290 non-null   float64\n",
      " 50  secondary_cleaner.state.floatbank5_b_level  5290 non-null   float64\n",
      " 51  secondary_cleaner.state.floatbank6_a_air    5290 non-null   float64\n",
      " 52  secondary_cleaner.state.floatbank6_a_level  5290 non-null   float64\n",
      " 53  rougher.output.recovery                     5290 non-null   float64\n",
      " 54  final.output.recovery                       5290 non-null   float64\n",
      "dtypes: float64(54), object(1)\n",
      "memory usage: 2.3+ MB\n",
      "None\n"
     ]
    }
   ],
   "source": [
    "df_full = df_full.fillna(method='ffill')\n",
    "df_train = df_train.fillna(method='ffill')\n",
    "df_test = df_test.fillna(method='ffill')\n",
    "\n",
    "print(df_full.info())\n",
    "print()\n",
    "print(df_train.info())\n",
    "print()\n",
    "print(df_test.info())"
   ]
  },
  {
   "cell_type": "markdown",
   "metadata": {},
   "source": [
    "## Анализ данных"
   ]
  },
  {
   "cell_type": "markdown",
   "metadata": {},
   "source": [
    "Посмотрим, как меняется концентрация металлов (Au, Ag, Pb) на различных этапах очистки.\n",
    "\n",
    "Построим гистограммы."
   ]
  },
  {
   "cell_type": "code",
   "execution_count": 14,
   "metadata": {},
   "outputs": [
    {
     "data": {
      "image/png": "[encoded data removed]",
      "text/plain": [
       "<Figure size 432x288 with 1 Axes>"
      ]
     },
     "metadata": {
      "needs_background": "light"
     },
     "output_type": "display_data"
    }
   ],
   "source": [
    "df_full['rougher.input.feed_au'].hist(bins=100, alpha = 0.7, label='au')\n",
    "df_full['rougher.input.feed_ag'].hist(bins=100, alpha = 0.7, label='ag')\n",
    "df_full['rougher.input.feed_pb'].hist(bins=100, alpha = 0.7, label='pb')\n",
    "\n",
    "\n",
    "plt.title('Концентрация металлов в исходном сырье')\n",
    "plt.xlabel('Концентрация')\n",
    "plt.ylabel('Частота')\n",
    "\n",
    "plt.legend()\n",
    "plt.show()"
   ]
  },
  {
   "cell_type": "code",
   "execution_count": 15,
   "metadata": {
    "scrolled": true
   },
   "outputs": [
    {
     "data": {
      "image/png": "[encoded data removed]",
      "text/plain": [
       "<Figure size 432x288 with 1 Axes>"
      ]
     },
     "metadata": {
      "needs_background": "light"
     },
     "output_type": "display_data"
    }
   ],
   "source": [
    "df_full['rougher.output.concentrate_au'].hist(bins=100, alpha = 0.7, label='au')\n",
    "df_full['rougher.output.concentrate_ag'].hist(bins=100, alpha = 0.7, label='ag')\n",
    "df_full['rougher.output.concentrate_pb'].hist(bins=100, alpha = 0.7, label='pb')\n",
    "\n",
    "\n",
    "plt.title('Концентрация металлов после флотации')\n",
    "plt.xlabel('Концентрация')\n",
    "plt.ylabel('Частота')\n",
    "\n",
    "plt.legend()\n",
    "plt.show()"
   ]
  },
  {
   "cell_type": "code",
   "execution_count": 16,
   "metadata": {},
   "outputs": [
    {
     "data": {
      "image/png": "[encoded data removed]",
      "text/plain": [
       "<Figure size 432x288 with 1 Axes>"
      ]
     },
     "metadata": {
      "needs_background": "light"
     },
     "output_type": "display_data"
    }
   ],
   "source": [
    "df_full['primary_cleaner.output.concentrate_au'].hist(bins=100, alpha = 0.7, label='au')\n",
    "df_full['primary_cleaner.output.concentrate_ag'].hist(bins=100, alpha = 0.7, label='ag')\n",
    "df_full['primary_cleaner.output.concentrate_pb'].hist(bins=100, alpha = 0.7, label='pb')\n",
    "\n",
    "\n",
    "plt.title('Концентрация металлов после первой очистки')\n",
    "plt.xlabel('Концентрация')\n",
    "plt.ylabel('Частота')\n",
    "\n",
    "plt.legend()\n",
    "plt.show()"
   ]
  },
  {
   "cell_type": "code",
   "execution_count": 17,
   "metadata": {},
   "outputs": [
    {
     "data": {
      "image/png": "[encoded data removed]",
      "text/plain": [
       "<Figure size 432x288 with 1 Axes>"
      ]
     },
     "metadata": {
      "needs_background": "light"
     },
     "output_type": "display_data"
    }
   ],
   "source": [
    "df_full['final.output.concentrate_au'].hist(bins=100, alpha = 0.7, label='au')\n",
    "df_full['final.output.concentrate_ag'].hist(bins=100, alpha = 0.7, label='ag')\n",
    "df_full['final.output.concentrate_pb'].hist(bins=100, alpha = 0.7, label='pb')\n",
    "\n",
    "\n",
    "plt.title('Концентрация металлов после второй очистки')\n",
    "plt.xlabel('Концентрация')\n",
    "plt.ylabel('Частота')\n",
    "\n",
    "plt.legend()\n",
    "plt.show()"
   ]
  },
  {
   "cell_type": "markdown",
   "metadata": {},
   "source": [
    "Изучив графики, можно сказать, что самая маленькая концентрация металлов в исходном сырье. А ещё в исходном сырье одинаковое содержание серебра и золота. После флотации - чуть больше золота, поменьше серебра и ещё меньше свинца. И частота выявления таких концентраций у них примерно на одном уровне. \n",
    "\n",
    "Далее после первой очистки концентрации золота по-прежнему больше, она увеличилась. Концентрация серебра уменьшилась, а свинца увеличилась. Частота фиксирования таких концентраций всех трех металлов осталась примерно на том же уровне.\n",
    "\n",
    "После второй очистки концентрация золота стала ещё больше, и частота возросла почти в два раза. Концентрации серебра и свинца, их частота почти не изменились."
   ]
  },
  {
   "cell_type": "markdown",
   "metadata": {},
   "source": [
    "Сравним распределения размеров гранул сырья на обучающей и тестовой выборках. Опять построим гистограммы."
   ]
  },
  {
   "cell_type": "code",
   "execution_count": 18,
   "metadata": {},
   "outputs": [
    {
     "data": {
      "image/png": "[encoded data removed]",
      "text/plain": [
       "<Figure size 576x360 with 1 Axes>"
      ]
     },
     "metadata": {
      "needs_background": "light"
     },
     "output_type": "display_data"
    }
   ],
   "source": [
    "plt.figure(figsize = (8,5))\n",
    "\n",
    "sns.kdeplot(df_train['rougher.input.feed_size'], fill = True, label = 'train')\n",
    "sns.kdeplot(df_test['rougher.input.feed_size'], fill = True, label = 'test')\n",
    "\n",
    "plt.title('Размер гранул сырья перед флотацией в тренировочной и тестовой выборках')\n",
    "plt.xlabel('Размер')\n",
    "\n",
    "plt.legend()\n",
    "plt.show()"
   ]
  },
  {
   "cell_type": "code",
   "execution_count": 19,
   "metadata": {},
   "outputs": [
    {
     "data": {
      "image/png": "[encoded data removed]",
      "text/plain": [
       "<Figure size 576x360 with 1 Axes>"
      ]
     },
     "metadata": {
      "needs_background": "light"
     },
     "output_type": "display_data"
    }
   ],
   "source": [
    "plt.figure(figsize = (8,5))\n",
    "\n",
    "sns.kdeplot(df_train['primary_cleaner.input.feed_size'], fill = True, label = 'train')\n",
    "sns.kdeplot(df_test['primary_cleaner.input.feed_size'], fill = True, label = 'test')\n",
    "\n",
    "plt.title('Размер гранул сырья перед первой очисткой в тренировочной и тествой выборках')\n",
    "plt.xlabel('Размер')\n",
    "\n",
    "plt.legend()\n",
    "plt.show()"
   ]
  },
  {
   "cell_type": "markdown",
   "metadata": {},
   "source": [
    "Судя по графикам, распределение размеров гранул сырья в обучающей и тестовой выборках не сильно отличаются друг от друга."
   ]
  },
  {
   "cell_type": "markdown",
   "metadata": {},
   "source": [
    "Исследуем суммарную концентрацию всех веществ (серебро, золото, свинец и коллоидный раствор) на разных стадиях: в сырье(rougher.input), в черновом(rougher.output) и финальном концентратах(final). Для этого добавим новые столбцы и построим гистограммы по этим столбцам."
   ]
  },
  {
   "cell_type": "code",
   "execution_count": 20,
   "metadata": {},
   "outputs": [
    {
     "data": {
      "text/html": [
       "<div>\n",
       "<style scoped>\n",
       "    .dataframe tbody tr th:only-of-type {\n",
       "        vertical-align: middle;\n",
       "    }\n",
       "\n",
       "    .dataframe tbody tr th {\n",
       "        vertical-align: top;\n",
       "    }\n",
       "\n",
       "    .dataframe thead th {\n",
       "        text-align: right;\n",
       "    }\n",
       "</style>\n",
       "<table border=\"1\" class=\"dataframe\">\n",
       "  <thead>\n",
       "    <tr style=\"text-align: right;\">\n",
       "      <th></th>\n",
       "      <th>date</th>\n",
       "      <th>final.output.concentrate_ag</th>\n",
       "      <th>final.output.concentrate_pb</th>\n",
       "      <th>final.output.concentrate_sol</th>\n",
       "      <th>final.output.concentrate_au</th>\n",
       "      <th>final.output.recovery</th>\n",
       "      <th>final.output.tail_ag</th>\n",
       "      <th>final.output.tail_pb</th>\n",
       "      <th>final.output.tail_sol</th>\n",
       "      <th>final.output.tail_au</th>\n",
       "      <th>...</th>\n",
       "      <th>secondary_cleaner.state.floatbank4_b_level</th>\n",
       "      <th>secondary_cleaner.state.floatbank5_a_air</th>\n",
       "      <th>secondary_cleaner.state.floatbank5_a_level</th>\n",
       "      <th>secondary_cleaner.state.floatbank5_b_air</th>\n",
       "      <th>secondary_cleaner.state.floatbank5_b_level</th>\n",
       "      <th>secondary_cleaner.state.floatbank6_a_air</th>\n",
       "      <th>secondary_cleaner.state.floatbank6_a_level</th>\n",
       "      <th>rougher_input_feed_sum</th>\n",
       "      <th>rougher_output_concentrate_sum</th>\n",
       "      <th>final_output_concentrate_sum</th>\n",
       "    </tr>\n",
       "  </thead>\n",
       "  <tbody>\n",
       "    <tr>\n",
       "      <th>0</th>\n",
       "      <td>2016-01-15 00:00:00</td>\n",
       "      <td>6.055403</td>\n",
       "      <td>9.889648</td>\n",
       "      <td>5.507324</td>\n",
       "      <td>42.192020</td>\n",
       "      <td>70.541216</td>\n",
       "      <td>10.411962</td>\n",
       "      <td>0.895447</td>\n",
       "      <td>16.904297</td>\n",
       "      <td>2.143149</td>\n",
       "      <td>...</td>\n",
       "      <td>-504.715942</td>\n",
       "      <td>9.925633</td>\n",
       "      <td>-498.310211</td>\n",
       "      <td>8.079666</td>\n",
       "      <td>-500.470978</td>\n",
       "      <td>14.151341</td>\n",
       "      <td>-605.841980</td>\n",
       "      <td>51.680034</td>\n",
       "      <td>66.424950</td>\n",
       "      <td>63.644396</td>\n",
       "    </tr>\n",
       "    <tr>\n",
       "      <th>1</th>\n",
       "      <td>2016-01-15 01:00:00</td>\n",
       "      <td>6.029369</td>\n",
       "      <td>9.968944</td>\n",
       "      <td>5.257781</td>\n",
       "      <td>42.701629</td>\n",
       "      <td>69.266198</td>\n",
       "      <td>10.462676</td>\n",
       "      <td>0.927452</td>\n",
       "      <td>16.634514</td>\n",
       "      <td>2.224930</td>\n",
       "      <td>...</td>\n",
       "      <td>-501.331529</td>\n",
       "      <td>10.039245</td>\n",
       "      <td>-500.169983</td>\n",
       "      <td>7.984757</td>\n",
       "      <td>-500.582168</td>\n",
       "      <td>13.998353</td>\n",
       "      <td>-599.787184</td>\n",
       "      <td>50.659114</td>\n",
       "      <td>67.012710</td>\n",
       "      <td>63.957723</td>\n",
       "    </tr>\n",
       "    <tr>\n",
       "      <th>2</th>\n",
       "      <td>2016-01-15 02:00:00</td>\n",
       "      <td>6.055926</td>\n",
       "      <td>10.213995</td>\n",
       "      <td>5.383759</td>\n",
       "      <td>42.657501</td>\n",
       "      <td>68.116445</td>\n",
       "      <td>10.507046</td>\n",
       "      <td>0.953716</td>\n",
       "      <td>16.208849</td>\n",
       "      <td>2.257889</td>\n",
       "      <td>...</td>\n",
       "      <td>-501.133383</td>\n",
       "      <td>10.070913</td>\n",
       "      <td>-500.129135</td>\n",
       "      <td>8.013877</td>\n",
       "      <td>-500.517572</td>\n",
       "      <td>14.028663</td>\n",
       "      <td>-601.427363</td>\n",
       "      <td>50.609929</td>\n",
       "      <td>66.103793</td>\n",
       "      <td>64.311180</td>\n",
       "    </tr>\n",
       "    <tr>\n",
       "      <th>3</th>\n",
       "      <td>2016-01-15 03:00:00</td>\n",
       "      <td>6.047977</td>\n",
       "      <td>9.977019</td>\n",
       "      <td>4.858634</td>\n",
       "      <td>42.689819</td>\n",
       "      <td>68.347543</td>\n",
       "      <td>10.422762</td>\n",
       "      <td>0.883763</td>\n",
       "      <td>16.532835</td>\n",
       "      <td>2.146849</td>\n",
       "      <td>...</td>\n",
       "      <td>-501.193686</td>\n",
       "      <td>9.970366</td>\n",
       "      <td>-499.201640</td>\n",
       "      <td>7.977324</td>\n",
       "      <td>-500.255908</td>\n",
       "      <td>14.005551</td>\n",
       "      <td>-599.996129</td>\n",
       "      <td>51.061546</td>\n",
       "      <td>65.752751</td>\n",
       "      <td>63.573449</td>\n",
       "    </tr>\n",
       "    <tr>\n",
       "      <th>4</th>\n",
       "      <td>2016-01-15 04:00:00</td>\n",
       "      <td>6.148599</td>\n",
       "      <td>10.142511</td>\n",
       "      <td>4.939416</td>\n",
       "      <td>42.774141</td>\n",
       "      <td>66.927016</td>\n",
       "      <td>10.360302</td>\n",
       "      <td>0.792826</td>\n",
       "      <td>16.525686</td>\n",
       "      <td>2.055292</td>\n",
       "      <td>...</td>\n",
       "      <td>-501.053894</td>\n",
       "      <td>9.925709</td>\n",
       "      <td>-501.686727</td>\n",
       "      <td>7.894242</td>\n",
       "      <td>-500.356035</td>\n",
       "      <td>13.996647</td>\n",
       "      <td>-601.496691</td>\n",
       "      <td>47.859163</td>\n",
       "      <td>65.908382</td>\n",
       "      <td>64.004667</td>\n",
       "    </tr>\n",
       "  </tbody>\n",
       "</table>\n",
       "<p>5 rows × 90 columns</p>\n",
       "</div>"
      ],
      "text/plain": [
       "                  date  final.output.concentrate_ag  \\\n",
       "0  2016-01-15 00:00:00                     6.055403   \n",
       "1  2016-01-15 01:00:00                     6.029369   \n",
       "2  2016-01-15 02:00:00                     6.055926   \n",
       "3  2016-01-15 03:00:00                     6.047977   \n",
       "4  2016-01-15 04:00:00                     6.148599   \n",
       "\n",
       "   final.output.concentrate_pb  final.output.concentrate_sol  \\\n",
       "0                     9.889648                      5.507324   \n",
       "1                     9.968944                      5.257781   \n",
       "2                    10.213995                      5.383759   \n",
       "3                     9.977019                      4.858634   \n",
       "4                    10.142511                      4.939416   \n",
       "\n",
       "   final.output.concentrate_au  final.output.recovery  final.output.tail_ag  \\\n",
       "0                    42.192020              70.541216             10.411962   \n",
       "1                    42.701629              69.266198             10.462676   \n",
       "2                    42.657501              68.116445             10.507046   \n",
       "3                    42.689819              68.347543             10.422762   \n",
       "4                    42.774141              66.927016             10.360302   \n",
       "\n",
       "   final.output.tail_pb  final.output.tail_sol  final.output.tail_au  ...  \\\n",
       "0              0.895447              16.904297              2.143149  ...   \n",
       "1              0.927452              16.634514              2.224930  ...   \n",
       "2              0.953716              16.208849              2.257889  ...   \n",
       "3              0.883763              16.532835              2.146849  ...   \n",
       "4              0.792826              16.525686              2.055292  ...   \n",
       "\n",
       "   secondary_cleaner.state.floatbank4_b_level  \\\n",
       "0                                 -504.715942   \n",
       "1                                 -501.331529   \n",
       "2                                 -501.133383   \n",
       "3                                 -501.193686   \n",
       "4                                 -501.053894   \n",
       "\n",
       "   secondary_cleaner.state.floatbank5_a_air  \\\n",
       "0                                  9.925633   \n",
       "1                                 10.039245   \n",
       "2                                 10.070913   \n",
       "3                                  9.970366   \n",
       "4                                  9.925709   \n",
       "\n",
       "   secondary_cleaner.state.floatbank5_a_level  \\\n",
       "0                                 -498.310211   \n",
       "1                                 -500.169983   \n",
       "2                                 -500.129135   \n",
       "3                                 -499.201640   \n",
       "4                                 -501.686727   \n",
       "\n",
       "   secondary_cleaner.state.floatbank5_b_air  \\\n",
       "0                                  8.079666   \n",
       "1                                  7.984757   \n",
       "2                                  8.013877   \n",
       "3                                  7.977324   \n",
       "4                                  7.894242   \n",
       "\n",
       "   secondary_cleaner.state.floatbank5_b_level  \\\n",
       "0                                 -500.470978   \n",
       "1                                 -500.582168   \n",
       "2                                 -500.517572   \n",
       "3                                 -500.255908   \n",
       "4                                 -500.356035   \n",
       "\n",
       "   secondary_cleaner.state.floatbank6_a_air  \\\n",
       "0                                 14.151341   \n",
       "1                                 13.998353   \n",
       "2                                 14.028663   \n",
       "3                                 14.005551   \n",
       "4                                 13.996647   \n",
       "\n",
       "   secondary_cleaner.state.floatbank6_a_level  rougher_input_feed_sum  \\\n",
       "0                                 -605.841980               51.680034   \n",
       "1                                 -599.787184               50.659114   \n",
       "2                                 -601.427363               50.609929   \n",
       "3                                 -599.996129               51.061546   \n",
       "4                                 -601.496691               47.859163   \n",
       "\n",
       "   rougher_output_concentrate_sum  final_output_concentrate_sum  \n",
       "0                       66.424950                     63.644396  \n",
       "1                       67.012710                     63.957723  \n",
       "2                       66.103793                     64.311180  \n",
       "3                       65.752751                     63.573449  \n",
       "4                       65.908382                     64.004667  \n",
       "\n",
       "[5 rows x 90 columns]"
      ]
     },
     "execution_count": 20,
     "metadata": {},
     "output_type": "execute_result"
    }
   ],
   "source": [
    "df_full['rougher_input_feed_sum'] = (df_full['rougher.input.feed_ag'] + \n",
    "                                     df_full['rougher.input.feed_pb'] + \n",
    "                                     df_full['rougher.input.feed_sol'] + \n",
    "                                     df_full['rougher.input.feed_au'])\n",
    "\n",
    "df_full['rougher_output_concentrate_sum'] = (df_full['rougher.output.concentrate_ag'] + \n",
    "                                     df_full['rougher.output.concentrate_pb'] + \n",
    "                                     df_full['rougher.output.concentrate_sol'] + \n",
    "                                     df_full['rougher.output.concentrate_au'])\n",
    "\n",
    "df_full['final_output_concentrate_sum'] = (df_full['final.output.concentrate_ag'] + \n",
    "                                     df_full['final.output.concentrate_pb'] + \n",
    "                                     df_full['final.output.concentrate_sol'] + \n",
    "                                     df_full['final.output.concentrate_au'])\n",
    "\n",
    "df_full.head()"
   ]
  },
  {
   "cell_type": "code",
   "execution_count": 21,
   "metadata": {},
   "outputs": [
    {
     "data": {
      "image/png": "[encoded data removed]",
      "text/plain": [
       "<Figure size 576x360 with 1 Axes>"
      ]
     },
     "metadata": {
      "needs_background": "light"
     },
     "output_type": "display_data"
    }
   ],
   "source": [
    "df_full['rougher_input_feed_sum'].hist(bins=100, alpha = 0.7, label='сырье', figsize=(8,5))\n",
    "df_full['rougher_output_concentrate_sum'].hist(bins=100, alpha = 0.7, label='черновой к-т', figsize=(8,5))\n",
    "df_full['final_output_concentrate_sum'].hist(bins=100, alpha = 0.7, label='финальный к-т', figsize=(8,5))\n",
    "\n",
    "plt.title('Суммарная концентрация всех веществ на разных стадиях')\n",
    "plt.xlabel('Концентрация')\n",
    "\n",
    "plt.legend()\n",
    "plt.show()"
   ]
  },
  {
   "cell_type": "markdown",
   "metadata": {},
   "source": [
    "Общая концентрация всех веществ в сырье самая низкая с невысокой частотой повторения. А вот после флотации концентрация увеличилась, а вот частота, с которой встречаются такие концентрации осталась неизменной.\n",
    "\n",
    "В финальном концентрате содержание всех веществ осталось примерно на том же уровне, а частота, с которой встречаются такие показатели заметно выросла - почти в два раза.\n",
    "\n",
    "Но на графике есть аномалии - нулевое значение суммы веществ. Удалим строки с этими аномалиями из тренировочной выборки."
   ]
  },
  {
   "cell_type": "code",
   "execution_count": 22,
   "metadata": {},
   "outputs": [
    {
     "data": {
      "text/plain": [
       "(14148, 87)"
      ]
     },
     "execution_count": 22,
     "metadata": {},
     "output_type": "execute_result"
    }
   ],
   "source": [
    "df_train = df_train[((df_train['rougher.output.concentrate_ag'] + \n",
    "                     df_train['rougher.output.concentrate_pb'] + \n",
    "                     df_train['rougher.output.concentrate_sol'] + \n",
    "                     df_train['rougher.output.concentrate_au']) != 0)|\n",
    "                   ((df_train['final.output.concentrate_ag'] + \n",
    "                    df_train['final.output.concentrate_pb'] + \n",
    "                    df_train['final.output.concentrate_sol'] + \n",
    "                    df_train['final.output.concentrate_au']) != 0)]\n",
    "df_train.shape"
   ]
  },
  {
   "cell_type": "markdown",
   "metadata": {},
   "source": [
    "## Модель"
   ]
  },
  {
   "cell_type": "markdown",
   "metadata": {},
   "source": [
    "Начнем построение модели. Для начала напишем функцию для вычисления итоговой sMAPE."
   ]
  },
  {
   "cell_type": "code",
   "execution_count": 24,
   "metadata": {},
   "outputs": [],
   "source": [
    "def my_smape_total(smape_rougher, smape_final):\n",
    "    \n",
    "    total_smape = 0.25 * smape_rougher + 0.75 * smape_final\n",
    "    \n",
    "    return total_smape"
   ]
  },
  {
   "cell_type": "code",
   "execution_count": 25,
   "metadata": {},
   "outputs": [],
   "source": [
    "#также напишем функцию для расчета sMAPE для каждого таргета\n",
    "def my_smape(predict, target):\n",
    "    \n",
    "    smape = (sum(abs(target - predict) / \n",
    "                          ((abs(target) + abs(predict))/2 + 0.00001)) / len(target))* 100\n",
    "    return smape              "
   ]
  },
  {
   "cell_type": "markdown",
   "metadata": {},
   "source": [
    "Итак, наши целевые признаки rougher.output.recovery и final.output.recovery. Это количественные признаки, задача регрессии. Для их предсказания мы построим две модели - линейной регрессии и случайного леса."
   ]
  },
  {
   "cell_type": "code",
   "execution_count": 26,
   "metadata": {},
   "outputs": [],
   "source": [
    "#Для обучения мы используем только признаки, которые есть в тестовой выборке, \n",
    "#поскольку они известны на момент начала процесса и прогнозирования\n",
    "train = df_train[df_test.columns]\n",
    "\n",
    "features_train = train.drop(['date', 'rougher.output.recovery', 'final.output.recovery'], axis=1)\n",
    "target_train_r = df_train['rougher.output.recovery']\n",
    "target_train_f = df_train['final.output.recovery']\n",
    "\n",
    "smape_scorer = make_scorer(my_smape, greater_is_better = False)"
   ]
  },
  {
   "cell_type": "code",
   "execution_count": 27,
   "metadata": {},
   "outputs": [],
   "source": [
    "#стандартизруем признаки\n",
    "scaler = StandardScaler()\n",
    "scaler.fit(features_train)\n",
    "\n",
    "features_train_scaled = scaler.transform(features_train)"
   ]
  },
  {
   "cell_type": "code",
   "execution_count": 28,
   "metadata": {},
   "outputs": [
    {
     "name": "stdout",
     "output_type": "stream",
     "text": [
      "Средняя оценка качества модели лин.регрессии для предсказания rougher.output.recovery: 12.771700994104567\n",
      "Средняя оценка качества модели лин.регрессии для предсказания final.output.recovery:: 12.20207286597872\n",
      "Итоговая sMAPE линейной модели 12.344479898010182\n"
     ]
    }
   ],
   "source": [
    "#модель лин.регрессии\n",
    "\n",
    "model_LR = LinearRegression()\n",
    "\n",
    "scores_LR_rougher = cross_val_score(model_LR, features_train, target_train_r, scoring = smape_scorer)\n",
    "scores_LR_final = cross_val_score(model_LR, features_train, target_train_f, scoring = smape_scorer)\n",
    "\n",
    "smape_LR_rougher = sum(scores_LR_rougher) * (-1) / len(scores_LR_rougher)\n",
    "smape_LR_final = sum(scores_LR_final) * (-1) / len(scores_LR_final)\n",
    "\n",
    "print('Средняя оценка качества модели лин.регрессии для предсказания rougher.output.recovery:', smape_LR_rougher)\n",
    "print('Средняя оценка качества модели лин.регрессии для предсказания final.output.recovery::', smape_LR_final)\n",
    "print('Итоговая sMAPE линейной модели', my_smape_total(smape_LR_rougher, smape_LR_final))"
   ]
  },
  {
   "cell_type": "markdown",
   "metadata": {},
   "source": [
    "12% отклонения. Посмотрим другую модель."
   ]
  },
  {
   "cell_type": "code",
   "execution_count": 33,
   "metadata": {},
   "outputs": [
    {
     "name": "stdout",
     "output_type": "stream",
     "text": [
      "{'max_depth': 5, 'n_estimators': 140}\n",
      "10.958\n",
      "{'max_depth': 5, 'n_estimators': 80}\n",
      "10.15\n"
     ]
    }
   ],
   "source": [
    "#сначала подберем параметры\n",
    "model_RF = RandomForestRegressor(random_state=12345)\n",
    "\n",
    "params_RF = {'max_depth': [x for x in range(5, 10, 2)],\n",
    "           'n_estimators': [x for x in range(50, 100, 20)]\n",
    "           }\n",
    "\n",
    "grid_RF_rougher = GridSearchCV(model_RF, params_RF, scoring = smape_scorer, n_jobs=-1)\n",
    "\n",
    "grid_RF_final = GridSearchCV(model_RF, params_RF, scoring = smape_scorer, n_jobs=-1)\n",
    "\n",
    "\n",
    "grid_RF_rougher.fit(features_train, target_train_r)\n",
    "grid_RF_final.fit(features_train, target_train_f)\n",
    "\n",
    "print(grid_RF_rougher.best_params_)\n",
    "print(round(abs(grid_RF_rougher.best_score_), 3))\n",
    "print(grid_RF_final.best_params_)\n",
    "print(round(abs(grid_RF_final.best_score_), 3))"
   ]
  },
  {
   "cell_type": "code",
   "execution_count": 29,
   "metadata": {},
   "outputs": [
    {
     "name": "stdout",
     "output_type": "stream",
     "text": [
      "Средняя оценка качества модели случайного леса для предсказания rougher.output.recovery: 10.983149518952974\n",
      "Средняя оценка качества модели случайного леса для предсказания final.output.recovery:: 10.161971760205002\n",
      "Итоговая sMAPE модели случайного леса 10.367266199891995\n"
     ]
    }
   ],
   "source": [
    "#теперь обучим модель на оптимальных параметрах и проведем кросс-валидацию\n",
    "best_model_RF = RandomForestRegressor(max_depth=5, n_estimators=90, random_state=12345)\n",
    "\n",
    "scores_RF_rougher = cross_val_score(best_model_RF, features_train, target_train_r, scoring = smape_scorer)\n",
    "scores_RF_final = cross_val_score(best_model_RF, features_train, target_train_f, scoring = smape_scorer)\n",
    "\n",
    "smape_RF_rougher = sum(scores_RF_rougher) * (-1) / len(scores_RF_rougher)\n",
    "smape_RF_final = sum(scores_RF_final) * (-1) / len(scores_RF_final)\n",
    "\n",
    "print('Средняя оценка качества модели случайного леса для предсказания rougher.output.recovery:', smape_RF_rougher)\n",
    "print('Средняя оценка качества модели случайного леса для предсказания final.output.recovery::', smape_RF_final)\n",
    "print('Итоговая sMAPE модели случайного леса', my_smape_total(smape_RF_rougher, smape_RF_final))"
   ]
  },
  {
   "cell_type": "markdown",
   "metadata": {},
   "source": [
    "Здесь итоговая sMAPE меньше почти на 2% поэтому выберем модель случайного леса."
   ]
  },
  {
   "cell_type": "code",
   "execution_count": 30,
   "metadata": {},
   "outputs": [
    {
     "name": "stdout",
     "output_type": "stream",
     "text": [
      "Итоговая sMAPE выбранной модели на тестовой выборке 9.774691523452585\n"
     ]
    }
   ],
   "source": [
    "#теперь проверим выбранную модель на тестовой выборке\n",
    "\n",
    "features_test = df_test.drop(['date', 'rougher.output.recovery', 'final.output.recovery'], axis=1)\n",
    "target_test_r = df_test['rougher.output.recovery']\n",
    "target_test_f = df_test['final.output.recovery']\n",
    "\n",
    "best_model_RF.fit(features_train, target_train_r)\n",
    "predictions_test_r = best_model_RF.predict(features_test)\n",
    "smape_rougher_test = my_smape(predictions_test_r, target_test_r)\n",
    "\n",
    "best_model_RF.fit(features_train, target_train_f)\n",
    "predictions_test_f = best_model_RF.predict(features_test)\n",
    "smape_final_test = my_smape(predictions_test_f, target_test_f)\n",
    "\n",
    "print('Итоговая sMAPE выбранной модели на тестовой выборке', my_smape_total(smape_rougher_test, smape_final_test))"
   ]
  },
  {
   "cell_type": "markdown",
   "metadata": {},
   "source": [
    "Итоговая sMAPE на тестовой выборке получилась даже меньше, чем на тренировочной. Ошибка предсказаний модели составила 9.8% от фактического значения. Наша модель прошла проверку на тестовых данных. Теперь сравним её с константной моделью."
   ]
  },
  {
   "cell_type": "code",
   "execution_count": 32,
   "metadata": {},
   "outputs": [
    {
     "name": "stdout",
     "output_type": "stream",
     "text": [
      "Итоговая sMAPE константной модели на тестовой выборке 9.479687630415167\n"
     ]
    }
   ],
   "source": [
    "model_dummy = DummyRegressor(strategy=\"median\")\n",
    "\n",
    "model_dummy.fit(features_train, target_train_r)\n",
    "predictions_dummy_r = model_dummy.predict(features_test)\n",
    "smape_rougher_dummy = my_smape(predictions_dummy_r, target_test_r)\n",
    "\n",
    "model_dummy.fit(features_train, target_train_f)\n",
    "predictions_dummy_f = model_dummy.predict(features_test)\n",
    "smape_final_dummy = my_smape(predictions_dummy_f, target_test_f)\n",
    "\n",
    "print('Итоговая sMAPE константной модели на тестовой выборке', my_smape_total(smape_rougher_dummy, smape_final_dummy))"
   ]
  },
  {
   "cell_type": "markdown",
   "metadata": {},
   "source": [
    "На константной модели итоговая ошибка предсказания тестовой выборки меньше - 9.5%."
   ]
  },
  {
   "cell_type": "markdown",
   "metadata": {},
   "source": [
    "**ВЫВОД:** Итак, для лучшего прогнозирования эффективности обогащения чернового концентрата rougher.output.recovery и эффективности обогащения финального концентрата final.output.recovery рекомендуем использовать модель RandomForestRegressor с оптимальными параметрами max_depth=5, n_estimators=90, random_state=12345."
   ]
  }
 ],
 "metadata": {
  "ExecuteTimeLog": [
   {
    "duration": 464,
    "start_time": "2023-04-17T07:16:54.006Z"
   },
   {
    "duration": 3378,
    "start_time": "2023-04-17T07:20:59.778Z"
   },
   {
    "duration": 5,
    "start_time": "2023-04-17T07:29:40.470Z"
   },
   {
    "duration": 124,
    "start_time": "2023-04-17T07:31:07.434Z"
   },
   {
    "duration": 78,
    "start_time": "2023-04-17T07:32:31.017Z"
   },
   {
    "duration": 386,
    "start_time": "2023-04-17T08:14:13.766Z"
   },
   {
    "duration": 173,
    "start_time": "2023-04-17T08:14:43.210Z"
   },
   {
    "duration": 90,
    "start_time": "2023-04-17T08:15:46.329Z"
   },
   {
    "duration": 78,
    "start_time": "2023-04-17T08:18:18.784Z"
   },
   {
    "duration": 538,
    "start_time": "2023-04-17T08:18:44.868Z"
   },
   {
    "duration": 426,
    "start_time": "2023-04-17T08:21:20.304Z"
   },
   {
    "duration": 1253,
    "start_time": "2023-04-17T08:21:44.648Z"
   },
   {
    "duration": 8,
    "start_time": "2023-04-17T08:24:04.168Z"
   },
   {
    "duration": 548,
    "start_time": "2023-04-17T08:24:49.025Z"
   },
   {
    "duration": 5,
    "start_time": "2023-04-17T08:24:57.325Z"
   },
   {
    "duration": 6,
    "start_time": "2023-04-17T08:44:40.907Z"
   },
   {
    "duration": 6,
    "start_time": "2023-04-17T08:45:35.576Z"
   },
   {
    "duration": 7,
    "start_time": "2023-04-17T08:46:02.770Z"
   },
   {
    "duration": 55,
    "start_time": "2023-04-17T08:49:13.504Z"
   },
   {
    "duration": 8,
    "start_time": "2023-04-17T08:49:55.506Z"
   },
   {
    "duration": 21,
    "start_time": "2023-04-17T08:50:18.094Z"
   },
   {
    "duration": 1902,
    "start_time": "2023-04-17T13:28:12.566Z"
   },
   {
    "duration": 4209,
    "start_time": "2023-04-17T13:30:03.610Z"
   },
   {
    "duration": 1165,
    "start_time": "2023-04-18T06:55:36.306Z"
   },
   {
    "duration": 3083,
    "start_time": "2023-04-18T06:55:37.473Z"
   },
   {
    "duration": 6,
    "start_time": "2023-04-18T06:55:40.559Z"
   },
   {
    "duration": 69,
    "start_time": "2023-04-18T06:55:40.568Z"
   },
   {
    "duration": 47,
    "start_time": "2023-04-18T06:55:40.640Z"
   },
   {
    "duration": 422,
    "start_time": "2023-04-18T06:55:40.689Z"
   },
   {
    "duration": 5,
    "start_time": "2023-04-18T06:55:41.113Z"
   },
   {
    "duration": 14,
    "start_time": "2023-04-18T06:55:41.119Z"
   },
   {
    "duration": 115,
    "start_time": "2023-04-18T07:00:43.276Z"
   },
   {
    "duration": 10,
    "start_time": "2023-04-18T07:03:00.318Z"
   },
   {
    "duration": 24,
    "start_time": "2023-04-18T07:07:12.257Z"
   },
   {
    "duration": 42,
    "start_time": "2023-04-18T07:07:23.011Z"
   },
   {
    "duration": 37,
    "start_time": "2023-04-18T07:07:56.729Z"
   },
   {
    "duration": 46,
    "start_time": "2023-04-18T07:08:51.184Z"
   },
   {
    "duration": 29,
    "start_time": "2023-04-18T07:09:50.936Z"
   },
   {
    "duration": 231,
    "start_time": "2023-04-18T07:17:20.425Z"
   },
   {
    "duration": 24,
    "start_time": "2023-04-18T07:19:27.465Z"
   },
   {
    "duration": 107,
    "start_time": "2023-04-18T07:25:45.808Z"
   },
   {
    "duration": 101,
    "start_time": "2023-04-18T07:26:00.810Z"
   },
   {
    "duration": 484,
    "start_time": "2023-04-18T07:28:42.870Z"
   },
   {
    "duration": 10,
    "start_time": "2023-04-18T07:29:40.178Z"
   },
   {
    "duration": 20,
    "start_time": "2023-04-18T07:36:44.373Z"
   },
   {
    "duration": 19,
    "start_time": "2023-04-18T07:48:57.668Z"
   },
   {
    "duration": 24,
    "start_time": "2023-04-18T07:49:53.301Z"
   },
   {
    "duration": 24,
    "start_time": "2023-04-18T07:50:37.156Z"
   },
   {
    "duration": 24,
    "start_time": "2023-04-18T08:04:20.251Z"
   },
   {
    "duration": 20,
    "start_time": "2023-04-18T08:04:40.113Z"
   },
   {
    "duration": 1690,
    "start_time": "2023-04-18T11:09:49.274Z"
   },
   {
    "duration": 3457,
    "start_time": "2023-04-18T11:09:50.967Z"
   },
   {
    "duration": 5,
    "start_time": "2023-04-18T11:09:54.426Z"
   },
   {
    "duration": 100,
    "start_time": "2023-04-18T11:09:54.433Z"
   },
   {
    "duration": 51,
    "start_time": "2023-04-18T11:09:54.535Z"
   },
   {
    "duration": 437,
    "start_time": "2023-04-18T11:09:54.588Z"
   },
   {
    "duration": 20,
    "start_time": "2023-04-18T11:09:55.027Z"
   },
   {
    "duration": 67,
    "start_time": "2023-04-18T11:09:55.049Z"
   },
   {
    "duration": 84,
    "start_time": "2023-04-18T11:09:55.118Z"
   },
   {
    "duration": 153,
    "start_time": "2023-04-18T11:09:55.204Z"
   },
   {
    "duration": 599,
    "start_time": "2023-04-18T11:09:55.359Z"
   },
   {
    "duration": 26,
    "start_time": "2023-04-18T11:09:55.961Z"
   },
   {
    "duration": 19,
    "start_time": "2023-04-18T11:09:55.988Z"
   },
   {
    "duration": 150,
    "start_time": "2023-04-18T11:41:26.713Z"
   },
   {
    "duration": 15,
    "start_time": "2023-04-18T11:42:58.058Z"
   },
   {
    "duration": 260,
    "start_time": "2023-04-18T11:43:12.148Z"
   },
   {
    "duration": 286,
    "start_time": "2023-04-18T11:43:44.422Z"
   },
   {
    "duration": 79,
    "start_time": "2023-04-18T11:53:19.786Z"
   },
   {
    "duration": 1268,
    "start_time": "2023-04-18T13:08:39.421Z"
   },
   {
    "duration": 874,
    "start_time": "2023-04-18T13:08:40.694Z"
   },
   {
    "duration": 5,
    "start_time": "2023-04-18T13:08:41.570Z"
   },
   {
    "duration": 131,
    "start_time": "2023-04-18T13:08:41.577Z"
   },
   {
    "duration": 76,
    "start_time": "2023-04-18T13:08:41.710Z"
   },
   {
    "duration": 463,
    "start_time": "2023-04-18T13:08:41.788Z"
   },
   {
    "duration": 6,
    "start_time": "2023-04-18T13:08:42.259Z"
   },
   {
    "duration": 16,
    "start_time": "2023-04-18T13:08:42.268Z"
   },
   {
    "duration": 66,
    "start_time": "2023-04-18T13:08:42.286Z"
   },
   {
    "duration": 138,
    "start_time": "2023-04-18T13:08:42.354Z"
   },
   {
    "duration": 410,
    "start_time": "2023-04-18T13:08:42.494Z"
   },
   {
    "duration": 41,
    "start_time": "2023-04-18T13:08:42.906Z"
   },
   {
    "duration": 23,
    "start_time": "2023-04-18T13:08:42.954Z"
   },
   {
    "duration": 80,
    "start_time": "2023-04-18T13:09:01.216Z"
   },
   {
    "duration": 84,
    "start_time": "2023-04-18T13:12:41.341Z"
   },
   {
    "duration": 72,
    "start_time": "2023-04-18T13:14:32.801Z"
   },
   {
    "duration": 1547,
    "start_time": "2023-04-18T13:14:55.609Z"
   },
   {
    "duration": 763,
    "start_time": "2023-04-18T13:14:57.158Z"
   },
   {
    "duration": 5,
    "start_time": "2023-04-18T13:14:57.924Z"
   },
   {
    "duration": 144,
    "start_time": "2023-04-18T13:14:57.931Z"
   },
   {
    "duration": 73,
    "start_time": "2023-04-18T13:14:58.078Z"
   },
   {
    "duration": 440,
    "start_time": "2023-04-18T13:14:58.154Z"
   },
   {
    "duration": 7,
    "start_time": "2023-04-18T13:14:58.596Z"
   },
   {
    "duration": 17,
    "start_time": "2023-04-18T13:14:58.606Z"
   },
   {
    "duration": 95,
    "start_time": "2023-04-18T13:14:58.625Z"
   },
   {
    "duration": 211,
    "start_time": "2023-04-18T13:14:58.723Z"
   },
   {
    "duration": 428,
    "start_time": "2023-04-18T13:14:58.936Z"
   },
   {
    "duration": 40,
    "start_time": "2023-04-18T13:14:59.367Z"
   },
   {
    "duration": 55,
    "start_time": "2023-04-18T13:14:59.410Z"
   },
   {
    "duration": 113,
    "start_time": "2023-04-18T13:15:01.610Z"
   },
   {
    "duration": 162,
    "start_time": "2023-04-18T13:46:32.294Z"
   },
   {
    "duration": 39,
    "start_time": "2023-04-18T13:47:02.459Z"
   },
   {
    "duration": 4,
    "start_time": "2023-04-18T14:04:59.157Z"
   },
   {
    "duration": 313,
    "start_time": "2023-04-18T14:06:33.619Z"
   },
   {
    "duration": 444,
    "start_time": "2023-04-18T14:07:06.828Z"
   },
   {
    "duration": 400,
    "start_time": "2023-04-18T14:07:13.959Z"
   },
   {
    "duration": 1693,
    "start_time": "2023-04-20T06:51:22.027Z"
   },
   {
    "duration": 3293,
    "start_time": "2023-04-20T06:51:23.723Z"
   },
   {
    "duration": 4,
    "start_time": "2023-04-20T06:51:27.018Z"
   },
   {
    "duration": 93,
    "start_time": "2023-04-20T06:51:27.026Z"
   },
   {
    "duration": 57,
    "start_time": "2023-04-20T06:51:27.121Z"
   },
   {
    "duration": 422,
    "start_time": "2023-04-20T06:51:27.180Z"
   },
   {
    "duration": 5,
    "start_time": "2023-04-20T06:51:27.605Z"
   },
   {
    "duration": 43,
    "start_time": "2023-04-20T06:51:27.612Z"
   },
   {
    "duration": 61,
    "start_time": "2023-04-20T06:51:27.657Z"
   },
   {
    "duration": 128,
    "start_time": "2023-04-20T06:51:27.720Z"
   },
   {
    "duration": 68,
    "start_time": "2023-04-20T06:51:27.850Z"
   },
   {
    "duration": 42,
    "start_time": "2023-04-20T06:51:27.920Z"
   },
   {
    "duration": 18,
    "start_time": "2023-04-20T06:51:27.964Z"
   },
   {
    "duration": 90,
    "start_time": "2023-04-20T06:51:27.985Z"
   },
   {
    "duration": 336,
    "start_time": "2023-04-20T06:54:45.538Z"
   },
   {
    "duration": 292,
    "start_time": "2023-04-20T06:55:22.399Z"
   },
   {
    "duration": 354,
    "start_time": "2023-04-20T06:55:54.527Z"
   },
   {
    "duration": 526,
    "start_time": "2023-04-20T06:58:08.732Z"
   },
   {
    "duration": 269,
    "start_time": "2023-04-20T07:27:38.982Z"
   },
   {
    "duration": 172,
    "start_time": "2023-04-20T07:28:01.714Z"
   },
   {
    "duration": 145,
    "start_time": "2023-04-20T07:28:47.055Z"
   },
   {
    "duration": 703,
    "start_time": "2023-04-20T07:29:04.534Z"
   },
   {
    "duration": 697,
    "start_time": "2023-04-20T07:29:17.782Z"
   },
   {
    "duration": 446,
    "start_time": "2023-04-20T07:29:38.776Z"
   },
   {
    "duration": 1085,
    "start_time": "2023-04-20T07:31:50.446Z"
   },
   {
    "duration": 1431,
    "start_time": "2023-04-20T07:31:57.035Z"
   },
   {
    "duration": 444,
    "start_time": "2023-04-20T07:32:14.552Z"
   },
   {
    "duration": 476,
    "start_time": "2023-04-20T07:34:43.589Z"
   },
   {
    "duration": 302,
    "start_time": "2023-04-20T07:39:15.148Z"
   },
   {
    "duration": 886,
    "start_time": "2023-04-20T07:39:42.996Z"
   },
   {
    "duration": 692,
    "start_time": "2023-04-20T07:39:55.615Z"
   },
   {
    "duration": 679,
    "start_time": "2023-04-20T07:40:17.228Z"
   },
   {
    "duration": 556,
    "start_time": "2023-04-20T07:41:11.227Z"
   },
   {
    "duration": 653,
    "start_time": "2023-04-20T07:41:34.421Z"
   },
   {
    "duration": 951,
    "start_time": "2023-04-20T07:42:09.668Z"
   },
   {
    "duration": 660,
    "start_time": "2023-04-20T07:43:27.663Z"
   },
   {
    "duration": 957,
    "start_time": "2023-04-20T07:44:19.976Z"
   },
   {
    "duration": 675,
    "start_time": "2023-04-20T07:45:47.317Z"
   },
   {
    "duration": 921,
    "start_time": "2023-04-20T07:45:58.212Z"
   },
   {
    "duration": 681,
    "start_time": "2023-04-20T07:46:42.853Z"
   },
   {
    "duration": 663,
    "start_time": "2023-04-20T07:53:32.909Z"
   },
   {
    "duration": 1012,
    "start_time": "2023-04-20T07:53:37.097Z"
   },
   {
    "duration": 524,
    "start_time": "2023-04-20T08:15:11.441Z"
   },
   {
    "duration": 339,
    "start_time": "2023-04-20T08:15:53.116Z"
   },
   {
    "duration": 811,
    "start_time": "2023-04-20T08:17:24.754Z"
   },
   {
    "duration": 543,
    "start_time": "2023-04-20T08:17:42.483Z"
   },
   {
    "duration": 9,
    "start_time": "2023-04-20T08:18:22.524Z"
   },
   {
    "duration": 105459,
    "start_time": "2023-04-20T08:20:21.861Z"
   },
   {
    "duration": 454,
    "start_time": "2023-04-20T08:23:05.764Z"
   },
   {
    "duration": 363,
    "start_time": "2023-04-20T08:23:13.671Z"
   },
   {
    "duration": 149711,
    "start_time": "2023-04-20T08:45:06.964Z"
   },
   {
    "duration": 3,
    "start_time": "2023-04-20T08:47:52.173Z"
   },
   {
    "duration": 372,
    "start_time": "2023-04-20T11:28:50.854Z"
   },
   {
    "duration": 388,
    "start_time": "2023-04-20T11:29:08.917Z"
   },
   {
    "duration": 379,
    "start_time": "2023-04-20T11:29:58.153Z"
   },
   {
    "duration": 374,
    "start_time": "2023-04-20T11:30:47.522Z"
   },
   {
    "duration": 87,
    "start_time": "2023-04-20T11:39:30.634Z"
   },
   {
    "duration": 1455,
    "start_time": "2023-04-20T11:43:33.394Z"
   },
   {
    "duration": 806,
    "start_time": "2023-04-20T11:43:34.852Z"
   },
   {
    "duration": 82,
    "start_time": "2023-04-20T11:43:35.660Z"
   },
   {
    "duration": 50,
    "start_time": "2023-04-20T11:43:35.752Z"
   },
   {
    "duration": 495,
    "start_time": "2023-04-20T11:43:35.803Z"
   },
   {
    "duration": 6,
    "start_time": "2023-04-20T11:43:36.300Z"
   },
   {
    "duration": 15,
    "start_time": "2023-04-20T11:43:36.308Z"
   },
   {
    "duration": 63,
    "start_time": "2023-04-20T11:43:36.349Z"
   },
   {
    "duration": 148,
    "start_time": "2023-04-20T11:43:36.414Z"
   },
   {
    "duration": 92,
    "start_time": "2023-04-20T11:43:36.565Z"
   },
   {
    "duration": 25,
    "start_time": "2023-04-20T11:43:36.659Z"
   },
   {
    "duration": 23,
    "start_time": "2023-04-20T11:43:36.687Z"
   },
   {
    "duration": 81,
    "start_time": "2023-04-20T11:43:39.274Z"
   },
   {
    "duration": 4,
    "start_time": "2023-04-20T11:44:05.215Z"
   },
   {
    "duration": 901,
    "start_time": "2023-04-20T11:44:05.221Z"
   },
   {
    "duration": 80,
    "start_time": "2023-04-20T11:44:06.125Z"
   },
   {
    "duration": 64,
    "start_time": "2023-04-20T11:44:06.208Z"
   },
   {
    "duration": 482,
    "start_time": "2023-04-20T11:44:06.274Z"
   },
   {
    "duration": 5,
    "start_time": "2023-04-20T11:44:06.758Z"
   },
   {
    "duration": 21,
    "start_time": "2023-04-20T11:44:06.765Z"
   },
   {
    "duration": 52,
    "start_time": "2023-04-20T11:44:06.787Z"
   },
   {
    "duration": 136,
    "start_time": "2023-04-20T11:44:06.842Z"
   },
   {
    "duration": 24,
    "start_time": "2023-04-20T11:44:06.979Z"
   },
   {
    "duration": 47,
    "start_time": "2023-04-20T11:44:07.005Z"
   },
   {
    "duration": 20,
    "start_time": "2023-04-20T11:44:07.055Z"
   },
   {
    "duration": 96,
    "start_time": "2023-04-20T11:44:07.077Z"
   },
   {
    "duration": 853,
    "start_time": "2023-04-20T11:44:07.175Z"
   },
   {
    "duration": 724,
    "start_time": "2023-04-20T11:44:08.030Z"
   },
   {
    "duration": 765,
    "start_time": "2023-04-20T11:44:08.759Z"
   },
   {
    "duration": 510,
    "start_time": "2023-04-20T11:44:21.879Z"
   },
   {
    "duration": 517,
    "start_time": "2023-04-20T11:45:23.884Z"
   },
   {
    "duration": 145,
    "start_time": "2023-04-20T11:46:08.690Z"
   },
   {
    "duration": 534,
    "start_time": "2023-04-20T11:46:39.516Z"
   },
   {
    "duration": 573,
    "start_time": "2023-04-20T11:48:21.968Z"
   },
   {
    "duration": 769,
    "start_time": "2023-04-20T11:48:37.487Z"
   },
   {
    "duration": 527,
    "start_time": "2023-04-20T11:48:52.003Z"
   },
   {
    "duration": 550,
    "start_time": "2023-04-20T11:50:08.318Z"
   },
   {
    "duration": 30,
    "start_time": "2023-04-20T12:04:10.503Z"
   },
   {
    "duration": 945,
    "start_time": "2023-04-20T12:07:14.161Z"
   },
   {
    "duration": 4,
    "start_time": "2023-04-20T12:32:37.271Z"
   },
   {
    "duration": 61,
    "start_time": "2023-04-20T12:57:43.483Z"
   },
   {
    "duration": 7,
    "start_time": "2023-04-20T13:11:57.948Z"
   },
   {
    "duration": 4,
    "start_time": "2023-04-20T13:14:25.483Z"
   },
   {
    "duration": 4,
    "start_time": "2023-04-20T13:23:51.282Z"
   },
   {
    "duration": 91,
    "start_time": "2023-04-20T13:28:19.151Z"
   },
   {
    "duration": 286,
    "start_time": "2023-04-20T13:28:46.320Z"
   },
   {
    "duration": 5,
    "start_time": "2023-04-20T13:35:19.116Z"
   },
   {
    "duration": 5,
    "start_time": "2023-04-20T13:35:55.468Z"
   },
   {
    "duration": 30,
    "start_time": "2023-04-20T13:48:47.729Z"
   },
   {
    "duration": 15,
    "start_time": "2023-04-20T14:03:08.753Z"
   },
   {
    "duration": 37,
    "start_time": "2023-04-20T14:04:04.009Z"
   },
   {
    "duration": 18,
    "start_time": "2023-04-20T14:04:10.405Z"
   },
   {
    "duration": 5,
    "start_time": "2023-04-20T14:11:43.604Z"
   },
   {
    "duration": 48,
    "start_time": "2023-04-20T14:13:16.696Z"
   },
   {
    "duration": 16,
    "start_time": "2023-04-20T14:13:23.832Z"
   },
   {
    "duration": 1654,
    "start_time": "2023-04-20T14:14:11.424Z"
   },
   {
    "duration": 790,
    "start_time": "2023-04-20T14:14:13.080Z"
   },
   {
    "duration": 83,
    "start_time": "2023-04-20T14:14:13.872Z"
   },
   {
    "duration": 50,
    "start_time": "2023-04-20T14:14:13.959Z"
   },
   {
    "duration": 527,
    "start_time": "2023-04-20T14:14:14.011Z"
   },
   {
    "duration": 6,
    "start_time": "2023-04-20T14:14:14.540Z"
   },
   {
    "duration": 19,
    "start_time": "2023-04-20T14:14:14.548Z"
   },
   {
    "duration": 110,
    "start_time": "2023-04-20T14:14:14.569Z"
   },
   {
    "duration": 127,
    "start_time": "2023-04-20T14:14:14.681Z"
   },
   {
    "duration": 93,
    "start_time": "2023-04-20T14:14:14.811Z"
   },
   {
    "duration": 25,
    "start_time": "2023-04-20T14:14:14.906Z"
   },
   {
    "duration": 27,
    "start_time": "2023-04-20T14:14:14.933Z"
   },
   {
    "duration": 84,
    "start_time": "2023-04-20T14:14:14.962Z"
   },
   {
    "duration": 852,
    "start_time": "2023-04-20T14:14:15.048Z"
   },
   {
    "duration": 721,
    "start_time": "2023-04-20T14:14:15.903Z"
   },
   {
    "duration": 890,
    "start_time": "2023-04-20T14:14:16.626Z"
   },
   {
    "duration": 525,
    "start_time": "2023-04-20T14:14:17.519Z"
   },
   {
    "duration": 552,
    "start_time": "2023-04-20T14:14:18.047Z"
   },
   {
    "duration": 43,
    "start_time": "2023-04-20T14:14:18.601Z"
   },
   {
    "duration": 879,
    "start_time": "2023-04-20T14:14:18.646Z"
   },
   {
    "duration": 15,
    "start_time": "2023-04-20T14:14:19.527Z"
   },
   {
    "duration": 1390,
    "start_time": "2023-04-20T14:14:23.074Z"
   },
   {
    "duration": 23,
    "start_time": "2023-04-20T14:15:22.353Z"
   },
   {
    "duration": 225,
    "start_time": "2023-04-20T14:15:38.056Z"
   },
   {
    "duration": 220,
    "start_time": "2023-04-20T14:15:55.172Z"
   },
   {
    "duration": 4,
    "start_time": "2023-04-20T14:17:07.814Z"
   },
   {
    "duration": 201,
    "start_time": "2023-04-20T14:17:14.347Z"
   },
   {
    "duration": 203,
    "start_time": "2023-04-20T14:17:20.076Z"
   },
   {
    "duration": 1686,
    "start_time": "2023-04-21T07:55:12.883Z"
   },
   {
    "duration": 1978,
    "start_time": "2023-04-21T07:55:14.572Z"
   },
   {
    "duration": 65,
    "start_time": "2023-04-21T07:55:16.552Z"
   },
   {
    "duration": 47,
    "start_time": "2023-04-21T07:55:16.619Z"
   },
   {
    "duration": 400,
    "start_time": "2023-04-21T07:55:16.668Z"
   },
   {
    "duration": 6,
    "start_time": "2023-04-21T07:55:17.070Z"
   },
   {
    "duration": 7,
    "start_time": "2023-04-21T07:55:17.078Z"
   },
   {
    "duration": 66,
    "start_time": "2023-04-21T07:55:17.087Z"
   },
   {
    "duration": 132,
    "start_time": "2023-04-21T07:55:17.155Z"
   },
   {
    "duration": 71,
    "start_time": "2023-04-21T07:55:17.289Z"
   },
   {
    "duration": 21,
    "start_time": "2023-04-21T07:55:17.361Z"
   },
   {
    "duration": 32,
    "start_time": "2023-04-21T07:55:17.384Z"
   },
   {
    "duration": 63,
    "start_time": "2023-04-21T07:55:17.418Z"
   },
   {
    "duration": 788,
    "start_time": "2023-04-21T07:55:17.483Z"
   },
   {
    "duration": 699,
    "start_time": "2023-04-21T07:55:18.274Z"
   },
   {
    "duration": 873,
    "start_time": "2023-04-21T07:55:18.978Z"
   },
   {
    "duration": 568,
    "start_time": "2023-04-21T07:55:19.853Z"
   },
   {
    "duration": 486,
    "start_time": "2023-04-21T07:55:20.423Z"
   },
   {
    "duration": 31,
    "start_time": "2023-04-21T07:55:20.911Z"
   },
   {
    "duration": 825,
    "start_time": "2023-04-21T07:55:20.944Z"
   },
   {
    "duration": 4,
    "start_time": "2023-04-21T07:55:21.770Z"
   },
   {
    "duration": 5,
    "start_time": "2023-04-21T07:55:28.933Z"
   },
   {
    "duration": 193,
    "start_time": "2023-04-21T07:56:18.482Z"
   },
   {
    "duration": 4,
    "start_time": "2023-04-21T08:04:19.010Z"
   },
   {
    "duration": 162,
    "start_time": "2023-04-21T08:04:25.419Z"
   },
   {
    "duration": 56,
    "start_time": "2023-04-21T08:30:33.381Z"
   },
   {
    "duration": 260,
    "start_time": "2023-04-21T08:30:41.952Z"
   },
   {
    "duration": 6249,
    "start_time": "2023-04-21T08:32:15.482Z"
   },
   {
    "duration": 17,
    "start_time": "2023-04-21T08:34:11.439Z"
   },
   {
    "duration": 136,
    "start_time": "2023-04-21T08:34:21.141Z"
   },
   {
    "duration": 4,
    "start_time": "2023-04-21T08:39:16.763Z"
   },
   {
    "duration": 4,
    "start_time": "2023-04-21T08:42:41.673Z"
   },
   {
    "duration": 8,
    "start_time": "2023-04-21T08:47:30.420Z"
   },
   {
    "duration": 45,
    "start_time": "2023-04-21T08:47:35.625Z"
   },
   {
    "duration": 9,
    "start_time": "2023-04-21T08:48:23.982Z"
   },
   {
    "duration": 18,
    "start_time": "2023-04-21T08:48:27.367Z"
   },
   {
    "duration": 137,
    "start_time": "2023-04-21T08:48:38.065Z"
   },
   {
    "duration": 5939,
    "start_time": "2023-04-21T08:48:51.604Z"
   },
   {
    "duration": 3,
    "start_time": "2023-04-21T08:52:14.744Z"
   },
   {
    "duration": 8,
    "start_time": "2023-04-21T08:52:20.444Z"
   },
   {
    "duration": 19,
    "start_time": "2023-04-21T08:52:22.512Z"
   },
   {
    "duration": 127,
    "start_time": "2023-04-21T08:52:24.669Z"
   },
   {
    "duration": 4,
    "start_time": "2023-04-21T08:52:56.498Z"
   },
   {
    "duration": 10,
    "start_time": "2023-04-21T08:52:59.185Z"
   },
   {
    "duration": 20,
    "start_time": "2023-04-21T08:53:00.904Z"
   },
   {
    "duration": 1302,
    "start_time": "2023-04-21T08:55:06.620Z"
   },
   {
    "duration": 708,
    "start_time": "2023-04-21T08:55:07.924Z"
   },
   {
    "duration": 77,
    "start_time": "2023-04-21T08:55:08.634Z"
   },
   {
    "duration": 43,
    "start_time": "2023-04-21T08:55:08.714Z"
   },
   {
    "duration": 446,
    "start_time": "2023-04-21T08:55:08.759Z"
   },
   {
    "duration": 5,
    "start_time": "2023-04-21T08:55:09.207Z"
   },
   {
    "duration": 7,
    "start_time": "2023-04-21T08:55:09.213Z"
   },
   {
    "duration": 45,
    "start_time": "2023-04-21T08:55:09.222Z"
   },
   {
    "duration": 119,
    "start_time": "2023-04-21T08:55:09.269Z"
   },
   {
    "duration": 68,
    "start_time": "2023-04-21T08:55:09.390Z"
   },
   {
    "duration": 22,
    "start_time": "2023-04-21T08:55:09.460Z"
   },
   {
    "duration": 32,
    "start_time": "2023-04-21T08:55:09.484Z"
   },
   {
    "duration": 62,
    "start_time": "2023-04-21T08:55:09.518Z"
   },
   {
    "duration": 750,
    "start_time": "2023-04-21T08:55:09.582Z"
   },
   {
    "duration": 636,
    "start_time": "2023-04-21T08:55:10.334Z"
   },
   {
    "duration": 722,
    "start_time": "2023-04-21T08:55:10.972Z"
   },
   {
    "duration": 472,
    "start_time": "2023-04-21T08:55:11.696Z"
   },
   {
    "duration": 467,
    "start_time": "2023-04-21T08:55:12.170Z"
   },
   {
    "duration": 28,
    "start_time": "2023-04-21T08:55:12.639Z"
   },
   {
    "duration": 777,
    "start_time": "2023-04-21T08:55:12.669Z"
   },
   {
    "duration": 5,
    "start_time": "2023-04-21T08:55:13.447Z"
   },
   {
    "duration": 28,
    "start_time": "2023-04-21T08:55:13.454Z"
   },
   {
    "duration": 23,
    "start_time": "2023-04-21T08:55:13.484Z"
   },
   {
    "duration": 35,
    "start_time": "2023-04-21T08:55:13.509Z"
   },
   {
    "duration": 110,
    "start_time": "2023-04-21T08:55:19.942Z"
   },
   {
    "duration": 1338,
    "start_time": "2023-04-21T08:55:51.175Z"
   },
   {
    "duration": 11,
    "start_time": "2023-04-21T08:56:14.973Z"
   },
   {
    "duration": 1956,
    "start_time": "2023-04-21T08:56:36.314Z"
   },
   {
    "duration": 1949,
    "start_time": "2023-04-21T08:56:55.155Z"
   },
   {
    "duration": 638044,
    "start_time": "2023-04-21T08:57:10.569Z"
   },
   {
    "duration": 294920,
    "start_time": "2023-04-21T09:08:28.871Z"
   },
   {
    "duration": 1979,
    "start_time": "2023-04-21T09:14:16.332Z"
   },
   {
    "duration": 1385,
    "start_time": "2023-04-21T09:15:50.129Z"
   },
   {
    "duration": 1796,
    "start_time": "2023-04-21T09:18:02.422Z"
   },
   {
    "duration": 1345,
    "start_time": "2023-04-21T09:18:32.066Z"
   },
   {
    "duration": 1254,
    "start_time": "2023-04-21T09:19:06.357Z"
   },
   {
    "duration": 1217,
    "start_time": "2023-04-21T09:19:45.100Z"
   },
   {
    "duration": 12,
    "start_time": "2023-04-21T09:23:09.167Z"
   },
   {
    "duration": 100756,
    "start_time": "2023-04-21T09:23:28.680Z"
   },
   {
    "duration": 0,
    "start_time": "2023-04-21T09:25:09.438Z"
   },
   {
    "duration": 3315,
    "start_time": "2023-04-21T09:25:14.109Z"
   },
   {
    "duration": 1756,
    "start_time": "2023-04-21T09:25:34.056Z"
   },
   {
    "duration": 1520,
    "start_time": "2023-04-21T09:26:59.427Z"
   },
   {
    "duration": 742,
    "start_time": "2023-04-21T09:27:00.949Z"
   },
   {
    "duration": 68,
    "start_time": "2023-04-21T09:27:01.693Z"
   },
   {
    "duration": 77,
    "start_time": "2023-04-21T09:27:01.764Z"
   },
   {
    "duration": 411,
    "start_time": "2023-04-21T09:27:01.844Z"
   },
   {
    "duration": 5,
    "start_time": "2023-04-21T09:27:02.257Z"
   },
   {
    "duration": 25,
    "start_time": "2023-04-21T09:27:02.264Z"
   },
   {
    "duration": 68,
    "start_time": "2023-04-21T09:27:02.292Z"
   },
   {
    "duration": 125,
    "start_time": "2023-04-21T09:27:02.362Z"
   },
   {
    "duration": 90,
    "start_time": "2023-04-21T09:27:02.490Z"
   },
   {
    "duration": 22,
    "start_time": "2023-04-21T09:27:02.582Z"
   },
   {
    "duration": 23,
    "start_time": "2023-04-21T09:27:02.606Z"
   },
   {
    "duration": 96,
    "start_time": "2023-04-21T09:27:02.631Z"
   },
   {
    "duration": 825,
    "start_time": "2023-04-21T09:27:02.729Z"
   },
   {
    "duration": 811,
    "start_time": "2023-04-21T09:27:03.557Z"
   },
   {
    "duration": 907,
    "start_time": "2023-04-21T09:27:04.370Z"
   },
   {
    "duration": 521,
    "start_time": "2023-04-21T09:27:05.279Z"
   },
   {
    "duration": 567,
    "start_time": "2023-04-21T09:27:05.802Z"
   },
   {
    "duration": 45,
    "start_time": "2023-04-21T09:27:06.372Z"
   },
   {
    "duration": 894,
    "start_time": "2023-04-21T09:27:06.419Z"
   },
   {
    "duration": 5,
    "start_time": "2023-04-21T09:27:07.315Z"
   },
   {
    "duration": 15,
    "start_time": "2023-04-21T09:27:07.322Z"
   },
   {
    "duration": 14,
    "start_time": "2023-04-21T09:27:07.339Z"
   },
   {
    "duration": 32,
    "start_time": "2023-04-21T09:27:07.354Z"
   },
   {
    "duration": 2037,
    "start_time": "2023-04-21T09:27:07.388Z"
   },
   {
    "duration": 1987,
    "start_time": "2023-04-21T09:27:09.428Z"
   },
   {
    "duration": 104937,
    "start_time": "2023-04-21T09:27:16.007Z"
   },
   {
    "duration": 1450,
    "start_time": "2023-04-24T07:01:22.181Z"
   },
   {
    "duration": 1812,
    "start_time": "2023-04-24T07:01:23.632Z"
   },
   {
    "duration": 58,
    "start_time": "2023-04-24T07:01:25.446Z"
   },
   {
    "duration": 38,
    "start_time": "2023-04-24T07:01:25.506Z"
   },
   {
    "duration": 343,
    "start_time": "2023-04-24T07:01:25.546Z"
   },
   {
    "duration": 6,
    "start_time": "2023-04-24T07:01:25.890Z"
   },
   {
    "duration": 14,
    "start_time": "2023-04-24T07:01:25.897Z"
   },
   {
    "duration": 44,
    "start_time": "2023-04-24T07:01:25.912Z"
   },
   {
    "duration": 120,
    "start_time": "2023-04-24T07:01:25.958Z"
   },
   {
    "duration": 68,
    "start_time": "2023-04-24T07:01:26.080Z"
   },
   {
    "duration": 21,
    "start_time": "2023-04-24T07:01:26.149Z"
   },
   {
    "duration": 32,
    "start_time": "2023-04-24T07:01:26.171Z"
   },
   {
    "duration": 61,
    "start_time": "2023-04-24T07:01:26.204Z"
   },
   {
    "duration": 718,
    "start_time": "2023-04-24T07:01:26.267Z"
   },
   {
    "duration": 572,
    "start_time": "2023-04-24T07:01:26.986Z"
   },
   {
    "duration": 656,
    "start_time": "2023-04-24T07:01:27.560Z"
   },
   {
    "duration": 412,
    "start_time": "2023-04-24T07:01:28.218Z"
   },
   {
    "duration": 421,
    "start_time": "2023-04-24T07:01:28.632Z"
   },
   {
    "duration": 25,
    "start_time": "2023-04-24T07:01:29.054Z"
   },
   {
    "duration": 678,
    "start_time": "2023-04-24T07:01:29.080Z"
   },
   {
    "duration": 4,
    "start_time": "2023-04-24T07:01:29.760Z"
   },
   {
    "duration": 16,
    "start_time": "2023-04-24T07:01:29.765Z"
   },
   {
    "duration": 14,
    "start_time": "2023-04-24T07:01:29.782Z"
   },
   {
    "duration": 17,
    "start_time": "2023-04-24T07:01:29.798Z"
   },
   {
    "duration": 1177,
    "start_time": "2023-04-24T07:01:29.817Z"
   },
   {
    "duration": 1701,
    "start_time": "2023-04-24T07:01:30.996Z"
   },
   {
    "duration": 249554,
    "start_time": "2023-04-24T07:07:08.634Z"
   },
   {
    "duration": 3505,
    "start_time": "2023-04-24T07:30:55.719Z"
   },
   {
    "duration": 67,
    "start_time": "2023-04-24T07:33:09.390Z"
   },
   {
    "duration": 48,
    "start_time": "2023-04-24T07:33:54.614Z"
   },
   {
    "duration": 109,
    "start_time": "2023-04-24T07:34:06.980Z"
   },
   {
    "duration": 28,
    "start_time": "2023-04-24T07:34:19.981Z"
   },
   {
    "duration": 22,
    "start_time": "2023-04-24T07:34:39.906Z"
   },
   {
    "duration": 17,
    "start_time": "2023-04-24T07:36:40.617Z"
   },
   {
    "duration": 4837,
    "start_time": "2023-04-24T07:38:05.382Z"
   },
   {
    "duration": 29,
    "start_time": "2023-04-24T07:38:42.515Z"
   },
   {
    "duration": 29,
    "start_time": "2023-04-24T07:39:35.234Z"
   },
   {
    "duration": 22,
    "start_time": "2023-04-24T07:40:37.988Z"
   },
   {
    "duration": 3,
    "start_time": "2023-04-24T07:46:20.235Z"
   },
   {
    "duration": 30,
    "start_time": "2023-04-24T07:47:09.814Z"
   },
   {
    "duration": 10,
    "start_time": "2023-04-24T07:47:35.360Z"
   },
   {
    "duration": 25,
    "start_time": "2023-04-24T07:47:49.351Z"
   },
   {
    "duration": 36,
    "start_time": "2023-04-24T07:47:54.472Z"
   },
   {
    "duration": 4,
    "start_time": "2023-04-24T07:51:24.376Z"
   },
   {
    "duration": 31877,
    "start_time": "2023-04-24T07:57:18.456Z"
   },
   {
    "duration": 1458655,
    "start_time": "2023-04-24T07:57:52.254Z"
   },
   {
    "duration": 3577716,
    "start_time": "2023-04-24T08:22:24.316Z"
   },
   {
    "duration": 1283,
    "start_time": "2023-04-24T09:22:14.210Z"
   },
   {
    "duration": 625,
    "start_time": "2023-04-24T09:22:15.496Z"
   },
   {
    "duration": 56,
    "start_time": "2023-04-24T09:22:16.122Z"
   },
   {
    "duration": 50,
    "start_time": "2023-04-24T09:22:16.179Z"
   },
   {
    "duration": 353,
    "start_time": "2023-04-24T09:22:16.231Z"
   },
   {
    "duration": 9,
    "start_time": "2023-04-24T09:22:16.585Z"
   },
   {
    "duration": 13,
    "start_time": "2023-04-24T09:22:16.597Z"
   },
   {
    "duration": 37,
    "start_time": "2023-04-24T09:22:16.611Z"
   },
   {
    "duration": 108,
    "start_time": "2023-04-24T09:22:16.649Z"
   },
   {
    "duration": 64,
    "start_time": "2023-04-24T09:22:16.759Z"
   },
   {
    "duration": 17,
    "start_time": "2023-04-24T09:22:16.825Z"
   },
   {
    "duration": 15,
    "start_time": "2023-04-24T09:22:16.843Z"
   },
   {
    "duration": 80,
    "start_time": "2023-04-24T09:22:16.859Z"
   },
   {
    "duration": 724,
    "start_time": "2023-04-24T09:22:16.941Z"
   },
   {
    "duration": 590,
    "start_time": "2023-04-24T09:22:17.667Z"
   },
   {
    "duration": 751,
    "start_time": "2023-04-24T09:22:18.259Z"
   },
   {
    "duration": 434,
    "start_time": "2023-04-24T09:22:19.011Z"
   },
   {
    "duration": 439,
    "start_time": "2023-04-24T09:22:19.447Z"
   },
   {
    "duration": 30,
    "start_time": "2023-04-24T09:22:19.888Z"
   },
   {
    "duration": 728,
    "start_time": "2023-04-24T09:22:19.920Z"
   },
   {
    "duration": 3,
    "start_time": "2023-04-24T09:22:20.649Z"
   },
   {
    "duration": 7,
    "start_time": "2023-04-24T09:22:20.653Z"
   },
   {
    "duration": 14,
    "start_time": "2023-04-24T09:22:20.661Z"
   },
   {
    "duration": 31,
    "start_time": "2023-04-24T09:22:20.676Z"
   },
   {
    "duration": 3106,
    "start_time": "2023-04-24T09:22:20.709Z"
   },
   {
    "duration": 477409,
    "start_time": "2023-04-24T09:22:28.534Z"
   },
   {
    "duration": 1308394,
    "start_time": "2023-04-24T09:30:35.505Z"
   },
   {
    "duration": 1372940,
    "start_time": "2023-04-24T09:55:53.418Z"
   },
   {
    "duration": 79634,
    "start_time": "2023-04-24T10:28:04.243Z"
   },
   {
    "duration": 28945,
    "start_time": "2023-04-24T10:32:33.612Z"
   },
   {
    "duration": 29701,
    "start_time": "2023-04-24T10:33:54.218Z"
   },
   {
    "duration": 27,
    "start_time": "2023-04-25T09:03:39.397Z"
   },
   {
    "duration": 1483,
    "start_time": "2023-04-25T14:18:47.016Z"
   },
   {
    "duration": 2145,
    "start_time": "2023-04-25T14:18:48.501Z"
   },
   {
    "duration": 77,
    "start_time": "2023-04-25T14:18:50.647Z"
   },
   {
    "duration": 52,
    "start_time": "2023-04-25T14:18:50.725Z"
   },
   {
    "duration": 370,
    "start_time": "2023-04-25T14:18:50.778Z"
   },
   {
    "duration": 9,
    "start_time": "2023-04-25T14:18:51.150Z"
   },
   {
    "duration": 22,
    "start_time": "2023-04-25T14:18:51.160Z"
   },
   {
    "duration": 51,
    "start_time": "2023-04-25T14:18:52.618Z"
   },
   {
    "duration": 3,
    "start_time": "2023-04-25T14:22:52.912Z"
   },
   {
    "duration": 730,
    "start_time": "2023-04-25T14:22:52.917Z"
   },
   {
    "duration": 60,
    "start_time": "2023-04-25T14:22:53.649Z"
   },
   {
    "duration": 56,
    "start_time": "2023-04-25T14:22:53.710Z"
   },
   {
    "duration": 399,
    "start_time": "2023-04-25T14:22:53.769Z"
   },
   {
    "duration": 6,
    "start_time": "2023-04-25T14:22:54.170Z"
   },
   {
    "duration": 8,
    "start_time": "2023-04-25T14:22:54.177Z"
   },
   {
    "duration": 40,
    "start_time": "2023-04-25T14:22:54.187Z"
   },
   {
    "duration": 130,
    "start_time": "2023-04-25T14:22:54.229Z"
   },
   {
    "duration": 60,
    "start_time": "2023-04-25T14:22:54.362Z"
   },
   {
    "duration": 48,
    "start_time": "2023-04-25T14:22:54.424Z"
   },
   {
    "duration": 14,
    "start_time": "2023-04-25T14:22:54.474Z"
   },
   {
    "duration": 55,
    "start_time": "2023-04-25T14:22:54.490Z"
   },
   {
    "duration": 734,
    "start_time": "2023-04-25T14:22:57.094Z"
   },
   {
    "duration": 621,
    "start_time": "2023-04-25T14:23:05.471Z"
   },
   {
    "duration": 736,
    "start_time": "2023-04-25T14:23:07.983Z"
   },
   {
    "duration": 668,
    "start_time": "2023-04-25T14:23:10.714Z"
   },
   {
    "duration": 691,
    "start_time": "2023-04-25T14:24:26.777Z"
   },
   {
    "duration": 202,
    "start_time": "2023-04-25T14:28:31.425Z"
   },
   {
    "duration": 386,
    "start_time": "2023-04-25T14:31:45.997Z"
   },
   {
    "duration": 413,
    "start_time": "2023-04-25T14:32:56.871Z"
   },
   {
    "duration": 28,
    "start_time": "2023-04-25T14:35:07.975Z"
   },
   {
    "duration": 586,
    "start_time": "2023-04-25T14:35:10.891Z"
   },
   {
    "duration": 128,
    "start_time": "2023-04-25T15:04:13.408Z"
   },
   {
    "duration": 12,
    "start_time": "2023-04-25T15:05:53.999Z"
   },
   {
    "duration": 733,
    "start_time": "2023-04-25T15:08:45.260Z"
   },
   {
    "duration": 8,
    "start_time": "2023-04-25T15:09:27.959Z"
   },
   {
    "duration": 3,
    "start_time": "2023-04-25T15:24:14.859Z"
   },
   {
    "duration": 52,
    "start_time": "2023-04-25T15:24:32.592Z"
   },
   {
    "duration": 52,
    "start_time": "2023-04-25T15:24:43.976Z"
   },
   {
    "duration": 49,
    "start_time": "2023-04-25T15:24:59.628Z"
   },
   {
    "duration": 58,
    "start_time": "2023-04-25T15:25:08.072Z"
   },
   {
    "duration": 3,
    "start_time": "2023-04-25T15:30:18.436Z"
   },
   {
    "duration": 4,
    "start_time": "2023-04-25T15:30:30.734Z"
   },
   {
    "duration": 10,
    "start_time": "2023-04-25T15:31:09.237Z"
   },
   {
    "duration": 19,
    "start_time": "2023-04-25T15:31:11.432Z"
   },
   {
    "duration": 3124,
    "start_time": "2023-04-25T15:31:14.840Z"
   },
   {
    "duration": 1476874,
    "start_time": "2023-04-25T15:32:24.307Z"
   },
   {
    "duration": 152890,
    "start_time": "2023-04-25T17:44:02.162Z"
   },
   {
    "duration": 4,
    "start_time": "2023-04-25T17:49:34.780Z"
   },
   {
    "duration": 38625,
    "start_time": "2023-04-25T17:56:26.160Z"
   },
   {
    "duration": 14,
    "start_time": "2023-04-25T18:52:01.952Z"
   },
   {
    "duration": 1690,
    "start_time": "2023-04-26T06:46:58.423Z"
   },
   {
    "duration": 2363,
    "start_time": "2023-04-26T06:47:00.115Z"
   },
   {
    "duration": 72,
    "start_time": "2023-04-26T06:47:02.480Z"
   },
   {
    "duration": 81,
    "start_time": "2023-04-26T06:47:02.555Z"
   },
   {
    "duration": 426,
    "start_time": "2023-04-26T06:47:02.639Z"
   },
   {
    "duration": 6,
    "start_time": "2023-04-26T06:47:03.067Z"
   },
   {
    "duration": 46,
    "start_time": "2023-04-26T06:47:03.074Z"
   },
   {
    "duration": 107,
    "start_time": "2023-04-26T06:47:03.122Z"
   },
   {
    "duration": 147,
    "start_time": "2023-04-26T06:47:03.231Z"
   },
   {
    "duration": 77,
    "start_time": "2023-04-26T06:47:03.382Z"
   },
   {
    "duration": 41,
    "start_time": "2023-04-26T06:47:03.461Z"
   },
   {
    "duration": 25,
    "start_time": "2023-04-26T06:47:03.504Z"
   },
   {
    "duration": 112,
    "start_time": "2023-04-26T06:47:03.531Z"
   },
   {
    "duration": 823,
    "start_time": "2023-04-26T06:47:03.646Z"
   },
   {
    "duration": 687,
    "start_time": "2023-04-26T06:47:04.472Z"
   },
   {
    "duration": 804,
    "start_time": "2023-04-26T06:47:05.161Z"
   },
   {
    "duration": 738,
    "start_time": "2023-04-26T06:47:05.967Z"
   },
   {
    "duration": 488,
    "start_time": "2023-04-26T06:47:06.707Z"
   },
   {
    "duration": 532,
    "start_time": "2023-04-26T06:47:07.198Z"
   },
   {
    "duration": 30,
    "start_time": "2023-04-26T06:47:07.732Z"
   },
   {
    "duration": 843,
    "start_time": "2023-04-26T06:47:07.765Z"
   },
   {
    "duration": 17,
    "start_time": "2023-04-26T06:47:12.437Z"
   },
   {
    "duration": 124,
    "start_time": "2023-04-26T06:48:15.478Z"
   },
   {
    "duration": 3,
    "start_time": "2023-04-26T06:48:24.017Z"
   },
   {
    "duration": 5,
    "start_time": "2023-04-26T06:48:25.786Z"
   },
   {
    "duration": 10,
    "start_time": "2023-04-26T06:48:28.406Z"
   },
   {
    "duration": 21,
    "start_time": "2023-04-26T06:48:30.287Z"
   },
   {
    "duration": 3931,
    "start_time": "2023-04-26T06:48:32.570Z"
   },
   {
    "duration": 156914,
    "start_time": "2023-04-26T06:48:45.082Z"
   },
   {
    "duration": 39435,
    "start_time": "2023-04-26T06:51:35.065Z"
   },
   {
    "duration": 9,
    "start_time": "2023-04-26T06:52:20.172Z"
   },
   {
    "duration": 13,
    "start_time": "2023-04-26T06:53:32.040Z"
   },
   {
    "duration": 6565763,
    "start_time": "2023-04-26T06:59:22.553Z"
   }
  ],
  "kernelspec": {
   "display_name": "Python 3 (ipykernel)",
   "language": "python",
   "name": "python3"
  },
  "language_info": {
   "codemirror_mode": {
    "name": "ipython",
    "version": 3
   },
   "file_extension": ".py",
   "mimetype": "text/x-python",
   "name": "python",
   "nbconvert_exporter": "python",
   "pygments_lexer": "ipython3",
   "version": "3.9.5"
  },
  "toc": {
   "base_numbering": 1,
   "nav_menu": {},
   "number_sections": true,
   "sideBar": true,
   "skip_h1_title": true,
   "title_cell": "Содержание",
   "title_sidebar": "Contents",
   "toc_cell": true,
   "toc_position": {
    "height": "calc(100% - 180px)",
    "left": "10px",
    "top": "150px",
    "width": "165px"
   },
   "toc_section_display": true,
   "toc_window_display": true
  }
 },
 "nbformat": 4,
 "nbformat_minor": 2
}
