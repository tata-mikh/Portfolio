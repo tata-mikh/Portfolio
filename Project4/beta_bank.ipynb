{
 "cells": [
  {
   "cell_type": "markdown",
   "metadata": {
    "toc": true
   },
   "source": [
    "<h1>Содержание<span class=\"tocSkip\"></span></h1>\n",
    "<div class=\"toc\"><ul class=\"toc-item\"><li><span><a href=\"#Подготовка-данных\" data-toc-modified-id=\"Подготовка-данных-1\"><span class=\"toc-item-num\">1&nbsp;&nbsp;</span>Подготовка данных</a></span></li><li><span><a href=\"#Исследование-задачи\" data-toc-modified-id=\"Исследование-задачи-2\"><span class=\"toc-item-num\">2&nbsp;&nbsp;</span>Исследование задачи</a></span></li><li><span><a href=\"#Борьба-с-дисбалансом\" data-toc-modified-id=\"Борьба-с-дисбалансом-3\"><span class=\"toc-item-num\">3&nbsp;&nbsp;</span>Борьба с дисбалансом</a></span></li><li><span><a href=\"#Тестирование-модели\" data-toc-modified-id=\"Тестирование-модели-4\"><span class=\"toc-item-num\">4&nbsp;&nbsp;</span>Тестирование модели</a></span></li></ul></div>"
   ]
  },
  {
   "cell_type": "markdown",
   "metadata": {},
   "source": [
    "# Отток клиентов"
   ]
  },
  {
   "cell_type": "markdown",
   "metadata": {},
   "source": [
    "Из «Бета-Банка» стали уходить клиенты. Каждый месяц. Немного, но заметно. Банковские маркетологи посчитали: сохранять текущих клиентов дешевле, чем привлекать новых.\n",
    "\n",
    "Нужно спрогнозировать, уйдёт клиент из банка в ближайшее время или нет. Нам предоставлены исторические данные о поведении клиентов и расторжении договоров с банком. \n",
    "\n",
    "Построим модель с предельно большим значением *F1*-меры. Чтобы сдать проект успешно, нужно довести метрику до 0.59. Проверим *F1*-меру на тестовой выборке самостоятельно.\n",
    "\n",
    "Дополнительно измерим *AUC-ROC*, сравним её значение с *F1*-мерой.\n",
    "\n",
    "Источник данных: [https://www.kaggle.com/barelydedicated/bank-customer-churn-modeling](https://www.kaggle.com/barelydedicated/bank-customer-churn-modeling)"
   ]
  },
  {
   "cell_type": "markdown",
   "metadata": {},
   "source": [
    "## Подготовка данных"
   ]
  },
  {
   "cell_type": "code",
   "execution_count": 70,
   "metadata": {},
   "outputs": [],
   "source": [
    "import pandas as pd\n",
    "import numpy as np\n",
    "import matplotlib.pyplot as plt\n",
    "from sklearn.model_selection import train_test_split\n",
    "from sklearn.preprocessing import StandardScaler\n",
    "from sklearn.tree import DecisionTreeClassifier\n",
    "from sklearn.ensemble import RandomForestClassifier\n",
    "from sklearn.linear_model import LogisticRegression\n",
    "from sklearn.utils import shuffle\n",
    "from sklearn.metrics import (\n",
    "    accuracy_score,\n",
    "    confusion_matrix,\n",
    "    f1_score,\n",
    "    precision_score, \n",
    "    recall_score,\n",
    "    precision_recall_curve,\n",
    "    roc_curve,\n",
    "    roc_auc_score\n",
    ")\n",
    "import warnings"
   ]
  },
  {
   "cell_type": "code",
   "execution_count": 8,
   "metadata": {},
   "outputs": [],
   "source": [
    "data = pd.read_csv('/datasets/Churn.csv')"
   ]
  },
  {
   "cell_type": "code",
   "execution_count": 9,
   "metadata": {
    "scrolled": true
   },
   "outputs": [
    {
     "name": "stdout",
     "output_type": "stream",
     "text": [
      "<class 'pandas.core.frame.DataFrame'>\n",
      "RangeIndex: 10000 entries, 0 to 9999\n",
      "Data columns (total 14 columns):\n",
      " #   Column           Non-Null Count  Dtype  \n",
      "---  ------           --------------  -----  \n",
      " 0   RowNumber        10000 non-null  int64  \n",
      " 1   CustomerId       10000 non-null  int64  \n",
      " 2   Surname          10000 non-null  object \n",
      " 3   CreditScore      10000 non-null  int64  \n",
      " 4   Geography        10000 non-null  object \n",
      " 5   Gender           10000 non-null  object \n",
      " 6   Age              10000 non-null  int64  \n",
      " 7   Tenure           9091 non-null   float64\n",
      " 8   Balance          10000 non-null  float64\n",
      " 9   NumOfProducts    10000 non-null  int64  \n",
      " 10  HasCrCard        10000 non-null  int64  \n",
      " 11  IsActiveMember   10000 non-null  int64  \n",
      " 12  EstimatedSalary  10000 non-null  float64\n",
      " 13  Exited           10000 non-null  int64  \n",
      "dtypes: float64(3), int64(8), object(3)\n",
      "memory usage: 1.1+ MB\n"
     ]
    }
   ],
   "source": [
    "data.info()"
   ]
  },
  {
   "cell_type": "code",
   "execution_count": 10,
   "metadata": {
    "scrolled": false
   },
   "outputs": [
    {
     "data": {
      "text/html": [
       "<div>\n",
       "<style scoped>\n",
       "    .dataframe tbody tr th:only-of-type {\n",
       "        vertical-align: middle;\n",
       "    }\n",
       "\n",
       "    .dataframe tbody tr th {\n",
       "        vertical-align: top;\n",
       "    }\n",
       "\n",
       "    .dataframe thead th {\n",
       "        text-align: right;\n",
       "    }\n",
       "</style>\n",
       "<table border=\"1\" class=\"dataframe\">\n",
       "  <thead>\n",
       "    <tr style=\"text-align: right;\">\n",
       "      <th></th>\n",
       "      <th>RowNumber</th>\n",
       "      <th>CustomerId</th>\n",
       "      <th>Surname</th>\n",
       "      <th>CreditScore</th>\n",
       "      <th>Geography</th>\n",
       "      <th>Gender</th>\n",
       "      <th>Age</th>\n",
       "      <th>Tenure</th>\n",
       "      <th>Balance</th>\n",
       "      <th>NumOfProducts</th>\n",
       "      <th>HasCrCard</th>\n",
       "      <th>IsActiveMember</th>\n",
       "      <th>EstimatedSalary</th>\n",
       "      <th>Exited</th>\n",
       "    </tr>\n",
       "  </thead>\n",
       "  <tbody>\n",
       "    <tr>\n",
       "      <th>0</th>\n",
       "      <td>1</td>\n",
       "      <td>15634602</td>\n",
       "      <td>Hargrave</td>\n",
       "      <td>619</td>\n",
       "      <td>France</td>\n",
       "      <td>Female</td>\n",
       "      <td>42</td>\n",
       "      <td>2.0</td>\n",
       "      <td>0.00</td>\n",
       "      <td>1</td>\n",
       "      <td>1</td>\n",
       "      <td>1</td>\n",
       "      <td>101348.88</td>\n",
       "      <td>1</td>\n",
       "    </tr>\n",
       "    <tr>\n",
       "      <th>1</th>\n",
       "      <td>2</td>\n",
       "      <td>15647311</td>\n",
       "      <td>Hill</td>\n",
       "      <td>608</td>\n",
       "      <td>Spain</td>\n",
       "      <td>Female</td>\n",
       "      <td>41</td>\n",
       "      <td>1.0</td>\n",
       "      <td>83807.86</td>\n",
       "      <td>1</td>\n",
       "      <td>0</td>\n",
       "      <td>1</td>\n",
       "      <td>112542.58</td>\n",
       "      <td>0</td>\n",
       "    </tr>\n",
       "    <tr>\n",
       "      <th>2</th>\n",
       "      <td>3</td>\n",
       "      <td>15619304</td>\n",
       "      <td>Onio</td>\n",
       "      <td>502</td>\n",
       "      <td>France</td>\n",
       "      <td>Female</td>\n",
       "      <td>42</td>\n",
       "      <td>8.0</td>\n",
       "      <td>159660.80</td>\n",
       "      <td>3</td>\n",
       "      <td>1</td>\n",
       "      <td>0</td>\n",
       "      <td>113931.57</td>\n",
       "      <td>1</td>\n",
       "    </tr>\n",
       "    <tr>\n",
       "      <th>3</th>\n",
       "      <td>4</td>\n",
       "      <td>15701354</td>\n",
       "      <td>Boni</td>\n",
       "      <td>699</td>\n",
       "      <td>France</td>\n",
       "      <td>Female</td>\n",
       "      <td>39</td>\n",
       "      <td>1.0</td>\n",
       "      <td>0.00</td>\n",
       "      <td>2</td>\n",
       "      <td>0</td>\n",
       "      <td>0</td>\n",
       "      <td>93826.63</td>\n",
       "      <td>0</td>\n",
       "    </tr>\n",
       "    <tr>\n",
       "      <th>4</th>\n",
       "      <td>5</td>\n",
       "      <td>15737888</td>\n",
       "      <td>Mitchell</td>\n",
       "      <td>850</td>\n",
       "      <td>Spain</td>\n",
       "      <td>Female</td>\n",
       "      <td>43</td>\n",
       "      <td>2.0</td>\n",
       "      <td>125510.82</td>\n",
       "      <td>1</td>\n",
       "      <td>1</td>\n",
       "      <td>1</td>\n",
       "      <td>79084.10</td>\n",
       "      <td>0</td>\n",
       "    </tr>\n",
       "  </tbody>\n",
       "</table>\n",
       "</div>"
      ],
      "text/plain": [
       "   RowNumber  CustomerId   Surname  CreditScore Geography  Gender  Age  \\\n",
       "0          1    15634602  Hargrave          619    France  Female   42   \n",
       "1          2    15647311      Hill          608     Spain  Female   41   \n",
       "2          3    15619304      Onio          502    France  Female   42   \n",
       "3          4    15701354      Boni          699    France  Female   39   \n",
       "4          5    15737888  Mitchell          850     Spain  Female   43   \n",
       "\n",
       "   Tenure    Balance  NumOfProducts  HasCrCard  IsActiveMember  \\\n",
       "0     2.0       0.00              1          1               1   \n",
       "1     1.0   83807.86              1          0               1   \n",
       "2     8.0  159660.80              3          1               0   \n",
       "3     1.0       0.00              2          0               0   \n",
       "4     2.0  125510.82              1          1               1   \n",
       "\n",
       "   EstimatedSalary  Exited  \n",
       "0        101348.88       1  \n",
       "1        112542.58       0  \n",
       "2        113931.57       1  \n",
       "3         93826.63       0  \n",
       "4         79084.10       0  "
      ]
     },
     "execution_count": 10,
     "metadata": {},
     "output_type": "execute_result"
    }
   ],
   "source": [
    "data.head()"
   ]
  },
  {
   "cell_type": "markdown",
   "metadata": {},
   "source": [
    "Есть пропуски в столбце Tenure. Скорее всего это те, кто с банком меньше года. Поэтому заполним нулями. И изменим тип данных - сделаем целые числа."
   ]
  },
  {
   "cell_type": "code",
   "execution_count": 11,
   "metadata": {},
   "outputs": [
    {
     "data": {
      "text/plain": [
       "array([ 2,  1,  8,  7,  4,  6,  3, 10,  5,  9,  0])"
      ]
     },
     "execution_count": 11,
     "metadata": {},
     "output_type": "execute_result"
    }
   ],
   "source": [
    "tenure_med = data['Tenure'].median()\n",
    "data['Tenure'] = data['Tenure'].fillna(tenure_med)\n",
    "data['Tenure'] = data['Tenure'].astype('int')\n",
    "data['Tenure'].unique()"
   ]
  },
  {
   "cell_type": "markdown",
   "metadata": {},
   "source": [
    "Признаки - CreditScore, Geography, Gender, Age, Tenure, Balance, NumOfProducts, HasCrCard, IsActiveMember, EstimatedSalary - все, кроме индекса строки, уникального идентификатора клиента и фамилии.\n",
    "\n",
    "Уберем ненужные столбцы и пропустим получившийся датасет через прямое кодирование (порядковое не подходит для всех наших столбцов), чтобы преобразовать категориальные признаки в числовые."
   ]
  },
  {
   "cell_type": "code",
   "execution_count": 12,
   "metadata": {
    "scrolled": true
   },
   "outputs": [
    {
     "data": {
      "text/html": [
       "<div>\n",
       "<style scoped>\n",
       "    .dataframe tbody tr th:only-of-type {\n",
       "        vertical-align: middle;\n",
       "    }\n",
       "\n",
       "    .dataframe tbody tr th {\n",
       "        vertical-align: top;\n",
       "    }\n",
       "\n",
       "    .dataframe thead th {\n",
       "        text-align: right;\n",
       "    }\n",
       "</style>\n",
       "<table border=\"1\" class=\"dataframe\">\n",
       "  <thead>\n",
       "    <tr style=\"text-align: right;\">\n",
       "      <th></th>\n",
       "      <th>CreditScore</th>\n",
       "      <th>Age</th>\n",
       "      <th>Tenure</th>\n",
       "      <th>Balance</th>\n",
       "      <th>NumOfProducts</th>\n",
       "      <th>HasCrCard</th>\n",
       "      <th>IsActiveMember</th>\n",
       "      <th>EstimatedSalary</th>\n",
       "      <th>Exited</th>\n",
       "      <th>Geography_Germany</th>\n",
       "      <th>Geography_Spain</th>\n",
       "      <th>Gender_Male</th>\n",
       "    </tr>\n",
       "  </thead>\n",
       "  <tbody>\n",
       "    <tr>\n",
       "      <th>0</th>\n",
       "      <td>619</td>\n",
       "      <td>42</td>\n",
       "      <td>2</td>\n",
       "      <td>0.00</td>\n",
       "      <td>1</td>\n",
       "      <td>1</td>\n",
       "      <td>1</td>\n",
       "      <td>101348.88</td>\n",
       "      <td>1</td>\n",
       "      <td>0</td>\n",
       "      <td>0</td>\n",
       "      <td>0</td>\n",
       "    </tr>\n",
       "    <tr>\n",
       "      <th>1</th>\n",
       "      <td>608</td>\n",
       "      <td>41</td>\n",
       "      <td>1</td>\n",
       "      <td>83807.86</td>\n",
       "      <td>1</td>\n",
       "      <td>0</td>\n",
       "      <td>1</td>\n",
       "      <td>112542.58</td>\n",
       "      <td>0</td>\n",
       "      <td>0</td>\n",
       "      <td>1</td>\n",
       "      <td>0</td>\n",
       "    </tr>\n",
       "    <tr>\n",
       "      <th>2</th>\n",
       "      <td>502</td>\n",
       "      <td>42</td>\n",
       "      <td>8</td>\n",
       "      <td>159660.80</td>\n",
       "      <td>3</td>\n",
       "      <td>1</td>\n",
       "      <td>0</td>\n",
       "      <td>113931.57</td>\n",
       "      <td>1</td>\n",
       "      <td>0</td>\n",
       "      <td>0</td>\n",
       "      <td>0</td>\n",
       "    </tr>\n",
       "    <tr>\n",
       "      <th>3</th>\n",
       "      <td>699</td>\n",
       "      <td>39</td>\n",
       "      <td>1</td>\n",
       "      <td>0.00</td>\n",
       "      <td>2</td>\n",
       "      <td>0</td>\n",
       "      <td>0</td>\n",
       "      <td>93826.63</td>\n",
       "      <td>0</td>\n",
       "      <td>0</td>\n",
       "      <td>0</td>\n",
       "      <td>0</td>\n",
       "    </tr>\n",
       "    <tr>\n",
       "      <th>4</th>\n",
       "      <td>850</td>\n",
       "      <td>43</td>\n",
       "      <td>2</td>\n",
       "      <td>125510.82</td>\n",
       "      <td>1</td>\n",
       "      <td>1</td>\n",
       "      <td>1</td>\n",
       "      <td>79084.10</td>\n",
       "      <td>0</td>\n",
       "      <td>0</td>\n",
       "      <td>1</td>\n",
       "      <td>0</td>\n",
       "    </tr>\n",
       "  </tbody>\n",
       "</table>\n",
       "</div>"
      ],
      "text/plain": [
       "   CreditScore  Age  Tenure    Balance  NumOfProducts  HasCrCard  \\\n",
       "0          619   42       2       0.00              1          1   \n",
       "1          608   41       1   83807.86              1          0   \n",
       "2          502   42       8  159660.80              3          1   \n",
       "3          699   39       1       0.00              2          0   \n",
       "4          850   43       2  125510.82              1          1   \n",
       "\n",
       "   IsActiveMember  EstimatedSalary  Exited  Geography_Germany  \\\n",
       "0               1        101348.88       1                  0   \n",
       "1               1        112542.58       0                  0   \n",
       "2               0        113931.57       1                  0   \n",
       "3               0         93826.63       0                  0   \n",
       "4               1         79084.10       0                  0   \n",
       "\n",
       "   Geography_Spain  Gender_Male  \n",
       "0                0            0  \n",
       "1                1            0  \n",
       "2                0            0  \n",
       "3                0            0  \n",
       "4                1            0  "
      ]
     },
     "execution_count": 12,
     "metadata": {},
     "output_type": "execute_result"
    }
   ],
   "source": [
    "data_new = data.drop(['RowNumber', 'CustomerId', 'Surname'], axis=1)\n",
    "data_ohe = pd.get_dummies(data_new, drop_first=True)\n",
    "data_ohe.head()"
   ]
  },
  {
   "cell_type": "markdown",
   "metadata": {},
   "source": [
    "Так как в данных присутствуют количественные признаки с разными разбросами значений, нужно применить масштабирование. Сначала разделим данные на обучающую, валидационную и тестовую выборки."
   ]
  },
  {
   "cell_type": "code",
   "execution_count": 13,
   "metadata": {},
   "outputs": [
    {
     "name": "stdout",
     "output_type": "stream",
     "text": [
      "(6000, 11) (6000,) (2000, 11) (2000,) (2000, 11) (2000,)\n"
     ]
    }
   ],
   "source": [
    "target = data_ohe['Exited']\n",
    "features = data_ohe.drop('Exited', axis=1)\n",
    "\n",
    "#исходную выборку нужно разделить на обучающую, тестовую и валидационную в отношении 3:1:1\n",
    "#сначала разделим на обучающую и валидационно-тестовую 3:2\n",
    "features_train, features_val_test, target_train, target_val_test = train_test_split(\n",
    "    features, target, test_size=0.4, random_state=1234, stratify=target)\n",
    "#теперь разделим валидационно-тестовую пополам\n",
    "features_valid, features_test, target_valid, target_test = train_test_split(\n",
    "    features_val_test, target_val_test, test_size=0.5, random_state=1234, stratify=target_val_test)\n",
    "\n",
    "#проверим разбиение\n",
    "print(features_train.shape, target_train.shape, features_valid.shape, \n",
    "      target_valid.shape, features_test.shape, target_test.shape)"
   ]
  },
  {
   "cell_type": "code",
   "execution_count": 75,
   "metadata": {
    "scrolled": true
   },
   "outputs": [
    {
     "data": {
      "text/html": [
       "<div>\n",
       "<style scoped>\n",
       "    .dataframe tbody tr th:only-of-type {\n",
       "        vertical-align: middle;\n",
       "    }\n",
       "\n",
       "    .dataframe tbody tr th {\n",
       "        vertical-align: top;\n",
       "    }\n",
       "\n",
       "    .dataframe thead th {\n",
       "        text-align: right;\n",
       "    }\n",
       "</style>\n",
       "<table border=\"1\" class=\"dataframe\">\n",
       "  <thead>\n",
       "    <tr style=\"text-align: right;\">\n",
       "      <th></th>\n",
       "      <th>CreditScore</th>\n",
       "      <th>Age</th>\n",
       "      <th>Tenure</th>\n",
       "      <th>Balance</th>\n",
       "      <th>NumOfProducts</th>\n",
       "      <th>HasCrCard</th>\n",
       "      <th>IsActiveMember</th>\n",
       "      <th>EstimatedSalary</th>\n",
       "      <th>Geography_Germany</th>\n",
       "      <th>Geography_Spain</th>\n",
       "      <th>Gender_Male</th>\n",
       "    </tr>\n",
       "  </thead>\n",
       "  <tbody>\n",
       "    <tr>\n",
       "      <th>5303</th>\n",
       "      <td>-0.166171</td>\n",
       "      <td>-1.331968</td>\n",
       "      <td>1.440870</td>\n",
       "      <td>-1.233248</td>\n",
       "      <td>0.806716</td>\n",
       "      <td>1</td>\n",
       "      <td>1</td>\n",
       "      <td>-1.589297</td>\n",
       "      <td>0</td>\n",
       "      <td>1</td>\n",
       "      <td>1</td>\n",
       "    </tr>\n",
       "    <tr>\n",
       "      <th>2235</th>\n",
       "      <td>-0.020988</td>\n",
       "      <td>1.631714</td>\n",
       "      <td>0.356059</td>\n",
       "      <td>1.302244</td>\n",
       "      <td>0.806716</td>\n",
       "      <td>1</td>\n",
       "      <td>0</td>\n",
       "      <td>0.727682</td>\n",
       "      <td>0</td>\n",
       "      <td>1</td>\n",
       "      <td>0</td>\n",
       "    </tr>\n",
       "    <tr>\n",
       "      <th>519</th>\n",
       "      <td>0.590857</td>\n",
       "      <td>1.822920</td>\n",
       "      <td>0.356059</td>\n",
       "      <td>0.210003</td>\n",
       "      <td>-0.909701</td>\n",
       "      <td>0</td>\n",
       "      <td>1</td>\n",
       "      <td>0.474278</td>\n",
       "      <td>0</td>\n",
       "      <td>0</td>\n",
       "      <td>1</td>\n",
       "    </tr>\n",
       "    <tr>\n",
       "      <th>9778</th>\n",
       "      <td>0.850113</td>\n",
       "      <td>0.388880</td>\n",
       "      <td>1.440870</td>\n",
       "      <td>-1.233248</td>\n",
       "      <td>0.806716</td>\n",
       "      <td>1</td>\n",
       "      <td>0</td>\n",
       "      <td>1.463385</td>\n",
       "      <td>0</td>\n",
       "      <td>0</td>\n",
       "      <td>0</td>\n",
       "    </tr>\n",
       "    <tr>\n",
       "      <th>3007</th>\n",
       "      <td>-0.498019</td>\n",
       "      <td>-0.567147</td>\n",
       "      <td>-0.005545</td>\n",
       "      <td>1.417220</td>\n",
       "      <td>-0.909701</td>\n",
       "      <td>0</td>\n",
       "      <td>1</td>\n",
       "      <td>1.420958</td>\n",
       "      <td>0</td>\n",
       "      <td>0</td>\n",
       "      <td>1</td>\n",
       "    </tr>\n",
       "  </tbody>\n",
       "</table>\n",
       "</div>"
      ],
      "text/plain": [
       "      CreditScore       Age    Tenure   Balance  NumOfProducts  HasCrCard  \\\n",
       "5303    -0.166171 -1.331968  1.440870 -1.233248       0.806716          1   \n",
       "2235    -0.020988  1.631714  0.356059  1.302244       0.806716          1   \n",
       "519      0.590857  1.822920  0.356059  0.210003      -0.909701          0   \n",
       "9778     0.850113  0.388880  1.440870 -1.233248       0.806716          1   \n",
       "3007    -0.498019 -0.567147 -0.005545  1.417220      -0.909701          0   \n",
       "\n",
       "      IsActiveMember  EstimatedSalary  Geography_Germany  Geography_Spain  \\\n",
       "5303               1        -1.589297                  0                1   \n",
       "2235               0         0.727682                  0                1   \n",
       "519                1         0.474278                  0                0   \n",
       "9778               0         1.463385                  0                0   \n",
       "3007               1         1.420958                  0                0   \n",
       "\n",
       "      Gender_Male  \n",
       "5303            1  \n",
       "2235            0  \n",
       "519             1  \n",
       "9778            0  \n",
       "3007            1  "
      ]
     },
     "execution_count": 75,
     "metadata": {},
     "output_type": "execute_result"
    }
   ],
   "source": [
    "numeric = ['CreditScore', 'Age', 'Tenure', 'Balance', 'NumOfProducts', 'EstimatedSalary']\n",
    "\n",
    "#cоздаем объект структуры StandardScaler() и настраиваем его на обучающих данных\n",
    "#в переменной numeric список численных признаков\n",
    "\n",
    "scaler = StandardScaler()\n",
    "scaler.fit(features_train[numeric])\n",
    "\n",
    "#масштабируем сначала тренировочную выборку\n",
    "features_train[numeric] = scaler.transform(features_train[numeric])\n",
    "\n",
    "features_train.head()"
   ]
  },
  {
   "cell_type": "code",
   "execution_count": 74,
   "metadata": {
    "scrolled": true
   },
   "outputs": [
    {
     "data": {
      "text/html": [
       "<div>\n",
       "<style scoped>\n",
       "    .dataframe tbody tr th:only-of-type {\n",
       "        vertical-align: middle;\n",
       "    }\n",
       "\n",
       "    .dataframe tbody tr th {\n",
       "        vertical-align: top;\n",
       "    }\n",
       "\n",
       "    .dataframe thead th {\n",
       "        text-align: right;\n",
       "    }\n",
       "</style>\n",
       "<table border=\"1\" class=\"dataframe\">\n",
       "  <thead>\n",
       "    <tr style=\"text-align: right;\">\n",
       "      <th></th>\n",
       "      <th>CreditScore</th>\n",
       "      <th>Age</th>\n",
       "      <th>Tenure</th>\n",
       "      <th>Balance</th>\n",
       "      <th>NumOfProducts</th>\n",
       "      <th>HasCrCard</th>\n",
       "      <th>IsActiveMember</th>\n",
       "      <th>EstimatedSalary</th>\n",
       "      <th>Geography_Germany</th>\n",
       "      <th>Geography_Spain</th>\n",
       "      <th>Gender_Male</th>\n",
       "    </tr>\n",
       "  </thead>\n",
       "  <tbody>\n",
       "    <tr>\n",
       "      <th>6342</th>\n",
       "      <td>-6.748327</td>\n",
       "      <td>-3.739696</td>\n",
       "      <td>-1.161782</td>\n",
       "      <td>-1.233240</td>\n",
       "      <td>-4.187544</td>\n",
       "      <td>1</td>\n",
       "      <td>0</td>\n",
       "      <td>-1.732894</td>\n",
       "      <td>0</td>\n",
       "      <td>0</td>\n",
       "      <td>0</td>\n",
       "    </tr>\n",
       "    <tr>\n",
       "      <th>7447</th>\n",
       "      <td>-6.742412</td>\n",
       "      <td>-3.803675</td>\n",
       "      <td>-1.423296</td>\n",
       "      <td>-1.233231</td>\n",
       "      <td>-1.241457</td>\n",
       "      <td>1</td>\n",
       "      <td>1</td>\n",
       "      <td>-1.732887</td>\n",
       "      <td>1</td>\n",
       "      <td>0</td>\n",
       "      <td>1</td>\n",
       "    </tr>\n",
       "    <tr>\n",
       "      <th>8355</th>\n",
       "      <td>-6.756607</td>\n",
       "      <td>-3.675717</td>\n",
       "      <td>-1.946325</td>\n",
       "      <td>-1.233238</td>\n",
       "      <td>-4.187544</td>\n",
       "      <td>1</td>\n",
       "      <td>1</td>\n",
       "      <td>-1.732917</td>\n",
       "      <td>0</td>\n",
       "      <td>1</td>\n",
       "      <td>1</td>\n",
       "    </tr>\n",
       "    <tr>\n",
       "      <th>355</th>\n",
       "      <td>-6.752843</td>\n",
       "      <td>-3.803675</td>\n",
       "      <td>-1.815567</td>\n",
       "      <td>-1.233267</td>\n",
       "      <td>-1.241457</td>\n",
       "      <td>1</td>\n",
       "      <td>0</td>\n",
       "      <td>-1.732872</td>\n",
       "      <td>0</td>\n",
       "      <td>0</td>\n",
       "      <td>1</td>\n",
       "    </tr>\n",
       "    <tr>\n",
       "      <th>3649</th>\n",
       "      <td>-6.746606</td>\n",
       "      <td>-3.703137</td>\n",
       "      <td>-1.946325</td>\n",
       "      <td>-1.233228</td>\n",
       "      <td>-4.187544</td>\n",
       "      <td>1</td>\n",
       "      <td>1</td>\n",
       "      <td>-1.732893</td>\n",
       "      <td>0</td>\n",
       "      <td>0</td>\n",
       "      <td>1</td>\n",
       "    </tr>\n",
       "  </tbody>\n",
       "</table>\n",
       "</div>"
      ],
      "text/plain": [
       "      CreditScore       Age    Tenure   Balance  NumOfProducts  HasCrCard  \\\n",
       "6342    -6.748327 -3.739696 -1.161782 -1.233240      -4.187544          1   \n",
       "7447    -6.742412 -3.803675 -1.423296 -1.233231      -1.241457          1   \n",
       "8355    -6.756607 -3.675717 -1.946325 -1.233238      -4.187544          1   \n",
       "355     -6.752843 -3.803675 -1.815567 -1.233267      -1.241457          1   \n",
       "3649    -6.746606 -3.703137 -1.946325 -1.233228      -4.187544          1   \n",
       "\n",
       "      IsActiveMember  EstimatedSalary  Geography_Germany  Geography_Spain  \\\n",
       "6342               0        -1.732894                  0                0   \n",
       "7447               1        -1.732887                  1                0   \n",
       "8355               1        -1.732917                  0                1   \n",
       "355                0        -1.732872                  0                0   \n",
       "3649               1        -1.732893                  0                0   \n",
       "\n",
       "      Gender_Male  \n",
       "6342            0  \n",
       "7447            1  \n",
       "8355            1  \n",
       "355             1  \n",
       "3649            1  "
      ]
     },
     "execution_count": 74,
     "metadata": {},
     "output_type": "execute_result"
    }
   ],
   "source": [
    "#масштабируем теперь валидационную выборку\n",
    "features_valid[numeric] = scaler.transform(features_valid[numeric])\n",
    "\n",
    "features_valid.head()"
   ]
  },
  {
   "cell_type": "code",
   "execution_count": 73,
   "metadata": {
    "scrolled": true
   },
   "outputs": [
    {
     "data": {
      "text/html": [
       "<div>\n",
       "<style scoped>\n",
       "    .dataframe tbody tr th:only-of-type {\n",
       "        vertical-align: middle;\n",
       "    }\n",
       "\n",
       "    .dataframe tbody tr th {\n",
       "        vertical-align: top;\n",
       "    }\n",
       "\n",
       "    .dataframe thead th {\n",
       "        text-align: right;\n",
       "    }\n",
       "</style>\n",
       "<table border=\"1\" class=\"dataframe\">\n",
       "  <thead>\n",
       "    <tr style=\"text-align: right;\">\n",
       "      <th></th>\n",
       "      <th>CreditScore</th>\n",
       "      <th>Age</th>\n",
       "      <th>Tenure</th>\n",
       "      <th>Balance</th>\n",
       "      <th>NumOfProducts</th>\n",
       "      <th>HasCrCard</th>\n",
       "      <th>IsActiveMember</th>\n",
       "      <th>EstimatedSalary</th>\n",
       "      <th>Geography_Germany</th>\n",
       "      <th>Geography_Spain</th>\n",
       "      <th>Gender_Male</th>\n",
       "    </tr>\n",
       "  </thead>\n",
       "  <tbody>\n",
       "    <tr>\n",
       "      <th>5081</th>\n",
       "      <td>-6.811534</td>\n",
       "      <td>-4.112553</td>\n",
       "      <td>-2.689654</td>\n",
       "      <td>-1.233267</td>\n",
       "      <td>-19.470496</td>\n",
       "      <td>1</td>\n",
       "      <td>1</td>\n",
       "      <td>-1.732921</td>\n",
       "      <td>0</td>\n",
       "      <td>0</td>\n",
       "      <td>0</td>\n",
       "    </tr>\n",
       "    <tr>\n",
       "      <th>7563</th>\n",
       "      <td>-6.811534</td>\n",
       "      <td>-4.110715</td>\n",
       "      <td>-2.672557</td>\n",
       "      <td>-1.233267</td>\n",
       "      <td>-10.791070</td>\n",
       "      <td>0</td>\n",
       "      <td>1</td>\n",
       "      <td>-1.732921</td>\n",
       "      <td>0</td>\n",
       "      <td>0</td>\n",
       "      <td>1</td>\n",
       "    </tr>\n",
       "    <tr>\n",
       "      <th>4799</th>\n",
       "      <td>-6.811534</td>\n",
       "      <td>-4.110798</td>\n",
       "      <td>-2.775141</td>\n",
       "      <td>-1.233267</td>\n",
       "      <td>-19.470496</td>\n",
       "      <td>0</td>\n",
       "      <td>0</td>\n",
       "      <td>-1.732921</td>\n",
       "      <td>0</td>\n",
       "      <td>0</td>\n",
       "      <td>1</td>\n",
       "    </tr>\n",
       "    <tr>\n",
       "      <th>5814</th>\n",
       "      <td>-6.811534</td>\n",
       "      <td>-4.111801</td>\n",
       "      <td>-2.775141</td>\n",
       "      <td>-1.233267</td>\n",
       "      <td>-10.791070</td>\n",
       "      <td>1</td>\n",
       "      <td>1</td>\n",
       "      <td>-1.732921</td>\n",
       "      <td>1</td>\n",
       "      <td>0</td>\n",
       "      <td>0</td>\n",
       "    </tr>\n",
       "    <tr>\n",
       "      <th>4844</th>\n",
       "      <td>-6.811533</td>\n",
       "      <td>-4.112135</td>\n",
       "      <td>-2.758044</td>\n",
       "      <td>-1.233267</td>\n",
       "      <td>-10.791070</td>\n",
       "      <td>0</td>\n",
       "      <td>0</td>\n",
       "      <td>-1.732921</td>\n",
       "      <td>1</td>\n",
       "      <td>0</td>\n",
       "      <td>0</td>\n",
       "    </tr>\n",
       "  </tbody>\n",
       "</table>\n",
       "</div>"
      ],
      "text/plain": [
       "      CreditScore       Age    Tenure   Balance  NumOfProducts  HasCrCard  \\\n",
       "5081    -6.811534 -4.112553 -2.689654 -1.233267     -19.470496          1   \n",
       "7563    -6.811534 -4.110715 -2.672557 -1.233267     -10.791070          0   \n",
       "4799    -6.811534 -4.110798 -2.775141 -1.233267     -19.470496          0   \n",
       "5814    -6.811534 -4.111801 -2.775141 -1.233267     -10.791070          1   \n",
       "4844    -6.811533 -4.112135 -2.758044 -1.233267     -10.791070          0   \n",
       "\n",
       "      IsActiveMember  EstimatedSalary  Geography_Germany  Geography_Spain  \\\n",
       "5081               1        -1.732921                  0                0   \n",
       "7563               1        -1.732921                  0                0   \n",
       "4799               0        -1.732921                  0                0   \n",
       "5814               1        -1.732921                  1                0   \n",
       "4844               0        -1.732921                  1                0   \n",
       "\n",
       "      Gender_Male  \n",
       "5081            0  \n",
       "7563            1  \n",
       "4799            1  \n",
       "5814            0  \n",
       "4844            0  "
      ]
     },
     "execution_count": 73,
     "metadata": {},
     "output_type": "execute_result"
    }
   ],
   "source": [
    "# и масштабируем тестовую выборку\n",
    "features_test[numeric] = scaler.transform(features_test[numeric])\n",
    "\n",
    "features_test.head()"
   ]
  },
  {
   "cell_type": "markdown",
   "metadata": {},
   "source": [
    "Теперь выборки готовы к дальнейшей работе. Приступим к исследованию задачи моделями машинного обучения."
   ]
  },
  {
   "cell_type": "markdown",
   "metadata": {},
   "source": [
    "## Исследование задачи"
   ]
  },
  {
   "cell_type": "markdown",
   "metadata": {},
   "source": [
    "Для исследования будем обучать три модели. Дерево решений, случайный лес и логистическая регрессия. "
   ]
  },
  {
   "cell_type": "markdown",
   "metadata": {},
   "source": [
    "Проверим баланс классов в валидационной и тренировочной выборках."
   ]
  },
  {
   "cell_type": "code",
   "execution_count": 19,
   "metadata": {},
   "outputs": [
    {
     "data": {
      "text/plain": [
       "0    0.796333\n",
       "1    0.203667\n",
       "Name: Exited, dtype: float64"
      ]
     },
     "execution_count": 19,
     "metadata": {},
     "output_type": "execute_result"
    }
   ],
   "source": [
    "target_train.value_counts(normalize = 1)"
   ]
  },
  {
   "cell_type": "code",
   "execution_count": 20,
   "metadata": {},
   "outputs": [
    {
     "data": {
      "text/plain": [
       "0    0.7965\n",
       "1    0.2035\n",
       "Name: Exited, dtype: float64"
      ]
     },
     "execution_count": 20,
     "metadata": {},
     "output_type": "execute_result"
    }
   ],
   "source": [
    "target_valid.value_counts(normalize = 1)"
   ]
  },
  {
   "cell_type": "markdown",
   "metadata": {},
   "source": [
    "Наблюдается заметный дисбаланс класов. Ответы 0 - 80% , 1 - 20%.\n",
    "\n",
    "Можно ожидать, что результаты предсказаний моделей будут сильно склоняться к одному варианту ответов.\n",
    "\n",
    "Начнем обучение моделей без учета дисбаланса."
   ]
  },
  {
   "cell_type": "code",
   "execution_count": 31,
   "metadata": {},
   "outputs": [
    {
     "name": "stdout",
     "output_type": "stream",
     "text": [
      "F1 лучшей модели дерева решений на валидационной выборке: 0.6188466947960619 Лучшая глубина 5\n"
     ]
    }
   ],
   "source": [
    "#подберем параметр глубины для модели дерева решений\n",
    "best_model_DTC = None\n",
    "best_result_DTC = 0.59\n",
    "best_depth_DTC = 0\n",
    "\n",
    "for depth in range(1, 6):\n",
    "    model_DTC = DecisionTreeClassifier(random_state=1234, max_depth=depth)\n",
    "    model_DTC.fit(features_train, target_train)\n",
    "    DTC_prediction = model_DTC.predict(features_valid) \n",
    "    result_DTC = f1_score(target_valid, DTC_prediction) \n",
    "    if result_DTC > best_result_DTC:\n",
    "        best_model_DTC = model_DTC\n",
    "        best_result_DTC = result_DTC\n",
    "        best_depth_DTC = depth\n",
    "        \n",
    "print(\"F1 лучшей модели дерева решений на валидационной выборке:\", best_result_DTC, 'Лучшая глубина', best_depth_DTC)"
   ]
  },
  {
   "cell_type": "code",
   "execution_count": 36,
   "metadata": {},
   "outputs": [],
   "source": [
    "#обучим модель в подобранным параметром и получим предсказания\n",
    "\n",
    "model_DTC = DecisionTreeClassifier(random_state=1234, max_depth=5)\n",
    "model_DTC.fit(features_train, target_train)\n",
    "DTC_prediction = model_DTC.predict(features_valid)"
   ]
  },
  {
   "cell_type": "code",
   "execution_count": 37,
   "metadata": {
    "scrolled": true
   },
   "outputs": [
    {
     "data": {
      "text/plain": [
       "array([[1509,   84],\n",
       "       [ 187,  220]])"
      ]
     },
     "execution_count": 37,
     "metadata": {},
     "output_type": "execute_result"
    }
   ],
   "source": [
    "#матрица ошибок для дерева решений\n",
    "\n",
    "confusion_matrix(target_valid, DTC_prediction)"
   ]
  },
  {
   "cell_type": "markdown",
   "metadata": {},
   "source": [
    "Дерево решений склонно выдавать позитивные предсказания, очень высокое количество ложно позитивных предсказания (FP).\n",
    "Изучим полноту, точность и F1-меру."
   ]
  },
  {
   "cell_type": "code",
   "execution_count": 42,
   "metadata": {},
   "outputs": [],
   "source": [
    "def rec_prec_f1(target_valid, prediction):\n",
    "    print(\"Полнота\" , recall_score(target_valid, prediction))\n",
    "    print(\"Точность\", precision_score(target_valid, prediction))\n",
    "    print(\"F1-мера\", f1_score(target_valid, prediction))"
   ]
  },
  {
   "cell_type": "code",
   "execution_count": 43,
   "metadata": {
    "scrolled": true
   },
   "outputs": [
    {
     "name": "stdout",
     "output_type": "stream",
     "text": [
      "Полнота 0.5405405405405406\n",
      "Точность 0.7236842105263158\n",
      "F1-мера 0.6188466947960619\n"
     ]
    }
   ],
   "source": [
    "#полнота, точность и F1-мера для дерева решений\n",
    "rec_prec_f1(target_valid, DTC_prediction)"
   ]
  },
  {
   "cell_type": "markdown",
   "metadata": {},
   "source": [
    "Значние F1- меры высокое, но вот полнота и точность недостаточны."
   ]
  },
  {
   "cell_type": "code",
   "execution_count": 35,
   "metadata": {},
   "outputs": [
    {
     "name": "stdout",
     "output_type": "stream",
     "text": [
      "F1 лучшей модели случайного леса на валидационной выборке: 0.6253776435045317 Количество деревьев: 140 Максимальная глубина: 13\n"
     ]
    }
   ],
   "source": [
    "# подберем параметры для модели случайного леса\n",
    "best_model_RFC = None\n",
    "best_result_RFC = 0.59\n",
    "best_est_RFC = 0\n",
    "best_depth_RFC = 0\n",
    "\n",
    "for est in range(10, 151, 10):\n",
    "    for depth in range (1, 16):\n",
    "        model_RFC = RandomForestClassifier(random_state=1234, n_estimators=est, max_depth=depth)\n",
    "        model_RFC.fit(features_train, target_train)\n",
    "        RFC_prediction = model_RFC.predict(features_valid)\n",
    "        result_RFC = f1_score(target_valid, RFC_prediction)\n",
    "        if result_RFC > best_result_RFC:\n",
    "            best_model_RFC = model_RFC\n",
    "            best_result_RFC = result_RFC\n",
    "            best_est_RFC = est\n",
    "            best_depth_RFC = depth\n",
    "\n",
    "print('F1 лучшей модели случайного леса на валидационной выборке:', best_result_RFC, \n",
    "      'Количество деревьев:', best_est_RFC, \n",
    "      'Максимальная глубина:', best_depth_RFC)"
   ]
  },
  {
   "cell_type": "code",
   "execution_count": 39,
   "metadata": {},
   "outputs": [],
   "source": [
    "#обучим модель с подобранными параметрами\n",
    "\n",
    "model_RFC = RandomForestClassifier(random_state=1234, n_estimators=140, max_depth=13)\n",
    "model_RFC.fit(features_train, target_train)\n",
    "RFC_prediction = model_RFC.predict(features_valid)"
   ]
  },
  {
   "cell_type": "code",
   "execution_count": 40,
   "metadata": {
    "scrolled": true
   },
   "outputs": [
    {
     "data": {
      "text/plain": [
       "array([[1545,   48],\n",
       "       [ 200,  207]])"
      ]
     },
     "execution_count": 40,
     "metadata": {},
     "output_type": "execute_result"
    }
   ],
   "source": [
    "#матрица ошибок для случайного леса\n",
    "confusion_matrix(target_valid, RFC_prediction)"
   ]
  },
  {
   "cell_type": "markdown",
   "metadata": {},
   "source": [
    "Случайный лес выдает примерно равную пропорцию позитивных и негативных предсказаний, здесь заметно больше качественных предсказаний, но также сильно склоняется к ложно позитивным предсказаниям (FP)."
   ]
  },
  {
   "cell_type": "code",
   "execution_count": 44,
   "metadata": {
    "scrolled": true
   },
   "outputs": [
    {
     "name": "stdout",
     "output_type": "stream",
     "text": [
      "Полнота 0.5085995085995086\n",
      "Точность 0.8117647058823529\n",
      "F1-мера 0.6253776435045317\n"
     ]
    }
   ],
   "source": [
    "#полнота, точность и F1-мера для случайного леса\n",
    "rec_prec_f1(target_valid, RFC_prediction)"
   ]
  },
  {
   "cell_type": "markdown",
   "metadata": {},
   "source": [
    "Значние F1- меры здесь также выше заданного значения, точность лучше, чем у модели дерева почти на 0.1. А вот полнота очень низкая."
   ]
  },
  {
   "cell_type": "code",
   "execution_count": 46,
   "metadata": {
    "scrolled": true
   },
   "outputs": [
    {
     "data": {
      "text/plain": [
       "array([[1526,   67],\n",
       "       [ 313,   94]])"
      ]
     },
     "execution_count": 46,
     "metadata": {},
     "output_type": "execute_result"
    }
   ],
   "source": [
    "#матрица ошибок для логистической регрессии\n",
    "model_LgR = LogisticRegression(solver = 'liblinear')\n",
    "model_LgR.fit(features_train, target_train)\n",
    "LgR_prediction = model_LgR.predict(features_valid)\n",
    "confusion_matrix(target_valid, LgR_prediction)"
   ]
  },
  {
   "cell_type": "code",
   "execution_count": 47,
   "metadata": {
    "scrolled": false
   },
   "outputs": [
    {
     "name": "stdout",
     "output_type": "stream",
     "text": [
      "Полнота 0.23095823095823095\n",
      "Точность 0.5838509316770186\n",
      "F1-мера 0.33098591549295775\n"
     ]
    }
   ],
   "source": [
    "rec_prec_f1(target_valid, LgR_prediction)"
   ]
  },
  {
   "cell_type": "markdown",
   "metadata": {},
   "source": [
    "Здесь все показатели низкие.\n",
    "\n",
    "Лучшей моделью был случайный лес. Рассчитаем для него ROC_AUC."
   ]
  },
  {
   "cell_type": "code",
   "execution_count": 49,
   "metadata": {
    "scrolled": true
   },
   "outputs": [
    {
     "name": "stdout",
     "output_type": "stream",
     "text": [
      "auc_roc: 0.8605832334645893\n"
     ]
    }
   ],
   "source": [
    "probabilities = model_RFC.predict_proba(features_valid)\n",
    "probabilities_one_valid = probabilities[:, 1]\n",
    "print('auc_roc:', roc_auc_score(target_valid, probabilities_one_valid))"
   ]
  },
  {
   "cell_type": "markdown",
   "metadata": {},
   "source": [
    "Итак лучшей моделью оказался случайный лес с параметрами random_state=1234, n_estimators=140, max_depth=13. Полнота не дотягивает до хорошей модели. Будем пробовать убрать дисбаланс.\n",
    "\n",
    "Полнота 0.5085995085995086\n",
    "\n",
    "Точность 0.8117647058823529\n",
    "\n",
    "F1-мера 0.6253776435045317\n",
    "\n",
    "auc_roc: 0.8605832334645893"
   ]
  },
  {
   "cell_type": "markdown",
   "metadata": {},
   "source": [
    "## Борьба с дисбалансом"
   ]
  },
  {
   "cell_type": "markdown",
   "metadata": {
    "scrolled": true
   },
   "source": [
    "Как мы выяснили ранее в нашей выборке отрицательны ответов около 80% , положитительных примерно 20%.\n",
    "Нам необходмо увеличить количество положительных ответов в 4 раза для достижения баланса."
   ]
  },
  {
   "cell_type": "code",
   "execution_count": 52,
   "metadata": {
    "scrolled": true
   },
   "outputs": [],
   "source": [
    "#создадим функцию для увеличения класса в выборке \n",
    "def upsample(features, target, repeat, upsampled_сlass):\n",
    "    features_zeros = features[target == 0]\n",
    "    features_ones = features[target == 1]\n",
    "    target_zeros = target[target == 0]\n",
    "    target_ones = target[target == 1]\n",
    "    \n",
    "    if upsampled_сlass == 0:\n",
    "        features_upsampled = pd.concat([features_zeros]* repeat + [features_ones] )\n",
    "        target_upsampled = pd.concat([target_zeros]* repeat + [target_ones] )\n",
    "        features_upsampled, target_upsampled = shuffle(\n",
    "        features_upsampled, target_upsampled, random_state=12345)\n",
    "        \n",
    "    elif upsampled_сlass == 1:\n",
    "        features_upsampled = pd.concat([features_zeros] + [features_ones] * repeat)\n",
    "        target_upsampled = pd.concat([target_zeros] + [target_ones] * repeat)\n",
    "        features_upsampled, target_upsampled = shuffle(\n",
    "        features_upsampled, target_upsampled, random_state=12345)\n",
    "    else:\n",
    "        features_upsampled = 0\n",
    "        target_upsampled = 0  \n",
    "        \n",
    "        \n",
    "       \n",
    "    return features_upsampled, target_upsampled\n",
    "    \"Функция принимает значение признаков (features[]), целевого признака (target[]), repeat(int / float), \"\n",
    "    \" класс который будет увеличен (upsampled_сlass (0 or 1))\""
   ]
  },
  {
   "cell_type": "code",
   "execution_count": 53,
   "metadata": {},
   "outputs": [
    {
     "name": "stdout",
     "output_type": "stream",
     "text": [
      "1    0.50569\n",
      "0    0.49431\n",
      "Name: Exited, dtype: float64\n",
      "(9666,)\n"
     ]
    }
   ],
   "source": [
    "#применим функцию upsample \n",
    "#увеличим количество положительных ответов в 4 раза\n",
    "features_train_upsampled, target_train_upsampled = upsample(features_train, target_train, 4, 1)\n",
    "print(target_train_upsampled.value_counts(normalize = 1))\n",
    "print(target_train_upsampled.shape)"
   ]
  },
  {
   "cell_type": "markdown",
   "metadata": {},
   "source": [
    "Мы получили сбалансированное количество классов, перейдем к обучению моеделей на новых данных."
   ]
  },
  {
   "cell_type": "markdown",
   "metadata": {},
   "source": [
    "Проверим как изменилось качество ответов. Так как мы меняем обучающие данные, то будем заново подбирать параметры моделей."
   ]
  },
  {
   "cell_type": "code",
   "execution_count": 55,
   "metadata": {},
   "outputs": [
    {
     "name": "stdout",
     "output_type": "stream",
     "text": [
      "F1 лучшей модели дерева решений на валидационной выборке: 0.59 Лучшая глубина 0\n"
     ]
    }
   ],
   "source": [
    "#подберем параметр глубины для модели дерева решений на увеличенной выборке\n",
    "best_model_DTC = None\n",
    "best_result_DTC = 0.59\n",
    "best_depth_DTC = 0\n",
    "\n",
    "for depth in range(1, 10):\n",
    "    model_DTC = DecisionTreeClassifier(random_state=1234, max_depth=depth)\n",
    "    model_DTC.fit(features_train_upsampled, target_train_upsampled)\n",
    "    DTC_prediction = model_DTC.predict(features_valid) \n",
    "    result_DTC = f1_score(target_valid, DTC_prediction) \n",
    "    if result_DTC > best_result_DTC:\n",
    "        best_model_DTC = model_DTC\n",
    "        best_result_DTC = result_DTC\n",
    "        best_depth_DTC = depth\n",
    "        \n",
    "print(\"F1 лучшей модели дерева решений на валидационной выборке:\", best_result_DTC, 'Лучшая глубина', best_depth_DTC)"
   ]
  },
  {
   "cell_type": "markdown",
   "metadata": {},
   "source": [
    "Получили, что желаемой отметки F1-меры на дереве решений нам не достичь."
   ]
  },
  {
   "cell_type": "code",
   "execution_count": 56,
   "metadata": {
    "scrolled": false
   },
   "outputs": [
    {
     "name": "stdout",
     "output_type": "stream",
     "text": [
      "F1 лучшей модели случайного леса на валидационной выборке: 0.6370192307692308 Количество деревьев: 130 Максимальная глубина: 13\n"
     ]
    }
   ],
   "source": [
    "# подберем параметры для модели случайного леса на увеличенной выборке\n",
    "best_model_RFC = None\n",
    "best_result_RFC = 0.59\n",
    "best_est_RFC = 0\n",
    "best_depth_RFC = 0\n",
    "\n",
    "for est in range(10, 151, 10):\n",
    "    for depth in range (1, 16):\n",
    "        model_RFC = RandomForestClassifier(random_state=1234, n_estimators=est, max_depth=depth)\n",
    "        model_RFC.fit(features_train_upsampled, target_train_upsampled)\n",
    "        RFC_prediction = model_RFC.predict(features_valid)\n",
    "        result_RFC = f1_score(target_valid, RFC_prediction)\n",
    "        if result_RFC > best_result_RFC:\n",
    "            best_model_RFC = model_RFC\n",
    "            best_result_RFC = result_RFC\n",
    "            best_est_RFC = est\n",
    "            best_depth_RFC = depth\n",
    "\n",
    "print('F1 лучшей модели случайного леса на валидационной выборке:', best_result_RFC, \n",
    "      'Количество деревьев:', best_est_RFC, \n",
    "      'Максимальная глубина:', best_depth_RFC)"
   ]
  },
  {
   "cell_type": "markdown",
   "metadata": {},
   "source": [
    "Здесь получили хороший показатель F1-меры в 0.64 на модели с параметрами random_state=1234, n_estimators=130, max_depth=13."
   ]
  },
  {
   "cell_type": "code",
   "execution_count": 58,
   "metadata": {},
   "outputs": [
    {
     "name": "stdout",
     "output_type": "stream",
     "text": [
      "Полнота 0.6511056511056511\n",
      "Точность 0.6235294117647059\n",
      "F1-мера 0.6370192307692308\n"
     ]
    }
   ],
   "source": [
    "model_RFC_upsampled = RandomForestClassifier(random_state=1234, n_estimators=130, max_depth=13)\n",
    "model_RFC_upsampled.fit(features_train_upsampled, target_train_upsampled)\n",
    "RFC_prediction_upsampled = model_RFC_upsampled.predict(features_valid)\n",
    "rec_prec_f1(target_valid, RFC_prediction_upsampled)"
   ]
  },
  {
   "cell_type": "markdown",
   "metadata": {},
   "source": [
    "У этой модели случайного леса мы наблюдаем увеличение полноты, но снижение точности. F1-мера достаточно высокая."
   ]
  },
  {
   "cell_type": "code",
   "execution_count": 59,
   "metadata": {},
   "outputs": [
    {
     "name": "stdout",
     "output_type": "stream",
     "text": [
      "Полнота 0.7174447174447175\n",
      "Точность 0.38522427440633245\n",
      "F1-мера 0.5012875536480687\n"
     ]
    }
   ],
   "source": [
    "#Логистическая регрессия\n",
    "model_LgR_upsampled = LogisticRegression(solver = 'liblinear')\n",
    "model_LgR_upsampled.fit(features_train_upsampled, target_train_upsampled)\n",
    "LgR_prediction_upsampled = model_LgR_upsampled.predict(features_valid)\n",
    "rec_prec_f1(target_valid, LgR_prediction_upsampled)"
   ]
  },
  {
   "cell_type": "markdown",
   "metadata": {},
   "source": [
    "Здесь F1-мера не дотягивает до нужного нам уровня в 0.59. Модель не подходит."
   ]
  },
  {
   "cell_type": "markdown",
   "metadata": {},
   "source": [
    "Итак, лучшие показатели мы получили в модели случайного леса, обученной на увеличенной выборке, с параметрами random_state=1234, n_estimators=130, max_depth=13. Рассчитаем для этой модели AUC-ROC."
   ]
  },
  {
   "cell_type": "code",
   "execution_count": 62,
   "metadata": {},
   "outputs": [
    {
     "name": "stdout",
     "output_type": "stream",
     "text": [
      "auc_roc: 0.8555257877291775\n"
     ]
    }
   ],
   "source": [
    "probabilities_upsampled = model_RFC_upsampled.predict_proba(features_valid)\n",
    "probabilities_one_valid_upsampled = probabilities_upsampled[:, 1]\n",
    "print('auc_roc:', roc_auc_score(target_valid, probabilities_one_valid_upsampled))"
   ]
  },
  {
   "cell_type": "markdown",
   "metadata": {},
   "source": [
    "AUC-ROC чуть снизился, но остался на высоком уровне.\n",
    "\n",
    "Далее попробуем подобрать порог классификации."
   ]
  },
  {
   "cell_type": "code",
   "execution_count": 65,
   "metadata": {
    "scrolled": true
   },
   "outputs": [
    {
     "name": "stdout",
     "output_type": "stream",
     "text": [
      "Порог = 0.40 | Точность = 0.523, Полнота = 0.742, F1 = 0.6138\n",
      "Порог = 0.42 | Точность = 0.544, Полнота = 0.717, F1 = 0.6186\n",
      "Порог = 0.44 | Точность = 0.551, Полнота = 0.690, F1 = 0.6129\n",
      "Порог = 0.46 | Точность = 0.568, Полнота = 0.676, F1 = 0.6173\n",
      "Порог = 0.48 | Точность = 0.593, Полнота = 0.663, F1 = 0.6265\n",
      "Порог = 0.50 | Точность = 0.624, Полнота = 0.651, F1 = 0.6370\n",
      "Порог = 0.52 | Точность = 0.628, Полнота = 0.622, F1 = 0.6247\n",
      "Порог = 0.54 | Точность = 0.646, Полнота = 0.604, F1 = 0.6244\n",
      "Порог = 0.56 | Точность = 0.672, Полнота = 0.585, F1 = 0.6255\n",
      "Порог = 0.58 | Точность = 0.681, Полнота = 0.572, F1 = 0.6222\n",
      "Порог = 0.60 | Точность = 0.714, Полнота = 0.558, F1 = 0.6262\n",
      "Порог = 0.62 | Точность = 0.723, Полнота = 0.550, F1 = 0.6248\n",
      "Порог = 0.64 | Точность = 0.740, Полнота = 0.523, F1 = 0.6129\n",
      "Порог = 0.66 | Точность = 0.753, Полнота = 0.494, F1 = 0.5964\n",
      "Порог = 0.68 | Точность = 0.767, Полнота = 0.469, F1 = 0.5823\n",
      "Порог = 0.70 | Точность = 0.790, Полнота = 0.445, F1 = 0.5692\n",
      "Порог = 0.72 | Точность = 0.806, Полнота = 0.418, F1 = 0.5502\n",
      "Порог = 0.74 | Точность = 0.814, Полнота = 0.388, F1 = 0.5258\n",
      "Порог = 0.76 | Точность = 0.818, Полнота = 0.364, F1 = 0.5034\n",
      "Порог = 0.78 | Точность = 0.843, Полнота = 0.344, F1 = 0.4887\n"
     ]
    }
   ],
   "source": [
    "for threshold in np.arange(0.4, 0.8, 0.02):\n",
    "    predicted_valid = probabilities_one_valid_upsampled > threshold\n",
    "    precision = precision_score(target_valid, predicted_valid)\n",
    "    recall = recall_score(target_valid, predicted_valid)\n",
    "    F1 = f1_score(target_valid, predicted_valid)\n",
    "\n",
    "    print(\"Порог = {:.2f} | Точность = {:.3f}, Полнота = {:.3f}, F1 = {:.4f}\".format(\n",
    "        threshold, precision, recall, F1))"
   ]
  },
  {
   "cell_type": "markdown",
   "metadata": {},
   "source": [
    "Необходимый нам порог классификации 0.5, здесь F1-мера принимает наибольшее значение - 0.6370. Это значение порога по умолчанию, значит оставляем всё без изменений.\n",
    "\n",
    "Теперь проверим модель на адекватность - сравним с константной."
   ]
  },
  {
   "cell_type": "code",
   "execution_count": 37,
   "metadata": {},
   "outputs": [
    {
     "data": {
      "text/plain": [
       "0    2000\n",
       "dtype: int64"
      ]
     },
     "execution_count": 37,
     "metadata": {},
     "output_type": "execute_result"
    }
   ],
   "source": [
    "#Создаем константную модель\n",
    "target_predict_constant = pd.Series([0]*len(target_valid))\n",
    "target_predict_constant.value_counts()"
   ]
  },
  {
   "cell_type": "code",
   "execution_count": 66,
   "metadata": {
    "scrolled": true
   },
   "outputs": [
    {
     "name": "stdout",
     "output_type": "stream",
     "text": [
      "accuracy_score константой модели: 0.7965\n",
      "accuracy_score выбранной модели: 0.849\n",
      "AUC-ROC константой модели: 0.5\n",
      "AUC-ROC выбранной модели: 0.7753331143161651\n"
     ]
    }
   ],
   "source": [
    "#Сравним показатель точности (accuracy_score) константной модели и выбранной нами\n",
    "print('accuracy_score константой модели:', accuracy_score(target_valid, target_predict_constant))\n",
    "print('accuracy_score выбранной модели:', accuracy_score(target_valid, RFC_prediction_upsampled))\n",
    "\n",
    "#Дополнительно сравним AUC-ROC — единственный параметр подающийся сравнению, \n",
    "#потому что константная подель содержит только негативные ответы\n",
    "print('AUC-ROC константой модели:', roc_auc_score(target_valid, target_predict_constant))\n",
    "print('AUC-ROC выбранной модели:', roc_auc_score(target_valid, RFC_prediction_upsampled))"
   ]
  },
  {
   "cell_type": "markdown",
   "metadata": {},
   "source": [
    "Выбранная модель показывает результаты лучше, чем константная модель — модель можно считать адекватной."
   ]
  },
  {
   "cell_type": "markdown",
   "metadata": {},
   "source": [
    "**Общий вывод:** \n",
    "\n",
    "- В первоначальных данных наблюдался значительный дисбаланс (80% ответов целевого признака были негативными и только 20% позитивными).\n",
    "\n",
    "- Из моделей, обученных на несбалансированной выборке, лучше оказалась модель случайного леса с параметрами (random_state=1234, n_estimators=140, max_depth=13). Но у нее было недостаточно полноты.\n",
    "\n",
    "- Мы устранили дисбаланс классов в обучающей выборки методом upsampling — увеличили количество значений позитивного класса в 4 раза. Так мы достигли баланса классов в обучающей выборки: 1 = 0.50569, 0 = 0.49431.\n",
    "\n",
    "- На новых данных все модели показали результат выше, чем на несбалансированной выборке. Лучшие показатели были у модели случайного леса с параметрами (random_state=1234, n_estimators=130, max_depth=13), полнота увеличилась на 0.15:\n",
    "\n",
    "Полнота 0.6511056511056511\n",
    "\n",
    "Точность 0.6235294117647059\n",
    "\n",
    "F1-мера 0.6370192307692308\n",
    "\n",
    "auc_roc: 0.8555257877291775\n",
    "\n",
    "\n",
    "- Мы пытались улучших качество модели перебором порогов классификации, но порог был оставлен по умолчанию, так как именно он показал наибольшее значение F1-меры.\n",
    "\n",
    "- Финальная модель прошла проверку на адекватность в сравнении с контантной моделью:\n",
    "\n",
    "accuracy_score константой модели: 0.7965\n",
    "\n",
    "accuracy_score выбранной модели: 0.849\n",
    "\n",
    "AUC-ROC константой модели: 0.5\n",
    "\n",
    "AUC-ROC выбранной модели: 0.7753331143161651"
   ]
  },
  {
   "cell_type": "markdown",
   "metadata": {},
   "source": [
    "## Тестирование модели"
   ]
  },
  {
   "cell_type": "code",
   "execution_count": 67,
   "metadata": {},
   "outputs": [
    {
     "name": "stdout",
     "output_type": "stream",
     "text": [
      "Полнота 0.625\n",
      "Точность 0.6115107913669064\n",
      "F1-мера 0.6181818181818182\n"
     ]
    }
   ],
   "source": [
    "model_RFC_upsampled\n",
    "model_RFC_upsampled_prediction = model_RFC_upsampled.predict(features_test)\n",
    "rec_prec_f1(target_test, model_RFC_upsampled_prediction)"
   ]
  },
  {
   "cell_type": "code",
   "execution_count": 68,
   "metadata": {
    "scrolled": true
   },
   "outputs": [
    {
     "data": {
      "image/png": "[encoded data removed]",
      "text/plain": [
       "<Figure size 432x288 with 1 Axes>"
      ]
     },
     "metadata": {
      "needs_background": "light"
     },
     "output_type": "display_data"
    }
   ],
   "source": [
    "final_model_probabilities_one = model_RFC_upsampled.predict_proba(features_test)[:, 1]\n",
    "\n",
    "fpr, tpr, thresholds = roc_curve(target_test, final_model_probabilities_one) \n",
    "\n",
    "plt.figure()\n",
    "plt.plot(fpr, tpr)\n",
    "plt.plot([0, 1], [0, 1], linestyle='--')\n",
    "plt.xlim([0.0, 1.0])\n",
    "plt.ylim([0.0, 1.0])\n",
    "plt.xlabel('False Positive Rate')\n",
    "plt.ylabel('True Positive Rate')\n",
    "plt.title('ROC-кривая')\n",
    "plt.show()"
   ]
  },
  {
   "cell_type": "markdown",
   "metadata": {},
   "source": [
    "Финальная модель достигла заданой метрики (F1 > 0.59) и показывает адекватные результаты.\n",
    "\n",
    "Модель характеризуется средним показателем полноты = 0.625, поэтому она с хорошей вероятностью предскажет уход клиента из банка.\n",
    "Показатель точности тоже не очень высокий = 0.61 — модель верно предсказывает более половины ухода клиентов.\n",
    "\n",
    "С точки зрения бизнеса полученная модель поможет маркетологам лучше определять килентов, которые могут уйти в ближайшее время. Важно, что модель покрывает большое количество клиентов, в данном случае это важнее чем точность.\n",
    "\n",
    "Для улучшения модели следует использовать данные, отражающие отношения клиента с банком в динамике."
   ]
  }
 ],
 "metadata": {
  "ExecuteTimeLog": [
   {
    "duration": 434,
    "start_time": "2023-03-28T13:39:04.958Z"
   },
   {
    "duration": 78,
    "start_time": "2023-03-28T13:43:39.089Z"
   },
   {
    "duration": 13,
    "start_time": "2023-03-28T13:44:20.387Z"
   },
   {
    "duration": 19,
    "start_time": "2023-03-28T13:48:17.933Z"
   },
   {
    "duration": 4,
    "start_time": "2023-03-28T13:49:52.059Z"
   },
   {
    "duration": 6,
    "start_time": "2023-03-28T14:03:46.897Z"
   },
   {
    "duration": 55,
    "start_time": "2023-03-29T06:40:40.186Z"
   },
   {
    "duration": 1066,
    "start_time": "2023-03-29T06:40:45.021Z"
   },
   {
    "duration": 79,
    "start_time": "2023-03-29T06:40:46.089Z"
   },
   {
    "duration": 14,
    "start_time": "2023-03-29T06:40:46.170Z"
   },
   {
    "duration": 22,
    "start_time": "2023-03-29T06:40:46.186Z"
   },
   {
    "duration": 8,
    "start_time": "2023-03-29T06:40:49.890Z"
   },
   {
    "duration": 7,
    "start_time": "2023-03-29T06:54:41.987Z"
   },
   {
    "duration": 1330,
    "start_time": "2023-03-31T08:03:42.130Z"
   },
   {
    "duration": 181,
    "start_time": "2023-03-31T08:03:43.463Z"
   },
   {
    "duration": 20,
    "start_time": "2023-03-31T08:03:43.646Z"
   },
   {
    "duration": 29,
    "start_time": "2023-03-31T08:03:43.669Z"
   },
   {
    "duration": 15,
    "start_time": "2023-03-31T08:03:43.701Z"
   },
   {
    "duration": 23,
    "start_time": "2023-03-31T08:03:43.718Z"
   },
   {
    "duration": 3,
    "start_time": "2023-03-31T08:05:09.519Z"
   },
   {
    "duration": 102,
    "start_time": "2023-03-31T08:05:33.009Z"
   },
   {
    "duration": 42,
    "start_time": "2023-03-31T08:06:11.102Z"
   },
   {
    "duration": 37,
    "start_time": "2023-03-31T08:08:04.454Z"
   },
   {
    "duration": 52,
    "start_time": "2023-03-31T08:09:15.570Z"
   },
   {
    "duration": 1118,
    "start_time": "2023-04-04T06:38:52.535Z"
   },
   {
    "duration": 78,
    "start_time": "2023-04-04T06:38:53.654Z"
   },
   {
    "duration": 15,
    "start_time": "2023-04-04T06:38:53.733Z"
   },
   {
    "duration": 22,
    "start_time": "2023-04-04T06:38:53.750Z"
   },
   {
    "duration": 16,
    "start_time": "2023-04-04T06:38:53.774Z"
   },
   {
    "duration": 7,
    "start_time": "2023-04-04T06:38:53.791Z"
   },
   {
    "duration": 22,
    "start_time": "2023-04-04T06:38:58.610Z"
   },
   {
    "duration": 9,
    "start_time": "2023-04-04T06:44:22.301Z"
   },
   {
    "duration": 32,
    "start_time": "2023-04-04T06:58:14.283Z"
   },
   {
    "duration": 24,
    "start_time": "2023-04-04T06:58:36.686Z"
   },
   {
    "duration": 34,
    "start_time": "2023-04-04T07:00:25.806Z"
   },
   {
    "duration": 43,
    "start_time": "2023-04-04T07:05:23.290Z"
   },
   {
    "duration": 46,
    "start_time": "2023-04-04T07:07:04.055Z"
   },
   {
    "duration": 610,
    "start_time": "2023-04-04T07:11:15.945Z"
   },
   {
    "duration": 115,
    "start_time": "2023-04-04T07:11:29.883Z"
   },
   {
    "duration": 125,
    "start_time": "2023-04-04T07:14:22.695Z"
   },
   {
    "duration": 115,
    "start_time": "2023-04-04T07:14:27.273Z"
   },
   {
    "duration": 123,
    "start_time": "2023-04-04T07:16:00.947Z"
   },
   {
    "duration": 196,
    "start_time": "2023-04-04T07:16:06.827Z"
   },
   {
    "duration": 8,
    "start_time": "2023-04-04T07:17:09.497Z"
   },
   {
    "duration": 3,
    "start_time": "2023-04-04T07:22:32.995Z"
   },
   {
    "duration": 42,
    "start_time": "2023-04-04T07:23:12.099Z"
   },
   {
    "duration": 6,
    "start_time": "2023-04-04T07:26:04.560Z"
   },
   {
    "duration": 46,
    "start_time": "2023-04-04T07:27:43.317Z"
   },
   {
    "duration": 3,
    "start_time": "2023-04-04T07:28:21.813Z"
   },
   {
    "duration": 6,
    "start_time": "2023-04-04T07:28:49.083Z"
   },
   {
    "duration": 4,
    "start_time": "2023-04-04T07:49:09.795Z"
   },
   {
    "duration": 55,
    "start_time": "2023-04-04T07:53:50.134Z"
   },
   {
    "duration": 91,
    "start_time": "2023-04-04T07:53:57.733Z"
   },
   {
    "duration": 4,
    "start_time": "2023-04-04T08:03:05.037Z"
   },
   {
    "duration": 120,
    "start_time": "2023-04-04T08:04:39.771Z"
   },
   {
    "duration": 4,
    "start_time": "2023-04-04T08:05:11.957Z"
   },
   {
    "duration": 91,
    "start_time": "2023-04-04T08:05:16.565Z"
   },
   {
    "duration": 4,
    "start_time": "2023-04-04T08:16:25.932Z"
   },
   {
    "duration": 35,
    "start_time": "2023-04-04T08:17:07.387Z"
   },
   {
    "duration": 7,
    "start_time": "2023-04-04T08:18:11.974Z"
   },
   {
    "duration": 84,
    "start_time": "2023-04-04T08:21:31.619Z"
   },
   {
    "duration": 101,
    "start_time": "2023-04-04T08:22:05.123Z"
   },
   {
    "duration": 288,
    "start_time": "2023-04-04T08:23:10.221Z"
   },
   {
    "duration": 1261,
    "start_time": "2023-04-04T14:00:36.731Z"
   },
   {
    "duration": 180,
    "start_time": "2023-04-04T14:00:37.994Z"
   },
   {
    "duration": 14,
    "start_time": "2023-04-04T14:00:38.176Z"
   },
   {
    "duration": 39,
    "start_time": "2023-04-04T14:00:38.192Z"
   },
   {
    "duration": 9,
    "start_time": "2023-04-04T14:00:38.232Z"
   },
   {
    "duration": 38,
    "start_time": "2023-04-04T14:00:38.243Z"
   },
   {
    "duration": 27,
    "start_time": "2023-04-04T14:00:38.283Z"
   },
   {
    "duration": 46,
    "start_time": "2023-04-04T14:00:38.312Z"
   },
   {
    "duration": 30,
    "start_time": "2023-04-04T14:00:38.360Z"
   },
   {
    "duration": 83,
    "start_time": "2023-04-04T14:00:38.393Z"
   },
   {
    "duration": 169,
    "start_time": "2023-04-04T14:00:38.477Z"
   },
   {
    "duration": 148,
    "start_time": "2023-04-04T14:00:38.648Z"
   },
   {
    "duration": 247,
    "start_time": "2023-04-04T14:00:41.052Z"
   },
   {
    "duration": 255,
    "start_time": "2023-04-04T14:01:05.958Z"
   },
   {
    "duration": 452,
    "start_time": "2023-04-04T14:02:13.514Z"
   },
   {
    "duration": 261,
    "start_time": "2023-04-04T14:07:07.438Z"
   },
   {
    "duration": 4,
    "start_time": "2023-04-04T14:08:44.104Z"
   },
   {
    "duration": 130,
    "start_time": "2023-04-04T14:09:17.954Z"
   },
   {
    "duration": 5,
    "start_time": "2023-04-04T14:11:46.112Z"
   },
   {
    "duration": 132,
    "start_time": "2023-04-04T14:15:41.140Z"
   },
   {
    "duration": 5,
    "start_time": "2023-04-04T14:17:45.126Z"
   },
   {
    "duration": 9,
    "start_time": "2023-04-04T14:18:06.659Z"
   },
   {
    "duration": 260,
    "start_time": "2023-04-04T14:28:32.981Z"
   },
   {
    "duration": 1693,
    "start_time": "2023-04-05T07:12:26.709Z"
   },
   {
    "duration": 167,
    "start_time": "2023-04-05T07:12:28.404Z"
   },
   {
    "duration": 11,
    "start_time": "2023-04-05T07:12:28.572Z"
   },
   {
    "duration": 30,
    "start_time": "2023-04-05T07:12:28.585Z"
   },
   {
    "duration": 11,
    "start_time": "2023-04-05T07:12:28.616Z"
   },
   {
    "duration": 19,
    "start_time": "2023-04-05T07:12:28.628Z"
   },
   {
    "duration": 8,
    "start_time": "2023-04-05T07:12:28.648Z"
   },
   {
    "duration": 26,
    "start_time": "2023-04-05T07:12:28.658Z"
   },
   {
    "duration": 4,
    "start_time": "2023-04-05T07:12:28.686Z"
   },
   {
    "duration": 59,
    "start_time": "2023-04-05T07:12:28.691Z"
   },
   {
    "duration": 5,
    "start_time": "2023-04-05T07:12:28.751Z"
   },
   {
    "duration": 147,
    "start_time": "2023-04-05T07:12:28.758Z"
   },
   {
    "duration": 240,
    "start_time": "2023-04-05T07:12:30.533Z"
   },
   {
    "duration": 245,
    "start_time": "2023-04-05T07:13:04.360Z"
   },
   {
    "duration": 9,
    "start_time": "2023-04-05T07:18:41.044Z"
   },
   {
    "duration": 9,
    "start_time": "2023-04-05T07:18:58.296Z"
   },
   {
    "duration": 13,
    "start_time": "2023-04-05T07:19:03.698Z"
   },
   {
    "duration": 8,
    "start_time": "2023-04-05T07:19:08.479Z"
   },
   {
    "duration": 8,
    "start_time": "2023-04-05T07:19:15.663Z"
   },
   {
    "duration": 7,
    "start_time": "2023-04-05T07:19:23.709Z"
   },
   {
    "duration": 9,
    "start_time": "2023-04-05T07:19:32.384Z"
   },
   {
    "duration": 8,
    "start_time": "2023-04-05T07:19:46.440Z"
   },
   {
    "duration": 9,
    "start_time": "2023-04-05T07:20:03.480Z"
   },
   {
    "duration": 10,
    "start_time": "2023-04-05T07:20:09.974Z"
   },
   {
    "duration": 8,
    "start_time": "2023-04-05T07:20:15.515Z"
   },
   {
    "duration": 10,
    "start_time": "2023-04-05T07:20:19.294Z"
   },
   {
    "duration": 8,
    "start_time": "2023-04-05T07:20:24.453Z"
   },
   {
    "duration": 9,
    "start_time": "2023-04-05T07:20:41.158Z"
   },
   {
    "duration": 10,
    "start_time": "2023-04-05T07:31:16.010Z"
   },
   {
    "duration": 32,
    "start_time": "2023-04-05T07:33:19.054Z"
   },
   {
    "duration": 5,
    "start_time": "2023-04-05T07:33:26.320Z"
   },
   {
    "duration": 24,
    "start_time": "2023-04-05T07:33:33.424Z"
   },
   {
    "duration": 5,
    "start_time": "2023-04-05T07:34:07.694Z"
   },
   {
    "duration": 99,
    "start_time": "2023-04-05T07:34:51.351Z"
   },
   {
    "duration": 47,
    "start_time": "2023-04-05T07:35:35.071Z"
   },
   {
    "duration": 216,
    "start_time": "2023-04-05T07:36:12.466Z"
   },
   {
    "duration": 106,
    "start_time": "2023-04-05T07:36:17.481Z"
   },
   {
    "duration": 104,
    "start_time": "2023-04-05T07:36:23.452Z"
   },
   {
    "duration": 5,
    "start_time": "2023-04-05T07:36:29.363Z"
   },
   {
    "duration": 290,
    "start_time": "2023-04-05T07:36:37.835Z"
   },
   {
    "duration": 10,
    "start_time": "2023-04-05T07:36:57.128Z"
   },
   {
    "duration": 9,
    "start_time": "2023-04-05T07:37:06.060Z"
   },
   {
    "duration": 11,
    "start_time": "2023-04-05T07:37:10.998Z"
   },
   {
    "duration": 11,
    "start_time": "2023-04-05T07:37:15.020Z"
   },
   {
    "duration": 9,
    "start_time": "2023-04-05T07:37:22.461Z"
   },
   {
    "duration": 9,
    "start_time": "2023-04-05T07:37:26.507Z"
   },
   {
    "duration": 8,
    "start_time": "2023-04-05T07:37:31.573Z"
   },
   {
    "duration": 8,
    "start_time": "2023-04-05T07:37:40.264Z"
   },
   {
    "duration": 8,
    "start_time": "2023-04-05T07:37:44.350Z"
   },
   {
    "duration": 303,
    "start_time": "2023-04-05T07:40:44.231Z"
   },
   {
    "duration": 18,
    "start_time": "2023-04-05T07:45:30.829Z"
   },
   {
    "duration": 53,
    "start_time": "2023-04-05T07:59:00.298Z"
   },
   {
    "duration": 18,
    "start_time": "2023-04-05T08:00:37.968Z"
   },
   {
    "duration": 13,
    "start_time": "2023-04-05T08:23:48.009Z"
   },
   {
    "duration": 12,
    "start_time": "2023-04-05T08:25:11.498Z"
   },
   {
    "duration": 15,
    "start_time": "2023-04-05T08:25:30.313Z"
   },
   {
    "duration": 36,
    "start_time": "2023-04-05T08:28:01.539Z"
   },
   {
    "duration": 34,
    "start_time": "2023-04-05T08:28:50.738Z"
   },
   {
    "duration": 15,
    "start_time": "2023-04-05T08:29:41.275Z"
   },
   {
    "duration": 9,
    "start_time": "2023-04-05T08:31:47.833Z"
   },
   {
    "duration": 30,
    "start_time": "2023-04-05T08:32:16.239Z"
   },
   {
    "duration": 4,
    "start_time": "2023-04-05T08:35:47.023Z"
   },
   {
    "duration": 859,
    "start_time": "2023-04-05T08:35:59.829Z"
   },
   {
    "duration": 732,
    "start_time": "2023-04-05T08:36:28.468Z"
   },
   {
    "duration": 4,
    "start_time": "2023-04-05T08:36:36.508Z"
   },
   {
    "duration": 767,
    "start_time": "2023-04-05T08:36:38.407Z"
   },
   {
    "duration": 5,
    "start_time": "2023-04-05T08:37:59.769Z"
   },
   {
    "duration": 5,
    "start_time": "2023-04-05T08:38:13.009Z"
   },
   {
    "duration": 7,
    "start_time": "2023-04-05T08:38:41.582Z"
   },
   {
    "duration": 6,
    "start_time": "2023-04-05T08:38:44.884Z"
   },
   {
    "duration": 5,
    "start_time": "2023-04-05T08:41:10.812Z"
   },
   {
    "duration": 860,
    "start_time": "2023-04-05T08:41:27.404Z"
   },
   {
    "duration": 13,
    "start_time": "2023-04-05T08:42:59.790Z"
   },
   {
    "duration": 10,
    "start_time": "2023-04-05T08:43:03.329Z"
   },
   {
    "duration": 3,
    "start_time": "2023-04-05T08:43:32.794Z"
   },
   {
    "duration": 4,
    "start_time": "2023-04-05T08:43:39.013Z"
   },
   {
    "duration": 4,
    "start_time": "2023-04-05T08:46:15.573Z"
   },
   {
    "duration": 4,
    "start_time": "2023-04-05T08:46:18.573Z"
   },
   {
    "duration": 732,
    "start_time": "2023-04-05T08:46:20.368Z"
   },
   {
    "duration": 53,
    "start_time": "2023-04-05T08:50:37.216Z"
   },
   {
    "duration": 7,
    "start_time": "2023-04-05T08:51:38.549Z"
   },
   {
    "duration": 9,
    "start_time": "2023-04-05T08:51:41.934Z"
   },
   {
    "duration": 689,
    "start_time": "2023-04-05T08:52:27.830Z"
   },
   {
    "duration": 10,
    "start_time": "2023-04-05T08:53:49.531Z"
   },
   {
    "duration": 10,
    "start_time": "2023-04-05T08:54:48.810Z"
   },
   {
    "duration": 125,
    "start_time": "2023-04-05T08:56:38.644Z"
   },
   {
    "duration": 14,
    "start_time": "2023-04-05T08:57:05.333Z"
   },
   {
    "duration": 119,
    "start_time": "2023-04-05T08:57:19.480Z"
   },
   {
    "duration": 17,
    "start_time": "2023-04-05T08:57:42.738Z"
   },
   {
    "duration": 11,
    "start_time": "2023-04-05T09:02:05.669Z"
   },
   {
    "duration": 14,
    "start_time": "2023-04-05T09:02:27.313Z"
   },
   {
    "duration": 19,
    "start_time": "2023-04-05T09:03:23.371Z"
   },
   {
    "duration": 17,
    "start_time": "2023-04-05T09:03:46.977Z"
   },
   {
    "duration": 5,
    "start_time": "2023-04-05T09:04:45.900Z"
   },
   {
    "duration": 1132,
    "start_time": "2023-04-05T09:06:29.124Z"
   },
   {
    "duration": 78,
    "start_time": "2023-04-05T09:07:09.825Z"
   },
   {
    "duration": 1043,
    "start_time": "2023-04-05T09:07:24.890Z"
   },
   {
    "duration": 40,
    "start_time": "2023-04-05T09:07:39.419Z"
   },
   {
    "duration": 8,
    "start_time": "2023-04-05T09:14:18.770Z"
   },
   {
    "duration": 8,
    "start_time": "2023-04-05T09:16:14.404Z"
   },
   {
    "duration": 8,
    "start_time": "2023-04-05T09:16:28.295Z"
   },
   {
    "duration": 78,
    "start_time": "2023-04-05T09:18:17.440Z"
   },
   {
    "duration": 282,
    "start_time": "2023-04-05T09:19:09.491Z"
   },
   {
    "duration": 23000,
    "start_time": "2023-04-05T09:33:13.603Z"
   },
   {
    "duration": 4770,
    "start_time": "2023-04-05T09:34:28.329Z"
   },
   {
    "duration": 4819,
    "start_time": "2023-04-05T09:35:36.010Z"
   },
   {
    "duration": 3099,
    "start_time": "2023-04-05T09:37:23.331Z"
   },
   {
    "duration": 3647,
    "start_time": "2023-04-05T09:37:41.889Z"
   },
   {
    "duration": 4910,
    "start_time": "2023-04-05T09:38:06.069Z"
   },
   {
    "duration": 5010,
    "start_time": "2023-04-05T09:39:17.985Z"
   },
   {
    "duration": 19479,
    "start_time": "2023-04-05T09:39:43.024Z"
   },
   {
    "duration": 2118,
    "start_time": "2023-04-05T12:29:22.383Z"
   },
   {
    "duration": 222,
    "start_time": "2023-04-05T12:29:24.504Z"
   },
   {
    "duration": 19,
    "start_time": "2023-04-05T12:29:24.729Z"
   },
   {
    "duration": 44,
    "start_time": "2023-04-05T12:29:24.750Z"
   },
   {
    "duration": 9,
    "start_time": "2023-04-05T12:29:24.797Z"
   },
   {
    "duration": 26,
    "start_time": "2023-04-05T12:29:24.808Z"
   },
   {
    "duration": 29,
    "start_time": "2023-04-05T12:29:24.836Z"
   },
   {
    "duration": 88,
    "start_time": "2023-04-05T12:29:24.868Z"
   },
   {
    "duration": 48,
    "start_time": "2023-04-05T12:29:24.957Z"
   },
   {
    "duration": 22,
    "start_time": "2023-04-05T12:29:25.007Z"
   },
   {
    "duration": 6,
    "start_time": "2023-04-05T12:29:25.031Z"
   },
   {
    "duration": 1123,
    "start_time": "2023-04-05T12:29:25.040Z"
   },
   {
    "duration": 19,
    "start_time": "2023-04-05T12:29:26.165Z"
   },
   {
    "duration": 111,
    "start_time": "2023-04-05T12:29:26.192Z"
   },
   {
    "duration": 40,
    "start_time": "2023-04-05T12:29:26.306Z"
   },
   {
    "duration": 943,
    "start_time": "2023-04-05T12:29:26.349Z"
   },
   {
    "duration": 70,
    "start_time": "2023-04-05T12:29:27.294Z"
   },
   {
    "duration": 130,
    "start_time": "2023-04-05T12:29:27.370Z"
   },
   {
    "duration": 54,
    "start_time": "2023-04-05T12:29:27.503Z"
   },
   {
    "duration": 6,
    "start_time": "2023-04-05T12:29:27.562Z"
   },
   {
    "duration": 31,
    "start_time": "2023-04-05T12:29:27.570Z"
   },
   {
    "duration": 797,
    "start_time": "2023-04-05T12:29:27.603Z"
   },
   {
    "duration": 11,
    "start_time": "2023-04-05T12:29:28.401Z"
   },
   {
    "duration": 130,
    "start_time": "2023-04-05T12:29:28.414Z"
   },
   {
    "duration": 29,
    "start_time": "2023-04-05T12:29:28.546Z"
   },
   {
    "duration": 320,
    "start_time": "2023-04-05T12:29:28.580Z"
   },
   {
    "duration": 8,
    "start_time": "2023-04-05T12:29:28.903Z"
   },
   {
    "duration": 39,
    "start_time": "2023-04-05T12:29:28.913Z"
   },
   {
    "duration": 27,
    "start_time": "2023-04-05T12:29:28.955Z"
   },
   {
    "duration": 1256,
    "start_time": "2023-04-05T12:29:28.984Z"
   },
   {
    "duration": 121,
    "start_time": "2023-04-05T12:29:30.243Z"
   },
   {
    "duration": 1215,
    "start_time": "2023-04-05T12:29:30.371Z"
   },
   {
    "duration": 61,
    "start_time": "2023-04-05T12:29:31.588Z"
   },
   {
    "duration": 128053,
    "start_time": "2023-04-05T12:29:41.108Z"
   },
   {
    "duration": 1601,
    "start_time": "2023-04-05T12:38:54.029Z"
   },
   {
    "duration": 1476,
    "start_time": "2023-04-05T12:39:28.177Z"
   },
   {
    "duration": 1608,
    "start_time": "2023-04-05T12:39:41.559Z"
   },
   {
    "duration": 1787,
    "start_time": "2023-04-05T12:40:14.585Z"
   },
   {
    "duration": 17,
    "start_time": "2023-04-05T12:47:12.426Z"
   },
   {
    "duration": 94,
    "start_time": "2023-04-05T12:47:27.659Z"
   },
   {
    "duration": 9,
    "start_time": "2023-04-05T12:47:30.363Z"
   },
   {
    "duration": 11,
    "start_time": "2023-04-05T12:47:45.910Z"
   },
   {
    "duration": 12,
    "start_time": "2023-04-05T12:53:41.758Z"
   },
   {
    "duration": 7,
    "start_time": "2023-04-05T12:58:22.694Z"
   },
   {
    "duration": 11,
    "start_time": "2023-04-05T12:58:25.185Z"
   },
   {
    "duration": 1473,
    "start_time": "2023-04-05T13:03:16.147Z"
   },
   {
    "duration": 1130,
    "start_time": "2023-04-05T13:07:24.176Z"
   },
   {
    "duration": 1615,
    "start_time": "2023-04-05T13:08:37.556Z"
   },
   {
    "duration": 46,
    "start_time": "2023-04-05T13:08:39.174Z"
   },
   {
    "duration": 14,
    "start_time": "2023-04-05T13:08:39.223Z"
   },
   {
    "duration": 54,
    "start_time": "2023-04-05T13:08:39.240Z"
   },
   {
    "duration": 8,
    "start_time": "2023-04-05T13:08:39.295Z"
   },
   {
    "duration": 25,
    "start_time": "2023-04-05T13:08:39.305Z"
   },
   {
    "duration": 23,
    "start_time": "2023-04-05T13:08:39.332Z"
   },
   {
    "duration": 41,
    "start_time": "2023-04-05T13:08:39.357Z"
   },
   {
    "duration": 20,
    "start_time": "2023-04-05T13:08:39.399Z"
   },
   {
    "duration": 38,
    "start_time": "2023-04-05T13:08:39.423Z"
   },
   {
    "duration": 5,
    "start_time": "2023-04-05T13:08:39.463Z"
   },
   {
    "duration": 969,
    "start_time": "2023-04-05T13:08:39.471Z"
   },
   {
    "duration": 10,
    "start_time": "2023-04-05T13:08:40.442Z"
   },
   {
    "duration": 19,
    "start_time": "2023-04-05T13:08:40.453Z"
   },
   {
    "duration": 22,
    "start_time": "2023-04-05T13:08:40.474Z"
   },
   {
    "duration": 853,
    "start_time": "2023-04-05T13:08:40.498Z"
   },
   {
    "duration": 83,
    "start_time": "2023-04-05T13:08:41.362Z"
   },
   {
    "duration": 51,
    "start_time": "2023-04-05T13:08:41.447Z"
   },
   {
    "duration": 58,
    "start_time": "2023-04-05T13:08:41.499Z"
   },
   {
    "duration": 4,
    "start_time": "2023-04-05T13:08:41.559Z"
   },
   {
    "duration": 40,
    "start_time": "2023-04-05T13:08:41.564Z"
   },
   {
    "duration": 761,
    "start_time": "2023-04-05T13:08:41.606Z"
   },
   {
    "duration": 10,
    "start_time": "2023-04-05T13:08:42.369Z"
   },
   {
    "duration": 70,
    "start_time": "2023-04-05T13:08:42.380Z"
   },
   {
    "duration": 96,
    "start_time": "2023-04-05T13:08:42.452Z"
   },
   {
    "duration": 262,
    "start_time": "2023-04-05T13:08:42.550Z"
   },
   {
    "duration": 7,
    "start_time": "2023-04-05T13:08:42.814Z"
   },
   {
    "duration": 51,
    "start_time": "2023-04-05T13:08:42.824Z"
   },
   {
    "duration": 21,
    "start_time": "2023-04-05T13:08:42.877Z"
   },
   {
    "duration": 1157,
    "start_time": "2023-04-05T13:08:42.900Z"
   },
   {
    "duration": 124,
    "start_time": "2023-04-05T13:08:44.142Z"
   },
   {
    "duration": 1026,
    "start_time": "2023-04-05T13:08:44.268Z"
   },
   {
    "duration": 51,
    "start_time": "2023-04-05T13:08:45.295Z"
   },
   {
    "duration": 124169,
    "start_time": "2023-04-05T13:08:45.348Z"
   },
   {
    "duration": 1598,
    "start_time": "2023-04-05T13:10:49.519Z"
   },
   {
    "duration": 1212,
    "start_time": "2023-04-05T13:11:03.414Z"
   },
   {
    "duration": 171,
    "start_time": "2023-04-05T13:12:48.908Z"
   },
   {
    "duration": 13,
    "start_time": "2023-04-05T13:15:37.463Z"
   },
   {
    "duration": 71,
    "start_time": "2023-04-05T13:19:49.881Z"
   },
   {
    "duration": 270,
    "start_time": "2023-04-05T13:20:15.401Z"
   },
   {
    "duration": 2049,
    "start_time": "2023-04-05T14:47:13.632Z"
   },
   {
    "duration": 43,
    "start_time": "2023-04-05T14:47:15.683Z"
   },
   {
    "duration": 16,
    "start_time": "2023-04-05T14:47:15.728Z"
   },
   {
    "duration": 22,
    "start_time": "2023-04-05T14:47:15.750Z"
   },
   {
    "duration": 9,
    "start_time": "2023-04-05T14:47:15.774Z"
   },
   {
    "duration": 29,
    "start_time": "2023-04-05T14:47:15.785Z"
   },
   {
    "duration": 35,
    "start_time": "2023-04-05T14:47:15.815Z"
   },
   {
    "duration": 28,
    "start_time": "2023-04-05T14:47:15.852Z"
   },
   {
    "duration": 21,
    "start_time": "2023-04-05T14:47:15.882Z"
   },
   {
    "duration": 47,
    "start_time": "2023-04-05T14:47:15.906Z"
   },
   {
    "duration": 5,
    "start_time": "2023-04-05T14:47:15.955Z"
   },
   {
    "duration": 997,
    "start_time": "2023-04-05T14:47:15.961Z"
   },
   {
    "duration": 19,
    "start_time": "2023-04-05T14:47:17.033Z"
   },
   {
    "duration": 14,
    "start_time": "2023-04-05T14:47:17.056Z"
   },
   {
    "duration": 18,
    "start_time": "2023-04-05T14:47:17.072Z"
   },
   {
    "duration": 943,
    "start_time": "2023-04-05T14:47:17.093Z"
   },
   {
    "duration": 10,
    "start_time": "2023-04-05T14:47:18.041Z"
   },
   {
    "duration": 106,
    "start_time": "2023-04-05T14:47:18.053Z"
   },
   {
    "duration": 42,
    "start_time": "2023-04-05T14:47:18.161Z"
   },
   {
    "duration": 3,
    "start_time": "2023-04-05T14:47:18.205Z"
   },
   {
    "duration": 15,
    "start_time": "2023-04-05T14:47:18.210Z"
   },
   {
    "duration": 841,
    "start_time": "2023-04-05T14:47:18.227Z"
   },
   {
    "duration": 12,
    "start_time": "2023-04-05T14:47:19.069Z"
   },
   {
    "duration": 66,
    "start_time": "2023-04-05T14:47:19.082Z"
   },
   {
    "duration": 105,
    "start_time": "2023-04-05T14:47:19.151Z"
   },
   {
    "duration": 254,
    "start_time": "2023-04-05T14:47:19.336Z"
   },
   {
    "duration": 6,
    "start_time": "2023-04-05T14:47:19.591Z"
   },
   {
    "duration": 36,
    "start_time": "2023-04-05T14:47:19.600Z"
   },
   {
    "duration": 25,
    "start_time": "2023-04-05T14:47:19.638Z"
   },
   {
    "duration": 1279,
    "start_time": "2023-04-05T14:47:19.665Z"
   },
   {
    "duration": 134,
    "start_time": "2023-04-05T14:47:20.946Z"
   },
   {
    "duration": 1150,
    "start_time": "2023-04-05T14:47:21.083Z"
   },
   {
    "duration": 108,
    "start_time": "2023-04-05T14:47:22.235Z"
   },
   {
    "duration": 130265,
    "start_time": "2023-04-05T14:47:22.346Z"
   },
   {
    "duration": 1644,
    "start_time": "2023-04-05T14:49:32.612Z"
   },
   {
    "duration": 195,
    "start_time": "2023-04-05T14:49:34.258Z"
   },
   {
    "duration": 7,
    "start_time": "2023-04-05T14:49:34.454Z"
   },
   {
    "duration": 10,
    "start_time": "2023-04-05T14:49:34.462Z"
   },
   {
    "duration": 94,
    "start_time": "2023-04-05T14:49:34.474Z"
   },
   {
    "duration": 281,
    "start_time": "2023-04-05T14:49:34.569Z"
   },
   {
    "duration": 1569,
    "start_time": "2023-04-06T06:46:34.158Z"
   },
   {
    "duration": 77,
    "start_time": "2023-04-06T06:46:35.730Z"
   },
   {
    "duration": 16,
    "start_time": "2023-04-06T06:46:35.809Z"
   },
   {
    "duration": 18,
    "start_time": "2023-04-06T06:46:35.826Z"
   },
   {
    "duration": 7,
    "start_time": "2023-04-06T06:46:41.274Z"
   },
   {
    "duration": 107,
    "start_time": "2023-04-06T07:02:08.921Z"
   },
   {
    "duration": 4,
    "start_time": "2023-04-06T07:02:13.176Z"
   },
   {
    "duration": 40,
    "start_time": "2023-04-06T07:02:13.181Z"
   },
   {
    "duration": 13,
    "start_time": "2023-04-06T07:02:13.223Z"
   },
   {
    "duration": 13,
    "start_time": "2023-04-06T07:02:13.238Z"
   },
   {
    "duration": 9,
    "start_time": "2023-04-06T07:02:13.253Z"
   },
   {
    "duration": 21,
    "start_time": "2023-04-06T07:02:13.264Z"
   },
   {
    "duration": 16,
    "start_time": "2023-04-06T07:02:13.287Z"
   },
   {
    "duration": 27,
    "start_time": "2023-04-06T07:02:13.305Z"
   },
   {
    "duration": 20,
    "start_time": "2023-04-06T07:02:13.361Z"
   },
   {
    "duration": 19,
    "start_time": "2023-04-06T07:02:13.383Z"
   },
   {
    "duration": 4,
    "start_time": "2023-04-06T07:02:13.405Z"
   },
   {
    "duration": 855,
    "start_time": "2023-04-06T07:02:13.411Z"
   },
   {
    "duration": 100,
    "start_time": "2023-04-06T07:02:14.268Z"
   },
   {
    "duration": 97,
    "start_time": "2023-04-06T07:02:14.371Z"
   },
   {
    "duration": 6,
    "start_time": "2023-04-06T07:02:14.469Z"
   },
   {
    "duration": 786,
    "start_time": "2023-04-06T07:02:14.477Z"
   },
   {
    "duration": 97,
    "start_time": "2023-04-06T07:02:15.266Z"
   },
   {
    "duration": 98,
    "start_time": "2023-04-06T07:02:15.365Z"
   },
   {
    "duration": 38,
    "start_time": "2023-04-06T07:02:15.464Z"
   },
   {
    "duration": 3,
    "start_time": "2023-04-06T07:02:15.504Z"
   },
   {
    "duration": 14,
    "start_time": "2023-04-06T07:02:15.509Z"
   },
   {
    "duration": 46,
    "start_time": "2023-04-06T07:02:20.786Z"
   },
   {
    "duration": 90025,
    "start_time": "2023-04-06T07:02:54.686Z"
   },
   {
    "duration": 8,
    "start_time": "2023-04-06T07:06:46.626Z"
   },
   {
    "duration": 66,
    "start_time": "2023-04-06T07:12:50.991Z"
   },
   {
    "duration": 6,
    "start_time": "2023-04-06T07:13:30.964Z"
   },
   {
    "duration": 3,
    "start_time": "2023-04-06T07:14:22.606Z"
   },
   {
    "duration": 11,
    "start_time": "2023-04-06T07:14:24.856Z"
   },
   {
    "duration": 89087,
    "start_time": "2023-04-06T07:15:41.095Z"
   },
   {
    "duration": 18,
    "start_time": "2023-04-06T07:17:10.185Z"
   },
   {
    "duration": 6,
    "start_time": "2023-04-06T07:17:14.916Z"
   },
   {
    "duration": 10,
    "start_time": "2023-04-06T07:17:21.271Z"
   },
   {
    "duration": 975,
    "start_time": "2023-04-06T07:18:13.550Z"
   },
   {
    "duration": 7,
    "start_time": "2023-04-06T07:18:25.160Z"
   },
   {
    "duration": 12,
    "start_time": "2023-04-06T07:18:44.556Z"
   },
   {
    "duration": 4,
    "start_time": "2023-04-06T07:25:12.198Z"
   },
   {
    "duration": 10,
    "start_time": "2023-04-06T07:25:15.016Z"
   },
   {
    "duration": 8,
    "start_time": "2023-04-06T07:30:02.522Z"
   },
   {
    "duration": 9,
    "start_time": "2023-04-06T07:31:10.117Z"
   },
   {
    "duration": 81,
    "start_time": "2023-04-06T07:31:19.887Z"
   },
   {
    "duration": 9,
    "start_time": "2023-04-06T07:31:24.483Z"
   },
   {
    "duration": 79,
    "start_time": "2023-04-06T07:34:35.654Z"
   },
   {
    "duration": 66,
    "start_time": "2023-04-06T07:36:21.274Z"
   },
   {
    "duration": 11,
    "start_time": "2023-04-06T07:42:40.286Z"
   },
   {
    "duration": 9,
    "start_time": "2023-04-06T07:42:47.640Z"
   },
   {
    "duration": 6,
    "start_time": "2023-04-06T07:42:51.423Z"
   },
   {
    "duration": 13,
    "start_time": "2023-04-06T07:42:53.860Z"
   },
   {
    "duration": 102,
    "start_time": "2023-04-06T07:42:58.712Z"
   },
   {
    "duration": 191,
    "start_time": "2023-04-06T07:43:16.993Z"
   },
   {
    "duration": 125286,
    "start_time": "2023-04-06T07:45:30.289Z"
   },
   {
    "duration": 9,
    "start_time": "2023-04-06T07:49:28.817Z"
   },
   {
    "duration": 1277,
    "start_time": "2023-04-06T07:51:25.317Z"
   },
   {
    "duration": 105,
    "start_time": "2023-04-06T07:53:44.561Z"
   },
   {
    "duration": 71,
    "start_time": "2023-04-06T07:58:21.231Z"
   },
   {
    "duration": 112,
    "start_time": "2023-04-06T08:03:47.049Z"
   },
   {
    "duration": 77,
    "start_time": "2023-04-06T08:06:29.086Z"
   },
   {
    "duration": 110,
    "start_time": "2023-04-06T08:06:48.148Z"
   },
   {
    "duration": 111,
    "start_time": "2023-04-06T08:08:03.627Z"
   },
   {
    "duration": 127,
    "start_time": "2023-04-06T08:08:27.398Z"
   },
   {
    "duration": 11,
    "start_time": "2023-04-06T08:09:48.058Z"
   },
   {
    "duration": 71,
    "start_time": "2023-04-06T08:17:56.084Z"
   },
   {
    "duration": 201,
    "start_time": "2023-04-06T08:18:48.001Z"
   },
   {
    "duration": 4,
    "start_time": "2023-04-06T08:34:06.582Z"
   },
   {
    "duration": 4,
    "start_time": "2023-04-06T08:35:39.744Z"
   },
   {
    "duration": 10,
    "start_time": "2023-04-06T08:35:48.103Z"
   },
   {
    "duration": 19,
    "start_time": "2023-04-06T08:36:03.653Z"
   },
   {
    "duration": 31,
    "start_time": "2023-04-06T08:36:13.835Z"
   },
   {
    "duration": 18,
    "start_time": "2023-04-06T08:36:17.110Z"
   },
   {
    "duration": 36,
    "start_time": "2023-04-06T08:36:20.439Z"
   }
  ],
  "kernelspec": {
   "display_name": "Python 3 (ipykernel)",
   "language": "python",
   "name": "python3"
  },
  "language_info": {
   "codemirror_mode": {
    "name": "ipython",
    "version": 3
   },
   "file_extension": ".py",
   "mimetype": "text/x-python",
   "name": "python",
   "nbconvert_exporter": "python",
   "pygments_lexer": "ipython3",
   "version": "3.9.5"
  },
  "toc": {
   "base_numbering": 1,
   "nav_menu": {},
   "number_sections": true,
   "sideBar": true,
   "skip_h1_title": true,
   "title_cell": "Содержание",
   "title_sidebar": "Contents",
   "toc_cell": true,
   "toc_position": {},
   "toc_section_display": true,
   "toc_window_display": false
  }
 },
 "nbformat": 4,
 "nbformat_minor": 2
}
