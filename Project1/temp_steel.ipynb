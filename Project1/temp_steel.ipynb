{
 "cells": [
  {
   "cell_type": "markdown",
   "metadata": {},
   "source": [
    "# Проект \"ПРОГНОЗИРОВАНИЕ ТЕМПЕРАТУРЫ СТАЛИ\""
   ]
  },
  {
   "cell_type": "markdown",
   "metadata": {},
   "source": [
    "**Цель:** Цель нашей работы - предсказать конечную температуру стали путем подстановки в выбранную модель, которая полностью имитирует технологический процесс, разных параметров. Тем самым мы поможет заказчику избежать лишнего нагрева, и как следствие сократить затраты на электроэнергию."
   ]
  },
  {
   "cell_type": "markdown",
   "metadata": {},
   "source": [
    "**План работы:**\n",
    "1. [Знакомство с таблицами. Подготовка данных. Исследовательский анализ каждой таблицы - приведение к нужным типам данных, переименование столбцов, устранение пропусков, аномалий.](#view)\n",
    "2. [Подготовка финальной таблицы с признаками. Выберем наиболее важные признаки, влияющие на нагрев и добавим новые. Также выделим целевой признак.](#final)\n",
    "3. [Выбор моделей регрессии. Проверка константной модели. Обучение моделей. Выбор модели с лучшими результатами.](#model) \n",
    "4. [Проверка выбранной модели на тестовых данных.](#test)\n",
    "5. [Составление итогового отчета.](#conclusion)"
   ]
  },
  {
   "cell_type": "code",
   "execution_count": 1,
   "metadata": {},
   "outputs": [],
   "source": [
    "import pandas as pd\n",
    "import matplotlib.pyplot as plt\n",
    "import numpy as np\n",
    "import warnings\n",
    "\n",
    "from sklearn.metrics import mean_absolute_error\n",
    "from sklearn.preprocessing import StandardScaler\n",
    "from sklearn.model_selection import train_test_split, cross_val_score, GridSearchCV\n",
    "\n",
    "from sklearn.dummy import DummyRegressor\n",
    "from sklearn.ensemble import RandomForestRegressor\n",
    "from catboost import CatBoostRegressor\n",
    "from lightgbm import LGBMRegressor\n",
    "import sklearn.model_selection as ms\n",
    "\n",
    "warnings.filterwarnings('ignore')"
   ]
  },
  {
   "cell_type": "markdown",
   "metadata": {},
   "source": [
    "## Подготовка данных <a id='view'></a>"
   ]
  },
  {
   "cell_type": "markdown",
   "metadata": {},
   "source": [
    "### Данные об электродах"
   ]
  },
  {
   "cell_type": "code",
   "execution_count": 2,
   "metadata": {},
   "outputs": [
    {
     "data": {
      "text/html": [
       "<div>\n",
       "<style scoped>\n",
       "    .dataframe tbody tr th:only-of-type {\n",
       "        vertical-align: middle;\n",
       "    }\n",
       "\n",
       "    .dataframe tbody tr th {\n",
       "        vertical-align: top;\n",
       "    }\n",
       "\n",
       "    .dataframe thead th {\n",
       "        text-align: right;\n",
       "    }\n",
       "</style>\n",
       "<table border=\"1\" class=\"dataframe\">\n",
       "  <thead>\n",
       "    <tr style=\"text-align: right;\">\n",
       "      <th></th>\n",
       "      <th>key</th>\n",
       "      <th>Начало нагрева дугой</th>\n",
       "      <th>Конец нагрева дугой</th>\n",
       "      <th>Активная мощность</th>\n",
       "      <th>Реактивная мощность</th>\n",
       "    </tr>\n",
       "  </thead>\n",
       "  <tbody>\n",
       "    <tr>\n",
       "      <th>0</th>\n",
       "      <td>1</td>\n",
       "      <td>2019-05-03 11:02:14</td>\n",
       "      <td>2019-05-03 11:06:02</td>\n",
       "      <td>0.305130</td>\n",
       "      <td>0.211253</td>\n",
       "    </tr>\n",
       "    <tr>\n",
       "      <th>1</th>\n",
       "      <td>1</td>\n",
       "      <td>2019-05-03 11:07:28</td>\n",
       "      <td>2019-05-03 11:10:33</td>\n",
       "      <td>0.765658</td>\n",
       "      <td>0.477438</td>\n",
       "    </tr>\n",
       "    <tr>\n",
       "      <th>2</th>\n",
       "      <td>1</td>\n",
       "      <td>2019-05-03 11:11:44</td>\n",
       "      <td>2019-05-03 11:14:36</td>\n",
       "      <td>0.580313</td>\n",
       "      <td>0.430460</td>\n",
       "    </tr>\n",
       "    <tr>\n",
       "      <th>3</th>\n",
       "      <td>1</td>\n",
       "      <td>2019-05-03 11:18:14</td>\n",
       "      <td>2019-05-03 11:24:19</td>\n",
       "      <td>0.518496</td>\n",
       "      <td>0.379979</td>\n",
       "    </tr>\n",
       "    <tr>\n",
       "      <th>4</th>\n",
       "      <td>1</td>\n",
       "      <td>2019-05-03 11:26:09</td>\n",
       "      <td>2019-05-03 11:28:37</td>\n",
       "      <td>0.867133</td>\n",
       "      <td>0.643691</td>\n",
       "    </tr>\n",
       "  </tbody>\n",
       "</table>\n",
       "</div>"
      ],
      "text/plain": [
       "   key Начало нагрева дугой  Конец нагрева дугой  Активная мощность  \\\n",
       "0    1  2019-05-03 11:02:14  2019-05-03 11:06:02           0.305130   \n",
       "1    1  2019-05-03 11:07:28  2019-05-03 11:10:33           0.765658   \n",
       "2    1  2019-05-03 11:11:44  2019-05-03 11:14:36           0.580313   \n",
       "3    1  2019-05-03 11:18:14  2019-05-03 11:24:19           0.518496   \n",
       "4    1  2019-05-03 11:26:09  2019-05-03 11:28:37           0.867133   \n",
       "\n",
       "   Реактивная мощность  \n",
       "0             0.211253  \n",
       "1             0.477438  \n",
       "2             0.430460  \n",
       "3             0.379979  \n",
       "4             0.643691  "
      ]
     },
     "metadata": {},
     "output_type": "display_data"
    },
    {
     "name": "stdout",
     "output_type": "stream",
     "text": [
      "<class 'pandas.core.frame.DataFrame'>\n",
      "RangeIndex: 14876 entries, 0 to 14875\n",
      "Data columns (total 5 columns):\n",
      " #   Column                Non-Null Count  Dtype  \n",
      "---  ------                --------------  -----  \n",
      " 0   key                   14876 non-null  int64  \n",
      " 1   Начало нагрева дугой  14876 non-null  object \n",
      " 2   Конец нагрева дугой   14876 non-null  object \n",
      " 3   Активная мощность     14876 non-null  float64\n",
      " 4   Реактивная мощность   14876 non-null  float64\n",
      "dtypes: float64(2), int64(1), object(2)\n",
      "memory usage: 581.2+ KB\n"
     ]
    }
   ],
   "source": [
    "data_arc = pd.read_csv('/datasets/data_arc_new.csv')\n",
    "display(data_arc.head())\n",
    "data_arc.info()"
   ]
  },
  {
   "cell_type": "markdown",
   "metadata": {},
   "source": [
    "Переименуем названия стоблцов. Пропусков в таблице нет. Столбцы с датам приведем нужному типу."
   ]
  },
  {
   "cell_type": "code",
   "execution_count": 3,
   "metadata": {},
   "outputs": [],
   "source": [
    "data_arc.columns = ['key', 'start_time','end_time', 'active_power', 'reactive_power']"
   ]
  },
  {
   "cell_type": "code",
   "execution_count": 4,
   "metadata": {},
   "outputs": [
    {
     "name": "stdout",
     "output_type": "stream",
     "text": [
      "<class 'pandas.core.frame.DataFrame'>\n",
      "RangeIndex: 14876 entries, 0 to 14875\n",
      "Data columns (total 5 columns):\n",
      " #   Column          Non-Null Count  Dtype         \n",
      "---  ------          --------------  -----         \n",
      " 0   key             14876 non-null  int64         \n",
      " 1   start_time      14876 non-null  datetime64[ns]\n",
      " 2   end_time        14876 non-null  datetime64[ns]\n",
      " 3   active_power    14876 non-null  float64       \n",
      " 4   reactive_power  14876 non-null  float64       \n",
      "dtypes: datetime64[ns](2), float64(2), int64(1)\n",
      "memory usage: 581.2 KB\n"
     ]
    }
   ],
   "source": [
    "data_arc['start_time'] = pd.to_datetime(data_arc['start_time'])\n",
    "data_arc['end_time'] = pd.to_datetime(data_arc['end_time'])\n",
    "data_arc.info()"
   ]
  },
  {
   "cell_type": "markdown",
   "metadata": {},
   "source": [
    "Посмотрим с помощью графика сколько раз обычно нагревают одну партию."
   ]
  },
  {
   "cell_type": "code",
   "execution_count": 5,
   "metadata": {},
   "outputs": [
    {
     "data": {
      "image/png": "[encoded data removed]",
      "text/plain": [
       "<Figure size 432x288 with 1 Axes>"
      ]
     },
     "metadata": {
      "needs_background": "light"
     },
     "output_type": "display_data"
    }
   ],
   "source": [
    "plt.figure()\n",
    "ax = data_arc.groupby('key')['active_power'].count().hist()\n",
    "ax.set_title('Распределение количества итераций нагрева разных партий')\n",
    "ax.set_ylabel('Количество')\n",
    "ax.set_xlabel('Количество итераций нагрева в одной партии')\n",
    "plt.show()"
   ]
  },
  {
   "cell_type": "markdown",
   "metadata": {},
   "source": [
    "Чаще всего в партии 5 итераций нагрева."
   ]
  },
  {
   "cell_type": "markdown",
   "metadata": {},
   "source": [
    "Теперь посмотрим гистограммы для мощностей - активной и реактивной."
   ]
  },
  {
   "cell_type": "code",
   "execution_count": 6,
   "metadata": {},
   "outputs": [
    {
     "data": {
      "image/png": "[encoded data removed]",
      "text/plain": [
       "<Figure size 432x288 with 1 Axes>"
      ]
     },
     "metadata": {
      "needs_background": "light"
     },
     "output_type": "display_data"
    }
   ],
   "source": [
    "plt.figure()\n",
    "ax = data_arc['active_power'].hist()\n",
    "ax.set_title('Распределение активной мощности нагрева')\n",
    "ax.set_ylabel('Количество')\n",
    "ax.set_xlabel('Активная мощность')\n",
    "plt.show()"
   ]
  },
  {
   "cell_type": "code",
   "execution_count": 7,
   "metadata": {},
   "outputs": [
    {
     "data": {
      "image/png": "[encoded data removed]",
      "text/plain": [
       "<Figure size 432x288 with 1 Axes>"
      ]
     },
     "metadata": {
      "needs_background": "light"
     },
     "output_type": "display_data"
    }
   ],
   "source": [
    "plt.figure()\n",
    "ax = data_arc['reactive_power'].hist()\n",
    "ax.set_title('Распределение реактивной мощности нагрева')\n",
    "ax.set_ylabel('Количество')\n",
    "ax.set_xlabel('Реактивная мощность')\n",
    "plt.show()"
   ]
  },
  {
   "cell_type": "markdown",
   "metadata": {},
   "source": [
    "Есть аномалия - отрицательное значение. Просмотрим 5 самых низких значений в реактивной мощности."
   ]
  },
  {
   "cell_type": "code",
   "execution_count": 8,
   "metadata": {},
   "outputs": [
    {
     "data": {
      "text/html": [
       "<div>\n",
       "<style scoped>\n",
       "    .dataframe tbody tr th:only-of-type {\n",
       "        vertical-align: middle;\n",
       "    }\n",
       "\n",
       "    .dataframe tbody tr th {\n",
       "        vertical-align: top;\n",
       "    }\n",
       "\n",
       "    .dataframe thead th {\n",
       "        text-align: right;\n",
       "    }\n",
       "</style>\n",
       "<table border=\"1\" class=\"dataframe\">\n",
       "  <thead>\n",
       "    <tr style=\"text-align: right;\">\n",
       "      <th></th>\n",
       "      <th>key</th>\n",
       "      <th>start_time</th>\n",
       "      <th>end_time</th>\n",
       "      <th>active_power</th>\n",
       "      <th>reactive_power</th>\n",
       "    </tr>\n",
       "  </thead>\n",
       "  <tbody>\n",
       "    <tr>\n",
       "      <th>9780</th>\n",
       "      <td>2116</td>\n",
       "      <td>2019-07-28 02:22:08</td>\n",
       "      <td>2019-07-28 02:23:57</td>\n",
       "      <td>0.705344</td>\n",
       "      <td>-715.479924</td>\n",
       "    </tr>\n",
       "    <tr>\n",
       "      <th>709</th>\n",
       "      <td>152</td>\n",
       "      <td>2019-05-09 11:26:58</td>\n",
       "      <td>2019-05-09 11:29:41</td>\n",
       "      <td>0.228852</td>\n",
       "      <td>0.153777</td>\n",
       "    </tr>\n",
       "    <tr>\n",
       "      <th>3290</th>\n",
       "      <td>711</td>\n",
       "      <td>2019-05-31 07:16:01</td>\n",
       "      <td>2019-05-31 07:20:05</td>\n",
       "      <td>0.242989</td>\n",
       "      <td>0.153921</td>\n",
       "    </tr>\n",
       "    <tr>\n",
       "      <th>11794</th>\n",
       "      <td>2567</td>\n",
       "      <td>2019-08-13 05:51:16</td>\n",
       "      <td>2019-08-13 05:52:22</td>\n",
       "      <td>0.288314</td>\n",
       "      <td>0.155221</td>\n",
       "    </tr>\n",
       "    <tr>\n",
       "      <th>6130</th>\n",
       "      <td>1336</td>\n",
       "      <td>2019-06-22 15:46:26</td>\n",
       "      <td>2019-06-22 15:47:50</td>\n",
       "      <td>0.244191</td>\n",
       "      <td>0.156525</td>\n",
       "    </tr>\n",
       "  </tbody>\n",
       "</table>\n",
       "</div>"
      ],
      "text/plain": [
       "        key          start_time            end_time  active_power  \\\n",
       "9780   2116 2019-07-28 02:22:08 2019-07-28 02:23:57      0.705344   \n",
       "709     152 2019-05-09 11:26:58 2019-05-09 11:29:41      0.228852   \n",
       "3290    711 2019-05-31 07:16:01 2019-05-31 07:20:05      0.242989   \n",
       "11794  2567 2019-08-13 05:51:16 2019-08-13 05:52:22      0.288314   \n",
       "6130   1336 2019-06-22 15:46:26 2019-06-22 15:47:50      0.244191   \n",
       "\n",
       "       reactive_power  \n",
       "9780      -715.479924  \n",
       "709          0.153777  \n",
       "3290         0.153921  \n",
       "11794        0.155221  \n",
       "6130         0.156525  "
      ]
     },
     "execution_count": 8,
     "metadata": {},
     "output_type": "execute_result"
    }
   ],
   "source": [
    "data_arc.sort_values(by = ['reactive_power']).head()"
   ]
  },
  {
   "cell_type": "markdown",
   "metadata": {},
   "source": [
    "Отрицательное значение только одно. Скорее всего оно связано со сбоем в работе оборудования. Удалим его."
   ]
  },
  {
   "cell_type": "code",
   "execution_count": 9,
   "metadata": {},
   "outputs": [],
   "source": [
    "data_arc = data_arc.query('key != 2116')"
   ]
  },
  {
   "cell_type": "code",
   "execution_count": 10,
   "metadata": {},
   "outputs": [
    {
     "data": {
      "image/png": "[encoded data removed]",
      "text/plain": [
       "<Figure size 432x288 with 1 Axes>"
      ]
     },
     "metadata": {
      "needs_background": "light"
     },
     "output_type": "display_data"
    }
   ],
   "source": [
    "plt.figure()\n",
    "ax = data_arc['reactive_power'].hist()\n",
    "ax.set_title('Распределение реактивной мощности нагрева')\n",
    "ax.set_ylabel('Количество')\n",
    "ax.set_xlabel('Реактивная мощность')\n",
    "plt.show()"
   ]
  },
  {
   "cell_type": "markdown",
   "metadata": {},
   "source": [
    "Выброса больше нет. \n",
    "\n",
    "Далее составим сгруппированную по сумме таблицу по key."
   ]
  },
  {
   "cell_type": "code",
   "execution_count": 11,
   "metadata": {
    "scrolled": true
   },
   "outputs": [
    {
     "data": {
      "text/html": [
       "<div>\n",
       "<style scoped>\n",
       "    .dataframe tbody tr th:only-of-type {\n",
       "        vertical-align: middle;\n",
       "    }\n",
       "\n",
       "    .dataframe tbody tr th {\n",
       "        vertical-align: top;\n",
       "    }\n",
       "\n",
       "    .dataframe thead th {\n",
       "        text-align: right;\n",
       "    }\n",
       "</style>\n",
       "<table border=\"1\" class=\"dataframe\">\n",
       "  <thead>\n",
       "    <tr style=\"text-align: right;\">\n",
       "      <th></th>\n",
       "      <th>sum_active_power</th>\n",
       "      <th>sum_reactive_power</th>\n",
       "    </tr>\n",
       "    <tr>\n",
       "      <th>key</th>\n",
       "      <th></th>\n",
       "      <th></th>\n",
       "    </tr>\n",
       "  </thead>\n",
       "  <tbody>\n",
       "    <tr>\n",
       "      <th>1</th>\n",
       "      <td>3.036730</td>\n",
       "      <td>2.142821</td>\n",
       "    </tr>\n",
       "    <tr>\n",
       "      <th>2</th>\n",
       "      <td>2.139408</td>\n",
       "      <td>1.453357</td>\n",
       "    </tr>\n",
       "    <tr>\n",
       "      <th>3</th>\n",
       "      <td>4.063641</td>\n",
       "      <td>2.937457</td>\n",
       "    </tr>\n",
       "    <tr>\n",
       "      <th>4</th>\n",
       "      <td>2.706489</td>\n",
       "      <td>2.056992</td>\n",
       "    </tr>\n",
       "    <tr>\n",
       "      <th>5</th>\n",
       "      <td>2.252950</td>\n",
       "      <td>1.687991</td>\n",
       "    </tr>\n",
       "  </tbody>\n",
       "</table>\n",
       "</div>"
      ],
      "text/plain": [
       "     sum_active_power  sum_reactive_power\n",
       "key                                      \n",
       "1            3.036730            2.142821\n",
       "2            2.139408            1.453357\n",
       "3            4.063641            2.937457\n",
       "4            2.706489            2.056992\n",
       "5            2.252950            1.687991"
      ]
     },
     "execution_count": 11,
     "metadata": {},
     "output_type": "execute_result"
    }
   ],
   "source": [
    "data_arc_sum = pd.pivot_table(data_arc,\n",
    "                             values=['active_power','reactive_power'],\n",
    "                             index='key',\n",
    "                             aggfunc={'active_power': np.sum,\n",
    "                                      'reactive_power': np.sum})\n",
    "data_arc_sum.columns = ['sum_active_power','sum_reactive_power']\n",
    "data_arc_sum.head()"
   ]
  },
  {
   "cell_type": "markdown",
   "metadata": {},
   "source": [
    "Теперь посчитаем полную мощность по формуле корня квадратного из суммы квадратов активной и реактивной мощностей. Зафиксируем в итоговой таблице."
   ]
  },
  {
   "cell_type": "code",
   "execution_count": 12,
   "metadata": {},
   "outputs": [
    {
     "data": {
      "text/html": [
       "<div>\n",
       "<style scoped>\n",
       "    .dataframe tbody tr th:only-of-type {\n",
       "        vertical-align: middle;\n",
       "    }\n",
       "\n",
       "    .dataframe tbody tr th {\n",
       "        vertical-align: top;\n",
       "    }\n",
       "\n",
       "    .dataframe thead th {\n",
       "        text-align: right;\n",
       "    }\n",
       "</style>\n",
       "<table border=\"1\" class=\"dataframe\">\n",
       "  <thead>\n",
       "    <tr style=\"text-align: right;\">\n",
       "      <th></th>\n",
       "      <th>full_power</th>\n",
       "    </tr>\n",
       "    <tr>\n",
       "      <th>key</th>\n",
       "      <th></th>\n",
       "    </tr>\n",
       "  </thead>\n",
       "  <tbody>\n",
       "    <tr>\n",
       "      <th>1</th>\n",
       "      <td>3.716640</td>\n",
       "    </tr>\n",
       "    <tr>\n",
       "      <th>2</th>\n",
       "      <td>2.586371</td>\n",
       "    </tr>\n",
       "    <tr>\n",
       "      <th>3</th>\n",
       "      <td>5.014163</td>\n",
       "    </tr>\n",
       "    <tr>\n",
       "      <th>4</th>\n",
       "      <td>3.399456</td>\n",
       "    </tr>\n",
       "    <tr>\n",
       "      <th>5</th>\n",
       "      <td>2.815155</td>\n",
       "    </tr>\n",
       "  </tbody>\n",
       "</table>\n",
       "</div>"
      ],
      "text/plain": [
       "     full_power\n",
       "key            \n",
       "1      3.716640\n",
       "2      2.586371\n",
       "3      5.014163\n",
       "4      3.399456\n",
       "5      2.815155"
      ]
     },
     "execution_count": 12,
     "metadata": {},
     "output_type": "execute_result"
    }
   ],
   "source": [
    "data_arc_sum.insert(loc=2, \n",
    "                    column='full_power', \n",
    "                    value=(data_arc_sum['sum_active_power']**2 + data_arc_sum['sum_reactive_power']**2)**0.5)\n",
    "data_arc_full = data_arc_sum.drop(['sum_active_power', 'sum_reactive_power'], axis=1)\n",
    "data_arc_full.head()"
   ]
  },
  {
   "cell_type": "code",
   "execution_count": 13,
   "metadata": {},
   "outputs": [
    {
     "data": {
      "text/html": [
       "<div>\n",
       "<style scoped>\n",
       "    .dataframe tbody tr th:only-of-type {\n",
       "        vertical-align: middle;\n",
       "    }\n",
       "\n",
       "    .dataframe tbody tr th {\n",
       "        vertical-align: top;\n",
       "    }\n",
       "\n",
       "    .dataframe thead th {\n",
       "        text-align: right;\n",
       "    }\n",
       "</style>\n",
       "<table border=\"1\" class=\"dataframe\">\n",
       "  <thead>\n",
       "    <tr style=\"text-align: right;\">\n",
       "      <th></th>\n",
       "      <th>sum_active_power</th>\n",
       "      <th>sum_reactive_power</th>\n",
       "      <th>full_power</th>\n",
       "    </tr>\n",
       "  </thead>\n",
       "  <tbody>\n",
       "    <tr>\n",
       "      <th>count</th>\n",
       "      <td>3213.000000</td>\n",
       "      <td>3213.000000</td>\n",
       "      <td>3213.000000</td>\n",
       "    </tr>\n",
       "    <tr>\n",
       "      <th>mean</th>\n",
       "      <td>3.067683</td>\n",
       "      <td>2.254693</td>\n",
       "      <td>3.808130</td>\n",
       "    </tr>\n",
       "    <tr>\n",
       "      <th>std</th>\n",
       "      <td>1.208719</td>\n",
       "      <td>0.894787</td>\n",
       "      <td>1.501367</td>\n",
       "    </tr>\n",
       "    <tr>\n",
       "      <th>min</th>\n",
       "      <td>0.267676</td>\n",
       "      <td>0.196228</td>\n",
       "      <td>0.331897</td>\n",
       "    </tr>\n",
       "    <tr>\n",
       "      <th>25%</th>\n",
       "      <td>2.236693</td>\n",
       "      <td>1.631855</td>\n",
       "      <td>2.775108</td>\n",
       "    </tr>\n",
       "    <tr>\n",
       "      <th>50%</th>\n",
       "      <td>2.984607</td>\n",
       "      <td>2.177210</td>\n",
       "      <td>3.693377</td>\n",
       "    </tr>\n",
       "    <tr>\n",
       "      <th>75%</th>\n",
       "      <td>3.775574</td>\n",
       "      <td>2.788381</td>\n",
       "      <td>4.692685</td>\n",
       "    </tr>\n",
       "    <tr>\n",
       "      <th>max</th>\n",
       "      <td>12.375636</td>\n",
       "      <td>8.949049</td>\n",
       "      <td>15.272257</td>\n",
       "    </tr>\n",
       "  </tbody>\n",
       "</table>\n",
       "</div>"
      ],
      "text/plain": [
       "       sum_active_power  sum_reactive_power   full_power\n",
       "count       3213.000000         3213.000000  3213.000000\n",
       "mean           3.067683            2.254693     3.808130\n",
       "std            1.208719            0.894787     1.501367\n",
       "min            0.267676            0.196228     0.331897\n",
       "25%            2.236693            1.631855     2.775108\n",
       "50%            2.984607            2.177210     3.693377\n",
       "75%            3.775574            2.788381     4.692685\n",
       "max           12.375636            8.949049    15.272257"
      ]
     },
     "execution_count": 13,
     "metadata": {},
     "output_type": "execute_result"
    }
   ],
   "source": [
    "data_arc_sum.describe()"
   ]
  },
  {
   "cell_type": "markdown",
   "metadata": {},
   "source": [
    "Подготовим будущий дополнительный признак - общее время нагрева каждой партии."
   ]
  },
  {
   "cell_type": "code",
   "execution_count": 14,
   "metadata": {},
   "outputs": [
    {
     "data": {
      "text/html": [
       "<div>\n",
       "<style scoped>\n",
       "    .dataframe tbody tr th:only-of-type {\n",
       "        vertical-align: middle;\n",
       "    }\n",
       "\n",
       "    .dataframe tbody tr th {\n",
       "        vertical-align: top;\n",
       "    }\n",
       "\n",
       "    .dataframe thead th {\n",
       "        text-align: right;\n",
       "    }\n",
       "</style>\n",
       "<table border=\"1\" class=\"dataframe\">\n",
       "  <thead>\n",
       "    <tr style=\"text-align: right;\">\n",
       "      <th></th>\n",
       "      <th>key</th>\n",
       "      <th>start_time</th>\n",
       "      <th>end_time</th>\n",
       "      <th>active_power</th>\n",
       "      <th>reactive_power</th>\n",
       "      <th>time_heat</th>\n",
       "    </tr>\n",
       "  </thead>\n",
       "  <tbody>\n",
       "    <tr>\n",
       "      <th>0</th>\n",
       "      <td>1</td>\n",
       "      <td>2019-05-03 11:02:14</td>\n",
       "      <td>2019-05-03 11:06:02</td>\n",
       "      <td>0.305130</td>\n",
       "      <td>0.211253</td>\n",
       "      <td>228.0</td>\n",
       "    </tr>\n",
       "    <tr>\n",
       "      <th>1</th>\n",
       "      <td>1</td>\n",
       "      <td>2019-05-03 11:07:28</td>\n",
       "      <td>2019-05-03 11:10:33</td>\n",
       "      <td>0.765658</td>\n",
       "      <td>0.477438</td>\n",
       "      <td>185.0</td>\n",
       "    </tr>\n",
       "    <tr>\n",
       "      <th>2</th>\n",
       "      <td>1</td>\n",
       "      <td>2019-05-03 11:11:44</td>\n",
       "      <td>2019-05-03 11:14:36</td>\n",
       "      <td>0.580313</td>\n",
       "      <td>0.430460</td>\n",
       "      <td>172.0</td>\n",
       "    </tr>\n",
       "    <tr>\n",
       "      <th>3</th>\n",
       "      <td>1</td>\n",
       "      <td>2019-05-03 11:18:14</td>\n",
       "      <td>2019-05-03 11:24:19</td>\n",
       "      <td>0.518496</td>\n",
       "      <td>0.379979</td>\n",
       "      <td>365.0</td>\n",
       "    </tr>\n",
       "    <tr>\n",
       "      <th>4</th>\n",
       "      <td>1</td>\n",
       "      <td>2019-05-03 11:26:09</td>\n",
       "      <td>2019-05-03 11:28:37</td>\n",
       "      <td>0.867133</td>\n",
       "      <td>0.643691</td>\n",
       "      <td>148.0</td>\n",
       "    </tr>\n",
       "  </tbody>\n",
       "</table>\n",
       "</div>"
      ],
      "text/plain": [
       "   key          start_time            end_time  active_power  reactive_power  \\\n",
       "0    1 2019-05-03 11:02:14 2019-05-03 11:06:02      0.305130        0.211253   \n",
       "1    1 2019-05-03 11:07:28 2019-05-03 11:10:33      0.765658        0.477438   \n",
       "2    1 2019-05-03 11:11:44 2019-05-03 11:14:36      0.580313        0.430460   \n",
       "3    1 2019-05-03 11:18:14 2019-05-03 11:24:19      0.518496        0.379979   \n",
       "4    1 2019-05-03 11:26:09 2019-05-03 11:28:37      0.867133        0.643691   \n",
       "\n",
       "   time_heat  \n",
       "0      228.0  \n",
       "1      185.0  \n",
       "2      172.0  \n",
       "3      365.0  \n",
       "4      148.0  "
      ]
     },
     "execution_count": 14,
     "metadata": {},
     "output_type": "execute_result"
    }
   ],
   "source": [
    "data_arc['time_heat'] = data_arc['end_time'] - data_arc['start_time']\n",
    "data_arc['time_heat'] = data_arc['time_heat'] / pd.Timedelta(seconds=1)\n",
    "data_arc.head(5)"
   ]
  },
  {
   "cell_type": "code",
   "execution_count": 15,
   "metadata": {},
   "outputs": [
    {
     "name": "stdout",
     "output_type": "stream",
     "text": [
      "<class 'pandas.core.frame.DataFrame'>\n",
      "Int64Index: 3213 entries, 1 to 3241\n",
      "Data columns (total 1 columns):\n",
      " #   Column     Non-Null Count  Dtype  \n",
      "---  ------     --------------  -----  \n",
      " 0   time_heat  3213 non-null   float64\n",
      "dtypes: float64(1)\n",
      "memory usage: 50.2 KB\n"
     ]
    }
   ],
   "source": [
    "data_arc_time_heat = pd.pivot_table(data_arc,\n",
    "                             values=['time_heat'],\n",
    "                             index='key',\n",
    "                             aggfunc='sum')\n",
    "\n",
    "data_arc_time_heat.info()"
   ]
  },
  {
   "cell_type": "markdown",
   "metadata": {},
   "source": [
    "### Данные о подаче сыпучих материалов "
   ]
  },
  {
   "cell_type": "code",
   "execution_count": 16,
   "metadata": {},
   "outputs": [],
   "source": [
    "data_bulk = pd.read_csv('/datasets/data_bulk_new.csv')\n",
    "data_bulk_time = pd.read_csv('/datasets/data_bulk_time_new.csv')"
   ]
  },
  {
   "cell_type": "code",
   "execution_count": 17,
   "metadata": {},
   "outputs": [
    {
     "data": {
      "text/html": [
       "<div>\n",
       "<style scoped>\n",
       "    .dataframe tbody tr th:only-of-type {\n",
       "        vertical-align: middle;\n",
       "    }\n",
       "\n",
       "    .dataframe tbody tr th {\n",
       "        vertical-align: top;\n",
       "    }\n",
       "\n",
       "    .dataframe thead th {\n",
       "        text-align: right;\n",
       "    }\n",
       "</style>\n",
       "<table border=\"1\" class=\"dataframe\">\n",
       "  <thead>\n",
       "    <tr style=\"text-align: right;\">\n",
       "      <th></th>\n",
       "      <th>key</th>\n",
       "      <th>Bulk 1</th>\n",
       "      <th>Bulk 2</th>\n",
       "      <th>Bulk 3</th>\n",
       "      <th>Bulk 4</th>\n",
       "      <th>Bulk 5</th>\n",
       "      <th>Bulk 6</th>\n",
       "      <th>Bulk 7</th>\n",
       "      <th>Bulk 8</th>\n",
       "      <th>Bulk 9</th>\n",
       "      <th>Bulk 10</th>\n",
       "      <th>Bulk 11</th>\n",
       "      <th>Bulk 12</th>\n",
       "      <th>Bulk 13</th>\n",
       "      <th>Bulk 14</th>\n",
       "      <th>Bulk 15</th>\n",
       "    </tr>\n",
       "  </thead>\n",
       "  <tbody>\n",
       "    <tr>\n",
       "      <th>0</th>\n",
       "      <td>1</td>\n",
       "      <td>NaN</td>\n",
       "      <td>NaN</td>\n",
       "      <td>NaN</td>\n",
       "      <td>43.0</td>\n",
       "      <td>NaN</td>\n",
       "      <td>NaN</td>\n",
       "      <td>NaN</td>\n",
       "      <td>NaN</td>\n",
       "      <td>NaN</td>\n",
       "      <td>NaN</td>\n",
       "      <td>NaN</td>\n",
       "      <td>206.0</td>\n",
       "      <td>NaN</td>\n",
       "      <td>150.0</td>\n",
       "      <td>154.0</td>\n",
       "    </tr>\n",
       "    <tr>\n",
       "      <th>1</th>\n",
       "      <td>2</td>\n",
       "      <td>NaN</td>\n",
       "      <td>NaN</td>\n",
       "      <td>NaN</td>\n",
       "      <td>73.0</td>\n",
       "      <td>NaN</td>\n",
       "      <td>NaN</td>\n",
       "      <td>NaN</td>\n",
       "      <td>NaN</td>\n",
       "      <td>NaN</td>\n",
       "      <td>NaN</td>\n",
       "      <td>NaN</td>\n",
       "      <td>206.0</td>\n",
       "      <td>NaN</td>\n",
       "      <td>149.0</td>\n",
       "      <td>154.0</td>\n",
       "    </tr>\n",
       "    <tr>\n",
       "      <th>2</th>\n",
       "      <td>3</td>\n",
       "      <td>NaN</td>\n",
       "      <td>NaN</td>\n",
       "      <td>NaN</td>\n",
       "      <td>34.0</td>\n",
       "      <td>NaN</td>\n",
       "      <td>NaN</td>\n",
       "      <td>NaN</td>\n",
       "      <td>NaN</td>\n",
       "      <td>NaN</td>\n",
       "      <td>NaN</td>\n",
       "      <td>NaN</td>\n",
       "      <td>205.0</td>\n",
       "      <td>NaN</td>\n",
       "      <td>152.0</td>\n",
       "      <td>153.0</td>\n",
       "    </tr>\n",
       "    <tr>\n",
       "      <th>3</th>\n",
       "      <td>4</td>\n",
       "      <td>NaN</td>\n",
       "      <td>NaN</td>\n",
       "      <td>NaN</td>\n",
       "      <td>81.0</td>\n",
       "      <td>NaN</td>\n",
       "      <td>NaN</td>\n",
       "      <td>NaN</td>\n",
       "      <td>NaN</td>\n",
       "      <td>NaN</td>\n",
       "      <td>NaN</td>\n",
       "      <td>NaN</td>\n",
       "      <td>207.0</td>\n",
       "      <td>NaN</td>\n",
       "      <td>153.0</td>\n",
       "      <td>154.0</td>\n",
       "    </tr>\n",
       "    <tr>\n",
       "      <th>4</th>\n",
       "      <td>5</td>\n",
       "      <td>NaN</td>\n",
       "      <td>NaN</td>\n",
       "      <td>NaN</td>\n",
       "      <td>78.0</td>\n",
       "      <td>NaN</td>\n",
       "      <td>NaN</td>\n",
       "      <td>NaN</td>\n",
       "      <td>NaN</td>\n",
       "      <td>NaN</td>\n",
       "      <td>NaN</td>\n",
       "      <td>NaN</td>\n",
       "      <td>203.0</td>\n",
       "      <td>NaN</td>\n",
       "      <td>151.0</td>\n",
       "      <td>152.0</td>\n",
       "    </tr>\n",
       "  </tbody>\n",
       "</table>\n",
       "</div>"
      ],
      "text/plain": [
       "   key  Bulk 1  Bulk 2  Bulk 3  Bulk 4  Bulk 5  Bulk 6  Bulk 7  Bulk 8  \\\n",
       "0    1     NaN     NaN     NaN    43.0     NaN     NaN     NaN     NaN   \n",
       "1    2     NaN     NaN     NaN    73.0     NaN     NaN     NaN     NaN   \n",
       "2    3     NaN     NaN     NaN    34.0     NaN     NaN     NaN     NaN   \n",
       "3    4     NaN     NaN     NaN    81.0     NaN     NaN     NaN     NaN   \n",
       "4    5     NaN     NaN     NaN    78.0     NaN     NaN     NaN     NaN   \n",
       "\n",
       "   Bulk 9  Bulk 10  Bulk 11  Bulk 12  Bulk 13  Bulk 14  Bulk 15  \n",
       "0     NaN      NaN      NaN    206.0      NaN    150.0    154.0  \n",
       "1     NaN      NaN      NaN    206.0      NaN    149.0    154.0  \n",
       "2     NaN      NaN      NaN    205.0      NaN    152.0    153.0  \n",
       "3     NaN      NaN      NaN    207.0      NaN    153.0    154.0  \n",
       "4     NaN      NaN      NaN    203.0      NaN    151.0    152.0  "
      ]
     },
     "metadata": {},
     "output_type": "display_data"
    },
    {
     "data": {
      "text/html": [
       "<div>\n",
       "<style scoped>\n",
       "    .dataframe tbody tr th:only-of-type {\n",
       "        vertical-align: middle;\n",
       "    }\n",
       "\n",
       "    .dataframe tbody tr th {\n",
       "        vertical-align: top;\n",
       "    }\n",
       "\n",
       "    .dataframe thead th {\n",
       "        text-align: right;\n",
       "    }\n",
       "</style>\n",
       "<table border=\"1\" class=\"dataframe\">\n",
       "  <thead>\n",
       "    <tr style=\"text-align: right;\">\n",
       "      <th></th>\n",
       "      <th>key</th>\n",
       "      <th>Bulk 1</th>\n",
       "      <th>Bulk 2</th>\n",
       "      <th>Bulk 3</th>\n",
       "      <th>Bulk 4</th>\n",
       "      <th>Bulk 5</th>\n",
       "      <th>Bulk 6</th>\n",
       "      <th>Bulk 7</th>\n",
       "      <th>Bulk 8</th>\n",
       "      <th>Bulk 9</th>\n",
       "      <th>Bulk 10</th>\n",
       "      <th>Bulk 11</th>\n",
       "      <th>Bulk 12</th>\n",
       "      <th>Bulk 13</th>\n",
       "      <th>Bulk 14</th>\n",
       "      <th>Bulk 15</th>\n",
       "    </tr>\n",
       "  </thead>\n",
       "  <tbody>\n",
       "    <tr>\n",
       "      <th>0</th>\n",
       "      <td>1</td>\n",
       "      <td>NaN</td>\n",
       "      <td>NaN</td>\n",
       "      <td>NaN</td>\n",
       "      <td>2019-05-03 11:28:48</td>\n",
       "      <td>NaN</td>\n",
       "      <td>NaN</td>\n",
       "      <td>NaN</td>\n",
       "      <td>NaN</td>\n",
       "      <td>NaN</td>\n",
       "      <td>NaN</td>\n",
       "      <td>NaN</td>\n",
       "      <td>2019-05-03 11:24:31</td>\n",
       "      <td>NaN</td>\n",
       "      <td>2019-05-03 11:14:50</td>\n",
       "      <td>2019-05-03 11:10:43</td>\n",
       "    </tr>\n",
       "    <tr>\n",
       "      <th>1</th>\n",
       "      <td>2</td>\n",
       "      <td>NaN</td>\n",
       "      <td>NaN</td>\n",
       "      <td>NaN</td>\n",
       "      <td>2019-05-03 11:36:50</td>\n",
       "      <td>NaN</td>\n",
       "      <td>NaN</td>\n",
       "      <td>NaN</td>\n",
       "      <td>NaN</td>\n",
       "      <td>NaN</td>\n",
       "      <td>NaN</td>\n",
       "      <td>NaN</td>\n",
       "      <td>2019-05-03 11:53:30</td>\n",
       "      <td>NaN</td>\n",
       "      <td>2019-05-03 11:48:37</td>\n",
       "      <td>2019-05-03 11:44:39</td>\n",
       "    </tr>\n",
       "    <tr>\n",
       "      <th>2</th>\n",
       "      <td>3</td>\n",
       "      <td>NaN</td>\n",
       "      <td>NaN</td>\n",
       "      <td>NaN</td>\n",
       "      <td>2019-05-03 12:32:39</td>\n",
       "      <td>NaN</td>\n",
       "      <td>NaN</td>\n",
       "      <td>NaN</td>\n",
       "      <td>NaN</td>\n",
       "      <td>NaN</td>\n",
       "      <td>NaN</td>\n",
       "      <td>NaN</td>\n",
       "      <td>2019-05-03 12:27:13</td>\n",
       "      <td>NaN</td>\n",
       "      <td>2019-05-03 12:21:01</td>\n",
       "      <td>2019-05-03 12:16:16</td>\n",
       "    </tr>\n",
       "    <tr>\n",
       "      <th>3</th>\n",
       "      <td>4</td>\n",
       "      <td>NaN</td>\n",
       "      <td>NaN</td>\n",
       "      <td>NaN</td>\n",
       "      <td>2019-05-03 12:43:22</td>\n",
       "      <td>NaN</td>\n",
       "      <td>NaN</td>\n",
       "      <td>NaN</td>\n",
       "      <td>NaN</td>\n",
       "      <td>NaN</td>\n",
       "      <td>NaN</td>\n",
       "      <td>NaN</td>\n",
       "      <td>2019-05-03 12:58:00</td>\n",
       "      <td>NaN</td>\n",
       "      <td>2019-05-03 12:51:11</td>\n",
       "      <td>2019-05-03 12:46:36</td>\n",
       "    </tr>\n",
       "    <tr>\n",
       "      <th>4</th>\n",
       "      <td>5</td>\n",
       "      <td>NaN</td>\n",
       "      <td>NaN</td>\n",
       "      <td>NaN</td>\n",
       "      <td>2019-05-03 13:30:47</td>\n",
       "      <td>NaN</td>\n",
       "      <td>NaN</td>\n",
       "      <td>NaN</td>\n",
       "      <td>NaN</td>\n",
       "      <td>NaN</td>\n",
       "      <td>NaN</td>\n",
       "      <td>NaN</td>\n",
       "      <td>2019-05-03 13:30:47</td>\n",
       "      <td>NaN</td>\n",
       "      <td>2019-05-03 13:34:12</td>\n",
       "      <td>2019-05-03 13:30:47</td>\n",
       "    </tr>\n",
       "  </tbody>\n",
       "</table>\n",
       "</div>"
      ],
      "text/plain": [
       "   key Bulk 1 Bulk 2 Bulk 3               Bulk 4 Bulk 5 Bulk 6 Bulk 7 Bulk 8  \\\n",
       "0    1    NaN    NaN    NaN  2019-05-03 11:28:48    NaN    NaN    NaN    NaN   \n",
       "1    2    NaN    NaN    NaN  2019-05-03 11:36:50    NaN    NaN    NaN    NaN   \n",
       "2    3    NaN    NaN    NaN  2019-05-03 12:32:39    NaN    NaN    NaN    NaN   \n",
       "3    4    NaN    NaN    NaN  2019-05-03 12:43:22    NaN    NaN    NaN    NaN   \n",
       "4    5    NaN    NaN    NaN  2019-05-03 13:30:47    NaN    NaN    NaN    NaN   \n",
       "\n",
       "  Bulk 9 Bulk 10 Bulk 11              Bulk 12 Bulk 13              Bulk 14  \\\n",
       "0    NaN     NaN     NaN  2019-05-03 11:24:31     NaN  2019-05-03 11:14:50   \n",
       "1    NaN     NaN     NaN  2019-05-03 11:53:30     NaN  2019-05-03 11:48:37   \n",
       "2    NaN     NaN     NaN  2019-05-03 12:27:13     NaN  2019-05-03 12:21:01   \n",
       "3    NaN     NaN     NaN  2019-05-03 12:58:00     NaN  2019-05-03 12:51:11   \n",
       "4    NaN     NaN     NaN  2019-05-03 13:30:47     NaN  2019-05-03 13:34:12   \n",
       "\n",
       "               Bulk 15  \n",
       "0  2019-05-03 11:10:43  \n",
       "1  2019-05-03 11:44:39  \n",
       "2  2019-05-03 12:16:16  \n",
       "3  2019-05-03 12:46:36  \n",
       "4  2019-05-03 13:30:47  "
      ]
     },
     "execution_count": 17,
     "metadata": {},
     "output_type": "execute_result"
    }
   ],
   "source": [
    "display(data_bulk.head())\n",
    "data_bulk_time.head()"
   ]
  },
  {
   "cell_type": "code",
   "execution_count": 18,
   "metadata": {},
   "outputs": [
    {
     "name": "stdout",
     "output_type": "stream",
     "text": [
      "<class 'pandas.core.frame.DataFrame'>\n",
      "RangeIndex: 3129 entries, 0 to 3128\n",
      "Data columns (total 16 columns):\n",
      " #   Column   Non-Null Count  Dtype  \n",
      "---  ------   --------------  -----  \n",
      " 0   key      3129 non-null   int64  \n",
      " 1   Bulk 1   252 non-null    float64\n",
      " 2   Bulk 2   22 non-null     float64\n",
      " 3   Bulk 3   1298 non-null   float64\n",
      " 4   Bulk 4   1014 non-null   float64\n",
      " 5   Bulk 5   77 non-null     float64\n",
      " 6   Bulk 6   576 non-null    float64\n",
      " 7   Bulk 7   25 non-null     float64\n",
      " 8   Bulk 8   1 non-null      float64\n",
      " 9   Bulk 9   19 non-null     float64\n",
      " 10  Bulk 10  176 non-null    float64\n",
      " 11  Bulk 11  177 non-null    float64\n",
      " 12  Bulk 12  2450 non-null   float64\n",
      " 13  Bulk 13  18 non-null     float64\n",
      " 14  Bulk 14  2806 non-null   float64\n",
      " 15  Bulk 15  2248 non-null   float64\n",
      "dtypes: float64(15), int64(1)\n",
      "memory usage: 391.2 KB\n"
     ]
    },
    {
     "data": {
      "text/plain": [
       "None"
      ]
     },
     "metadata": {},
     "output_type": "display_data"
    },
    {
     "name": "stdout",
     "output_type": "stream",
     "text": [
      "<class 'pandas.core.frame.DataFrame'>\n",
      "RangeIndex: 3129 entries, 0 to 3128\n",
      "Data columns (total 16 columns):\n",
      " #   Column   Non-Null Count  Dtype \n",
      "---  ------   --------------  ----- \n",
      " 0   key      3129 non-null   int64 \n",
      " 1   Bulk 1   252 non-null    object\n",
      " 2   Bulk 2   22 non-null     object\n",
      " 3   Bulk 3   1298 non-null   object\n",
      " 4   Bulk 4   1014 non-null   object\n",
      " 5   Bulk 5   77 non-null     object\n",
      " 6   Bulk 6   576 non-null    object\n",
      " 7   Bulk 7   25 non-null     object\n",
      " 8   Bulk 8   1 non-null      object\n",
      " 9   Bulk 9   19 non-null     object\n",
      " 10  Bulk 10  176 non-null    object\n",
      " 11  Bulk 11  177 non-null    object\n",
      " 12  Bulk 12  2450 non-null   object\n",
      " 13  Bulk 13  18 non-null     object\n",
      " 14  Bulk 14  2806 non-null   object\n",
      " 15  Bulk 15  2248 non-null   object\n",
      "dtypes: int64(1), object(15)\n",
      "memory usage: 391.2+ KB\n"
     ]
    }
   ],
   "source": [
    "display(data_bulk.info())\n",
    "data_bulk_time.info()"
   ]
  },
  {
   "cell_type": "markdown",
   "metadata": {},
   "source": [
    "В обеих таблицах много пропусков, это означает, что опеределенные материалы не добавлялись в той или иной партии. Определим материалы, которые использовались для менее 10% партий."
   ]
  },
  {
   "cell_type": "code",
   "execution_count": 19,
   "metadata": {},
   "outputs": [
    {
     "data": {
      "image/png": "[encoded data removed]",
      "text/plain": [
       "<Figure size 576x360 with 1 Axes>"
      ]
     },
     "metadata": {
      "needs_background": "light"
     },
     "output_type": "display_data"
    }
   ],
   "source": [
    "plt.figure(figsize = (8,5))\n",
    "ax = (~data_bulk_time.isnull()).mean().sort_values(ascending=False).plot(kind = 'bar')\n",
    "ax.axhline(y=0.1, color='g', linestyle='-')\n",
    "ax.set_title('Статистика использования сыпучих материалов')\n",
    "ax.set_ylabel('Доля использования в партиях')\n",
    "ax.set_xlabel('Тип сыпучего материала')\n",
    "plt.show()"
   ]
  },
  {
   "cell_type": "markdown",
   "metadata": {},
   "source": [
    "На графике видно, что материалы 1, 11, 10, 5, 7, 2, 9, 13, 8 очень редко использовались. Убирать мы их не будем, но примем к сведению."
   ]
  },
  {
   "cell_type": "markdown",
   "metadata": {},
   "source": [
    "На следующем графике посмотрим - какой общий объем для каждой сыпучей добавки."
   ]
  },
  {
   "cell_type": "code",
   "execution_count": 20,
   "metadata": {
    "scrolled": false
   },
   "outputs": [
    {
     "data": {
      "image/png": "[encoded data removed]",
      "text/plain": [
       "<Figure size 576x360 with 1 Axes>"
      ]
     },
     "metadata": {
      "needs_background": "light"
     },
     "output_type": "display_data"
    }
   ],
   "source": [
    "plt.figure(figsize = (8,5))\n",
    "ax = data_bulk.drop(['key'], axis=1).sum().sort_values(ascending=False).plot(kind = 'bar')\n",
    "ax.set_title('Общий объем использования сыпучих материалов')\n",
    "ax.set_ylabel('Общий объем')\n",
    "ax.set_xlabel('Тип сыпучего материала')\n",
    "plt.show()"
   ]
  },
  {
   "cell_type": "markdown",
   "metadata": {},
   "source": [
    "Распределение такое же как и на предыдущем графике - лидирующие позиции по использованию у добавок у 12,14,15,3,4 и 6."
   ]
  },
  {
   "cell_type": "markdown",
   "metadata": {},
   "source": [
    "### Данные о проволочных материалах"
   ]
  },
  {
   "cell_type": "code",
   "execution_count": 21,
   "metadata": {},
   "outputs": [],
   "source": [
    "data_wire = pd.read_csv('/datasets/data_wire_new.csv')\n",
    "data_wire_time = pd.read_csv('/datasets/data_wire_time_new.csv')"
   ]
  },
  {
   "cell_type": "code",
   "execution_count": 22,
   "metadata": {},
   "outputs": [
    {
     "data": {
      "text/html": [
       "<div>\n",
       "<style scoped>\n",
       "    .dataframe tbody tr th:only-of-type {\n",
       "        vertical-align: middle;\n",
       "    }\n",
       "\n",
       "    .dataframe tbody tr th {\n",
       "        vertical-align: top;\n",
       "    }\n",
       "\n",
       "    .dataframe thead th {\n",
       "        text-align: right;\n",
       "    }\n",
       "</style>\n",
       "<table border=\"1\" class=\"dataframe\">\n",
       "  <thead>\n",
       "    <tr style=\"text-align: right;\">\n",
       "      <th></th>\n",
       "      <th>key</th>\n",
       "      <th>Wire 1</th>\n",
       "      <th>Wire 2</th>\n",
       "      <th>Wire 3</th>\n",
       "      <th>Wire 4</th>\n",
       "      <th>Wire 5</th>\n",
       "      <th>Wire 6</th>\n",
       "      <th>Wire 7</th>\n",
       "      <th>Wire 8</th>\n",
       "      <th>Wire 9</th>\n",
       "    </tr>\n",
       "  </thead>\n",
       "  <tbody>\n",
       "    <tr>\n",
       "      <th>0</th>\n",
       "      <td>1</td>\n",
       "      <td>60.059998</td>\n",
       "      <td>NaN</td>\n",
       "      <td>NaN</td>\n",
       "      <td>NaN</td>\n",
       "      <td>NaN</td>\n",
       "      <td>NaN</td>\n",
       "      <td>NaN</td>\n",
       "      <td>NaN</td>\n",
       "      <td>NaN</td>\n",
       "    </tr>\n",
       "    <tr>\n",
       "      <th>1</th>\n",
       "      <td>2</td>\n",
       "      <td>96.052315</td>\n",
       "      <td>NaN</td>\n",
       "      <td>NaN</td>\n",
       "      <td>NaN</td>\n",
       "      <td>NaN</td>\n",
       "      <td>NaN</td>\n",
       "      <td>NaN</td>\n",
       "      <td>NaN</td>\n",
       "      <td>NaN</td>\n",
       "    </tr>\n",
       "    <tr>\n",
       "      <th>2</th>\n",
       "      <td>3</td>\n",
       "      <td>91.160157</td>\n",
       "      <td>NaN</td>\n",
       "      <td>NaN</td>\n",
       "      <td>NaN</td>\n",
       "      <td>NaN</td>\n",
       "      <td>NaN</td>\n",
       "      <td>NaN</td>\n",
       "      <td>NaN</td>\n",
       "      <td>NaN</td>\n",
       "    </tr>\n",
       "    <tr>\n",
       "      <th>3</th>\n",
       "      <td>4</td>\n",
       "      <td>89.063515</td>\n",
       "      <td>NaN</td>\n",
       "      <td>NaN</td>\n",
       "      <td>NaN</td>\n",
       "      <td>NaN</td>\n",
       "      <td>NaN</td>\n",
       "      <td>NaN</td>\n",
       "      <td>NaN</td>\n",
       "      <td>NaN</td>\n",
       "    </tr>\n",
       "    <tr>\n",
       "      <th>4</th>\n",
       "      <td>5</td>\n",
       "      <td>89.238236</td>\n",
       "      <td>9.11456</td>\n",
       "      <td>NaN</td>\n",
       "      <td>NaN</td>\n",
       "      <td>NaN</td>\n",
       "      <td>NaN</td>\n",
       "      <td>NaN</td>\n",
       "      <td>NaN</td>\n",
       "      <td>NaN</td>\n",
       "    </tr>\n",
       "  </tbody>\n",
       "</table>\n",
       "</div>"
      ],
      "text/plain": [
       "   key     Wire 1   Wire 2  Wire 3  Wire 4  Wire 5  Wire 6  Wire 7  Wire 8  \\\n",
       "0    1  60.059998      NaN     NaN     NaN     NaN     NaN     NaN     NaN   \n",
       "1    2  96.052315      NaN     NaN     NaN     NaN     NaN     NaN     NaN   \n",
       "2    3  91.160157      NaN     NaN     NaN     NaN     NaN     NaN     NaN   \n",
       "3    4  89.063515      NaN     NaN     NaN     NaN     NaN     NaN     NaN   \n",
       "4    5  89.238236  9.11456     NaN     NaN     NaN     NaN     NaN     NaN   \n",
       "\n",
       "   Wire 9  \n",
       "0     NaN  \n",
       "1     NaN  \n",
       "2     NaN  \n",
       "3     NaN  \n",
       "4     NaN  "
      ]
     },
     "metadata": {},
     "output_type": "display_data"
    },
    {
     "data": {
      "text/html": [
       "<div>\n",
       "<style scoped>\n",
       "    .dataframe tbody tr th:only-of-type {\n",
       "        vertical-align: middle;\n",
       "    }\n",
       "\n",
       "    .dataframe tbody tr th {\n",
       "        vertical-align: top;\n",
       "    }\n",
       "\n",
       "    .dataframe thead th {\n",
       "        text-align: right;\n",
       "    }\n",
       "</style>\n",
       "<table border=\"1\" class=\"dataframe\">\n",
       "  <thead>\n",
       "    <tr style=\"text-align: right;\">\n",
       "      <th></th>\n",
       "      <th>key</th>\n",
       "      <th>Wire 1</th>\n",
       "      <th>Wire 2</th>\n",
       "      <th>Wire 3</th>\n",
       "      <th>Wire 4</th>\n",
       "      <th>Wire 5</th>\n",
       "      <th>Wire 6</th>\n",
       "      <th>Wire 7</th>\n",
       "      <th>Wire 8</th>\n",
       "      <th>Wire 9</th>\n",
       "    </tr>\n",
       "  </thead>\n",
       "  <tbody>\n",
       "    <tr>\n",
       "      <th>0</th>\n",
       "      <td>1</td>\n",
       "      <td>2019-05-03 11:06:19</td>\n",
       "      <td>NaN</td>\n",
       "      <td>NaN</td>\n",
       "      <td>NaN</td>\n",
       "      <td>NaN</td>\n",
       "      <td>NaN</td>\n",
       "      <td>NaN</td>\n",
       "      <td>NaN</td>\n",
       "      <td>NaN</td>\n",
       "    </tr>\n",
       "    <tr>\n",
       "      <th>1</th>\n",
       "      <td>2</td>\n",
       "      <td>2019-05-03 11:36:50</td>\n",
       "      <td>NaN</td>\n",
       "      <td>NaN</td>\n",
       "      <td>NaN</td>\n",
       "      <td>NaN</td>\n",
       "      <td>NaN</td>\n",
       "      <td>NaN</td>\n",
       "      <td>NaN</td>\n",
       "      <td>NaN</td>\n",
       "    </tr>\n",
       "    <tr>\n",
       "      <th>2</th>\n",
       "      <td>3</td>\n",
       "      <td>2019-05-03 12:11:46</td>\n",
       "      <td>NaN</td>\n",
       "      <td>NaN</td>\n",
       "      <td>NaN</td>\n",
       "      <td>NaN</td>\n",
       "      <td>NaN</td>\n",
       "      <td>NaN</td>\n",
       "      <td>NaN</td>\n",
       "      <td>NaN</td>\n",
       "    </tr>\n",
       "    <tr>\n",
       "      <th>3</th>\n",
       "      <td>4</td>\n",
       "      <td>2019-05-03 12:43:22</td>\n",
       "      <td>NaN</td>\n",
       "      <td>NaN</td>\n",
       "      <td>NaN</td>\n",
       "      <td>NaN</td>\n",
       "      <td>NaN</td>\n",
       "      <td>NaN</td>\n",
       "      <td>NaN</td>\n",
       "      <td>NaN</td>\n",
       "    </tr>\n",
       "    <tr>\n",
       "      <th>4</th>\n",
       "      <td>5</td>\n",
       "      <td>2019-05-03 13:20:44</td>\n",
       "      <td>2019-05-03 13:15:34</td>\n",
       "      <td>NaN</td>\n",
       "      <td>NaN</td>\n",
       "      <td>NaN</td>\n",
       "      <td>NaN</td>\n",
       "      <td>NaN</td>\n",
       "      <td>NaN</td>\n",
       "      <td>NaN</td>\n",
       "    </tr>\n",
       "  </tbody>\n",
       "</table>\n",
       "</div>"
      ],
      "text/plain": [
       "   key               Wire 1               Wire 2 Wire 3 Wire 4 Wire 5 Wire 6  \\\n",
       "0    1  2019-05-03 11:06:19                  NaN    NaN    NaN    NaN    NaN   \n",
       "1    2  2019-05-03 11:36:50                  NaN    NaN    NaN    NaN    NaN   \n",
       "2    3  2019-05-03 12:11:46                  NaN    NaN    NaN    NaN    NaN   \n",
       "3    4  2019-05-03 12:43:22                  NaN    NaN    NaN    NaN    NaN   \n",
       "4    5  2019-05-03 13:20:44  2019-05-03 13:15:34    NaN    NaN    NaN    NaN   \n",
       "\n",
       "  Wire 7 Wire 8 Wire 9  \n",
       "0    NaN    NaN    NaN  \n",
       "1    NaN    NaN    NaN  \n",
       "2    NaN    NaN    NaN  \n",
       "3    NaN    NaN    NaN  \n",
       "4    NaN    NaN    NaN  "
      ]
     },
     "execution_count": 22,
     "metadata": {},
     "output_type": "execute_result"
    }
   ],
   "source": [
    "display(data_wire.head())\n",
    "data_wire_time.head()"
   ]
  },
  {
   "cell_type": "markdown",
   "metadata": {},
   "source": [
    "Структура таблиц такая же как и у data_bulk и data_bulk_time. Выявим материалы, которые меньше всего использовались - менее 10%."
   ]
  },
  {
   "cell_type": "code",
   "execution_count": 23,
   "metadata": {
    "scrolled": false
   },
   "outputs": [
    {
     "data": {
      "image/png": "[encoded data removed]",
      "text/plain": [
       "<Figure size 576x360 with 1 Axes>"
      ]
     },
     "metadata": {
      "needs_background": "light"
     },
     "output_type": "display_data"
    }
   ],
   "source": [
    "plt.figure(figsize = (8,5))\n",
    "ax = (~data_wire_time.isnull()).mean().sort_values(ascending=False).plot(kind = 'bar')\n",
    "ax.axhline(y=0.1, color='g', linestyle='-')\n",
    "ax.set_title('Статистика использования проволочных материалов')\n",
    "ax.set_ylabel('Доля использования в партиях')\n",
    "ax.set_xlabel('Тип проволочного материала')\n",
    "plt.show()"
   ]
  },
  {
   "cell_type": "markdown",
   "metadata": {},
   "source": [
    "БОльшая часть проволочных материалов использовалась очень редко. Это материалы 6, 3, 9, 8, 4, 7, 5."
   ]
  },
  {
   "cell_type": "markdown",
   "metadata": {},
   "source": [
    "На следующем графике посмотрим - какой общий объем для каждой проволочной добавки."
   ]
  },
  {
   "cell_type": "code",
   "execution_count": 24,
   "metadata": {},
   "outputs": [
    {
     "data": {
      "image/png": "[encoded data removed]",
      "text/plain": [
       "<Figure size 576x360 with 1 Axes>"
      ]
     },
     "metadata": {
      "needs_background": "light"
     },
     "output_type": "display_data"
    }
   ],
   "source": [
    "plt.figure(figsize = (8,5))\n",
    "ax = data_wire.drop(['key'], axis=1).sum().sort_values(ascending=False).plot(kind = 'bar')\n",
    "ax.set_title('Общий объем использования проволочных материалов')\n",
    "ax.set_ylabel('Общий объем')\n",
    "ax.set_xlabel('Тип проволочного материала')\n",
    "plt.show()"
   ]
  },
  {
   "cell_type": "markdown",
   "metadata": {},
   "source": [
    "Здесь также лидируют добавки 1 и 2."
   ]
  },
  {
   "cell_type": "markdown",
   "metadata": {},
   "source": [
    "### Данные о продувке сплава газом"
   ]
  },
  {
   "cell_type": "code",
   "execution_count": 25,
   "metadata": {},
   "outputs": [
    {
     "data": {
      "text/html": [
       "<div>\n",
       "<style scoped>\n",
       "    .dataframe tbody tr th:only-of-type {\n",
       "        vertical-align: middle;\n",
       "    }\n",
       "\n",
       "    .dataframe tbody tr th {\n",
       "        vertical-align: top;\n",
       "    }\n",
       "\n",
       "    .dataframe thead th {\n",
       "        text-align: right;\n",
       "    }\n",
       "</style>\n",
       "<table border=\"1\" class=\"dataframe\">\n",
       "  <thead>\n",
       "    <tr style=\"text-align: right;\">\n",
       "      <th></th>\n",
       "      <th>key</th>\n",
       "      <th>Газ 1</th>\n",
       "    </tr>\n",
       "  </thead>\n",
       "  <tbody>\n",
       "    <tr>\n",
       "      <th>0</th>\n",
       "      <td>1</td>\n",
       "      <td>29.749986</td>\n",
       "    </tr>\n",
       "    <tr>\n",
       "      <th>1</th>\n",
       "      <td>2</td>\n",
       "      <td>12.555561</td>\n",
       "    </tr>\n",
       "    <tr>\n",
       "      <th>2</th>\n",
       "      <td>3</td>\n",
       "      <td>28.554793</td>\n",
       "    </tr>\n",
       "    <tr>\n",
       "      <th>3</th>\n",
       "      <td>4</td>\n",
       "      <td>18.841219</td>\n",
       "    </tr>\n",
       "    <tr>\n",
       "      <th>4</th>\n",
       "      <td>5</td>\n",
       "      <td>5.413692</td>\n",
       "    </tr>\n",
       "  </tbody>\n",
       "</table>\n",
       "</div>"
      ],
      "text/plain": [
       "   key      Газ 1\n",
       "0    1  29.749986\n",
       "1    2  12.555561\n",
       "2    3  28.554793\n",
       "3    4  18.841219\n",
       "4    5   5.413692"
      ]
     },
     "metadata": {},
     "output_type": "display_data"
    },
    {
     "name": "stdout",
     "output_type": "stream",
     "text": [
      "<class 'pandas.core.frame.DataFrame'>\n",
      "RangeIndex: 3239 entries, 0 to 3238\n",
      "Data columns (total 2 columns):\n",
      " #   Column  Non-Null Count  Dtype  \n",
      "---  ------  --------------  -----  \n",
      " 0   key     3239 non-null   int64  \n",
      " 1   Газ 1   3239 non-null   float64\n",
      "dtypes: float64(1), int64(1)\n",
      "memory usage: 50.7 KB\n"
     ]
    }
   ],
   "source": [
    "data_gas = pd.read_csv('/datasets/data_gas_new.csv')\n",
    "\n",
    "display(data_gas.head())\n",
    "data_gas.info()"
   ]
  },
  {
   "cell_type": "code",
   "execution_count": 26,
   "metadata": {},
   "outputs": [],
   "source": [
    "data_gas.columns = ['key','gas']"
   ]
  },
  {
   "cell_type": "code",
   "execution_count": 27,
   "metadata": {},
   "outputs": [
    {
     "data": {
      "text/plain": [
       "count    3239.000000\n",
       "mean       11.002062\n",
       "std         6.220327\n",
       "min         0.008399\n",
       "25%         7.043089\n",
       "50%         9.836267\n",
       "75%        13.769915\n",
       "max        77.995040\n",
       "Name: gas, dtype: float64"
      ]
     },
     "execution_count": 27,
     "metadata": {},
     "output_type": "execute_result"
    }
   ],
   "source": [
    "data_gas['gas'].describe()"
   ]
  },
  {
   "cell_type": "code",
   "execution_count": 28,
   "metadata": {},
   "outputs": [
    {
     "data": {
      "image/png": "[encoded data removed]",
      "text/plain": [
       "<Figure size 576x360 with 1 Axes>"
      ]
     },
     "metadata": {
      "needs_background": "light"
     },
     "output_type": "display_data"
    }
   ],
   "source": [
    "plt.figure(figsize = (8,5))\n",
    "ax = data_gas['gas'].hist(bins=100)\n",
    "ax.set_title('Распределение данных о продувке газом')\n",
    "ax.set_ylabel('Количество')\n",
    "ax.set_xlabel('Значение')\n",
    "plt.show()"
   ]
  },
  {
   "cell_type": "markdown",
   "metadata": {},
   "source": [
    "На каждую партию была одна продувка. Пропусков нет. Есть очень высокие отдельные показатели, когда требовалось очень много газа для продувки. Посмотрим с чем это связано - отберем ключи партий, для которых требовалась продувка выше 40. Далее проверим какие материалы подавались в эту партию."
   ]
  },
  {
   "cell_type": "code",
   "execution_count": 29,
   "metadata": {},
   "outputs": [
    {
     "data": {
      "text/plain": [
       "116      117\n",
       "277      280\n",
       "319      322\n",
       "660      663\n",
       "1461    1464\n",
       "2105    2108\n",
       "2107    2110\n",
       "2567    2570\n",
       "Name: key, dtype: int64"
      ]
     },
     "execution_count": 29,
     "metadata": {},
     "output_type": "execute_result"
    }
   ],
   "source": [
    "gas_keys=data_gas['key'][data_gas['gas'] >= 40]\n",
    "gas_keys"
   ]
  },
  {
   "cell_type": "code",
   "execution_count": 30,
   "metadata": {
    "scrolled": true
   },
   "outputs": [
    {
     "data": {
      "text/html": [
       "<div>\n",
       "<style scoped>\n",
       "    .dataframe tbody tr th:only-of-type {\n",
       "        vertical-align: middle;\n",
       "    }\n",
       "\n",
       "    .dataframe tbody tr th {\n",
       "        vertical-align: top;\n",
       "    }\n",
       "\n",
       "    .dataframe thead th {\n",
       "        text-align: right;\n",
       "    }\n",
       "</style>\n",
       "<table border=\"1\" class=\"dataframe\">\n",
       "  <thead>\n",
       "    <tr style=\"text-align: right;\">\n",
       "      <th></th>\n",
       "      <th>key</th>\n",
       "      <th>Bulk 1</th>\n",
       "      <th>Bulk 2</th>\n",
       "      <th>Bulk 3</th>\n",
       "      <th>Bulk 4</th>\n",
       "      <th>Bulk 5</th>\n",
       "      <th>Bulk 6</th>\n",
       "      <th>Bulk 7</th>\n",
       "      <th>Bulk 8</th>\n",
       "      <th>Bulk 9</th>\n",
       "      <th>Bulk 10</th>\n",
       "      <th>Bulk 11</th>\n",
       "      <th>Bulk 12</th>\n",
       "      <th>Bulk 13</th>\n",
       "      <th>Bulk 14</th>\n",
       "      <th>Bulk 15</th>\n",
       "    </tr>\n",
       "  </thead>\n",
       "  <tbody>\n",
       "    <tr>\n",
       "      <th>104</th>\n",
       "      <td>117</td>\n",
       "      <td>52.0</td>\n",
       "      <td>325.0</td>\n",
       "      <td>NaN</td>\n",
       "      <td>68.0</td>\n",
       "      <td>112.0</td>\n",
       "      <td>NaN</td>\n",
       "      <td>NaN</td>\n",
       "      <td>NaN</td>\n",
       "      <td>NaN</td>\n",
       "      <td>NaN</td>\n",
       "      <td>NaN</td>\n",
       "      <td>NaN</td>\n",
       "      <td>NaN</td>\n",
       "      <td>NaN</td>\n",
       "      <td>NaN</td>\n",
       "    </tr>\n",
       "    <tr>\n",
       "      <th>262</th>\n",
       "      <td>280</td>\n",
       "      <td>NaN</td>\n",
       "      <td>NaN</td>\n",
       "      <td>126.0</td>\n",
       "      <td>NaN</td>\n",
       "      <td>NaN</td>\n",
       "      <td>NaN</td>\n",
       "      <td>NaN</td>\n",
       "      <td>NaN</td>\n",
       "      <td>63.0</td>\n",
       "      <td>NaN</td>\n",
       "      <td>NaN</td>\n",
       "      <td>108.0</td>\n",
       "      <td>NaN</td>\n",
       "      <td>263.0</td>\n",
       "      <td>NaN</td>\n",
       "    </tr>\n",
       "    <tr>\n",
       "      <th>303</th>\n",
       "      <td>322</td>\n",
       "      <td>185.0</td>\n",
       "      <td>NaN</td>\n",
       "      <td>101.0</td>\n",
       "      <td>58.0</td>\n",
       "      <td>NaN</td>\n",
       "      <td>NaN</td>\n",
       "      <td>406.0</td>\n",
       "      <td>NaN</td>\n",
       "      <td>NaN</td>\n",
       "      <td>NaN</td>\n",
       "      <td>NaN</td>\n",
       "      <td>1849.0</td>\n",
       "      <td>NaN</td>\n",
       "      <td>636.0</td>\n",
       "      <td>NaN</td>\n",
       "    </tr>\n",
       "    <tr>\n",
       "      <th>632</th>\n",
       "      <td>663</td>\n",
       "      <td>27.0</td>\n",
       "      <td>NaN</td>\n",
       "      <td>100.0</td>\n",
       "      <td>127.0</td>\n",
       "      <td>NaN</td>\n",
       "      <td>NaN</td>\n",
       "      <td>NaN</td>\n",
       "      <td>NaN</td>\n",
       "      <td>NaN</td>\n",
       "      <td>NaN</td>\n",
       "      <td>NaN</td>\n",
       "      <td>413.0</td>\n",
       "      <td>NaN</td>\n",
       "      <td>299.0</td>\n",
       "      <td>204.0</td>\n",
       "    </tr>\n",
       "    <tr>\n",
       "      <th>1410</th>\n",
       "      <td>1464</td>\n",
       "      <td>31.0</td>\n",
       "      <td>NaN</td>\n",
       "      <td>NaN</td>\n",
       "      <td>105.0</td>\n",
       "      <td>NaN</td>\n",
       "      <td>NaN</td>\n",
       "      <td>NaN</td>\n",
       "      <td>NaN</td>\n",
       "      <td>NaN</td>\n",
       "      <td>NaN</td>\n",
       "      <td>NaN</td>\n",
       "      <td>774.0</td>\n",
       "      <td>NaN</td>\n",
       "      <td>306.0</td>\n",
       "      <td>100.0</td>\n",
       "    </tr>\n",
       "    <tr>\n",
       "      <th>2036</th>\n",
       "      <td>2108</td>\n",
       "      <td>63.0</td>\n",
       "      <td>242.0</td>\n",
       "      <td>NaN</td>\n",
       "      <td>98.0</td>\n",
       "      <td>94.0</td>\n",
       "      <td>NaN</td>\n",
       "      <td>507.0</td>\n",
       "      <td>NaN</td>\n",
       "      <td>NaN</td>\n",
       "      <td>NaN</td>\n",
       "      <td>NaN</td>\n",
       "      <td>NaN</td>\n",
       "      <td>NaN</td>\n",
       "      <td>NaN</td>\n",
       "      <td>NaN</td>\n",
       "    </tr>\n",
       "    <tr>\n",
       "      <th>2038</th>\n",
       "      <td>2110</td>\n",
       "      <td>39.0</td>\n",
       "      <td>270.0</td>\n",
       "      <td>NaN</td>\n",
       "      <td>94.0</td>\n",
       "      <td>122.0</td>\n",
       "      <td>NaN</td>\n",
       "      <td>405.0</td>\n",
       "      <td>NaN</td>\n",
       "      <td>NaN</td>\n",
       "      <td>NaN</td>\n",
       "      <td>NaN</td>\n",
       "      <td>NaN</td>\n",
       "      <td>NaN</td>\n",
       "      <td>NaN</td>\n",
       "      <td>NaN</td>\n",
       "    </tr>\n",
       "    <tr>\n",
       "      <th>2478</th>\n",
       "      <td>2570</td>\n",
       "      <td>50.0</td>\n",
       "      <td>270.0</td>\n",
       "      <td>NaN</td>\n",
       "      <td>124.0</td>\n",
       "      <td>18.0</td>\n",
       "      <td>NaN</td>\n",
       "      <td>352.0</td>\n",
       "      <td>NaN</td>\n",
       "      <td>NaN</td>\n",
       "      <td>NaN</td>\n",
       "      <td>NaN</td>\n",
       "      <td>108.0</td>\n",
       "      <td>NaN</td>\n",
       "      <td>NaN</td>\n",
       "      <td>NaN</td>\n",
       "    </tr>\n",
       "  </tbody>\n",
       "</table>\n",
       "</div>"
      ],
      "text/plain": [
       "       key  Bulk 1  Bulk 2  Bulk 3  Bulk 4  Bulk 5  Bulk 6  Bulk 7  Bulk 8  \\\n",
       "104    117    52.0   325.0     NaN    68.0   112.0     NaN     NaN     NaN   \n",
       "262    280     NaN     NaN   126.0     NaN     NaN     NaN     NaN     NaN   \n",
       "303    322   185.0     NaN   101.0    58.0     NaN     NaN   406.0     NaN   \n",
       "632    663    27.0     NaN   100.0   127.0     NaN     NaN     NaN     NaN   \n",
       "1410  1464    31.0     NaN     NaN   105.0     NaN     NaN     NaN     NaN   \n",
       "2036  2108    63.0   242.0     NaN    98.0    94.0     NaN   507.0     NaN   \n",
       "2038  2110    39.0   270.0     NaN    94.0   122.0     NaN   405.0     NaN   \n",
       "2478  2570    50.0   270.0     NaN   124.0    18.0     NaN   352.0     NaN   \n",
       "\n",
       "      Bulk 9  Bulk 10  Bulk 11  Bulk 12  Bulk 13  Bulk 14  Bulk 15  \n",
       "104      NaN      NaN      NaN      NaN      NaN      NaN      NaN  \n",
       "262     63.0      NaN      NaN    108.0      NaN    263.0      NaN  \n",
       "303      NaN      NaN      NaN   1849.0      NaN    636.0      NaN  \n",
       "632      NaN      NaN      NaN    413.0      NaN    299.0    204.0  \n",
       "1410     NaN      NaN      NaN    774.0      NaN    306.0    100.0  \n",
       "2036     NaN      NaN      NaN      NaN      NaN      NaN      NaN  \n",
       "2038     NaN      NaN      NaN      NaN      NaN      NaN      NaN  \n",
       "2478     NaN      NaN      NaN    108.0      NaN      NaN      NaN  "
      ]
     },
     "execution_count": 30,
     "metadata": {},
     "output_type": "execute_result"
    }
   ],
   "source": [
    "data_bulk.query('key in @gas_keys')"
   ]
  },
  {
   "cell_type": "code",
   "execution_count": 31,
   "metadata": {
    "scrolled": true
   },
   "outputs": [
    {
     "data": {
      "text/html": [
       "<div>\n",
       "<style scoped>\n",
       "    .dataframe tbody tr th:only-of-type {\n",
       "        vertical-align: middle;\n",
       "    }\n",
       "\n",
       "    .dataframe tbody tr th {\n",
       "        vertical-align: top;\n",
       "    }\n",
       "\n",
       "    .dataframe thead th {\n",
       "        text-align: right;\n",
       "    }\n",
       "</style>\n",
       "<table border=\"1\" class=\"dataframe\">\n",
       "  <thead>\n",
       "    <tr style=\"text-align: right;\">\n",
       "      <th></th>\n",
       "      <th>key</th>\n",
       "      <th>Wire 1</th>\n",
       "      <th>Wire 2</th>\n",
       "      <th>Wire 3</th>\n",
       "      <th>Wire 4</th>\n",
       "      <th>Wire 5</th>\n",
       "      <th>Wire 6</th>\n",
       "      <th>Wire 7</th>\n",
       "      <th>Wire 8</th>\n",
       "      <th>Wire 9</th>\n",
       "    </tr>\n",
       "  </thead>\n",
       "  <tbody>\n",
       "    <tr>\n",
       "      <th>101</th>\n",
       "      <td>117</td>\n",
       "      <td>NaN</td>\n",
       "      <td>NaN</td>\n",
       "      <td>93.068977</td>\n",
       "      <td>NaN</td>\n",
       "      <td>NaN</td>\n",
       "      <td>26.975523</td>\n",
       "      <td>NaN</td>\n",
       "      <td>NaN</td>\n",
       "      <td>NaN</td>\n",
       "    </tr>\n",
       "    <tr>\n",
       "      <th>257</th>\n",
       "      <td>280</td>\n",
       "      <td>160.174557</td>\n",
       "      <td>76.236166</td>\n",
       "      <td>NaN</td>\n",
       "      <td>NaN</td>\n",
       "      <td>NaN</td>\n",
       "      <td>NaN</td>\n",
       "      <td>NaN</td>\n",
       "      <td>46.002319</td>\n",
       "      <td>NaN</td>\n",
       "    </tr>\n",
       "    <tr>\n",
       "      <th>299</th>\n",
       "      <td>322</td>\n",
       "      <td>NaN</td>\n",
       "      <td>188.228550</td>\n",
       "      <td>NaN</td>\n",
       "      <td>NaN</td>\n",
       "      <td>NaN</td>\n",
       "      <td>NaN</td>\n",
       "      <td>NaN</td>\n",
       "      <td>NaN</td>\n",
       "      <td>NaN</td>\n",
       "    </tr>\n",
       "    <tr>\n",
       "      <th>627</th>\n",
       "      <td>663</td>\n",
       "      <td>130.244400</td>\n",
       "      <td>NaN</td>\n",
       "      <td>NaN</td>\n",
       "      <td>NaN</td>\n",
       "      <td>NaN</td>\n",
       "      <td>NaN</td>\n",
       "      <td>NaN</td>\n",
       "      <td>NaN</td>\n",
       "      <td>NaN</td>\n",
       "    </tr>\n",
       "    <tr>\n",
       "      <th>1392</th>\n",
       "      <td>1464</td>\n",
       "      <td>280.987214</td>\n",
       "      <td>NaN</td>\n",
       "      <td>NaN</td>\n",
       "      <td>NaN</td>\n",
       "      <td>NaN</td>\n",
       "      <td>NaN</td>\n",
       "      <td>NaN</td>\n",
       "      <td>NaN</td>\n",
       "      <td>NaN</td>\n",
       "    </tr>\n",
       "    <tr>\n",
       "      <th>2010</th>\n",
       "      <td>2108</td>\n",
       "      <td>11.051040</td>\n",
       "      <td>NaN</td>\n",
       "      <td>93.213127</td>\n",
       "      <td>92.570401</td>\n",
       "      <td>NaN</td>\n",
       "      <td>63.045845</td>\n",
       "      <td>1.053936</td>\n",
       "      <td>NaN</td>\n",
       "      <td>NaN</td>\n",
       "    </tr>\n",
       "    <tr>\n",
       "      <th>2012</th>\n",
       "      <td>2110</td>\n",
       "      <td>3.101280</td>\n",
       "      <td>NaN</td>\n",
       "      <td>93.165077</td>\n",
       "      <td>56.078880</td>\n",
       "      <td>NaN</td>\n",
       "      <td>91.428487</td>\n",
       "      <td>0.234208</td>\n",
       "      <td>NaN</td>\n",
       "      <td>NaN</td>\n",
       "    </tr>\n",
       "    <tr>\n",
       "      <th>2443</th>\n",
       "      <td>2570</td>\n",
       "      <td>32.279522</td>\n",
       "      <td>NaN</td>\n",
       "      <td>NaN</td>\n",
       "      <td>NaN</td>\n",
       "      <td>NaN</td>\n",
       "      <td>44.307125</td>\n",
       "      <td>9.017009</td>\n",
       "      <td>NaN</td>\n",
       "      <td>NaN</td>\n",
       "    </tr>\n",
       "  </tbody>\n",
       "</table>\n",
       "</div>"
      ],
      "text/plain": [
       "       key      Wire 1      Wire 2     Wire 3     Wire 4  Wire 5     Wire 6  \\\n",
       "101    117         NaN         NaN  93.068977        NaN     NaN  26.975523   \n",
       "257    280  160.174557   76.236166        NaN        NaN     NaN        NaN   \n",
       "299    322         NaN  188.228550        NaN        NaN     NaN        NaN   \n",
       "627    663  130.244400         NaN        NaN        NaN     NaN        NaN   \n",
       "1392  1464  280.987214         NaN        NaN        NaN     NaN        NaN   \n",
       "2010  2108   11.051040         NaN  93.213127  92.570401     NaN  63.045845   \n",
       "2012  2110    3.101280         NaN  93.165077  56.078880     NaN  91.428487   \n",
       "2443  2570   32.279522         NaN        NaN        NaN     NaN  44.307125   \n",
       "\n",
       "        Wire 7     Wire 8  Wire 9  \n",
       "101        NaN        NaN     NaN  \n",
       "257        NaN  46.002319     NaN  \n",
       "299        NaN        NaN     NaN  \n",
       "627        NaN        NaN     NaN  \n",
       "1392       NaN        NaN     NaN  \n",
       "2010  1.053936        NaN     NaN  \n",
       "2012  0.234208        NaN     NaN  \n",
       "2443  9.017009        NaN     NaN  "
      ]
     },
     "execution_count": 31,
     "metadata": {},
     "output_type": "execute_result"
    }
   ],
   "source": [
    "data_wire.query('key in @gas_keys')"
   ]
  },
  {
   "cell_type": "markdown",
   "metadata": {},
   "source": [
    "Во все эти партии подавались редкие сыпучие материалы - которые, использовались менее чем в 10% партий.\n",
    "\n",
    "Касательно проволочных материалов - здесь только в 5 из 8 партий подавались редкие материалы.\n",
    "\n",
    "Посмотрим теперь на мощности."
   ]
  },
  {
   "cell_type": "code",
   "execution_count": 32,
   "metadata": {},
   "outputs": [
    {
     "data": {
      "text/html": [
       "<div>\n",
       "<style scoped>\n",
       "    .dataframe tbody tr th:only-of-type {\n",
       "        vertical-align: middle;\n",
       "    }\n",
       "\n",
       "    .dataframe tbody tr th {\n",
       "        vertical-align: top;\n",
       "    }\n",
       "\n",
       "    .dataframe thead th {\n",
       "        text-align: right;\n",
       "    }\n",
       "</style>\n",
       "<table border=\"1\" class=\"dataframe\">\n",
       "  <thead>\n",
       "    <tr style=\"text-align: right;\">\n",
       "      <th></th>\n",
       "      <th>sum_active_power</th>\n",
       "      <th>sum_reactive_power</th>\n",
       "      <th>full_power</th>\n",
       "    </tr>\n",
       "    <tr>\n",
       "      <th>key</th>\n",
       "      <th></th>\n",
       "      <th></th>\n",
       "      <th></th>\n",
       "    </tr>\n",
       "  </thead>\n",
       "  <tbody>\n",
       "    <tr>\n",
       "      <th>117</th>\n",
       "      <td>4.191196</td>\n",
       "      <td>2.908158</td>\n",
       "      <td>5.101324</td>\n",
       "    </tr>\n",
       "    <tr>\n",
       "      <th>280</th>\n",
       "      <td>4.248512</td>\n",
       "      <td>2.967820</td>\n",
       "      <td>5.182452</td>\n",
       "    </tr>\n",
       "    <tr>\n",
       "      <th>322</th>\n",
       "      <td>8.914806</td>\n",
       "      <td>6.564143</td>\n",
       "      <td>11.070761</td>\n",
       "    </tr>\n",
       "    <tr>\n",
       "      <th>663</th>\n",
       "      <td>4.318215</td>\n",
       "      <td>3.038392</td>\n",
       "      <td>5.280039</td>\n",
       "    </tr>\n",
       "    <tr>\n",
       "      <th>1464</th>\n",
       "      <td>1.604796</td>\n",
       "      <td>1.195681</td>\n",
       "      <td>2.001255</td>\n",
       "    </tr>\n",
       "    <tr>\n",
       "      <th>2108</th>\n",
       "      <td>10.706804</td>\n",
       "      <td>7.589489</td>\n",
       "      <td>13.123871</td>\n",
       "    </tr>\n",
       "    <tr>\n",
       "      <th>2110</th>\n",
       "      <td>1.945132</td>\n",
       "      <td>1.446366</td>\n",
       "      <td>2.423946</td>\n",
       "    </tr>\n",
       "    <tr>\n",
       "      <th>2570</th>\n",
       "      <td>5.330177</td>\n",
       "      <td>3.890786</td>\n",
       "      <td>6.599167</td>\n",
       "    </tr>\n",
       "  </tbody>\n",
       "</table>\n",
       "</div>"
      ],
      "text/plain": [
       "      sum_active_power  sum_reactive_power  full_power\n",
       "key                                                   \n",
       "117           4.191196            2.908158    5.101324\n",
       "280           4.248512            2.967820    5.182452\n",
       "322           8.914806            6.564143   11.070761\n",
       "663           4.318215            3.038392    5.280039\n",
       "1464          1.604796            1.195681    2.001255\n",
       "2108         10.706804            7.589489   13.123871\n",
       "2110          1.945132            1.446366    2.423946\n",
       "2570          5.330177            3.890786    6.599167"
      ]
     },
     "execution_count": 32,
     "metadata": {},
     "output_type": "execute_result"
    }
   ],
   "source": [
    "data_arc_sum.query('key in @gas_keys')"
   ]
  },
  {
   "cell_type": "markdown",
   "metadata": {},
   "source": [
    "Почти во всех партиях, кроме двух 1464 и 2110, активная и реактивная мощность больше третьего квартиля 3.8 и 2.8 соответственно.\n",
    "\n",
    "Сделаем предположение, что для партий с большой продувкой газом было подано больше материалов, а соответственно было затрачено больше мощности на её нагрев."
   ]
  },
  {
   "cell_type": "markdown",
   "metadata": {},
   "source": [
    "Посмотрим количество итераций для партий с такой большой продувкой."
   ]
  },
  {
   "cell_type": "code",
   "execution_count": 33,
   "metadata": {},
   "outputs": [
    {
     "data": {
      "text/html": [
       "<div>\n",
       "<style scoped>\n",
       "    .dataframe tbody tr th:only-of-type {\n",
       "        vertical-align: middle;\n",
       "    }\n",
       "\n",
       "    .dataframe tbody tr th {\n",
       "        vertical-align: top;\n",
       "    }\n",
       "\n",
       "    .dataframe thead th {\n",
       "        text-align: right;\n",
       "    }\n",
       "</style>\n",
       "<table border=\"1\" class=\"dataframe\">\n",
       "  <thead>\n",
       "    <tr style=\"text-align: right;\">\n",
       "      <th></th>\n",
       "      <th>start_time</th>\n",
       "      <th>end_time</th>\n",
       "      <th>active_power</th>\n",
       "      <th>reactive_power</th>\n",
       "      <th>time_heat</th>\n",
       "    </tr>\n",
       "    <tr>\n",
       "      <th>key</th>\n",
       "      <th></th>\n",
       "      <th></th>\n",
       "      <th></th>\n",
       "      <th></th>\n",
       "      <th></th>\n",
       "    </tr>\n",
       "  </thead>\n",
       "  <tbody>\n",
       "    <tr>\n",
       "      <th>117</th>\n",
       "      <td>6</td>\n",
       "      <td>6</td>\n",
       "      <td>6</td>\n",
       "      <td>6</td>\n",
       "      <td>6</td>\n",
       "    </tr>\n",
       "    <tr>\n",
       "      <th>280</th>\n",
       "      <td>9</td>\n",
       "      <td>9</td>\n",
       "      <td>9</td>\n",
       "      <td>9</td>\n",
       "      <td>9</td>\n",
       "    </tr>\n",
       "    <tr>\n",
       "      <th>322</th>\n",
       "      <td>13</td>\n",
       "      <td>13</td>\n",
       "      <td>13</td>\n",
       "      <td>13</td>\n",
       "      <td>13</td>\n",
       "    </tr>\n",
       "    <tr>\n",
       "      <th>663</th>\n",
       "      <td>8</td>\n",
       "      <td>8</td>\n",
       "      <td>8</td>\n",
       "      <td>8</td>\n",
       "      <td>8</td>\n",
       "    </tr>\n",
       "    <tr>\n",
       "      <th>1464</th>\n",
       "      <td>4</td>\n",
       "      <td>4</td>\n",
       "      <td>4</td>\n",
       "      <td>4</td>\n",
       "      <td>4</td>\n",
       "    </tr>\n",
       "    <tr>\n",
       "      <th>2108</th>\n",
       "      <td>16</td>\n",
       "      <td>16</td>\n",
       "      <td>16</td>\n",
       "      <td>16</td>\n",
       "      <td>16</td>\n",
       "    </tr>\n",
       "    <tr>\n",
       "      <th>2110</th>\n",
       "      <td>5</td>\n",
       "      <td>5</td>\n",
       "      <td>5</td>\n",
       "      <td>5</td>\n",
       "      <td>5</td>\n",
       "    </tr>\n",
       "    <tr>\n",
       "      <th>2570</th>\n",
       "      <td>9</td>\n",
       "      <td>9</td>\n",
       "      <td>9</td>\n",
       "      <td>9</td>\n",
       "      <td>9</td>\n",
       "    </tr>\n",
       "  </tbody>\n",
       "</table>\n",
       "</div>"
      ],
      "text/plain": [
       "      start_time  end_time  active_power  reactive_power  time_heat\n",
       "key                                                                \n",
       "117            6         6             6               6          6\n",
       "280            9         9             9               9          9\n",
       "322           13        13            13              13         13\n",
       "663            8         8             8               8          8\n",
       "1464           4         4             4               4          4\n",
       "2108          16        16            16              16         16\n",
       "2110           5         5             5               5          5\n",
       "2570           9         9             9               9          9"
      ]
     },
     "execution_count": 33,
     "metadata": {},
     "output_type": "execute_result"
    }
   ],
   "source": [
    "data_arc.query('key in @gas_keys').groupby(['key']).agg('count')"
   ]
  },
  {
   "cell_type": "markdown",
   "metadata": {},
   "source": [
    "Учитывая, что в среднем количество итераций для партии 5, здесь никакой закономерности не выявлено."
   ]
  },
  {
   "cell_type": "markdown",
   "metadata": {},
   "source": [
    "### Результаты измерения температуры"
   ]
  },
  {
   "cell_type": "code",
   "execution_count": 34,
   "metadata": {},
   "outputs": [
    {
     "data": {
      "text/html": [
       "<div>\n",
       "<style scoped>\n",
       "    .dataframe tbody tr th:only-of-type {\n",
       "        vertical-align: middle;\n",
       "    }\n",
       "\n",
       "    .dataframe tbody tr th {\n",
       "        vertical-align: top;\n",
       "    }\n",
       "\n",
       "    .dataframe thead th {\n",
       "        text-align: right;\n",
       "    }\n",
       "</style>\n",
       "<table border=\"1\" class=\"dataframe\">\n",
       "  <thead>\n",
       "    <tr style=\"text-align: right;\">\n",
       "      <th></th>\n",
       "      <th>key</th>\n",
       "      <th>Время замера</th>\n",
       "      <th>Температура</th>\n",
       "    </tr>\n",
       "  </thead>\n",
       "  <tbody>\n",
       "    <tr>\n",
       "      <th>0</th>\n",
       "      <td>1</td>\n",
       "      <td>2019-05-03 11:02:04</td>\n",
       "      <td>1571.0</td>\n",
       "    </tr>\n",
       "    <tr>\n",
       "      <th>1</th>\n",
       "      <td>1</td>\n",
       "      <td>2019-05-03 11:07:18</td>\n",
       "      <td>1604.0</td>\n",
       "    </tr>\n",
       "    <tr>\n",
       "      <th>2</th>\n",
       "      <td>1</td>\n",
       "      <td>2019-05-03 11:11:34</td>\n",
       "      <td>1618.0</td>\n",
       "    </tr>\n",
       "    <tr>\n",
       "      <th>3</th>\n",
       "      <td>1</td>\n",
       "      <td>2019-05-03 11:18:04</td>\n",
       "      <td>1601.0</td>\n",
       "    </tr>\n",
       "    <tr>\n",
       "      <th>4</th>\n",
       "      <td>1</td>\n",
       "      <td>2019-05-03 11:25:59</td>\n",
       "      <td>1606.0</td>\n",
       "    </tr>\n",
       "  </tbody>\n",
       "</table>\n",
       "</div>"
      ],
      "text/plain": [
       "   key         Время замера  Температура\n",
       "0    1  2019-05-03 11:02:04       1571.0\n",
       "1    1  2019-05-03 11:07:18       1604.0\n",
       "2    1  2019-05-03 11:11:34       1618.0\n",
       "3    1  2019-05-03 11:18:04       1601.0\n",
       "4    1  2019-05-03 11:25:59       1606.0"
      ]
     },
     "metadata": {},
     "output_type": "display_data"
    },
    {
     "name": "stdout",
     "output_type": "stream",
     "text": [
      "<class 'pandas.core.frame.DataFrame'>\n",
      "RangeIndex: 18092 entries, 0 to 18091\n",
      "Data columns (total 3 columns):\n",
      " #   Column        Non-Null Count  Dtype  \n",
      "---  ------        --------------  -----  \n",
      " 0   key           18092 non-null  int64  \n",
      " 1   Время замера  18092 non-null  object \n",
      " 2   Температура   14665 non-null  float64\n",
      "dtypes: float64(1), int64(1), object(1)\n",
      "memory usage: 424.2+ KB\n"
     ]
    }
   ],
   "source": [
    "data_temp = pd.read_csv('/datasets/data_temp_new.csv')\n",
    "\n",
    "display(data_temp.head())\n",
    "data_temp.info()"
   ]
  },
  {
   "cell_type": "markdown",
   "metadata": {},
   "source": [
    "В этой таблице наш целевой признак. Здесь есть пропуски, нужно изменить формат времени и переименовать столбцы."
   ]
  },
  {
   "cell_type": "code",
   "execution_count": 35,
   "metadata": {},
   "outputs": [
    {
     "name": "stdout",
     "output_type": "stream",
     "text": [
      "<class 'pandas.core.frame.DataFrame'>\n",
      "RangeIndex: 18092 entries, 0 to 18091\n",
      "Data columns (total 3 columns):\n",
      " #   Column    Non-Null Count  Dtype         \n",
      "---  ------    --------------  -----         \n",
      " 0   key       18092 non-null  int64         \n",
      " 1   datetime  18092 non-null  datetime64[ns]\n",
      " 2   temp      14665 non-null  float64       \n",
      "dtypes: datetime64[ns](1), float64(1), int64(1)\n",
      "memory usage: 424.2 KB\n"
     ]
    }
   ],
   "source": [
    "data_temp.columns = ['key', 'datetime', 'temp']\n",
    "data_temp['datetime'] = pd.to_datetime(data_temp['datetime'])\n",
    "\n",
    "data_temp.info()"
   ]
  },
  {
   "cell_type": "code",
   "execution_count": 36,
   "metadata": {},
   "outputs": [
    {
     "data": {
      "text/plain": [
       "3216"
      ]
     },
     "execution_count": 36,
     "metadata": {},
     "output_type": "execute_result"
    }
   ],
   "source": [
    "len(data_temp['key'].unique())"
   ]
  },
  {
   "cell_type": "code",
   "execution_count": 37,
   "metadata": {},
   "outputs": [
    {
     "data": {
      "text/plain": [
       "count    14665.000000\n",
       "mean      1590.722741\n",
       "std         20.394381\n",
       "min       1191.000000\n",
       "25%       1580.000000\n",
       "50%       1590.000000\n",
       "75%       1599.000000\n",
       "max       1705.000000\n",
       "Name: temp, dtype: float64"
      ]
     },
     "execution_count": 37,
     "metadata": {},
     "output_type": "execute_result"
    }
   ],
   "source": [
    "data_temp['temp'].describe()"
   ]
  },
  {
   "cell_type": "code",
   "execution_count": 38,
   "metadata": {},
   "outputs": [
    {
     "data": {
      "image/png": "[encoded data removed]",
      "text/plain": [
       "<Figure size 576x360 with 1 Axes>"
      ]
     },
     "metadata": {
      "needs_background": "light"
     },
     "output_type": "display_data"
    }
   ],
   "source": [
    "plt.figure(figsize = (8,5))\n",
    "ax = data_temp['temp'].hist(bins=100)\n",
    "ax.set_title('Распределение температуры')\n",
    "ax.set_ylabel('Температура')\n",
    "ax.set_xlabel('Количество')\n",
    "plt.show()"
   ]
  },
  {
   "cell_type": "markdown",
   "metadata": {},
   "source": [
    "Известно, что температура стали не может быть менее 1500. Значит партии с таким показателем нужно удалить целиком."
   ]
  },
  {
   "cell_type": "code",
   "execution_count": 39,
   "metadata": {
    "scrolled": true
   },
   "outputs": [
    {
     "data": {
      "text/html": [
       "<div>\n",
       "<style scoped>\n",
       "    .dataframe tbody tr th:only-of-type {\n",
       "        vertical-align: middle;\n",
       "    }\n",
       "\n",
       "    .dataframe tbody tr th {\n",
       "        vertical-align: top;\n",
       "    }\n",
       "\n",
       "    .dataframe thead th {\n",
       "        text-align: right;\n",
       "    }\n",
       "</style>\n",
       "<table border=\"1\" class=\"dataframe\">\n",
       "  <thead>\n",
       "    <tr style=\"text-align: right;\">\n",
       "      <th></th>\n",
       "      <th>key</th>\n",
       "      <th>datetime</th>\n",
       "      <th>temp</th>\n",
       "    </tr>\n",
       "  </thead>\n",
       "  <tbody>\n",
       "    <tr>\n",
       "      <th>4883</th>\n",
       "      <td>867</td>\n",
       "      <td>2019-06-06 08:03:39</td>\n",
       "      <td>1191.0</td>\n",
       "    </tr>\n",
       "    <tr>\n",
       "      <th>6784</th>\n",
       "      <td>1214</td>\n",
       "      <td>2019-06-18 08:01:03</td>\n",
       "      <td>1208.0</td>\n",
       "    </tr>\n",
       "    <tr>\n",
       "      <th>9050</th>\n",
       "      <td>1619</td>\n",
       "      <td>2019-07-03 02:34:41</td>\n",
       "      <td>1218.0</td>\n",
       "    </tr>\n",
       "    <tr>\n",
       "      <th>11495</th>\n",
       "      <td>2052</td>\n",
       "      <td>2019-07-25 08:49:15</td>\n",
       "      <td>1227.0</td>\n",
       "    </tr>\n",
       "    <tr>\n",
       "      <th>14283</th>\n",
       "      <td>2561</td>\n",
       "      <td>2019-08-12 18:49:29</td>\n",
       "      <td>1204.0</td>\n",
       "    </tr>\n",
       "  </tbody>\n",
       "</table>\n",
       "</div>"
      ],
      "text/plain": [
       "        key            datetime    temp\n",
       "4883    867 2019-06-06 08:03:39  1191.0\n",
       "6784   1214 2019-06-18 08:01:03  1208.0\n",
       "9050   1619 2019-07-03 02:34:41  1218.0\n",
       "11495  2052 2019-07-25 08:49:15  1227.0\n",
       "14283  2561 2019-08-12 18:49:29  1204.0"
      ]
     },
     "execution_count": 39,
     "metadata": {},
     "output_type": "execute_result"
    }
   ],
   "source": [
    "data_temp.query('temp < 1500')"
   ]
  },
  {
   "cell_type": "code",
   "execution_count": 40,
   "metadata": {},
   "outputs": [
    {
     "data": {
      "text/html": [
       "<div>\n",
       "<style scoped>\n",
       "    .dataframe tbody tr th:only-of-type {\n",
       "        vertical-align: middle;\n",
       "    }\n",
       "\n",
       "    .dataframe tbody tr th {\n",
       "        vertical-align: top;\n",
       "    }\n",
       "\n",
       "    .dataframe thead th {\n",
       "        text-align: right;\n",
       "    }\n",
       "</style>\n",
       "<table border=\"1\" class=\"dataframe\">\n",
       "  <thead>\n",
       "    <tr style=\"text-align: right;\">\n",
       "      <th></th>\n",
       "      <th>key</th>\n",
       "      <th>datetime</th>\n",
       "      <th>temp</th>\n",
       "    </tr>\n",
       "  </thead>\n",
       "  <tbody>\n",
       "  </tbody>\n",
       "</table>\n",
       "</div>"
      ],
      "text/plain": [
       "Empty DataFrame\n",
       "Columns: [key, datetime, temp]\n",
       "Index: []"
      ]
     },
     "execution_count": 40,
     "metadata": {},
     "output_type": "execute_result"
    }
   ],
   "source": [
    "del_keys = [867, 1214, 1619, 2052, 2561]\n",
    "data_temp = data_temp.query('key not in @del_keys')\n",
    "data_temp.query('temp < 1500')"
   ]
  },
  {
   "cell_type": "markdown",
   "metadata": {},
   "source": [
    "Теперь удалим партии с одним замером температуры."
   ]
  },
  {
   "cell_type": "code",
   "execution_count": 41,
   "metadata": {},
   "outputs": [
    {
     "data": {
      "text/plain": [
       "740"
      ]
     },
     "execution_count": 41,
     "metadata": {},
     "output_type": "execute_result"
    }
   ],
   "source": [
    "count_temp= data_temp.groupby('key')['temp'].count()\n",
    "del_count_temp = count_temp[count_temp==1]\n",
    "del_keys = del_count_temp.index.values.tolist()\n",
    "len(del_keys)"
   ]
  },
  {
   "cell_type": "code",
   "execution_count": 42,
   "metadata": {},
   "outputs": [],
   "source": [
    "data_temp_clear = data_temp.query('key not in @del_keys')"
   ]
  },
  {
   "cell_type": "code",
   "execution_count": 43,
   "metadata": {},
   "outputs": [],
   "source": [
    "count_temp= data_temp_clear.groupby('key')['temp'].count()"
   ]
  },
  {
   "cell_type": "code",
   "execution_count": 44,
   "metadata": {
    "scrolled": false
   },
   "outputs": [
    {
     "data": {
      "text/plain": [
       "0"
      ]
     },
     "execution_count": 44,
     "metadata": {},
     "output_type": "execute_result"
    }
   ],
   "source": [
    "count_temp[count_temp==1].sum()"
   ]
  },
  {
   "cell_type": "markdown",
   "metadata": {},
   "source": [
    "Составим сводную таблицу со значениями времени первого и последнего замера."
   ]
  },
  {
   "cell_type": "code",
   "execution_count": 45,
   "metadata": {
    "scrolled": true
   },
   "outputs": [
    {
     "data": {
      "text/html": [
       "<div>\n",
       "<style scoped>\n",
       "    .dataframe tbody tr th:only-of-type {\n",
       "        vertical-align: middle;\n",
       "    }\n",
       "\n",
       "    .dataframe tbody tr th {\n",
       "        vertical-align: top;\n",
       "    }\n",
       "\n",
       "    .dataframe thead th {\n",
       "        text-align: right;\n",
       "    }\n",
       "</style>\n",
       "<table border=\"1\" class=\"dataframe\">\n",
       "  <thead>\n",
       "    <tr style=\"text-align: right;\">\n",
       "      <th></th>\n",
       "      <th>start_temp</th>\n",
       "      <th>end_temp</th>\n",
       "    </tr>\n",
       "    <tr>\n",
       "      <th>key</th>\n",
       "      <th></th>\n",
       "      <th></th>\n",
       "    </tr>\n",
       "  </thead>\n",
       "  <tbody>\n",
       "    <tr>\n",
       "      <th>1</th>\n",
       "      <td>1571.0</td>\n",
       "      <td>1613.0</td>\n",
       "    </tr>\n",
       "    <tr>\n",
       "      <th>2</th>\n",
       "      <td>1581.0</td>\n",
       "      <td>1602.0</td>\n",
       "    </tr>\n",
       "    <tr>\n",
       "      <th>3</th>\n",
       "      <td>1596.0</td>\n",
       "      <td>1599.0</td>\n",
       "    </tr>\n",
       "    <tr>\n",
       "      <th>4</th>\n",
       "      <td>1601.0</td>\n",
       "      <td>1625.0</td>\n",
       "    </tr>\n",
       "    <tr>\n",
       "      <th>5</th>\n",
       "      <td>1576.0</td>\n",
       "      <td>1602.0</td>\n",
       "    </tr>\n",
       "  </tbody>\n",
       "</table>\n",
       "</div>"
      ],
      "text/plain": [
       "     start_temp  end_temp\n",
       "key                      \n",
       "1        1571.0    1613.0\n",
       "2        1581.0    1602.0\n",
       "3        1596.0    1599.0\n",
       "4        1601.0    1625.0\n",
       "5        1576.0    1602.0"
      ]
     },
     "metadata": {},
     "output_type": "display_data"
    },
    {
     "name": "stdout",
     "output_type": "stream",
     "text": [
      "<class 'pandas.core.frame.DataFrame'>\n",
      "Int64Index: 2471 entries, 1 to 2499\n",
      "Data columns (total 2 columns):\n",
      " #   Column      Non-Null Count  Dtype  \n",
      "---  ------      --------------  -----  \n",
      " 0   start_temp  2471 non-null   float64\n",
      " 1   end_temp    2471 non-null   float64\n",
      "dtypes: float64(2)\n",
      "memory usage: 57.9 KB\n"
     ]
    }
   ],
   "source": [
    "data_temp_start_temp = data_temp_clear.groupby('key').first()\n",
    "\n",
    "data_temp_end_temp = data_temp_clear.groupby('key').last()\n",
    "\n",
    "data_temp_final = data_temp_start_temp.merge(data_temp_end_temp, on='key')\n",
    "data_temp_final.columns = ['start_time', 'start_temp', 'end_time', 'end_temp']\n",
    "data_temp_final = data_temp_final[['start_temp', 'end_temp']]\n",
    "display(data_temp_final.head())\n",
    "data_temp_final.info()"
   ]
  },
  {
   "cell_type": "markdown",
   "metadata": {},
   "source": [
    "Наша цель предсказать значение столбца end_temp. Перейдем к подготовке финальной таблицы."
   ]
  },
  {
   "cell_type": "markdown",
   "metadata": {},
   "source": [
    "## Подготовка финальной таблицы с признаками <a id='final'></a>"
   ]
  },
  {
   "cell_type": "markdown",
   "metadata": {},
   "source": [
    "На этом этапе мы будем объединять данные из таблиц data_arc_sum, data_temp_final, data_bulk, data_gas и data_wire. В каждой таблице преобразуем index в значение столбца key."
   ]
  },
  {
   "cell_type": "code",
   "execution_count": 46,
   "metadata": {},
   "outputs": [],
   "source": [
    "data_bulk = data_bulk.set_index('key')\n",
    "data_bulk.columns = [f'bulk_{x}' for x in range(1,16)]\n",
    "data_gas = data_gas.set_index('key')\n",
    "data_gas.columns = ['gas']\n",
    "data_wire = data_wire.set_index('key')\n",
    "data_wire.columns = [f'wire_{x}' for x in range(1,10)]"
   ]
  },
  {
   "cell_type": "markdown",
   "metadata": {},
   "source": [
    "Заменим пропуски нулем. Проведем замену типов данных в столбцах start_temp, end_temp и bulk на целые числа. Это сократит использование памяти и ускорит работу."
   ]
  },
  {
   "cell_type": "code",
   "execution_count": 47,
   "metadata": {},
   "outputs": [
    {
     "name": "stdout",
     "output_type": "stream",
     "text": [
      "<class 'pandas.core.frame.DataFrame'>\n",
      "Int64Index: 2324 entries, 1 to 2499\n",
      "Data columns (total 28 columns):\n",
      " #   Column      Non-Null Count  Dtype  \n",
      "---  ------      --------------  -----  \n",
      " 0   full_power  2324 non-null   float64\n",
      " 1   start_temp  2324 non-null   int16  \n",
      " 2   end_temp    2324 non-null   int16  \n",
      " 3   bulk_1      2324 non-null   int16  \n",
      " 4   bulk_2      2324 non-null   int16  \n",
      " 5   bulk_3      2324 non-null   int16  \n",
      " 6   bulk_4      2324 non-null   int16  \n",
      " 7   bulk_5      2324 non-null   int16  \n",
      " 8   bulk_6      2324 non-null   int16  \n",
      " 9   bulk_7      2324 non-null   int16  \n",
      " 10  bulk_8      2324 non-null   int8   \n",
      " 11  bulk_9      2324 non-null   int16  \n",
      " 12  bulk_10     2324 non-null   int16  \n",
      " 13  bulk_11     2324 non-null   int16  \n",
      " 14  bulk_12     2324 non-null   int16  \n",
      " 15  bulk_13     2324 non-null   int16  \n",
      " 16  bulk_14     2324 non-null   int16  \n",
      " 17  bulk_15     2324 non-null   int16  \n",
      " 18  gas         2324 non-null   float64\n",
      " 19  wire_1      2324 non-null   float64\n",
      " 20  wire_2      2324 non-null   float64\n",
      " 21  wire_3      2324 non-null   float64\n",
      " 22  wire_4      2324 non-null   float64\n",
      " 23  wire_5      2324 non-null   float64\n",
      " 24  wire_6      2324 non-null   float64\n",
      " 25  wire_7      2324 non-null   float64\n",
      " 26  wire_8      2324 non-null   float64\n",
      " 27  wire_9      2324 non-null   float64\n",
      "dtypes: float64(11), int16(16), int8(1)\n",
      "memory usage: 292.8 KB\n"
     ]
    }
   ],
   "source": [
    "df = data_arc_full.merge(data_temp_final, on='key', how='inner')\n",
    "df = df.merge(data_bulk, on='key', how='inner')\n",
    "df = df.merge(data_gas, on='key', how='inner')\n",
    "df = df.merge(data_wire, on='key', how='inner')\n",
    "\n",
    "df = df.dropna(subset=['start_temp', 'end_temp'])\n",
    "df = df.fillna(0)\n",
    "\n",
    "df['start_temp'] = pd.to_numeric(df['start_temp'], downcast='integer')\n",
    "df['end_temp'] = pd.to_numeric(df['end_temp'], downcast='integer')\n",
    "for i in range(1,16):\n",
    "    df[f'bulk_{i}'] = pd.to_numeric(df[f'bulk_{i}'], downcast='integer')\n",
    "\n",
    "df.info()"
   ]
  },
  {
   "cell_type": "markdown",
   "metadata": {},
   "source": [
    "Теперь проверим мультиколлинеарность, выясним есть ли сильные зависимости целевого признака от других признаков. Построим тепловую карту."
   ]
  },
  {
   "cell_type": "code",
   "execution_count": 48,
   "metadata": {},
   "outputs": [
    {
     "data": {
      "image/png": "[encoded data removed]",
      "text/plain": [
       "<Figure size 1080x1080 with 1 Axes>"
      ]
     },
     "metadata": {
      "needs_background": "light"
     },
     "output_type": "display_data"
    }
   ],
   "source": [
    "df_mult = df.copy()\n",
    "corr_heatmap_df = df_mult.corr()\n",
    "\n",
    "fig, ax = plt.subplots(figsize=(15,15))\n",
    "ax.set_xticks(np.arange(len(corr_heatmap_df.index)))\n",
    "ax.set_yticks(np.arange(len(corr_heatmap_df.index)))\n",
    "\n",
    "ax.set_xticklabels(corr_heatmap_df.index)\n",
    "ax.set_yticklabels(corr_heatmap_df.index)\n",
    "\n",
    "plt.setp(ax.get_xticklabels(), rotation=45, ha=\"right\",\n",
    "         rotation_mode=\"anchor\")\n",
    "\n",
    "data = corr_heatmap_df.values\n",
    "\n",
    "for i in range(len(corr_heatmap_df.index)):\n",
    "    for j in range(len(corr_heatmap_df.index)):\n",
    "        text = ax.text(j, i, '{:.2}'.format(data[i, j]),\n",
    "                       ha=\"center\", va=\"center\", color=\"w\")\n",
    "        \n",
    "im = ax.imshow(corr_heatmap_df.corr(), cmap='Greens')"
   ]
  },
  {
   "cell_type": "markdown",
   "metadata": {},
   "source": [
    "По карте видно, что есть сильная прямопропорциональная зависимость между bulk_9 и wire_8. Для простых моделей это может стать проблемой, поэтому для обучения будем использовать линейную модель с регуляризацией."
   ]
  },
  {
   "cell_type": "markdown",
   "metadata": {},
   "source": [
    "Добавим столбцы с дополнительными признаками:\n",
    "- суммарный объем сыпучей/проволочной добавки для каждой партии\n",
    "- кол-во итераций нагрева дугой\n",
    "- кол-во замеров температуры\n",
    "- суммарное время нагрева"
   ]
  },
  {
   "cell_type": "code",
   "execution_count": 49,
   "metadata": {},
   "outputs": [
    {
     "name": "stdout",
     "output_type": "stream",
     "text": [
      "<class 'pandas.core.frame.DataFrame'>\n",
      "Int64Index: 2324 entries, 1 to 2499\n",
      "Data columns (total 30 columns):\n",
      " #   Column      Non-Null Count  Dtype  \n",
      "---  ------      --------------  -----  \n",
      " 0   full_power  2324 non-null   float64\n",
      " 1   start_temp  2324 non-null   int16  \n",
      " 2   end_temp    2324 non-null   int16  \n",
      " 3   bulk_1      2324 non-null   int16  \n",
      " 4   bulk_2      2324 non-null   int16  \n",
      " 5   bulk_3      2324 non-null   int16  \n",
      " 6   bulk_4      2324 non-null   int16  \n",
      " 7   bulk_5      2324 non-null   int16  \n",
      " 8   bulk_6      2324 non-null   int16  \n",
      " 9   bulk_7      2324 non-null   int16  \n",
      " 10  bulk_8      2324 non-null   int8   \n",
      " 11  bulk_9      2324 non-null   int16  \n",
      " 12  bulk_10     2324 non-null   int16  \n",
      " 13  bulk_11     2324 non-null   int16  \n",
      " 14  bulk_12     2324 non-null   int16  \n",
      " 15  bulk_13     2324 non-null   int16  \n",
      " 16  bulk_14     2324 non-null   int16  \n",
      " 17  bulk_15     2324 non-null   int16  \n",
      " 18  gas         2324 non-null   float64\n",
      " 19  wire_1      2324 non-null   float64\n",
      " 20  wire_2      2324 non-null   float64\n",
      " 21  wire_3      2324 non-null   float64\n",
      " 22  wire_4      2324 non-null   float64\n",
      " 23  wire_5      2324 non-null   float64\n",
      " 24  wire_6      2324 non-null   float64\n",
      " 25  wire_7      2324 non-null   float64\n",
      " 26  wire_8      2324 non-null   float64\n",
      " 27  wire_9      2324 non-null   float64\n",
      " 28  bulk_sum    2324 non-null   int64  \n",
      " 29  wire_sum    2324 non-null   float64\n",
      "dtypes: float64(12), int16(16), int64(1), int8(1)\n",
      "memory usage: 329.1 KB\n"
     ]
    }
   ],
   "source": [
    "#суммарный объем сыпучей/проволочной добавки для каждой партии\n",
    "df['bulk_sum'] = df[['bulk_1', 'bulk_2', 'bulk_3', 'bulk_4', 'bulk_5', \n",
    "                     'bulk_6', 'bulk_7', 'bulk_8', 'bulk_9', 'bulk_10', \n",
    "                     'bulk_11', 'bulk_12', 'bulk_13', 'bulk_14', 'bulk_15']].sum(axis=1)\n",
    "df['wire_sum'] = df[['wire_1', 'wire_2', 'wire_3', 'wire_4', 'wire_5', 'wire_6', 'wire_7', 'wire_8', 'wire_9']].sum(axis=1)\n",
    "\n",
    "df.info()"
   ]
  },
  {
   "cell_type": "code",
   "execution_count": 50,
   "metadata": {
    "scrolled": false
   },
   "outputs": [
    {
     "name": "stdout",
     "output_type": "stream",
     "text": [
      "<class 'pandas.core.frame.DataFrame'>\n",
      "Int64Index: 2324 entries, 1 to 2499\n",
      "Data columns (total 31 columns):\n",
      " #   Column      Non-Null Count  Dtype  \n",
      "---  ------      --------------  -----  \n",
      " 0   full_power  2324 non-null   float64\n",
      " 1   start_temp  2324 non-null   int16  \n",
      " 2   end_temp    2324 non-null   int16  \n",
      " 3   bulk_1      2324 non-null   int16  \n",
      " 4   bulk_2      2324 non-null   int16  \n",
      " 5   bulk_3      2324 non-null   int16  \n",
      " 6   bulk_4      2324 non-null   int16  \n",
      " 7   bulk_5      2324 non-null   int16  \n",
      " 8   bulk_6      2324 non-null   int16  \n",
      " 9   bulk_7      2324 non-null   int16  \n",
      " 10  bulk_8      2324 non-null   int8   \n",
      " 11  bulk_9      2324 non-null   int16  \n",
      " 12  bulk_10     2324 non-null   int16  \n",
      " 13  bulk_11     2324 non-null   int16  \n",
      " 14  bulk_12     2324 non-null   int16  \n",
      " 15  bulk_13     2324 non-null   int16  \n",
      " 16  bulk_14     2324 non-null   int16  \n",
      " 17  bulk_15     2324 non-null   int16  \n",
      " 18  gas         2324 non-null   float64\n",
      " 19  wire_1      2324 non-null   float64\n",
      " 20  wire_2      2324 non-null   float64\n",
      " 21  wire_3      2324 non-null   float64\n",
      " 22  wire_4      2324 non-null   float64\n",
      " 23  wire_5      2324 non-null   float64\n",
      " 24  wire_6      2324 non-null   float64\n",
      " 25  wire_7      2324 non-null   float64\n",
      " 26  wire_8      2324 non-null   float64\n",
      " 27  wire_9      2324 non-null   float64\n",
      " 28  bulk_sum    2324 non-null   int64  \n",
      " 29  wire_sum    2324 non-null   float64\n",
      " 30  count_iter  2324 non-null   int64  \n",
      "dtypes: float64(12), int16(16), int64(2), int8(1)\n",
      "memory usage: 347.2 KB\n"
     ]
    }
   ],
   "source": [
    "#кол-во итераций нагрева дугой\n",
    "count_iter = data_arc.groupby('key')['active_power'].count()\n",
    "df = df.merge(count_iter, on='key')\n",
    "df = df.rename(columns={'active_power': 'count_iter'})\n",
    "df.info()"
   ]
  },
  {
   "cell_type": "code",
   "execution_count": 51,
   "metadata": {},
   "outputs": [
    {
     "name": "stdout",
     "output_type": "stream",
     "text": [
      "<class 'pandas.core.frame.DataFrame'>\n",
      "Int64Index: 2324 entries, 1 to 2499\n",
      "Data columns (total 32 columns):\n",
      " #   Column      Non-Null Count  Dtype  \n",
      "---  ------      --------------  -----  \n",
      " 0   full_power  2324 non-null   float64\n",
      " 1   start_temp  2324 non-null   int16  \n",
      " 2   end_temp    2324 non-null   int16  \n",
      " 3   bulk_1      2324 non-null   int16  \n",
      " 4   bulk_2      2324 non-null   int16  \n",
      " 5   bulk_3      2324 non-null   int16  \n",
      " 6   bulk_4      2324 non-null   int16  \n",
      " 7   bulk_5      2324 non-null   int16  \n",
      " 8   bulk_6      2324 non-null   int16  \n",
      " 9   bulk_7      2324 non-null   int16  \n",
      " 10  bulk_8      2324 non-null   int8   \n",
      " 11  bulk_9      2324 non-null   int16  \n",
      " 12  bulk_10     2324 non-null   int16  \n",
      " 13  bulk_11     2324 non-null   int16  \n",
      " 14  bulk_12     2324 non-null   int16  \n",
      " 15  bulk_13     2324 non-null   int16  \n",
      " 16  bulk_14     2324 non-null   int16  \n",
      " 17  bulk_15     2324 non-null   int16  \n",
      " 18  gas         2324 non-null   float64\n",
      " 19  wire_1      2324 non-null   float64\n",
      " 20  wire_2      2324 non-null   float64\n",
      " 21  wire_3      2324 non-null   float64\n",
      " 22  wire_4      2324 non-null   float64\n",
      " 23  wire_5      2324 non-null   float64\n",
      " 24  wire_6      2324 non-null   float64\n",
      " 25  wire_7      2324 non-null   float64\n",
      " 26  wire_8      2324 non-null   float64\n",
      " 27  wire_9      2324 non-null   float64\n",
      " 28  bulk_sum    2324 non-null   int64  \n",
      " 29  wire_sum    2324 non-null   float64\n",
      " 30  count_iter  2324 non-null   int64  \n",
      " 31  count_temp  2324 non-null   int64  \n",
      "dtypes: float64(12), int16(16), int64(3), int8(1)\n",
      "memory usage: 365.4 KB\n"
     ]
    }
   ],
   "source": [
    "#кол-во замеров температуры\n",
    "df = df.merge(count_temp, on='key', how='left')\n",
    "df = df.rename(columns={'temp': 'count_temp'})\n",
    "df.info()"
   ]
  },
  {
   "cell_type": "code",
   "execution_count": 52,
   "metadata": {},
   "outputs": [
    {
     "name": "stdout",
     "output_type": "stream",
     "text": [
      "<class 'pandas.core.frame.DataFrame'>\n",
      "Int64Index: 2324 entries, 1 to 2499\n",
      "Data columns (total 33 columns):\n",
      " #   Column      Non-Null Count  Dtype  \n",
      "---  ------      --------------  -----  \n",
      " 0   full_power  2324 non-null   float64\n",
      " 1   start_temp  2324 non-null   int16  \n",
      " 2   end_temp    2324 non-null   int16  \n",
      " 3   bulk_1      2324 non-null   int16  \n",
      " 4   bulk_2      2324 non-null   int16  \n",
      " 5   bulk_3      2324 non-null   int16  \n",
      " 6   bulk_4      2324 non-null   int16  \n",
      " 7   bulk_5      2324 non-null   int16  \n",
      " 8   bulk_6      2324 non-null   int16  \n",
      " 9   bulk_7      2324 non-null   int16  \n",
      " 10  bulk_8      2324 non-null   int8   \n",
      " 11  bulk_9      2324 non-null   int16  \n",
      " 12  bulk_10     2324 non-null   int16  \n",
      " 13  bulk_11     2324 non-null   int16  \n",
      " 14  bulk_12     2324 non-null   int16  \n",
      " 15  bulk_13     2324 non-null   int16  \n",
      " 16  bulk_14     2324 non-null   int16  \n",
      " 17  bulk_15     2324 non-null   int16  \n",
      " 18  gas         2324 non-null   float64\n",
      " 19  wire_1      2324 non-null   float64\n",
      " 20  wire_2      2324 non-null   float64\n",
      " 21  wire_3      2324 non-null   float64\n",
      " 22  wire_4      2324 non-null   float64\n",
      " 23  wire_5      2324 non-null   float64\n",
      " 24  wire_6      2324 non-null   float64\n",
      " 25  wire_7      2324 non-null   float64\n",
      " 26  wire_8      2324 non-null   float64\n",
      " 27  wire_9      2324 non-null   float64\n",
      " 28  bulk_sum    2324 non-null   int64  \n",
      " 29  wire_sum    2324 non-null   float64\n",
      " 30  count_iter  2324 non-null   int64  \n",
      " 31  count_temp  2324 non-null   int64  \n",
      " 32  time_heat   2324 non-null   float64\n",
      "dtypes: float64(13), int16(16), int64(3), int8(1)\n",
      "memory usage: 383.6 KB\n"
     ]
    }
   ],
   "source": [
    "#суммарное время нагрева\n",
    "df = df.merge(data_arc_time_heat, on='key', how='left')\n",
    "df.info()"
   ]
  },
  {
   "cell_type": "markdown",
   "metadata": {},
   "source": [
    "## Выбор моделей регрессии <a id='model'></a>"
   ]
  },
  {
   "cell_type": "markdown",
   "metadata": {},
   "source": [
    "Выберем модели:\n",
    "- RandomForestRegressor\n",
    "- CatBoostRegressor\n",
    "- LGBMRegressor\n",
    "\n",
    "Разобьем данные на тренировочную и тестовую выборки. Выберем количество кросс-валидаций равным 5."
   ]
  },
  {
   "cell_type": "code",
   "execution_count": 53,
   "metadata": {},
   "outputs": [],
   "source": [
    "random_state=80823\n",
    "\n",
    "features = df.drop('end_temp', axis=1)\n",
    "target = df['end_temp']\n",
    "\n",
    "features_train, features_test, target_train, target_test = train_test_split(\n",
    "                                                            features, \n",
    "                                                            target, \n",
    "                                                            test_size=0.25, \n",
    "                                                            random_state=random_state)\n",
    "\n",
    "cv_counts = 5"
   ]
  },
  {
   "cell_type": "code",
   "execution_count": 54,
   "metadata": {},
   "outputs": [],
   "source": [
    "scaler= StandardScaler()\n",
    "scaler.fit(features_train)\n",
    "features_train_scaled = scaler.transform(features_train)\n",
    "features_test_scaled = scaler.transform(features_test)"
   ]
  },
  {
   "cell_type": "markdown",
   "metadata": {},
   "source": [
    "### Константная модель DummyRegressor"
   ]
  },
  {
   "cell_type": "markdown",
   "metadata": {},
   "source": [
    "Для того, чтобы выявить адекватность наших моделей, рассмотрим результаты константной модели."
   ]
  },
  {
   "cell_type": "code",
   "execution_count": 55,
   "metadata": {},
   "outputs": [
    {
     "name": "stdout",
     "output_type": "stream",
     "text": [
      "MAE константной модели 8.24\n"
     ]
    }
   ],
   "source": [
    "model_dummy = DummyRegressor(strategy='median')\n",
    "\n",
    "model_dummy.fit(features_train_scaled, target_train)\n",
    "predictions_dummy = model_dummy.predict(features_test_scaled)\n",
    "\n",
    "print('MAE константной модели {:.2f}'.format(mean_absolute_error(target_test, predictions_dummy)))"
   ]
  },
  {
   "cell_type": "markdown",
   "metadata": {},
   "source": [
    "### RandomForestRegressor"
   ]
  },
  {
   "cell_type": "code",
   "execution_count": 56,
   "metadata": {},
   "outputs": [
    {
     "name": "stdout",
     "output_type": "stream",
     "text": [
      "Наилучшие параметры:  {'max_depth': 10, 'max_features': 'auto', 'n_estimators': 500}\n",
      "Наилучшая MAE:  6.202271416487327\n",
      "CPU times: user 12min 8s, sys: 3.79 s, total: 12min 12s\n",
      "Wall time: 12min 20s\n"
     ]
    }
   ],
   "source": [
    "%%time\n",
    "\n",
    "rfr=RandomForestRegressor(random_state=random_state)\n",
    "\n",
    "param_grid = { \n",
    "    'n_estimators': [200, 300, 500, 700],\n",
    "    'max_features': ['auto', 'sqrt', 'log2'],\n",
    "    'max_depth' : [5,8,10,13,15]\n",
    "}\n",
    "\n",
    "CV_rfr = ms.GridSearchCV(estimator=rfr, \n",
    "                         param_grid=param_grid,\n",
    "                         scoring='neg_mean_absolute_error',  \n",
    "                         cv= cv_counts,\n",
    "                         n_jobs = -1 \n",
    "                        )\n",
    "CV_rfr.fit(features_train_scaled, target_train)\n",
    "\n",
    "CV_MAE_rfr = -CV_rfr.best_score_\n",
    "\n",
    "print(\"Наилучшие параметры: \",CV_rfr.best_params_)\n",
    "print(\"Наилучшая MAE: \",(CV_MAE_rfr))"
   ]
  },
  {
   "cell_type": "markdown",
   "metadata": {},
   "source": [
    "### CatBoostRegressor"
   ]
  },
  {
   "cell_type": "code",
   "execution_count": 57,
   "metadata": {},
   "outputs": [
    {
     "name": "stdout",
     "output_type": "stream",
     "text": [
      "Наилучшие параметры:  {'depth': 4, 'l2_leaf_reg': 3, 'learning_rate': 0.03, 'n_estimators': 600}\n",
      "Наилучшая MAE:  5.989445273200926\n",
      "CPU times: user 25min 7s, sys: 26.5 s, total: 25min 33s\n",
      "Wall time: 32min 48s\n"
     ]
    }
   ],
   "source": [
    "%%time\n",
    "\n",
    "cbr = CatBoostRegressor(verbose=False, random_state=random_state)\n",
    "\n",
    "param_grid = {\n",
    "    'depth': [4, 6, 8],\n",
    "    'n_estimators': [300, 500, 600],\n",
    "    'l2_leaf_reg': [1, 3, 5],\n",
    "    'learning_rate': [0.02, 0.03, 0.04]\n",
    "}\n",
    "\n",
    "CV_cbr = ms.GridSearchCV(estimator=cbr, \n",
    "                         param_grid=param_grid,\n",
    "                         scoring='neg_mean_absolute_error',  \n",
    "                         cv= cv_counts,\n",
    "                         n_jobs = -1 \n",
    "                        )\n",
    "CV_cbr.fit(features_train_scaled, target_train)\n",
    "\n",
    "CV_MAE_cbr = -CV_cbr.best_score_\n",
    "\n",
    "print(\"Наилучшие параметры: \",CV_cbr.best_params_)\n",
    "print(\"Наилучшая MAE: \",(CV_MAE_cbr))"
   ]
  },
  {
   "cell_type": "code",
   "execution_count": 64,
   "metadata": {},
   "outputs": [],
   "source": [
    "best_params_cbr = CatBoostRegressor(verbose=False, \n",
    "                                    random_state=random_state).fit(features_train_scaled, \n",
    "                                                                   target_train).get_all_params()"
   ]
  },
  {
   "cell_type": "markdown",
   "metadata": {},
   "source": [
    "### LGBMRegressor"
   ]
  },
  {
   "cell_type": "code",
   "execution_count": 66,
   "metadata": {},
   "outputs": [
    {
     "name": "stdout",
     "output_type": "stream",
     "text": [
      "Наилучшие параметры:  {'learning_rate': 0.05, 'num_leaves': 11}\n",
      "Наилучшая MAE:  6.142915644029731\n",
      "CPU times: user 33min 26s, sys: 20.2 s, total: 33min 46s\n",
      "Wall time: 33min 57s\n"
     ]
    }
   ],
   "source": [
    "%%time\n",
    "\n",
    "lgbm = LGBMRegressor(random_state=random_state) \n",
    "param_grid = {\n",
    "    'num_leaves': [5, 11],\n",
    "    'learning_rate': [0.1, 0.05]\n",
    "}\n",
    "\n",
    "CV_lgbm = ms.GridSearchCV(estimator=lgbm, \n",
    "                         param_grid=param_grid,\n",
    "                         scoring='neg_mean_absolute_error',  \n",
    "                         cv= cv_counts,\n",
    "                         n_jobs = -1 \n",
    "                        )\n",
    "CV_lgbm.fit(features_train_scaled, target_train)\n",
    "\n",
    "CV_MAE_lgbm = -CV_lgbm.best_score_\n",
    "\n",
    "print(\"Наилучшие параметры: \",CV_lgbm.best_params_)\n",
    "print(\"Наилучшая MAE: \",(CV_MAE_lgbm))"
   ]
  },
  {
   "cell_type": "code",
   "execution_count": 67,
   "metadata": {},
   "outputs": [
    {
     "data": {
      "text/html": [
       "<div>\n",
       "<style scoped>\n",
       "    .dataframe tbody tr th:only-of-type {\n",
       "        vertical-align: middle;\n",
       "    }\n",
       "\n",
       "    .dataframe tbody tr th {\n",
       "        vertical-align: top;\n",
       "    }\n",
       "\n",
       "    .dataframe thead th {\n",
       "        text-align: right;\n",
       "    }\n",
       "</style>\n",
       "<table border=\"1\" class=\"dataframe\">\n",
       "  <thead>\n",
       "    <tr style=\"text-align: right;\">\n",
       "      <th></th>\n",
       "      <th>MAE TRAIN</th>\n",
       "      <th>Выполнение задачи</th>\n",
       "    </tr>\n",
       "  </thead>\n",
       "  <tbody>\n",
       "    <tr>\n",
       "      <th>RandomForestRegressor</th>\n",
       "      <td>6.202271</td>\n",
       "      <td>True</td>\n",
       "    </tr>\n",
       "    <tr>\n",
       "      <th>CatBoostRegressor</th>\n",
       "      <td>5.989445</td>\n",
       "      <td>True</td>\n",
       "    </tr>\n",
       "    <tr>\n",
       "      <th>LGBMRegressor</th>\n",
       "      <td>6.142916</td>\n",
       "      <td>True</td>\n",
       "    </tr>\n",
       "  </tbody>\n",
       "</table>\n",
       "</div>"
      ],
      "text/plain": [
       "                       MAE TRAIN  Выполнение задачи\n",
       "RandomForestRegressor   6.202271               True\n",
       "CatBoostRegressor       5.989445               True\n",
       "LGBMRegressor           6.142916               True"
      ]
     },
     "execution_count": 67,
     "metadata": {},
     "output_type": "execute_result"
    }
   ],
   "source": [
    "index = ['RandomForestRegressor',\n",
    "         'CatBoostRegressor',\n",
    "         'LGBMRegressor']\n",
    "data = {'MAE TRAIN':[CV_MAE_rfr,\n",
    "                     CV_MAE_cbr,\n",
    "                     CV_MAE_lgbm]}\n",
    "\n",
    "scores_data = pd.DataFrame(data=data, index=index)\n",
    "scores_data['Выполнение задачи'] = scores_data['MAE TRAIN'] <= 6.8\n",
    "\n",
    "scores_data"
   ]
  },
  {
   "cell_type": "markdown",
   "metadata": {},
   "source": [
    "По итогам обучения все модели оказались адекватными - их МАЕ было ниже 8.24 (DummyRegressor). Также все модели прошли порог в 6.8 установленный заказчиком. Лучший результат показала модель CatBoostRegressor с параметрами {'depth': 4, 'l2_leaf_reg': 3, 'learning_rate': 0.03, 'n_estimators': 600}. Её мы проверим на тестовом наборе данных."
   ]
  },
  {
   "cell_type": "markdown",
   "metadata": {},
   "source": [
    "## Проверка выбранной модели на тестовом наборе данных <a id='test'></a>"
   ]
  },
  {
   "cell_type": "code",
   "execution_count": 65,
   "metadata": {
    "scrolled": true
   },
   "outputs": [
    {
     "name": "stdout",
     "output_type": "stream",
     "text": [
      "Значение метрики MAE модели CatBoostRegressor на тестовой метрике 6.369940830289071\n",
      "CPU times: user 6.44 s, sys: 133 ms, total: 6.57 s\n",
      "Wall time: 7.66 s\n"
     ]
    }
   ],
   "source": [
    "%%time\n",
    "\n",
    "model = CatBoostRegressor(verbose=False)\n",
    "model.set_params(**best_params_cbr)\n",
    "model.fit(features_train_scaled, target_train)\n",
    "target_predict = model.predict(features_test_scaled)\n",
    "test_MAE_cbr = mean_absolute_error(target_predict, target_test)\n",
    "\n",
    "print('Значение метрики MAE модели CatBoostRegressor на тестовой метрике', test_MAE_cbr)"
   ]
  },
  {
   "cell_type": "markdown",
   "metadata": {},
   "source": [
    "**ВЫВОД:** Итак, модель CatBoostRegressor с гиперпараметрами {'depth': 4, 'l2_leaf_reg': 3, 'learning_rate': 0.03, 'n_estimators': 600} на тестовой выборке показала МАЕ 6.4. Что удовлетворяет условиям заказчика."
   ]
  },
  {
   "cell_type": "markdown",
   "metadata": {},
   "source": [
    "## Составление итогового отчета <a id='conclusion'></a>"
   ]
  },
  {
   "cell_type": "markdown",
   "metadata": {},
   "source": [
    "Набор данных для этого проекта был предоставлен заказчиком. Он состоит из 7 таблиц:\n",
    "\n",
    "- `data_arc_new.csv` — данные об электродах;\n",
    "- `data_bulk_new.csv` — данные о подаче сыпучих материалов (объём);\n",
    "- `data_bulk_time_new.csv` — данные о подаче сыпучих материалов (время);\n",
    "- `data_gas_new.csv` — данные о продувке сплава газом;\n",
    "- `data_temp_new.csv` — результаты измерения температуры;\n",
    "- `data_wire_new.csv` — данные о проволочных материалах (объём);\n",
    "- `data_wire_time_new.csv` — данные о проволочных материалах (время).\n",
    "\n",
    "Таблицы содержат информацию о полном процессе изготовления более 3000 партий стали. Наша задача состоит в том, чтобы обучить модель **предсказанию конечной температуры стали**. Это поможет заказчику сократить затраты на электроэнергию.\n",
    "\n",
    "Для оценки эффективности нашей модели был выбран показатель МАЕ - среднее абсолютное отклонение. Он покажет на сколько градусов в среднем может ошибаться наша модель. Показатель **МАЕ < 6.8** будет считаться приемлемым."
   ]
  },
  {
   "cell_type": "markdown",
   "metadata": {},
   "source": [
    "В начале нашей работы мы подробно изучили каждую таблицу и внесли некоторые изменения:\n",
    "\n",
    "- В таблице с **данными об электродах** мы убрали аномальное (отрицательное) значение в столбце реактивной мощности - удалили всю партию. Затем мы сформировали один из новых признаков - полную мощность для производства каждой партии и общее время нагрева каждой партии.\n",
    "- В таблицах с **данными о объемах подачи сыпучих и проволочных материалов** мы вяснили, что далеко не все материалы были использованы - поэтому в этих таблицах много пропусков. Самыми часто встречающимися добавками оказались - bulk_12 и wire_1.\n",
    "- В таблице с **данными о продувке газом** выявили, что наибольшие показатели в этой таблице характерны для партий с большим объемом добавок, а следовательно наибольшей затраченной мощностью. Зависимости между кол-во итераций нагрева и большим показателем продува не выявлено.\n",
    "- В таблице с **данными об измерениях температуры** мы сначала удалили партии, в которых были температуры ниже 1500 градусов. Затем мы убрали партии, где был только один замер температуры. Далее мы составили сводную таблицу с начальной и конечной температурой для каждой партии.\n",
    "\n",
    "Следующим шагом мы приступили к созданию общей таблицы с **целевым признаком** - конечной температуры партии - и остальными **признаками** для каждой партии. Это:\n",
    "\n",
    "- начальная температура\n",
    "- суммарный объем добавленного сыпучего материала\n",
    "- суммарный объем добавленного проволочного материала\n",
    "- полная мощность\n",
    "- общее время нагрева партии\n",
    "- количество замеров температуры\n",
    "- количество итераций нагрева дугой\n",
    "\n",
    "В итоговую таблицу были добавлены только те партии, данные о которых были во всех таблицах."
   ]
  },
  {
   "cell_type": "markdown",
   "metadata": {},
   "source": [
    "Далее мы приступили к подготовке таблицы для обучения. Отделили **25% данных для тестовой** выборки. Признаки стандартизировали с использованием стандартной функции `Scaler()`.\n",
    "\n",
    "Для проверки наших моделей на адекватность мы обучили константную модель **DummyRegressor**, которая предсказывала медианное значение. Мы получили показатель **МАЕ = 8.24**. Если наша модель будет показывать МАЕ меньше этой цифры, то мы продолжим с ней дальнейшую работу.\n",
    "\n",
    "Были выбраны следующие модели: **RandomForestRegressor**, **CatBoostRegressor** и **LGBMRegressor**.\n",
    "\n",
    "Для каждой модели мы подобрали гиперпараметры с использованием `GridSearchCV()` и получили следующие показатели МАЕ на обучающией выборке:"
   ]
  },
  {
   "cell_type": "markdown",
   "metadata": {},
   "source": [
    "| **Модель**               | **МАЕ TRAIN** | \n",
    "|--------------------------|---------------|\n",
    "| RandomForestRegressor    | 6.2           |\n",
    "| CatBoostRegressor        | 6.0           |\n",
    "| LGBMRegressor            | 6.1           |"
   ]
  },
  {
   "cell_type": "markdown",
   "metadata": {},
   "source": [
    "Все модели показали адекватную работу по сравнению с константной моделью. По полученным результатам была выбрана модель **CatBoostRegressor** со следующими гиперпараметрами `{'depth': 4, 'l2_leaf_reg': 3, 'learning_rate': 0.03, 'n_estimators': 600}`. Она показала метрику **МАЕ=5.9**.\n",
    "\n",
    "В конце исследования мы провели проверку нашей модели на тестовой выборке и получили значение **МАЕ=6.4**. Эта цифра означает, что наша модель соответсвует требованию заказчика и модель **может ошибаться в среднем на +/- 6 градусов**."
   ]
  }
 ],
 "metadata": {
  "ExecuteTimeLog": [
   {
    "duration": 946,
    "start_time": "2023-08-09T11:23:58.033Z"
   },
   {
    "duration": 166,
    "start_time": "2023-08-09T11:31:10.304Z"
   },
   {
    "duration": 92,
    "start_time": "2023-08-09T11:32:17.870Z"
   },
   {
    "duration": 43,
    "start_time": "2023-08-09T11:36:40.916Z"
   },
   {
    "duration": 180,
    "start_time": "2023-08-09T11:43:26.627Z"
   },
   {
    "duration": 202,
    "start_time": "2023-08-09T11:43:45.478Z"
   },
   {
    "duration": 184,
    "start_time": "2023-08-09T11:46:17.174Z"
   },
   {
    "duration": 192,
    "start_time": "2023-08-09T11:48:05.347Z"
   },
   {
    "duration": 245,
    "start_time": "2023-08-09T11:48:27.976Z"
   },
   {
    "duration": 20,
    "start_time": "2023-08-09T11:50:03.628Z"
   },
   {
    "duration": 33,
    "start_time": "2023-08-09T11:51:57.522Z"
   },
   {
    "duration": 17,
    "start_time": "2023-08-09T12:31:51.953Z"
   },
   {
    "duration": 7,
    "start_time": "2023-08-09T13:13:40.417Z"
   },
   {
    "duration": 4,
    "start_time": "2023-08-09T13:21:52.275Z"
   },
   {
    "duration": 41,
    "start_time": "2023-08-09T13:22:18.503Z"
   },
   {
    "duration": 181,
    "start_time": "2023-08-09T13:23:40.530Z"
   },
   {
    "duration": 202,
    "start_time": "2023-08-09T13:23:56.031Z"
   },
   {
    "duration": 187,
    "start_time": "2023-08-09T13:24:00.171Z"
   },
   {
    "duration": 15,
    "start_time": "2023-08-09T13:24:29.155Z"
   },
   {
    "duration": 29,
    "start_time": "2023-08-09T13:25:10.032Z"
   },
   {
    "duration": 249,
    "start_time": "2023-08-09T13:25:55.949Z"
   },
   {
    "duration": 262,
    "start_time": "2023-08-09T13:28:33.963Z"
   },
   {
    "duration": 55,
    "start_time": "2023-08-09T13:29:02.749Z"
   },
   {
    "duration": 44,
    "start_time": "2023-08-09T13:29:39.275Z"
   },
   {
    "duration": 8,
    "start_time": "2023-08-09T13:47:18.713Z"
   },
   {
    "duration": 10,
    "start_time": "2023-08-09T13:59:55.673Z"
   },
   {
    "duration": 30,
    "start_time": "2023-08-09T14:00:13.522Z"
   },
   {
    "duration": 21,
    "start_time": "2023-08-09T14:01:05.322Z"
   },
   {
    "duration": 75,
    "start_time": "2023-08-09T14:01:23.082Z"
   },
   {
    "duration": 814,
    "start_time": "2023-08-09T14:10:34.614Z"
   },
   {
    "duration": 1339,
    "start_time": "2023-08-09T14:17:39.598Z"
   },
   {
    "duration": 224,
    "start_time": "2023-08-09T14:17:40.939Z"
   },
   {
    "duration": 0,
    "start_time": "2023-08-09T14:17:41.171Z"
   },
   {
    "duration": 0,
    "start_time": "2023-08-09T14:17:41.179Z"
   },
   {
    "duration": 0,
    "start_time": "2023-08-09T14:17:41.183Z"
   },
   {
    "duration": 0,
    "start_time": "2023-08-09T14:17:41.189Z"
   },
   {
    "duration": 0,
    "start_time": "2023-08-09T14:17:41.191Z"
   },
   {
    "duration": 0,
    "start_time": "2023-08-09T14:17:41.192Z"
   },
   {
    "duration": 0,
    "start_time": "2023-08-09T14:17:41.202Z"
   },
   {
    "duration": 0,
    "start_time": "2023-08-09T14:17:41.204Z"
   },
   {
    "duration": 0,
    "start_time": "2023-08-09T14:17:41.208Z"
   },
   {
    "duration": 0,
    "start_time": "2023-08-09T14:17:41.209Z"
   },
   {
    "duration": 0,
    "start_time": "2023-08-09T14:17:41.211Z"
   },
   {
    "duration": 0,
    "start_time": "2023-08-09T14:17:41.217Z"
   },
   {
    "duration": 0,
    "start_time": "2023-08-09T14:17:41.219Z"
   },
   {
    "duration": 423,
    "start_time": "2023-08-09T14:19:30.042Z"
   },
   {
    "duration": 9,
    "start_time": "2023-08-09T14:19:40.856Z"
   },
   {
    "duration": 53,
    "start_time": "2023-08-09T14:19:42.790Z"
   },
   {
    "duration": 543,
    "start_time": "2023-08-09T14:19:47.242Z"
   },
   {
    "duration": 476,
    "start_time": "2023-08-09T14:19:54.406Z"
   },
   {
    "duration": 416,
    "start_time": "2023-08-09T14:19:57.298Z"
   },
   {
    "duration": 61,
    "start_time": "2023-08-09T14:20:03.724Z"
   },
   {
    "duration": 19,
    "start_time": "2023-08-09T14:20:09.636Z"
   },
   {
    "duration": 335,
    "start_time": "2023-08-09T14:20:10.338Z"
   },
   {
    "duration": 23,
    "start_time": "2023-08-09T14:20:21.858Z"
   },
   {
    "duration": 732,
    "start_time": "2023-08-09T14:20:34.195Z"
   },
   {
    "duration": 62,
    "start_time": "2023-08-09T14:20:36.557Z"
   },
   {
    "duration": 177,
    "start_time": "2023-08-09T14:20:47.274Z"
   },
   {
    "duration": 73,
    "start_time": "2023-08-09T14:20:48.972Z"
   },
   {
    "duration": 204,
    "start_time": "2023-08-09T14:20:52.521Z"
   },
   {
    "duration": 758,
    "start_time": "2023-08-09T14:20:59.455Z"
   },
   {
    "duration": 18,
    "start_time": "2023-08-09T14:38:26.078Z"
   },
   {
    "duration": 119,
    "start_time": "2023-08-09T14:41:57.382Z"
   },
   {
    "duration": 122,
    "start_time": "2023-08-09T14:42:55.234Z"
   },
   {
    "duration": 127,
    "start_time": "2023-08-09T14:43:05.592Z"
   },
   {
    "duration": 11,
    "start_time": "2023-08-09T14:45:18.007Z"
   },
   {
    "duration": 109,
    "start_time": "2023-08-09T14:45:22.955Z"
   },
   {
    "duration": 414,
    "start_time": "2023-08-09T14:47:44.871Z"
   },
   {
    "duration": 53,
    "start_time": "2023-08-09T14:47:47.806Z"
   },
   {
    "duration": 477,
    "start_time": "2023-08-09T14:50:32.979Z"
   },
   {
    "duration": 180,
    "start_time": "2023-08-09T14:52:40.921Z"
   },
   {
    "duration": 295,
    "start_time": "2023-08-09T14:55:43.934Z"
   },
   {
    "duration": 5,
    "start_time": "2023-08-09T14:59:57.081Z"
   },
   {
    "duration": 10,
    "start_time": "2023-08-09T15:00:16.339Z"
   },
   {
    "duration": 4,
    "start_time": "2023-08-09T15:01:22.726Z"
   },
   {
    "duration": 22,
    "start_time": "2023-08-09T15:01:25.971Z"
   },
   {
    "duration": 13,
    "start_time": "2023-08-09T15:02:20.812Z"
   },
   {
    "duration": 242,
    "start_time": "2023-08-09T15:02:55.340Z"
   },
   {
    "duration": 272,
    "start_time": "2023-08-09T15:03:15.956Z"
   },
   {
    "duration": 348,
    "start_time": "2023-08-09T15:05:22.306Z"
   },
   {
    "duration": 358,
    "start_time": "2023-08-09T15:10:17.603Z"
   },
   {
    "duration": 25,
    "start_time": "2023-08-09T15:12:02.971Z"
   },
   {
    "duration": 53,
    "start_time": "2023-08-09T15:13:14.380Z"
   },
   {
    "duration": 21,
    "start_time": "2023-08-09T15:14:52.110Z"
   },
   {
    "duration": 18,
    "start_time": "2023-08-09T15:35:44.794Z"
   },
   {
    "duration": 696,
    "start_time": "2023-08-09T15:41:41.879Z"
   },
   {
    "duration": 79,
    "start_time": "2023-08-09T15:41:42.577Z"
   },
   {
    "duration": 3,
    "start_time": "2023-08-09T15:41:42.657Z"
   },
   {
    "duration": 43,
    "start_time": "2023-08-09T15:41:42.662Z"
   },
   {
    "duration": 196,
    "start_time": "2023-08-09T15:41:42.709Z"
   },
   {
    "duration": 167,
    "start_time": "2023-08-09T15:41:42.907Z"
   },
   {
    "duration": 164,
    "start_time": "2023-08-09T15:41:43.076Z"
   },
   {
    "duration": 11,
    "start_time": "2023-08-09T15:41:43.242Z"
   },
   {
    "duration": 20,
    "start_time": "2023-08-09T15:41:43.254Z"
   },
   {
    "duration": 169,
    "start_time": "2023-08-09T15:41:43.275Z"
   },
   {
    "duration": 15,
    "start_time": "2023-08-09T15:41:43.446Z"
   },
   {
    "duration": 67,
    "start_time": "2023-08-09T15:41:43.463Z"
   },
   {
    "duration": 29,
    "start_time": "2023-08-09T15:41:43.532Z"
   },
   {
    "duration": 74,
    "start_time": "2023-08-09T15:41:43.563Z"
   },
   {
    "duration": 341,
    "start_time": "2023-08-09T15:41:43.639Z"
   },
   {
    "duration": 5,
    "start_time": "2023-08-09T15:41:47.623Z"
   },
   {
    "duration": 78,
    "start_time": "2023-08-09T15:41:54.083Z"
   },
   {
    "duration": 830,
    "start_time": "2023-08-10T07:53:53.846Z"
   },
   {
    "duration": 135,
    "start_time": "2023-08-10T07:53:54.678Z"
   },
   {
    "duration": 6,
    "start_time": "2023-08-10T07:53:54.814Z"
   },
   {
    "duration": 48,
    "start_time": "2023-08-10T07:53:54.821Z"
   },
   {
    "duration": 176,
    "start_time": "2023-08-10T07:53:54.871Z"
   },
   {
    "duration": 142,
    "start_time": "2023-08-10T07:53:55.048Z"
   },
   {
    "duration": 154,
    "start_time": "2023-08-10T07:53:55.192Z"
   },
   {
    "duration": 15,
    "start_time": "2023-08-10T07:53:55.348Z"
   },
   {
    "duration": 13,
    "start_time": "2023-08-10T07:53:55.364Z"
   },
   {
    "duration": 182,
    "start_time": "2023-08-10T07:53:55.378Z"
   },
   {
    "duration": 15,
    "start_time": "2023-08-10T07:53:55.562Z"
   },
   {
    "duration": 299,
    "start_time": "2023-08-10T07:53:55.578Z"
   },
   {
    "duration": 35,
    "start_time": "2023-08-10T07:53:55.878Z"
   },
   {
    "duration": 75,
    "start_time": "2023-08-10T07:53:55.915Z"
   },
   {
    "duration": 330,
    "start_time": "2023-08-10T07:53:55.991Z"
   },
   {
    "duration": 170,
    "start_time": "2023-08-10T07:53:56.322Z"
   },
   {
    "duration": 40,
    "start_time": "2023-08-10T07:53:56.493Z"
   },
   {
    "duration": 228,
    "start_time": "2023-08-10T07:53:56.535Z"
   },
   {
    "duration": 120,
    "start_time": "2023-08-10T07:53:56.764Z"
   },
   {
    "duration": 3,
    "start_time": "2023-08-10T07:53:56.885Z"
   },
   {
    "duration": 19,
    "start_time": "2023-08-10T07:53:56.890Z"
   },
   {
    "duration": 252,
    "start_time": "2023-08-10T07:53:56.911Z"
   },
   {
    "duration": 96,
    "start_time": "2023-08-10T07:53:59.877Z"
   },
   {
    "duration": 120,
    "start_time": "2023-08-10T07:55:20.699Z"
   },
   {
    "duration": 7,
    "start_time": "2023-08-10T07:55:56.988Z"
   },
   {
    "duration": 6,
    "start_time": "2023-08-10T07:56:01.891Z"
   },
   {
    "duration": 44,
    "start_time": "2023-08-10T07:58:38.490Z"
   },
   {
    "duration": 17,
    "start_time": "2023-08-10T08:01:52.960Z"
   },
   {
    "duration": 13,
    "start_time": "2023-08-10T08:02:15.084Z"
   },
   {
    "duration": 10,
    "start_time": "2023-08-10T08:14:55.631Z"
   },
   {
    "duration": 13,
    "start_time": "2023-08-10T08:17:53.561Z"
   },
   {
    "duration": 193,
    "start_time": "2023-08-10T08:24:55.820Z"
   },
   {
    "duration": 37,
    "start_time": "2023-08-10T08:25:06.588Z"
   },
   {
    "duration": 13,
    "start_time": "2023-08-10T08:26:24.396Z"
   },
   {
    "duration": 273,
    "start_time": "2023-08-10T08:28:09.864Z"
   },
   {
    "duration": 9013,
    "start_time": "2023-08-10T08:43:43.565Z"
   },
   {
    "duration": 6973,
    "start_time": "2023-08-10T08:45:38.773Z"
   },
   {
    "duration": 9490,
    "start_time": "2023-08-10T08:47:28.881Z"
   },
   {
    "duration": 7635,
    "start_time": "2023-08-10T08:57:42.786Z"
   },
   {
    "duration": 15,
    "start_time": "2023-08-10T09:00:38.259Z"
   },
   {
    "duration": 7604,
    "start_time": "2023-08-10T09:03:43.280Z"
   },
   {
    "duration": 8311,
    "start_time": "2023-08-10T09:04:29.258Z"
   },
   {
    "duration": 9027,
    "start_time": "2023-08-10T09:07:31.851Z"
   },
   {
    "duration": 8792,
    "start_time": "2023-08-10T09:08:40.259Z"
   },
   {
    "duration": 14,
    "start_time": "2023-08-10T09:10:23.366Z"
   },
   {
    "duration": 18,
    "start_time": "2023-08-10T09:17:30.865Z"
   },
   {
    "duration": 14,
    "start_time": "2023-08-10T09:17:39.035Z"
   },
   {
    "duration": 1886,
    "start_time": "2023-08-10T09:20:30.489Z"
   },
   {
    "duration": 1566,
    "start_time": "2023-08-10T09:24:20.632Z"
   },
   {
    "duration": 18,
    "start_time": "2023-08-10T09:25:47.457Z"
   },
   {
    "duration": 16,
    "start_time": "2023-08-10T09:26:07.773Z"
   },
   {
    "duration": 24,
    "start_time": "2023-08-10T09:26:57.227Z"
   },
   {
    "duration": 5,
    "start_time": "2023-08-10T11:06:54.027Z"
   },
   {
    "duration": 15,
    "start_time": "2023-08-10T11:07:21.200Z"
   },
   {
    "duration": 23,
    "start_time": "2023-08-10T11:09:18.538Z"
   },
   {
    "duration": 2863,
    "start_time": "2023-08-10T11:11:41.793Z"
   },
   {
    "duration": 646,
    "start_time": "2023-08-10T11:16:49.082Z"
   },
   {
    "duration": 62,
    "start_time": "2023-08-10T11:16:49.730Z"
   },
   {
    "duration": 3,
    "start_time": "2023-08-10T11:16:49.794Z"
   },
   {
    "duration": 37,
    "start_time": "2023-08-10T11:16:49.799Z"
   },
   {
    "duration": 158,
    "start_time": "2023-08-10T11:16:49.838Z"
   },
   {
    "duration": 158,
    "start_time": "2023-08-10T11:16:50.007Z"
   },
   {
    "duration": 155,
    "start_time": "2023-08-10T11:16:50.166Z"
   },
   {
    "duration": 11,
    "start_time": "2023-08-10T11:16:50.322Z"
   },
   {
    "duration": 12,
    "start_time": "2023-08-10T11:16:50.334Z"
   },
   {
    "duration": 139,
    "start_time": "2023-08-10T11:16:50.347Z"
   },
   {
    "duration": 25,
    "start_time": "2023-08-10T11:16:50.488Z"
   },
   {
    "duration": 25,
    "start_time": "2023-08-10T11:16:50.516Z"
   },
   {
    "duration": 108,
    "start_time": "2023-08-10T11:16:50.542Z"
   },
   {
    "duration": 25,
    "start_time": "2023-08-10T11:16:50.653Z"
   },
   {
    "duration": 43,
    "start_time": "2023-08-10T11:16:50.680Z"
   },
   {
    "duration": 298,
    "start_time": "2023-08-10T11:16:50.724Z"
   },
   {
    "duration": 46,
    "start_time": "2023-08-10T11:16:51.024Z"
   },
   {
    "duration": 18,
    "start_time": "2023-08-10T11:16:51.071Z"
   },
   {
    "duration": 260,
    "start_time": "2023-08-10T11:16:51.090Z"
   },
   {
    "duration": 50,
    "start_time": "2023-08-10T11:16:51.351Z"
   },
   {
    "duration": 3,
    "start_time": "2023-08-10T11:16:51.412Z"
   },
   {
    "duration": 21,
    "start_time": "2023-08-10T11:16:51.417Z"
   },
   {
    "duration": 235,
    "start_time": "2023-08-10T11:16:51.439Z"
   },
   {
    "duration": 5,
    "start_time": "2023-08-10T11:16:51.675Z"
   },
   {
    "duration": 33,
    "start_time": "2023-08-10T11:16:51.681Z"
   },
   {
    "duration": 25,
    "start_time": "2023-08-10T11:16:51.715Z"
   },
   {
    "duration": 26,
    "start_time": "2023-08-10T11:16:51.742Z"
   },
   {
    "duration": 57,
    "start_time": "2023-08-10T11:16:51.770Z"
   },
   {
    "duration": 14,
    "start_time": "2023-08-10T11:16:51.829Z"
   },
   {
    "duration": 46,
    "start_time": "2023-08-10T11:16:51.844Z"
   },
   {
    "duration": 228,
    "start_time": "2023-08-10T11:16:51.892Z"
   },
   {
    "duration": 8204,
    "start_time": "2023-08-10T11:16:52.121Z"
   },
   {
    "duration": 8791,
    "start_time": "2023-08-10T11:19:31.837Z"
   },
   {
    "duration": 12,
    "start_time": "2023-08-10T11:20:37.772Z"
   },
   {
    "duration": 20,
    "start_time": "2023-08-10T11:20:56.623Z"
   },
   {
    "duration": 1412,
    "start_time": "2023-08-10T11:22:06.999Z"
   },
   {
    "duration": 665,
    "start_time": "2023-08-10T11:25:34.587Z"
   },
   {
    "duration": 73,
    "start_time": "2023-08-10T11:25:35.253Z"
   },
   {
    "duration": 3,
    "start_time": "2023-08-10T11:25:35.328Z"
   },
   {
    "duration": 55,
    "start_time": "2023-08-10T11:25:35.333Z"
   },
   {
    "duration": 192,
    "start_time": "2023-08-10T11:25:35.390Z"
   },
   {
    "duration": 153,
    "start_time": "2023-08-10T11:25:35.583Z"
   },
   {
    "duration": 143,
    "start_time": "2023-08-10T11:25:35.737Z"
   },
   {
    "duration": 23,
    "start_time": "2023-08-10T11:25:35.881Z"
   },
   {
    "duration": 9,
    "start_time": "2023-08-10T11:25:35.909Z"
   },
   {
    "duration": 195,
    "start_time": "2023-08-10T11:25:35.922Z"
   },
   {
    "duration": 17,
    "start_time": "2023-08-10T11:25:36.118Z"
   },
   {
    "duration": 27,
    "start_time": "2023-08-10T11:25:36.136Z"
   },
   {
    "duration": 109,
    "start_time": "2023-08-10T11:25:36.165Z"
   },
   {
    "duration": 47,
    "start_time": "2023-08-10T11:25:36.276Z"
   },
   {
    "duration": 27,
    "start_time": "2023-08-10T11:25:36.325Z"
   },
   {
    "duration": 279,
    "start_time": "2023-08-10T11:25:36.353Z"
   },
   {
    "duration": 45,
    "start_time": "2023-08-10T11:25:36.633Z"
   },
   {
    "duration": 18,
    "start_time": "2023-08-10T11:25:36.679Z"
   },
   {
    "duration": 351,
    "start_time": "2023-08-10T11:25:36.698Z"
   },
   {
    "duration": 52,
    "start_time": "2023-08-10T11:25:37.050Z"
   },
   {
    "duration": 6,
    "start_time": "2023-08-10T11:25:37.106Z"
   },
   {
    "duration": 16,
    "start_time": "2023-08-10T11:25:37.113Z"
   },
   {
    "duration": 254,
    "start_time": "2023-08-10T11:25:37.131Z"
   },
   {
    "duration": 5,
    "start_time": "2023-08-10T11:25:37.386Z"
   },
   {
    "duration": 41,
    "start_time": "2023-08-10T11:25:37.393Z"
   },
   {
    "duration": 12,
    "start_time": "2023-08-10T11:25:37.436Z"
   },
   {
    "duration": 8,
    "start_time": "2023-08-10T11:25:37.449Z"
   },
   {
    "duration": 59,
    "start_time": "2023-08-10T11:25:37.459Z"
   },
   {
    "duration": 14,
    "start_time": "2023-08-10T11:25:37.519Z"
   },
   {
    "duration": 7,
    "start_time": "2023-08-10T11:25:37.534Z"
   },
   {
    "duration": 208,
    "start_time": "2023-08-10T11:25:37.542Z"
   },
   {
    "duration": 9,
    "start_time": "2023-08-10T11:25:48.237Z"
   },
   {
    "duration": 8360,
    "start_time": "2023-08-10T11:27:47.822Z"
   },
   {
    "duration": 24,
    "start_time": "2023-08-10T11:28:30.674Z"
   },
   {
    "duration": 95,
    "start_time": "2023-08-10T11:29:59.514Z"
   },
   {
    "duration": 7,
    "start_time": "2023-08-10T11:30:08.515Z"
   },
   {
    "duration": 5,
    "start_time": "2023-08-10T11:30:18.820Z"
   },
   {
    "duration": 615,
    "start_time": "2023-08-10T11:30:48.366Z"
   },
   {
    "duration": 71,
    "start_time": "2023-08-10T11:30:48.982Z"
   },
   {
    "duration": 3,
    "start_time": "2023-08-10T11:30:49.055Z"
   },
   {
    "duration": 36,
    "start_time": "2023-08-10T11:30:49.059Z"
   },
   {
    "duration": 177,
    "start_time": "2023-08-10T11:30:49.097Z"
   },
   {
    "duration": 141,
    "start_time": "2023-08-10T11:30:49.275Z"
   },
   {
    "duration": 168,
    "start_time": "2023-08-10T11:30:49.418Z"
   },
   {
    "duration": 23,
    "start_time": "2023-08-10T11:30:49.588Z"
   },
   {
    "duration": 17,
    "start_time": "2023-08-10T11:30:49.613Z"
   },
   {
    "duration": 140,
    "start_time": "2023-08-10T11:30:49.631Z"
   },
   {
    "duration": 14,
    "start_time": "2023-08-10T11:30:49.772Z"
   },
   {
    "duration": 22,
    "start_time": "2023-08-10T11:30:49.787Z"
   },
   {
    "duration": 101,
    "start_time": "2023-08-10T11:30:49.810Z"
   },
   {
    "duration": 25,
    "start_time": "2023-08-10T11:30:49.914Z"
   },
   {
    "duration": 18,
    "start_time": "2023-08-10T11:30:49.941Z"
   },
   {
    "duration": 329,
    "start_time": "2023-08-10T11:30:49.961Z"
   },
   {
    "duration": 51,
    "start_time": "2023-08-10T11:30:50.292Z"
   },
   {
    "duration": 20,
    "start_time": "2023-08-10T11:30:50.345Z"
   },
   {
    "duration": 293,
    "start_time": "2023-08-10T11:30:50.367Z"
   },
   {
    "duration": 59,
    "start_time": "2023-08-10T11:30:50.662Z"
   },
   {
    "duration": 3,
    "start_time": "2023-08-10T11:30:50.723Z"
   },
   {
    "duration": 29,
    "start_time": "2023-08-10T11:30:50.728Z"
   },
   {
    "duration": 236,
    "start_time": "2023-08-10T11:30:50.759Z"
   },
   {
    "duration": 12,
    "start_time": "2023-08-10T11:30:51.001Z"
   },
   {
    "duration": 31,
    "start_time": "2023-08-10T11:30:51.015Z"
   },
   {
    "duration": 23,
    "start_time": "2023-08-10T11:30:51.047Z"
   },
   {
    "duration": 16,
    "start_time": "2023-08-10T11:30:51.071Z"
   },
   {
    "duration": 74,
    "start_time": "2023-08-10T11:30:51.088Z"
   },
   {
    "duration": 14,
    "start_time": "2023-08-10T11:30:51.164Z"
   },
   {
    "duration": 4,
    "start_time": "2023-08-10T11:30:57.662Z"
   },
   {
    "duration": 5,
    "start_time": "2023-08-10T11:31:25.966Z"
   },
   {
    "duration": 8,
    "start_time": "2023-08-10T11:31:42.063Z"
   },
   {
    "duration": 237,
    "start_time": "2023-08-10T11:31:43.411Z"
   },
   {
    "duration": 11,
    "start_time": "2023-08-10T11:31:47.516Z"
   },
   {
    "duration": 8502,
    "start_time": "2023-08-10T11:31:52.115Z"
   },
   {
    "duration": 14,
    "start_time": "2023-08-10T11:32:06.692Z"
   },
   {
    "duration": 21,
    "start_time": "2023-08-10T11:32:15.666Z"
   },
   {
    "duration": 136,
    "start_time": "2023-08-10T11:47:12.226Z"
   },
   {
    "duration": 6,
    "start_time": "2023-08-10T11:47:45.476Z"
   },
   {
    "duration": 11,
    "start_time": "2023-08-10T11:48:19.120Z"
   },
   {
    "duration": 85,
    "start_time": "2023-08-10T12:23:14.503Z"
   },
   {
    "duration": 14,
    "start_time": "2023-08-10T12:23:30.315Z"
   },
   {
    "duration": 20,
    "start_time": "2023-08-10T12:29:15.892Z"
   },
   {
    "duration": 20,
    "start_time": "2023-08-10T12:29:42.389Z"
   },
   {
    "duration": 10,
    "start_time": "2023-08-10T12:29:45.625Z"
   },
   {
    "duration": 15,
    "start_time": "2023-08-10T12:30:20.112Z"
   },
   {
    "duration": 12,
    "start_time": "2023-08-10T12:40:14.726Z"
   },
   {
    "duration": 25,
    "start_time": "2023-08-10T12:41:07.894Z"
   },
   {
    "duration": 1770,
    "start_time": "2023-08-10T12:42:41.734Z"
   },
   {
    "duration": 12,
    "start_time": "2023-08-10T12:46:05.243Z"
   },
   {
    "duration": 19,
    "start_time": "2023-08-10T12:46:50.597Z"
   },
   {
    "duration": 22,
    "start_time": "2023-08-10T12:52:00.136Z"
   },
   {
    "duration": 589,
    "start_time": "2023-08-10T12:55:06.631Z"
   },
   {
    "duration": 20,
    "start_time": "2023-08-10T12:55:21.159Z"
   },
   {
    "duration": 19,
    "start_time": "2023-08-10T13:05:30.561Z"
   },
   {
    "duration": 16,
    "start_time": "2023-08-10T13:07:53.249Z"
   },
   {
    "duration": 4,
    "start_time": "2023-08-10T13:08:57.370Z"
   },
   {
    "duration": 820,
    "start_time": "2023-08-10T13:09:38.620Z"
   },
   {
    "duration": 66,
    "start_time": "2023-08-10T13:09:39.442Z"
   },
   {
    "duration": 9,
    "start_time": "2023-08-10T13:09:39.509Z"
   },
   {
    "duration": 29,
    "start_time": "2023-08-10T13:09:39.521Z"
   },
   {
    "duration": 175,
    "start_time": "2023-08-10T13:09:39.552Z"
   },
   {
    "duration": 189,
    "start_time": "2023-08-10T13:09:39.729Z"
   },
   {
    "duration": 155,
    "start_time": "2023-08-10T13:09:39.920Z"
   },
   {
    "duration": 11,
    "start_time": "2023-08-10T13:09:40.076Z"
   },
   {
    "duration": 23,
    "start_time": "2023-08-10T13:09:40.089Z"
   },
   {
    "duration": 171,
    "start_time": "2023-08-10T13:09:40.114Z"
   },
   {
    "duration": 26,
    "start_time": "2023-08-10T13:09:40.287Z"
   },
   {
    "duration": 38,
    "start_time": "2023-08-10T13:09:40.314Z"
   },
   {
    "duration": 124,
    "start_time": "2023-08-10T13:09:40.353Z"
   },
   {
    "duration": 33,
    "start_time": "2023-08-10T13:09:40.479Z"
   },
   {
    "duration": 117,
    "start_time": "2023-08-10T13:09:40.513Z"
   },
   {
    "duration": 298,
    "start_time": "2023-08-10T13:09:40.632Z"
   },
   {
    "duration": 16,
    "start_time": "2023-08-10T13:09:40.932Z"
   },
   {
    "duration": 81,
    "start_time": "2023-08-10T13:09:40.949Z"
   },
   {
    "duration": 18,
    "start_time": "2023-08-10T13:09:41.032Z"
   },
   {
    "duration": 292,
    "start_time": "2023-08-10T13:09:41.051Z"
   },
   {
    "duration": 11,
    "start_time": "2023-08-10T13:09:41.345Z"
   },
   {
    "duration": 59,
    "start_time": "2023-08-10T13:09:44.533Z"
   },
   {
    "duration": 5,
    "start_time": "2023-08-10T13:09:46.430Z"
   },
   {
    "duration": 8,
    "start_time": "2023-08-10T13:09:47.331Z"
   },
   {
    "duration": 236,
    "start_time": "2023-08-10T13:09:50.330Z"
   },
   {
    "duration": 1546,
    "start_time": "2023-08-10T13:09:53.032Z"
   },
   {
    "duration": 38,
    "start_time": "2023-08-10T13:10:21.496Z"
   },
   {
    "duration": 704,
    "start_time": "2023-08-10T13:11:13.086Z"
   },
   {
    "duration": 71,
    "start_time": "2023-08-10T13:11:13.792Z"
   },
   {
    "duration": 3,
    "start_time": "2023-08-10T13:11:13.865Z"
   },
   {
    "duration": 59,
    "start_time": "2023-08-10T13:11:13.870Z"
   },
   {
    "duration": 190,
    "start_time": "2023-08-10T13:11:13.930Z"
   },
   {
    "duration": 137,
    "start_time": "2023-08-10T13:11:14.121Z"
   },
   {
    "duration": 156,
    "start_time": "2023-08-10T13:11:14.259Z"
   },
   {
    "duration": 11,
    "start_time": "2023-08-10T13:11:14.417Z"
   },
   {
    "duration": 50,
    "start_time": "2023-08-10T13:11:14.429Z"
   },
   {
    "duration": 168,
    "start_time": "2023-08-10T13:11:14.481Z"
   },
   {
    "duration": 15,
    "start_time": "2023-08-10T13:11:14.651Z"
   },
   {
    "duration": 41,
    "start_time": "2023-08-10T13:11:14.667Z"
   },
   {
    "duration": 40,
    "start_time": "2023-08-10T13:11:14.714Z"
   },
   {
    "duration": 71,
    "start_time": "2023-08-10T13:11:14.756Z"
   },
   {
    "duration": 18,
    "start_time": "2023-08-10T13:11:14.828Z"
   },
   {
    "duration": 332,
    "start_time": "2023-08-10T13:11:14.847Z"
   },
   {
    "duration": 56,
    "start_time": "2023-08-10T13:11:15.181Z"
   },
   {
    "duration": 17,
    "start_time": "2023-08-10T13:11:15.238Z"
   },
   {
    "duration": 295,
    "start_time": "2023-08-10T13:11:15.257Z"
   },
   {
    "duration": 52,
    "start_time": "2023-08-10T13:11:15.554Z"
   },
   {
    "duration": 5,
    "start_time": "2023-08-10T13:11:15.615Z"
   },
   {
    "duration": 31,
    "start_time": "2023-08-10T13:11:15.622Z"
   },
   {
    "duration": 283,
    "start_time": "2023-08-10T13:11:15.655Z"
   },
   {
    "duration": 1683,
    "start_time": "2023-08-10T13:11:18.515Z"
   },
   {
    "duration": 615,
    "start_time": "2023-08-10T13:11:58.811Z"
   },
   {
    "duration": 64,
    "start_time": "2023-08-10T13:11:59.428Z"
   },
   {
    "duration": 3,
    "start_time": "2023-08-10T13:11:59.493Z"
   },
   {
    "duration": 46,
    "start_time": "2023-08-10T13:11:59.498Z"
   },
   {
    "duration": 172,
    "start_time": "2023-08-10T13:11:59.546Z"
   },
   {
    "duration": 131,
    "start_time": "2023-08-10T13:11:59.719Z"
   },
   {
    "duration": 164,
    "start_time": "2023-08-10T13:11:59.852Z"
   },
   {
    "duration": 11,
    "start_time": "2023-08-10T13:12:00.017Z"
   },
   {
    "duration": 26,
    "start_time": "2023-08-10T13:12:00.030Z"
   },
   {
    "duration": 181,
    "start_time": "2023-08-10T13:12:00.059Z"
   },
   {
    "duration": 16,
    "start_time": "2023-08-10T13:12:00.241Z"
   },
   {
    "duration": 55,
    "start_time": "2023-08-10T13:12:00.259Z"
   },
   {
    "duration": 104,
    "start_time": "2023-08-10T13:12:00.316Z"
   },
   {
    "duration": 27,
    "start_time": "2023-08-10T13:12:00.422Z"
   },
   {
    "duration": 71,
    "start_time": "2023-08-10T13:12:00.450Z"
   },
   {
    "duration": 363,
    "start_time": "2023-08-10T13:12:00.523Z"
   },
   {
    "duration": 56,
    "start_time": "2023-08-10T13:12:00.887Z"
   },
   {
    "duration": 18,
    "start_time": "2023-08-10T13:12:00.945Z"
   },
   {
    "duration": 319,
    "start_time": "2023-08-10T13:12:00.965Z"
   },
   {
    "duration": 53,
    "start_time": "2023-08-10T13:12:01.286Z"
   },
   {
    "duration": 8,
    "start_time": "2023-08-10T13:12:01.341Z"
   },
   {
    "duration": 46,
    "start_time": "2023-08-10T13:12:01.350Z"
   },
   {
    "duration": 287,
    "start_time": "2023-08-10T13:12:01.398Z"
   },
   {
    "duration": 5,
    "start_time": "2023-08-10T13:12:04.064Z"
   },
   {
    "duration": 24,
    "start_time": "2023-08-10T13:12:06.256Z"
   },
   {
    "duration": 14,
    "start_time": "2023-08-10T13:12:08.050Z"
   },
   {
    "duration": 9,
    "start_time": "2023-08-10T13:12:10.354Z"
   },
   {
    "duration": 48,
    "start_time": "2023-08-10T13:12:14.622Z"
   },
   {
    "duration": 15,
    "start_time": "2023-08-10T13:12:16.953Z"
   },
   {
    "duration": 5,
    "start_time": "2023-08-10T13:12:17.922Z"
   },
   {
    "duration": 8,
    "start_time": "2023-08-10T13:12:18.654Z"
   },
   {
    "duration": 210,
    "start_time": "2023-08-10T13:12:21.454Z"
   },
   {
    "duration": 8314,
    "start_time": "2023-08-10T13:12:27.454Z"
   },
   {
    "duration": 11,
    "start_time": "2023-08-10T13:12:38.710Z"
   },
   {
    "duration": 17,
    "start_time": "2023-08-10T13:12:41.254Z"
   },
   {
    "duration": 1569,
    "start_time": "2023-08-10T13:18:53.960Z"
   },
   {
    "duration": 28,
    "start_time": "2023-08-10T13:19:44.987Z"
   },
   {
    "duration": 23,
    "start_time": "2023-08-10T13:21:06.826Z"
   },
   {
    "duration": 6,
    "start_time": "2023-08-10T13:21:56.637Z"
   },
   {
    "duration": 13,
    "start_time": "2023-08-10T13:22:29.466Z"
   },
   {
    "duration": 14,
    "start_time": "2023-08-10T13:52:47.980Z"
   },
   {
    "duration": 812,
    "start_time": "2023-08-10T19:07:15.781Z"
   },
   {
    "duration": 432,
    "start_time": "2023-08-10T19:07:16.595Z"
   },
   {
    "duration": 3,
    "start_time": "2023-08-10T19:07:17.029Z"
   },
   {
    "duration": 22,
    "start_time": "2023-08-10T19:07:17.033Z"
   },
   {
    "duration": 186,
    "start_time": "2023-08-10T19:07:17.058Z"
   },
   {
    "duration": 164,
    "start_time": "2023-08-10T19:07:17.246Z"
   },
   {
    "duration": 176,
    "start_time": "2023-08-10T19:07:17.411Z"
   },
   {
    "duration": 13,
    "start_time": "2023-08-10T19:07:17.589Z"
   },
   {
    "duration": 16,
    "start_time": "2023-08-10T19:07:17.604Z"
   },
   {
    "duration": 182,
    "start_time": "2023-08-10T19:07:17.622Z"
   },
   {
    "duration": 17,
    "start_time": "2023-08-10T19:07:17.806Z"
   },
   {
    "duration": 15,
    "start_time": "2023-08-10T19:07:17.824Z"
   },
   {
    "duration": 324,
    "start_time": "2023-08-10T19:07:17.858Z"
   },
   {
    "duration": 28,
    "start_time": "2023-08-10T19:07:18.186Z"
   },
   {
    "duration": 27,
    "start_time": "2023-08-10T19:07:18.215Z"
   },
   {
    "duration": 363,
    "start_time": "2023-08-10T19:07:18.243Z"
   },
   {
    "duration": 145,
    "start_time": "2023-08-10T19:07:18.608Z"
   },
   {
    "duration": 22,
    "start_time": "2023-08-10T19:07:18.755Z"
   },
   {
    "duration": 260,
    "start_time": "2023-08-10T19:07:18.779Z"
   },
   {
    "duration": 138,
    "start_time": "2023-08-10T19:07:19.041Z"
   },
   {
    "duration": 3,
    "start_time": "2023-08-10T19:07:19.180Z"
   },
   {
    "duration": 11,
    "start_time": "2023-08-10T19:07:19.185Z"
   },
   {
    "duration": 280,
    "start_time": "2023-08-10T19:07:19.198Z"
   },
   {
    "duration": 5,
    "start_time": "2023-08-10T19:07:19.481Z"
   },
   {
    "duration": 29,
    "start_time": "2023-08-10T19:07:19.489Z"
   },
   {
    "duration": 15,
    "start_time": "2023-08-10T19:07:19.519Z"
   },
   {
    "duration": 29,
    "start_time": "2023-08-10T19:07:19.536Z"
   },
   {
    "duration": 82,
    "start_time": "2023-08-10T19:07:19.567Z"
   },
   {
    "duration": 16,
    "start_time": "2023-08-10T19:07:19.651Z"
   },
   {
    "duration": 4,
    "start_time": "2023-08-10T19:07:19.670Z"
   },
   {
    "duration": 12,
    "start_time": "2023-08-10T19:07:19.676Z"
   },
   {
    "duration": 290,
    "start_time": "2023-08-10T19:07:19.689Z"
   },
   {
    "duration": 10184,
    "start_time": "2023-08-10T19:07:19.981Z"
   },
   {
    "duration": 13,
    "start_time": "2023-08-10T19:07:30.167Z"
   },
   {
    "duration": 36,
    "start_time": "2023-08-10T19:07:36.787Z"
   },
   {
    "duration": 2301,
    "start_time": "2023-08-10T19:14:22.225Z"
   },
   {
    "duration": 2238,
    "start_time": "2023-08-10T19:15:31.990Z"
   },
   {
    "duration": 22,
    "start_time": "2023-08-10T19:17:06.065Z"
   },
   {
    "duration": 7,
    "start_time": "2023-08-10T19:17:30.803Z"
   },
   {
    "duration": 33,
    "start_time": "2023-08-10T19:17:37.533Z"
   },
   {
    "duration": 11,
    "start_time": "2023-08-10T19:27:31.687Z"
   },
   {
    "duration": 505,
    "start_time": "2023-08-10T19:27:47.768Z"
   },
   {
    "duration": 570,
    "start_time": "2023-08-10T19:28:20.591Z"
   },
   {
    "duration": 4516,
    "start_time": "2023-08-10T19:28:27.285Z"
   },
   {
    "duration": 4483,
    "start_time": "2023-08-10T19:28:54.889Z"
   },
   {
    "duration": 4336,
    "start_time": "2023-08-10T20:31:08.290Z"
   },
   {
    "duration": 4426,
    "start_time": "2023-08-10T20:31:30.421Z"
   },
   {
    "duration": 4439,
    "start_time": "2023-08-10T20:33:35.967Z"
   },
   {
    "duration": 6,
    "start_time": "2023-08-10T20:43:54.063Z"
   },
   {
    "duration": 723,
    "start_time": "2023-08-11T17:39:15.037Z"
   },
   {
    "duration": 121,
    "start_time": "2023-08-11T17:39:16.082Z"
   },
   {
    "duration": 3,
    "start_time": "2023-08-11T17:39:16.671Z"
   },
   {
    "duration": 16,
    "start_time": "2023-08-11T17:39:16.881Z"
   },
   {
    "duration": 161,
    "start_time": "2023-08-11T17:39:17.237Z"
   },
   {
    "duration": 122,
    "start_time": "2023-08-11T17:39:17.800Z"
   },
   {
    "duration": 130,
    "start_time": "2023-08-11T17:39:17.996Z"
   },
   {
    "duration": 12,
    "start_time": "2023-08-11T17:39:18.378Z"
   },
   {
    "duration": 6,
    "start_time": "2023-08-11T17:39:18.776Z"
   },
   {
    "duration": 123,
    "start_time": "2023-08-11T17:39:19.211Z"
   },
   {
    "duration": 14,
    "start_time": "2023-08-11T17:39:20.003Z"
   },
   {
    "duration": 13,
    "start_time": "2023-08-11T17:39:20.435Z"
   },
   {
    "duration": 184,
    "start_time": "2023-08-11T17:39:21.157Z"
   },
   {
    "duration": 62,
    "start_time": "2023-08-11T17:39:21.780Z"
   },
   {
    "duration": 19,
    "start_time": "2023-08-11T17:39:22.077Z"
   },
   {
    "duration": 303,
    "start_time": "2023-08-11T17:39:22.907Z"
   },
   {
    "duration": 155,
    "start_time": "2023-08-11T17:39:24.429Z"
   },
   {
    "duration": 17,
    "start_time": "2023-08-11T17:39:24.750Z"
   },
   {
    "duration": 262,
    "start_time": "2023-08-11T17:39:25.294Z"
   },
   {
    "duration": 97,
    "start_time": "2023-08-11T17:39:26.557Z"
   },
   {
    "duration": 3,
    "start_time": "2023-08-11T17:39:26.848Z"
   },
   {
    "duration": 7,
    "start_time": "2023-08-11T17:39:27.090Z"
   },
   {
    "duration": 213,
    "start_time": "2023-08-11T17:39:27.532Z"
   },
   {
    "duration": 6,
    "start_time": "2023-08-11T17:39:28.377Z"
   },
   {
    "duration": 19,
    "start_time": "2023-08-11T17:39:28.611Z"
   },
   {
    "duration": 13,
    "start_time": "2023-08-11T17:39:28.976Z"
   },
   {
    "duration": 8,
    "start_time": "2023-08-11T17:39:29.644Z"
   },
   {
    "duration": 165,
    "start_time": "2023-08-11T17:39:31.272Z"
   },
   {
    "duration": 14,
    "start_time": "2023-08-11T17:39:31.849Z"
   },
   {
    "duration": 3,
    "start_time": "2023-08-11T17:39:32.136Z"
   },
   {
    "duration": 10,
    "start_time": "2023-08-11T17:39:32.392Z"
   },
   {
    "duration": 208,
    "start_time": "2023-08-11T17:39:32.712Z"
   },
   {
    "duration": 8028,
    "start_time": "2023-08-11T17:39:33.567Z"
   },
   {
    "duration": 10,
    "start_time": "2023-08-11T17:39:41.599Z"
   },
   {
    "duration": 4,
    "start_time": "2023-08-11T17:40:18.930Z"
   },
   {
    "duration": 9,
    "start_time": "2023-08-11T17:40:33.114Z"
   },
   {
    "duration": 3,
    "start_time": "2023-08-11T17:40:59.962Z"
   },
   {
    "duration": 5,
    "start_time": "2023-08-11T17:41:00.323Z"
   },
   {
    "duration": 74,
    "start_time": "2023-08-11T17:41:24.113Z"
   },
   {
    "duration": 6,
    "start_time": "2023-08-11T17:41:34.460Z"
   },
   {
    "duration": 5,
    "start_time": "2023-08-11T17:41:48.976Z"
   },
   {
    "duration": 817,
    "start_time": "2023-08-13T20:18:25.090Z"
   },
   {
    "duration": 196,
    "start_time": "2023-08-13T20:18:25.911Z"
   },
   {
    "duration": 3,
    "start_time": "2023-08-13T20:18:26.109Z"
   },
   {
    "duration": 22,
    "start_time": "2023-08-13T20:18:26.114Z"
   },
   {
    "duration": 168,
    "start_time": "2023-08-13T20:18:26.138Z"
   },
   {
    "duration": 153,
    "start_time": "2023-08-13T20:18:26.308Z"
   },
   {
    "duration": 162,
    "start_time": "2023-08-13T20:18:26.462Z"
   },
   {
    "duration": 11,
    "start_time": "2023-08-13T20:18:26.626Z"
   },
   {
    "duration": 19,
    "start_time": "2023-08-13T20:18:26.639Z"
   },
   {
    "duration": 149,
    "start_time": "2023-08-13T20:18:26.660Z"
   },
   {
    "duration": 17,
    "start_time": "2023-08-13T20:18:26.810Z"
   },
   {
    "duration": 7,
    "start_time": "2023-08-13T20:19:07.260Z"
   },
   {
    "duration": 187,
    "start_time": "2023-08-13T20:19:09.918Z"
   },
   {
    "duration": 591,
    "start_time": "2023-08-13T20:19:24.513Z"
   },
   {
    "duration": 63,
    "start_time": "2023-08-13T20:19:25.106Z"
   },
   {
    "duration": 3,
    "start_time": "2023-08-13T20:19:25.171Z"
   },
   {
    "duration": 20,
    "start_time": "2023-08-13T20:19:25.176Z"
   },
   {
    "duration": 194,
    "start_time": "2023-08-13T20:19:25.197Z"
   },
   {
    "duration": 150,
    "start_time": "2023-08-13T20:19:25.393Z"
   },
   {
    "duration": 156,
    "start_time": "2023-08-13T20:19:25.545Z"
   },
   {
    "duration": 14,
    "start_time": "2023-08-13T20:19:25.703Z"
   },
   {
    "duration": 7,
    "start_time": "2023-08-13T20:19:25.719Z"
   },
   {
    "duration": 167,
    "start_time": "2023-08-13T20:19:25.729Z"
   },
   {
    "duration": 16,
    "start_time": "2023-08-13T20:19:25.897Z"
   },
   {
    "duration": 191,
    "start_time": "2023-08-13T20:19:25.914Z"
   },
   {
    "duration": 0,
    "start_time": "2023-08-13T20:19:26.163Z"
   },
   {
    "duration": 0,
    "start_time": "2023-08-13T20:19:26.164Z"
   },
   {
    "duration": 0,
    "start_time": "2023-08-13T20:19:26.165Z"
   },
   {
    "duration": 0,
    "start_time": "2023-08-13T20:19:26.166Z"
   },
   {
    "duration": 0,
    "start_time": "2023-08-13T20:19:26.167Z"
   },
   {
    "duration": 0,
    "start_time": "2023-08-13T20:19:26.168Z"
   },
   {
    "duration": 0,
    "start_time": "2023-08-13T20:19:26.169Z"
   },
   {
    "duration": 0,
    "start_time": "2023-08-13T20:19:26.169Z"
   },
   {
    "duration": 0,
    "start_time": "2023-08-13T20:19:26.170Z"
   },
   {
    "duration": 0,
    "start_time": "2023-08-13T20:19:26.171Z"
   },
   {
    "duration": 0,
    "start_time": "2023-08-13T20:19:26.172Z"
   },
   {
    "duration": 0,
    "start_time": "2023-08-13T20:19:26.173Z"
   },
   {
    "duration": 0,
    "start_time": "2023-08-13T20:19:26.174Z"
   },
   {
    "duration": 0,
    "start_time": "2023-08-13T20:19:26.175Z"
   },
   {
    "duration": 0,
    "start_time": "2023-08-13T20:19:26.176Z"
   },
   {
    "duration": 0,
    "start_time": "2023-08-13T20:19:26.177Z"
   },
   {
    "duration": 0,
    "start_time": "2023-08-13T20:19:26.178Z"
   },
   {
    "duration": 0,
    "start_time": "2023-08-13T20:19:26.179Z"
   },
   {
    "duration": 0,
    "start_time": "2023-08-13T20:19:26.180Z"
   },
   {
    "duration": 0,
    "start_time": "2023-08-13T20:19:26.181Z"
   },
   {
    "duration": 0,
    "start_time": "2023-08-13T20:19:26.182Z"
   },
   {
    "duration": 0,
    "start_time": "2023-08-13T20:19:26.183Z"
   },
   {
    "duration": 0,
    "start_time": "2023-08-13T20:19:26.184Z"
   },
   {
    "duration": 0,
    "start_time": "2023-08-13T20:19:26.185Z"
   },
   {
    "duration": 0,
    "start_time": "2023-08-13T20:19:26.186Z"
   },
   {
    "duration": 0,
    "start_time": "2023-08-13T20:19:26.186Z"
   },
   {
    "duration": 0,
    "start_time": "2023-08-13T20:19:26.187Z"
   },
   {
    "duration": 0,
    "start_time": "2023-08-13T20:19:26.188Z"
   },
   {
    "duration": 0,
    "start_time": "2023-08-13T20:19:26.189Z"
   },
   {
    "duration": 0,
    "start_time": "2023-08-13T20:19:26.190Z"
   },
   {
    "duration": 647,
    "start_time": "2023-08-13T20:19:43.577Z"
   },
   {
    "duration": 72,
    "start_time": "2023-08-13T20:19:44.226Z"
   },
   {
    "duration": 4,
    "start_time": "2023-08-13T20:19:44.300Z"
   },
   {
    "duration": 20,
    "start_time": "2023-08-13T20:19:44.307Z"
   },
   {
    "duration": 191,
    "start_time": "2023-08-13T20:19:44.330Z"
   },
   {
    "duration": 156,
    "start_time": "2023-08-13T20:19:44.523Z"
   },
   {
    "duration": 162,
    "start_time": "2023-08-13T20:19:44.681Z"
   },
   {
    "duration": 18,
    "start_time": "2023-08-13T20:19:44.845Z"
   },
   {
    "duration": 8,
    "start_time": "2023-08-13T20:19:48.285Z"
   },
   {
    "duration": 184,
    "start_time": "2023-08-13T20:19:50.926Z"
   },
   {
    "duration": 24,
    "start_time": "2023-08-13T20:19:57.393Z"
   },
   {
    "duration": 12,
    "start_time": "2023-08-13T20:20:20.904Z"
   },
   {
    "duration": 74,
    "start_time": "2023-08-13T20:22:52.503Z"
   },
   {
    "duration": 618,
    "start_time": "2023-08-13T20:23:14.708Z"
   },
   {
    "duration": 67,
    "start_time": "2023-08-13T20:23:15.328Z"
   },
   {
    "duration": 3,
    "start_time": "2023-08-13T20:23:15.397Z"
   },
   {
    "duration": 20,
    "start_time": "2023-08-13T20:23:15.402Z"
   },
   {
    "duration": 187,
    "start_time": "2023-08-13T20:23:15.423Z"
   },
   {
    "duration": 156,
    "start_time": "2023-08-13T20:23:15.611Z"
   },
   {
    "duration": 171,
    "start_time": "2023-08-13T20:23:15.769Z"
   },
   {
    "duration": 17,
    "start_time": "2023-08-13T20:23:15.942Z"
   },
   {
    "duration": 7,
    "start_time": "2023-08-13T20:23:15.960Z"
   },
   {
    "duration": 168,
    "start_time": "2023-08-13T20:23:15.969Z"
   },
   {
    "duration": 24,
    "start_time": "2023-08-13T20:23:16.139Z"
   },
   {
    "duration": 11,
    "start_time": "2023-08-13T20:23:18.790Z"
   },
   {
    "duration": 177,
    "start_time": "2023-08-13T20:23:43.763Z"
   },
   {
    "duration": 29,
    "start_time": "2023-08-13T20:23:46.182Z"
   },
   {
    "duration": 82,
    "start_time": "2023-08-13T20:23:52.392Z"
   },
   {
    "duration": 296,
    "start_time": "2023-08-13T20:23:56.749Z"
   },
   {
    "duration": 202,
    "start_time": "2023-08-13T20:32:10.157Z"
   },
   {
    "duration": 184,
    "start_time": "2023-08-13T20:53:45.703Z"
   },
   {
    "duration": 50,
    "start_time": "2023-08-13T21:01:13.705Z"
   },
   {
    "duration": 418,
    "start_time": "2023-08-13T21:06:10.635Z"
   },
   {
    "duration": 68457,
    "start_time": "2023-08-13T21:06:27.929Z"
   },
   {
    "duration": 187,
    "start_time": "2023-08-13T21:08:38.115Z"
   },
   {
    "duration": 165,
    "start_time": "2023-08-13T21:10:00.689Z"
   },
   {
    "duration": 174,
    "start_time": "2023-08-13T21:11:18.289Z"
   },
   {
    "duration": 6,
    "start_time": "2023-08-13T21:12:52.597Z"
   },
   {
    "duration": 162,
    "start_time": "2023-08-13T21:12:56.451Z"
   },
   {
    "duration": 173,
    "start_time": "2023-08-13T21:13:27.360Z"
   },
   {
    "duration": 676,
    "start_time": "2023-08-13T21:17:58.697Z"
   },
   {
    "duration": 68,
    "start_time": "2023-08-13T21:17:59.375Z"
   },
   {
    "duration": 3,
    "start_time": "2023-08-13T21:17:59.445Z"
   },
   {
    "duration": 40,
    "start_time": "2023-08-13T21:17:59.450Z"
   },
   {
    "duration": 178,
    "start_time": "2023-08-13T21:17:59.492Z"
   },
   {
    "duration": 146,
    "start_time": "2023-08-13T21:17:59.672Z"
   },
   {
    "duration": 149,
    "start_time": "2023-08-13T21:17:59.820Z"
   },
   {
    "duration": 12,
    "start_time": "2023-08-13T21:17:59.971Z"
   },
   {
    "duration": 12,
    "start_time": "2023-08-13T21:17:59.984Z"
   },
   {
    "duration": 179,
    "start_time": "2023-08-13T21:17:59.998Z"
   },
   {
    "duration": 17,
    "start_time": "2023-08-13T21:18:00.178Z"
   },
   {
    "duration": 31,
    "start_time": "2023-08-13T21:18:00.196Z"
   },
   {
    "duration": 114,
    "start_time": "2023-08-13T21:18:00.229Z"
   },
   {
    "duration": 44,
    "start_time": "2023-08-13T21:18:00.344Z"
   },
   {
    "duration": 26,
    "start_time": "2023-08-13T21:18:00.390Z"
   },
   {
    "duration": 34,
    "start_time": "2023-08-13T21:18:00.418Z"
   },
   {
    "duration": 297,
    "start_time": "2023-08-13T21:18:00.454Z"
   },
   {
    "duration": 2,
    "start_time": "2023-08-13T21:18:00.757Z"
   },
   {
    "duration": 162,
    "start_time": "2023-08-13T21:18:05.246Z"
   },
   {
    "duration": 150,
    "start_time": "2023-08-13T21:21:33.615Z"
   },
   {
    "duration": 21,
    "start_time": "2023-08-13T21:21:34.557Z"
   },
   {
    "duration": 277,
    "start_time": "2023-08-13T21:21:39.711Z"
   },
   {
    "duration": 138,
    "start_time": "2023-08-13T21:23:22.772Z"
   },
   {
    "duration": 210,
    "start_time": "2023-08-13T21:23:53.782Z"
   },
   {
    "duration": 146,
    "start_time": "2023-08-13T21:24:08.260Z"
   },
   {
    "duration": 188,
    "start_time": "2023-08-13T21:25:44.200Z"
   },
   {
    "duration": 175,
    "start_time": "2023-08-13T21:26:03.376Z"
   },
   {
    "duration": 162,
    "start_time": "2023-08-13T21:26:32.396Z"
   },
   {
    "duration": 104,
    "start_time": "2023-08-13T21:27:22.177Z"
   },
   {
    "duration": 3,
    "start_time": "2023-08-13T21:27:25.361Z"
   },
   {
    "duration": 8,
    "start_time": "2023-08-13T21:27:26.707Z"
   },
   {
    "duration": 240,
    "start_time": "2023-08-13T21:27:30.485Z"
   },
   {
    "duration": 5,
    "start_time": "2023-08-13T21:27:36.374Z"
   },
   {
    "duration": 26,
    "start_time": "2023-08-13T21:27:39.020Z"
   },
   {
    "duration": 15,
    "start_time": "2023-08-13T21:27:40.947Z"
   },
   {
    "duration": 12,
    "start_time": "2023-08-13T21:27:43.996Z"
   },
   {
    "duration": 12,
    "start_time": "2023-08-13T21:35:31.934Z"
   },
   {
    "duration": 75,
    "start_time": "2023-08-13T21:38:27.565Z"
   },
   {
    "duration": 12,
    "start_time": "2023-08-13T21:38:33.969Z"
   },
   {
    "duration": 172,
    "start_time": "2023-08-13T21:42:42.280Z"
   },
   {
    "duration": 15,
    "start_time": "2023-08-13T21:42:45.268Z"
   },
   {
    "duration": 5,
    "start_time": "2023-08-13T21:42:47.155Z"
   },
   {
    "duration": 10,
    "start_time": "2023-08-13T21:42:49.889Z"
   },
   {
    "duration": 227,
    "start_time": "2023-08-13T21:42:51.726Z"
   },
   {
    "duration": 856,
    "start_time": "2023-08-14T07:57:49.470Z"
   },
   {
    "duration": 114,
    "start_time": "2023-08-14T07:57:50.329Z"
   },
   {
    "duration": 4,
    "start_time": "2023-08-14T07:57:50.444Z"
   },
   {
    "duration": 28,
    "start_time": "2023-08-14T07:57:50.450Z"
   },
   {
    "duration": 192,
    "start_time": "2023-08-14T07:57:50.480Z"
   },
   {
    "duration": 171,
    "start_time": "2023-08-14T07:57:50.673Z"
   },
   {
    "duration": 178,
    "start_time": "2023-08-14T07:57:50.845Z"
   },
   {
    "duration": 13,
    "start_time": "2023-08-14T07:57:51.025Z"
   },
   {
    "duration": 19,
    "start_time": "2023-08-14T07:57:51.040Z"
   },
   {
    "duration": 179,
    "start_time": "2023-08-14T07:57:51.061Z"
   },
   {
    "duration": 18,
    "start_time": "2023-08-14T07:57:51.241Z"
   },
   {
    "duration": 46,
    "start_time": "2023-08-14T07:57:51.260Z"
   },
   {
    "duration": 187,
    "start_time": "2023-08-14T07:57:51.308Z"
   },
   {
    "duration": 226,
    "start_time": "2023-08-14T07:57:51.497Z"
   },
   {
    "duration": 29,
    "start_time": "2023-08-14T07:57:51.725Z"
   },
   {
    "duration": 68,
    "start_time": "2023-08-14T07:57:51.756Z"
   },
   {
    "duration": 358,
    "start_time": "2023-08-14T07:57:51.826Z"
   },
   {
    "duration": 202,
    "start_time": "2023-08-14T07:57:52.186Z"
   },
   {
    "duration": 147,
    "start_time": "2023-08-14T07:57:52.390Z"
   },
   {
    "duration": 21,
    "start_time": "2023-08-14T07:57:52.538Z"
   },
   {
    "duration": 290,
    "start_time": "2023-08-14T07:57:52.560Z"
   },
   {
    "duration": 173,
    "start_time": "2023-08-14T07:57:52.852Z"
   },
   {
    "duration": 102,
    "start_time": "2023-08-14T07:57:53.027Z"
   },
   {
    "duration": 3,
    "start_time": "2023-08-14T07:57:53.131Z"
   },
   {
    "duration": 17,
    "start_time": "2023-08-14T07:57:53.135Z"
   },
   {
    "duration": 283,
    "start_time": "2023-08-14T07:57:53.154Z"
   },
   {
    "duration": 6,
    "start_time": "2023-08-14T07:57:53.438Z"
   },
   {
    "duration": 27,
    "start_time": "2023-08-14T07:57:53.447Z"
   },
   {
    "duration": 34,
    "start_time": "2023-08-14T07:57:53.476Z"
   },
   {
    "duration": 21,
    "start_time": "2023-08-14T07:57:53.512Z"
   },
   {
    "duration": 22,
    "start_time": "2023-08-14T07:57:53.535Z"
   },
   {
    "duration": 164,
    "start_time": "2023-08-14T07:58:07.105Z"
   },
   {
    "duration": 17,
    "start_time": "2023-08-14T07:58:16.654Z"
   },
   {
    "duration": 5,
    "start_time": "2023-08-14T07:58:28.426Z"
   },
   {
    "duration": 10,
    "start_time": "2023-08-14T07:58:29.599Z"
   },
   {
    "duration": 260,
    "start_time": "2023-08-14T07:58:32.087Z"
   },
   {
    "duration": 162,
    "start_time": "2023-08-14T08:03:18.867Z"
   },
   {
    "duration": 165,
    "start_time": "2023-08-14T08:03:30.804Z"
   },
   {
    "duration": 7,
    "start_time": "2023-08-14T08:03:51.710Z"
   },
   {
    "duration": 7,
    "start_time": "2023-08-14T08:04:11.671Z"
   },
   {
    "duration": 6,
    "start_time": "2023-08-14T08:04:15.940Z"
   },
   {
    "duration": 6,
    "start_time": "2023-08-14T08:04:17.216Z"
   },
   {
    "duration": 11,
    "start_time": "2023-08-14T08:10:52.313Z"
   },
   {
    "duration": 682,
    "start_time": "2023-08-14T08:11:40.019Z"
   },
   {
    "duration": 69,
    "start_time": "2023-08-14T08:11:40.704Z"
   },
   {
    "duration": 4,
    "start_time": "2023-08-14T08:11:40.775Z"
   },
   {
    "duration": 37,
    "start_time": "2023-08-14T08:11:40.781Z"
   },
   {
    "duration": 199,
    "start_time": "2023-08-14T08:11:40.820Z"
   },
   {
    "duration": 176,
    "start_time": "2023-08-14T08:11:41.021Z"
   },
   {
    "duration": 172,
    "start_time": "2023-08-14T08:11:41.199Z"
   },
   {
    "duration": 13,
    "start_time": "2023-08-14T08:11:41.373Z"
   },
   {
    "duration": 25,
    "start_time": "2023-08-14T08:11:41.388Z"
   },
   {
    "duration": 162,
    "start_time": "2023-08-14T08:11:41.415Z"
   },
   {
    "duration": 16,
    "start_time": "2023-08-14T08:11:41.579Z"
   },
   {
    "duration": 12,
    "start_time": "2023-08-14T08:11:41.609Z"
   },
   {
    "duration": 107,
    "start_time": "2023-08-14T08:11:41.622Z"
   },
   {
    "duration": 56,
    "start_time": "2023-08-14T08:11:41.730Z"
   },
   {
    "duration": 27,
    "start_time": "2023-08-14T08:11:41.788Z"
   },
   {
    "duration": 40,
    "start_time": "2023-08-14T08:11:41.817Z"
   },
   {
    "duration": 342,
    "start_time": "2023-08-14T08:11:41.859Z"
   },
   {
    "duration": 198,
    "start_time": "2023-08-14T08:11:42.208Z"
   },
   {
    "duration": 38,
    "start_time": "2023-08-14T08:11:42.408Z"
   },
   {
    "duration": 23,
    "start_time": "2023-08-14T08:11:42.448Z"
   },
   {
    "duration": 307,
    "start_time": "2023-08-14T08:11:42.473Z"
   },
   {
    "duration": 177,
    "start_time": "2023-08-14T08:11:42.782Z"
   },
   {
    "duration": 61,
    "start_time": "2023-08-14T08:11:42.961Z"
   },
   {
    "duration": 3,
    "start_time": "2023-08-14T08:11:43.024Z"
   },
   {
    "duration": 34,
    "start_time": "2023-08-14T08:11:43.028Z"
   },
   {
    "duration": 276,
    "start_time": "2023-08-14T08:11:43.064Z"
   },
   {
    "duration": 6,
    "start_time": "2023-08-14T08:11:43.342Z"
   },
   {
    "duration": 69,
    "start_time": "2023-08-14T08:11:43.351Z"
   },
   {
    "duration": 31,
    "start_time": "2023-08-14T08:11:43.421Z"
   },
   {
    "duration": 26,
    "start_time": "2023-08-14T08:11:43.454Z"
   },
   {
    "duration": 23,
    "start_time": "2023-08-14T08:11:43.482Z"
   },
   {
    "duration": 43,
    "start_time": "2023-08-14T08:11:43.507Z"
   },
   {
    "duration": 16,
    "start_time": "2023-08-14T08:11:43.552Z"
   },
   {
    "duration": 9,
    "start_time": "2023-08-14T08:11:43.570Z"
   },
   {
    "duration": 10,
    "start_time": "2023-08-14T08:11:43.581Z"
   },
   {
    "duration": 265,
    "start_time": "2023-08-14T08:11:43.592Z"
   },
   {
    "duration": 12,
    "start_time": "2023-08-14T08:11:53.961Z"
   },
   {
    "duration": 13,
    "start_time": "2023-08-14T08:13:59.045Z"
   },
   {
    "duration": 5,
    "start_time": "2023-08-14T08:14:28.072Z"
   },
   {
    "duration": 7,
    "start_time": "2023-08-14T08:14:28.867Z"
   },
   {
    "duration": 25,
    "start_time": "2023-08-14T08:18:45.620Z"
   },
   {
    "duration": 711,
    "start_time": "2023-08-14T08:23:52.777Z"
   },
   {
    "duration": 69,
    "start_time": "2023-08-14T08:23:53.491Z"
   },
   {
    "duration": 4,
    "start_time": "2023-08-14T08:23:53.561Z"
   },
   {
    "duration": 28,
    "start_time": "2023-08-14T08:23:53.567Z"
   },
   {
    "duration": 199,
    "start_time": "2023-08-14T08:23:53.596Z"
   },
   {
    "duration": 161,
    "start_time": "2023-08-14T08:23:53.797Z"
   },
   {
    "duration": 173,
    "start_time": "2023-08-14T08:23:53.960Z"
   },
   {
    "duration": 14,
    "start_time": "2023-08-14T08:23:54.135Z"
   },
   {
    "duration": 50,
    "start_time": "2023-08-14T08:23:54.150Z"
   },
   {
    "duration": 185,
    "start_time": "2023-08-14T08:23:54.203Z"
   },
   {
    "duration": 22,
    "start_time": "2023-08-14T08:23:54.390Z"
   },
   {
    "duration": 21,
    "start_time": "2023-08-14T08:23:54.413Z"
   },
   {
    "duration": 106,
    "start_time": "2023-08-14T08:23:54.436Z"
   },
   {
    "duration": 56,
    "start_time": "2023-08-14T08:23:54.544Z"
   },
   {
    "duration": 29,
    "start_time": "2023-08-14T08:23:54.602Z"
   },
   {
    "duration": 45,
    "start_time": "2023-08-14T08:23:54.632Z"
   },
   {
    "duration": 324,
    "start_time": "2023-08-14T08:23:54.679Z"
   },
   {
    "duration": 202,
    "start_time": "2023-08-14T08:23:55.009Z"
   },
   {
    "duration": 37,
    "start_time": "2023-08-14T08:23:55.213Z"
   },
   {
    "duration": 20,
    "start_time": "2023-08-14T08:23:55.252Z"
   },
   {
    "duration": 305,
    "start_time": "2023-08-14T08:23:55.273Z"
   },
   {
    "duration": 186,
    "start_time": "2023-08-14T08:23:55.580Z"
   },
   {
    "duration": 66,
    "start_time": "2023-08-14T08:23:55.769Z"
   },
   {
    "duration": 4,
    "start_time": "2023-08-14T08:23:55.837Z"
   },
   {
    "duration": 65,
    "start_time": "2023-08-14T08:23:55.843Z"
   },
   {
    "duration": 301,
    "start_time": "2023-08-14T08:23:55.910Z"
   },
   {
    "duration": 6,
    "start_time": "2023-08-14T08:23:56.213Z"
   },
   {
    "duration": 53,
    "start_time": "2023-08-14T08:23:56.223Z"
   },
   {
    "duration": 25,
    "start_time": "2023-08-14T08:23:56.278Z"
   },
   {
    "duration": 46,
    "start_time": "2023-08-14T08:23:56.305Z"
   },
   {
    "duration": 25,
    "start_time": "2023-08-14T08:23:56.353Z"
   },
   {
    "duration": 57,
    "start_time": "2023-08-14T08:23:56.380Z"
   },
   {
    "duration": 16,
    "start_time": "2023-08-14T08:23:56.439Z"
   },
   {
    "duration": 4,
    "start_time": "2023-08-14T08:23:56.457Z"
   },
   {
    "duration": 36,
    "start_time": "2023-08-14T08:23:56.463Z"
   },
   {
    "duration": 278,
    "start_time": "2023-08-14T08:23:56.501Z"
   },
   {
    "duration": 11,
    "start_time": "2023-08-14T08:23:56.781Z"
   },
   {
    "duration": 30,
    "start_time": "2023-08-14T08:23:56.809Z"
   },
   {
    "duration": 19,
    "start_time": "2023-08-14T08:23:56.841Z"
   },
   {
    "duration": 37,
    "start_time": "2023-08-14T08:23:56.861Z"
   },
   {
    "duration": 18,
    "start_time": "2023-08-14T08:24:03.107Z"
   },
   {
    "duration": 96,
    "start_time": "2023-08-14T08:35:13.936Z"
   },
   {
    "duration": 1272,
    "start_time": "2023-08-14T08:42:41.779Z"
   },
   {
    "duration": 1337,
    "start_time": "2023-08-14T08:43:33.815Z"
   },
   {
    "duration": 24,
    "start_time": "2023-08-14T08:56:13.428Z"
   },
   {
    "duration": 711,
    "start_time": "2023-08-14T08:57:38.158Z"
   },
   {
    "duration": 78,
    "start_time": "2023-08-14T08:57:38.871Z"
   },
   {
    "duration": 4,
    "start_time": "2023-08-14T08:57:38.950Z"
   },
   {
    "duration": 35,
    "start_time": "2023-08-14T08:57:38.957Z"
   },
   {
    "duration": 232,
    "start_time": "2023-08-14T08:57:38.995Z"
   },
   {
    "duration": 202,
    "start_time": "2023-08-14T08:57:39.230Z"
   },
   {
    "duration": 209,
    "start_time": "2023-08-14T08:57:39.435Z"
   },
   {
    "duration": 15,
    "start_time": "2023-08-14T08:57:39.646Z"
   },
   {
    "duration": 130,
    "start_time": "2023-08-14T08:57:39.663Z"
   },
   {
    "duration": 203,
    "start_time": "2023-08-14T08:57:39.796Z"
   },
   {
    "duration": 26,
    "start_time": "2023-08-14T08:57:40.002Z"
   },
   {
    "duration": 53,
    "start_time": "2023-08-14T08:57:40.031Z"
   },
   {
    "duration": 116,
    "start_time": "2023-08-14T08:57:40.087Z"
   },
   {
    "duration": 65,
    "start_time": "2023-08-14T08:57:40.204Z"
   },
   {
    "duration": 32,
    "start_time": "2023-08-14T08:57:40.271Z"
   },
   {
    "duration": 90,
    "start_time": "2023-08-14T08:57:40.305Z"
   },
   {
    "duration": 355,
    "start_time": "2023-08-14T08:57:40.398Z"
   },
   {
    "duration": 239,
    "start_time": "2023-08-14T08:57:40.755Z"
   },
   {
    "duration": 49,
    "start_time": "2023-08-14T08:57:40.996Z"
   },
   {
    "duration": 54,
    "start_time": "2023-08-14T08:57:41.047Z"
   },
   {
    "duration": 353,
    "start_time": "2023-08-14T08:57:41.103Z"
   },
   {
    "duration": 200,
    "start_time": "2023-08-14T08:57:41.458Z"
   },
   {
    "duration": 66,
    "start_time": "2023-08-14T08:57:41.660Z"
   },
   {
    "duration": 3,
    "start_time": "2023-08-14T08:57:41.730Z"
   },
   {
    "duration": 22,
    "start_time": "2023-08-14T08:57:41.735Z"
   },
   {
    "duration": 327,
    "start_time": "2023-08-14T08:57:41.759Z"
   },
   {
    "duration": 6,
    "start_time": "2023-08-14T08:57:42.088Z"
   },
   {
    "duration": 165,
    "start_time": "2023-08-14T08:57:42.098Z"
   },
   {
    "duration": 475,
    "start_time": "2023-08-14T08:57:42.265Z"
   },
   {
    "duration": 288,
    "start_time": "2023-08-14T08:57:42.742Z"
   },
   {
    "duration": 24,
    "start_time": "2023-08-14T08:57:43.032Z"
   },
   {
    "duration": 57,
    "start_time": "2023-08-14T08:57:43.058Z"
   },
   {
    "duration": 20,
    "start_time": "2023-08-14T08:57:43.117Z"
   },
   {
    "duration": 22,
    "start_time": "2023-08-14T08:57:43.139Z"
   },
   {
    "duration": 12,
    "start_time": "2023-08-14T08:57:43.163Z"
   },
   {
    "duration": 303,
    "start_time": "2023-08-14T08:57:43.177Z"
   },
   {
    "duration": 12,
    "start_time": "2023-08-14T08:57:43.482Z"
   },
   {
    "duration": 17,
    "start_time": "2023-08-14T08:57:43.508Z"
   },
   {
    "duration": 17,
    "start_time": "2023-08-14T08:57:43.528Z"
   },
   {
    "duration": 8,
    "start_time": "2023-08-14T08:57:43.548Z"
   },
   {
    "duration": 24,
    "start_time": "2023-08-14T08:57:45.608Z"
   },
   {
    "duration": 9,
    "start_time": "2023-08-14T09:18:58.129Z"
   },
   {
    "duration": 1662,
    "start_time": "2023-08-14T09:24:18.495Z"
   },
   {
    "duration": 17,
    "start_time": "2023-08-14T09:28:55.021Z"
   },
   {
    "duration": 22,
    "start_time": "2023-08-14T09:44:37.475Z"
   },
   {
    "duration": 8,
    "start_time": "2023-08-14T09:44:50.296Z"
   },
   {
    "duration": 8,
    "start_time": "2023-08-14T09:47:36.008Z"
   },
   {
    "duration": 5,
    "start_time": "2023-08-14T09:47:40.366Z"
   },
   {
    "duration": 7,
    "start_time": "2023-08-14T09:47:41.524Z"
   },
   {
    "duration": 5,
    "start_time": "2023-08-14T09:47:54.433Z"
   },
   {
    "duration": 6,
    "start_time": "2023-08-14T09:47:56.026Z"
   },
   {
    "duration": 31,
    "start_time": "2023-08-14T09:49:31.484Z"
   },
   {
    "duration": 8,
    "start_time": "2023-08-14T09:50:40.884Z"
   },
   {
    "duration": 36,
    "start_time": "2023-08-14T09:55:45.621Z"
   },
   {
    "duration": 4687,
    "start_time": "2023-08-14T09:55:53.920Z"
   },
   {
    "duration": 1108,
    "start_time": "2023-08-14T10:22:34.971Z"
   },
   {
    "duration": 10,
    "start_time": "2023-08-14T10:37:42.335Z"
   },
   {
    "duration": 7,
    "start_time": "2023-08-14T10:48:07.174Z"
   },
   {
    "duration": 255,
    "start_time": "2023-08-14T10:48:11.803Z"
   },
   {
    "duration": 309,
    "start_time": "2023-08-14T10:48:39.107Z"
   },
   {
    "duration": 280,
    "start_time": "2023-08-14T10:50:25.533Z"
   },
   {
    "duration": 9,
    "start_time": "2023-08-14T10:54:07.482Z"
   },
   {
    "duration": 140,
    "start_time": "2023-08-14T10:54:32.408Z"
   },
   {
    "duration": 80,
    "start_time": "2023-08-14T10:55:18.941Z"
   },
   {
    "duration": 76,
    "start_time": "2023-08-14T11:01:03.344Z"
   },
   {
    "duration": 80,
    "start_time": "2023-08-14T11:01:10.257Z"
   },
   {
    "duration": 73,
    "start_time": "2023-08-14T11:01:18.625Z"
   },
   {
    "duration": 13,
    "start_time": "2023-08-14T11:10:40.207Z"
   },
   {
    "duration": 31,
    "start_time": "2023-08-14T11:10:59.596Z"
   },
   {
    "duration": 291621,
    "start_time": "2023-08-14T12:18:12.533Z"
   },
   {
    "duration": 1844,
    "start_time": "2023-08-14T12:24:08.581Z"
   },
   {
    "duration": 74,
    "start_time": "2023-08-14T12:24:10.427Z"
   },
   {
    "duration": 3,
    "start_time": "2023-08-14T12:24:10.503Z"
   },
   {
    "duration": 40,
    "start_time": "2023-08-14T12:24:10.508Z"
   },
   {
    "duration": 224,
    "start_time": "2023-08-14T12:24:10.550Z"
   },
   {
    "duration": 182,
    "start_time": "2023-08-14T12:24:10.776Z"
   },
   {
    "duration": 190,
    "start_time": "2023-08-14T12:24:10.961Z"
   },
   {
    "duration": 14,
    "start_time": "2023-08-14T12:24:11.153Z"
   },
   {
    "duration": 8,
    "start_time": "2023-08-14T12:24:11.168Z"
   },
   {
    "duration": 314,
    "start_time": "2023-08-14T12:24:11.179Z"
   },
   {
    "duration": 25,
    "start_time": "2023-08-14T12:24:11.495Z"
   },
   {
    "duration": 15,
    "start_time": "2023-08-14T12:24:11.522Z"
   },
   {
    "duration": 20,
    "start_time": "2023-08-14T12:24:11.539Z"
   },
   {
    "duration": 61,
    "start_time": "2023-08-14T12:24:11.561Z"
   },
   {
    "duration": 32,
    "start_time": "2023-08-14T12:24:11.624Z"
   },
   {
    "duration": 25,
    "start_time": "2023-08-14T12:24:11.658Z"
   },
   {
    "duration": 349,
    "start_time": "2023-08-14T12:24:11.684Z"
   },
   {
    "duration": 232,
    "start_time": "2023-08-14T12:24:12.034Z"
   },
   {
    "duration": 38,
    "start_time": "2023-08-14T12:24:12.268Z"
   },
   {
    "duration": 25,
    "start_time": "2023-08-14T12:24:12.308Z"
   },
   {
    "duration": 278,
    "start_time": "2023-08-14T12:24:12.335Z"
   },
   {
    "duration": 188,
    "start_time": "2023-08-14T12:24:12.615Z"
   },
   {
    "duration": 72,
    "start_time": "2023-08-14T12:24:12.808Z"
   },
   {
    "duration": 4,
    "start_time": "2023-08-14T12:24:12.882Z"
   },
   {
    "duration": 43,
    "start_time": "2023-08-14T12:24:12.887Z"
   },
   {
    "duration": 312,
    "start_time": "2023-08-14T12:24:12.932Z"
   },
   {
    "duration": 7,
    "start_time": "2023-08-14T12:24:13.246Z"
   },
   {
    "duration": 47,
    "start_time": "2023-08-14T12:24:13.256Z"
   },
   {
    "duration": 22,
    "start_time": "2023-08-14T12:24:13.305Z"
   },
   {
    "duration": 11,
    "start_time": "2023-08-14T12:24:13.329Z"
   },
   {
    "duration": 28,
    "start_time": "2023-08-14T12:24:13.342Z"
   },
   {
    "duration": 52,
    "start_time": "2023-08-14T12:24:13.372Z"
   },
   {
    "duration": 16,
    "start_time": "2023-08-14T12:24:13.426Z"
   },
   {
    "duration": 16,
    "start_time": "2023-08-14T12:24:13.444Z"
   },
   {
    "duration": 37,
    "start_time": "2023-08-14T12:24:13.462Z"
   },
   {
    "duration": 274,
    "start_time": "2023-08-14T12:24:13.501Z"
   },
   {
    "duration": 11,
    "start_time": "2023-08-14T12:24:13.777Z"
   },
   {
    "duration": 30,
    "start_time": "2023-08-14T12:24:13.790Z"
   },
   {
    "duration": 33,
    "start_time": "2023-08-14T12:24:13.822Z"
   },
   {
    "duration": 16,
    "start_time": "2023-08-14T12:24:13.857Z"
   },
   {
    "duration": 15,
    "start_time": "2023-08-14T12:24:13.875Z"
   },
   {
    "duration": 19,
    "start_time": "2023-08-14T12:24:13.892Z"
   },
   {
    "duration": 55,
    "start_time": "2023-08-14T12:24:13.913Z"
   },
   {
    "duration": 7,
    "start_time": "2023-08-14T12:24:13.970Z"
   },
   {
    "duration": 46,
    "start_time": "2023-08-14T12:24:13.979Z"
   },
   {
    "duration": 4759,
    "start_time": "2023-08-14T12:24:14.027Z"
   },
   {
    "duration": 8,
    "start_time": "2023-08-14T12:24:21.321Z"
   },
   {
    "duration": 9,
    "start_time": "2023-08-14T12:24:27.772Z"
   },
   {
    "duration": 575070,
    "start_time": "2023-08-14T12:24:34.024Z"
   },
   {
    "duration": 24249,
    "start_time": "2023-08-14T12:46:13.981Z"
   },
   {
    "duration": 24108,
    "start_time": "2023-08-14T12:47:14.285Z"
   },
   {
    "duration": 2993966,
    "start_time": "2023-08-14T12:51:57.721Z"
   },
   {
    "duration": 4,
    "start_time": "2023-08-14T13:42:07.384Z"
   },
   {
    "duration": 76,
    "start_time": "2023-08-14T13:42:07.393Z"
   },
   {
    "duration": 4,
    "start_time": "2023-08-14T13:42:07.471Z"
   },
   {
    "duration": 34,
    "start_time": "2023-08-14T13:42:07.476Z"
   },
   {
    "duration": 242,
    "start_time": "2023-08-14T13:42:07.515Z"
   },
   {
    "duration": 188,
    "start_time": "2023-08-14T13:42:07.759Z"
   },
   {
    "duration": 200,
    "start_time": "2023-08-14T13:42:07.949Z"
   },
   {
    "duration": 14,
    "start_time": "2023-08-14T13:42:08.151Z"
   },
   {
    "duration": 6,
    "start_time": "2023-08-14T13:42:08.167Z"
   },
   {
    "duration": 205,
    "start_time": "2023-08-14T13:42:08.175Z"
   },
   {
    "duration": 31,
    "start_time": "2023-08-14T13:42:08.383Z"
   },
   {
    "duration": 14,
    "start_time": "2023-08-14T13:42:08.417Z"
   },
   {
    "duration": 33,
    "start_time": "2023-08-14T13:42:08.433Z"
   },
   {
    "duration": 78,
    "start_time": "2023-08-14T13:42:08.469Z"
   },
   {
    "duration": 30,
    "start_time": "2023-08-14T13:42:08.549Z"
   },
   {
    "duration": 46,
    "start_time": "2023-08-14T13:42:08.581Z"
   },
   {
    "duration": 343,
    "start_time": "2023-08-14T13:42:08.629Z"
   },
   {
    "duration": 255,
    "start_time": "2023-08-14T13:42:08.973Z"
   },
   {
    "duration": 41,
    "start_time": "2023-08-14T13:42:09.230Z"
   },
   {
    "duration": 22,
    "start_time": "2023-08-14T13:42:09.273Z"
   },
   {
    "duration": 334,
    "start_time": "2023-08-14T13:42:09.297Z"
   },
   {
    "duration": 208,
    "start_time": "2023-08-14T13:42:09.633Z"
   },
   {
    "duration": 63,
    "start_time": "2023-08-14T13:42:09.843Z"
   },
   {
    "duration": 4,
    "start_time": "2023-08-14T13:42:09.913Z"
   },
   {
    "duration": 65,
    "start_time": "2023-08-14T13:42:09.919Z"
   },
   {
    "duration": 520,
    "start_time": "2023-08-14T13:42:09.987Z"
   },
   {
    "duration": 8,
    "start_time": "2023-08-14T13:42:10.512Z"
   },
   {
    "duration": 46,
    "start_time": "2023-08-14T13:42:10.522Z"
   },
   {
    "duration": 17,
    "start_time": "2023-08-14T13:42:10.574Z"
   },
   {
    "duration": 22,
    "start_time": "2023-08-14T13:42:10.593Z"
   },
   {
    "duration": 131,
    "start_time": "2023-08-14T13:42:10.617Z"
   },
   {
    "duration": 74,
    "start_time": "2023-08-14T13:42:10.749Z"
   },
   {
    "duration": 25,
    "start_time": "2023-08-14T13:42:10.825Z"
   },
   {
    "duration": 21,
    "start_time": "2023-08-14T13:42:10.852Z"
   },
   {
    "duration": 22,
    "start_time": "2023-08-14T13:42:10.875Z"
   },
   {
    "duration": 317,
    "start_time": "2023-08-14T13:42:10.899Z"
   },
   {
    "duration": 18,
    "start_time": "2023-08-14T13:42:11.218Z"
   },
   {
    "duration": 35,
    "start_time": "2023-08-14T13:42:11.239Z"
   },
   {
    "duration": 16,
    "start_time": "2023-08-14T13:42:11.277Z"
   },
   {
    "duration": 41,
    "start_time": "2023-08-14T13:42:11.295Z"
   },
   {
    "duration": 20,
    "start_time": "2023-08-14T13:42:11.339Z"
   },
   {
    "duration": 16,
    "start_time": "2023-08-14T13:42:11.362Z"
   },
   {
    "duration": 44,
    "start_time": "2023-08-14T13:42:11.380Z"
   },
   {
    "duration": 48,
    "start_time": "2023-08-14T13:42:11.426Z"
   },
   {
    "duration": 78,
    "start_time": "2023-08-14T13:42:11.476Z"
   },
   {
    "duration": 5017,
    "start_time": "2023-08-14T13:42:11.556Z"
   },
   {
    "duration": 9,
    "start_time": "2023-08-14T13:42:16.576Z"
   },
   {
    "duration": 27,
    "start_time": "2023-08-14T13:42:16.587Z"
   },
   {
    "duration": 6,
    "start_time": "2023-08-14T13:42:53.797Z"
   },
   {
    "duration": 12,
    "start_time": "2023-08-14T13:45:13.475Z"
   },
   {
    "duration": 7,
    "start_time": "2023-08-14T13:45:15.361Z"
   },
   {
    "duration": 6,
    "start_time": "2023-08-14T13:45:45.299Z"
   },
   {
    "duration": 7,
    "start_time": "2023-08-14T13:45:48.064Z"
   },
   {
    "duration": 6,
    "start_time": "2023-08-14T13:48:19.690Z"
   },
   {
    "duration": 5,
    "start_time": "2023-08-14T13:48:47.766Z"
   },
   {
    "duration": 218,
    "start_time": "2023-08-14T13:51:40.188Z"
   },
   {
    "duration": 7,
    "start_time": "2023-08-14T13:53:23.606Z"
   },
   {
    "duration": 5,
    "start_time": "2023-08-14T13:53:57.465Z"
   },
   {
    "duration": 9,
    "start_time": "2023-08-14T13:55:19.300Z"
   },
   {
    "duration": 1534,
    "start_time": "2023-08-14T14:04:42.759Z"
   },
   {
    "duration": 83,
    "start_time": "2023-08-14T14:04:44.296Z"
   },
   {
    "duration": 4,
    "start_time": "2023-08-14T14:04:44.381Z"
   },
   {
    "duration": 153,
    "start_time": "2023-08-14T14:04:44.387Z"
   },
   {
    "duration": 225,
    "start_time": "2023-08-14T14:04:44.542Z"
   },
   {
    "duration": 194,
    "start_time": "2023-08-14T14:04:44.769Z"
   },
   {
    "duration": 198,
    "start_time": "2023-08-14T14:04:44.967Z"
   },
   {
    "duration": 94,
    "start_time": "2023-08-14T14:04:45.166Z"
   },
   {
    "duration": 165,
    "start_time": "2023-08-14T14:04:45.262Z"
   },
   {
    "duration": 269,
    "start_time": "2023-08-14T14:04:45.430Z"
   },
   {
    "duration": 29,
    "start_time": "2023-08-14T14:04:45.701Z"
   },
   {
    "duration": 64,
    "start_time": "2023-08-14T14:04:45.732Z"
   },
   {
    "duration": 84,
    "start_time": "2023-08-14T14:04:45.799Z"
   },
   {
    "duration": 83,
    "start_time": "2023-08-14T14:04:45.885Z"
   },
   {
    "duration": 58,
    "start_time": "2023-08-14T14:04:45.970Z"
   },
   {
    "duration": 140,
    "start_time": "2023-08-14T14:04:46.030Z"
   },
   {
    "duration": 453,
    "start_time": "2023-08-14T14:04:46.171Z"
   },
   {
    "duration": 223,
    "start_time": "2023-08-14T14:04:46.626Z"
   },
   {
    "duration": 38,
    "start_time": "2023-08-14T14:04:46.851Z"
   },
   {
    "duration": 28,
    "start_time": "2023-08-14T14:04:46.891Z"
   },
   {
    "duration": 282,
    "start_time": "2023-08-14T14:04:46.921Z"
   },
   {
    "duration": 184,
    "start_time": "2023-08-14T14:04:47.205Z"
   },
   {
    "duration": 66,
    "start_time": "2023-08-14T14:04:47.391Z"
   },
   {
    "duration": 3,
    "start_time": "2023-08-14T14:04:47.458Z"
   },
   {
    "duration": 19,
    "start_time": "2023-08-14T14:04:47.463Z"
   },
   {
    "duration": 321,
    "start_time": "2023-08-14T14:04:47.485Z"
   },
   {
    "duration": 8,
    "start_time": "2023-08-14T14:04:47.809Z"
   },
   {
    "duration": 110,
    "start_time": "2023-08-14T14:04:47.821Z"
   },
   {
    "duration": 36,
    "start_time": "2023-08-14T14:04:47.933Z"
   },
   {
    "duration": 20,
    "start_time": "2023-08-14T14:04:47.971Z"
   },
   {
    "duration": 41,
    "start_time": "2023-08-14T14:04:47.993Z"
   },
   {
    "duration": 48,
    "start_time": "2023-08-14T14:04:48.036Z"
   },
   {
    "duration": 17,
    "start_time": "2023-08-14T14:04:48.085Z"
   },
   {
    "duration": 24,
    "start_time": "2023-08-14T14:04:48.104Z"
   },
   {
    "duration": 18,
    "start_time": "2023-08-14T14:04:48.130Z"
   },
   {
    "duration": 297,
    "start_time": "2023-08-14T14:04:48.150Z"
   },
   {
    "duration": 11,
    "start_time": "2023-08-14T14:04:48.449Z"
   },
   {
    "duration": 18,
    "start_time": "2023-08-14T14:04:48.462Z"
   },
   {
    "duration": 7,
    "start_time": "2023-08-14T14:04:48.482Z"
   },
   {
    "duration": 27,
    "start_time": "2023-08-14T14:04:48.491Z"
   },
   {
    "duration": 24,
    "start_time": "2023-08-14T14:04:48.521Z"
   },
   {
    "duration": 27,
    "start_time": "2023-08-14T14:04:48.547Z"
   },
   {
    "duration": 34,
    "start_time": "2023-08-14T14:04:48.608Z"
   },
   {
    "duration": 8,
    "start_time": "2023-08-14T14:04:48.644Z"
   },
   {
    "duration": 127,
    "start_time": "2023-08-14T14:05:01.661Z"
   },
   {
    "duration": 14,
    "start_time": "2023-08-14T14:05:14.782Z"
   },
   {
    "duration": 12,
    "start_time": "2023-08-14T14:05:24.092Z"
   },
   {
    "duration": 17,
    "start_time": "2023-08-14T14:07:06.030Z"
   },
   {
    "duration": 17,
    "start_time": "2023-08-14T14:07:46.809Z"
   },
   {
    "duration": 14,
    "start_time": "2023-08-14T14:07:55.027Z"
   },
   {
    "duration": 39,
    "start_time": "2023-08-14T14:11:19.332Z"
   },
   {
    "duration": 6,
    "start_time": "2023-08-14T14:11:23.764Z"
   },
   {
    "duration": 4474,
    "start_time": "2023-08-14T14:11:38.910Z"
   },
   {
    "duration": 8,
    "start_time": "2023-08-14T14:17:04.867Z"
   },
   {
    "duration": 12,
    "start_time": "2023-08-14T14:17:06.759Z"
   },
   {
    "duration": 12,
    "start_time": "2023-08-14T14:17:14.387Z"
   },
   {
    "duration": 7,
    "start_time": "2023-08-14T14:17:21.104Z"
   },
   {
    "duration": 517523,
    "start_time": "2023-08-14T14:17:52.221Z"
   },
   {
    "duration": 22957,
    "start_time": "2023-08-14T14:30:18.373Z"
   },
   {
    "duration": 750208,
    "start_time": "2023-08-14T14:31:25.962Z"
   },
   {
    "duration": 111,
    "start_time": "2023-08-14T14:44:00.163Z"
   },
   {
    "duration": 4,
    "start_time": "2023-08-14T14:46:17.444Z"
   },
   {
    "duration": 106,
    "start_time": "2023-08-14T14:46:23.865Z"
   },
   {
    "duration": 176884,
    "start_time": "2023-08-14T14:47:09.728Z"
   },
   {
    "duration": 5,
    "start_time": "2023-08-14T15:57:36.189Z"
   },
   {
    "duration": 73,
    "start_time": "2023-08-14T15:57:36.196Z"
   },
   {
    "duration": 4,
    "start_time": "2023-08-14T15:57:36.271Z"
   },
   {
    "duration": 44,
    "start_time": "2023-08-14T15:57:36.278Z"
   },
   {
    "duration": 198,
    "start_time": "2023-08-14T15:57:36.324Z"
   },
   {
    "duration": 175,
    "start_time": "2023-08-14T15:57:36.524Z"
   },
   {
    "duration": 316,
    "start_time": "2023-08-14T15:57:36.701Z"
   },
   {
    "duration": 14,
    "start_time": "2023-08-14T15:57:37.020Z"
   },
   {
    "duration": 31,
    "start_time": "2023-08-14T15:57:37.037Z"
   },
   {
    "duration": 196,
    "start_time": "2023-08-14T15:57:37.070Z"
   },
   {
    "duration": 17,
    "start_time": "2023-08-14T15:57:37.270Z"
   },
   {
    "duration": 29,
    "start_time": "2023-08-14T15:57:37.288Z"
   },
   {
    "duration": 59,
    "start_time": "2023-08-14T15:57:37.319Z"
   },
   {
    "duration": 90,
    "start_time": "2023-08-14T15:57:37.380Z"
   },
   {
    "duration": 29,
    "start_time": "2023-08-14T15:57:37.472Z"
   },
   {
    "duration": 42,
    "start_time": "2023-08-14T15:57:37.503Z"
   },
   {
    "duration": 365,
    "start_time": "2023-08-14T15:57:37.548Z"
   },
   {
    "duration": 223,
    "start_time": "2023-08-14T15:57:37.915Z"
   },
   {
    "duration": 36,
    "start_time": "2023-08-14T15:57:38.140Z"
   },
   {
    "duration": 23,
    "start_time": "2023-08-14T15:57:38.178Z"
   },
   {
    "duration": 313,
    "start_time": "2023-08-14T15:57:38.202Z"
   },
   {
    "duration": 187,
    "start_time": "2023-08-14T15:57:38.517Z"
   },
   {
    "duration": 78,
    "start_time": "2023-08-14T15:57:38.708Z"
   },
   {
    "duration": 4,
    "start_time": "2023-08-14T15:57:38.788Z"
   },
   {
    "duration": 47,
    "start_time": "2023-08-14T15:57:38.793Z"
   },
   {
    "duration": 322,
    "start_time": "2023-08-14T15:57:38.842Z"
   },
   {
    "duration": 7,
    "start_time": "2023-08-14T15:57:39.166Z"
   },
   {
    "duration": 72,
    "start_time": "2023-08-14T15:57:39.175Z"
   },
   {
    "duration": 85,
    "start_time": "2023-08-14T15:57:39.251Z"
   },
   {
    "duration": 37,
    "start_time": "2023-08-14T15:57:39.337Z"
   },
   {
    "duration": 29,
    "start_time": "2023-08-14T15:57:39.376Z"
   },
   {
    "duration": 109,
    "start_time": "2023-08-14T15:57:39.407Z"
   },
   {
    "duration": 38,
    "start_time": "2023-08-14T15:57:39.518Z"
   },
   {
    "duration": 67,
    "start_time": "2023-08-14T15:57:39.558Z"
   },
   {
    "duration": 38,
    "start_time": "2023-08-14T15:57:39.627Z"
   },
   {
    "duration": 299,
    "start_time": "2023-08-14T15:57:39.667Z"
   },
   {
    "duration": 15,
    "start_time": "2023-08-14T15:57:39.968Z"
   },
   {
    "duration": 52,
    "start_time": "2023-08-14T15:57:39.985Z"
   },
   {
    "duration": 33,
    "start_time": "2023-08-14T15:57:40.039Z"
   },
   {
    "duration": 50,
    "start_time": "2023-08-14T15:57:40.074Z"
   },
   {
    "duration": 29,
    "start_time": "2023-08-14T15:57:40.126Z"
   },
   {
    "duration": 28,
    "start_time": "2023-08-14T15:57:40.157Z"
   },
   {
    "duration": 57,
    "start_time": "2023-08-14T15:57:40.187Z"
   },
   {
    "duration": 15,
    "start_time": "2023-08-14T15:57:40.246Z"
   },
   {
    "duration": 74,
    "start_time": "2023-08-14T15:57:40.262Z"
   },
   {
    "duration": 4644,
    "start_time": "2023-08-14T15:57:40.338Z"
   },
   {
    "duration": 8,
    "start_time": "2023-08-14T15:57:44.984Z"
   },
   {
    "duration": 71,
    "start_time": "2023-08-14T15:57:45.009Z"
   },
   {
    "duration": 7,
    "start_time": "2023-08-14T15:57:45.082Z"
   },
   {
    "duration": 180400,
    "start_time": "2023-08-14T15:59:42.595Z"
   },
   {
    "duration": 5,
    "start_time": "2023-08-14T16:04:04.325Z"
   },
   {
    "duration": 177873,
    "start_time": "2023-08-14T16:10:12.687Z"
   },
   {
    "duration": 68333,
    "start_time": "2023-08-14T16:13:27.121Z"
   },
   {
    "duration": 53,
    "start_time": "2023-08-14T16:18:55.121Z"
   },
   {
    "duration": 278094,
    "start_time": "2023-08-14T16:19:19.224Z"
   },
   {
    "duration": 4493,
    "start_time": "2023-08-14T16:30:10.289Z"
   },
   {
    "duration": 273,
    "start_time": "2023-08-14T16:30:17.669Z"
   },
   {
    "duration": 106,
    "start_time": "2023-08-14T16:30:30.097Z"
   },
   {
    "duration": 4579,
    "start_time": "2023-08-14T16:30:48.552Z"
   },
   {
    "duration": 484824,
    "start_time": "2023-08-14T16:32:16.063Z"
   },
   {
    "duration": 135698,
    "start_time": "2023-08-14T16:41:14.666Z"
   },
   {
    "duration": 296501,
    "start_time": "2023-08-14T16:44:04.225Z"
   },
   {
    "duration": 19,
    "start_time": "2023-08-14T16:49:53.756Z"
   },
   {
    "duration": 8,
    "start_time": "2023-08-14T16:50:59.187Z"
   },
   {
    "duration": 20,
    "start_time": "2023-08-14T16:57:20.575Z"
   },
   {
    "duration": 19,
    "start_time": "2023-08-14T16:57:41.022Z"
   },
   {
    "duration": 20,
    "start_time": "2023-08-14T17:00:12.375Z"
   },
   {
    "duration": 1587,
    "start_time": "2023-08-14T17:00:51.365Z"
   },
   {
    "duration": 77,
    "start_time": "2023-08-14T17:00:52.954Z"
   },
   {
    "duration": 3,
    "start_time": "2023-08-14T17:00:53.033Z"
   },
   {
    "duration": 45,
    "start_time": "2023-08-14T17:00:53.039Z"
   },
   {
    "duration": 239,
    "start_time": "2023-08-14T17:00:53.086Z"
   },
   {
    "duration": 172,
    "start_time": "2023-08-14T17:00:53.327Z"
   },
   {
    "duration": 185,
    "start_time": "2023-08-14T17:00:53.501Z"
   },
   {
    "duration": 28,
    "start_time": "2023-08-14T17:00:53.688Z"
   },
   {
    "duration": 33,
    "start_time": "2023-08-14T17:00:53.718Z"
   },
   {
    "duration": 266,
    "start_time": "2023-08-14T17:00:53.755Z"
   },
   {
    "duration": 18,
    "start_time": "2023-08-14T17:00:54.023Z"
   },
   {
    "duration": 33,
    "start_time": "2023-08-14T17:00:54.043Z"
   },
   {
    "duration": 61,
    "start_time": "2023-08-14T17:00:54.078Z"
   },
   {
    "duration": 67,
    "start_time": "2023-08-14T17:00:54.142Z"
   },
   {
    "duration": 46,
    "start_time": "2023-08-14T17:00:54.211Z"
   },
   {
    "duration": 46,
    "start_time": "2023-08-14T17:00:54.259Z"
   },
   {
    "duration": 329,
    "start_time": "2023-08-14T17:00:54.307Z"
   },
   {
    "duration": 214,
    "start_time": "2023-08-14T17:00:54.639Z"
   },
   {
    "duration": 38,
    "start_time": "2023-08-14T17:00:54.855Z"
   },
   {
    "duration": 25,
    "start_time": "2023-08-14T17:00:54.894Z"
   },
   {
    "duration": 307,
    "start_time": "2023-08-14T17:00:54.920Z"
   },
   {
    "duration": 184,
    "start_time": "2023-08-14T17:00:55.229Z"
   },
   {
    "duration": 63,
    "start_time": "2023-08-14T17:00:55.415Z"
   },
   {
    "duration": 3,
    "start_time": "2023-08-14T17:00:55.480Z"
   },
   {
    "duration": 68,
    "start_time": "2023-08-14T17:00:55.485Z"
   },
   {
    "duration": 292,
    "start_time": "2023-08-14T17:00:55.555Z"
   },
   {
    "duration": 7,
    "start_time": "2023-08-14T17:00:55.850Z"
   },
   {
    "duration": 45,
    "start_time": "2023-08-14T17:00:55.861Z"
   },
   {
    "duration": 57,
    "start_time": "2023-08-14T17:00:55.908Z"
   },
   {
    "duration": 64,
    "start_time": "2023-08-14T17:00:55.967Z"
   },
   {
    "duration": 77,
    "start_time": "2023-08-14T17:00:56.033Z"
   },
   {
    "duration": 62,
    "start_time": "2023-08-14T17:00:56.113Z"
   },
   {
    "duration": 16,
    "start_time": "2023-08-14T17:00:56.177Z"
   },
   {
    "duration": 30,
    "start_time": "2023-08-14T17:00:56.195Z"
   },
   {
    "duration": 25,
    "start_time": "2023-08-14T17:00:56.227Z"
   },
   {
    "duration": 308,
    "start_time": "2023-08-14T17:00:56.254Z"
   },
   {
    "duration": 11,
    "start_time": "2023-08-14T17:00:56.564Z"
   },
   {
    "duration": 39,
    "start_time": "2023-08-14T17:00:56.577Z"
   },
   {
    "duration": 13,
    "start_time": "2023-08-14T17:00:56.617Z"
   },
   {
    "duration": 21,
    "start_time": "2023-08-14T17:00:56.632Z"
   },
   {
    "duration": 37,
    "start_time": "2023-08-14T17:00:56.654Z"
   },
   {
    "duration": 34,
    "start_time": "2023-08-14T17:00:56.693Z"
   },
   {
    "duration": 67,
    "start_time": "2023-08-14T17:00:56.728Z"
   },
   {
    "duration": 7,
    "start_time": "2023-08-14T17:00:56.796Z"
   },
   {
    "duration": 67,
    "start_time": "2023-08-14T17:00:56.805Z"
   },
   {
    "duration": 4533,
    "start_time": "2023-08-14T17:00:56.874Z"
   },
   {
    "duration": 27,
    "start_time": "2023-08-14T17:01:01.410Z"
   },
   {
    "duration": 28,
    "start_time": "2023-08-14T17:01:08.212Z"
   },
   {
    "duration": 9,
    "start_time": "2023-08-14T17:01:20.700Z"
   },
   {
    "duration": 12,
    "start_time": "2023-08-14T17:01:22.031Z"
   },
   {
    "duration": 6,
    "start_time": "2023-08-14T17:01:24.688Z"
   },
   {
    "duration": 556875,
    "start_time": "2023-08-14T17:01:34.577Z"
   },
   {
    "duration": 311535,
    "start_time": "2023-08-14T17:16:13.066Z"
   },
   {
    "duration": 911176,
    "start_time": "2023-08-14T17:21:55.834Z"
   },
   {
    "duration": 5345,
    "start_time": "2023-08-14T17:37:27.247Z"
   },
   {
    "duration": 4726,
    "start_time": "2023-08-14T17:37:46.589Z"
   },
   {
    "duration": 1736,
    "start_time": "2023-08-15T14:19:48.057Z"
   },
   {
    "duration": 115,
    "start_time": "2023-08-15T14:19:49.795Z"
   },
   {
    "duration": 3,
    "start_time": "2023-08-15T14:19:49.912Z"
   },
   {
    "duration": 33,
    "start_time": "2023-08-15T14:19:49.917Z"
   },
   {
    "duration": 214,
    "start_time": "2023-08-15T14:19:49.953Z"
   },
   {
    "duration": 175,
    "start_time": "2023-08-15T14:19:50.169Z"
   },
   {
    "duration": 174,
    "start_time": "2023-08-15T14:19:50.346Z"
   },
   {
    "duration": 13,
    "start_time": "2023-08-15T14:19:50.522Z"
   },
   {
    "duration": 202,
    "start_time": "2023-08-15T14:19:50.537Z"
   },
   {
    "duration": 305,
    "start_time": "2023-08-15T14:19:50.742Z"
   },
   {
    "duration": 32,
    "start_time": "2023-08-15T14:19:51.049Z"
   },
   {
    "duration": 37,
    "start_time": "2023-08-15T14:19:51.083Z"
   },
   {
    "duration": 37,
    "start_time": "2023-08-15T14:19:51.121Z"
   },
   {
    "duration": 243,
    "start_time": "2023-08-15T14:19:51.161Z"
   },
   {
    "duration": 29,
    "start_time": "2023-08-15T14:19:51.407Z"
   },
   {
    "duration": 54,
    "start_time": "2023-08-15T14:19:51.438Z"
   },
   {
    "duration": 404,
    "start_time": "2023-08-15T14:19:51.495Z"
   },
   {
    "duration": 229,
    "start_time": "2023-08-15T14:19:51.902Z"
   },
   {
    "duration": 146,
    "start_time": "2023-08-15T14:19:52.133Z"
   },
   {
    "duration": 23,
    "start_time": "2023-08-15T14:19:52.281Z"
   },
   {
    "duration": 276,
    "start_time": "2023-08-15T14:19:52.306Z"
   },
   {
    "duration": 184,
    "start_time": "2023-08-15T14:19:52.583Z"
   },
   {
    "duration": 102,
    "start_time": "2023-08-15T14:19:52.769Z"
   },
   {
    "duration": 3,
    "start_time": "2023-08-15T14:19:52.873Z"
   },
   {
    "duration": 37,
    "start_time": "2023-08-15T14:19:52.877Z"
   },
   {
    "duration": 310,
    "start_time": "2023-08-15T14:19:52.916Z"
   },
   {
    "duration": 7,
    "start_time": "2023-08-15T14:19:53.228Z"
   },
   {
    "duration": 107,
    "start_time": "2023-08-15T14:19:53.237Z"
   },
   {
    "duration": 43,
    "start_time": "2023-08-15T14:19:53.346Z"
   },
   {
    "duration": 43,
    "start_time": "2023-08-15T14:19:53.391Z"
   },
   {
    "duration": 39,
    "start_time": "2023-08-15T14:19:53.436Z"
   },
   {
    "duration": 176,
    "start_time": "2023-08-15T14:19:53.477Z"
   },
   {
    "duration": 16,
    "start_time": "2023-08-15T14:19:53.655Z"
   },
   {
    "duration": 51,
    "start_time": "2023-08-15T14:19:53.673Z"
   },
   {
    "duration": 29,
    "start_time": "2023-08-15T14:19:53.726Z"
   },
   {
    "duration": 310,
    "start_time": "2023-08-15T14:19:53.757Z"
   },
   {
    "duration": 13,
    "start_time": "2023-08-15T14:19:54.070Z"
   },
   {
    "duration": 44,
    "start_time": "2023-08-15T14:19:54.085Z"
   },
   {
    "duration": 31,
    "start_time": "2023-08-15T14:19:54.131Z"
   },
   {
    "duration": 33,
    "start_time": "2023-08-15T14:19:54.164Z"
   },
   {
    "duration": 42,
    "start_time": "2023-08-15T14:19:54.200Z"
   },
   {
    "duration": 77,
    "start_time": "2023-08-15T14:19:54.243Z"
   },
   {
    "duration": 86,
    "start_time": "2023-08-15T14:19:54.322Z"
   },
   {
    "duration": 9,
    "start_time": "2023-08-15T14:19:54.410Z"
   },
   {
    "duration": 26,
    "start_time": "2023-08-15T14:27:56.457Z"
   },
   {
    "duration": 30,
    "start_time": "2023-08-15T14:29:57.348Z"
   },
   {
    "duration": 1602,
    "start_time": "2023-08-15T14:30:56.696Z"
   },
   {
    "duration": 72,
    "start_time": "2023-08-15T14:30:58.301Z"
   },
   {
    "duration": 3,
    "start_time": "2023-08-15T14:30:58.375Z"
   },
   {
    "duration": 22,
    "start_time": "2023-08-15T14:30:58.381Z"
   },
   {
    "duration": 210,
    "start_time": "2023-08-15T14:30:58.405Z"
   },
   {
    "duration": 177,
    "start_time": "2023-08-15T14:30:58.617Z"
   },
   {
    "duration": 182,
    "start_time": "2023-08-15T14:30:58.797Z"
   },
   {
    "duration": 13,
    "start_time": "2023-08-15T14:30:58.981Z"
   },
   {
    "duration": 19,
    "start_time": "2023-08-15T14:30:58.996Z"
   },
   {
    "duration": 268,
    "start_time": "2023-08-15T14:30:59.018Z"
   },
   {
    "duration": 30,
    "start_time": "2023-08-15T14:30:59.288Z"
   },
   {
    "duration": 13,
    "start_time": "2023-08-15T14:30:59.320Z"
   },
   {
    "duration": 39,
    "start_time": "2023-08-15T14:30:59.335Z"
   },
   {
    "duration": 72,
    "start_time": "2023-08-15T14:30:59.377Z"
   },
   {
    "duration": 30,
    "start_time": "2023-08-15T14:30:59.451Z"
   },
   {
    "duration": 35,
    "start_time": "2023-08-15T14:30:59.483Z"
   },
   {
    "duration": 306,
    "start_time": "2023-08-15T14:30:59.520Z"
   },
   {
    "duration": 212,
    "start_time": "2023-08-15T14:30:59.829Z"
   },
   {
    "duration": 39,
    "start_time": "2023-08-15T14:31:00.043Z"
   },
   {
    "duration": 50,
    "start_time": "2023-08-15T14:31:00.083Z"
   },
   {
    "duration": 326,
    "start_time": "2023-08-15T14:31:00.134Z"
   },
   {
    "duration": 187,
    "start_time": "2023-08-15T14:31:00.462Z"
   },
   {
    "duration": 63,
    "start_time": "2023-08-15T14:31:00.651Z"
   },
   {
    "duration": 3,
    "start_time": "2023-08-15T14:31:00.716Z"
   },
   {
    "duration": 40,
    "start_time": "2023-08-15T14:31:00.721Z"
   },
   {
    "duration": 319,
    "start_time": "2023-08-15T14:31:00.763Z"
   },
   {
    "duration": 7,
    "start_time": "2023-08-15T14:31:01.083Z"
   },
   {
    "duration": 53,
    "start_time": "2023-08-15T14:31:01.093Z"
   },
   {
    "duration": 49,
    "start_time": "2023-08-15T14:31:01.148Z"
   },
   {
    "duration": 35,
    "start_time": "2023-08-15T14:31:01.199Z"
   },
   {
    "duration": 34,
    "start_time": "2023-08-15T14:31:01.236Z"
   },
   {
    "duration": 65,
    "start_time": "2023-08-15T14:31:01.272Z"
   },
   {
    "duration": 21,
    "start_time": "2023-08-15T14:31:01.339Z"
   },
   {
    "duration": 20,
    "start_time": "2023-08-15T14:31:01.362Z"
   },
   {
    "duration": 66,
    "start_time": "2023-08-15T14:31:01.384Z"
   },
   {
    "duration": 348,
    "start_time": "2023-08-15T14:31:01.452Z"
   },
   {
    "duration": 16,
    "start_time": "2023-08-15T14:31:01.802Z"
   },
   {
    "duration": 33,
    "start_time": "2023-08-15T14:31:01.820Z"
   },
   {
    "duration": 11,
    "start_time": "2023-08-15T14:31:01.855Z"
   },
   {
    "duration": 25,
    "start_time": "2023-08-15T14:31:01.868Z"
   },
   {
    "duration": 9,
    "start_time": "2023-08-15T14:31:01.895Z"
   },
   {
    "duration": 37,
    "start_time": "2023-08-15T14:31:01.907Z"
   },
   {
    "duration": 49,
    "start_time": "2023-08-15T14:31:01.945Z"
   },
   {
    "duration": 15,
    "start_time": "2023-08-15T14:31:01.996Z"
   },
   {
    "duration": 60,
    "start_time": "2023-08-15T14:31:07.839Z"
   },
   {
    "duration": 4482,
    "start_time": "2023-08-15T14:32:10.996Z"
   },
   {
    "duration": 7,
    "start_time": "2023-08-15T14:36:16.006Z"
   },
   {
    "duration": 19,
    "start_time": "2023-08-15T14:40:25.686Z"
   },
   {
    "duration": 22,
    "start_time": "2023-08-15T14:40:47.202Z"
   },
   {
    "duration": 19,
    "start_time": "2023-08-15T14:41:12.226Z"
   },
   {
    "duration": 1623,
    "start_time": "2023-08-15T14:43:01.768Z"
   },
   {
    "duration": 75,
    "start_time": "2023-08-15T14:43:03.393Z"
   },
   {
    "duration": 3,
    "start_time": "2023-08-15T14:43:03.470Z"
   },
   {
    "duration": 166,
    "start_time": "2023-08-15T14:43:03.475Z"
   },
   {
    "duration": 456,
    "start_time": "2023-08-15T14:43:03.643Z"
   },
   {
    "duration": 178,
    "start_time": "2023-08-15T14:43:04.101Z"
   },
   {
    "duration": 275,
    "start_time": "2023-08-15T14:43:04.281Z"
   },
   {
    "duration": 13,
    "start_time": "2023-08-15T14:43:04.557Z"
   },
   {
    "duration": 108,
    "start_time": "2023-08-15T14:43:04.572Z"
   },
   {
    "duration": 295,
    "start_time": "2023-08-15T14:43:04.682Z"
   },
   {
    "duration": 48,
    "start_time": "2023-08-15T14:43:04.979Z"
   },
   {
    "duration": 198,
    "start_time": "2023-08-15T14:43:05.029Z"
   },
   {
    "duration": 39,
    "start_time": "2023-08-15T14:43:05.230Z"
   },
   {
    "duration": 66,
    "start_time": "2023-08-15T14:43:05.275Z"
   },
   {
    "duration": 66,
    "start_time": "2023-08-15T14:43:05.343Z"
   },
   {
    "duration": 33,
    "start_time": "2023-08-15T14:43:05.411Z"
   },
   {
    "duration": 479,
    "start_time": "2023-08-15T14:43:05.446Z"
   },
   {
    "duration": 271,
    "start_time": "2023-08-15T14:43:05.927Z"
   },
   {
    "duration": 38,
    "start_time": "2023-08-15T14:43:06.200Z"
   },
   {
    "duration": 22,
    "start_time": "2023-08-15T14:43:06.239Z"
   },
   {
    "duration": 316,
    "start_time": "2023-08-15T14:43:06.262Z"
   },
   {
    "duration": 194,
    "start_time": "2023-08-15T14:43:06.580Z"
   },
   {
    "duration": 64,
    "start_time": "2023-08-15T14:43:06.776Z"
   },
   {
    "duration": 4,
    "start_time": "2023-08-15T14:43:06.842Z"
   },
   {
    "duration": 21,
    "start_time": "2023-08-15T14:43:06.847Z"
   },
   {
    "duration": 307,
    "start_time": "2023-08-15T14:43:06.870Z"
   },
   {
    "duration": 7,
    "start_time": "2023-08-15T14:43:07.179Z"
   },
   {
    "duration": 48,
    "start_time": "2023-08-15T14:43:07.187Z"
   },
   {
    "duration": 38,
    "start_time": "2023-08-15T14:43:07.237Z"
   },
   {
    "duration": 24,
    "start_time": "2023-08-15T14:43:07.277Z"
   },
   {
    "duration": 45,
    "start_time": "2023-08-15T14:43:07.303Z"
   },
   {
    "duration": 53,
    "start_time": "2023-08-15T14:43:07.350Z"
   },
   {
    "duration": 17,
    "start_time": "2023-08-15T14:43:07.405Z"
   },
   {
    "duration": 18,
    "start_time": "2023-08-15T14:43:07.424Z"
   },
   {
    "duration": 30,
    "start_time": "2023-08-15T14:43:07.444Z"
   },
   {
    "duration": 323,
    "start_time": "2023-08-15T14:43:07.476Z"
   },
   {
    "duration": 16,
    "start_time": "2023-08-15T14:43:07.800Z"
   },
   {
    "duration": 15,
    "start_time": "2023-08-15T14:43:07.818Z"
   },
   {
    "duration": 8,
    "start_time": "2023-08-15T14:43:07.835Z"
   },
   {
    "duration": 8,
    "start_time": "2023-08-15T14:43:07.845Z"
   },
   {
    "duration": 7,
    "start_time": "2023-08-15T14:43:07.859Z"
   },
   {
    "duration": 44,
    "start_time": "2023-08-15T14:43:07.868Z"
   },
   {
    "duration": 38,
    "start_time": "2023-08-15T14:43:07.914Z"
   },
   {
    "duration": 8,
    "start_time": "2023-08-15T14:43:07.954Z"
   },
   {
    "duration": 70,
    "start_time": "2023-08-15T14:43:07.964Z"
   },
   {
    "duration": 4399,
    "start_time": "2023-08-15T14:43:08.036Z"
   },
   {
    "duration": 17,
    "start_time": "2023-08-15T14:43:12.437Z"
   },
   {
    "duration": 20,
    "start_time": "2023-08-15T14:43:12.456Z"
   },
   {
    "duration": 19,
    "start_time": "2023-08-15T14:43:26.487Z"
   },
   {
    "duration": 9,
    "start_time": "2023-08-15T14:43:33.471Z"
   },
   {
    "duration": 12,
    "start_time": "2023-08-15T14:43:36.875Z"
   },
   {
    "duration": 8,
    "start_time": "2023-08-15T14:44:26.087Z"
   },
   {
    "duration": 502216,
    "start_time": "2023-08-15T14:44:46.155Z"
   },
   {
    "duration": 307711,
    "start_time": "2023-08-15T14:53:27.000Z"
   },
   {
    "duration": 23221,
    "start_time": "2023-08-15T15:00:02.091Z"
   },
   {
    "duration": 4770,
    "start_time": "2023-08-15T15:02:10.731Z"
   },
   {
    "duration": 4724,
    "start_time": "2023-08-15T15:02:19.621Z"
   },
   {
    "duration": 14,
    "start_time": "2023-08-15T15:17:57.506Z"
   },
   {
    "duration": 14,
    "start_time": "2023-08-15T15:18:14.980Z"
   },
   {
    "duration": 13,
    "start_time": "2023-08-15T15:19:50.622Z"
   },
   {
    "duration": 125,
    "start_time": "2023-08-15T15:22:56.951Z"
   },
   {
    "duration": 441,
    "start_time": "2023-08-15T15:26:35.750Z"
   },
   {
    "duration": 476,
    "start_time": "2023-08-15T15:42:45.660Z"
   },
   {
    "duration": 375,
    "start_time": "2023-08-15T15:43:38.148Z"
   },
   {
    "duration": 359,
    "start_time": "2023-08-15T15:49:54.071Z"
   },
   {
    "duration": 411,
    "start_time": "2023-08-15T15:58:35.867Z"
   },
   {
    "duration": 19,
    "start_time": "2023-08-15T15:59:24.732Z"
   },
   {
    "duration": 9,
    "start_time": "2023-08-15T16:03:16.387Z"
   },
   {
    "duration": 109,
    "start_time": "2023-08-15T16:03:18.346Z"
   },
   {
    "duration": 6,
    "start_time": "2023-08-15T16:06:56.031Z"
   },
   {
    "duration": 523915,
    "start_time": "2023-08-15T16:07:01.310Z"
   },
   {
    "duration": 342811,
    "start_time": "2023-08-15T16:16:08.604Z"
   },
   {
    "duration": 429,
    "start_time": "2023-08-15T16:21:51.418Z"
   },
   {
    "duration": 22,
    "start_time": "2023-08-15T16:22:31.712Z"
   },
   {
    "duration": 15,
    "start_time": "2023-08-15T16:29:14.856Z"
   },
   {
    "duration": 1647,
    "start_time": "2023-08-15T16:29:37.770Z"
   },
   {
    "duration": 89,
    "start_time": "2023-08-15T16:29:39.419Z"
   },
   {
    "duration": 5,
    "start_time": "2023-08-15T16:29:39.510Z"
   },
   {
    "duration": 30,
    "start_time": "2023-08-15T16:29:39.518Z"
   },
   {
    "duration": 225,
    "start_time": "2023-08-15T16:29:39.550Z"
   },
   {
    "duration": 220,
    "start_time": "2023-08-15T16:29:39.777Z"
   },
   {
    "duration": 202,
    "start_time": "2023-08-15T16:29:39.999Z"
   },
   {
    "duration": 16,
    "start_time": "2023-08-15T16:29:40.209Z"
   },
   {
    "duration": 23,
    "start_time": "2023-08-15T16:29:40.227Z"
   },
   {
    "duration": 294,
    "start_time": "2023-08-15T16:29:40.253Z"
   },
   {
    "duration": 19,
    "start_time": "2023-08-15T16:29:40.549Z"
   },
   {
    "duration": 34,
    "start_time": "2023-08-15T16:29:40.570Z"
   },
   {
    "duration": 30,
    "start_time": "2023-08-15T16:29:40.607Z"
   },
   {
    "duration": 17,
    "start_time": "2023-08-15T16:29:59.755Z"
   },
   {
    "duration": 22,
    "start_time": "2023-08-15T16:30:18.687Z"
   },
   {
    "duration": 19,
    "start_time": "2023-08-15T16:30:29.098Z"
   },
   {
    "duration": 147,
    "start_time": "2023-08-15T16:30:47.147Z"
   },
   {
    "duration": 15,
    "start_time": "2023-08-15T16:30:57.028Z"
   },
   {
    "duration": 1719,
    "start_time": "2023-08-15T16:31:38.398Z"
   },
   {
    "duration": 80,
    "start_time": "2023-08-15T16:31:40.119Z"
   },
   {
    "duration": 5,
    "start_time": "2023-08-15T16:31:40.201Z"
   },
   {
    "duration": 42,
    "start_time": "2023-08-15T16:31:40.209Z"
   },
   {
    "duration": 258,
    "start_time": "2023-08-15T16:31:40.253Z"
   },
   {
    "duration": 201,
    "start_time": "2023-08-15T16:31:40.513Z"
   },
   {
    "duration": 186,
    "start_time": "2023-08-15T16:31:40.715Z"
   },
   {
    "duration": 24,
    "start_time": "2023-08-15T16:31:40.903Z"
   },
   {
    "duration": 11,
    "start_time": "2023-08-15T16:31:40.930Z"
   },
   {
    "duration": 298,
    "start_time": "2023-08-15T16:31:40.947Z"
   },
   {
    "duration": 20,
    "start_time": "2023-08-15T16:31:41.247Z"
   },
   {
    "duration": 38,
    "start_time": "2023-08-15T16:31:41.270Z"
   },
   {
    "duration": 26,
    "start_time": "2023-08-15T16:31:41.310Z"
   },
   {
    "duration": 19,
    "start_time": "2023-08-15T16:31:41.338Z"
   },
   {
    "duration": 61,
    "start_time": "2023-08-15T16:31:41.358Z"
   },
   {
    "duration": 56,
    "start_time": "2023-08-15T16:31:41.422Z"
   },
   {
    "duration": 31,
    "start_time": "2023-08-15T16:31:41.480Z"
   },
   {
    "duration": 26,
    "start_time": "2023-08-15T16:31:41.513Z"
   },
   {
    "duration": 440,
    "start_time": "2023-08-15T16:31:41.541Z"
   },
   {
    "duration": 297,
    "start_time": "2023-08-15T16:31:41.984Z"
   },
   {
    "duration": 47,
    "start_time": "2023-08-15T16:31:42.283Z"
   },
   {
    "duration": 33,
    "start_time": "2023-08-15T16:31:42.333Z"
   },
   {
    "duration": 333,
    "start_time": "2023-08-15T16:31:42.369Z"
   },
   {
    "duration": 194,
    "start_time": "2023-08-15T16:31:42.709Z"
   },
   {
    "duration": 62,
    "start_time": "2023-08-15T16:31:42.905Z"
   },
   {
    "duration": 5,
    "start_time": "2023-08-15T16:31:42.970Z"
   },
   {
    "duration": 15,
    "start_time": "2023-08-15T16:31:42.977Z"
   },
   {
    "duration": 332,
    "start_time": "2023-08-15T16:31:42.997Z"
   },
   {
    "duration": 7,
    "start_time": "2023-08-15T16:31:43.333Z"
   },
   {
    "duration": 39,
    "start_time": "2023-08-15T16:31:43.342Z"
   },
   {
    "duration": 39,
    "start_time": "2023-08-15T16:31:43.383Z"
   },
   {
    "duration": 22,
    "start_time": "2023-08-15T16:31:43.425Z"
   },
   {
    "duration": 23,
    "start_time": "2023-08-15T16:31:43.449Z"
   },
   {
    "duration": 54,
    "start_time": "2023-08-15T16:31:43.474Z"
   },
   {
    "duration": 23,
    "start_time": "2023-08-15T16:31:43.530Z"
   },
   {
    "duration": 13,
    "start_time": "2023-08-15T16:31:43.556Z"
   },
   {
    "duration": 16,
    "start_time": "2023-08-15T16:31:43.572Z"
   },
   {
    "duration": 352,
    "start_time": "2023-08-15T16:31:43.609Z"
   },
   {
    "duration": 17,
    "start_time": "2023-08-15T16:31:43.963Z"
   },
   {
    "duration": 41,
    "start_time": "2023-08-15T16:31:43.982Z"
   },
   {
    "duration": 11,
    "start_time": "2023-08-15T16:31:44.026Z"
   },
   {
    "duration": 12,
    "start_time": "2023-08-15T16:31:44.039Z"
   },
   {
    "duration": 7,
    "start_time": "2023-08-15T16:31:44.054Z"
   },
   {
    "duration": 15,
    "start_time": "2023-08-15T16:31:44.064Z"
   },
   {
    "duration": 66,
    "start_time": "2023-08-15T16:31:44.082Z"
   },
   {
    "duration": 10,
    "start_time": "2023-08-15T16:31:44.150Z"
   },
   {
    "duration": 74,
    "start_time": "2023-08-15T16:31:44.163Z"
   },
   {
    "duration": 4615,
    "start_time": "2023-08-15T16:31:44.240Z"
   },
   {
    "duration": 19,
    "start_time": "2023-08-15T16:31:54.293Z"
   },
   {
    "duration": 26,
    "start_time": "2023-08-15T16:31:56.626Z"
   },
   {
    "duration": 32,
    "start_time": "2023-08-15T16:31:58.056Z"
   },
   {
    "duration": 20,
    "start_time": "2023-08-15T16:32:12.833Z"
   },
   {
    "duration": 9,
    "start_time": "2023-08-15T16:32:20.029Z"
   },
   {
    "duration": 14,
    "start_time": "2023-08-15T16:32:23.964Z"
   },
   {
    "duration": 6,
    "start_time": "2023-08-15T16:32:27.425Z"
   },
   {
    "duration": 569936,
    "start_time": "2023-08-15T16:32:37.371Z"
   },
   {
    "duration": 44,
    "start_time": "2023-08-15T16:42:33.243Z"
   },
   {
    "duration": 1528813,
    "start_time": "2023-08-15T16:42:44.300Z"
   },
   {
    "duration": 5109,
    "start_time": "2023-08-15T17:09:16.643Z"
   },
   {
    "duration": 35529,
    "start_time": "2023-08-15T17:09:22.491Z"
   },
   {
    "duration": 5068,
    "start_time": "2023-08-15T17:10:16.508Z"
   },
   {
    "duration": 2269,
    "start_time": "2023-08-16T13:58:51.463Z"
   },
   {
    "duration": 124,
    "start_time": "2023-08-16T13:58:53.734Z"
   },
   {
    "duration": 3,
    "start_time": "2023-08-16T13:58:53.859Z"
   },
   {
    "duration": 45,
    "start_time": "2023-08-16T13:58:53.863Z"
   },
   {
    "duration": 178,
    "start_time": "2023-08-16T13:58:53.911Z"
   },
   {
    "duration": 150,
    "start_time": "2023-08-16T13:58:54.091Z"
   },
   {
    "duration": 161,
    "start_time": "2023-08-16T13:58:54.243Z"
   },
   {
    "duration": 11,
    "start_time": "2023-08-16T13:58:54.406Z"
   },
   {
    "duration": 34,
    "start_time": "2023-08-16T13:58:54.418Z"
   },
   {
    "duration": 247,
    "start_time": "2023-08-16T13:58:54.453Z"
   },
   {
    "duration": 15,
    "start_time": "2023-08-16T13:58:54.703Z"
   },
   {
    "duration": 47,
    "start_time": "2023-08-16T13:58:54.719Z"
   },
   {
    "duration": 70,
    "start_time": "2023-08-16T13:58:54.768Z"
   },
   {
    "duration": 25,
    "start_time": "2023-08-16T13:58:54.842Z"
   },
   {
    "duration": 47,
    "start_time": "2023-08-16T13:58:54.869Z"
   },
   {
    "duration": 231,
    "start_time": "2023-08-16T13:58:54.918Z"
   },
   {
    "duration": 26,
    "start_time": "2023-08-16T13:58:55.150Z"
   },
   {
    "duration": 55,
    "start_time": "2023-08-16T13:58:55.178Z"
   },
   {
    "duration": 420,
    "start_time": "2023-08-16T13:58:55.235Z"
   },
   {
    "duration": 209,
    "start_time": "2023-08-16T13:58:55.657Z"
   },
   {
    "duration": 154,
    "start_time": "2023-08-16T13:58:55.868Z"
   },
   {
    "duration": 20,
    "start_time": "2023-08-16T13:58:56.024Z"
   },
   {
    "duration": 302,
    "start_time": "2023-08-16T13:58:56.046Z"
   },
   {
    "duration": 170,
    "start_time": "2023-08-16T13:58:56.350Z"
   },
   {
    "duration": 99,
    "start_time": "2023-08-16T13:58:56.521Z"
   },
   {
    "duration": 2,
    "start_time": "2023-08-16T13:58:56.622Z"
   },
   {
    "duration": 42,
    "start_time": "2023-08-16T13:58:56.626Z"
   },
   {
    "duration": 283,
    "start_time": "2023-08-16T13:58:56.670Z"
   },
   {
    "duration": 5,
    "start_time": "2023-08-16T13:58:56.955Z"
   },
   {
    "duration": 52,
    "start_time": "2023-08-16T13:58:56.961Z"
   },
   {
    "duration": 16,
    "start_time": "2023-08-16T13:58:57.015Z"
   },
   {
    "duration": 23,
    "start_time": "2023-08-16T13:58:57.032Z"
   },
   {
    "duration": 49,
    "start_time": "2023-08-16T13:58:57.057Z"
   },
   {
    "duration": 158,
    "start_time": "2023-08-16T13:58:57.107Z"
   },
   {
    "duration": 14,
    "start_time": "2023-08-16T13:58:57.267Z"
   },
   {
    "duration": 53,
    "start_time": "2023-08-16T13:58:57.282Z"
   },
   {
    "duration": 30,
    "start_time": "2023-08-16T13:58:57.337Z"
   },
   {
    "duration": 263,
    "start_time": "2023-08-16T13:58:57.369Z"
   },
   {
    "duration": 10,
    "start_time": "2023-08-16T13:58:57.634Z"
   },
   {
    "duration": 48,
    "start_time": "2023-08-16T13:58:57.645Z"
   },
   {
    "duration": 59,
    "start_time": "2023-08-16T13:58:57.698Z"
   },
   {
    "duration": 47,
    "start_time": "2023-08-16T13:58:57.759Z"
   },
   {
    "duration": 39,
    "start_time": "2023-08-16T13:58:57.807Z"
   },
   {
    "duration": 23,
    "start_time": "2023-08-16T13:58:57.848Z"
   },
   {
    "duration": 65,
    "start_time": "2023-08-16T13:58:57.873Z"
   },
   {
    "duration": 7,
    "start_time": "2023-08-16T13:58:57.940Z"
   },
   {
    "duration": 86,
    "start_time": "2023-08-16T13:58:57.948Z"
   },
   {
    "duration": 4394,
    "start_time": "2023-08-16T13:58:58.035Z"
   },
   {
    "duration": 16,
    "start_time": "2023-08-16T13:59:02.431Z"
   },
   {
    "duration": 39,
    "start_time": "2023-08-16T13:59:02.448Z"
   },
   {
    "duration": 21,
    "start_time": "2023-08-16T13:59:02.490Z"
   },
   {
    "duration": 15,
    "start_time": "2023-08-16T13:59:02.512Z"
   },
   {
    "duration": 15,
    "start_time": "2023-08-16T13:59:02.528Z"
   },
   {
    "duration": 34,
    "start_time": "2023-08-16T13:59:02.544Z"
   },
   {
    "duration": 22,
    "start_time": "2023-08-16T13:59:02.580Z"
   },
   {
    "duration": 548474,
    "start_time": "2023-08-16T13:59:02.604Z"
   },
   {
    "duration": 1379288,
    "start_time": "2023-08-16T14:08:11.079Z"
   },
   {
    "duration": 5112,
    "start_time": "2023-08-16T14:31:10.369Z"
   },
   {
    "duration": 24318,
    "start_time": "2023-08-16T14:31:15.483Z"
   },
   {
    "duration": 4461,
    "start_time": "2023-08-16T14:31:39.803Z"
   },
   {
    "duration": 2641,
    "start_time": "2023-08-16T17:25:54.422Z"
   },
   {
    "duration": 164,
    "start_time": "2023-08-16T17:25:57.066Z"
   },
   {
    "duration": 5,
    "start_time": "2023-08-16T17:25:57.232Z"
   },
   {
    "duration": 87,
    "start_time": "2023-08-16T17:25:57.240Z"
   },
   {
    "duration": 335,
    "start_time": "2023-08-16T17:25:57.329Z"
   },
   {
    "duration": 183,
    "start_time": "2023-08-16T17:25:57.667Z"
   },
   {
    "duration": 191,
    "start_time": "2023-08-16T17:25:57.852Z"
   },
   {
    "duration": 14,
    "start_time": "2023-08-16T17:25:58.046Z"
   },
   {
    "duration": 41,
    "start_time": "2023-08-16T17:25:58.063Z"
   },
   {
    "duration": 322,
    "start_time": "2023-08-16T17:25:58.109Z"
   },
   {
    "duration": 19,
    "start_time": "2023-08-16T17:25:58.433Z"
   },
   {
    "duration": 73,
    "start_time": "2023-08-16T17:25:58.454Z"
   },
   {
    "duration": 66,
    "start_time": "2023-08-16T17:25:58.529Z"
   },
   {
    "duration": 18,
    "start_time": "2023-08-16T17:25:58.597Z"
   },
   {
    "duration": 18,
    "start_time": "2023-08-16T17:25:58.617Z"
   },
   {
    "duration": 281,
    "start_time": "2023-08-16T17:25:58.637Z"
   },
   {
    "duration": 53,
    "start_time": "2023-08-16T17:25:58.920Z"
   },
   {
    "duration": 64,
    "start_time": "2023-08-16T17:25:58.975Z"
   },
   {
    "duration": 480,
    "start_time": "2023-08-16T17:25:59.041Z"
   },
   {
    "duration": 348,
    "start_time": "2023-08-16T17:25:59.524Z"
   },
   {
    "duration": 258,
    "start_time": "2023-08-16T17:25:59.875Z"
   },
   {
    "duration": 34,
    "start_time": "2023-08-16T17:26:00.137Z"
   },
   {
    "duration": 479,
    "start_time": "2023-08-16T17:26:00.173Z"
   },
   {
    "duration": 240,
    "start_time": "2023-08-16T17:26:00.654Z"
   },
   {
    "duration": 181,
    "start_time": "2023-08-16T17:26:00.896Z"
   },
   {
    "duration": 4,
    "start_time": "2023-08-16T17:26:01.080Z"
   },
   {
    "duration": 112,
    "start_time": "2023-08-16T17:26:01.087Z"
   },
   {
    "duration": 403,
    "start_time": "2023-08-16T17:26:01.205Z"
   },
   {
    "duration": 8,
    "start_time": "2023-08-16T17:26:01.620Z"
   },
   {
    "duration": 208,
    "start_time": "2023-08-16T17:26:01.630Z"
   },
   {
    "duration": 78,
    "start_time": "2023-08-16T17:26:01.842Z"
   },
   {
    "duration": 171,
    "start_time": "2023-08-16T17:26:01.923Z"
   },
   {
    "duration": 199,
    "start_time": "2023-08-16T17:26:02.097Z"
   },
   {
    "duration": 367,
    "start_time": "2023-08-16T17:26:02.298Z"
   },
   {
    "duration": 28,
    "start_time": "2023-08-16T17:26:02.667Z"
   },
   {
    "duration": 45,
    "start_time": "2023-08-16T17:26:02.697Z"
   },
   {
    "duration": 38,
    "start_time": "2023-08-16T17:26:02.744Z"
   },
   {
    "duration": 431,
    "start_time": "2023-08-16T17:26:02.785Z"
   },
   {
    "duration": 16,
    "start_time": "2023-08-16T17:26:03.219Z"
   },
   {
    "duration": 247,
    "start_time": "2023-08-16T17:26:03.237Z"
   },
   {
    "duration": 26,
    "start_time": "2023-08-16T17:26:03.486Z"
   },
   {
    "duration": 25,
    "start_time": "2023-08-16T17:26:03.515Z"
   },
   {
    "duration": 125,
    "start_time": "2023-08-16T17:26:03.542Z"
   },
   {
    "duration": 58,
    "start_time": "2023-08-16T17:26:03.670Z"
   },
   {
    "duration": 74,
    "start_time": "2023-08-16T17:26:03.731Z"
   },
   {
    "duration": 16,
    "start_time": "2023-08-16T17:26:03.807Z"
   },
   {
    "duration": 104,
    "start_time": "2023-08-16T17:26:03.826Z"
   },
   {
    "duration": 6257,
    "start_time": "2023-08-16T17:26:03.942Z"
   },
   {
    "duration": 46,
    "start_time": "2023-08-16T17:26:10.202Z"
   },
   {
    "duration": 99,
    "start_time": "2023-08-16T17:26:10.252Z"
   },
   {
    "duration": 64,
    "start_time": "2023-08-16T17:26:10.361Z"
   },
   {
    "duration": 45,
    "start_time": "2023-08-16T17:26:10.428Z"
   },
   {
    "duration": 90,
    "start_time": "2023-08-16T17:26:10.475Z"
   },
   {
    "duration": 46,
    "start_time": "2023-08-16T17:26:10.573Z"
   },
   {
    "duration": 80,
    "start_time": "2023-08-16T17:26:10.621Z"
   },
   {
    "duration": 741069,
    "start_time": "2023-08-16T17:26:10.704Z"
   },
   {
    "duration": 1968937,
    "start_time": "2023-08-16T17:38:31.776Z"
   },
   {
    "duration": 6101,
    "start_time": "2023-08-16T18:11:20.715Z"
   },
   {
    "duration": 3199776,
    "start_time": "2023-08-16T18:11:26.819Z"
   },
   {
    "duration": 17,
    "start_time": "2023-08-16T19:04:46.597Z"
   },
   {
    "duration": 0,
    "start_time": "2023-08-16T19:04:46.617Z"
   },
   {
    "duration": 25075,
    "start_time": "2023-08-16T19:04:51.501Z"
   },
   {
    "duration": 70209,
    "start_time": "2023-08-16T19:06:00.233Z"
   },
   {
    "duration": 134825,
    "start_time": "2023-08-16T19:07:14.700Z"
   },
   {
    "duration": 6011,
    "start_time": "2023-08-16T19:09:33.229Z"
   },
   {
    "duration": 7663,
    "start_time": "2023-08-16T19:09:45.043Z"
   },
   {
    "duration": 2037532,
    "start_time": "2023-08-16T19:10:08.398Z"
   },
   {
    "duration": 77,
    "start_time": "2023-08-16T19:44:05.933Z"
   }
  ],
  "kernelspec": {
   "display_name": "Python 3 (ipykernel)",
   "language": "python",
   "name": "python3"
  },
  "language_info": {
   "codemirror_mode": {
    "name": "ipython",
    "version": 3
   },
   "file_extension": ".py",
   "mimetype": "text/x-python",
   "name": "python",
   "nbconvert_exporter": "python",
   "pygments_lexer": "ipython3",
   "version": "3.9.5"
  },
  "toc": {
   "base_numbering": 1,
   "nav_menu": {
    "height": "193px",
    "width": "160px"
   },
   "number_sections": true,
   "sideBar": true,
   "skip_h1_title": true,
   "title_cell": "Table of Contents",
   "title_sidebar": "Contents",
   "toc_cell": false,
   "toc_position": {},
   "toc_section_display": true,
   "toc_window_display": false
  }
 },
 "nbformat": 4,
 "nbformat_minor": 2
}
