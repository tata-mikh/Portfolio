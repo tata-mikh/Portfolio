{
 "cells": [
  {
   "cell_type": "markdown",
   "metadata": {},
   "source": [
    "**Цель исследования** — выявить закономерности, определяющие успешность игры, и проверить две гипотезы:\n",
    "1. Средние пользовательские рейтинги платформ Xbox One и PC одинаковые.\n",
    "2. Средние пользовательские рейтинги жанров Action (англ. «действие», экшен-игры) и Sports (англ. «спортивные соревнования») разные.\n",
    "\n",
    "**Ход исследования**\n",
    "\n",
    "О качестве данных ничего не известно. Поэтому перед проверкой гипотез понадобится обзор данных.\n",
    "Мы проверим данные на ошибки - пропуски, аномалии, дубликаты. \n",
    "Затем, на этапе предобработки мы их устраним. Также на этапе предобработки мы рассчитаем и добавим в таблицу новые данные, которые могут нам пригодится в анализе. \n",
    "Далее приступим к исследовательскому анализу.\n",
    "Затем мы составим портрет пользователя каждого региона. И наконец проверим гипотезы.\n",
    " \n",
    "Таким образом, исследование пройдёт в шесть этапов:\n",
    " 1. [Обзор данных](#view)\n",
    " 2. [Предобработка данных](#pre)\n",
    " 3. [Исследовательский анализ](#research)\n",
    " 4. [Составление портретов пользователей](#portrait)\n",
    " 5. [Проверка гипотез](#hypothesis)\n",
    " 6. [Общий вывод](#conclusion)"
   ]
  },
  {
   "cell_type": "markdown",
   "metadata": {},
   "source": [
    "## Обзор данных <a id='view'></a>"
   ]
  },
  {
   "cell_type": "code",
   "execution_count": 1,
   "metadata": {},
   "outputs": [],
   "source": [
    "import pandas as pd\n",
    "import matplotlib.pyplot as plt\n",
    "from scipy import stats as st"
   ]
  },
  {
   "cell_type": "code",
   "execution_count": 2,
   "metadata": {},
   "outputs": [
    {
     "name": "stdout",
     "output_type": "stream",
     "text": [
      "<class 'pandas.core.frame.DataFrame'>\n",
      "RangeIndex: 16715 entries, 0 to 16714\n",
      "Data columns (total 11 columns):\n",
      " #   Column           Non-Null Count  Dtype  \n",
      "---  ------           --------------  -----  \n",
      " 0   Name             16713 non-null  object \n",
      " 1   Platform         16715 non-null  object \n",
      " 2   Year_of_Release  16446 non-null  float64\n",
      " 3   Genre            16713 non-null  object \n",
      " 4   NA_sales         16715 non-null  float64\n",
      " 5   EU_sales         16715 non-null  float64\n",
      " 6   JP_sales         16715 non-null  float64\n",
      " 7   Other_sales      16715 non-null  float64\n",
      " 8   Critic_Score     8137 non-null   float64\n",
      " 9   User_Score       10014 non-null  object \n",
      " 10  Rating           9949 non-null   object \n",
      "dtypes: float64(6), object(5)\n",
      "memory usage: 1.4+ MB\n"
     ]
    }
   ],
   "source": [
    "data = pd.read_csv('/datasets/games.csv')\n",
    "data.info()"
   ]
  },
  {
   "cell_type": "code",
   "execution_count": 3,
   "metadata": {},
   "outputs": [
    {
     "data": {
      "text/html": [
       "<div>\n",
       "<style scoped>\n",
       "    .dataframe tbody tr th:only-of-type {\n",
       "        vertical-align: middle;\n",
       "    }\n",
       "\n",
       "    .dataframe tbody tr th {\n",
       "        vertical-align: top;\n",
       "    }\n",
       "\n",
       "    .dataframe thead th {\n",
       "        text-align: right;\n",
       "    }\n",
       "</style>\n",
       "<table border=\"1\" class=\"dataframe\">\n",
       "  <thead>\n",
       "    <tr style=\"text-align: right;\">\n",
       "      <th></th>\n",
       "      <th>Name</th>\n",
       "      <th>Platform</th>\n",
       "      <th>Year_of_Release</th>\n",
       "      <th>Genre</th>\n",
       "      <th>NA_sales</th>\n",
       "      <th>EU_sales</th>\n",
       "      <th>JP_sales</th>\n",
       "      <th>Other_sales</th>\n",
       "      <th>Critic_Score</th>\n",
       "      <th>User_Score</th>\n",
       "      <th>Rating</th>\n",
       "    </tr>\n",
       "  </thead>\n",
       "  <tbody>\n",
       "    <tr>\n",
       "      <th>0</th>\n",
       "      <td>Wii Sports</td>\n",
       "      <td>Wii</td>\n",
       "      <td>2006.0</td>\n",
       "      <td>Sports</td>\n",
       "      <td>41.36</td>\n",
       "      <td>28.96</td>\n",
       "      <td>3.77</td>\n",
       "      <td>8.45</td>\n",
       "      <td>76.0</td>\n",
       "      <td>8</td>\n",
       "      <td>E</td>\n",
       "    </tr>\n",
       "    <tr>\n",
       "      <th>1</th>\n",
       "      <td>Super Mario Bros.</td>\n",
       "      <td>NES</td>\n",
       "      <td>1985.0</td>\n",
       "      <td>Platform</td>\n",
       "      <td>29.08</td>\n",
       "      <td>3.58</td>\n",
       "      <td>6.81</td>\n",
       "      <td>0.77</td>\n",
       "      <td>NaN</td>\n",
       "      <td>NaN</td>\n",
       "      <td>NaN</td>\n",
       "    </tr>\n",
       "    <tr>\n",
       "      <th>2</th>\n",
       "      <td>Mario Kart Wii</td>\n",
       "      <td>Wii</td>\n",
       "      <td>2008.0</td>\n",
       "      <td>Racing</td>\n",
       "      <td>15.68</td>\n",
       "      <td>12.76</td>\n",
       "      <td>3.79</td>\n",
       "      <td>3.29</td>\n",
       "      <td>82.0</td>\n",
       "      <td>8.3</td>\n",
       "      <td>E</td>\n",
       "    </tr>\n",
       "    <tr>\n",
       "      <th>3</th>\n",
       "      <td>Wii Sports Resort</td>\n",
       "      <td>Wii</td>\n",
       "      <td>2009.0</td>\n",
       "      <td>Sports</td>\n",
       "      <td>15.61</td>\n",
       "      <td>10.93</td>\n",
       "      <td>3.28</td>\n",
       "      <td>2.95</td>\n",
       "      <td>80.0</td>\n",
       "      <td>8</td>\n",
       "      <td>E</td>\n",
       "    </tr>\n",
       "    <tr>\n",
       "      <th>4</th>\n",
       "      <td>Pokemon Red/Pokemon Blue</td>\n",
       "      <td>GB</td>\n",
       "      <td>1996.0</td>\n",
       "      <td>Role-Playing</td>\n",
       "      <td>11.27</td>\n",
       "      <td>8.89</td>\n",
       "      <td>10.22</td>\n",
       "      <td>1.00</td>\n",
       "      <td>NaN</td>\n",
       "      <td>NaN</td>\n",
       "      <td>NaN</td>\n",
       "    </tr>\n",
       "  </tbody>\n",
       "</table>\n",
       "</div>"
      ],
      "text/plain": [
       "                       Name Platform  Year_of_Release         Genre  NA_sales  \\\n",
       "0                Wii Sports      Wii           2006.0        Sports     41.36   \n",
       "1         Super Mario Bros.      NES           1985.0      Platform     29.08   \n",
       "2            Mario Kart Wii      Wii           2008.0        Racing     15.68   \n",
       "3         Wii Sports Resort      Wii           2009.0        Sports     15.61   \n",
       "4  Pokemon Red/Pokemon Blue       GB           1996.0  Role-Playing     11.27   \n",
       "\n",
       "   EU_sales  JP_sales  Other_sales  Critic_Score User_Score Rating  \n",
       "0     28.96      3.77         8.45          76.0          8      E  \n",
       "1      3.58      6.81         0.77           NaN        NaN    NaN  \n",
       "2     12.76      3.79         3.29          82.0        8.3      E  \n",
       "3     10.93      3.28         2.95          80.0          8      E  \n",
       "4      8.89     10.22         1.00           NaN        NaN    NaN  "
      ]
     },
     "execution_count": 3,
     "metadata": {},
     "output_type": "execute_result"
    }
   ],
   "source": [
    "data.head()"
   ]
  },
  {
   "cell_type": "markdown",
   "metadata": {},
   "source": [
    "## Предобработка данных <a id='pre'></a>"
   ]
  },
  {
   "cell_type": "code",
   "execution_count": 4,
   "metadata": {},
   "outputs": [
    {
     "data": {
      "text/plain": [
       "Index(['name', 'platform', 'year_of_release', 'genre', 'na_sales', 'eu_sales',\n",
       "       'jp_sales', 'other_sales', 'critic_score', 'user_score', 'rating'],\n",
       "      dtype='object')"
      ]
     },
     "execution_count": 4,
     "metadata": {},
     "output_type": "execute_result"
    }
   ],
   "source": [
    "# переименование столбцов\n",
    "data.columns = data.columns.str.lower()\n",
    "data.columns"
   ]
  },
  {
   "cell_type": "markdown",
   "metadata": {},
   "source": [
    "Замена типа данных требуется в стоблце 'user_score' и 'year_of_release'. \n",
    "\n",
    "Чтобы заменить тип данных в стоблце 'year_of_release', нужно сначала удалить пропуски.\n",
    "\n",
    "Чтобы заменить тип данных в столбце 'user_score', нужно сначала разобрать список уникальных значений."
   ]
  },
  {
   "cell_type": "code",
   "execution_count": 5,
   "metadata": {},
   "outputs": [
    {
     "data": {
      "text/plain": [
       "name                  2\n",
       "platform              0\n",
       "year_of_release     269\n",
       "genre                 2\n",
       "na_sales              0\n",
       "eu_sales              0\n",
       "jp_sales              0\n",
       "other_sales           0\n",
       "critic_score       8578\n",
       "user_score         6701\n",
       "rating             6766\n",
       "dtype: int64"
      ]
     },
     "execution_count": 5,
     "metadata": {},
     "output_type": "execute_result"
    }
   ],
   "source": [
    "data.isna().sum()"
   ]
  },
  {
   "cell_type": "code",
   "execution_count": 6,
   "metadata": {},
   "outputs": [
    {
     "data": {
      "text/plain": [
       "(16715, 11)"
      ]
     },
     "execution_count": 6,
     "metadata": {},
     "output_type": "execute_result"
    }
   ],
   "source": [
    "data.shape"
   ]
  },
  {
   "cell_type": "markdown",
   "metadata": {},
   "source": [
    "Пропуски незначительны в столбцах name, genre и year_of_release - эти строки мы удалим.\n",
    "\n",
    "Пропуски в стоблце critic_score более 50%. Причина может быть в том, что оценка критиками не была проведена. В стоблце rating и user_score - около 40%. Вероятно для этих строк не была проведена оценка игрового контента, а пользователям не было предложено оценить игру.\n",
    "\n",
    "Заменить пропуски в стоблце rating мы не сможем. А вот в стоблцах critic_score и user_score пропуски можно заменить медианой по жанру."
   ]
  },
  {
   "cell_type": "code",
   "execution_count": 7,
   "metadata": {},
   "outputs": [
    {
     "data": {
      "text/plain": [
       "name                  0\n",
       "platform              0\n",
       "year_of_release       0\n",
       "genre                 0\n",
       "na_sales              0\n",
       "eu_sales              0\n",
       "jp_sales              0\n",
       "other_sales           0\n",
       "critic_score       8461\n",
       "user_score         6605\n",
       "rating             6676\n",
       "dtype: int64"
      ]
     },
     "execution_count": 7,
     "metadata": {},
     "output_type": "execute_result"
    }
   ],
   "source": [
    "#удалим пропуски в столбцах name, genre и year_of_release\n",
    "data = data.dropna(subset=['name'])\n",
    "data = data.dropna(subset=['year_of_release'])\n",
    "data = data.dropna(subset=['genre'])\n",
    "data.isna().sum()"
   ]
  },
  {
   "cell_type": "code",
   "execution_count": 8,
   "metadata": {},
   "outputs": [
    {
     "data": {
      "text/plain": [
       "(16444, 11)"
      ]
     },
     "execution_count": 8,
     "metadata": {},
     "output_type": "execute_result"
    }
   ],
   "source": [
    "data.shape"
   ]
  },
  {
   "cell_type": "code",
   "execution_count": 9,
   "metadata": {},
   "outputs": [
    {
     "name": "stdout",
     "output_type": "stream",
     "text": [
      "<class 'pandas.core.frame.DataFrame'>\n",
      "Int64Index: 16444 entries, 0 to 16714\n",
      "Data columns (total 11 columns):\n",
      " #   Column           Non-Null Count  Dtype  \n",
      "---  ------           --------------  -----  \n",
      " 0   name             16444 non-null  object \n",
      " 1   platform         16444 non-null  object \n",
      " 2   year_of_release  16444 non-null  int64  \n",
      " 3   genre            16444 non-null  object \n",
      " 4   na_sales         16444 non-null  float64\n",
      " 5   eu_sales         16444 non-null  float64\n",
      " 6   jp_sales         16444 non-null  float64\n",
      " 7   other_sales      16444 non-null  float64\n",
      " 8   critic_score     7983 non-null   float64\n",
      " 9   user_score       9839 non-null   object \n",
      " 10  rating           9768 non-null   object \n",
      "dtypes: float64(5), int64(1), object(5)\n",
      "memory usage: 1.5+ MB\n"
     ]
    }
   ],
   "source": [
    "#теперь поменяем тип данных в столбце 'year_of_release'\n",
    "data['year_of_release'] = data['year_of_release'].astype('int')\n",
    "data.info()"
   ]
  },
  {
   "cell_type": "code",
   "execution_count": 10,
   "metadata": {},
   "outputs": [
    {
     "data": {
      "text/plain": [
       "array(['0', '0.2', '0.3', '0.5', '0.6', '0.7', '0.9', '1', '1.1', '1.2',\n",
       "       '1.3', '1.4', '1.5', '1.6', '1.7', '1.8', '1.9', '2', '2.1', '2.2',\n",
       "       '2.3', '2.4', '2.5', '2.6', '2.7', '2.8', '2.9', '3', '3.1', '3.2',\n",
       "       '3.3', '3.4', '3.5', '3.6', '3.7', '3.8', '3.9', '4', '4.1', '4.2',\n",
       "       '4.3', '4.4', '4.5', '4.6', '4.7', '4.8', '4.9', '5', '5.1', '5.2',\n",
       "       '5.3', '5.4', '5.5', '5.6', '5.7', '5.8', '5.9', '6', '6.1', '6.2',\n",
       "       '6.3', '6.4', '6.5', '6.6', '6.7', '6.8', '6.9', '7', '7.1', '7.2',\n",
       "       '7.3', '7.4', '7.5', '7.6', '7.7', '7.8', '7.9', '8', '8.1', '8.2',\n",
       "       '8.3', '8.4', '8.5', '8.6', '8.7', '8.8', '8.9', '9', '9.1', '9.2',\n",
       "       '9.3', '9.4', '9.5', '9.6', '9.7', 'tbd', nan], dtype=object)"
      ]
     },
     "execution_count": 10,
     "metadata": {},
     "output_type": "execute_result"
    }
   ],
   "source": [
    "#теперь рассмотрим уникальные значения столбца\n",
    "data['user_score'].sort_values().unique()"
   ]
  },
  {
   "cell_type": "markdown",
   "metadata": {},
   "source": [
    "Значение аббревиатуры tbd - To Be Determined. Значит рейтинг ещё не определен, и это значение можно приравнять к пропущеннному значению. Поэтому поменяем тип данных в столбце методом to_numeric(), там есть обработка некорректного значения."
   ]
  },
  {
   "cell_type": "code",
   "execution_count": 11,
   "metadata": {},
   "outputs": [
    {
     "data": {
      "text/plain": [
       "array([0. , 0.2, 0.3, 0.5, 0.6, 0.7, 0.9, 1. , 1.1, 1.2, 1.3, 1.4, 1.5,\n",
       "       1.6, 1.7, 1.8, 1.9, 2. , 2.1, 2.2, 2.3, 2.4, 2.5, 2.6, 2.7, 2.8,\n",
       "       2.9, 3. , 3.1, 3.2, 3.3, 3.4, 3.5, 3.6, 3.7, 3.8, 3.9, 4. , 4.1,\n",
       "       4.2, 4.3, 4.4, 4.5, 4.6, 4.7, 4.8, 4.9, 5. , 5.1, 5.2, 5.3, 5.4,\n",
       "       5.5, 5.6, 5.7, 5.8, 5.9, 6. , 6.1, 6.2, 6.3, 6.4, 6.5, 6.6, 6.7,\n",
       "       6.8, 6.9, 7. , 7.1, 7.2, 7.3, 7.4, 7.5, 7.6, 7.7, 7.8, 7.9, 8. ,\n",
       "       8.1, 8.2, 8.3, 8.4, 8.5, 8.6, 8.7, 8.8, 8.9, 9. , 9.1, 9.2, 9.3,\n",
       "       9.4, 9.5, 9.6, 9.7, nan])"
      ]
     },
     "execution_count": 11,
     "metadata": {},
     "output_type": "execute_result"
    }
   ],
   "source": [
    "data['user_score'] = pd.to_numeric(data['user_score'], errors='coerce')\n",
    "data['user_score'].sort_values().unique()"
   ]
  },
  {
   "cell_type": "code",
   "execution_count": 13,
   "metadata": {},
   "outputs": [
    {
     "data": {
      "text/html": [
       "<div>\n",
       "<style scoped>\n",
       "    .dataframe tbody tr th:only-of-type {\n",
       "        vertical-align: middle;\n",
       "    }\n",
       "\n",
       "    .dataframe tbody tr th {\n",
       "        vertical-align: top;\n",
       "    }\n",
       "\n",
       "    .dataframe thead th {\n",
       "        text-align: right;\n",
       "    }\n",
       "</style>\n",
       "<table border=\"1\" class=\"dataframe\">\n",
       "  <thead>\n",
       "    <tr style=\"text-align: right;\">\n",
       "      <th></th>\n",
       "      <th>name</th>\n",
       "      <th>platform</th>\n",
       "      <th>year_of_release</th>\n",
       "      <th>genre</th>\n",
       "      <th>na_sales</th>\n",
       "      <th>eu_sales</th>\n",
       "      <th>jp_sales</th>\n",
       "      <th>other_sales</th>\n",
       "      <th>critic_score</th>\n",
       "      <th>user_score</th>\n",
       "      <th>rating</th>\n",
       "      <th>all_sales</th>\n",
       "    </tr>\n",
       "  </thead>\n",
       "  <tbody>\n",
       "    <tr>\n",
       "      <th>0</th>\n",
       "      <td>Wii Sports</td>\n",
       "      <td>Wii</td>\n",
       "      <td>2006</td>\n",
       "      <td>Sports</td>\n",
       "      <td>41.36</td>\n",
       "      <td>28.96</td>\n",
       "      <td>3.77</td>\n",
       "      <td>8.45</td>\n",
       "      <td>76.0</td>\n",
       "      <td>8.0</td>\n",
       "      <td>E</td>\n",
       "      <td>82.54</td>\n",
       "    </tr>\n",
       "    <tr>\n",
       "      <th>1</th>\n",
       "      <td>Super Mario Bros.</td>\n",
       "      <td>NES</td>\n",
       "      <td>1985</td>\n",
       "      <td>Platform</td>\n",
       "      <td>29.08</td>\n",
       "      <td>3.58</td>\n",
       "      <td>6.81</td>\n",
       "      <td>0.77</td>\n",
       "      <td>NaN</td>\n",
       "      <td>NaN</td>\n",
       "      <td>NaN</td>\n",
       "      <td>40.24</td>\n",
       "    </tr>\n",
       "    <tr>\n",
       "      <th>2</th>\n",
       "      <td>Mario Kart Wii</td>\n",
       "      <td>Wii</td>\n",
       "      <td>2008</td>\n",
       "      <td>Racing</td>\n",
       "      <td>15.68</td>\n",
       "      <td>12.76</td>\n",
       "      <td>3.79</td>\n",
       "      <td>3.29</td>\n",
       "      <td>82.0</td>\n",
       "      <td>8.3</td>\n",
       "      <td>E</td>\n",
       "      <td>35.52</td>\n",
       "    </tr>\n",
       "    <tr>\n",
       "      <th>3</th>\n",
       "      <td>Wii Sports Resort</td>\n",
       "      <td>Wii</td>\n",
       "      <td>2009</td>\n",
       "      <td>Sports</td>\n",
       "      <td>15.61</td>\n",
       "      <td>10.93</td>\n",
       "      <td>3.28</td>\n",
       "      <td>2.95</td>\n",
       "      <td>80.0</td>\n",
       "      <td>8.0</td>\n",
       "      <td>E</td>\n",
       "      <td>32.77</td>\n",
       "    </tr>\n",
       "    <tr>\n",
       "      <th>4</th>\n",
       "      <td>Pokemon Red/Pokemon Blue</td>\n",
       "      <td>GB</td>\n",
       "      <td>1996</td>\n",
       "      <td>Role-Playing</td>\n",
       "      <td>11.27</td>\n",
       "      <td>8.89</td>\n",
       "      <td>10.22</td>\n",
       "      <td>1.00</td>\n",
       "      <td>NaN</td>\n",
       "      <td>NaN</td>\n",
       "      <td>NaN</td>\n",
       "      <td>31.38</td>\n",
       "    </tr>\n",
       "  </tbody>\n",
       "</table>\n",
       "</div>"
      ],
      "text/plain": [
       "                       name platform  year_of_release         genre  na_sales  \\\n",
       "0                Wii Sports      Wii             2006        Sports     41.36   \n",
       "1         Super Mario Bros.      NES             1985      Platform     29.08   \n",
       "2            Mario Kart Wii      Wii             2008        Racing     15.68   \n",
       "3         Wii Sports Resort      Wii             2009        Sports     15.61   \n",
       "4  Pokemon Red/Pokemon Blue       GB             1996  Role-Playing     11.27   \n",
       "\n",
       "   eu_sales  jp_sales  other_sales  critic_score  user_score rating  all_sales  \n",
       "0     28.96      3.77         8.45          76.0         8.0      E      82.54  \n",
       "1      3.58      6.81         0.77           NaN         NaN    NaN      40.24  \n",
       "2     12.76      3.79         3.29          82.0         8.3      E      35.52  \n",
       "3     10.93      3.28         2.95          80.0         8.0      E      32.77  \n",
       "4      8.89     10.22         1.00           NaN         NaN    NaN      31.38  "
      ]
     },
     "execution_count": 13,
     "metadata": {},
     "output_type": "execute_result"
    }
   ],
   "source": [
    "#считайем суммарные продажи во всех регионах и записываем их в отдельный столбец\n",
    "data['all_sales'] = data['na_sales'] + data['eu_sales'] + data['jp_sales'] + data['other_sales']\n",
    "data.head()"
   ]
  },
  {
   "cell_type": "code",
   "execution_count": 14,
   "metadata": {},
   "outputs": [],
   "source": [
    "data['rating'] = data['rating'].fillna(value='without_rating')"
   ]
  },
  {
   "cell_type": "code",
   "execution_count": 15,
   "metadata": {
    "scrolled": true
   },
   "outputs": [
    {
     "data": {
      "text/plain": [
       "0"
      ]
     },
     "execution_count": 15,
     "metadata": {},
     "output_type": "execute_result"
    }
   ],
   "source": [
    "#проверим на явные дубликаты\n",
    "data.duplicated().sum()"
   ]
  },
  {
   "cell_type": "code",
   "execution_count": 16,
   "metadata": {},
   "outputs": [
    {
     "data": {
      "text/plain": [
       "1"
      ]
     },
     "execution_count": 16,
     "metadata": {},
     "output_type": "execute_result"
    }
   ],
   "source": [
    "data.duplicated(subset=['name', 'platform', 'year_of_release']).sum()"
   ]
  },
  {
   "cell_type": "code",
   "execution_count": 17,
   "metadata": {},
   "outputs": [
    {
     "data": {
      "text/plain": [
       "0"
      ]
     },
     "execution_count": 17,
     "metadata": {},
     "output_type": "execute_result"
    }
   ],
   "source": [
    "data = data.drop_duplicates(subset=['name', 'platform', 'year_of_release'], keep='first')\n",
    "data.duplicated(subset=['name', 'platform', 'year_of_release']).sum()"
   ]
  },
  {
   "cell_type": "markdown",
   "metadata": {},
   "source": [
    "Далее проверим на аномальные и дублирующиеся значения в оставшихся столбцах, кроме названия и продаж"
   ]
  },
  {
   "cell_type": "code",
   "execution_count": 18,
   "metadata": {},
   "outputs": [
    {
     "data": {
      "text/plain": [
       "array(['2600', '3DO', '3DS', 'DC', 'DS', 'GB', 'GBA', 'GC', 'GEN', 'GG',\n",
       "       'N64', 'NES', 'NG', 'PC', 'PCFX', 'PS', 'PS2', 'PS3', 'PS4', 'PSP',\n",
       "       'PSV', 'SAT', 'SCD', 'SNES', 'TG16', 'WS', 'Wii', 'WiiU', 'X360',\n",
       "       'XB', 'XOne'], dtype=object)"
      ]
     },
     "execution_count": 18,
     "metadata": {},
     "output_type": "execute_result"
    }
   ],
   "source": [
    "data['platform'].sort_values().unique()"
   ]
  },
  {
   "cell_type": "code",
   "execution_count": 19,
   "metadata": {},
   "outputs": [
    {
     "data": {
      "text/plain": [
       "array([1980, 1981, 1982, 1983, 1984, 1985, 1986, 1987, 1988, 1989, 1990,\n",
       "       1991, 1992, 1993, 1994, 1995, 1996, 1997, 1998, 1999, 2000, 2001,\n",
       "       2002, 2003, 2004, 2005, 2006, 2007, 2008, 2009, 2010, 2011, 2012,\n",
       "       2013, 2014, 2015, 2016])"
      ]
     },
     "execution_count": 19,
     "metadata": {},
     "output_type": "execute_result"
    }
   ],
   "source": [
    "data['year_of_release'].sort_values().unique()"
   ]
  },
  {
   "cell_type": "code",
   "execution_count": 20,
   "metadata": {},
   "outputs": [
    {
     "data": {
      "text/plain": [
       "array(['Action', 'Adventure', 'Fighting', 'Misc', 'Platform', 'Puzzle',\n",
       "       'Racing', 'Role-Playing', 'Shooter', 'Simulation', 'Sports',\n",
       "       'Strategy'], dtype=object)"
      ]
     },
     "execution_count": 20,
     "metadata": {},
     "output_type": "execute_result"
    }
   ],
   "source": [
    "data['genre'].sort_values().unique()"
   ]
  },
  {
   "cell_type": "code",
   "execution_count": 21,
   "metadata": {
    "scrolled": true
   },
   "outputs": [
    {
     "data": {
      "text/plain": [
       "array([13., 17., 19., 20., 21., 23., 24., 25., 26., 27., 28., 29., 30.,\n",
       "       31., 32., 33., 34., 35., 36., 37., 38., 39., 40., 41., 42., 43.,\n",
       "       44., 45., 46., 47., 48., 49., 50., 51., 52., 53., 54., 55., 56.,\n",
       "       57., 58., 59., 60., 61., 62., 63., 64., 65., 66., 67., 68., 69.,\n",
       "       70., 71., 72., 73., 74., 75., 76., 77., 78., 79., 80., 81., 82.,\n",
       "       83., 84., 85., 86., 87., 88., 89., 90., 91., 92., 93., 94., 95.,\n",
       "       96., 97., 98., nan])"
      ]
     },
     "execution_count": 21,
     "metadata": {},
     "output_type": "execute_result"
    }
   ],
   "source": [
    "data['critic_score'].sort_values().unique()"
   ]
  },
  {
   "cell_type": "code",
   "execution_count": 22,
   "metadata": {},
   "outputs": [
    {
     "data": {
      "text/plain": [
       "array(['AO', 'E', 'E10+', 'EC', 'K-A', 'M', 'RP', 'T', 'without_rating'],\n",
       "      dtype=object)"
      ]
     },
     "execution_count": 22,
     "metadata": {},
     "output_type": "execute_result"
    }
   ],
   "source": [
    "data['rating'].sort_values().unique()"
   ]
  },
  {
   "cell_type": "markdown",
   "metadata": {},
   "source": [
    "**Вывод:** Итак, мы провели предобработку данных. Мы привели названия столбцов к нижнему регистру для удобства использования. Далее удалили незначительные по количеству строки с пропусками в столбцах с названием игр и годом выпуска. Далее поменяли тип данных в столбце с годом - это должно быть целое число, и в столбце с рейтингом пользователей - это должно быть число с плавающей точкой. Ещё мы добавили новый столбец с общими продажами - он пригодится для анализа. Ну в конце мы проверили датафрейм на дубликаты и аномалии: был удалена строка с дубликатом в столбцах название, платформа, год."
   ]
  },
  {
   "cell_type": "markdown",
   "metadata": {},
   "source": [
    "## Исследовательский анализ данных <a id='research'></a>"
   ]
  },
  {
   "cell_type": "markdown",
   "metadata": {},
   "source": [
    "**1. Посмотрим, сколько игр выпускалось в разные годы.**"
   ]
  },
  {
   "cell_type": "code",
   "execution_count": 23,
   "metadata": {},
   "outputs": [
    {
     "data": {
      "image/png": "[encoded data removed]",
      "text/plain": [
       "<Figure size 720x360 with 1 Axes>"
      ]
     },
     "metadata": {
      "needs_background": "light"
     },
     "output_type": "display_data"
    }
   ],
   "source": [
    "(\n",
    "    data\n",
    "    .drop_duplicates(subset=['name', 'year_of_release'], keep='first')\n",
    "    .pivot_table(index='year_of_release', values='name', aggfunc='count')\n",
    "    .plot(style='o-', grid=True, figsize=(10,5))\n",
    ")\n",
    "plt.title('Количество выпускаемых игр в год')\n",
    "plt.xlabel('Год')\n",
    "plt.ylabel('Количество игр')\n",
    "plt.show()"
   ]
  },
  {
   "cell_type": "markdown",
   "metadata": {},
   "source": [
    "Судя по графику до 1995 года выпускалось менее 200 игр в год. После 1995 года - количество начало стремительно расти и достигло своего пика к 2008-2009 годам. А дальше количество ежегодно выпускаемых игр начало снижаться.\n",
    "\n",
    "Данные за все периоды для анализа нам не нужны."
   ]
  },
  {
   "cell_type": "markdown",
   "metadata": {},
   "source": [
    "**2. Посмотрим, как менялись продажи по платформам.**"
   ]
  },
  {
   "cell_type": "code",
   "execution_count": 24,
   "metadata": {},
   "outputs": [
    {
     "data": {
      "image/png": "[encoded data removed]",
      "text/plain": [
       "<Figure size 720x360 with 1 Axes>"
      ]
     },
     "metadata": {
      "needs_background": "light"
     },
     "output_type": "display_data"
    }
   ],
   "source": [
    "(\n",
    "    data\n",
    "    .pivot_table(index='platform', values='all_sales', aggfunc='sum')\n",
    "    .sort_values(by='all_sales', ascending=False)\n",
    "    .plot(kind='bar', figsize = (10, 5))\n",
    ")\n",
    "plt.title('Общий объем продаж по каждой платформе')\n",
    "plt.xlabel('Название платформы') \n",
    "plt.ylabel('Суммарные продажи')\n",
    "plt.show()"
   ]
  },
  {
   "cell_type": "markdown",
   "metadata": {},
   "source": [
    "Выделяются 6 платформ с наибольшим количеством продаж. Сделаем срезы по кадой из них и построим графики по годам."
   ]
  },
  {
   "cell_type": "code",
   "execution_count": 27,
   "metadata": {},
   "outputs": [
    {
     "data": {
      "text/plain": [
       "['PS2', 'X360', 'PS3', 'Wii', 'DS', 'PS']"
      ]
     },
     "execution_count": 27,
     "metadata": {},
     "output_type": "execute_result"
    }
   ],
   "source": [
    "top_6_platform = (\n",
    "    data\n",
    "    .pivot_table(index='platform', values='all_sales', aggfunc= 'sum')\n",
    "    .sort_values('all_sales', ascending=False)\n",
    ")\n",
    "top_6_platform.index[:6].tolist()"
   ]
  },
  {
   "cell_type": "code",
   "execution_count": 28,
   "metadata": {},
   "outputs": [
    {
     "data": {
      "image/png": "[encoded data removed]",
      "text/plain": [
       "<Figure size 432x288 with 1 Axes>"
      ]
     },
     "metadata": {
      "needs_background": "light"
     },
     "output_type": "display_data"
    }
   ],
   "source": [
    "data_ds = data.query('platform == \"DS\"')\n",
    "(\n",
    "    data_ds\n",
    "    .pivot_table(index='year_of_release', values='all_sales', aggfunc='sum')\n",
    "    .plot(style='o-', grid=True)\n",
    ")\n",
    "plt.xlabel('Год') \n",
    "plt.ylabel('Суммарные продажи')\n",
    "plt.show()"
   ]
  },
  {
   "cell_type": "code",
   "execution_count": 30,
   "metadata": {},
   "outputs": [
    {
     "data": {
      "image/png": "[encoded data removed]",
      "text/plain": [
       "<Figure size 432x288 with 1 Axes>"
      ]
     },
     "metadata": {
      "needs_background": "light"
     },
     "output_type": "display_data"
    }
   ],
   "source": [
    "data_ps = data.query('platform == \"PS\"')\n",
    "(\n",
    "    data_ps\n",
    "    .pivot_table(index='year_of_release', values='all_sales', aggfunc='sum')\n",
    "    .plot(style='o-', grid=True)\n",
    ")\n",
    "plt.xlabel('Год') \n",
    "plt.ylabel('Суммарные продажи')\n",
    "plt.show()"
   ]
  },
  {
   "cell_type": "code",
   "execution_count": 31,
   "metadata": {},
   "outputs": [
    {
     "data": {
      "image/png": "[encoded data removed]",
      "text/plain": [
       "<Figure size 432x288 with 1 Axes>"
      ]
     },
     "metadata": {
      "needs_background": "light"
     },
     "output_type": "display_data"
    }
   ],
   "source": [
    "data_ps2 = data.query('platform == \"PS2\"')\n",
    "(\n",
    "    data_ps2\n",
    "    .pivot_table(index='year_of_release', values='all_sales', aggfunc='sum')\n",
    "    .plot(style='o-', grid=True)\n",
    ")\n",
    "plt.xlabel('Год') \n",
    "plt.ylabel('Суммарные продажи')\n",
    "plt.show()"
   ]
  },
  {
   "cell_type": "code",
   "execution_count": 32,
   "metadata": {},
   "outputs": [
    {
     "data": {
      "image/png": "[encoded data removed]",
      "text/plain": [
       "<Figure size 432x288 with 1 Axes>"
      ]
     },
     "metadata": {
      "needs_background": "light"
     },
     "output_type": "display_data"
    }
   ],
   "source": [
    "data_ps3 = data.query('platform == \"PS3\"')\n",
    "(\n",
    "    data_ps3\n",
    "    .pivot_table(index='year_of_release', values='all_sales', aggfunc='sum')\n",
    "    .plot(style='o-', grid=True)\n",
    ")\n",
    "plt.xlabel('Год') \n",
    "plt.ylabel('Суммарные продажи')\n",
    "plt.show()"
   ]
  },
  {
   "cell_type": "code",
   "execution_count": 33,
   "metadata": {},
   "outputs": [
    {
     "data": {
      "image/png": "[encoded data removed]",
      "text/plain": [
       "<Figure size 432x288 with 1 Axes>"
      ]
     },
     "metadata": {
      "needs_background": "light"
     },
     "output_type": "display_data"
    }
   ],
   "source": [
    "data_wii = data.query('platform == \"Wii\"')\n",
    "(\n",
    "    data_wii\n",
    "    .pivot_table(index='year_of_release', values='all_sales', aggfunc='sum')\n",
    "    .plot(style='o-', grid=True)\n",
    ")\n",
    "plt.xlabel('Год') \n",
    "plt.ylabel('Суммарные продажи')\n",
    "plt.show()"
   ]
  },
  {
   "cell_type": "code",
   "execution_count": 34,
   "metadata": {},
   "outputs": [
    {
     "data": {
      "image/png": "[encoded data removed]",
      "text/plain": [
       "<Figure size 432x288 with 1 Axes>"
      ]
     },
     "metadata": {
      "needs_background": "light"
     },
     "output_type": "display_data"
    }
   ],
   "source": [
    "data_x360 = data.query('platform == \"X360\"')\n",
    "(\n",
    "    data_x360\n",
    "    .pivot_table(index='year_of_release', values='all_sales', aggfunc='sum')\n",
    "    .plot(style='o-', grid=True)\n",
    ")\n",
    "plt.xlabel('Год') \n",
    "plt.ylabel('Суммарные продажи')\n",
    "plt.show()"
   ]
  },
  {
   "cell_type": "markdown",
   "metadata": {},
   "source": [
    "Принимая во внимание графики, можно сказать, что в среднем платформы существуют 10 лет. У каждой платформы был старт, пик по количеству продаж и постепенный спад.\n",
    "\n",
    "На основании предыдущих двух пунктов обозначаем актуальный период - 2014-2016 года. Сохраним датафрейм с актуальным периодом в переменную data_act."
   ]
  },
  {
   "cell_type": "code",
   "execution_count": 35,
   "metadata": {},
   "outputs": [
    {
     "data": {
      "text/html": [
       "<div>\n",
       "<style scoped>\n",
       "    .dataframe tbody tr th:only-of-type {\n",
       "        vertical-align: middle;\n",
       "    }\n",
       "\n",
       "    .dataframe tbody tr th {\n",
       "        vertical-align: top;\n",
       "    }\n",
       "\n",
       "    .dataframe thead th {\n",
       "        text-align: right;\n",
       "    }\n",
       "</style>\n",
       "<table border=\"1\" class=\"dataframe\">\n",
       "  <thead>\n",
       "    <tr style=\"text-align: right;\">\n",
       "      <th></th>\n",
       "      <th>name</th>\n",
       "      <th>platform</th>\n",
       "      <th>year_of_release</th>\n",
       "      <th>genre</th>\n",
       "      <th>na_sales</th>\n",
       "      <th>eu_sales</th>\n",
       "      <th>jp_sales</th>\n",
       "      <th>other_sales</th>\n",
       "      <th>critic_score</th>\n",
       "      <th>user_score</th>\n",
       "      <th>rating</th>\n",
       "      <th>all_sales</th>\n",
       "    </tr>\n",
       "  </thead>\n",
       "  <tbody>\n",
       "    <tr>\n",
       "      <th>31</th>\n",
       "      <td>Call of Duty: Black Ops 3</td>\n",
       "      <td>PS4</td>\n",
       "      <td>2015</td>\n",
       "      <td>Shooter</td>\n",
       "      <td>6.03</td>\n",
       "      <td>5.86</td>\n",
       "      <td>0.36</td>\n",
       "      <td>2.38</td>\n",
       "      <td>NaN</td>\n",
       "      <td>NaN</td>\n",
       "      <td>without_rating</td>\n",
       "      <td>14.63</td>\n",
       "    </tr>\n",
       "    <tr>\n",
       "      <th>42</th>\n",
       "      <td>Grand Theft Auto V</td>\n",
       "      <td>PS4</td>\n",
       "      <td>2014</td>\n",
       "      <td>Action</td>\n",
       "      <td>3.96</td>\n",
       "      <td>6.31</td>\n",
       "      <td>0.38</td>\n",
       "      <td>1.97</td>\n",
       "      <td>97.0</td>\n",
       "      <td>8.3</td>\n",
       "      <td>M</td>\n",
       "      <td>12.62</td>\n",
       "    </tr>\n",
       "    <tr>\n",
       "      <th>47</th>\n",
       "      <td>Pokemon Omega Ruby/Pokemon Alpha Sapphire</td>\n",
       "      <td>3DS</td>\n",
       "      <td>2014</td>\n",
       "      <td>Role-Playing</td>\n",
       "      <td>4.35</td>\n",
       "      <td>3.49</td>\n",
       "      <td>3.10</td>\n",
       "      <td>0.74</td>\n",
       "      <td>NaN</td>\n",
       "      <td>NaN</td>\n",
       "      <td>without_rating</td>\n",
       "      <td>11.68</td>\n",
       "    </tr>\n",
       "    <tr>\n",
       "      <th>77</th>\n",
       "      <td>FIFA 16</td>\n",
       "      <td>PS4</td>\n",
       "      <td>2015</td>\n",
       "      <td>Sports</td>\n",
       "      <td>1.12</td>\n",
       "      <td>6.12</td>\n",
       "      <td>0.06</td>\n",
       "      <td>1.28</td>\n",
       "      <td>82.0</td>\n",
       "      <td>4.3</td>\n",
       "      <td>E</td>\n",
       "      <td>8.58</td>\n",
       "    </tr>\n",
       "    <tr>\n",
       "      <th>87</th>\n",
       "      <td>Star Wars Battlefront (2015)</td>\n",
       "      <td>PS4</td>\n",
       "      <td>2015</td>\n",
       "      <td>Shooter</td>\n",
       "      <td>2.99</td>\n",
       "      <td>3.49</td>\n",
       "      <td>0.22</td>\n",
       "      <td>1.28</td>\n",
       "      <td>NaN</td>\n",
       "      <td>NaN</td>\n",
       "      <td>without_rating</td>\n",
       "      <td>7.98</td>\n",
       "    </tr>\n",
       "  </tbody>\n",
       "</table>\n",
       "</div>"
      ],
      "text/plain": [
       "                                         name platform  year_of_release  \\\n",
       "31                  Call of Duty: Black Ops 3      PS4             2015   \n",
       "42                         Grand Theft Auto V      PS4             2014   \n",
       "47  Pokemon Omega Ruby/Pokemon Alpha Sapphire      3DS             2014   \n",
       "77                                    FIFA 16      PS4             2015   \n",
       "87               Star Wars Battlefront (2015)      PS4             2015   \n",
       "\n",
       "           genre  na_sales  eu_sales  jp_sales  other_sales  critic_score  \\\n",
       "31       Shooter      6.03      5.86      0.36         2.38           NaN   \n",
       "42        Action      3.96      6.31      0.38         1.97          97.0   \n",
       "47  Role-Playing      4.35      3.49      3.10         0.74           NaN   \n",
       "77        Sports      1.12      6.12      0.06         1.28          82.0   \n",
       "87       Shooter      2.99      3.49      0.22         1.28           NaN   \n",
       "\n",
       "    user_score          rating  all_sales  \n",
       "31         NaN  without_rating      14.63  \n",
       "42         8.3               M      12.62  \n",
       "47         NaN  without_rating      11.68  \n",
       "77         4.3               E       8.58  \n",
       "87         NaN  without_rating       7.98  "
      ]
     },
     "execution_count": 35,
     "metadata": {},
     "output_type": "execute_result"
    }
   ],
   "source": [
    "data_act = data.query('year_of_release >= 2014')\n",
    "data_act.head()"
   ]
  },
  {
   "cell_type": "markdown",
   "metadata": {},
   "source": [
    "**3.Посмотрим, какие платформы лидируют по продажам, растут или падают в актуальном периоде.**"
   ]
  },
  {
   "cell_type": "code",
   "execution_count": 36,
   "metadata": {},
   "outputs": [
    {
     "data": {
      "image/png": "[encoded data removed]",
      "text/plain": [
       "<Figure size 720x360 with 1 Axes>"
      ]
     },
     "metadata": {
      "needs_background": "light"
     },
     "output_type": "display_data"
    }
   ],
   "source": [
    "(\n",
    "    data_act\n",
    "    .pivot_table(index='platform', values='all_sales', aggfunc='sum')\n",
    "    .plot(kind='bar', figsize = (10, 5), grid=True)\n",
    ")\n",
    "plt.title('Общие продажи по платформам в актуальном периоде')\n",
    "plt.xlabel('Название платформы') \n",
    "plt.ylabel('Суммарные продажи')\n",
    "plt.show()"
   ]
  },
  {
   "cell_type": "markdown",
   "metadata": {},
   "source": [
    "На общем фоне выделяются три платформы с наибольшим количеством продаж - PS4, XOne, 3DS. Далее посмотрим на каких платформах продажи растут, а на каких падают."
   ]
  },
  {
   "cell_type": "code",
   "execution_count": 37,
   "metadata": {},
   "outputs": [
    {
     "data": {
      "image/png": "[encoded data removed]",
      "text/plain": [
       "<Figure size 432x288 with 1 Axes>"
      ]
     },
     "metadata": {
      "needs_background": "light"
     },
     "output_type": "display_data"
    }
   ],
   "source": [
    "slice_pl_3DS = data_act.query('platform == \"3DS\"')\n",
    "(\n",
    "    slice_pl_3DS\n",
    "    .pivot_table(index='year_of_release', values='all_sales', aggfunc='sum')\n",
    "    .plot(style='o-', grid=True)\n",
    ")\n",
    "plt.title('Общие продажи по годам на платформе 3DS')\n",
    "plt.xlabel('Год') \n",
    "plt.ylabel('Суммарные продажи')\n",
    "plt.show()"
   ]
  },
  {
   "cell_type": "code",
   "execution_count": 38,
   "metadata": {},
   "outputs": [
    {
     "data": {
      "image/png": "[encoded data removed]",
      "text/plain": [
       "<Figure size 432x288 with 1 Axes>"
      ]
     },
     "metadata": {
      "needs_background": "light"
     },
     "output_type": "display_data"
    }
   ],
   "source": [
    "slice_pl = data_act.query('platform == \"PC\"')\n",
    "(\n",
    "    slice_pl\n",
    "    .pivot_table(index='year_of_release', values='all_sales', aggfunc='sum')\n",
    "    .plot(style='o-', grid=True)\n",
    ")\n",
    "plt.title('Общие продажи по годам на платформе PC')\n",
    "plt.xlabel('Год') \n",
    "plt.ylabel('Суммарные продажи')\n",
    "plt.show()"
   ]
  },
  {
   "cell_type": "code",
   "execution_count": 39,
   "metadata": {},
   "outputs": [
    {
     "data": {
      "image/png": "[encoded data removed]",
      "text/plain": [
       "<Figure size 432x288 with 1 Axes>"
      ]
     },
     "metadata": {
      "needs_background": "light"
     },
     "output_type": "display_data"
    }
   ],
   "source": [
    "slice_pl_PS3 = data_act.query('platform == \"PS3\"')\n",
    "(\n",
    "    slice_pl_PS3\n",
    "    .pivot_table(index='year_of_release', values='all_sales', aggfunc='sum')\n",
    "    .plot(style='o-', grid=True)\n",
    ")\n",
    "plt.title('Общие продажи по годам на платформе PS3')\n",
    "plt.xlabel('Год') \n",
    "plt.ylabel('Суммарные продажи')\n",
    "plt.show()"
   ]
  },
  {
   "cell_type": "code",
   "execution_count": 40,
   "metadata": {},
   "outputs": [
    {
     "data": {
      "image/png": "[encoded data removed]",
      "text/plain": [
       "<Figure size 432x288 with 1 Axes>"
      ]
     },
     "metadata": {
      "needs_background": "light"
     },
     "output_type": "display_data"
    }
   ],
   "source": [
    "slice_pl_PS4 = data_act.query('platform == \"PS4\"')\n",
    "(\n",
    "    slice_pl_PS4\n",
    "    .pivot_table(index='year_of_release', values='all_sales', aggfunc='sum')\n",
    "    .plot(style='o-', grid=True)\n",
    ")\n",
    "plt.title('Общие продажи по годам на платформе PS4')\n",
    "plt.xlabel('Год') \n",
    "plt.ylabel('Суммарные продажи')\n",
    "plt.show()"
   ]
  },
  {
   "cell_type": "code",
   "execution_count": 41,
   "metadata": {},
   "outputs": [
    {
     "data": {
      "image/png": "[encoded data removed]",
      "text/plain": [
       "<Figure size 432x288 with 1 Axes>"
      ]
     },
     "metadata": {
      "needs_background": "light"
     },
     "output_type": "display_data"
    }
   ],
   "source": [
    "slice_pl = data_act.query('platform == \"PSP\"')\n",
    "(\n",
    "    slice_pl\n",
    "    .pivot_table(index='year_of_release', values='all_sales', aggfunc='sum')\n",
    "    .plot(style='o-', grid=True)\n",
    ")\n",
    "plt.title('Общие продажи по годам на платформе PSP')\n",
    "plt.xlabel('Год') \n",
    "plt.ylabel('Суммарные продажи')\n",
    "plt.show()"
   ]
  },
  {
   "cell_type": "code",
   "execution_count": 42,
   "metadata": {},
   "outputs": [
    {
     "data": {
      "image/png": "[encoded data removed]",
      "text/plain": [
       "<Figure size 432x288 with 1 Axes>"
      ]
     },
     "metadata": {
      "needs_background": "light"
     },
     "output_type": "display_data"
    }
   ],
   "source": [
    "slice_pl = data_act.query('platform == \"PSV\"')\n",
    "(\n",
    "    slice_pl\n",
    "    .pivot_table(index='year_of_release', values='all_sales', aggfunc='sum')\n",
    "    .plot(style='o-', grid=True)\n",
    ")\n",
    "plt.title('Общие продажи по годам на платформе PSV')\n",
    "plt.xlabel('Год') \n",
    "plt.ylabel('Суммарные продажи')\n",
    "plt.show()"
   ]
  },
  {
   "cell_type": "code",
   "execution_count": 43,
   "metadata": {},
   "outputs": [
    {
     "data": {
      "image/png": "[encoded data removed]",
      "text/plain": [
       "<Figure size 432x288 with 1 Axes>"
      ]
     },
     "metadata": {
      "needs_background": "light"
     },
     "output_type": "display_data"
    }
   ],
   "source": [
    "slice_pl_Wii = data_act.query('platform == \"Wii\"')\n",
    "(\n",
    "    slice_pl_Wii\n",
    "    .pivot_table(index='year_of_release', values='all_sales', aggfunc='sum')\n",
    "    .plot(style='o-', grid=True)\n",
    ")\n",
    "plt.title('Общие продажи по годам на платформе Wii')\n",
    "plt.xlabel('Год') \n",
    "plt.ylabel('Суммарные продажи')\n",
    "plt.show()"
   ]
  },
  {
   "cell_type": "code",
   "execution_count": 44,
   "metadata": {},
   "outputs": [
    {
     "data": {
      "image/png": "[encoded data removed]",
      "text/plain": [
       "<Figure size 432x288 with 1 Axes>"
      ]
     },
     "metadata": {
      "needs_background": "light"
     },
     "output_type": "display_data"
    }
   ],
   "source": [
    "slice_pl_WiiU = data_act.query('platform == \"WiiU\"')\n",
    "(\n",
    "    slice_pl_WiiU\n",
    "    .pivot_table(index='year_of_release', values='all_sales', aggfunc='sum')\n",
    "    .plot(style='o-', grid=True)\n",
    ")\n",
    "plt.title('Общие продажи по годам на платформе WiiU')\n",
    "plt.xlabel('Год') \n",
    "plt.ylabel('Суммарные продажи')\n",
    "plt.show()"
   ]
  },
  {
   "cell_type": "code",
   "execution_count": 45,
   "metadata": {},
   "outputs": [
    {
     "data": {
      "image/png": "[encoded data removed]",
      "text/plain": [
       "<Figure size 432x288 with 1 Axes>"
      ]
     },
     "metadata": {
      "needs_background": "light"
     },
     "output_type": "display_data"
    }
   ],
   "source": [
    "slice_pl_X360 = data_act.query('platform == \"X360\"')\n",
    "(\n",
    "    slice_pl_X360\n",
    "    .pivot_table(index='year_of_release', values='all_sales', aggfunc='sum')\n",
    "    .plot(style='o-', grid=True)\n",
    ")\n",
    "plt.title('Общие продажи по годам на платформе X360')\n",
    "plt.xlabel('Год') \n",
    "plt.ylabel('Суммарные продажи')\n",
    "plt.show()"
   ]
  },
  {
   "cell_type": "code",
   "execution_count": 46,
   "metadata": {},
   "outputs": [
    {
     "data": {
      "image/png": "[encoded data removed]",
      "text/plain": [
       "<Figure size 432x288 with 1 Axes>"
      ]
     },
     "metadata": {
      "needs_background": "light"
     },
     "output_type": "display_data"
    }
   ],
   "source": [
    "slice_pl_XOne = data_act.query('platform == \"XOne\"')\n",
    "(\n",
    "    slice_pl_XOne\n",
    "    .pivot_table(index='year_of_release', values='all_sales', aggfunc='sum')\n",
    "    .plot(style='o-', grid=True)\n",
    ")\n",
    "plt.title('Общие продажи по годам на платформе XOne')\n",
    "plt.xlabel('Год') \n",
    "plt.ylabel('Суммарные продажи')\n",
    "plt.show()"
   ]
  },
  {
   "cell_type": "markdown",
   "metadata": {},
   "source": [
    "У всех платформ в последние годы наблюдается спад по продажам.\n",
    "\n",
    "Потенциально прибылиными платформами обозначу следущих:\n",
    "- PS4 - существуют с 2013 года, за 2016 год общий объем продаж был около 70 млн\n",
    "- XOne - существуют также с 2013, за 2016 год объем продаж чуть более 27 млн\n",
    "- 3DS - существуют с 2011 года, за 2016 год объем продаж был примерно 15 млн"
   ]
  },
  {
   "cell_type": "markdown",
   "metadata": {},
   "source": [
    "**4.Построим график «ящик с усами» по глобальным продажам игр в разбивке по платформам.**"
   ]
  },
  {
   "cell_type": "code",
   "execution_count": 48,
   "metadata": {},
   "outputs": [
    {
     "data": {
      "image/png": "[encoded data removed]",
      "text/plain": [
       "<Figure size 1440x720 with 1 Axes>"
      ]
     },
     "metadata": {
      "needs_background": "light"
     },
     "output_type": "display_data"
    }
   ],
   "source": [
    "(\n",
    "    data_act\n",
    "    .boxplot(column = 'all_sales', by='platform', figsize = (20, 10), grid=True)\n",
    ")\n",
    "plt.xlabel('Платформа') \n",
    "plt.ylabel('Суммарные продажи')\n",
    "plt.show()"
   ]
  },
  {
   "cell_type": "code",
   "execution_count": 49,
   "metadata": {},
   "outputs": [
    {
     "data": {
      "image/png": "[encoded data removed]",
      "text/plain": [
       "<Figure size 1440x720 with 1 Axes>"
      ]
     },
     "metadata": {
      "needs_background": "light"
     },
     "output_type": "display_data"
    }
   ],
   "source": [
    "(\n",
    "    data_act\n",
    "    .boxplot(column = 'all_sales', by='platform', figsize = (20, 10), grid=True)\n",
    ")\n",
    "plt.ylim(0, 0.85)\n",
    "plt.xlabel('Платформа') \n",
    "plt.ylabel('Суммарные продажи')\n",
    "plt.show()"
   ]
  },
  {
   "cell_type": "markdown",
   "metadata": {},
   "source": [
    "У всех платформ достаточно много выбросов.\n",
    "Для начала рассмотрим результаты перспективных платформ.\n",
    "\n",
    "PS4. Медианное значение глобальной продажи игры на этой платформе равно примерно 180 тыс. Нормальный размах находится до 1,75 млн. По графику видно, насколько медиана не стремится к длинному хвосту высоких значений. 50% всех проданных игр на платформе имеют глобальную стоимость примерно от 60 тыс до 690 тыс.\n",
    "\n",
    "XOne. Медианное значение глобальной продажи игры на этой платформе равно примерно 200 тыс. Нормальный размах находится до 1,60 млн. Здесь медиана также не стремится к длинному хвосту высоких значений. 50% всех проданных игр на платформе имеют глобальную стоимость примерно от 50 тыс до 630 тыс.\n",
    "\n",
    "3DS. Медианное значение глобальной продажи игры на этой платформе равно примерно 90 тыс. Нормальный размах находится до 570 тыс. 50% всех проданных игр на платформе имеют глобальную стоимость примерно от 30 тыс до 250 тыс.\n",
    "\n",
    "Здесь также хочется отметить платформу WiiU - у нее одна из самых высоких медианных стоимостей игры. И 50% всех игр было продано за цену в диапазоне от 50 тыс до 570 тыс. Хотя суммарные продажи до последний год менее 5 млн. Добавим ее к перспективным."
   ]
  },
  {
   "cell_type": "markdown",
   "metadata": {},
   "source": [
    "**5.Посмотрим, как влияют на продажи внутри одной популярной платформы отзывы пользователей и критиков. Построим диаграмму рассеяния и посчитаем корреляцию между отзывами и продажами.**"
   ]
  },
  {
   "cell_type": "markdown",
   "metadata": {},
   "source": [
    "Ранее мы выделили три платформы с наибольшим количеством продаж - PS4, XOne, 3DS, WiiU. Построим для каждой из них диаграммы рассеяния с отзывами критиков и пользователей."
   ]
  },
  {
   "cell_type": "code",
   "execution_count": 50,
   "metadata": {},
   "outputs": [
    {
     "data": {
      "image/png": "[encoded data removed]",
      "text/plain": [
       "<Figure size 432x288 with 1 Axes>"
      ]
     },
     "metadata": {
      "needs_background": "light"
     },
     "output_type": "display_data"
    }
   ],
   "source": [
    "slice_pl_PS4.plot(x='critic_score', y='all_sales', kind='scatter', alpha=0.3)\n",
    "plt.title('Взаимосвязь отзывов критиков с общими продажами на платформе PS4')\n",
    "plt.show()"
   ]
  },
  {
   "cell_type": "code",
   "execution_count": 51,
   "metadata": {},
   "outputs": [
    {
     "data": {
      "text/plain": [
       "0.40266141068104083"
      ]
     },
     "execution_count": 51,
     "metadata": {},
     "output_type": "execute_result"
    }
   ],
   "source": [
    "#посчитаем кофэффициент корреляции\n",
    "slice_pl_PS4['critic_score'].corr(slice_pl_PS4['all_sales'])"
   ]
  },
  {
   "cell_type": "code",
   "execution_count": 52,
   "metadata": {},
   "outputs": [
    {
     "data": {
      "image/png": "[encoded data removed]",
      "text/plain": [
       "<Figure size 432x288 with 1 Axes>"
      ]
     },
     "metadata": {
      "needs_background": "light"
     },
     "output_type": "display_data"
    }
   ],
   "source": [
    "slice_pl_PS4.plot(x='user_score', y='all_sales', kind='scatter', alpha=0.3)\n",
    "plt.title('Взаимосвязь отзывов пользователей с общими продажами на платформе PS4')\n",
    "plt.show()"
   ]
  },
  {
   "cell_type": "code",
   "execution_count": 53,
   "metadata": {},
   "outputs": [
    {
     "data": {
      "text/plain": [
       "-0.040131589472697356"
      ]
     },
     "execution_count": 53,
     "metadata": {},
     "output_type": "execute_result"
    }
   ],
   "source": [
    "#посчитаем кофэффициент корреляции\n",
    "slice_pl_PS4['user_score'].corr(slice_pl_PS4['all_sales'])"
   ]
  },
  {
   "cell_type": "markdown",
   "metadata": {},
   "source": [
    "Итак, принимая во внимание графики и коэффицинты, для платформы PS4 выявлена очень слабая прямая связь между отзывами критиков и общими продажами. А вот связи между отзывами пользователей и продажами нет."
   ]
  },
  {
   "cell_type": "code",
   "execution_count": 54,
   "metadata": {},
   "outputs": [
    {
     "data": {
      "image/png": "[encoded data removed]",
      "text/plain": [
       "<Figure size 432x288 with 1 Axes>"
      ]
     },
     "metadata": {
      "needs_background": "light"
     },
     "output_type": "display_data"
    }
   ],
   "source": [
    "slice_pl_WiiU.plot(x='critic_score', y='all_sales', kind='scatter', alpha=0.3)\n",
    "plt.title('Взаимосвязь отзывов критиков с общими продажами на платформе WiiU')\n",
    "plt.show()"
   ]
  },
  {
   "cell_type": "code",
   "execution_count": 55,
   "metadata": {},
   "outputs": [
    {
     "data": {
      "text/plain": [
       "0.370201412480884"
      ]
     },
     "execution_count": 55,
     "metadata": {},
     "output_type": "execute_result"
    }
   ],
   "source": [
    "#посчитаем кофэффициент корреляции\n",
    "slice_pl_WiiU['critic_score'].corr(slice_pl_WiiU['all_sales'])"
   ]
  },
  {
   "cell_type": "code",
   "execution_count": 56,
   "metadata": {},
   "outputs": [
    {
     "data": {
      "image/png": "[encoded data removed]",
      "text/plain": [
       "<Figure size 432x288 with 1 Axes>"
      ]
     },
     "metadata": {
      "needs_background": "light"
     },
     "output_type": "display_data"
    }
   ],
   "source": [
    "slice_pl_WiiU.plot(x='user_score', y='all_sales', kind='scatter', alpha=0.3)\n",
    "plt.title('Взаимосвязь отзывов пользователей с общими продажами на платформе WiiU')\n",
    "plt.show()"
   ]
  },
  {
   "cell_type": "code",
   "execution_count": 57,
   "metadata": {},
   "outputs": [
    {
     "data": {
      "text/plain": [
       "0.40792645792170773"
      ]
     },
     "execution_count": 57,
     "metadata": {},
     "output_type": "execute_result"
    }
   ],
   "source": [
    "#посчитаем кофэффициент корреляции\n",
    "slice_pl_WiiU['user_score'].corr(slice_pl_WiiU['all_sales'])"
   ]
  },
  {
   "cell_type": "markdown",
   "metadata": {},
   "source": [
    "Для платформы WiiU можно утверждать, что связь между отзывами как критиков, так и пользователей, есть, но она слабая."
   ]
  },
  {
   "cell_type": "code",
   "execution_count": 58,
   "metadata": {},
   "outputs": [
    {
     "data": {
      "image/png": "[encoded data removed]",
      "text/plain": [
       "<Figure size 432x288 with 1 Axes>"
      ]
     },
     "metadata": {
      "needs_background": "light"
     },
     "output_type": "display_data"
    }
   ],
   "source": [
    "slice_pl_XOne.plot(x='critic_score', y='all_sales', kind='scatter', alpha=0.3)\n",
    "plt.title('Взаимосвязь отзывов критиков с общими продажами на платформе XOne')\n",
    "plt.show()"
   ]
  },
  {
   "cell_type": "code",
   "execution_count": 59,
   "metadata": {},
   "outputs": [
    {
     "data": {
      "text/plain": [
       "0.42867694370333226"
      ]
     },
     "execution_count": 59,
     "metadata": {},
     "output_type": "execute_result"
    }
   ],
   "source": [
    "#посчитаем кофэффициент корреляции\n",
    "slice_pl_XOne['critic_score'].corr(slice_pl_XOne['all_sales'])"
   ]
  },
  {
   "cell_type": "code",
   "execution_count": 60,
   "metadata": {},
   "outputs": [
    {
     "data": {
      "image/png": "[encoded data removed]",
      "text/plain": [
       "<Figure size 432x288 with 1 Axes>"
      ]
     },
     "metadata": {
      "needs_background": "light"
     },
     "output_type": "display_data"
    }
   ],
   "source": [
    "slice_pl_XOne.plot(x='user_score', y='all_sales', kind='scatter', alpha=0.3)\n",
    "plt.title('Взаимосвязь отзывов пользователей с общими продажами на платформе XOne')\n",
    "plt.show()"
   ]
  },
  {
   "cell_type": "code",
   "execution_count": 61,
   "metadata": {},
   "outputs": [
    {
     "data": {
      "text/plain": [
       "-0.0703839280647581"
      ]
     },
     "execution_count": 61,
     "metadata": {},
     "output_type": "execute_result"
    }
   ],
   "source": [
    "#посчитаем кофэффициент корреляции\n",
    "slice_pl_XOne['user_score'].corr(slice_pl_XOne['all_sales'])"
   ]
  },
  {
   "cell_type": "markdown",
   "metadata": {},
   "source": [
    "На основании полученных графиков и коэффициентов вывод такой - для платформы XOne наблюдается слабая прямая связь между отзывами критиков и общими продажами.\n",
    "Между отзывами пользователей и общими продажами связи не выявлено, так как коэффициент корреляции близок к нулю."
   ]
  },
  {
   "cell_type": "code",
   "execution_count": 62,
   "metadata": {},
   "outputs": [
    {
     "data": {
      "image/png": "[encoded data removed]",
      "text/plain": [
       "<Figure size 432x288 with 1 Axes>"
      ]
     },
     "metadata": {
      "needs_background": "light"
     },
     "output_type": "display_data"
    }
   ],
   "source": [
    "slice_pl_3DS.plot(x='critic_score', y='all_sales', kind='scatter', alpha=0.3)\n",
    "plt.title('Взаимосвязь отзывов критиков с общими продажами на платформе 3DS')\n",
    "plt.show()"
   ]
  },
  {
   "cell_type": "code",
   "execution_count": 63,
   "metadata": {},
   "outputs": [
    {
     "data": {
      "text/plain": [
       "0.314117492869051"
      ]
     },
     "execution_count": 63,
     "metadata": {},
     "output_type": "execute_result"
    }
   ],
   "source": [
    "slice_pl_3DS['critic_score'].corr(slice_pl_3DS['all_sales'])"
   ]
  },
  {
   "cell_type": "code",
   "execution_count": 64,
   "metadata": {},
   "outputs": [
    {
     "data": {
      "image/png": "[encoded data removed]",
      "text/plain": [
       "<Figure size 432x288 with 1 Axes>"
      ]
     },
     "metadata": {
      "needs_background": "light"
     },
     "output_type": "display_data"
    }
   ],
   "source": [
    "slice_pl_3DS.plot(x='user_score', y='all_sales', kind='scatter', alpha=0.3)\n",
    "plt.title('Взаимосвязь отзывов пользователей с общими продажами на платформе 3DS')\n",
    "plt.show()"
   ]
  },
  {
   "cell_type": "code",
   "execution_count": 65,
   "metadata": {},
   "outputs": [
    {
     "data": {
      "text/plain": [
       "0.2151932718527028"
      ]
     },
     "execution_count": 65,
     "metadata": {},
     "output_type": "execute_result"
    }
   ],
   "source": [
    "slice_pl_3DS['user_score'].corr(slice_pl_3DS['all_sales'])"
   ]
  },
  {
   "cell_type": "markdown",
   "metadata": {},
   "source": [
    "Для платформы 3DS наблюдается слабая прямая связь между отзывами критиков и общими продажами.\n",
    "Между отзывами пользователей и общими продажами связь ещё более слабая."
   ]
  },
  {
   "cell_type": "markdown",
   "metadata": {},
   "source": [
    "**Общий вывод:** Проанализировав взаимосвязь отзывов и продаж для популярных платформ, можно сделать вывод, что  объемы продаж на любой платформе не связаны с отзывами критиков или пользователей."
   ]
  },
  {
   "cell_type": "markdown",
   "metadata": {},
   "source": [
    "**6.Посмотрим на общее распределение игр и продаж по жанрам.**"
   ]
  },
  {
   "cell_type": "code",
   "execution_count": 66,
   "metadata": {},
   "outputs": [
    {
     "data": {
      "image/png": "[encoded data removed]",
      "text/plain": [
       "<Figure size 720x360 with 1 Axes>"
      ]
     },
     "metadata": {
      "needs_background": "light"
     },
     "output_type": "display_data"
    }
   ],
   "source": [
    "(\n",
    "    data_act\n",
    "    .pivot_table(index='genre', values='name', aggfunc='count')\n",
    "    .plot(kind='bar', figsize = (10, 5), grid=True)\n",
    ")\n",
    "plt.title('Распределение количества игр в каждом жанре')\n",
    "plt.xlabel('Жанр') \n",
    "plt.ylabel('Количество игр')\n",
    "plt.show()"
   ]
  },
  {
   "cell_type": "code",
   "execution_count": 67,
   "metadata": {},
   "outputs": [
    {
     "data": {
      "image/png": "[encoded data removed]",
      "text/plain": [
       "<Figure size 720x360 with 1 Axes>"
      ]
     },
     "metadata": {
      "needs_background": "light"
     },
     "output_type": "display_data"
    }
   ],
   "source": [
    "(\n",
    "    data_act\n",
    "    .pivot_table(index='genre', values='all_sales', aggfunc='median')\n",
    "    .plot(kind='bar', figsize = (10, 5), grid=True)\n",
    ")\n",
    "plt.title('Распределение общих продаж в каждом жанре')\n",
    "plt.xlabel('Жанр') \n",
    "plt.ylabel('Общие продажи')\n",
    "plt.show()"
   ]
  },
  {
   "cell_type": "markdown",
   "metadata": {},
   "source": [
    "На первом графике выделяется жанр Action - более 600 игр. Но меданные продажи у него средние - около 90 тыс.\n",
    "\n",
    "Следующий по количеству игр жанр Role-Playing - около 230 игр. При этом медианные продажи даже выше, чем у Action - 110 тыс.\n",
    "\n",
    "Далее жанр Adventure - примерно 190 игр. И самые маленькие медианные продажи - менее 40 тыс.\n",
    "\n",
    "Жанр Sports - около 170 игр. И здесь уже хорошие медианные продажи - около 180 тыс.\n",
    "\n",
    "Жанр Shooter - примерно 130 игр. А вот медианные продажи самые высокие - более 500 тыс.\n",
    "\n",
    "Также хорошие медианные продажи в жанре Platform - примерно 130 тыс при небольшом количестве - всего около 40 игр.\n",
    "\n",
    "Жанр Fighting тоже имеет хорошие меданные продажи - около 120 тыс, количество - около 60 игр.\n",
    "\n",
    "**Общий вывод:** наиболее прибыльными жанрами обозначим Shooter, Sports, Platform, Fighting."
   ]
  },
  {
   "cell_type": "markdown",
   "metadata": {},
   "source": [
    "## Портрет пользователя каждого региона <a id='portrait'></a>"
   ]
  },
  {
   "cell_type": "markdown",
   "metadata": {},
   "source": [
    "**Северная Америка.**"
   ]
  },
  {
   "cell_type": "code",
   "execution_count": 68,
   "metadata": {},
   "outputs": [
    {
     "data": {
      "image/png": "[encoded data removed]",
      "text/plain": [
       "<Figure size 720x360 with 1 Axes>"
      ]
     },
     "metadata": {
      "needs_background": "light"
     },
     "output_type": "display_data"
    }
   ],
   "source": [
    "(\n",
    "    data_act\n",
    "    .pivot_table(index='platform', values='na_sales', aggfunc='sum')\n",
    "    .plot(kind='bar', figsize = (10, 5), grid=True)\n",
    ")\n",
    "plt.title('Распределение продаж по платформам в Северной Америке')\n",
    "plt.xlabel('Платформа') \n",
    "plt.ylabel('Продажи')\n",
    "plt.show()"
   ]
  },
  {
   "cell_type": "markdown",
   "metadata": {},
   "source": [
    "Топ-5 платформ в Северной Америке: PS4, XOne, X360, 3DS, PS3.\n",
    "Около 100 млн было продано на платформе PS4, а на PS3 чуть более 20 млн."
   ]
  },
  {
   "cell_type": "code",
   "execution_count": 69,
   "metadata": {},
   "outputs": [
    {
     "data": {
      "image/png": "[encoded data removed]",
      "text/plain": [
       "<Figure size 720x360 with 1 Axes>"
      ]
     },
     "metadata": {
      "needs_background": "light"
     },
     "output_type": "display_data"
    }
   ],
   "source": [
    "(\n",
    "    data_act\n",
    "    .pivot_table(index='genre', values='na_sales', aggfunc='sum')\n",
    "    .plot(kind='bar', figsize = (10, 5), grid=True)\n",
    ")\n",
    "plt.title('Распределение продаж по жанрам в Северной Америке')\n",
    "plt.xlabel('Жанр') \n",
    "plt.ylabel('Продажи')\n",
    "plt.show()"
   ]
  },
  {
   "cell_type": "markdown",
   "metadata": {},
   "source": [
    "Топ-5 жанров в Северной Америке: Shooter, Action, Sports, Role_Playing, Misc."
   ]
  },
  {
   "cell_type": "code",
   "execution_count": 70,
   "metadata": {},
   "outputs": [
    {
     "data": {
      "image/png": "[encoded data removed]",
      "text/plain": [
       "<Figure size 720x360 with 1 Axes>"
      ]
     },
     "metadata": {
      "needs_background": "light"
     },
     "output_type": "display_data"
    }
   ],
   "source": [
    "(\n",
    "    data_act\n",
    "    .pivot_table(index='rating', values='na_sales', aggfunc='sum')\n",
    "    .plot(kind='bar', figsize = (10, 5), grid=True)\n",
    ")\n",
    "plt.title('Распределение продаж по рейтингу ESRB в Северной Америке')\n",
    "plt.xlabel('Рейтинг ESRB') \n",
    "plt.ylabel('Продажи')\n",
    "plt.show()"
   ]
  },
  {
   "cell_type": "markdown",
   "metadata": {},
   "source": [
    "Наиболее продаваемые игры с категорией М и без рейтинга. Меньше всего продают категорию Е10+."
   ]
  },
  {
   "cell_type": "markdown",
   "metadata": {},
   "source": [
    "**Европа.**"
   ]
  },
  {
   "cell_type": "code",
   "execution_count": 71,
   "metadata": {},
   "outputs": [
    {
     "data": {
      "image/png": "[encoded data removed]",
      "text/plain": [
       "<Figure size 720x360 with 1 Axes>"
      ]
     },
     "metadata": {
      "needs_background": "light"
     },
     "output_type": "display_data"
    }
   ],
   "source": [
    "(\n",
    "    data_act\n",
    "    .pivot_table(index='platform', values='eu_sales', aggfunc='sum')\n",
    "    .plot(kind='bar', figsize = (10, 5), grid=True)\n",
    ")\n",
    "plt.title('Распределение продаж по платформам в Европе')\n",
    "plt.xlabel('Платформа') \n",
    "plt.ylabel('Продажи')\n",
    "plt.show()"
   ]
  },
  {
   "cell_type": "markdown",
   "metadata": {},
   "source": [
    "Топ-5 платформ в Европе: PS4, XOne, PS3, PC, 3DS. Почти все совпадают с Северной Америкой - PS4, XOne, PS3, 3DS."
   ]
  },
  {
   "cell_type": "code",
   "execution_count": 72,
   "metadata": {},
   "outputs": [
    {
     "data": {
      "image/png": "[encoded data removed]",
      "text/plain": [
       "<Figure size 720x360 with 1 Axes>"
      ]
     },
     "metadata": {
      "needs_background": "light"
     },
     "output_type": "display_data"
    }
   ],
   "source": [
    "(\n",
    "    data_act\n",
    "    .pivot_table(index='genre', values='eu_sales', aggfunc='sum')\n",
    "    .plot(kind='bar', figsize = (10, 5), grid=True)\n",
    ")\n",
    "plt.title('Распределение продаж по жанрам в Европе')\n",
    "plt.xlabel('Жанр') \n",
    "plt.ylabel('Продажи')\n",
    "plt.show()"
   ]
  },
  {
   "cell_type": "markdown",
   "metadata": {},
   "source": [
    "Топ-5 жанров в Европе: Action, Shooter, Sports, Role-Playing, Racing. Почти все жанры совпадают с Северной Америкой."
   ]
  },
  {
   "cell_type": "code",
   "execution_count": 73,
   "metadata": {},
   "outputs": [
    {
     "data": {
      "image/png": "[encoded data removed]",
      "text/plain": [
       "<Figure size 720x360 with 1 Axes>"
      ]
     },
     "metadata": {
      "needs_background": "light"
     },
     "output_type": "display_data"
    }
   ],
   "source": [
    "(\n",
    "    data_act\n",
    "    .pivot_table(index='rating', values='eu_sales', aggfunc='sum')\n",
    "    .plot(kind='bar', figsize = (10, 5), grid=True)\n",
    ")\n",
    "plt.title('Распределение продаж по рейтингу ESRB в Европе')\n",
    "plt.xlabel('Рейтинг ESRB') \n",
    "plt.ylabel('Продажи')\n",
    "plt.show()"
   ]
  },
  {
   "cell_type": "markdown",
   "metadata": {},
   "source": [
    "Здесь также - наиболее продаваемы игры с категорией М и без рейтинга. Менее продаваемые Е10+."
   ]
  },
  {
   "cell_type": "markdown",
   "metadata": {},
   "source": [
    "**Япония.**"
   ]
  },
  {
   "cell_type": "code",
   "execution_count": 74,
   "metadata": {},
   "outputs": [
    {
     "data": {
      "image/png": "[encoded data removed]",
      "text/plain": [
       "<Figure size 720x360 with 1 Axes>"
      ]
     },
     "metadata": {
      "needs_background": "light"
     },
     "output_type": "display_data"
    }
   ],
   "source": [
    "(\n",
    "    data_act\n",
    "    .pivot_table(index='platform', values='jp_sales', aggfunc='sum')\n",
    "    .plot(kind='bar', figsize = (10, 5), grid=True)\n",
    ")\n",
    "plt.title('Распределение продаж по платформам в Японии')\n",
    "plt.xlabel('Платформа') \n",
    "plt.ylabel('Продажи')\n",
    "plt.show()"
   ]
  },
  {
   "cell_type": "markdown",
   "metadata": {},
   "source": [
    "Топ-5 платформ в Японии: 3DS, PS4, PSV, PS3, WiiU. Здесь остаются всё те же платформы как в Америке и Европе 3DS, PS4, PS3. Но и добавились новые PSV и WiiU."
   ]
  },
  {
   "cell_type": "code",
   "execution_count": 75,
   "metadata": {},
   "outputs": [
    {
     "data": {
      "image/png": "[encoded data removed]",
      "text/plain": [
       "<Figure size 720x360 with 1 Axes>"
      ]
     },
     "metadata": {
      "needs_background": "light"
     },
     "output_type": "display_data"
    }
   ],
   "source": [
    "(\n",
    "    data_act\n",
    "    .pivot_table(index='genre', values='jp_sales', aggfunc='sum')\n",
    "    .plot(kind='bar', figsize = (10, 5), grid=True)\n",
    ")\n",
    "plt.title('Распределение продаж по жанрам в Японии')\n",
    "plt.xlabel('Жанр') \n",
    "plt.ylabel('Продажи')\n",
    "plt.show()"
   ]
  },
  {
   "cell_type": "markdown",
   "metadata": {},
   "source": [
    "Топ-5 жанров в Японии: Role-Playing, Action, Fighting, Misc, Shooter. Наиболее популярные жанры Role-Playing и Action - они выделяются на общем фоне. И здесь появляется жанр, которого нет в других регионах -  Fighting."
   ]
  },
  {
   "cell_type": "code",
   "execution_count": 76,
   "metadata": {},
   "outputs": [
    {
     "data": {
      "image/png": "[encoded data removed]",
      "text/plain": [
       "<Figure size 720x360 with 1 Axes>"
      ]
     },
     "metadata": {
      "needs_background": "light"
     },
     "output_type": "display_data"
    }
   ],
   "source": [
    "(\n",
    "    data_act\n",
    "    .pivot_table(index='rating', values='jp_sales', aggfunc='sum')\n",
    "    .plot(kind='bar', figsize = (10, 5), grid=True)\n",
    ")\n",
    "plt.title('Распределение продаж по рейтингу ESRB в Японии')\n",
    "plt.xlabel('Рейтинг ESRB') \n",
    "plt.ylabel('Продажи')\n",
    "plt.show()"
   ]
  },
  {
   "cell_type": "markdown",
   "metadata": {},
   "source": [
    "По рейтингу ESRB немного другая картина. Самые продаваемые игры без рейтинга. Второй по продаваемости рейтинг Т. Менее продаваемым так и остается рейтинг Е10+."
   ]
  },
  {
   "cell_type": "markdown",
   "metadata": {},
   "source": [
    "**Общий вывод:** Портреты пользователей Северной Америки и Европы в общем похожи. Они предпочитают платформы PS4, XOne, PS3, 3DS. Наиболее продаваемые жанры - Shooter, Action, Sports, Role_Playing. Наиболее продаваемые игры в этих регионах с рейтингом М (для взрослых) и без рейтинга. Меньше всего продают рейтинг Е10+ (от 10 лет).\n",
    "\n",
    "Портрет пользователя Японии немного отличается. Он выбирает всё те же платформы 3DS, PS4, PS3. Но и добавились новые PSV и WiiU. Наиболее популярные жанры Role-Playing и Action - они явно выделяются на общем фоне. И здесь появляется жанр, которого нет в других регионах -  Fighting. Самые продаваемые игры без рейтинга. Менее продаваемым так и остается рейтинг Е10+.\n",
    "\n",
    "То, что в Японии лидерами продаж являются игры без рейтинга ESRB, скорее всего объясняется тем, что внутри страны есть собственный рейтинг игр. В Европе тоже есть свой, но он используется в половине государств, поэтому продажи по рейтингу в Европе похожи на продажи в Америке."
   ]
  },
  {
   "cell_type": "markdown",
   "metadata": {},
   "source": [
    "## Проверка гипотез <a id='hypothesis'></a>"
   ]
  },
  {
   "cell_type": "markdown",
   "metadata": {},
   "source": [
    "Нулевая гипотеза: Средние пользовательские рейтинги платформ Xbox One и PC равны. (средние двух ген.совокупностей равны между собой)\n",
    "\n",
    "Альтернативная гипотеза: Средние пользовательские рейтинги платформы Xbox One и PC разные. (это утверждение,которое принимается верным, если отбрасывается нулевая гипотеза. в данном случае альт.гипотеза двусторонняя)"
   ]
  },
  {
   "cell_type": "code",
   "execution_count": 77,
   "metadata": {},
   "outputs": [],
   "source": [
    "data_filt = data_act.dropna(subset=['user_score'])"
   ]
  },
  {
   "cell_type": "code",
   "execution_count": 78,
   "metadata": {},
   "outputs": [
    {
     "name": "stdout",
     "output_type": "stream",
     "text": [
      "p-значение: 0.10450507919348415\n",
      "Не получилось отвергнуть нулевую гипотезу\n"
     ]
    }
   ],
   "source": [
    "user_score_XOne = list(data_filt[data_filt['platform'] == 'XOne']['user_score'])\n",
    "user_score_PC = list(data_filt[data_filt['platform'] == 'PC']['user_score'])\n",
    "\n",
    "alpha = 0.05\n",
    "\n",
    "results = st.ttest_ind(user_score_XOne, user_score_PC)\n",
    "\n",
    "print('p-значение:', results.pvalue)\n",
    "\n",
    "if results.pvalue < alpha:\n",
    "    print('Отвергаем нулевую гипотезу')\n",
    "else:\n",
    "    print('Не получилось отвергнуть нулевую гипотезу')"
   ]
  },
  {
   "cell_type": "markdown",
   "metadata": {},
   "source": [
    "**Вывод:** Значение p-value очень близко к нулю. p-value показывает: вероятности случайно получить такое или большее различие почти нет. Поэтому отвергаем нулевую гипотезу, приниаем альтернативную - средние пользовательские рейтинги платформы Xbox One и PC разные."
   ]
  },
  {
   "cell_type": "markdown",
   "metadata": {},
   "source": [
    "Нулевая гипотеза: Средние пользовательские рейтинги жанров Action и Sports равны. (средние двух ген.совокупностей равны между собой)\n",
    "\n",
    "Альтернативная гипотеза: Средние пользовательские рейтинги жанров Action и Sports разные. (это утверждение,которое принимается верным, если отбрасывается нулевая гипотеза. в данном случае альт.гипотеза двусторонняя)"
   ]
  },
  {
   "cell_type": "code",
   "execution_count": 79,
   "metadata": {},
   "outputs": [
    {
     "name": "stdout",
     "output_type": "stream",
     "text": [
      "p-значение: 2.8711147985105864e-19\n",
      "Отвергаем нулевую гипотезу\n"
     ]
    }
   ],
   "source": [
    "user_score_Action = list(data_filt[data_filt['genre'] == 'Action']['user_score'])\n",
    "user_score_Sports = list(data_filt[data_filt['genre'] == 'Sports']['user_score'])\n",
    "\n",
    "alpha = 0.05\n",
    "\n",
    "results = st.ttest_ind(user_score_Action, user_score_Sports)\n",
    "\n",
    "print('p-значение:', results.pvalue)\n",
    "\n",
    "if results.pvalue < alpha:\n",
    "    print('Отвергаем нулевую гипотезу')\n",
    "else:\n",
    "    print('Не получилось отвергнуть нулевую гипотезу')"
   ]
  },
  {
   "cell_type": "markdown",
   "metadata": {},
   "source": [
    "**Вывод:** Значение p-value немного больше порогового значения alpha. p-value показывает: вероятность случайно получить такое или большее различие равно почти 7%, хотя средние пользовательские оценки жанров и не одинаковы. Это большая вероятность, чтобы делать вывод о значимом различии между средними оценками. Поэтому и не получилось отвергнуть нулевую гипотезу."
   ]
  },
  {
   "cell_type": "markdown",
   "metadata": {},
   "source": [
    "## Общий вывод <a id='conclusion'></a>"
   ]
  },
  {
   "cell_type": "markdown",
   "metadata": {},
   "source": [
    "В начале нашего анализа мы выделили актуальный период – 2014-2016 года. В этом периоде мы обозначили три потенциально прибыльные платформы, за этот период у них наибольшее количество продаж:\n",
    " - PS4 – суммарные продажи около 290 млн за три года, за 2016 год общий объем продаж был около 70 млн\n",
    "- XOne – общие продажи за три года примерно 140 млн, за 2016 год объем продаж чуть более 27 млн\n",
    "- 3DS – за три года примерно 80 млн продаж, за 2016 год объем продаж был примерно 15 млн\n",
    "\n",
    "Далее мы провели оценку медианной продажи на каждой из платформ. Наибольшие значения на платформах PS4 и XOne – 180 тыс  и 200 тыс соответственно. Также на этом этапе было решено добавить к перспективным платформу WiiU, хотя общие продажи за три года были около 40 млн, но медианная стоимость продажи составила около 200 тыс.\n",
    "\n",
    "Далее мы проверили **взаимосвязь общих продаж с оценками критиков и пользователей** и выяснили, что в основном связь, если и есть, то очень слабая. Коэффициент корреляции в районе 0,4. Поэтому не рекомендуем опираться на оценки при выборе успешной игры.\n",
    "\n",
    "Далее мы выбрали наиболее **прибыльные жанры**:\n",
    "- Shooter – 130 игр за три года, медианная продажа более 500 тыс.\n",
    "- Sports – 170 игр за три года, медианная продажа около 180 тыс\n",
    "- Platform – 40 игр за три года, медианная продажа 130 тыс\n",
    "- Fighting – 60 игр за три года, медианная продажа 120 тыс\n",
    "\n",
    "Следующим этапом мы составили портреты пользователей для разных регионов.\n",
    "\n",
    "**Портреты пользователей Северной Америки и Европы** в общем похожи. Они предпочитают платформы:\n",
    "- PS4 (100 млн для Америки, 130 млн для Европы),\n",
    "- XOne(27 млн для Америки, 47млн для Европы), \n",
    "- PS3(22 млн для Америки, 24 млн для Европы), \n",
    "- 3DS(22 млн для Америки, 18 млн для Европы). \n",
    "\n",
    "Наиболее продаваемые жанры – Shooter (Америка - 80 млн, Европа – 65 млн) , Action (Америка - 72 млн, Европа – 75 млн), Sports (Америка – 47 млн, Европа – 46 млн), Role_Playing(Америка – 33 млн, Европа – 28 млн).\n",
    "\n",
    "Наиболее продаваемые игры в этих регионах с рейтингом   ESRB «М» - для взрослых (Америка – 97 млн, Европа – 90 млн) и без рейтинга (Америка – 63 млн, Европа – 60 млн). Меньше всего продают рейтинг Е10+ (от 10 лет).\n",
    "\n",
    "**Портрет пользователя Японии** немного отличается. Он выбирает всё те же платформы 3DS (44 млн), PS4 (15 млн), PS3 (11 млн). Но и добавились новые PSV(14 млн) и WiiU(7 млн). Наиболее популярные жанры Role-Playing (32 млн) и Action (29 млн) - они явно выделяются на общем фоне. И здесь появляется жанр, которого нет в других регионах – Fighting (6 млн). Самые продаваемые игры без рейтинга  ESRB (57 млн). Менее продаваемым так и остается рейтинг Е10+.\n",
    "\n",
    "И последним этапом мы **проверили две гипотезы**: \n",
    "- Средние пользовательские рейтинги платформ Xbox One и PC одинаковые – мы ее отвергли, так как  значение p-value было очень близко к нулю. \n",
    "- Средние пользовательские рейтинги жанров Action и Sports равны – мы не смогли её отвергнуть, так как значение p-value оказалось немного больше порогового значения alpha в 0.05.\n",
    "\n",
    "Обобщая всю полученную информацию, можно дать следующие рекомендации:\n",
    "\n",
    "Для успешных продаж в Северной Америке и Европе рекомендуется продавать на платформах PS4, XOne, 3DS жанры Shooter, Sports с рейтингом ESRB «М» или без него.\n",
    "\n",
    "Для успешных продаж в Японии рекомендуем размещать на платформах 3DS, PS4, WiiU жанры Shooter и Fighting без рейтинга ESRB."
   ]
  }
 ],
 "metadata": {
  "ExecuteTimeLog": [
   {
    "duration": 53,
    "start_time": "2023-02-20T07:56:40.378Z"
   },
   {
    "duration": 794,
    "start_time": "2023-02-20T07:56:43.613Z"
   },
   {
    "duration": 98,
    "start_time": "2023-02-20T07:56:45.651Z"
   },
   {
    "duration": 7,
    "start_time": "2023-02-20T08:00:05.353Z"
   },
   {
    "duration": 37,
    "start_time": "2023-02-20T08:13:13.720Z"
   },
   {
    "duration": 6,
    "start_time": "2023-02-20T08:13:33.145Z"
   },
   {
    "duration": 21,
    "start_time": "2023-02-20T08:14:47.949Z"
   },
   {
    "duration": 15,
    "start_time": "2023-02-20T08:26:41.661Z"
   },
   {
    "duration": 17,
    "start_time": "2023-02-20T08:29:49.826Z"
   },
   {
    "duration": 8,
    "start_time": "2023-02-20T08:31:58.058Z"
   },
   {
    "duration": 54,
    "start_time": "2023-02-20T08:33:01.775Z"
   },
   {
    "duration": 11,
    "start_time": "2023-02-20T08:34:33.303Z"
   },
   {
    "duration": 28,
    "start_time": "2023-02-20T08:36:56.816Z"
   },
   {
    "duration": 8,
    "start_time": "2023-02-20T08:48:18.258Z"
   },
   {
    "duration": 7,
    "start_time": "2023-02-20T08:48:36.776Z"
   },
   {
    "duration": 19,
    "start_time": "2023-02-20T08:56:55.273Z"
   },
   {
    "duration": 18,
    "start_time": "2023-02-20T09:03:11.411Z"
   },
   {
    "duration": 43,
    "start_time": "2023-02-20T09:17:46.416Z"
   },
   {
    "duration": 21,
    "start_time": "2023-02-20T09:29:34.301Z"
   },
   {
    "duration": 5,
    "start_time": "2023-02-20T09:30:59.457Z"
   },
   {
    "duration": 7,
    "start_time": "2023-02-20T09:33:01.528Z"
   },
   {
    "duration": 8,
    "start_time": "2023-02-20T09:33:29.107Z"
   },
   {
    "duration": 18,
    "start_time": "2023-02-20T09:34:44.421Z"
   },
   {
    "duration": 7,
    "start_time": "2023-02-20T09:34:55.863Z"
   },
   {
    "duration": 8,
    "start_time": "2023-02-20T09:35:12.958Z"
   },
   {
    "duration": 7,
    "start_time": "2023-02-20T09:35:53.121Z"
   },
   {
    "duration": 11,
    "start_time": "2023-02-20T09:36:35.556Z"
   },
   {
    "duration": 18,
    "start_time": "2023-02-20T09:39:07.710Z"
   },
   {
    "duration": 12,
    "start_time": "2023-02-20T09:39:30.758Z"
   },
   {
    "duration": 15,
    "start_time": "2023-02-20T09:40:12.471Z"
   },
   {
    "duration": 197,
    "start_time": "2023-02-20T09:49:57.960Z"
   },
   {
    "duration": 170,
    "start_time": "2023-02-20T10:08:20.362Z"
   },
   {
    "duration": 598,
    "start_time": "2023-02-20T10:14:02.839Z"
   },
   {
    "duration": 254,
    "start_time": "2023-02-20T10:18:35.103Z"
   },
   {
    "duration": 16,
    "start_time": "2023-02-20T10:20:49.368Z"
   },
   {
    "duration": 67,
    "start_time": "2023-02-20T10:22:36.751Z"
   },
   {
    "duration": 157,
    "start_time": "2023-02-20T10:24:54.076Z"
   },
   {
    "duration": 259,
    "start_time": "2023-02-20T10:34:20.325Z"
   },
   {
    "duration": 335,
    "start_time": "2023-02-20T10:39:03.658Z"
   },
   {
    "duration": 304,
    "start_time": "2023-02-20T10:39:39.127Z"
   },
   {
    "duration": 9,
    "start_time": "2023-02-20T10:41:23.635Z"
   },
   {
    "duration": 12,
    "start_time": "2023-02-20T10:52:52.352Z"
   },
   {
    "duration": 6,
    "start_time": "2023-02-20T10:53:14.229Z"
   },
   {
    "duration": 1076,
    "start_time": "2023-02-20T10:53:48.230Z"
   },
   {
    "duration": 67,
    "start_time": "2023-02-20T10:53:49.308Z"
   },
   {
    "duration": 24,
    "start_time": "2023-02-20T10:53:49.376Z"
   },
   {
    "duration": 14,
    "start_time": "2023-02-20T10:53:49.402Z"
   },
   {
    "duration": 19,
    "start_time": "2023-02-20T10:53:57.329Z"
   },
   {
    "duration": 1063,
    "start_time": "2023-02-20T12:24:12.534Z"
   },
   {
    "duration": 58,
    "start_time": "2023-02-20T12:24:13.598Z"
   },
   {
    "duration": 25,
    "start_time": "2023-02-20T12:24:13.657Z"
   },
   {
    "duration": 7,
    "start_time": "2023-02-20T12:24:13.683Z"
   },
   {
    "duration": 9,
    "start_time": "2023-02-20T12:24:41.302Z"
   },
   {
    "duration": 145,
    "start_time": "2023-02-20T12:27:42.971Z"
   },
   {
    "duration": 21,
    "start_time": "2023-02-20T12:31:47.628Z"
   },
   {
    "duration": 14,
    "start_time": "2023-02-20T12:31:51.925Z"
   },
   {
    "duration": 11,
    "start_time": "2023-02-20T12:32:48.186Z"
   },
   {
    "duration": 12,
    "start_time": "2023-02-20T12:33:23.249Z"
   },
   {
    "duration": 20,
    "start_time": "2023-02-20T12:33:31.731Z"
   },
   {
    "duration": 19,
    "start_time": "2023-02-20T12:37:19.264Z"
   },
   {
    "duration": 20,
    "start_time": "2023-02-20T12:37:30.672Z"
   },
   {
    "duration": 19,
    "start_time": "2023-02-20T12:37:59.920Z"
   },
   {
    "duration": 6,
    "start_time": "2023-02-20T12:38:49.951Z"
   },
   {
    "duration": 10,
    "start_time": "2023-02-20T12:42:37.546Z"
   },
   {
    "duration": 12,
    "start_time": "2023-02-20T12:47:36.172Z"
   },
   {
    "duration": 1095,
    "start_time": "2023-02-20T12:48:40.004Z"
   },
   {
    "duration": 67,
    "start_time": "2023-02-20T12:48:41.101Z"
   },
   {
    "duration": 26,
    "start_time": "2023-02-20T12:48:41.170Z"
   },
   {
    "duration": 9,
    "start_time": "2023-02-20T12:48:41.198Z"
   },
   {
    "duration": 110,
    "start_time": "2023-02-20T12:48:44.209Z"
   },
   {
    "duration": 51,
    "start_time": "2023-02-20T12:49:17.757Z"
   },
   {
    "duration": 2,
    "start_time": "2023-02-20T12:52:41.808Z"
   },
   {
    "duration": 63,
    "start_time": "2023-02-20T12:52:41.812Z"
   },
   {
    "duration": 19,
    "start_time": "2023-02-20T12:52:41.876Z"
   },
   {
    "duration": 11,
    "start_time": "2023-02-20T12:52:41.897Z"
   },
   {
    "duration": 9,
    "start_time": "2023-02-20T12:52:47.126Z"
   },
   {
    "duration": 26,
    "start_time": "2023-02-20T12:53:09.628Z"
   },
   {
    "duration": 13,
    "start_time": "2023-02-20T12:53:16.880Z"
   },
   {
    "duration": 12,
    "start_time": "2023-02-20T12:53:35.158Z"
   },
   {
    "duration": 77,
    "start_time": "2023-02-20T12:59:34.170Z"
   },
   {
    "duration": 27,
    "start_time": "2023-02-20T13:00:22.087Z"
   },
   {
    "duration": 15,
    "start_time": "2023-02-20T13:00:35.967Z"
   },
   {
    "duration": 14,
    "start_time": "2023-02-20T13:01:06.542Z"
   },
   {
    "duration": 6,
    "start_time": "2023-02-20T13:01:11.256Z"
   },
   {
    "duration": 14,
    "start_time": "2023-02-20T13:01:14.251Z"
   },
   {
    "duration": 6,
    "start_time": "2023-02-20T13:01:30.854Z"
   },
   {
    "duration": 7,
    "start_time": "2023-02-20T13:01:35.767Z"
   },
   {
    "duration": 9,
    "start_time": "2023-02-20T13:01:58.971Z"
   },
   {
    "duration": 174,
    "start_time": "2023-02-20T13:02:09.682Z"
   },
   {
    "duration": 326,
    "start_time": "2023-02-20T13:02:26.384Z"
   },
   {
    "duration": 32,
    "start_time": "2023-02-20T13:11:09.497Z"
   },
   {
    "duration": 17,
    "start_time": "2023-02-20T13:12:30.085Z"
   },
   {
    "duration": 33,
    "start_time": "2023-02-20T13:12:40.404Z"
   },
   {
    "duration": 24,
    "start_time": "2023-02-20T13:15:30.308Z"
   },
   {
    "duration": 177,
    "start_time": "2023-02-20T13:17:21.594Z"
   },
   {
    "duration": 157,
    "start_time": "2023-02-20T13:18:20.565Z"
   },
   {
    "duration": 270,
    "start_time": "2023-02-20T13:20:22.183Z"
   },
   {
    "duration": 332,
    "start_time": "2023-02-20T13:20:31.267Z"
   },
   {
    "duration": 140,
    "start_time": "2023-02-20T13:27:23.158Z"
   },
   {
    "duration": 141,
    "start_time": "2023-02-20T13:27:58.314Z"
   },
   {
    "duration": 130,
    "start_time": "2023-02-20T13:28:20.513Z"
   },
   {
    "duration": 176,
    "start_time": "2023-02-20T13:28:56.580Z"
   },
   {
    "duration": 133,
    "start_time": "2023-02-20T13:29:04.554Z"
   },
   {
    "duration": 134,
    "start_time": "2023-02-20T13:29:23.311Z"
   },
   {
    "duration": 162,
    "start_time": "2023-02-20T13:29:36.316Z"
   },
   {
    "duration": 137,
    "start_time": "2023-02-20T13:30:16.240Z"
   },
   {
    "duration": 160,
    "start_time": "2023-02-20T13:30:37.303Z"
   },
   {
    "duration": 1383,
    "start_time": "2023-02-21T12:51:53.296Z"
   },
   {
    "duration": 207,
    "start_time": "2023-02-21T12:51:54.681Z"
   },
   {
    "duration": 26,
    "start_time": "2023-02-21T12:51:54.890Z"
   },
   {
    "duration": 7,
    "start_time": "2023-02-21T12:51:54.918Z"
   },
   {
    "duration": 21,
    "start_time": "2023-02-21T12:51:54.926Z"
   },
   {
    "duration": 34,
    "start_time": "2023-02-21T12:51:54.949Z"
   },
   {
    "duration": 16,
    "start_time": "2023-02-21T12:51:54.986Z"
   },
   {
    "duration": 12,
    "start_time": "2023-02-21T12:51:55.003Z"
   },
   {
    "duration": 31,
    "start_time": "2023-02-21T12:51:55.016Z"
   },
   {
    "duration": 100,
    "start_time": "2023-02-21T12:51:55.051Z"
   },
   {
    "duration": 19,
    "start_time": "2023-02-21T12:51:55.152Z"
   },
   {
    "duration": 22,
    "start_time": "2023-02-21T12:51:55.172Z"
   },
   {
    "duration": 17,
    "start_time": "2023-02-21T12:51:55.196Z"
   },
   {
    "duration": 29,
    "start_time": "2023-02-21T12:51:55.215Z"
   },
   {
    "duration": 25,
    "start_time": "2023-02-21T12:51:55.246Z"
   },
   {
    "duration": 16,
    "start_time": "2023-02-21T12:51:55.273Z"
   },
   {
    "duration": 22,
    "start_time": "2023-02-21T12:51:55.290Z"
   },
   {
    "duration": 207,
    "start_time": "2023-02-21T12:51:55.313Z"
   },
   {
    "duration": 311,
    "start_time": "2023-02-21T12:51:55.522Z"
   },
   {
    "duration": 163,
    "start_time": "2023-02-21T12:51:55.837Z"
   },
   {
    "duration": 159,
    "start_time": "2023-02-21T12:51:56.002Z"
   },
   {
    "duration": 158,
    "start_time": "2023-02-21T12:51:56.163Z"
   },
   {
    "duration": 178,
    "start_time": "2023-02-21T12:51:56.323Z"
   },
   {
    "duration": 164,
    "start_time": "2023-02-21T12:51:56.503Z"
   },
   {
    "duration": 266,
    "start_time": "2023-02-21T12:51:56.669Z"
   },
   {
    "duration": 25,
    "start_time": "2023-02-21T12:58:26.496Z"
   },
   {
    "duration": 219,
    "start_time": "2023-02-21T13:03:50.032Z"
   },
   {
    "duration": 4,
    "start_time": "2023-02-21T13:21:12.194Z"
   },
   {
    "duration": 74,
    "start_time": "2023-02-21T13:21:35.779Z"
   },
   {
    "duration": 90,
    "start_time": "2023-02-21T13:21:46.795Z"
   },
   {
    "duration": 103,
    "start_time": "2023-02-21T13:22:37.939Z"
   },
   {
    "duration": 94,
    "start_time": "2023-02-21T13:22:57.160Z"
   },
   {
    "duration": 148,
    "start_time": "2023-02-21T13:24:12.031Z"
   },
   {
    "duration": 8,
    "start_time": "2023-02-21T13:24:27.428Z"
   },
   {
    "duration": 5,
    "start_time": "2023-02-21T13:25:08.051Z"
   },
   {
    "duration": 46,
    "start_time": "2023-02-21T13:25:09.616Z"
   },
   {
    "duration": 5,
    "start_time": "2023-02-21T13:25:30.184Z"
   },
   {
    "duration": 30,
    "start_time": "2023-02-21T13:25:33.022Z"
   },
   {
    "duration": 5,
    "start_time": "2023-02-21T13:26:12.534Z"
   },
   {
    "duration": 23,
    "start_time": "2023-02-21T13:26:15.360Z"
   },
   {
    "duration": 41,
    "start_time": "2023-02-21T13:32:13.588Z"
   },
   {
    "duration": 147,
    "start_time": "2023-02-21T13:32:34.224Z"
   },
   {
    "duration": 170,
    "start_time": "2023-02-21T13:33:08.654Z"
   },
   {
    "duration": 163,
    "start_time": "2023-02-21T13:33:32.261Z"
   },
   {
    "duration": 179,
    "start_time": "2023-02-21T13:33:48.740Z"
   },
   {
    "duration": 157,
    "start_time": "2023-02-21T13:34:06.324Z"
   },
   {
    "duration": 198,
    "start_time": "2023-02-21T13:34:21.994Z"
   },
   {
    "duration": 151,
    "start_time": "2023-02-21T13:34:38.358Z"
   },
   {
    "duration": 204,
    "start_time": "2023-02-21T13:34:52.398Z"
   },
   {
    "duration": 176,
    "start_time": "2023-02-21T13:35:13.294Z"
   },
   {
    "duration": 245,
    "start_time": "2023-02-21T13:35:30.511Z"
   },
   {
    "duration": 142,
    "start_time": "2023-02-21T13:35:49.919Z"
   },
   {
    "duration": 180,
    "start_time": "2023-02-21T13:36:08.532Z"
   },
   {
    "duration": 149,
    "start_time": "2023-02-21T13:36:17.464Z"
   },
   {
    "duration": 169,
    "start_time": "2023-02-21T13:36:28.097Z"
   },
   {
    "duration": 120,
    "start_time": "2023-02-21T14:04:07.102Z"
   },
   {
    "duration": 110,
    "start_time": "2023-02-21T14:07:02.978Z"
   },
   {
    "duration": 69,
    "start_time": "2023-02-21T14:08:46.468Z"
   },
   {
    "duration": 317,
    "start_time": "2023-02-21T14:08:55.183Z"
   },
   {
    "duration": 366,
    "start_time": "2023-02-21T14:10:33.188Z"
   },
   {
    "duration": 413,
    "start_time": "2023-02-21T14:11:26.459Z"
   },
   {
    "duration": 357,
    "start_time": "2023-02-21T14:12:29.600Z"
   },
   {
    "duration": 380,
    "start_time": "2023-02-21T14:13:23.025Z"
   },
   {
    "duration": 184,
    "start_time": "2023-02-21T14:41:05.957Z"
   },
   {
    "duration": 33,
    "start_time": "2023-02-21T14:42:48.175Z"
   },
   {
    "duration": 25,
    "start_time": "2023-02-21T14:44:00.465Z"
   },
   {
    "duration": 1307,
    "start_time": "2023-02-22T06:12:44.602Z"
   },
   {
    "duration": 103,
    "start_time": "2023-02-22T06:12:45.912Z"
   },
   {
    "duration": 22,
    "start_time": "2023-02-22T06:12:46.017Z"
   },
   {
    "duration": 7,
    "start_time": "2023-02-22T06:12:46.042Z"
   },
   {
    "duration": 24,
    "start_time": "2023-02-22T06:12:46.050Z"
   },
   {
    "duration": 31,
    "start_time": "2023-02-22T06:12:46.076Z"
   },
   {
    "duration": 13,
    "start_time": "2023-02-22T06:12:46.108Z"
   },
   {
    "duration": 12,
    "start_time": "2023-02-22T06:12:46.122Z"
   },
   {
    "duration": 13,
    "start_time": "2023-02-22T06:12:46.135Z"
   },
   {
    "duration": 85,
    "start_time": "2023-02-22T06:12:46.150Z"
   },
   {
    "duration": 17,
    "start_time": "2023-02-22T06:12:46.237Z"
   },
   {
    "duration": 27,
    "start_time": "2023-02-22T06:12:46.256Z"
   },
   {
    "duration": 11,
    "start_time": "2023-02-22T06:12:46.285Z"
   },
   {
    "duration": 8,
    "start_time": "2023-02-22T06:12:46.298Z"
   },
   {
    "duration": 27,
    "start_time": "2023-02-22T06:12:46.308Z"
   },
   {
    "duration": 7,
    "start_time": "2023-02-22T06:12:46.337Z"
   },
   {
    "duration": 70,
    "start_time": "2023-02-22T06:12:46.345Z"
   },
   {
    "duration": 173,
    "start_time": "2023-02-22T06:12:46.416Z"
   },
   {
    "duration": 267,
    "start_time": "2023-02-22T06:12:46.590Z"
   },
   {
    "duration": 147,
    "start_time": "2023-02-22T06:12:46.858Z"
   },
   {
    "duration": 142,
    "start_time": "2023-02-22T06:12:47.006Z"
   },
   {
    "duration": 138,
    "start_time": "2023-02-22T06:12:47.150Z"
   },
   {
    "duration": 152,
    "start_time": "2023-02-22T06:12:47.289Z"
   },
   {
    "duration": 188,
    "start_time": "2023-02-22T06:12:47.443Z"
   },
   {
    "duration": 143,
    "start_time": "2023-02-22T06:12:47.632Z"
   },
   {
    "duration": 24,
    "start_time": "2023-02-22T06:12:47.776Z"
   },
   {
    "duration": 194,
    "start_time": "2023-02-22T06:12:47.801Z"
   },
   {
    "duration": 134,
    "start_time": "2023-02-22T06:12:47.998Z"
   },
   {
    "duration": 148,
    "start_time": "2023-02-22T06:12:48.134Z"
   },
   {
    "duration": 144,
    "start_time": "2023-02-22T06:12:48.285Z"
   },
   {
    "duration": 157,
    "start_time": "2023-02-22T06:12:48.430Z"
   },
   {
    "duration": 148,
    "start_time": "2023-02-22T06:12:48.589Z"
   },
   {
    "duration": 148,
    "start_time": "2023-02-22T06:12:48.739Z"
   },
   {
    "duration": 157,
    "start_time": "2023-02-22T06:12:48.889Z"
   },
   {
    "duration": 148,
    "start_time": "2023-02-22T06:12:49.048Z"
   },
   {
    "duration": 203,
    "start_time": "2023-02-22T06:12:49.198Z"
   },
   {
    "duration": 178,
    "start_time": "2023-02-22T06:12:49.403Z"
   },
   {
    "duration": 143,
    "start_time": "2023-02-22T06:12:49.586Z"
   },
   {
    "duration": 143,
    "start_time": "2023-02-22T06:12:49.731Z"
   },
   {
    "duration": 322,
    "start_time": "2023-02-22T06:12:49.876Z"
   },
   {
    "duration": 162,
    "start_time": "2023-02-22T06:19:23.236Z"
   },
   {
    "duration": 136,
    "start_time": "2023-02-22T06:21:14.486Z"
   },
   {
    "duration": 116,
    "start_time": "2023-02-22T06:21:31.003Z"
   },
   {
    "duration": 110,
    "start_time": "2023-02-22T06:21:40.809Z"
   },
   {
    "duration": 109,
    "start_time": "2023-02-22T06:21:58.227Z"
   },
   {
    "duration": 195,
    "start_time": "2023-02-22T06:24:56.877Z"
   },
   {
    "duration": 135,
    "start_time": "2023-02-22T06:25:35.973Z"
   },
   {
    "duration": 6,
    "start_time": "2023-02-22T06:27:49.126Z"
   },
   {
    "duration": 5,
    "start_time": "2023-02-22T06:28:29.483Z"
   },
   {
    "duration": 135,
    "start_time": "2023-02-22T06:30:37.762Z"
   },
   {
    "duration": 152,
    "start_time": "2023-02-22T06:31:11.745Z"
   },
   {
    "duration": 5,
    "start_time": "2023-02-22T06:31:33.257Z"
   },
   {
    "duration": 146,
    "start_time": "2023-02-22T06:33:03.173Z"
   },
   {
    "duration": 6,
    "start_time": "2023-02-22T06:33:22.028Z"
   },
   {
    "duration": 202,
    "start_time": "2023-02-22T06:35:36.203Z"
   },
   {
    "duration": 153,
    "start_time": "2023-02-22T06:36:01.032Z"
   },
   {
    "duration": 6,
    "start_time": "2023-02-22T06:36:27.034Z"
   },
   {
    "duration": 172,
    "start_time": "2023-02-22T06:36:53.228Z"
   },
   {
    "duration": 6,
    "start_time": "2023-02-22T06:37:28.287Z"
   },
   {
    "duration": 261,
    "start_time": "2023-02-22T06:40:13.618Z"
   },
   {
    "duration": 212,
    "start_time": "2023-02-22T06:47:01.185Z"
   },
   {
    "duration": 205,
    "start_time": "2023-02-22T06:48:56.924Z"
   },
   {
    "duration": 184,
    "start_time": "2023-02-22T06:49:40.452Z"
   },
   {
    "duration": 261,
    "start_time": "2023-02-22T06:52:08.829Z"
   },
   {
    "duration": 188,
    "start_time": "2023-02-22T06:52:21.719Z"
   },
   {
    "duration": 268,
    "start_time": "2023-02-22T07:29:09.467Z"
   },
   {
    "duration": 344,
    "start_time": "2023-02-22T07:30:38.979Z"
   },
   {
    "duration": 247,
    "start_time": "2023-02-22T07:30:50.524Z"
   },
   {
    "duration": 306,
    "start_time": "2023-02-22T07:30:55.470Z"
   },
   {
    "duration": 149,
    "start_time": "2023-02-22T07:33:56.591Z"
   },
   {
    "duration": 257,
    "start_time": "2023-02-22T07:34:16.402Z"
   },
   {
    "duration": 209,
    "start_time": "2023-02-22T07:44:38.476Z"
   },
   {
    "duration": 217,
    "start_time": "2023-02-22T07:45:01.633Z"
   },
   {
    "duration": 177,
    "start_time": "2023-02-22T07:45:26.084Z"
   },
   {
    "duration": 274,
    "start_time": "2023-02-22T07:53:34.128Z"
   },
   {
    "duration": 309,
    "start_time": "2023-02-22T07:53:53.838Z"
   },
   {
    "duration": 156,
    "start_time": "2023-02-22T07:54:13.962Z"
   },
   {
    "duration": 3,
    "start_time": "2023-02-22T08:33:34.844Z"
   },
   {
    "duration": 11,
    "start_time": "2023-02-22T08:45:18.741Z"
   },
   {
    "duration": 4,
    "start_time": "2023-02-22T08:45:30.328Z"
   },
   {
    "duration": 11,
    "start_time": "2023-02-22T08:50:23.063Z"
   },
   {
    "duration": 11,
    "start_time": "2023-02-22T08:57:18.384Z"
   },
   {
    "duration": 11,
    "start_time": "2023-02-22T09:16:42.649Z"
   },
   {
    "duration": 11,
    "start_time": "2023-02-22T09:17:03.282Z"
   },
   {
    "duration": 10,
    "start_time": "2023-02-22T09:17:31.460Z"
   },
   {
    "duration": 212,
    "start_time": "2023-02-22T09:45:07.369Z"
   },
   {
    "duration": 155,
    "start_time": "2023-02-22T09:46:21.766Z"
   },
   {
    "duration": 146,
    "start_time": "2023-02-22T09:46:38.729Z"
   },
   {
    "duration": 153,
    "start_time": "2023-02-22T09:46:55.959Z"
   },
   {
    "duration": 224,
    "start_time": "2023-02-22T09:47:12.951Z"
   },
   {
    "duration": 156,
    "start_time": "2023-02-22T09:47:30.528Z"
   },
   {
    "duration": 150,
    "start_time": "2023-02-22T09:47:58.692Z"
   },
   {
    "duration": 160,
    "start_time": "2023-02-22T09:48:24.422Z"
   },
   {
    "duration": 166,
    "start_time": "2023-02-22T09:48:49.887Z"
   },
   {
    "duration": 205,
    "start_time": "2023-02-22T09:49:02.414Z"
   },
   {
    "duration": 164,
    "start_time": "2023-02-22T09:49:15.998Z"
   },
   {
    "duration": 140,
    "start_time": "2023-02-22T09:49:32.337Z"
   },
   {
    "duration": 142,
    "start_time": "2023-02-22T09:49:47.946Z"
   },
   {
    "duration": 1114,
    "start_time": "2023-02-22T09:58:09.561Z"
   },
   {
    "duration": 106,
    "start_time": "2023-02-22T09:58:10.677Z"
   },
   {
    "duration": 24,
    "start_time": "2023-02-22T09:58:10.785Z"
   },
   {
    "duration": 8,
    "start_time": "2023-02-22T09:58:10.811Z"
   },
   {
    "duration": 23,
    "start_time": "2023-02-22T09:58:10.820Z"
   },
   {
    "duration": 19,
    "start_time": "2023-02-22T09:58:10.845Z"
   },
   {
    "duration": 28,
    "start_time": "2023-02-22T09:58:10.866Z"
   },
   {
    "duration": 13,
    "start_time": "2023-02-22T09:58:10.896Z"
   },
   {
    "duration": 16,
    "start_time": "2023-02-22T09:58:10.910Z"
   },
   {
    "duration": 93,
    "start_time": "2023-02-22T09:58:10.930Z"
   },
   {
    "duration": 17,
    "start_time": "2023-02-22T09:58:11.025Z"
   },
   {
    "duration": 19,
    "start_time": "2023-02-22T09:58:11.044Z"
   },
   {
    "duration": 25,
    "start_time": "2023-02-22T09:58:11.065Z"
   },
   {
    "duration": 5,
    "start_time": "2023-02-22T09:58:11.092Z"
   },
   {
    "duration": 19,
    "start_time": "2023-02-22T09:58:11.098Z"
   },
   {
    "duration": 6,
    "start_time": "2023-02-22T09:58:11.118Z"
   },
   {
    "duration": 11,
    "start_time": "2023-02-22T09:58:11.126Z"
   },
   {
    "duration": 218,
    "start_time": "2023-02-22T09:58:11.139Z"
   },
   {
    "duration": 335,
    "start_time": "2023-02-22T09:58:11.358Z"
   },
   {
    "duration": 171,
    "start_time": "2023-02-22T09:58:11.695Z"
   },
   {
    "duration": 151,
    "start_time": "2023-02-22T09:58:11.868Z"
   },
   {
    "duration": 142,
    "start_time": "2023-02-22T09:58:12.021Z"
   },
   {
    "duration": 175,
    "start_time": "2023-02-22T09:58:12.164Z"
   },
   {
    "duration": 144,
    "start_time": "2023-02-22T09:58:12.341Z"
   },
   {
    "duration": 153,
    "start_time": "2023-02-22T09:58:12.487Z"
   },
   {
    "duration": 20,
    "start_time": "2023-02-22T09:58:12.641Z"
   },
   {
    "duration": 300,
    "start_time": "2023-02-22T09:58:12.663Z"
   },
   {
    "duration": 165,
    "start_time": "2023-02-22T09:58:12.968Z"
   },
   {
    "duration": 176,
    "start_time": "2023-02-22T09:58:13.135Z"
   },
   {
    "duration": 157,
    "start_time": "2023-02-22T09:58:13.313Z"
   },
   {
    "duration": 176,
    "start_time": "2023-02-22T09:58:13.472Z"
   },
   {
    "duration": 159,
    "start_time": "2023-02-22T09:58:13.649Z"
   },
   {
    "duration": 158,
    "start_time": "2023-02-22T09:58:13.809Z"
   },
   {
    "duration": 162,
    "start_time": "2023-02-22T09:58:13.969Z"
   },
   {
    "duration": 157,
    "start_time": "2023-02-22T09:58:14.132Z"
   },
   {
    "duration": 157,
    "start_time": "2023-02-22T09:58:14.290Z"
   },
   {
    "duration": 192,
    "start_time": "2023-02-22T09:58:14.449Z"
   },
   {
    "duration": 236,
    "start_time": "2023-02-22T09:58:14.643Z"
   },
   {
    "duration": 163,
    "start_time": "2023-02-22T09:58:14.885Z"
   },
   {
    "duration": 336,
    "start_time": "2023-02-22T09:58:15.050Z"
   },
   {
    "duration": 171,
    "start_time": "2023-02-22T09:58:15.387Z"
   },
   {
    "duration": 8,
    "start_time": "2023-02-22T09:58:15.560Z"
   },
   {
    "duration": 179,
    "start_time": "2023-02-22T09:58:15.569Z"
   },
   {
    "duration": 6,
    "start_time": "2023-02-22T09:58:15.749Z"
   },
   {
    "duration": 153,
    "start_time": "2023-02-22T09:58:15.757Z"
   },
   {
    "duration": 6,
    "start_time": "2023-02-22T09:58:15.911Z"
   },
   {
    "duration": 147,
    "start_time": "2023-02-22T09:58:15.918Z"
   },
   {
    "duration": 5,
    "start_time": "2023-02-22T09:58:16.068Z"
   },
   {
    "duration": 145,
    "start_time": "2023-02-22T09:58:16.075Z"
   },
   {
    "duration": 5,
    "start_time": "2023-02-22T09:58:16.221Z"
   },
   {
    "duration": 145,
    "start_time": "2023-02-22T09:58:16.228Z"
   },
   {
    "duration": 15,
    "start_time": "2023-02-22T09:58:16.374Z"
   },
   {
    "duration": 215,
    "start_time": "2023-02-22T09:58:16.391Z"
   },
   {
    "duration": 280,
    "start_time": "2023-02-22T09:58:16.608Z"
   },
   {
    "duration": 222,
    "start_time": "2023-02-22T09:58:16.889Z"
   },
   {
    "duration": 206,
    "start_time": "2023-02-22T09:58:17.112Z"
   },
   {
    "duration": 164,
    "start_time": "2023-02-22T09:58:17.320Z"
   },
   {
    "duration": 221,
    "start_time": "2023-02-22T09:58:17.486Z"
   },
   {
    "duration": 200,
    "start_time": "2023-02-22T09:58:17.709Z"
   },
   {
    "duration": 169,
    "start_time": "2023-02-22T09:58:17.910Z"
   },
   {
    "duration": 216,
    "start_time": "2023-02-22T09:58:18.085Z"
   },
   {
    "duration": 200,
    "start_time": "2023-02-22T09:58:18.302Z"
   },
   {
    "duration": 156,
    "start_time": "2023-02-22T09:58:18.504Z"
   },
   {
    "duration": 9,
    "start_time": "2023-02-22T09:58:18.661Z"
   },
   {
    "duration": 61,
    "start_time": "2023-02-22T09:58:18.685Z"
   },
   {
    "duration": 1245,
    "start_time": "2023-02-23T04:21:44.606Z"
   },
   {
    "duration": 232,
    "start_time": "2023-02-23T04:21:45.853Z"
   },
   {
    "duration": 22,
    "start_time": "2023-02-23T04:21:46.089Z"
   },
   {
    "duration": 6,
    "start_time": "2023-02-23T04:21:46.113Z"
   },
   {
    "duration": 20,
    "start_time": "2023-02-23T04:21:46.120Z"
   },
   {
    "duration": 19,
    "start_time": "2023-02-23T04:21:46.142Z"
   },
   {
    "duration": 34,
    "start_time": "2023-02-23T04:21:46.162Z"
   },
   {
    "duration": 10,
    "start_time": "2023-02-23T04:21:46.197Z"
   },
   {
    "duration": 11,
    "start_time": "2023-02-23T04:21:46.209Z"
   },
   {
    "duration": 103,
    "start_time": "2023-02-23T04:21:46.222Z"
   },
   {
    "duration": 19,
    "start_time": "2023-02-23T04:21:46.327Z"
   },
   {
    "duration": 25,
    "start_time": "2023-02-23T04:21:46.347Z"
   },
   {
    "duration": 17,
    "start_time": "2023-02-23T04:21:46.375Z"
   },
   {
    "duration": 9,
    "start_time": "2023-02-23T04:21:46.394Z"
   },
   {
    "duration": 19,
    "start_time": "2023-02-23T04:21:46.404Z"
   },
   {
    "duration": 13,
    "start_time": "2023-02-23T04:21:46.425Z"
   },
   {
    "duration": 13,
    "start_time": "2023-02-23T04:21:46.440Z"
   },
   {
    "duration": 212,
    "start_time": "2023-02-23T04:21:46.454Z"
   },
   {
    "duration": 286,
    "start_time": "2023-02-23T04:21:46.668Z"
   },
   {
    "duration": 156,
    "start_time": "2023-02-23T04:21:46.956Z"
   },
   {
    "duration": 158,
    "start_time": "2023-02-23T04:21:47.114Z"
   },
   {
    "duration": 143,
    "start_time": "2023-02-23T04:21:47.274Z"
   },
   {
    "duration": 169,
    "start_time": "2023-02-23T04:21:47.419Z"
   },
   {
    "duration": 148,
    "start_time": "2023-02-23T04:21:47.589Z"
   },
   {
    "duration": 159,
    "start_time": "2023-02-23T04:21:47.739Z"
   },
   {
    "duration": 18,
    "start_time": "2023-02-23T04:21:47.900Z"
   },
   {
    "duration": 286,
    "start_time": "2023-02-23T04:21:47.920Z"
   },
   {
    "duration": 157,
    "start_time": "2023-02-23T04:21:48.207Z"
   },
   {
    "duration": 157,
    "start_time": "2023-02-23T04:21:48.366Z"
   },
   {
    "duration": 162,
    "start_time": "2023-02-23T04:21:48.525Z"
   },
   {
    "duration": 175,
    "start_time": "2023-02-23T04:21:48.692Z"
   },
   {
    "duration": 163,
    "start_time": "2023-02-23T04:21:48.869Z"
   },
   {
    "duration": 158,
    "start_time": "2023-02-23T04:21:49.034Z"
   },
   {
    "duration": 159,
    "start_time": "2023-02-23T04:21:49.193Z"
   },
   {
    "duration": 153,
    "start_time": "2023-02-23T04:21:49.354Z"
   },
   {
    "duration": 153,
    "start_time": "2023-02-23T04:21:49.509Z"
   },
   {
    "duration": 178,
    "start_time": "2023-02-23T04:21:49.663Z"
   },
   {
    "duration": 236,
    "start_time": "2023-02-23T04:21:49.843Z"
   },
   {
    "duration": 150,
    "start_time": "2023-02-23T04:21:50.080Z"
   },
   {
    "duration": 329,
    "start_time": "2023-02-23T04:21:50.235Z"
   },
   {
    "duration": 140,
    "start_time": "2023-02-23T04:21:50.565Z"
   },
   {
    "duration": 5,
    "start_time": "2023-02-23T04:21:50.706Z"
   },
   {
    "duration": 137,
    "start_time": "2023-02-23T04:21:50.713Z"
   },
   {
    "duration": 6,
    "start_time": "2023-02-23T04:21:50.851Z"
   },
   {
    "duration": 152,
    "start_time": "2023-02-23T04:21:50.858Z"
   },
   {
    "duration": 5,
    "start_time": "2023-02-23T04:21:51.011Z"
   },
   {
    "duration": 150,
    "start_time": "2023-02-23T04:21:51.018Z"
   },
   {
    "duration": 5,
    "start_time": "2023-02-23T04:21:51.170Z"
   },
   {
    "duration": 153,
    "start_time": "2023-02-23T04:21:51.176Z"
   },
   {
    "duration": 5,
    "start_time": "2023-02-23T04:21:51.330Z"
   },
   {
    "duration": 133,
    "start_time": "2023-02-23T04:21:51.337Z"
   },
   {
    "duration": 5,
    "start_time": "2023-02-23T04:21:51.472Z"
   },
   {
    "duration": 215,
    "start_time": "2023-02-23T04:21:51.479Z"
   },
   {
    "duration": 272,
    "start_time": "2023-02-23T04:21:51.696Z"
   },
   {
    "duration": 213,
    "start_time": "2023-02-23T04:21:51.970Z"
   },
   {
    "duration": 194,
    "start_time": "2023-02-23T04:21:52.184Z"
   },
   {
    "duration": 156,
    "start_time": "2023-02-23T04:21:52.379Z"
   },
   {
    "duration": 223,
    "start_time": "2023-02-23T04:21:52.536Z"
   },
   {
    "duration": 208,
    "start_time": "2023-02-23T04:21:52.761Z"
   },
   {
    "duration": 179,
    "start_time": "2023-02-23T04:21:52.971Z"
   },
   {
    "duration": 223,
    "start_time": "2023-02-23T04:21:53.152Z"
   },
   {
    "duration": 207,
    "start_time": "2023-02-23T04:21:53.377Z"
   },
   {
    "duration": 152,
    "start_time": "2023-02-23T04:21:53.586Z"
   },
   {
    "duration": 8,
    "start_time": "2023-02-23T04:21:53.739Z"
   },
   {
    "duration": 13,
    "start_time": "2023-02-23T04:21:53.749Z"
   },
   {
    "duration": 1204,
    "start_time": "2023-02-23T07:32:08.686Z"
   },
   {
    "duration": 63,
    "start_time": "2023-02-23T07:32:09.892Z"
   },
   {
    "duration": 22,
    "start_time": "2023-02-23T07:32:09.959Z"
   },
   {
    "duration": 6,
    "start_time": "2023-02-23T07:32:09.983Z"
   },
   {
    "duration": 16,
    "start_time": "2023-02-23T07:32:09.991Z"
   },
   {
    "duration": 47,
    "start_time": "2023-02-23T07:32:10.009Z"
   },
   {
    "duration": 14,
    "start_time": "2023-02-23T07:32:10.058Z"
   },
   {
    "duration": 28,
    "start_time": "2023-02-23T07:32:10.074Z"
   },
   {
    "duration": 11,
    "start_time": "2023-02-23T07:32:10.104Z"
   },
   {
    "duration": 101,
    "start_time": "2023-02-23T07:32:10.117Z"
   },
   {
    "duration": 19,
    "start_time": "2023-02-23T07:32:10.220Z"
   },
   {
    "duration": 15,
    "start_time": "2023-02-23T07:32:10.253Z"
   },
   {
    "duration": 13,
    "start_time": "2023-02-23T07:32:10.270Z"
   },
   {
    "duration": 5,
    "start_time": "2023-02-23T07:32:10.286Z"
   },
   {
    "duration": 14,
    "start_time": "2023-02-23T07:32:10.293Z"
   },
   {
    "duration": 15,
    "start_time": "2023-02-23T07:32:10.309Z"
   },
   {
    "duration": 36,
    "start_time": "2023-02-23T07:32:10.325Z"
   },
   {
    "duration": 194,
    "start_time": "2023-02-23T07:32:10.363Z"
   },
   {
    "duration": 318,
    "start_time": "2023-02-23T07:32:10.559Z"
   },
   {
    "duration": 166,
    "start_time": "2023-02-23T07:32:10.879Z"
   },
   {
    "duration": 173,
    "start_time": "2023-02-23T07:32:11.047Z"
   },
   {
    "duration": 146,
    "start_time": "2023-02-23T07:32:11.222Z"
   },
   {
    "duration": 182,
    "start_time": "2023-02-23T07:32:11.371Z"
   },
   {
    "duration": 153,
    "start_time": "2023-02-23T07:32:11.555Z"
   },
   {
    "duration": 167,
    "start_time": "2023-02-23T07:32:11.710Z"
   },
   {
    "duration": 19,
    "start_time": "2023-02-23T07:32:11.879Z"
   },
   {
    "duration": 295,
    "start_time": "2023-02-23T07:32:11.899Z"
   },
   {
    "duration": 187,
    "start_time": "2023-02-23T07:32:12.195Z"
   },
   {
    "duration": 164,
    "start_time": "2023-02-23T07:32:12.384Z"
   },
   {
    "duration": 183,
    "start_time": "2023-02-23T07:32:12.553Z"
   },
   {
    "duration": 178,
    "start_time": "2023-02-23T07:32:12.738Z"
   },
   {
    "duration": 231,
    "start_time": "2023-02-23T07:32:12.919Z"
   },
   {
    "duration": 224,
    "start_time": "2023-02-23T07:32:13.154Z"
   },
   {
    "duration": 227,
    "start_time": "2023-02-23T07:32:13.380Z"
   },
   {
    "duration": 178,
    "start_time": "2023-02-23T07:32:13.608Z"
   },
   {
    "duration": 145,
    "start_time": "2023-02-23T07:32:13.787Z"
   },
   {
    "duration": 263,
    "start_time": "2023-02-23T07:32:13.934Z"
   },
   {
    "duration": 260,
    "start_time": "2023-02-23T07:32:14.199Z"
   },
   {
    "duration": 171,
    "start_time": "2023-02-23T07:32:14.461Z"
   },
   {
    "duration": 353,
    "start_time": "2023-02-23T07:32:14.634Z"
   },
   {
    "duration": 158,
    "start_time": "2023-02-23T07:32:14.991Z"
   },
   {
    "duration": 5,
    "start_time": "2023-02-23T07:32:15.153Z"
   },
   {
    "duration": 149,
    "start_time": "2023-02-23T07:32:15.160Z"
   },
   {
    "duration": 6,
    "start_time": "2023-02-23T07:32:15.311Z"
   },
   {
    "duration": 193,
    "start_time": "2023-02-23T07:32:15.318Z"
   },
   {
    "duration": 6,
    "start_time": "2023-02-23T07:32:15.513Z"
   },
   {
    "duration": 169,
    "start_time": "2023-02-23T07:32:15.520Z"
   },
   {
    "duration": 5,
    "start_time": "2023-02-23T07:32:15.691Z"
   },
   {
    "duration": 170,
    "start_time": "2023-02-23T07:32:15.698Z"
   },
   {
    "duration": 6,
    "start_time": "2023-02-23T07:32:15.869Z"
   },
   {
    "duration": 164,
    "start_time": "2023-02-23T07:32:15.877Z"
   },
   {
    "duration": 13,
    "start_time": "2023-02-23T07:32:16.043Z"
   },
   {
    "duration": 229,
    "start_time": "2023-02-23T07:32:16.058Z"
   },
   {
    "duration": 318,
    "start_time": "2023-02-23T07:32:16.289Z"
   },
   {
    "duration": 278,
    "start_time": "2023-02-23T07:32:16.609Z"
   },
   {
    "duration": 251,
    "start_time": "2023-02-23T07:32:16.888Z"
   },
   {
    "duration": 196,
    "start_time": "2023-02-23T07:32:17.141Z"
   },
   {
    "duration": 341,
    "start_time": "2023-02-23T07:32:17.339Z"
   },
   {
    "duration": 286,
    "start_time": "2023-02-23T07:32:17.682Z"
   },
   {
    "duration": 217,
    "start_time": "2023-02-23T07:32:17.970Z"
   },
   {
    "duration": 261,
    "start_time": "2023-02-23T07:32:18.189Z"
   },
   {
    "duration": 209,
    "start_time": "2023-02-23T07:32:18.453Z"
   },
   {
    "duration": 178,
    "start_time": "2023-02-23T07:32:18.664Z"
   },
   {
    "duration": 13,
    "start_time": "2023-02-23T07:32:18.844Z"
   },
   {
    "duration": 14,
    "start_time": "2023-02-23T07:32:18.859Z"
   },
   {
    "duration": 1505,
    "start_time": "2023-02-24T11:40:39.079Z"
   },
   {
    "duration": 177,
    "start_time": "2023-02-24T11:40:40.587Z"
   },
   {
    "duration": 30,
    "start_time": "2023-02-24T11:40:43.556Z"
   },
   {
    "duration": 6,
    "start_time": "2023-02-24T11:45:30.468Z"
   },
   {
    "duration": 10,
    "start_time": "2023-02-24T11:49:08.708Z"
   },
   {
    "duration": 108,
    "start_time": "2023-02-24T11:49:25.716Z"
   },
   {
    "duration": 6,
    "start_time": "2023-02-24T11:51:44.516Z"
   },
   {
    "duration": 27,
    "start_time": "2023-02-24T11:52:07.282Z"
   },
   {
    "duration": 4,
    "start_time": "2023-02-24T11:52:19.317Z"
   },
   {
    "duration": 24,
    "start_time": "2023-02-24T11:59:42.786Z"
   },
   {
    "duration": 17,
    "start_time": "2023-02-24T12:00:17.521Z"
   },
   {
    "duration": 3,
    "start_time": "2023-02-24T12:05:52.470Z"
   },
   {
    "duration": 1417,
    "start_time": "2023-02-25T06:38:55.994Z"
   },
   {
    "duration": 134,
    "start_time": "2023-02-25T06:38:57.414Z"
   },
   {
    "duration": 25,
    "start_time": "2023-02-25T06:38:57.550Z"
   },
   {
    "duration": 6,
    "start_time": "2023-02-25T06:38:57.578Z"
   },
   {
    "duration": 25,
    "start_time": "2023-02-25T06:38:57.586Z"
   },
   {
    "duration": 18,
    "start_time": "2023-02-25T06:38:57.616Z"
   },
   {
    "duration": 30,
    "start_time": "2023-02-25T06:38:57.636Z"
   },
   {
    "duration": 5,
    "start_time": "2023-02-25T06:38:57.668Z"
   },
   {
    "duration": 20,
    "start_time": "2023-02-25T06:38:57.675Z"
   },
   {
    "duration": 17,
    "start_time": "2023-02-25T06:38:57.707Z"
   },
   {
    "duration": 31,
    "start_time": "2023-02-25T06:38:57.725Z"
   },
   {
    "duration": 4,
    "start_time": "2023-02-25T06:38:57.758Z"
   },
   {
    "duration": 23,
    "start_time": "2023-02-25T06:39:02.014Z"
   },
   {
    "duration": 8,
    "start_time": "2023-02-25T06:54:45.587Z"
   },
   {
    "duration": 10,
    "start_time": "2023-02-25T06:56:18.980Z"
   },
   {
    "duration": 10,
    "start_time": "2023-02-25T06:57:45.239Z"
   },
   {
    "duration": 10,
    "start_time": "2023-02-25T06:57:53.561Z"
   },
   {
    "duration": 9,
    "start_time": "2023-02-25T06:58:02.293Z"
   },
   {
    "duration": 11,
    "start_time": "2023-02-25T07:02:48.521Z"
   },
   {
    "duration": 19,
    "start_time": "2023-02-25T07:09:41.144Z"
   },
   {
    "duration": 348,
    "start_time": "2023-02-25T07:35:28.360Z"
   },
   {
    "duration": 282,
    "start_time": "2023-02-25T07:41:01.488Z"
   },
   {
    "duration": 396,
    "start_time": "2023-02-25T07:44:16.144Z"
   },
   {
    "duration": 161,
    "start_time": "2023-02-25T07:44:54.288Z"
   },
   {
    "duration": 373,
    "start_time": "2023-02-25T07:45:13.690Z"
   },
   {
    "duration": 333,
    "start_time": "2023-02-25T07:46:59.877Z"
   },
   {
    "duration": 22,
    "start_time": "2023-02-25T07:55:02.859Z"
   },
   {
    "duration": 19,
    "start_time": "2023-02-25T07:55:11.920Z"
   },
   {
    "duration": 1116,
    "start_time": "2023-02-25T08:00:10.572Z"
   },
   {
    "duration": 12,
    "start_time": "2023-02-25T08:01:35.327Z"
   },
   {
    "duration": 198,
    "start_time": "2023-02-25T08:02:03.050Z"
   },
   {
    "duration": 10,
    "start_time": "2023-02-25T08:04:14.714Z"
   },
   {
    "duration": 17,
    "start_time": "2023-02-25T08:05:52.021Z"
   },
   {
    "duration": 49,
    "start_time": "2023-02-26T14:52:29.565Z"
   },
   {
    "duration": 1233,
    "start_time": "2023-02-26T14:52:33.004Z"
   },
   {
    "duration": 207,
    "start_time": "2023-02-26T14:52:34.239Z"
   },
   {
    "duration": 17,
    "start_time": "2023-02-26T14:52:34.448Z"
   },
   {
    "duration": 4,
    "start_time": "2023-02-26T14:52:34.467Z"
   },
   {
    "duration": 11,
    "start_time": "2023-02-26T14:52:34.473Z"
   },
   {
    "duration": 6,
    "start_time": "2023-02-26T14:52:34.485Z"
   },
   {
    "duration": 23,
    "start_time": "2023-02-26T14:52:34.492Z"
   },
   {
    "duration": 3,
    "start_time": "2023-02-26T14:52:34.516Z"
   },
   {
    "duration": 14,
    "start_time": "2023-02-26T14:52:34.545Z"
   },
   {
    "duration": 16,
    "start_time": "2023-02-26T14:52:34.562Z"
   },
   {
    "duration": 21,
    "start_time": "2023-02-26T14:52:34.580Z"
   },
   {
    "duration": 4,
    "start_time": "2023-02-26T14:52:34.603Z"
   },
   {
    "duration": 20,
    "start_time": "2023-02-26T14:52:34.608Z"
   },
   {
    "duration": 28,
    "start_time": "2023-02-26T14:52:34.630Z"
   },
   {
    "duration": 18,
    "start_time": "2023-02-26T14:52:34.659Z"
   },
   {
    "duration": 16,
    "start_time": "2023-02-26T14:52:34.678Z"
   },
   {
    "duration": 13,
    "start_time": "2023-02-26T14:52:34.695Z"
   },
   {
    "duration": 6,
    "start_time": "2023-02-26T14:52:34.709Z"
   },
   {
    "duration": 8,
    "start_time": "2023-02-26T14:52:37.853Z"
   },
   {
    "duration": 2,
    "start_time": "2023-02-26T14:53:38.106Z"
   },
   {
    "duration": 245,
    "start_time": "2023-02-26T14:53:38.111Z"
   },
   {
    "duration": 15,
    "start_time": "2023-02-26T14:53:38.358Z"
   },
   {
    "duration": 8,
    "start_time": "2023-02-26T14:53:38.375Z"
   },
   {
    "duration": 10,
    "start_time": "2023-02-26T14:53:38.385Z"
   },
   {
    "duration": 9,
    "start_time": "2023-02-26T14:53:38.397Z"
   },
   {
    "duration": 46,
    "start_time": "2023-02-26T14:53:38.407Z"
   },
   {
    "duration": 3,
    "start_time": "2023-02-26T14:53:38.455Z"
   },
   {
    "duration": 20,
    "start_time": "2023-02-26T14:53:38.460Z"
   },
   {
    "duration": 12,
    "start_time": "2023-02-26T14:53:38.482Z"
   },
   {
    "duration": 11,
    "start_time": "2023-02-26T14:53:38.496Z"
   },
   {
    "duration": 2,
    "start_time": "2023-02-26T14:53:38.509Z"
   },
   {
    "duration": 48,
    "start_time": "2023-02-26T14:53:38.513Z"
   },
   {
    "duration": 16,
    "start_time": "2023-02-26T14:53:38.563Z"
   },
   {
    "duration": 8,
    "start_time": "2023-02-26T14:53:38.580Z"
   },
   {
    "duration": 15,
    "start_time": "2023-02-26T14:53:38.590Z"
   },
   {
    "duration": 39,
    "start_time": "2023-02-26T14:53:38.607Z"
   },
   {
    "duration": 6,
    "start_time": "2023-02-26T14:53:38.647Z"
   },
   {
    "duration": 13,
    "start_time": "2023-02-26T14:53:38.654Z"
   },
   {
    "duration": 7,
    "start_time": "2023-02-26T14:53:38.669Z"
   },
   {
    "duration": 11,
    "start_time": "2023-02-26T14:53:38.678Z"
   },
   {
    "duration": 219,
    "start_time": "2023-02-26T14:53:38.690Z"
   },
   {
    "duration": 312,
    "start_time": "2023-02-26T14:53:38.911Z"
   },
   {
    "duration": 22,
    "start_time": "2023-02-26T14:53:39.225Z"
   },
   {
    "duration": 169,
    "start_time": "2023-02-26T14:53:39.249Z"
   },
   {
    "duration": 11,
    "start_time": "2023-02-26T14:53:43.094Z"
   },
   {
    "duration": 8,
    "start_time": "2023-02-26T14:55:49.669Z"
   },
   {
    "duration": 3,
    "start_time": "2023-02-26T14:56:00.284Z"
   },
   {
    "duration": 98,
    "start_time": "2023-02-26T14:56:00.289Z"
   },
   {
    "duration": 19,
    "start_time": "2023-02-26T14:56:00.389Z"
   },
   {
    "duration": 28,
    "start_time": "2023-02-26T14:56:00.410Z"
   },
   {
    "duration": 33,
    "start_time": "2023-02-26T14:56:00.441Z"
   },
   {
    "duration": 27,
    "start_time": "2023-02-26T14:56:00.476Z"
   },
   {
    "duration": 57,
    "start_time": "2023-02-26T14:56:00.506Z"
   },
   {
    "duration": 5,
    "start_time": "2023-02-26T14:56:00.566Z"
   },
   {
    "duration": 61,
    "start_time": "2023-02-26T14:56:00.573Z"
   },
   {
    "duration": 21,
    "start_time": "2023-02-26T14:56:00.636Z"
   },
   {
    "duration": 11,
    "start_time": "2023-02-26T14:56:00.661Z"
   },
   {
    "duration": 25,
    "start_time": "2023-02-26T14:56:00.674Z"
   },
   {
    "duration": 36,
    "start_time": "2023-02-26T14:56:00.701Z"
   },
   {
    "duration": 22,
    "start_time": "2023-02-26T14:56:00.739Z"
   },
   {
    "duration": 27,
    "start_time": "2023-02-26T14:56:00.763Z"
   },
   {
    "duration": 19,
    "start_time": "2023-02-26T14:56:00.793Z"
   },
   {
    "duration": 23,
    "start_time": "2023-02-26T14:56:00.814Z"
   },
   {
    "duration": 28,
    "start_time": "2023-02-26T14:56:00.839Z"
   },
   {
    "duration": 40,
    "start_time": "2023-02-26T14:56:00.869Z"
   },
   {
    "duration": 21,
    "start_time": "2023-02-26T14:56:00.911Z"
   },
   {
    "duration": 40,
    "start_time": "2023-02-26T14:56:00.934Z"
   },
   {
    "duration": 213,
    "start_time": "2023-02-26T14:56:00.976Z"
   },
   {
    "duration": 328,
    "start_time": "2023-02-26T14:56:01.190Z"
   },
   {
    "duration": 13,
    "start_time": "2023-02-26T14:56:01.520Z"
   },
   {
    "duration": 162,
    "start_time": "2023-02-26T14:56:01.545Z"
   },
   {
    "duration": 9,
    "start_time": "2023-02-26T14:56:01.709Z"
   },
   {
    "duration": 173,
    "start_time": "2023-02-26T14:56:01.720Z"
   },
   {
    "duration": 233,
    "start_time": "2023-02-26T14:56:01.895Z"
   },
   {
    "duration": 171,
    "start_time": "2023-02-26T14:56:02.131Z"
   },
   {
    "duration": 147,
    "start_time": "2023-02-26T14:56:02.304Z"
   },
   {
    "duration": 152,
    "start_time": "2023-02-26T14:56:02.453Z"
   },
   {
    "duration": 3,
    "start_time": "2023-02-26T14:58:20.312Z"
   },
   {
    "duration": 78,
    "start_time": "2023-02-26T14:58:20.317Z"
   },
   {
    "duration": 20,
    "start_time": "2023-02-26T14:58:20.397Z"
   },
   {
    "duration": 39,
    "start_time": "2023-02-26T14:58:20.420Z"
   },
   {
    "duration": 13,
    "start_time": "2023-02-26T14:58:20.462Z"
   },
   {
    "duration": 15,
    "start_time": "2023-02-26T14:58:20.477Z"
   },
   {
    "duration": 30,
    "start_time": "2023-02-26T14:58:20.495Z"
   },
   {
    "duration": 26,
    "start_time": "2023-02-26T14:58:20.527Z"
   },
   {
    "duration": 21,
    "start_time": "2023-02-26T14:58:20.557Z"
   },
   {
    "duration": 12,
    "start_time": "2023-02-26T14:58:20.580Z"
   },
   {
    "duration": 14,
    "start_time": "2023-02-26T14:58:20.596Z"
   },
   {
    "duration": 35,
    "start_time": "2023-02-26T14:58:20.612Z"
   },
   {
    "duration": 38,
    "start_time": "2023-02-26T14:58:20.650Z"
   },
   {
    "duration": 15,
    "start_time": "2023-02-26T14:58:20.690Z"
   },
   {
    "duration": 8,
    "start_time": "2023-02-26T14:58:20.708Z"
   },
   {
    "duration": 43,
    "start_time": "2023-02-26T14:58:20.717Z"
   },
   {
    "duration": 13,
    "start_time": "2023-02-26T14:58:20.762Z"
   },
   {
    "duration": 14,
    "start_time": "2023-02-26T14:58:20.777Z"
   },
   {
    "duration": 15,
    "start_time": "2023-02-26T14:58:20.793Z"
   },
   {
    "duration": 14,
    "start_time": "2023-02-26T14:58:20.809Z"
   },
   {
    "duration": 14,
    "start_time": "2023-02-26T14:58:20.825Z"
   },
   {
    "duration": 183,
    "start_time": "2023-02-26T14:58:20.841Z"
   },
   {
    "duration": 337,
    "start_time": "2023-02-26T14:58:21.026Z"
   },
   {
    "duration": 14,
    "start_time": "2023-02-26T14:58:21.365Z"
   },
   {
    "duration": 186,
    "start_time": "2023-02-26T14:58:21.381Z"
   },
   {
    "duration": 9,
    "start_time": "2023-02-26T14:58:21.569Z"
   },
   {
    "duration": 196,
    "start_time": "2023-02-26T14:58:21.580Z"
   },
   {
    "duration": 155,
    "start_time": "2023-02-26T14:58:21.778Z"
   },
   {
    "duration": 176,
    "start_time": "2023-02-26T14:58:21.946Z"
   },
   {
    "duration": 293,
    "start_time": "2023-02-26T14:58:22.124Z"
   },
   {
    "duration": 193,
    "start_time": "2023-02-26T14:58:22.419Z"
   },
   {
    "duration": 19,
    "start_time": "2023-02-26T14:58:22.613Z"
   },
   {
    "duration": 231,
    "start_time": "2023-02-26T14:58:22.634Z"
   },
   {
    "duration": 208,
    "start_time": "2023-02-26T14:58:22.869Z"
   },
   {
    "duration": 135,
    "start_time": "2023-02-26T14:58:23.079Z"
   },
   {
    "duration": 0,
    "start_time": "2023-02-26T14:58:23.216Z"
   },
   {
    "duration": 0,
    "start_time": "2023-02-26T14:58:23.219Z"
   },
   {
    "duration": 0,
    "start_time": "2023-02-26T14:58:23.220Z"
   },
   {
    "duration": 0,
    "start_time": "2023-02-26T14:58:23.222Z"
   },
   {
    "duration": 0,
    "start_time": "2023-02-26T14:58:23.223Z"
   },
   {
    "duration": 0,
    "start_time": "2023-02-26T14:58:23.247Z"
   },
   {
    "duration": 0,
    "start_time": "2023-02-26T14:58:23.252Z"
   },
   {
    "duration": 0,
    "start_time": "2023-02-26T14:58:23.253Z"
   },
   {
    "duration": 0,
    "start_time": "2023-02-26T14:58:23.254Z"
   },
   {
    "duration": 198,
    "start_time": "2023-02-26T14:58:27.008Z"
   },
   {
    "duration": 187,
    "start_time": "2023-02-26T14:59:05.081Z"
   },
   {
    "duration": 175,
    "start_time": "2023-02-26T14:59:10.072Z"
   },
   {
    "duration": 22,
    "start_time": "2023-02-26T14:59:13.547Z"
   },
   {
    "duration": 175,
    "start_time": "2023-02-26T14:59:14.765Z"
   },
   {
    "duration": 192,
    "start_time": "2023-02-26T15:02:11.007Z"
   },
   {
    "duration": 193,
    "start_time": "2023-02-26T15:04:21.710Z"
   },
   {
    "duration": 164,
    "start_time": "2023-02-26T15:04:42.085Z"
   },
   {
    "duration": 250,
    "start_time": "2023-02-26T15:04:58.379Z"
   },
   {
    "duration": 167,
    "start_time": "2023-02-26T15:05:08.493Z"
   },
   {
    "duration": 211,
    "start_time": "2023-02-26T15:05:20.536Z"
   },
   {
    "duration": 175,
    "start_time": "2023-02-26T15:05:35.606Z"
   },
   {
    "duration": 183,
    "start_time": "2023-02-26T15:05:38.316Z"
   },
   {
    "duration": 179,
    "start_time": "2023-02-26T15:05:42.735Z"
   },
   {
    "duration": 174,
    "start_time": "2023-02-26T15:05:45.487Z"
   },
   {
    "duration": 166,
    "start_time": "2023-02-26T15:06:14.373Z"
   },
   {
    "duration": 179,
    "start_time": "2023-02-26T15:06:21.677Z"
   },
   {
    "duration": 254,
    "start_time": "2023-02-26T15:09:12.579Z"
   },
   {
    "duration": 352,
    "start_time": "2023-02-26T15:12:07.678Z"
   },
   {
    "duration": 299,
    "start_time": "2023-02-26T15:12:22.637Z"
   },
   {
    "duration": 302,
    "start_time": "2023-02-26T15:16:25.559Z"
   },
   {
    "duration": 164,
    "start_time": "2023-02-26T15:32:22.016Z"
   },
   {
    "duration": 6,
    "start_time": "2023-02-26T15:32:27.567Z"
   },
   {
    "duration": 223,
    "start_time": "2023-02-26T15:35:07.715Z"
   },
   {
    "duration": 174,
    "start_time": "2023-02-26T15:35:24.568Z"
   },
   {
    "duration": 196,
    "start_time": "2023-02-26T15:35:48.093Z"
   },
   {
    "duration": 198,
    "start_time": "2023-02-26T15:36:16.964Z"
   },
   {
    "duration": 245,
    "start_time": "2023-02-26T15:36:28.885Z"
   },
   {
    "duration": 6,
    "start_time": "2023-02-26T15:36:36.162Z"
   },
   {
    "duration": 5,
    "start_time": "2023-02-26T15:36:52.181Z"
   },
   {
    "duration": 162,
    "start_time": "2023-02-26T15:37:31.000Z"
   },
   {
    "duration": 176,
    "start_time": "2023-02-26T15:37:41.867Z"
   },
   {
    "duration": 5,
    "start_time": "2023-02-26T15:37:50.198Z"
   },
   {
    "duration": 153,
    "start_time": "2023-02-26T15:38:12.918Z"
   },
   {
    "duration": 5,
    "start_time": "2023-02-26T15:38:28.897Z"
   },
   {
    "duration": 159,
    "start_time": "2023-02-26T15:38:40.023Z"
   },
   {
    "duration": 4,
    "start_time": "2023-02-26T15:38:48.562Z"
   },
   {
    "duration": 162,
    "start_time": "2023-02-26T15:39:03.818Z"
   },
   {
    "duration": 5,
    "start_time": "2023-02-26T15:39:15.578Z"
   },
   {
    "duration": 167,
    "start_time": "2023-02-26T15:39:29.188Z"
   },
   {
    "duration": 5,
    "start_time": "2023-02-26T15:39:41.219Z"
   },
   {
    "duration": 19,
    "start_time": "2023-02-26T15:45:24.217Z"
   },
   {
    "duration": 760,
    "start_time": "2023-02-26T15:46:34.824Z"
   },
   {
    "duration": 20,
    "start_time": "2023-02-26T15:50:41.868Z"
   },
   {
    "duration": 153,
    "start_time": "2023-02-26T16:00:02.157Z"
   },
   {
    "duration": 6,
    "start_time": "2023-02-26T16:00:18.768Z"
   },
   {
    "duration": 4,
    "start_time": "2023-02-26T16:00:47.752Z"
   },
   {
    "duration": 161,
    "start_time": "2023-02-26T16:01:01.677Z"
   },
   {
    "duration": 5,
    "start_time": "2023-02-26T16:01:14.703Z"
   },
   {
    "duration": 9,
    "start_time": "2023-02-26T16:01:25.341Z"
   },
   {
    "duration": 5,
    "start_time": "2023-02-26T16:01:45.488Z"
   },
   {
    "duration": 209,
    "start_time": "2023-02-26T16:03:50.141Z"
   },
   {
    "duration": 296,
    "start_time": "2023-02-26T16:04:20.373Z"
   },
   {
    "duration": 274,
    "start_time": "2023-02-26T16:06:59.071Z"
   },
   {
    "duration": 181,
    "start_time": "2023-02-26T16:27:17.058Z"
   },
   {
    "duration": 220,
    "start_time": "2023-02-26T16:29:33.750Z"
   },
   {
    "duration": 7,
    "start_time": "2023-02-26T16:33:33.200Z"
   },
   {
    "duration": 1394,
    "start_time": "2023-02-27T06:13:16.474Z"
   },
   {
    "duration": 237,
    "start_time": "2023-02-27T06:13:17.871Z"
   },
   {
    "duration": 19,
    "start_time": "2023-02-27T06:13:18.110Z"
   },
   {
    "duration": 5,
    "start_time": "2023-02-27T06:13:18.130Z"
   },
   {
    "duration": 14,
    "start_time": "2023-02-27T06:13:18.138Z"
   },
   {
    "duration": 7,
    "start_time": "2023-02-27T06:13:18.154Z"
   },
   {
    "duration": 34,
    "start_time": "2023-02-27T06:13:18.163Z"
   },
   {
    "duration": 5,
    "start_time": "2023-02-27T06:13:18.199Z"
   },
   {
    "duration": 48,
    "start_time": "2023-02-27T06:13:18.205Z"
   },
   {
    "duration": 12,
    "start_time": "2023-02-27T06:13:18.255Z"
   },
   {
    "duration": 12,
    "start_time": "2023-02-27T06:13:18.269Z"
   },
   {
    "duration": 2,
    "start_time": "2023-02-27T06:13:18.283Z"
   },
   {
    "duration": 29,
    "start_time": "2023-02-27T06:13:18.288Z"
   },
   {
    "duration": 105,
    "start_time": "2023-02-27T06:13:18.351Z"
   },
   {
    "duration": 0,
    "start_time": "2023-02-27T06:13:18.458Z"
   },
   {
    "duration": 0,
    "start_time": "2023-02-27T06:13:18.461Z"
   },
   {
    "duration": 0,
    "start_time": "2023-02-27T06:13:18.462Z"
   },
   {
    "duration": 0,
    "start_time": "2023-02-27T06:13:18.463Z"
   },
   {
    "duration": 0,
    "start_time": "2023-02-27T06:13:18.464Z"
   },
   {
    "duration": 0,
    "start_time": "2023-02-27T06:13:18.466Z"
   },
   {
    "duration": 0,
    "start_time": "2023-02-27T06:13:18.467Z"
   },
   {
    "duration": 0,
    "start_time": "2023-02-27T06:13:18.469Z"
   },
   {
    "duration": 0,
    "start_time": "2023-02-27T06:13:18.470Z"
   },
   {
    "duration": 0,
    "start_time": "2023-02-27T06:13:18.471Z"
   },
   {
    "duration": 0,
    "start_time": "2023-02-27T06:13:18.473Z"
   },
   {
    "duration": 0,
    "start_time": "2023-02-27T06:13:18.474Z"
   },
   {
    "duration": 0,
    "start_time": "2023-02-27T06:13:18.475Z"
   },
   {
    "duration": 0,
    "start_time": "2023-02-27T06:13:18.477Z"
   },
   {
    "duration": 0,
    "start_time": "2023-02-27T06:13:18.478Z"
   },
   {
    "duration": 0,
    "start_time": "2023-02-27T06:13:18.479Z"
   },
   {
    "duration": 0,
    "start_time": "2023-02-27T06:13:18.480Z"
   },
   {
    "duration": 0,
    "start_time": "2023-02-27T06:13:18.482Z"
   },
   {
    "duration": 0,
    "start_time": "2023-02-27T06:13:18.483Z"
   },
   {
    "duration": 0,
    "start_time": "2023-02-27T06:13:18.485Z"
   },
   {
    "duration": 0,
    "start_time": "2023-02-27T06:13:18.486Z"
   },
   {
    "duration": 0,
    "start_time": "2023-02-27T06:13:18.488Z"
   },
   {
    "duration": 0,
    "start_time": "2023-02-27T06:13:18.489Z"
   },
   {
    "duration": 0,
    "start_time": "2023-02-27T06:13:18.490Z"
   },
   {
    "duration": 0,
    "start_time": "2023-02-27T06:13:18.491Z"
   },
   {
    "duration": 0,
    "start_time": "2023-02-27T06:13:18.493Z"
   },
   {
    "duration": 0,
    "start_time": "2023-02-27T06:13:18.495Z"
   },
   {
    "duration": 0,
    "start_time": "2023-02-27T06:13:18.496Z"
   },
   {
    "duration": 0,
    "start_time": "2023-02-27T06:13:18.496Z"
   },
   {
    "duration": 0,
    "start_time": "2023-02-27T06:13:18.497Z"
   },
   {
    "duration": 0,
    "start_time": "2023-02-27T06:13:18.498Z"
   },
   {
    "duration": 0,
    "start_time": "2023-02-27T06:13:18.498Z"
   },
   {
    "duration": 0,
    "start_time": "2023-02-27T06:13:18.499Z"
   },
   {
    "duration": 0,
    "start_time": "2023-02-27T06:13:18.549Z"
   },
   {
    "duration": 0,
    "start_time": "2023-02-27T06:13:18.550Z"
   },
   {
    "duration": 0,
    "start_time": "2023-02-27T06:13:18.551Z"
   },
   {
    "duration": 0,
    "start_time": "2023-02-27T06:13:18.553Z"
   },
   {
    "duration": 0,
    "start_time": "2023-02-27T06:13:18.554Z"
   },
   {
    "duration": 0,
    "start_time": "2023-02-27T06:13:18.555Z"
   },
   {
    "duration": 0,
    "start_time": "2023-02-27T06:13:18.556Z"
   },
   {
    "duration": 0,
    "start_time": "2023-02-27T06:13:18.557Z"
   },
   {
    "duration": 0,
    "start_time": "2023-02-27T06:13:18.559Z"
   },
   {
    "duration": 0,
    "start_time": "2023-02-27T06:13:18.560Z"
   },
   {
    "duration": 0,
    "start_time": "2023-02-27T06:13:18.561Z"
   },
   {
    "duration": 0,
    "start_time": "2023-02-27T06:13:18.562Z"
   },
   {
    "duration": 0,
    "start_time": "2023-02-27T06:13:18.564Z"
   },
   {
    "duration": 0,
    "start_time": "2023-02-27T06:13:18.565Z"
   },
   {
    "duration": 0,
    "start_time": "2023-02-27T06:13:18.566Z"
   },
   {
    "duration": 0,
    "start_time": "2023-02-27T06:13:18.567Z"
   },
   {
    "duration": 1,
    "start_time": "2023-02-27T06:13:18.568Z"
   },
   {
    "duration": 0,
    "start_time": "2023-02-27T06:13:18.569Z"
   },
   {
    "duration": 0,
    "start_time": "2023-02-27T06:13:18.571Z"
   },
   {
    "duration": 1225,
    "start_time": "2023-02-27T06:22:02.627Z"
   },
   {
    "duration": 97,
    "start_time": "2023-02-27T06:22:03.857Z"
   },
   {
    "duration": 28,
    "start_time": "2023-02-27T06:22:03.957Z"
   },
   {
    "duration": 8,
    "start_time": "2023-02-27T06:22:03.988Z"
   },
   {
    "duration": 15,
    "start_time": "2023-02-27T06:22:03.998Z"
   },
   {
    "duration": 5,
    "start_time": "2023-02-27T06:22:04.016Z"
   },
   {
    "duration": 27,
    "start_time": "2023-02-27T06:22:04.048Z"
   },
   {
    "duration": 5,
    "start_time": "2023-02-27T06:22:04.078Z"
   },
   {
    "duration": 24,
    "start_time": "2023-02-27T06:22:04.085Z"
   },
   {
    "duration": 36,
    "start_time": "2023-02-27T06:22:04.112Z"
   },
   {
    "duration": 23,
    "start_time": "2023-02-27T06:22:04.151Z"
   },
   {
    "duration": 7,
    "start_time": "2023-02-27T06:22:04.176Z"
   },
   {
    "duration": 31,
    "start_time": "2023-02-27T06:22:04.185Z"
   },
   {
    "duration": 143,
    "start_time": "2023-02-27T06:22:04.218Z"
   },
   {
    "duration": 0,
    "start_time": "2023-02-27T06:22:04.365Z"
   },
   {
    "duration": 0,
    "start_time": "2023-02-27T06:22:04.366Z"
   },
   {
    "duration": 0,
    "start_time": "2023-02-27T06:22:04.367Z"
   },
   {
    "duration": 0,
    "start_time": "2023-02-27T06:22:04.369Z"
   },
   {
    "duration": 0,
    "start_time": "2023-02-27T06:22:04.370Z"
   },
   {
    "duration": 0,
    "start_time": "2023-02-27T06:22:04.372Z"
   },
   {
    "duration": 0,
    "start_time": "2023-02-27T06:22:04.373Z"
   },
   {
    "duration": 0,
    "start_time": "2023-02-27T06:22:04.375Z"
   },
   {
    "duration": 0,
    "start_time": "2023-02-27T06:22:04.376Z"
   },
   {
    "duration": 0,
    "start_time": "2023-02-27T06:22:04.377Z"
   },
   {
    "duration": 0,
    "start_time": "2023-02-27T06:22:04.379Z"
   },
   {
    "duration": 0,
    "start_time": "2023-02-27T06:22:04.380Z"
   },
   {
    "duration": 0,
    "start_time": "2023-02-27T06:22:04.381Z"
   },
   {
    "duration": 0,
    "start_time": "2023-02-27T06:22:04.382Z"
   },
   {
    "duration": 0,
    "start_time": "2023-02-27T06:22:04.384Z"
   },
   {
    "duration": 0,
    "start_time": "2023-02-27T06:22:04.385Z"
   },
   {
    "duration": 0,
    "start_time": "2023-02-27T06:22:04.386Z"
   },
   {
    "duration": 0,
    "start_time": "2023-02-27T06:22:04.387Z"
   },
   {
    "duration": 0,
    "start_time": "2023-02-27T06:22:04.388Z"
   },
   {
    "duration": 0,
    "start_time": "2023-02-27T06:22:04.390Z"
   },
   {
    "duration": 0,
    "start_time": "2023-02-27T06:22:04.391Z"
   },
   {
    "duration": 0,
    "start_time": "2023-02-27T06:22:04.392Z"
   },
   {
    "duration": 0,
    "start_time": "2023-02-27T06:22:04.393Z"
   },
   {
    "duration": 0,
    "start_time": "2023-02-27T06:22:04.394Z"
   },
   {
    "duration": 0,
    "start_time": "2023-02-27T06:22:04.396Z"
   },
   {
    "duration": 1,
    "start_time": "2023-02-27T06:22:04.397Z"
   },
   {
    "duration": 0,
    "start_time": "2023-02-27T06:22:04.449Z"
   },
   {
    "duration": 0,
    "start_time": "2023-02-27T06:22:04.451Z"
   },
   {
    "duration": 0,
    "start_time": "2023-02-27T06:22:04.453Z"
   },
   {
    "duration": 0,
    "start_time": "2023-02-27T06:22:04.455Z"
   },
   {
    "duration": 0,
    "start_time": "2023-02-27T06:22:04.456Z"
   },
   {
    "duration": 0,
    "start_time": "2023-02-27T06:22:04.458Z"
   },
   {
    "duration": 0,
    "start_time": "2023-02-27T06:22:04.459Z"
   },
   {
    "duration": 0,
    "start_time": "2023-02-27T06:22:04.463Z"
   },
   {
    "duration": 0,
    "start_time": "2023-02-27T06:22:04.464Z"
   },
   {
    "duration": 0,
    "start_time": "2023-02-27T06:22:04.465Z"
   },
   {
    "duration": 0,
    "start_time": "2023-02-27T06:22:04.466Z"
   },
   {
    "duration": 0,
    "start_time": "2023-02-27T06:22:04.468Z"
   },
   {
    "duration": 0,
    "start_time": "2023-02-27T06:22:04.469Z"
   },
   {
    "duration": 0,
    "start_time": "2023-02-27T06:22:04.470Z"
   },
   {
    "duration": 0,
    "start_time": "2023-02-27T06:22:04.472Z"
   },
   {
    "duration": 0,
    "start_time": "2023-02-27T06:22:04.473Z"
   },
   {
    "duration": 0,
    "start_time": "2023-02-27T06:22:04.474Z"
   },
   {
    "duration": 0,
    "start_time": "2023-02-27T06:22:04.476Z"
   },
   {
    "duration": 0,
    "start_time": "2023-02-27T06:22:04.477Z"
   },
   {
    "duration": 0,
    "start_time": "2023-02-27T06:22:04.478Z"
   },
   {
    "duration": 0,
    "start_time": "2023-02-27T06:22:04.480Z"
   },
   {
    "duration": 0,
    "start_time": "2023-02-27T06:22:04.481Z"
   },
   {
    "duration": 0,
    "start_time": "2023-02-27T06:22:04.482Z"
   },
   {
    "duration": 0,
    "start_time": "2023-02-27T06:22:04.484Z"
   },
   {
    "duration": 0,
    "start_time": "2023-02-27T06:22:04.486Z"
   },
   {
    "duration": 0,
    "start_time": "2023-02-27T06:22:04.549Z"
   },
   {
    "duration": 13,
    "start_time": "2023-02-27T06:22:13.817Z"
   },
   {
    "duration": 3,
    "start_time": "2023-02-27T06:22:28.008Z"
   },
   {
    "duration": 84,
    "start_time": "2023-02-27T06:22:28.013Z"
   },
   {
    "duration": 14,
    "start_time": "2023-02-27T06:22:28.099Z"
   },
   {
    "duration": 8,
    "start_time": "2023-02-27T06:22:28.115Z"
   },
   {
    "duration": 30,
    "start_time": "2023-02-27T06:22:28.125Z"
   },
   {
    "duration": 9,
    "start_time": "2023-02-27T06:22:28.157Z"
   },
   {
    "duration": 26,
    "start_time": "2023-02-27T06:22:28.167Z"
   },
   {
    "duration": 5,
    "start_time": "2023-02-27T06:22:28.195Z"
   },
   {
    "duration": 63,
    "start_time": "2023-02-27T06:22:28.202Z"
   },
   {
    "duration": 13,
    "start_time": "2023-02-27T06:22:28.267Z"
   },
   {
    "duration": 13,
    "start_time": "2023-02-27T06:22:28.283Z"
   },
   {
    "duration": 3,
    "start_time": "2023-02-27T06:22:28.298Z"
   },
   {
    "duration": 58,
    "start_time": "2023-02-27T06:22:28.303Z"
   },
   {
    "duration": 10,
    "start_time": "2023-02-27T06:22:28.363Z"
   },
   {
    "duration": 0,
    "start_time": "2023-02-27T06:22:28.376Z"
   },
   {
    "duration": 0,
    "start_time": "2023-02-27T06:22:28.378Z"
   },
   {
    "duration": 0,
    "start_time": "2023-02-27T06:22:28.379Z"
   },
   {
    "duration": 0,
    "start_time": "2023-02-27T06:22:28.381Z"
   },
   {
    "duration": 0,
    "start_time": "2023-02-27T06:22:28.382Z"
   },
   {
    "duration": 0,
    "start_time": "2023-02-27T06:22:28.384Z"
   },
   {
    "duration": 0,
    "start_time": "2023-02-27T06:22:28.386Z"
   },
   {
    "duration": 0,
    "start_time": "2023-02-27T06:22:28.388Z"
   },
   {
    "duration": 0,
    "start_time": "2023-02-27T06:22:28.390Z"
   },
   {
    "duration": 0,
    "start_time": "2023-02-27T06:22:28.392Z"
   },
   {
    "duration": 0,
    "start_time": "2023-02-27T06:22:28.393Z"
   },
   {
    "duration": 0,
    "start_time": "2023-02-27T06:22:28.395Z"
   },
   {
    "duration": 0,
    "start_time": "2023-02-27T06:22:28.397Z"
   },
   {
    "duration": 0,
    "start_time": "2023-02-27T06:22:28.399Z"
   },
   {
    "duration": 0,
    "start_time": "2023-02-27T06:22:28.449Z"
   },
   {
    "duration": 0,
    "start_time": "2023-02-27T06:22:28.450Z"
   },
   {
    "duration": 0,
    "start_time": "2023-02-27T06:22:28.451Z"
   },
   {
    "duration": 0,
    "start_time": "2023-02-27T06:22:28.452Z"
   },
   {
    "duration": 0,
    "start_time": "2023-02-27T06:22:28.453Z"
   },
   {
    "duration": 0,
    "start_time": "2023-02-27T06:22:28.454Z"
   },
   {
    "duration": 0,
    "start_time": "2023-02-27T06:22:28.455Z"
   },
   {
    "duration": 0,
    "start_time": "2023-02-27T06:22:28.457Z"
   },
   {
    "duration": 0,
    "start_time": "2023-02-27T06:22:28.458Z"
   },
   {
    "duration": 0,
    "start_time": "2023-02-27T06:22:28.459Z"
   },
   {
    "duration": 0,
    "start_time": "2023-02-27T06:22:28.460Z"
   },
   {
    "duration": 0,
    "start_time": "2023-02-27T06:22:28.461Z"
   },
   {
    "duration": 0,
    "start_time": "2023-02-27T06:22:28.462Z"
   },
   {
    "duration": 0,
    "start_time": "2023-02-27T06:22:28.463Z"
   },
   {
    "duration": 0,
    "start_time": "2023-02-27T06:22:28.464Z"
   },
   {
    "duration": 0,
    "start_time": "2023-02-27T06:22:28.466Z"
   },
   {
    "duration": 0,
    "start_time": "2023-02-27T06:22:28.466Z"
   },
   {
    "duration": 0,
    "start_time": "2023-02-27T06:22:28.468Z"
   },
   {
    "duration": 0,
    "start_time": "2023-02-27T06:22:28.469Z"
   },
   {
    "duration": 0,
    "start_time": "2023-02-27T06:22:28.470Z"
   },
   {
    "duration": 0,
    "start_time": "2023-02-27T06:22:28.472Z"
   },
   {
    "duration": 0,
    "start_time": "2023-02-27T06:22:28.473Z"
   },
   {
    "duration": 0,
    "start_time": "2023-02-27T06:22:28.474Z"
   },
   {
    "duration": 0,
    "start_time": "2023-02-27T06:22:28.475Z"
   },
   {
    "duration": 0,
    "start_time": "2023-02-27T06:22:28.476Z"
   },
   {
    "duration": 0,
    "start_time": "2023-02-27T06:22:28.477Z"
   },
   {
    "duration": 0,
    "start_time": "2023-02-27T06:22:28.478Z"
   },
   {
    "duration": 0,
    "start_time": "2023-02-27T06:22:28.479Z"
   },
   {
    "duration": 0,
    "start_time": "2023-02-27T06:22:28.481Z"
   },
   {
    "duration": 0,
    "start_time": "2023-02-27T06:22:28.482Z"
   },
   {
    "duration": 0,
    "start_time": "2023-02-27T06:22:28.549Z"
   },
   {
    "duration": 0,
    "start_time": "2023-02-27T06:22:28.551Z"
   },
   {
    "duration": 0,
    "start_time": "2023-02-27T06:22:28.553Z"
   },
   {
    "duration": 0,
    "start_time": "2023-02-27T06:22:28.554Z"
   },
   {
    "duration": 0,
    "start_time": "2023-02-27T06:22:28.556Z"
   },
   {
    "duration": 0,
    "start_time": "2023-02-27T06:22:28.558Z"
   },
   {
    "duration": 0,
    "start_time": "2023-02-27T06:22:28.560Z"
   },
   {
    "duration": 0,
    "start_time": "2023-02-27T06:22:28.561Z"
   },
   {
    "duration": 3,
    "start_time": "2023-02-27T06:22:47.372Z"
   },
   {
    "duration": 98,
    "start_time": "2023-02-27T06:22:47.378Z"
   },
   {
    "duration": 19,
    "start_time": "2023-02-27T06:22:47.479Z"
   },
   {
    "duration": 29,
    "start_time": "2023-02-27T06:22:47.500Z"
   },
   {
    "duration": 49,
    "start_time": "2023-02-27T06:22:47.532Z"
   },
   {
    "duration": 14,
    "start_time": "2023-02-27T06:22:47.583Z"
   },
   {
    "duration": 39,
    "start_time": "2023-02-27T06:22:47.599Z"
   },
   {
    "duration": 5,
    "start_time": "2023-02-27T06:22:47.640Z"
   },
   {
    "duration": 30,
    "start_time": "2023-02-27T06:22:47.647Z"
   },
   {
    "duration": 12,
    "start_time": "2023-02-27T06:22:47.678Z"
   },
   {
    "duration": 21,
    "start_time": "2023-02-27T06:22:47.692Z"
   },
   {
    "duration": 29,
    "start_time": "2023-02-27T06:22:47.715Z"
   },
   {
    "duration": 42,
    "start_time": "2023-02-27T06:22:47.746Z"
   },
   {
    "duration": 56,
    "start_time": "2023-02-27T06:22:47.790Z"
   },
   {
    "duration": 0,
    "start_time": "2023-02-27T06:22:47.850Z"
   },
   {
    "duration": 0,
    "start_time": "2023-02-27T06:22:47.852Z"
   },
   {
    "duration": 0,
    "start_time": "2023-02-27T06:22:47.854Z"
   },
   {
    "duration": 0,
    "start_time": "2023-02-27T06:22:47.856Z"
   },
   {
    "duration": 0,
    "start_time": "2023-02-27T06:22:47.858Z"
   },
   {
    "duration": 0,
    "start_time": "2023-02-27T06:22:47.860Z"
   },
   {
    "duration": 0,
    "start_time": "2023-02-27T06:22:47.861Z"
   },
   {
    "duration": 0,
    "start_time": "2023-02-27T06:22:47.864Z"
   },
   {
    "duration": 0,
    "start_time": "2023-02-27T06:22:47.865Z"
   },
   {
    "duration": 0,
    "start_time": "2023-02-27T06:22:47.867Z"
   },
   {
    "duration": 0,
    "start_time": "2023-02-27T06:22:47.868Z"
   },
   {
    "duration": 0,
    "start_time": "2023-02-27T06:22:47.869Z"
   },
   {
    "duration": 0,
    "start_time": "2023-02-27T06:22:47.870Z"
   },
   {
    "duration": 0,
    "start_time": "2023-02-27T06:22:47.871Z"
   },
   {
    "duration": 0,
    "start_time": "2023-02-27T06:22:47.872Z"
   },
   {
    "duration": 0,
    "start_time": "2023-02-27T06:22:47.873Z"
   },
   {
    "duration": 0,
    "start_time": "2023-02-27T06:22:47.874Z"
   },
   {
    "duration": 0,
    "start_time": "2023-02-27T06:22:47.877Z"
   },
   {
    "duration": 0,
    "start_time": "2023-02-27T06:22:47.879Z"
   },
   {
    "duration": 0,
    "start_time": "2023-02-27T06:22:47.880Z"
   },
   {
    "duration": 0,
    "start_time": "2023-02-27T06:22:47.882Z"
   },
   {
    "duration": 0,
    "start_time": "2023-02-27T06:22:47.883Z"
   },
   {
    "duration": 0,
    "start_time": "2023-02-27T06:22:47.885Z"
   },
   {
    "duration": 0,
    "start_time": "2023-02-27T06:22:47.886Z"
   },
   {
    "duration": 0,
    "start_time": "2023-02-27T06:22:47.887Z"
   },
   {
    "duration": 0,
    "start_time": "2023-02-27T06:22:47.888Z"
   },
   {
    "duration": 0,
    "start_time": "2023-02-27T06:22:47.890Z"
   },
   {
    "duration": 0,
    "start_time": "2023-02-27T06:22:47.891Z"
   },
   {
    "duration": 0,
    "start_time": "2023-02-27T06:22:47.893Z"
   },
   {
    "duration": 0,
    "start_time": "2023-02-27T06:22:47.894Z"
   },
   {
    "duration": 0,
    "start_time": "2023-02-27T06:22:47.948Z"
   },
   {
    "duration": 0,
    "start_time": "2023-02-27T06:22:47.950Z"
   },
   {
    "duration": 0,
    "start_time": "2023-02-27T06:22:47.951Z"
   },
   {
    "duration": 0,
    "start_time": "2023-02-27T06:22:47.953Z"
   },
   {
    "duration": 0,
    "start_time": "2023-02-27T06:22:47.955Z"
   },
   {
    "duration": 0,
    "start_time": "2023-02-27T06:22:47.956Z"
   },
   {
    "duration": 0,
    "start_time": "2023-02-27T06:22:47.957Z"
   },
   {
    "duration": 0,
    "start_time": "2023-02-27T06:22:47.958Z"
   },
   {
    "duration": 0,
    "start_time": "2023-02-27T06:22:47.960Z"
   },
   {
    "duration": 0,
    "start_time": "2023-02-27T06:22:47.961Z"
   },
   {
    "duration": 0,
    "start_time": "2023-02-27T06:22:47.962Z"
   },
   {
    "duration": 0,
    "start_time": "2023-02-27T06:22:47.963Z"
   },
   {
    "duration": 0,
    "start_time": "2023-02-27T06:22:47.964Z"
   },
   {
    "duration": 0,
    "start_time": "2023-02-27T06:22:47.965Z"
   },
   {
    "duration": 0,
    "start_time": "2023-02-27T06:22:47.967Z"
   },
   {
    "duration": 0,
    "start_time": "2023-02-27T06:22:47.968Z"
   },
   {
    "duration": 0,
    "start_time": "2023-02-27T06:22:47.969Z"
   },
   {
    "duration": 0,
    "start_time": "2023-02-27T06:22:47.970Z"
   },
   {
    "duration": 0,
    "start_time": "2023-02-27T06:22:47.972Z"
   },
   {
    "duration": 0,
    "start_time": "2023-02-27T06:22:47.973Z"
   },
   {
    "duration": 0,
    "start_time": "2023-02-27T06:22:47.974Z"
   },
   {
    "duration": 0,
    "start_time": "2023-02-27T06:22:47.975Z"
   },
   {
    "duration": 11,
    "start_time": "2023-02-27T06:22:53.505Z"
   },
   {
    "duration": 3,
    "start_time": "2023-02-27T06:23:09.861Z"
   },
   {
    "duration": 84,
    "start_time": "2023-02-27T06:23:09.867Z"
   },
   {
    "duration": 17,
    "start_time": "2023-02-27T06:23:09.954Z"
   },
   {
    "duration": 7,
    "start_time": "2023-02-27T06:23:09.973Z"
   },
   {
    "duration": 16,
    "start_time": "2023-02-27T06:23:09.983Z"
   },
   {
    "duration": 5,
    "start_time": "2023-02-27T06:23:10.001Z"
   },
   {
    "duration": 63,
    "start_time": "2023-02-27T06:23:10.007Z"
   },
   {
    "duration": 5,
    "start_time": "2023-02-27T06:23:10.072Z"
   },
   {
    "duration": 21,
    "start_time": "2023-02-27T06:23:10.079Z"
   },
   {
    "duration": 48,
    "start_time": "2023-02-27T06:23:10.102Z"
   },
   {
    "duration": 15,
    "start_time": "2023-02-27T06:23:10.154Z"
   },
   {
    "duration": 13,
    "start_time": "2023-02-27T06:23:10.171Z"
   },
   {
    "duration": 25,
    "start_time": "2023-02-27T06:23:10.186Z"
   },
   {
    "duration": 44,
    "start_time": "2023-02-27T06:23:10.213Z"
   },
   {
    "duration": 0,
    "start_time": "2023-02-27T06:23:10.261Z"
   },
   {
    "duration": 0,
    "start_time": "2023-02-27T06:23:10.263Z"
   },
   {
    "duration": 0,
    "start_time": "2023-02-27T06:23:10.265Z"
   },
   {
    "duration": 0,
    "start_time": "2023-02-27T06:23:10.266Z"
   },
   {
    "duration": 0,
    "start_time": "2023-02-27T06:23:10.268Z"
   },
   {
    "duration": 0,
    "start_time": "2023-02-27T06:23:10.269Z"
   },
   {
    "duration": 0,
    "start_time": "2023-02-27T06:23:10.271Z"
   },
   {
    "duration": 0,
    "start_time": "2023-02-27T06:23:10.272Z"
   },
   {
    "duration": 0,
    "start_time": "2023-02-27T06:23:10.273Z"
   },
   {
    "duration": 0,
    "start_time": "2023-02-27T06:23:10.275Z"
   },
   {
    "duration": 0,
    "start_time": "2023-02-27T06:23:10.276Z"
   },
   {
    "duration": 0,
    "start_time": "2023-02-27T06:23:10.277Z"
   },
   {
    "duration": 0,
    "start_time": "2023-02-27T06:23:10.279Z"
   },
   {
    "duration": 0,
    "start_time": "2023-02-27T06:23:10.280Z"
   },
   {
    "duration": 0,
    "start_time": "2023-02-27T06:23:10.281Z"
   },
   {
    "duration": 0,
    "start_time": "2023-02-27T06:23:10.283Z"
   },
   {
    "duration": 0,
    "start_time": "2023-02-27T06:23:10.285Z"
   },
   {
    "duration": 0,
    "start_time": "2023-02-27T06:23:10.287Z"
   },
   {
    "duration": 0,
    "start_time": "2023-02-27T06:23:10.288Z"
   },
   {
    "duration": 0,
    "start_time": "2023-02-27T06:23:10.289Z"
   },
   {
    "duration": 0,
    "start_time": "2023-02-27T06:23:10.290Z"
   },
   {
    "duration": 0,
    "start_time": "2023-02-27T06:23:10.291Z"
   },
   {
    "duration": 0,
    "start_time": "2023-02-27T06:23:10.293Z"
   },
   {
    "duration": 0,
    "start_time": "2023-02-27T06:23:10.294Z"
   },
   {
    "duration": 0,
    "start_time": "2023-02-27T06:23:10.348Z"
   },
   {
    "duration": 0,
    "start_time": "2023-02-27T06:23:10.350Z"
   },
   {
    "duration": 0,
    "start_time": "2023-02-27T06:23:10.351Z"
   },
   {
    "duration": 0,
    "start_time": "2023-02-27T06:23:10.352Z"
   },
   {
    "duration": 0,
    "start_time": "2023-02-27T06:23:10.353Z"
   },
   {
    "duration": 0,
    "start_time": "2023-02-27T06:23:10.354Z"
   },
   {
    "duration": 0,
    "start_time": "2023-02-27T06:23:10.359Z"
   },
   {
    "duration": 0,
    "start_time": "2023-02-27T06:23:10.361Z"
   },
   {
    "duration": 0,
    "start_time": "2023-02-27T06:23:10.362Z"
   },
   {
    "duration": 0,
    "start_time": "2023-02-27T06:23:10.364Z"
   },
   {
    "duration": 0,
    "start_time": "2023-02-27T06:23:10.365Z"
   },
   {
    "duration": 0,
    "start_time": "2023-02-27T06:23:10.366Z"
   },
   {
    "duration": 0,
    "start_time": "2023-02-27T06:23:10.368Z"
   },
   {
    "duration": 0,
    "start_time": "2023-02-27T06:23:10.369Z"
   },
   {
    "duration": 0,
    "start_time": "2023-02-27T06:23:10.371Z"
   },
   {
    "duration": 0,
    "start_time": "2023-02-27T06:23:10.373Z"
   },
   {
    "duration": 0,
    "start_time": "2023-02-27T06:23:10.374Z"
   },
   {
    "duration": 0,
    "start_time": "2023-02-27T06:23:10.376Z"
   },
   {
    "duration": 0,
    "start_time": "2023-02-27T06:23:10.377Z"
   },
   {
    "duration": 0,
    "start_time": "2023-02-27T06:23:10.379Z"
   },
   {
    "duration": 0,
    "start_time": "2023-02-27T06:23:10.380Z"
   },
   {
    "duration": 0,
    "start_time": "2023-02-27T06:23:10.382Z"
   },
   {
    "duration": 0,
    "start_time": "2023-02-27T06:23:10.384Z"
   },
   {
    "duration": 0,
    "start_time": "2023-02-27T06:23:10.385Z"
   },
   {
    "duration": 1,
    "start_time": "2023-02-27T06:23:10.386Z"
   },
   {
    "duration": 0,
    "start_time": "2023-02-27T06:23:10.388Z"
   },
   {
    "duration": 0,
    "start_time": "2023-02-27T06:23:10.389Z"
   },
   {
    "duration": 0,
    "start_time": "2023-02-27T06:23:10.449Z"
   },
   {
    "duration": 0,
    "start_time": "2023-02-27T06:23:10.450Z"
   },
   {
    "duration": 0,
    "start_time": "2023-02-27T06:23:10.451Z"
   },
   {
    "duration": 0,
    "start_time": "2023-02-27T06:23:10.452Z"
   },
   {
    "duration": 0,
    "start_time": "2023-02-27T06:23:10.454Z"
   },
   {
    "duration": 16,
    "start_time": "2023-02-27T06:23:10.458Z"
   },
   {
    "duration": 0,
    "start_time": "2023-02-27T06:23:10.477Z"
   },
   {
    "duration": 0,
    "start_time": "2023-02-27T06:23:10.478Z"
   },
   {
    "duration": 0,
    "start_time": "2023-02-27T06:23:10.479Z"
   },
   {
    "duration": 0,
    "start_time": "2023-02-27T06:23:10.481Z"
   },
   {
    "duration": 3,
    "start_time": "2023-02-27T06:23:21.626Z"
   },
   {
    "duration": 1145,
    "start_time": "2023-02-27T06:23:32.969Z"
   },
   {
    "duration": 74,
    "start_time": "2023-02-27T06:23:35.387Z"
   },
   {
    "duration": 21,
    "start_time": "2023-02-27T06:23:38.219Z"
   },
   {
    "duration": 6,
    "start_time": "2023-02-27T06:23:43.520Z"
   },
   {
    "duration": 10,
    "start_time": "2023-02-27T06:23:47.346Z"
   },
   {
    "duration": 5,
    "start_time": "2023-02-27T06:23:49.981Z"
   },
   {
    "duration": 25,
    "start_time": "2023-02-27T06:23:51.650Z"
   },
   {
    "duration": 5,
    "start_time": "2023-02-27T06:23:53.617Z"
   },
   {
    "duration": 27,
    "start_time": "2023-02-27T06:23:56.461Z"
   },
   {
    "duration": 18,
    "start_time": "2023-02-27T06:23:59.073Z"
   },
   {
    "duration": 20,
    "start_time": "2023-02-27T06:24:01.519Z"
   },
   {
    "duration": 19,
    "start_time": "2023-02-27T06:24:05.782Z"
   },
   {
    "duration": 102,
    "start_time": "2023-02-27T06:24:08.799Z"
   },
   {
    "duration": 5,
    "start_time": "2023-02-27T06:24:17.054Z"
   },
   {
    "duration": 25,
    "start_time": "2023-02-27T06:24:36.235Z"
   },
   {
    "duration": 10,
    "start_time": "2023-02-27T06:24:38.577Z"
   },
   {
    "duration": 16,
    "start_time": "2023-02-27T06:24:39.949Z"
   },
   {
    "duration": 14,
    "start_time": "2023-02-27T06:24:41.594Z"
   },
   {
    "duration": 7,
    "start_time": "2023-02-27T06:24:43.575Z"
   },
   {
    "duration": 15,
    "start_time": "2023-02-27T06:24:45.159Z"
   },
   {
    "duration": 7,
    "start_time": "2023-02-27T06:24:47.232Z"
   },
   {
    "duration": 14,
    "start_time": "2023-02-27T06:24:48.624Z"
   },
   {
    "duration": 196,
    "start_time": "2023-02-27T06:24:57.429Z"
   },
   {
    "duration": 412,
    "start_time": "2023-02-27T06:25:02.211Z"
   },
   {
    "duration": 13,
    "start_time": "2023-02-27T06:25:05.786Z"
   },
   {
    "duration": 162,
    "start_time": "2023-02-27T06:25:07.502Z"
   },
   {
    "duration": 21,
    "start_time": "2023-02-27T06:25:11.165Z"
   },
   {
    "duration": 156,
    "start_time": "2023-02-27T06:25:14.337Z"
   },
   {
    "duration": 146,
    "start_time": "2023-02-27T06:25:16.525Z"
   },
   {
    "duration": 171,
    "start_time": "2023-02-27T06:25:19.265Z"
   },
   {
    "duration": 154,
    "start_time": "2023-02-27T06:25:21.497Z"
   },
   {
    "duration": 253,
    "start_time": "2023-02-27T06:25:23.318Z"
   },
   {
    "duration": 24,
    "start_time": "2023-02-27T06:25:26.723Z"
   },
   {
    "duration": 277,
    "start_time": "2023-02-27T06:25:29.378Z"
   },
   {
    "duration": 250,
    "start_time": "2023-02-27T06:25:31.975Z"
   },
   {
    "duration": 197,
    "start_time": "2023-02-27T06:25:33.871Z"
   },
   {
    "duration": 172,
    "start_time": "2023-02-27T06:25:35.086Z"
   },
   {
    "duration": 188,
    "start_time": "2023-02-27T06:25:37.144Z"
   },
   {
    "duration": 182,
    "start_time": "2023-02-27T06:25:38.120Z"
   },
   {
    "duration": 185,
    "start_time": "2023-02-27T06:25:39.629Z"
   },
   {
    "duration": 182,
    "start_time": "2023-02-27T06:25:40.953Z"
   },
   {
    "duration": 201,
    "start_time": "2023-02-27T06:25:42.723Z"
   },
   {
    "duration": 180,
    "start_time": "2023-02-27T06:25:44.127Z"
   },
   {
    "duration": 212,
    "start_time": "2023-02-27T06:25:45.582Z"
   },
   {
    "duration": 422,
    "start_time": "2023-02-27T06:25:50.095Z"
   },
   {
    "duration": 324,
    "start_time": "2023-02-27T06:25:53.758Z"
   },
   {
    "duration": 179,
    "start_time": "2023-02-27T06:26:00.076Z"
   },
   {
    "duration": 10,
    "start_time": "2023-02-27T06:26:02.291Z"
   },
   {
    "duration": 172,
    "start_time": "2023-02-27T06:26:04.040Z"
   },
   {
    "duration": 7,
    "start_time": "2023-02-27T06:26:06.470Z"
   },
   {
    "duration": 155,
    "start_time": "2023-02-27T06:26:10.934Z"
   },
   {
    "duration": 5,
    "start_time": "2023-02-27T06:26:13.183Z"
   },
   {
    "duration": 160,
    "start_time": "2023-02-27T06:26:14.234Z"
   },
   {
    "duration": 5,
    "start_time": "2023-02-27T06:26:16.267Z"
   },
   {
    "duration": 176,
    "start_time": "2023-02-27T06:26:17.812Z"
   },
   {
    "duration": 5,
    "start_time": "2023-02-27T06:26:18.496Z"
   },
   {
    "duration": 162,
    "start_time": "2023-02-27T06:26:20.110Z"
   },
   {
    "duration": 5,
    "start_time": "2023-02-27T06:26:20.946Z"
   },
   {
    "duration": 179,
    "start_time": "2023-02-27T06:26:23.046Z"
   },
   {
    "duration": 5,
    "start_time": "2023-02-27T06:26:24.052Z"
   },
   {
    "duration": 266,
    "start_time": "2023-02-27T06:26:26.391Z"
   },
   {
    "duration": 7,
    "start_time": "2023-02-27T06:26:28.852Z"
   },
   {
    "duration": 215,
    "start_time": "2023-02-27T06:26:37.621Z"
   },
   {
    "duration": 210,
    "start_time": "2023-02-27T06:26:42.317Z"
   },
   {
    "duration": 181,
    "start_time": "2023-02-27T06:26:48.361Z"
   },
   {
    "duration": 231,
    "start_time": "2023-02-27T06:26:50.337Z"
   },
   {
    "duration": 165,
    "start_time": "2023-02-27T06:26:53.589Z"
   },
   {
    "duration": 215,
    "start_time": "2023-02-27T06:28:55.862Z"
   },
   {
    "duration": 250,
    "start_time": "2023-02-27T06:31:36.571Z"
   },
   {
    "duration": 176,
    "start_time": "2023-02-27T06:34:41.208Z"
   },
   {
    "duration": 201,
    "start_time": "2023-02-27T06:36:06.933Z"
   },
   {
    "duration": 297,
    "start_time": "2023-02-27T06:39:39.138Z"
   },
   {
    "duration": 294,
    "start_time": "2023-02-27T06:43:16.705Z"
   },
   {
    "duration": 9,
    "start_time": "2023-02-27T07:06:19.717Z"
   },
   {
    "duration": 15,
    "start_time": "2023-02-27T07:07:22.775Z"
   },
   {
    "duration": 12,
    "start_time": "2023-02-27T07:08:00.298Z"
   },
   {
    "duration": 16,
    "start_time": "2023-02-27T07:08:37.998Z"
   },
   {
    "duration": 1354,
    "start_time": "2023-02-27T07:16:10.623Z"
   },
   {
    "duration": 12,
    "start_time": "2023-02-27T07:24:12.815Z"
   },
   {
    "duration": 15,
    "start_time": "2023-02-27T07:24:41.407Z"
   },
   {
    "duration": 12,
    "start_time": "2023-02-27T07:26:28.064Z"
   },
   {
    "duration": 8,
    "start_time": "2023-02-27T07:26:45.074Z"
   },
   {
    "duration": 8,
    "start_time": "2023-02-27T07:26:46.718Z"
   },
   {
    "duration": 229,
    "start_time": "2023-02-27T07:39:41.195Z"
   },
   {
    "duration": 1352,
    "start_time": "2023-02-27T11:20:34.031Z"
   },
   {
    "duration": 98,
    "start_time": "2023-02-27T11:20:35.385Z"
   },
   {
    "duration": 21,
    "start_time": "2023-02-27T11:20:35.485Z"
   },
   {
    "duration": 53,
    "start_time": "2023-02-27T11:20:35.509Z"
   },
   {
    "duration": 19,
    "start_time": "2023-02-27T11:20:35.565Z"
   },
   {
    "duration": 49,
    "start_time": "2023-02-27T11:20:35.586Z"
   },
   {
    "duration": 53,
    "start_time": "2023-02-27T11:20:35.639Z"
   },
   {
    "duration": 6,
    "start_time": "2023-02-27T11:20:35.694Z"
   },
   {
    "duration": 48,
    "start_time": "2023-02-27T11:20:35.702Z"
   },
   {
    "duration": 22,
    "start_time": "2023-02-27T11:20:35.756Z"
   },
   {
    "duration": 17,
    "start_time": "2023-02-27T11:20:35.781Z"
   },
   {
    "duration": 3,
    "start_time": "2023-02-27T11:20:35.801Z"
   },
   {
    "duration": 37,
    "start_time": "2023-02-27T11:20:35.806Z"
   },
   {
    "duration": 12,
    "start_time": "2023-02-27T11:20:35.845Z"
   },
   {
    "duration": 33,
    "start_time": "2023-02-27T11:20:35.860Z"
   },
   {
    "duration": 12,
    "start_time": "2023-02-27T11:20:35.897Z"
   },
   {
    "duration": 29,
    "start_time": "2023-02-27T11:20:35.911Z"
   },
   {
    "duration": 43,
    "start_time": "2023-02-27T11:20:35.942Z"
   },
   {
    "duration": 7,
    "start_time": "2023-02-27T11:20:35.987Z"
   },
   {
    "duration": 40,
    "start_time": "2023-02-27T11:20:35.996Z"
   },
   {
    "duration": 34,
    "start_time": "2023-02-27T11:20:36.042Z"
   },
   {
    "duration": 22,
    "start_time": "2023-02-27T11:20:36.078Z"
   },
   {
    "duration": 256,
    "start_time": "2023-02-27T11:20:36.102Z"
   },
   {
    "duration": 383,
    "start_time": "2023-02-27T11:20:36.360Z"
   },
   {
    "duration": 20,
    "start_time": "2023-02-27T11:20:36.748Z"
   },
   {
    "duration": 6,
    "start_time": "2023-02-27T11:20:36.771Z"
   },
   {
    "duration": 126,
    "start_time": "2023-02-27T11:20:41.714Z"
   },
   {
    "duration": 36,
    "start_time": "2023-02-27T11:20:59.274Z"
   },
   {
    "duration": 31,
    "start_time": "2023-02-27T11:21:27.892Z"
   },
   {
    "duration": 18,
    "start_time": "2023-02-27T11:21:47.763Z"
   },
   {
    "duration": 45,
    "start_time": "2023-02-27T11:21:48.900Z"
   },
   {
    "duration": 6,
    "start_time": "2023-02-27T11:21:59.194Z"
   },
   {
    "duration": 29,
    "start_time": "2023-02-27T11:22:27.298Z"
   },
   {
    "duration": 53,
    "start_time": "2023-02-27T11:23:14.496Z"
   },
   {
    "duration": 31,
    "start_time": "2023-02-27T11:23:19.462Z"
   },
   {
    "duration": 31,
    "start_time": "2023-02-27T11:23:45.524Z"
   },
   {
    "duration": 46,
    "start_time": "2023-02-27T11:23:54.234Z"
   },
   {
    "duration": 3,
    "start_time": "2023-02-27T11:24:16.515Z"
   },
   {
    "duration": 26,
    "start_time": "2023-02-27T11:24:19.784Z"
   },
   {
    "duration": 26,
    "start_time": "2023-02-27T11:24:25.269Z"
   },
   {
    "duration": 16,
    "start_time": "2023-02-27T11:24:32.568Z"
   },
   {
    "duration": 56,
    "start_time": "2023-02-27T11:24:57.496Z"
   },
   {
    "duration": 43,
    "start_time": "2023-02-27T11:25:07.134Z"
   },
   {
    "duration": 36,
    "start_time": "2023-02-27T11:25:12.506Z"
   },
   {
    "duration": 6,
    "start_time": "2023-02-27T11:25:27.354Z"
   },
   {
    "duration": 12,
    "start_time": "2023-02-27T11:25:39.477Z"
   },
   {
    "duration": 10,
    "start_time": "2023-02-27T11:25:46.367Z"
   },
   {
    "duration": 17,
    "start_time": "2023-02-27T11:26:04.785Z"
   },
   {
    "duration": 17,
    "start_time": "2023-02-27T11:26:11.554Z"
   },
   {
    "duration": 4,
    "start_time": "2023-02-27T11:26:23.237Z"
   },
   {
    "duration": 508,
    "start_time": "2023-02-27T11:27:04.104Z"
   },
   {
    "duration": 11,
    "start_time": "2023-02-27T11:30:25.916Z"
   },
   {
    "duration": 2,
    "start_time": "2023-02-27T11:30:32.933Z"
   },
   {
    "duration": 126,
    "start_time": "2023-02-27T11:30:32.947Z"
   },
   {
    "duration": 21,
    "start_time": "2023-02-27T11:30:33.075Z"
   },
   {
    "duration": 96,
    "start_time": "2023-02-27T11:30:33.098Z"
   },
   {
    "duration": 39,
    "start_time": "2023-02-27T11:30:33.197Z"
   },
   {
    "duration": 82,
    "start_time": "2023-02-27T11:30:33.239Z"
   },
   {
    "duration": 75,
    "start_time": "2023-02-27T11:30:33.323Z"
   },
   {
    "duration": 80,
    "start_time": "2023-02-27T11:30:33.400Z"
   },
   {
    "duration": 41,
    "start_time": "2023-02-27T11:30:33.482Z"
   },
   {
    "duration": 67,
    "start_time": "2023-02-27T11:30:33.525Z"
   },
   {
    "duration": 59,
    "start_time": "2023-02-27T11:30:33.595Z"
   },
   {
    "duration": 59,
    "start_time": "2023-02-27T11:30:33.655Z"
   },
   {
    "duration": 75,
    "start_time": "2023-02-27T11:30:33.716Z"
   },
   {
    "duration": 13,
    "start_time": "2023-02-27T11:30:33.793Z"
   },
   {
    "duration": 73,
    "start_time": "2023-02-27T11:30:33.808Z"
   },
   {
    "duration": 41,
    "start_time": "2023-02-27T11:30:33.883Z"
   },
   {
    "duration": 32,
    "start_time": "2023-02-27T11:30:33.926Z"
   },
   {
    "duration": 48,
    "start_time": "2023-02-27T11:30:33.961Z"
   },
   {
    "duration": 29,
    "start_time": "2023-02-27T11:30:34.011Z"
   },
   {
    "duration": 74,
    "start_time": "2023-02-27T11:30:34.042Z"
   },
   {
    "duration": 97,
    "start_time": "2023-02-27T11:30:34.118Z"
   },
   {
    "duration": 97,
    "start_time": "2023-02-27T11:30:34.217Z"
   },
   {
    "duration": 268,
    "start_time": "2023-02-27T11:30:34.316Z"
   },
   {
    "duration": 362,
    "start_time": "2023-02-27T11:30:34.586Z"
   },
   {
    "duration": 18,
    "start_time": "2023-02-27T11:30:34.951Z"
   },
   {
    "duration": 635,
    "start_time": "2023-02-27T11:30:34.974Z"
   },
   {
    "duration": 13,
    "start_time": "2023-02-27T11:30:35.611Z"
   },
   {
    "duration": 209,
    "start_time": "2023-02-27T11:30:35.641Z"
   },
   {
    "duration": 25,
    "start_time": "2023-02-27T11:30:35.858Z"
   },
   {
    "duration": 225,
    "start_time": "2023-02-27T11:30:35.886Z"
   },
   {
    "duration": 182,
    "start_time": "2023-02-27T11:30:36.113Z"
   },
   {
    "duration": 205,
    "start_time": "2023-02-27T11:30:36.296Z"
   },
   {
    "duration": 184,
    "start_time": "2023-02-27T11:30:36.502Z"
   },
   {
    "duration": 206,
    "start_time": "2023-02-27T11:30:36.687Z"
   },
   {
    "duration": 20,
    "start_time": "2023-02-27T11:30:36.895Z"
   },
   {
    "duration": 261,
    "start_time": "2023-02-27T11:30:36.917Z"
   },
   {
    "duration": 220,
    "start_time": "2023-02-27T11:30:37.180Z"
   },
   {
    "duration": 240,
    "start_time": "2023-02-27T11:30:37.402Z"
   },
   {
    "duration": 193,
    "start_time": "2023-02-27T11:30:37.644Z"
   },
   {
    "duration": 353,
    "start_time": "2023-02-27T11:30:37.839Z"
   },
   {
    "duration": 206,
    "start_time": "2023-02-27T11:30:38.194Z"
   },
   {
    "duration": 229,
    "start_time": "2023-02-27T11:30:38.402Z"
   },
   {
    "duration": 245,
    "start_time": "2023-02-27T11:30:38.633Z"
   },
   {
    "duration": 249,
    "start_time": "2023-02-27T11:30:38.880Z"
   },
   {
    "duration": 242,
    "start_time": "2023-02-27T11:30:39.131Z"
   },
   {
    "duration": 225,
    "start_time": "2023-02-27T11:30:39.375Z"
   },
   {
    "duration": 331,
    "start_time": "2023-02-27T11:30:39.602Z"
   },
   {
    "duration": 345,
    "start_time": "2023-02-27T11:31:31.216Z"
   },
   {
    "duration": 1302,
    "start_time": "2023-02-27T11:33:42.217Z"
   },
   {
    "duration": 81,
    "start_time": "2023-02-27T11:33:43.521Z"
   },
   {
    "duration": 20,
    "start_time": "2023-02-27T11:33:43.604Z"
   },
   {
    "duration": 5,
    "start_time": "2023-02-27T11:33:43.626Z"
   },
   {
    "duration": 24,
    "start_time": "2023-02-27T11:33:43.633Z"
   },
   {
    "duration": 7,
    "start_time": "2023-02-27T11:33:43.659Z"
   },
   {
    "duration": 38,
    "start_time": "2023-02-27T11:33:43.667Z"
   },
   {
    "duration": 4,
    "start_time": "2023-02-27T11:33:43.707Z"
   },
   {
    "duration": 33,
    "start_time": "2023-02-27T11:33:43.712Z"
   },
   {
    "duration": 17,
    "start_time": "2023-02-27T11:33:43.748Z"
   },
   {
    "duration": 15,
    "start_time": "2023-02-27T11:33:43.768Z"
   },
   {
    "duration": 4,
    "start_time": "2023-02-27T11:33:43.784Z"
   },
   {
    "duration": 141,
    "start_time": "2023-02-27T11:33:43.790Z"
   },
   {
    "duration": 19,
    "start_time": "2023-02-27T11:33:43.933Z"
   },
   {
    "duration": 49,
    "start_time": "2023-02-27T11:33:43.954Z"
   },
   {
    "duration": 60,
    "start_time": "2023-02-27T11:33:44.005Z"
   },
   {
    "duration": 20,
    "start_time": "2023-02-27T11:33:44.066Z"
   },
   {
    "duration": 13,
    "start_time": "2023-02-27T11:33:44.088Z"
   },
   {
    "duration": 7,
    "start_time": "2023-02-27T11:33:44.103Z"
   },
   {
    "duration": 17,
    "start_time": "2023-02-27T11:33:44.112Z"
   },
   {
    "duration": 29,
    "start_time": "2023-02-27T11:33:44.131Z"
   },
   {
    "duration": 14,
    "start_time": "2023-02-27T11:33:44.162Z"
   },
   {
    "duration": 214,
    "start_time": "2023-02-27T11:33:44.177Z"
   },
   {
    "duration": 379,
    "start_time": "2023-02-27T11:33:44.393Z"
   },
   {
    "duration": 13,
    "start_time": "2023-02-27T11:33:44.774Z"
   },
   {
    "duration": 629,
    "start_time": "2023-02-27T11:33:44.789Z"
   },
   {
    "duration": 24,
    "start_time": "2023-02-27T11:33:45.420Z"
   },
   {
    "duration": 191,
    "start_time": "2023-02-27T11:33:45.451Z"
   },
   {
    "duration": 29,
    "start_time": "2023-02-27T11:33:45.644Z"
   },
   {
    "duration": 185,
    "start_time": "2023-02-27T11:33:45.675Z"
   },
   {
    "duration": 156,
    "start_time": "2023-02-27T11:33:45.862Z"
   },
   {
    "duration": 188,
    "start_time": "2023-02-27T11:33:46.020Z"
   },
   {
    "duration": 256,
    "start_time": "2023-02-27T11:33:46.210Z"
   },
   {
    "duration": 204,
    "start_time": "2023-02-27T11:33:46.468Z"
   },
   {
    "duration": 20,
    "start_time": "2023-02-27T11:33:46.674Z"
   },
   {
    "duration": 252,
    "start_time": "2023-02-27T11:33:46.696Z"
   },
   {
    "duration": 216,
    "start_time": "2023-02-27T11:33:46.954Z"
   },
   {
    "duration": 267,
    "start_time": "2023-02-27T11:33:47.173Z"
   },
   {
    "duration": 223,
    "start_time": "2023-02-27T11:33:47.445Z"
   },
   {
    "duration": 213,
    "start_time": "2023-02-27T11:33:47.671Z"
   },
   {
    "duration": 213,
    "start_time": "2023-02-27T11:33:47.886Z"
   },
   {
    "duration": 246,
    "start_time": "2023-02-27T11:33:48.101Z"
   },
   {
    "duration": 216,
    "start_time": "2023-02-27T11:33:48.353Z"
   },
   {
    "duration": 230,
    "start_time": "2023-02-27T11:33:48.571Z"
   },
   {
    "duration": 342,
    "start_time": "2023-02-27T11:33:48.803Z"
   },
   {
    "duration": 224,
    "start_time": "2023-02-27T11:33:49.146Z"
   },
   {
    "duration": 322,
    "start_time": "2023-02-27T11:33:49.372Z"
   },
   {
    "duration": 374,
    "start_time": "2023-02-27T11:33:49.696Z"
   },
   {
    "duration": 373,
    "start_time": "2023-02-27T11:33:50.071Z"
   },
   {
    "duration": 190,
    "start_time": "2023-02-27T11:33:50.446Z"
   },
   {
    "duration": 24,
    "start_time": "2023-02-27T11:33:50.638Z"
   },
   {
    "duration": 193,
    "start_time": "2023-02-27T11:33:50.663Z"
   },
   {
    "duration": 9,
    "start_time": "2023-02-27T11:33:50.858Z"
   },
   {
    "duration": 174,
    "start_time": "2023-02-27T11:33:50.870Z"
   },
   {
    "duration": 7,
    "start_time": "2023-02-27T11:33:51.046Z"
   },
   {
    "duration": 194,
    "start_time": "2023-02-27T11:33:51.057Z"
   },
   {
    "duration": 10,
    "start_time": "2023-02-27T11:33:51.258Z"
   },
   {
    "duration": 299,
    "start_time": "2023-02-27T11:33:51.269Z"
   },
   {
    "duration": 5,
    "start_time": "2023-02-27T11:33:51.570Z"
   },
   {
    "duration": 214,
    "start_time": "2023-02-27T11:33:51.576Z"
   },
   {
    "duration": 5,
    "start_time": "2023-02-27T11:33:51.792Z"
   },
   {
    "duration": 208,
    "start_time": "2023-02-27T11:33:51.799Z"
   },
   {
    "duration": 6,
    "start_time": "2023-02-27T11:33:52.008Z"
   },
   {
    "duration": 204,
    "start_time": "2023-02-27T11:33:52.016Z"
   },
   {
    "duration": 5,
    "start_time": "2023-02-27T11:33:52.222Z"
   },
   {
    "duration": 284,
    "start_time": "2023-02-27T11:33:52.228Z"
   },
   {
    "duration": 300,
    "start_time": "2023-02-27T11:33:52.514Z"
   },
   {
    "duration": 246,
    "start_time": "2023-02-27T11:33:52.816Z"
   },
   {
    "duration": 244,
    "start_time": "2023-02-27T11:33:53.065Z"
   },
   {
    "duration": 195,
    "start_time": "2023-02-27T11:33:53.311Z"
   },
   {
    "duration": 227,
    "start_time": "2023-02-27T11:33:53.508Z"
   },
   {
    "duration": 257,
    "start_time": "2023-02-27T11:33:53.737Z"
   },
   {
    "duration": 290,
    "start_time": "2023-02-27T11:33:53.995Z"
   },
   {
    "duration": 226,
    "start_time": "2023-02-27T11:33:54.286Z"
   },
   {
    "duration": 260,
    "start_time": "2023-02-27T11:33:54.514Z"
   },
   {
    "duration": 202,
    "start_time": "2023-02-27T11:33:54.776Z"
   },
   {
    "duration": 7,
    "start_time": "2023-02-27T11:33:54.980Z"
   },
   {
    "duration": 14,
    "start_time": "2023-02-27T11:33:54.988Z"
   },
   {
    "duration": 14,
    "start_time": "2023-02-27T11:33:55.004Z"
   }
  ],
  "kernelspec": {
   "display_name": "Python 3 (ipykernel)",
   "language": "python",
   "name": "python3"
  },
  "language_info": {
   "codemirror_mode": {
    "name": "ipython",
    "version": 3
   },
   "file_extension": ".py",
   "mimetype": "text/x-python",
   "name": "python",
   "nbconvert_exporter": "python",
   "pygments_lexer": "ipython3",
   "version": "3.9.5"
  },
  "toc": {
   "base_numbering": 1,
   "nav_menu": {},
   "number_sections": true,
   "sideBar": true,
   "skip_h1_title": true,
   "title_cell": "Table of Contents",
   "title_sidebar": "Contents",
   "toc_cell": false,
   "toc_position": {
    "height": "calc(100% - 180px)",
    "left": "10px",
    "top": "150px",
    "width": "165px"
   },
   "toc_section_display": true,
   "toc_window_display": true
  }
 },
 "nbformat": 4,
 "nbformat_minor": 2
}
